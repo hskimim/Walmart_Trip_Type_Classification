{
 "cells": [
  {
   "cell_type": "code",
   "execution_count": 1,
   "metadata": {},
   "outputs": [
    {
     "name": "stderr",
     "output_type": "stream",
     "text": [
      "/home/hskimim/anaconda3/lib/python3.6/importlib/_bootstrap.py:219: RuntimeWarning: numpy.dtype size changed, may indicate binary incompatibility. Expected 96, got 88\n",
      "  return f(*args, **kwds)\n",
      "/home/hskimim/anaconda3/lib/python3.6/importlib/_bootstrap.py:219: RuntimeWarning: numpy.dtype size changed, may indicate binary incompatibility. Expected 96, got 88\n",
      "  return f(*args, **kwds)\n",
      "/home/hskimim/anaconda3/lib/python3.6/importlib/_bootstrap.py:219: RuntimeWarning: numpy.dtype size changed, may indicate binary incompatibility. Expected 96, got 88\n",
      "  return f(*args, **kwds)\n",
      "/home/hskimim/anaconda3/lib/python3.6/importlib/_bootstrap.py:219: RuntimeWarning: numpy.dtype size changed, may indicate binary incompatibility. Expected 96, got 88\n",
      "  return f(*args, **kwds)\n"
     ]
    }
   ],
   "source": [
    "import numpy as np\n",
    "import pandas as pd\n",
    "import matplotlib.pylab as plt\n",
    "import seaborn as sns\n",
    "import warnings\n",
    "warnings.filterwarnings('ignore')\n",
    "from sklearn.model_selection import train_test_split , cross_val_score , KFold\n",
    "from sklearn.metrics import classification_report,confusion_matrix,accuracy_score\n",
    "from sklearn.linear_model import LogisticRegression\n",
    "from sklearn.discriminant_analysis import LinearDiscriminantAnalysis , QuadraticDiscriminantAnalysis\n",
    "from sklearn.naive_bayes import GaussianNB\n",
    "from sklearn.tree import DecisionTreeClassifier\n",
    "from sklearn.ensemble import RandomForestClassifier ,BaggingClassifier , VotingClassifier , AdaBoostClassifier , GradientBoostingClassifier , ExtraTreesClassifier\n",
    "from sklearn.svm import SVC\n",
    "from sklearn.metrics import classification_report, confusion_matrix , accuracy_score\n",
    "from sklearn.model_selection import KFold, cross_val_score , GridSearchCV\n",
    "import xgboost"
   ]
  },
  {
   "cell_type": "code",
   "execution_count": 2,
   "metadata": {
    "scrolled": true
   },
   "outputs": [
    {
     "data": {
      "text/html": [
       "<div>\n",
       "<style scoped>\n",
       "    .dataframe tbody tr th:only-of-type {\n",
       "        vertical-align: middle;\n",
       "    }\n",
       "\n",
       "    .dataframe tbody tr th {\n",
       "        vertical-align: top;\n",
       "    }\n",
       "\n",
       "    .dataframe thead th {\n",
       "        text-align: right;\n",
       "    }\n",
       "</style>\n",
       "<table border=\"1\" class=\"dataframe\">\n",
       "  <thead>\n",
       "    <tr style=\"text-align: right;\">\n",
       "      <th></th>\n",
       "      <th>VisitNumber</th>\n",
       "      <th>TripType</th>\n",
       "      <th>Monday</th>\n",
       "      <th>Tuesday</th>\n",
       "      <th>Wednesday</th>\n",
       "      <th>Thursday</th>\n",
       "      <th>Friday</th>\n",
       "      <th>Saturday</th>\n",
       "      <th>Sunday</th>\n",
       "      <th>Return_bin</th>\n",
       "      <th>...</th>\n",
       "      <th>SEAFOOD</th>\n",
       "      <th>SEASONAL</th>\n",
       "      <th>SERVICE DELI</th>\n",
       "      <th>SHEER HOSIERY</th>\n",
       "      <th>SHOES</th>\n",
       "      <th>SLEEPWEAR/FOUNDATIONS</th>\n",
       "      <th>SPORTING GOODS</th>\n",
       "      <th>SWIMWEAR/OUTERWEAR</th>\n",
       "      <th>TOYS</th>\n",
       "      <th>WIRELESS</th>\n",
       "    </tr>\n",
       "  </thead>\n",
       "  <tbody>\n",
       "    <tr>\n",
       "      <th>95669</th>\n",
       "      <td>191343</td>\n",
       "      <td>25</td>\n",
       "      <td>0</td>\n",
       "      <td>0</td>\n",
       "      <td>0</td>\n",
       "      <td>0</td>\n",
       "      <td>0</td>\n",
       "      <td>0</td>\n",
       "      <td>1</td>\n",
       "      <td>0.0</td>\n",
       "      <td>...</td>\n",
       "      <td>0</td>\n",
       "      <td>0</td>\n",
       "      <td>0</td>\n",
       "      <td>0</td>\n",
       "      <td>0</td>\n",
       "      <td>0</td>\n",
       "      <td>0</td>\n",
       "      <td>0</td>\n",
       "      <td>0</td>\n",
       "      <td>0</td>\n",
       "    </tr>\n",
       "    <tr>\n",
       "      <th>95670</th>\n",
       "      <td>191344</td>\n",
       "      <td>22</td>\n",
       "      <td>0</td>\n",
       "      <td>0</td>\n",
       "      <td>0</td>\n",
       "      <td>0</td>\n",
       "      <td>0</td>\n",
       "      <td>0</td>\n",
       "      <td>1</td>\n",
       "      <td>0.0</td>\n",
       "      <td>...</td>\n",
       "      <td>0</td>\n",
       "      <td>0</td>\n",
       "      <td>0</td>\n",
       "      <td>0</td>\n",
       "      <td>0</td>\n",
       "      <td>0</td>\n",
       "      <td>0</td>\n",
       "      <td>0</td>\n",
       "      <td>0</td>\n",
       "      <td>1</td>\n",
       "    </tr>\n",
       "    <tr>\n",
       "      <th>95671</th>\n",
       "      <td>191345</td>\n",
       "      <td>39</td>\n",
       "      <td>0</td>\n",
       "      <td>0</td>\n",
       "      <td>0</td>\n",
       "      <td>0</td>\n",
       "      <td>0</td>\n",
       "      <td>0</td>\n",
       "      <td>1</td>\n",
       "      <td>0.0</td>\n",
       "      <td>...</td>\n",
       "      <td>0</td>\n",
       "      <td>0</td>\n",
       "      <td>0</td>\n",
       "      <td>0</td>\n",
       "      <td>0</td>\n",
       "      <td>0</td>\n",
       "      <td>0</td>\n",
       "      <td>0</td>\n",
       "      <td>0</td>\n",
       "      <td>0</td>\n",
       "    </tr>\n",
       "    <tr>\n",
       "      <th>95672</th>\n",
       "      <td>191346</td>\n",
       "      <td>39</td>\n",
       "      <td>0</td>\n",
       "      <td>0</td>\n",
       "      <td>0</td>\n",
       "      <td>0</td>\n",
       "      <td>0</td>\n",
       "      <td>0</td>\n",
       "      <td>1</td>\n",
       "      <td>0.0</td>\n",
       "      <td>...</td>\n",
       "      <td>0</td>\n",
       "      <td>0</td>\n",
       "      <td>0</td>\n",
       "      <td>0</td>\n",
       "      <td>0</td>\n",
       "      <td>0</td>\n",
       "      <td>0</td>\n",
       "      <td>0</td>\n",
       "      <td>0</td>\n",
       "      <td>0</td>\n",
       "    </tr>\n",
       "    <tr>\n",
       "      <th>95673</th>\n",
       "      <td>191347</td>\n",
       "      <td>8</td>\n",
       "      <td>0</td>\n",
       "      <td>0</td>\n",
       "      <td>0</td>\n",
       "      <td>0</td>\n",
       "      <td>0</td>\n",
       "      <td>0</td>\n",
       "      <td>1</td>\n",
       "      <td>0.0</td>\n",
       "      <td>...</td>\n",
       "      <td>0</td>\n",
       "      <td>0</td>\n",
       "      <td>0</td>\n",
       "      <td>0</td>\n",
       "      <td>0</td>\n",
       "      <td>0</td>\n",
       "      <td>0</td>\n",
       "      <td>0</td>\n",
       "      <td>0</td>\n",
       "      <td>0</td>\n",
       "    </tr>\n",
       "  </tbody>\n",
       "</table>\n",
       "<p>5 rows × 78 columns</p>\n",
       "</div>"
      ],
      "text/plain": [
       "       VisitNumber  TripType  Monday  Tuesday  Wednesday  Thursday  Friday  \\\n",
       "95669       191343        25       0        0          0         0       0   \n",
       "95670       191344        22       0        0          0         0       0   \n",
       "95671       191345        39       0        0          0         0       0   \n",
       "95672       191346        39       0        0          0         0       0   \n",
       "95673       191347         8       0        0          0         0       0   \n",
       "\n",
       "       Saturday  Sunday  Return_bin    ...     SEAFOOD  SEASONAL  \\\n",
       "95669         0       1         0.0    ...           0         0   \n",
       "95670         0       1         0.0    ...           0         0   \n",
       "95671         0       1         0.0    ...           0         0   \n",
       "95672         0       1         0.0    ...           0         0   \n",
       "95673         0       1         0.0    ...           0         0   \n",
       "\n",
       "       SERVICE DELI  SHEER HOSIERY  SHOES  SLEEPWEAR/FOUNDATIONS  \\\n",
       "95669             0              0      0                      0   \n",
       "95670             0              0      0                      0   \n",
       "95671             0              0      0                      0   \n",
       "95672             0              0      0                      0   \n",
       "95673             0              0      0                      0   \n",
       "\n",
       "       SPORTING GOODS  SWIMWEAR/OUTERWEAR  TOYS  WIRELESS  \n",
       "95669               0                   0     0         0  \n",
       "95670               0                   0     0         1  \n",
       "95671               0                   0     0         0  \n",
       "95672               0                   0     0         0  \n",
       "95673               0                   0     0         0  \n",
       "\n",
       "[5 rows x 78 columns]"
      ]
     },
     "execution_count": 2,
     "metadata": {},
     "output_type": "execute_result"
    }
   ],
   "source": [
    "train_df = pd.read_csv('train_new_2v.csv')\n",
    "train_df.tail()"
   ]
  },
  {
   "cell_type": "code",
   "execution_count": 3,
   "metadata": {},
   "outputs": [
    {
     "data": {
      "text/html": [
       "<div>\n",
       "<style scoped>\n",
       "    .dataframe tbody tr th:only-of-type {\n",
       "        vertical-align: middle;\n",
       "    }\n",
       "\n",
       "    .dataframe tbody tr th {\n",
       "        vertical-align: top;\n",
       "    }\n",
       "\n",
       "    .dataframe thead th {\n",
       "        text-align: right;\n",
       "    }\n",
       "</style>\n",
       "<table border=\"1\" class=\"dataframe\">\n",
       "  <thead>\n",
       "    <tr style=\"text-align: right;\">\n",
       "      <th></th>\n",
       "      <th>TripType</th>\n",
       "      <th>Monday</th>\n",
       "      <th>Tuesday</th>\n",
       "      <th>Wednesday</th>\n",
       "      <th>Thursday</th>\n",
       "      <th>Friday</th>\n",
       "      <th>Saturday</th>\n",
       "      <th>Sunday</th>\n",
       "      <th>Return_bin</th>\n",
       "      <th>1-HR PHOTO</th>\n",
       "      <th>...</th>\n",
       "      <th>SEAFOOD</th>\n",
       "      <th>SEASONAL</th>\n",
       "      <th>SERVICE DELI</th>\n",
       "      <th>SHEER HOSIERY</th>\n",
       "      <th>SHOES</th>\n",
       "      <th>SLEEPWEAR/FOUNDATIONS</th>\n",
       "      <th>SPORTING GOODS</th>\n",
       "      <th>SWIMWEAR/OUTERWEAR</th>\n",
       "      <th>TOYS</th>\n",
       "      <th>WIRELESS</th>\n",
       "    </tr>\n",
       "    <tr>\n",
       "      <th>VisitNumber</th>\n",
       "      <th></th>\n",
       "      <th></th>\n",
       "      <th></th>\n",
       "      <th></th>\n",
       "      <th></th>\n",
       "      <th></th>\n",
       "      <th></th>\n",
       "      <th></th>\n",
       "      <th></th>\n",
       "      <th></th>\n",
       "      <th></th>\n",
       "      <th></th>\n",
       "      <th></th>\n",
       "      <th></th>\n",
       "      <th></th>\n",
       "      <th></th>\n",
       "      <th></th>\n",
       "      <th></th>\n",
       "      <th></th>\n",
       "      <th></th>\n",
       "      <th></th>\n",
       "    </tr>\n",
       "  </thead>\n",
       "  <tbody>\n",
       "    <tr>\n",
       "      <th>191343</th>\n",
       "      <td>25</td>\n",
       "      <td>0</td>\n",
       "      <td>0</td>\n",
       "      <td>0</td>\n",
       "      <td>0</td>\n",
       "      <td>0</td>\n",
       "      <td>0</td>\n",
       "      <td>1</td>\n",
       "      <td>0.0</td>\n",
       "      <td>0</td>\n",
       "      <td>...</td>\n",
       "      <td>0</td>\n",
       "      <td>0</td>\n",
       "      <td>0</td>\n",
       "      <td>0</td>\n",
       "      <td>0</td>\n",
       "      <td>0</td>\n",
       "      <td>0</td>\n",
       "      <td>0</td>\n",
       "      <td>0</td>\n",
       "      <td>0</td>\n",
       "    </tr>\n",
       "    <tr>\n",
       "      <th>191344</th>\n",
       "      <td>22</td>\n",
       "      <td>0</td>\n",
       "      <td>0</td>\n",
       "      <td>0</td>\n",
       "      <td>0</td>\n",
       "      <td>0</td>\n",
       "      <td>0</td>\n",
       "      <td>1</td>\n",
       "      <td>0.0</td>\n",
       "      <td>0</td>\n",
       "      <td>...</td>\n",
       "      <td>0</td>\n",
       "      <td>0</td>\n",
       "      <td>0</td>\n",
       "      <td>0</td>\n",
       "      <td>0</td>\n",
       "      <td>0</td>\n",
       "      <td>0</td>\n",
       "      <td>0</td>\n",
       "      <td>0</td>\n",
       "      <td>1</td>\n",
       "    </tr>\n",
       "    <tr>\n",
       "      <th>191345</th>\n",
       "      <td>39</td>\n",
       "      <td>0</td>\n",
       "      <td>0</td>\n",
       "      <td>0</td>\n",
       "      <td>0</td>\n",
       "      <td>0</td>\n",
       "      <td>0</td>\n",
       "      <td>1</td>\n",
       "      <td>0.0</td>\n",
       "      <td>0</td>\n",
       "      <td>...</td>\n",
       "      <td>0</td>\n",
       "      <td>0</td>\n",
       "      <td>0</td>\n",
       "      <td>0</td>\n",
       "      <td>0</td>\n",
       "      <td>0</td>\n",
       "      <td>0</td>\n",
       "      <td>0</td>\n",
       "      <td>0</td>\n",
       "      <td>0</td>\n",
       "    </tr>\n",
       "    <tr>\n",
       "      <th>191346</th>\n",
       "      <td>39</td>\n",
       "      <td>0</td>\n",
       "      <td>0</td>\n",
       "      <td>0</td>\n",
       "      <td>0</td>\n",
       "      <td>0</td>\n",
       "      <td>0</td>\n",
       "      <td>1</td>\n",
       "      <td>0.0</td>\n",
       "      <td>0</td>\n",
       "      <td>...</td>\n",
       "      <td>0</td>\n",
       "      <td>0</td>\n",
       "      <td>0</td>\n",
       "      <td>0</td>\n",
       "      <td>0</td>\n",
       "      <td>0</td>\n",
       "      <td>0</td>\n",
       "      <td>0</td>\n",
       "      <td>0</td>\n",
       "      <td>0</td>\n",
       "    </tr>\n",
       "    <tr>\n",
       "      <th>191347</th>\n",
       "      <td>8</td>\n",
       "      <td>0</td>\n",
       "      <td>0</td>\n",
       "      <td>0</td>\n",
       "      <td>0</td>\n",
       "      <td>0</td>\n",
       "      <td>0</td>\n",
       "      <td>1</td>\n",
       "      <td>0.0</td>\n",
       "      <td>0</td>\n",
       "      <td>...</td>\n",
       "      <td>0</td>\n",
       "      <td>0</td>\n",
       "      <td>0</td>\n",
       "      <td>0</td>\n",
       "      <td>0</td>\n",
       "      <td>0</td>\n",
       "      <td>0</td>\n",
       "      <td>0</td>\n",
       "      <td>0</td>\n",
       "      <td>0</td>\n",
       "    </tr>\n",
       "  </tbody>\n",
       "</table>\n",
       "<p>5 rows × 77 columns</p>\n",
       "</div>"
      ],
      "text/plain": [
       "             TripType  Monday  Tuesday  Wednesday  Thursday  Friday  Saturday  \\\n",
       "VisitNumber                                                                     \n",
       "191343             25       0        0          0         0       0         0   \n",
       "191344             22       0        0          0         0       0         0   \n",
       "191345             39       0        0          0         0       0         0   \n",
       "191346             39       0        0          0         0       0         0   \n",
       "191347              8       0        0          0         0       0         0   \n",
       "\n",
       "             Sunday  Return_bin  1-HR PHOTO    ...     SEAFOOD  SEASONAL  \\\n",
       "VisitNumber                                    ...                         \n",
       "191343            1         0.0           0    ...           0         0   \n",
       "191344            1         0.0           0    ...           0         0   \n",
       "191345            1         0.0           0    ...           0         0   \n",
       "191346            1         0.0           0    ...           0         0   \n",
       "191347            1         0.0           0    ...           0         0   \n",
       "\n",
       "             SERVICE DELI  SHEER HOSIERY  SHOES  SLEEPWEAR/FOUNDATIONS  \\\n",
       "VisitNumber                                                              \n",
       "191343                  0              0      0                      0   \n",
       "191344                  0              0      0                      0   \n",
       "191345                  0              0      0                      0   \n",
       "191346                  0              0      0                      0   \n",
       "191347                  0              0      0                      0   \n",
       "\n",
       "             SPORTING GOODS  SWIMWEAR/OUTERWEAR  TOYS  WIRELESS  \n",
       "VisitNumber                                                      \n",
       "191343                    0                   0     0         0  \n",
       "191344                    0                   0     0         1  \n",
       "191345                    0                   0     0         0  \n",
       "191346                    0                   0     0         0  \n",
       "191347                    0                   0     0         0  \n",
       "\n",
       "[5 rows x 77 columns]"
      ]
     },
     "execution_count": 3,
     "metadata": {},
     "output_type": "execute_result"
    }
   ],
   "source": [
    "train_df.index = train_df['VisitNumber']\n",
    "train_df.drop(columns='VisitNumber',inplace=True)\n",
    "train_df.tail()"
   ]
  },
  {
   "cell_type": "code",
   "execution_count": 4,
   "metadata": {},
   "outputs": [
    {
     "data": {
      "text/plain": [
       "(95674, 77)"
      ]
     },
     "execution_count": 4,
     "metadata": {},
     "output_type": "execute_result"
    }
   ],
   "source": [
    "train_df.shape"
   ]
  },
  {
   "cell_type": "code",
   "execution_count": 5,
   "metadata": {},
   "outputs": [],
   "source": [
    "train_X = train_df.iloc[:,1:]\n",
    "train_y = train_df.iloc[:,0]"
   ]
  },
  {
   "cell_type": "code",
   "execution_count": 6,
   "metadata": {},
   "outputs": [
    {
     "data": {
      "text/plain": [
       "((95674, 76), (95674,))"
      ]
     },
     "execution_count": 6,
     "metadata": {},
     "output_type": "execute_result"
    }
   ],
   "source": [
    "train_X.shape,train_y.shape"
   ]
  },
  {
   "cell_type": "markdown",
   "metadata": {},
   "source": [
    "## DecisionTreeClassifier"
   ]
  },
  {
   "cell_type": "code",
   "execution_count": 22,
   "metadata": {},
   "outputs": [],
   "source": [
    "from sklearn.model_selection import validation_curve\n",
    "param_range = np.arange(1,51)"
   ]
  },
  {
   "cell_type": "code",
   "execution_count": 26,
   "metadata": {},
   "outputs": [
    {
     "name": "stdout",
     "output_type": "stream",
     "text": [
      "CPU times: user 1min 25s, sys: 1.3 s, total: 1min 26s\n",
      "Wall time: 4min 22s\n"
     ]
    }
   ],
   "source": [
    "%%time\n",
    "train_scores , test_scores =\\\n",
    "validation_curve(DecisionTreeClassifier(random_state=0),X = train_X,y = train_y,param_name='max_depth',param_range=param_range,\\\n",
    "                cv=10,scoring = 'accuracy',n_jobs=-1)"
   ]
  },
  {
   "cell_type": "code",
   "execution_count": 31,
   "metadata": {},
   "outputs": [],
   "source": [
    "train_scores_mean = np.mean(train_scores,axis=1)"
   ]
  },
  {
   "cell_type": "code",
   "execution_count": 32,
   "metadata": {},
   "outputs": [],
   "source": [
    "train_scores_std = np.std(train_scores,axis=1)"
   ]
  },
  {
   "cell_type": "code",
   "execution_count": 33,
   "metadata": {},
   "outputs": [],
   "source": [
    "test_scores_mean = np.mean(test_scores,axis=1)"
   ]
  },
  {
   "cell_type": "code",
   "execution_count": 34,
   "metadata": {},
   "outputs": [],
   "source": [
    "test_scores_std = np.std(test_scores,axis=1)"
   ]
  },
  {
   "cell_type": "code",
   "execution_count": 38,
   "metadata": {},
   "outputs": [
    {
     "data": {
      "text/plain": [
       "array([0.19143134, 0.23724316, 0.29370688, 0.3152627 , 0.34116782,\n",
       "       0.37207491, 0.39219874, 0.4161457 , 0.44285221, 0.47227625,\n",
       "       0.50034265, 0.52183346, 0.5417367 , 0.56252138, 0.58417709,\n",
       "       0.60515225, 0.62550493, 0.64564741, 0.66590136, 0.68565248,\n",
       "       0.70448723, 0.72221292, 0.73846603, 0.75416172, 0.76825589,\n",
       "       0.78145579, 0.79375224, 0.8048675 , 0.81624877, 0.82662661,\n",
       "       0.83596387, 0.84442316, 0.85208459, 0.85897255, 0.86503829,\n",
       "       0.8706569 , 0.87549625, 0.87975259, 0.88376739, 0.88739195,\n",
       "       0.89107461, 0.89421605, 0.8971415 , 0.89971621, 0.9020482 ,\n",
       "       0.90410727, 0.9060688 , 0.90776322, 0.90935774, 0.91076066])"
      ]
     },
     "execution_count": 38,
     "metadata": {},
     "output_type": "execute_result"
    }
   ],
   "source": [
    "train_scores_mean"
   ]
  },
  {
   "cell_type": "code",
   "execution_count": 39,
   "metadata": {},
   "outputs": [
    {
     "data": {
      "text/plain": [
       "array([0.19143281, 0.23724461, 0.29332992, 0.31476705, 0.33943539,\n",
       "       0.36944279, 0.38703372, 0.40728206, 0.43007861, 0.45458832,\n",
       "       0.47371483, 0.48443769, 0.49094984, 0.49896684, 0.50670128,\n",
       "       0.51323404, 0.51859543, 0.52379079, 0.52915211, 0.53361526,\n",
       "       0.53708471, 0.54066993, 0.5424146 , 0.5459171 , 0.54796572,\n",
       "       0.54839374, 0.55031661, 0.55106829, 0.55345138, 0.55476955,\n",
       "       0.55492551, 0.55646243, 0.55714129, 0.55685949, 0.5576558 ,\n",
       "       0.55762223, 0.55984877, 0.55914872, 0.55929539, 0.55964043,\n",
       "       0.56035064, 0.56169918, 0.5617306 , 0.56158474, 0.56285883,\n",
       "       0.56179377, 0.56298416, 0.56337089, 0.56322592, 0.56332859])"
      ]
     },
     "execution_count": 39,
     "metadata": {},
     "output_type": "execute_result"
    }
   ],
   "source": [
    "test_scores_mean"
   ]
  },
  {
   "cell_type": "code",
   "execution_count": 41,
   "metadata": {},
   "outputs": [
    {
     "data": {
      "text/plain": [
       "[<matplotlib.lines.Line2D at 0x7fe35e2a3908>]"
      ]
     },
     "execution_count": 41,
     "metadata": {},
     "output_type": "execute_result"
    },
    {
     "data": {
      "image/png": "[encoded data removed]",
      "text/plain": [
       "<Figure size 432x288 with 1 Axes>"
      ]
     },
     "metadata": {},
     "output_type": "display_data"
    }
   ],
   "source": [
    "plt.plot(train_scores_mean)\n",
    "plt.plot(test_scores_mean)"
   ]
  },
  {
   "cell_type": "code",
   "execution_count": 8,
   "metadata": {},
   "outputs": [
    {
     "name": "stdout",
     "output_type": "stream",
     "text": [
      "CPU times: user 1min 22s, sys: 1.24 s, total: 1min 23s\n",
      "Wall time: 4min 25s\n"
     ]
    }
   ],
   "source": [
    "from sklearn.model_selection import GridSearchCV\n",
    "\n",
    "tree = DecisionTreeClassifier(random_state=0)\n",
    "param_range = np.arange(1,51)\n",
    "param_grid = {'max_depth': param_range}\n",
    "tree_grid_model = GridSearchCV(estimator=tree,param_grid=param_grid,scoring='accuracy'\\\n",
    "                              ,cv=10,n_jobs=-1)\n",
    "%time tree_grid_model = tree_grid_model.fit(train_X,train_y)"
   ]
  },
  {
   "cell_type": "code",
   "execution_count": 9,
   "metadata": {},
   "outputs": [
    {
     "data": {
      "text/plain": [
       "[{'max_depth': 1},\n",
       " {'max_depth': 2},\n",
       " {'max_depth': 3},\n",
       " {'max_depth': 4},\n",
       " {'max_depth': 5},\n",
       " {'max_depth': 6},\n",
       " {'max_depth': 7},\n",
       " {'max_depth': 8},\n",
       " {'max_depth': 9},\n",
       " {'max_depth': 10},\n",
       " {'max_depth': 11},\n",
       " {'max_depth': 12},\n",
       " {'max_depth': 13},\n",
       " {'max_depth': 14},\n",
       " {'max_depth': 15},\n",
       " {'max_depth': 16},\n",
       " {'max_depth': 17},\n",
       " {'max_depth': 18},\n",
       " {'max_depth': 19},\n",
       " {'max_depth': 20},\n",
       " {'max_depth': 21},\n",
       " {'max_depth': 22},\n",
       " {'max_depth': 23},\n",
       " {'max_depth': 24},\n",
       " {'max_depth': 25},\n",
       " {'max_depth': 26},\n",
       " {'max_depth': 27},\n",
       " {'max_depth': 28},\n",
       " {'max_depth': 29},\n",
       " {'max_depth': 30},\n",
       " {'max_depth': 31},\n",
       " {'max_depth': 32},\n",
       " {'max_depth': 33},\n",
       " {'max_depth': 34},\n",
       " {'max_depth': 35},\n",
       " {'max_depth': 36},\n",
       " {'max_depth': 37},\n",
       " {'max_depth': 38},\n",
       " {'max_depth': 39},\n",
       " {'max_depth': 40},\n",
       " {'max_depth': 41},\n",
       " {'max_depth': 42},\n",
       " {'max_depth': 43},\n",
       " {'max_depth': 44},\n",
       " {'max_depth': 45},\n",
       " {'max_depth': 46},\n",
       " {'max_depth': 47},\n",
       " {'max_depth': 48},\n",
       " {'max_depth': 49},\n",
       " {'max_depth': 50}]"
      ]
     },
     "execution_count": 9,
     "metadata": {},
     "output_type": "execute_result"
    }
   ],
   "source": [
    "tree_grid_model.cv_results_['params']"
   ]
  },
  {
   "cell_type": "code",
   "execution_count": 10,
   "metadata": {},
   "outputs": [
    {
     "data": {
      "text/plain": [
       "array([0.19143132, 0.23724314, 0.29332943, 0.31476681, 0.33943391,\n",
       "       0.36944206, 0.38703305, 0.40727888, 0.43007505, 0.45458536,\n",
       "       0.47371282, 0.48443673, 0.49094843, 0.49896524, 0.50669983,\n",
       "       0.51323244, 0.51859439, 0.52378912, 0.52915108, 0.53361415,\n",
       "       0.53708427, 0.54066936, 0.54241487, 0.54591634, 0.54796496,\n",
       "       0.5483935 , 0.5503167 , 0.55106926, 0.55345235, 0.55476932,\n",
       "       0.5549261 , 0.55646257, 0.55714196, 0.55685975, 0.55765412,\n",
       "       0.55762276, 0.55984907, 0.55914878, 0.55929511, 0.55964003,\n",
       "       0.56035077, 0.5616991 , 0.56173046, 0.56158413, 0.56285929,\n",
       "       0.56179317, 0.56298472, 0.56337145, 0.56322512, 0.56332964])"
      ]
     },
     "execution_count": 10,
     "metadata": {},
     "output_type": "execute_result"
    }
   ],
   "source": [
    "tree_grid_model.cv_results_[\"mean_test_score\"]"
   ]
  },
  {
   "cell_type": "code",
   "execution_count": 12,
   "metadata": {},
   "outputs": [
    {
     "name": "stdout",
     "output_type": "stream",
     "text": [
      "0.5633714488784832\n",
      "{'max_depth': 48}\n"
     ]
    }
   ],
   "source": [
    "print(tree_grid_model.best_score_)\n",
    "print(tree_grid_model.best_params_)"
   ]
  },
  {
   "cell_type": "code",
   "execution_count": 7,
   "metadata": {},
   "outputs": [],
   "source": [
    "def changemaxdepth(i,X,y):\n",
    "    tree_model = DecisionTreeClassifier(criterion='entropy',max_depth=i,random_state=0).fit(X,y)\n",
    "    return tree_model"
   ]
  },
  {
   "cell_type": "code",
   "execution_count": 8,
   "metadata": {},
   "outputs": [],
   "source": [
    "ac_sc_tree = []\n",
    "cv_sc_tree = []"
   ]
  },
  {
   "cell_type": "code",
   "execution_count": 9,
   "metadata": {},
   "outputs": [
    {
     "name": "stdout",
     "output_type": "stream",
     "text": [
      "CPU times: user 1min 3s, sys: 1.53 s, total: 1min 4s\n",
      "Wall time: 1min 4s\n"
     ]
    }
   ],
   "source": [
    "%%time\n",
    "for i in range(1,51):\n",
    "    tree = changemaxdepth(i,train_X,train_y)\n",
    "    ac_sc_tree.append(accuracy_score(train_y,tree.predict(train_X)))"
   ]
  },
  {
   "cell_type": "code",
   "execution_count": 10,
   "metadata": {
    "scrolled": true
   },
   "outputs": [
    {
     "data": {
      "text/plain": [
       "[0.1694190689215461,\n",
       " 0.25726947760102015,\n",
       " 0.29391475217927543,\n",
       " 0.3229508539415097,\n",
       " 0.348433221146811,\n",
       " 0.37414553588226684,\n",
       " 0.4037565064698873,\n",
       " 0.4315069924953488,\n",
       " 0.4626335263498965,\n",
       " 0.4849906975771892,\n",
       " 0.5017246064761586,\n",
       " 0.5228275184480632,\n",
       " 0.5451533331939712,\n",
       " 0.568691598553421,\n",
       " 0.5950833037188787,\n",
       " 0.6185274996341744,\n",
       " 0.6408533143800824,\n",
       " 0.6616008528962937,\n",
       " 0.6855363003532831,\n",
       " 0.7064301691159562,\n",
       " 0.725766665969856,\n",
       " 0.7451972322679098,\n",
       " 0.7644292075171938,\n",
       " 0.7816961765997031,\n",
       " 0.7967159311829756,\n",
       " 0.8089449589230094,\n",
       " 0.8217906641302757,\n",
       " 0.8319188076175346,\n",
       " 0.8400923970984803,\n",
       " 0.847952421765579,\n",
       " 0.8571189664903736,\n",
       " 0.8631603152371595,\n",
       " 0.8697869849697932,\n",
       " 0.87469950038673,\n",
       " 0.8806990404916696,\n",
       " 0.8844200096159877,\n",
       " 0.8886322302819993,\n",
       " 0.8930953027990886,\n",
       " 0.8965027071095596,\n",
       " 0.8994711206806447,\n",
       " 0.9021259694378828,\n",
       " 0.9044045404185045,\n",
       " 0.9069862240525116,\n",
       " 0.9088258042937475,\n",
       " 0.910456341325752,\n",
       " 0.9123795388506805,\n",
       " 0.9144699709429939,\n",
       " 0.9156928737169973,\n",
       " 0.9169993937746932,\n",
       " 0.9181595835859272]"
      ]
     },
     "execution_count": 10,
     "metadata": {},
     "output_type": "execute_result"
    }
   ],
   "source": [
    "ac_sc_tree"
   ]
  },
  {
   "cell_type": "code",
   "execution_count": 11,
   "metadata": {},
   "outputs": [
    {
     "data": {
      "text/plain": [
       "[<matplotlib.lines.Line2D at 0x7faa7a602400>]"
      ]
     },
     "execution_count": 11,
     "metadata": {},
     "output_type": "execute_result"
    },
    {
     "data": {
      "image/png": "[encoded data removed]",
      "text/plain": [
       "<Figure size 432x288 with 1 Axes>"
      ]
     },
     "metadata": {},
     "output_type": "display_data"
    }
   ],
   "source": [
    "plt.plot(ac_sc_tree)"
   ]
  },
  {
   "cell_type": "code",
   "execution_count": 12,
   "metadata": {},
   "outputs": [
    {
     "name": "stdout",
     "output_type": "stream",
     "text": [
      "CPU times: user 2min 51s, sys: 3.35 s, total: 2min 55s\n",
      "Wall time: 2min 55s\n"
     ]
    }
   ],
   "source": [
    "%%time\n",
    "for i in range(1,51):\n",
    "    tree = changemaxdepth(i,train_X,train_y)\n",
    "    cv_sc_tree.append(cross_val_score(tree,train_X,train_y))\n",
    "cv_sc_tree"
   ]
  },
  {
   "cell_type": "code",
   "execution_count": 13,
   "metadata": {},
   "outputs": [],
   "source": [
    "cv_sc_tree = np.mean(cv_sc_tree,axis=1)"
   ]
  },
  {
   "cell_type": "code",
   "execution_count": 14,
   "metadata": {},
   "outputs": [
    {
     "data": {
      "text/plain": [
       "[<matplotlib.lines.Line2D at 0x7faa7a53c160>]"
      ]
     },
     "execution_count": 14,
     "metadata": {},
     "output_type": "execute_result"
    },
    {
     "data": {
      "image/png": "[encoded data removed]",
      "text/plain": [
       "<Figure size 432x288 with 1 Axes>"
      ]
     },
     "metadata": {},
     "output_type": "display_data"
    }
   ],
   "source": [
    "plt.plot(cv_sc_tree)"
   ]
  }
 ],
 "metadata": {
  "kernelspec": {
   "display_name": "Python 3",
   "language": "python",
   "name": "python3"
  },
  "language_info": {
   "codemirror_mode": {
    "name": "ipython",
    "version": 3
   },
   "file_extension": ".py",
   "mimetype": "text/x-python",
   "name": "python",
   "nbconvert_exporter": "python",
   "pygments_lexer": "ipython3",
   "version": "3.6.5"
  }
 },
 "nbformat": 4,
 "nbformat_minor": 2
}
