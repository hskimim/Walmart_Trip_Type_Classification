{
 "cells": [
  {
   "cell_type": "code",
   "execution_count": 71,
   "metadata": {},
   "outputs": [],
   "source": [
    "import pandas as pd\n",
    "import numpy as np"
   ]
  },
  {
   "cell_type": "code",
   "execution_count": 72,
   "metadata": {},
   "outputs": [],
   "source": [
    "train = pd.read_csv('train.csv')\n",
    "train['DepartmentDescription'] = train['DepartmentDescription'].replace('MENSWEAR','MENS WEAR')\n",
    "train_df = train.copy()\n",
    "testing_df = train_df.copy()\n",
    "test = pd.read_csv('test.csv')"
   ]
  },
  {
   "cell_type": "code",
   "execution_count": 73,
   "metadata": {
    "scrolled": true
   },
   "outputs": [
    {
     "data": {
      "text/plain": [
       "TripType                    0\n",
       "VisitNumber                 0\n",
       "Weekday                     0\n",
       "Upc                      4129\n",
       "ScanCount                   0\n",
       "DepartmentDescription    1361\n",
       "FinelineNumber           4129\n",
       "dtype: int64"
      ]
     },
     "execution_count": 73,
     "metadata": {},
     "output_type": "execute_result"
    }
   ],
   "source": [
    "testing_df.isna().sum()"
   ]
  },
  {
   "cell_type": "markdown",
   "metadata": {},
   "source": [
    "## Missing in DepartmentDescription"
   ]
  },
  {
   "cell_type": "code",
   "execution_count": 74,
   "metadata": {},
   "outputs": [],
   "source": [
    "from sklearn.preprocessing import LabelEncoder\n",
    "le = LabelEncoder()\n",
    "train_df['DepartmentDescription'] = le.fit_transform(list(train_df['DepartmentDescription']))"
   ]
  },
  {
   "cell_type": "code",
   "execution_count": 75,
   "metadata": {
    "scrolled": true
   },
   "outputs": [],
   "source": [
    "train_null_dd = train_df[train_df['DepartmentDescription']==67]\n",
    "train_null_dd = train_null_dd.groupby('VisitNumber',as_index=False)['ScanCount'].count()"
   ]
  },
  {
   "cell_type": "code",
   "execution_count": 76,
   "metadata": {},
   "outputs": [],
   "source": [
    "train_null_dd.rename(columns={'ScanCount': 'Null'}, inplace=True)"
   ]
  },
  {
   "cell_type": "code",
   "execution_count": 77,
   "metadata": {},
   "outputs": [
    {
     "data": {
      "text/html": [
       "<div>\n",
       "<style scoped>\n",
       "    .dataframe tbody tr th:only-of-type {\n",
       "        vertical-align: middle;\n",
       "    }\n",
       "\n",
       "    .dataframe tbody tr th {\n",
       "        vertical-align: top;\n",
       "    }\n",
       "\n",
       "    .dataframe thead th {\n",
       "        text-align: right;\n",
       "    }\n",
       "</style>\n",
       "<table border=\"1\" class=\"dataframe\">\n",
       "  <thead>\n",
       "    <tr style=\"text-align: right;\">\n",
       "      <th></th>\n",
       "      <th>VisitNumber</th>\n",
       "      <th>Null</th>\n",
       "    </tr>\n",
       "  </thead>\n",
       "  <tbody>\n",
       "    <tr>\n",
       "      <th>1167</th>\n",
       "      <td>190230</td>\n",
       "      <td>1</td>\n",
       "    </tr>\n",
       "    <tr>\n",
       "      <th>1168</th>\n",
       "      <td>190309</td>\n",
       "      <td>1</td>\n",
       "    </tr>\n",
       "    <tr>\n",
       "      <th>1169</th>\n",
       "      <td>190408</td>\n",
       "      <td>1</td>\n",
       "    </tr>\n",
       "    <tr>\n",
       "      <th>1170</th>\n",
       "      <td>190651</td>\n",
       "      <td>1</td>\n",
       "    </tr>\n",
       "    <tr>\n",
       "      <th>1171</th>\n",
       "      <td>191080</td>\n",
       "      <td>3</td>\n",
       "    </tr>\n",
       "  </tbody>\n",
       "</table>\n",
       "</div>"
      ],
      "text/plain": [
       "      VisitNumber  Null\n",
       "1167       190230     1\n",
       "1168       190309     1\n",
       "1169       190408     1\n",
       "1170       190651     1\n",
       "1171       191080     3"
      ]
     },
     "execution_count": 77,
     "metadata": {},
     "output_type": "execute_result"
    }
   ],
   "source": [
    "train_null_dd.tail()"
   ]
  },
  {
   "cell_type": "code",
   "execution_count": 78,
   "metadata": {},
   "outputs": [
    {
     "data": {
      "text/plain": [
       "(1172, 2)"
      ]
     },
     "execution_count": 78,
     "metadata": {},
     "output_type": "execute_result"
    }
   ],
   "source": [
    "train_null_dd.shape"
   ]
  },
  {
   "cell_type": "code",
   "execution_count": 79,
   "metadata": {},
   "outputs": [
    {
     "name": "stderr",
     "output_type": "stream",
     "text": [
      "/home/hskimim/anaconda3/lib/python3.6/site-packages/ipykernel_launcher.py:3: SettingWithCopyWarning: \n",
      "A value is trying to be set on a copy of a slice from a DataFrame\n",
      "\n",
      "See the caveats in the documentation: http://pandas.pydata.org/pandas-docs/stable/indexing.html#indexing-view-versus-copy\n",
      "  This is separate from the ipykernel package so we can avoid doing imports until\n"
     ]
    }
   ],
   "source": [
    "testing_df = testing_df.merge(train_null_dd,how='left',on='VisitNumber',copy=True)\n",
    "testing_df['Null'].fillna(1,inplace=True)\n",
    "testing_df['Null'][testing_df['Null']>0] = 0"
   ]
  },
  {
   "cell_type": "markdown",
   "metadata": {},
   "source": [
    "## Missing in FinelineNumber"
   ]
  },
  {
   "cell_type": "code",
   "execution_count": 80,
   "metadata": {
    "scrolled": true
   },
   "outputs": [
    {
     "data": {
      "text/html": [
       "<div>\n",
       "<style scoped>\n",
       "    .dataframe tbody tr th:only-of-type {\n",
       "        vertical-align: middle;\n",
       "    }\n",
       "\n",
       "    .dataframe tbody tr th {\n",
       "        vertical-align: top;\n",
       "    }\n",
       "\n",
       "    .dataframe thead th {\n",
       "        text-align: right;\n",
       "    }\n",
       "</style>\n",
       "<table border=\"1\" class=\"dataframe\">\n",
       "  <thead>\n",
       "    <tr style=\"text-align: right;\">\n",
       "      <th></th>\n",
       "      <th>VisitNumber</th>\n",
       "      <th>Missing</th>\n",
       "    </tr>\n",
       "  </thead>\n",
       "  <tbody>\n",
       "    <tr>\n",
       "      <th>2749</th>\n",
       "      <td>190230</td>\n",
       "      <td>1</td>\n",
       "    </tr>\n",
       "    <tr>\n",
       "      <th>2750</th>\n",
       "      <td>190309</td>\n",
       "      <td>1</td>\n",
       "    </tr>\n",
       "    <tr>\n",
       "      <th>2751</th>\n",
       "      <td>190408</td>\n",
       "      <td>1</td>\n",
       "    </tr>\n",
       "    <tr>\n",
       "      <th>2752</th>\n",
       "      <td>190651</td>\n",
       "      <td>1</td>\n",
       "    </tr>\n",
       "    <tr>\n",
       "      <th>2753</th>\n",
       "      <td>191080</td>\n",
       "      <td>3</td>\n",
       "    </tr>\n",
       "  </tbody>\n",
       "</table>\n",
       "</div>"
      ],
      "text/plain": [
       "      VisitNumber  Missing\n",
       "2749       190230        1\n",
       "2750       190309        1\n",
       "2751       190408        1\n",
       "2752       190651        1\n",
       "2753       191080        3"
      ]
     },
     "execution_count": 80,
     "metadata": {},
     "output_type": "execute_result"
    }
   ],
   "source": [
    "train_df['FinelineNumber'].fillna(9999,inplace=True)\n",
    "train_fl_null = train_df[train_df['FinelineNumber']==9999]\n",
    "train_fl_null = train_fl_null.groupby('VisitNumber',as_index=False)['ScanCount'].count()\n",
    "train_fl_null.rename(columns={'ScanCount':'Missing'},inplace=True)\n",
    "train_fl_null.tail()"
   ]
  },
  {
   "cell_type": "code",
   "execution_count": 81,
   "metadata": {},
   "outputs": [
    {
     "name": "stderr",
     "output_type": "stream",
     "text": [
      "/home/hskimim/anaconda3/lib/python3.6/site-packages/ipykernel_launcher.py:3: SettingWithCopyWarning: \n",
      "A value is trying to be set on a copy of a slice from a DataFrame\n",
      "\n",
      "See the caveats in the documentation: http://pandas.pydata.org/pandas-docs/stable/indexing.html#indexing-view-versus-copy\n",
      "  This is separate from the ipykernel package so we can avoid doing imports until\n"
     ]
    }
   ],
   "source": [
    "testing_df = testing_df.merge(train_fl_null,how='left',on='VisitNumber',copy=True)\n",
    "testing_df['Missing'].fillna(1,inplace=True)\n",
    "testing_df['Missing'][testing_df['Missing']>0] = 0"
   ]
  },
  {
   "cell_type": "markdown",
   "metadata": {},
   "source": [
    "## train_fl_num\n",
    "- Give information about Number\n",
    "    - DD\n",
    "    - FL\n",
    "    - Upc\n",
    "    - Ratio "
   ]
  },
  {
   "cell_type": "code",
   "execution_count": 82,
   "metadata": {},
   "outputs": [],
   "source": [
    "train_fl_num = train_df.groupby(['VisitNumber','FinelineNumber'],as_index=False)['ScanCount'].count()\n",
    "train_fl_num = train_fl_num.groupby('VisitNumber',as_index=False)['ScanCount'].count()\n",
    "train_fl_num.rename(columns={'ScanCount': 'N_Fineline'}, inplace=True) \n",
    "\n",
    "train_dd_num = train_df.groupby(['VisitNumber','DepartmentDescription'],as_index=False)['ScanCount'].count()\n",
    "train_dd_num = train_dd_num.groupby('VisitNumber',as_index=False)['ScanCount'].count()\n",
    "train_dd_num.rename(columns={'ScanCount': 'N_DepartmentDescription'}, inplace=True) \n",
    "\n",
    "train_upc_num = train_df.groupby(['VisitNumber','Upc'],as_index=False)['ScanCount'].count()\n",
    "train_upc_num = train_upc_num.groupby('VisitNumber',as_index=False)['ScanCount'].count()\n",
    "train_upc_num.rename(columns={'ScanCount': 'N_Upc'}, inplace=True) "
   ]
  },
  {
   "cell_type": "code",
   "execution_count": 83,
   "metadata": {
    "scrolled": true
   },
   "outputs": [],
   "source": [
    "train_fl_num = train_fl_num.merge(train_dd_num,on='VisitNumber')\n",
    "train_Num = train_fl_num.merge(train_upc_num,on='VisitNumber')"
   ]
  },
  {
   "cell_type": "code",
   "execution_count": 84,
   "metadata": {},
   "outputs": [],
   "source": [
    "train_Num['Ratio_F_D'] = train_Num['N_Fineline'] / train_Num['N_DepartmentDescription']\n",
    "train_Num['Ratio_U_D'] = train_Num['N_Upc'] / train_Num['N_DepartmentDescription']"
   ]
  },
  {
   "cell_type": "code",
   "execution_count": 85,
   "metadata": {},
   "outputs": [
    {
     "data": {
      "text/plain": [
       "(94247, 6)"
      ]
     },
     "execution_count": 85,
     "metadata": {},
     "output_type": "execute_result"
    }
   ],
   "source": [
    "train_Num.shape"
   ]
  },
  {
   "cell_type": "code",
   "execution_count": 86,
   "metadata": {},
   "outputs": [],
   "source": [
    "testing_df = testing_df.merge(train_Num,on='VisitNumber')"
   ]
  },
  {
   "cell_type": "markdown",
   "metadata": {},
   "source": [
    "## train_sc_sum \n",
    "- ScanCount sum by groupby VisitNumber"
   ]
  },
  {
   "cell_type": "code",
   "execution_count": 87,
   "metadata": {},
   "outputs": [
    {
     "data": {
      "text/html": [
       "<div>\n",
       "<style scoped>\n",
       "    .dataframe tbody tr th:only-of-type {\n",
       "        vertical-align: middle;\n",
       "    }\n",
       "\n",
       "    .dataframe tbody tr th {\n",
       "        vertical-align: top;\n",
       "    }\n",
       "\n",
       "    .dataframe thead th {\n",
       "        text-align: right;\n",
       "    }\n",
       "</style>\n",
       "<table border=\"1\" class=\"dataframe\">\n",
       "  <thead>\n",
       "    <tr style=\"text-align: right;\">\n",
       "      <th></th>\n",
       "      <th>VisitNumber</th>\n",
       "      <th>Sum_sc</th>\n",
       "    </tr>\n",
       "  </thead>\n",
       "  <tbody>\n",
       "    <tr>\n",
       "      <th>95669</th>\n",
       "      <td>191343</td>\n",
       "      <td>9</td>\n",
       "    </tr>\n",
       "    <tr>\n",
       "      <th>95670</th>\n",
       "      <td>191344</td>\n",
       "      <td>5</td>\n",
       "    </tr>\n",
       "    <tr>\n",
       "      <th>95671</th>\n",
       "      <td>191345</td>\n",
       "      <td>17</td>\n",
       "    </tr>\n",
       "    <tr>\n",
       "      <th>95672</th>\n",
       "      <td>191346</td>\n",
       "      <td>17</td>\n",
       "    </tr>\n",
       "    <tr>\n",
       "      <th>95673</th>\n",
       "      <td>191347</td>\n",
       "      <td>2</td>\n",
       "    </tr>\n",
       "  </tbody>\n",
       "</table>\n",
       "</div>"
      ],
      "text/plain": [
       "       VisitNumber  Sum_sc\n",
       "95669       191343       9\n",
       "95670       191344       5\n",
       "95671       191345      17\n",
       "95672       191346      17\n",
       "95673       191347       2"
      ]
     },
     "execution_count": 87,
     "metadata": {},
     "output_type": "execute_result"
    }
   ],
   "source": [
    "train_sc_sum = train_df.groupby('VisitNumber',as_index=False)['ScanCount'].sum()\n",
    "train_sc_sum.rename(columns={'ScanCount':'Sum_sc'},inplace=True)\n",
    "train_sc_sum.tail()"
   ]
  },
  {
   "cell_type": "code",
   "execution_count": 88,
   "metadata": {},
   "outputs": [],
   "source": [
    "testing_df = testing_df.merge(train_sc_sum,on='VisitNumber')"
   ]
  },
  {
   "cell_type": "markdown",
   "metadata": {},
   "source": [
    "## Encoding the Upc column to Company column"
   ]
  },
  {
   "cell_type": "code",
   "execution_count": 89,
   "metadata": {},
   "outputs": [],
   "source": [
    "from Unique_for_VisitNumber_and_for_TripType import *\n",
    "testing_df = decodeStuffNeedsToBeDecoded(testing_df)"
   ]
  },
  {
   "cell_type": "markdown",
   "metadata": {},
   "source": [
    "## Drop the Upc Column"
   ]
  },
  {
   "cell_type": "code",
   "execution_count": 90,
   "metadata": {},
   "outputs": [
    {
     "data": {
      "text/html": [
       "<div>\n",
       "<style scoped>\n",
       "    .dataframe tbody tr th:only-of-type {\n",
       "        vertical-align: middle;\n",
       "    }\n",
       "\n",
       "    .dataframe tbody tr th {\n",
       "        vertical-align: top;\n",
       "    }\n",
       "\n",
       "    .dataframe thead th {\n",
       "        text-align: right;\n",
       "    }\n",
       "</style>\n",
       "<table border=\"1\" class=\"dataframe\">\n",
       "  <thead>\n",
       "    <tr style=\"text-align: right;\">\n",
       "      <th></th>\n",
       "      <th>TripType</th>\n",
       "      <th>VisitNumber</th>\n",
       "      <th>Weekday</th>\n",
       "      <th>ScanCount</th>\n",
       "      <th>DepartmentDescription</th>\n",
       "      <th>FinelineNumber</th>\n",
       "      <th>Null</th>\n",
       "      <th>Missing</th>\n",
       "      <th>N_Fineline</th>\n",
       "      <th>N_DepartmentDescription</th>\n",
       "      <th>N_Upc</th>\n",
       "      <th>Ratio_F_D</th>\n",
       "      <th>Ratio_U_D</th>\n",
       "      <th>Sum_sc</th>\n",
       "      <th>Company</th>\n",
       "    </tr>\n",
       "  </thead>\n",
       "  <tbody>\n",
       "    <tr>\n",
       "      <th>644680</th>\n",
       "      <td>39</td>\n",
       "      <td>191346</td>\n",
       "      <td>Sunday</td>\n",
       "      <td>1</td>\n",
       "      <td>PHARMACY OTC</td>\n",
       "      <td>1118</td>\n",
       "      <td>0.0</td>\n",
       "      <td>0.0</td>\n",
       "      <td>16</td>\n",
       "      <td>8</td>\n",
       "      <td>17</td>\n",
       "      <td>2.0</td>\n",
       "      <td>2.125</td>\n",
       "      <td>17</td>\n",
       "      <td>323900</td>\n",
       "    </tr>\n",
       "    <tr>\n",
       "      <th>644681</th>\n",
       "      <td>39</td>\n",
       "      <td>191346</td>\n",
       "      <td>Sunday</td>\n",
       "      <td>1</td>\n",
       "      <td>FROZEN FOODS</td>\n",
       "      <td>1752</td>\n",
       "      <td>0.0</td>\n",
       "      <td>0.0</td>\n",
       "      <td>16</td>\n",
       "      <td>8</td>\n",
       "      <td>17</td>\n",
       "      <td>2.0</td>\n",
       "      <td>2.125</td>\n",
       "      <td>17</td>\n",
       "      <td>078742</td>\n",
       "    </tr>\n",
       "    <tr>\n",
       "      <th>644682</th>\n",
       "      <td>39</td>\n",
       "      <td>191346</td>\n",
       "      <td>Sunday</td>\n",
       "      <td>1</td>\n",
       "      <td>PRODUCE</td>\n",
       "      <td>4170</td>\n",
       "      <td>0.0</td>\n",
       "      <td>0.0</td>\n",
       "      <td>16</td>\n",
       "      <td>8</td>\n",
       "      <td>17</td>\n",
       "      <td>2.0</td>\n",
       "      <td>2.125</td>\n",
       "      <td>17</td>\n",
       "      <td>40</td>\n",
       "    </tr>\n",
       "    <tr>\n",
       "      <th>644683</th>\n",
       "      <td>8</td>\n",
       "      <td>191347</td>\n",
       "      <td>Sunday</td>\n",
       "      <td>1</td>\n",
       "      <td>DAIRY</td>\n",
       "      <td>1512</td>\n",
       "      <td>0.0</td>\n",
       "      <td>0.0</td>\n",
       "      <td>2</td>\n",
       "      <td>2</td>\n",
       "      <td>2</td>\n",
       "      <td>1.0</td>\n",
       "      <td>1.000</td>\n",
       "      <td>2</td>\n",
       "      <td>041900</td>\n",
       "    </tr>\n",
       "    <tr>\n",
       "      <th>644684</th>\n",
       "      <td>8</td>\n",
       "      <td>191347</td>\n",
       "      <td>Sunday</td>\n",
       "      <td>1</td>\n",
       "      <td>GROCERY DRY GOODS</td>\n",
       "      <td>3600</td>\n",
       "      <td>0.0</td>\n",
       "      <td>0.0</td>\n",
       "      <td>2</td>\n",
       "      <td>2</td>\n",
       "      <td>2</td>\n",
       "      <td>1.0</td>\n",
       "      <td>1.000</td>\n",
       "      <td>2</td>\n",
       "      <td>038000</td>\n",
       "    </tr>\n",
       "  </tbody>\n",
       "</table>\n",
       "</div>"
      ],
      "text/plain": [
       "        TripType  VisitNumber Weekday  ScanCount DepartmentDescription  \\\n",
       "644680        39       191346  Sunday          1          PHARMACY OTC   \n",
       "644681        39       191346  Sunday          1          FROZEN FOODS   \n",
       "644682        39       191346  Sunday          1               PRODUCE   \n",
       "644683         8       191347  Sunday          1                 DAIRY   \n",
       "644684         8       191347  Sunday          1     GROCERY DRY GOODS   \n",
       "\n",
       "       FinelineNumber  Null  Missing  N_Fineline  N_DepartmentDescription  \\\n",
       "644680           1118   0.0      0.0          16                        8   \n",
       "644681           1752   0.0      0.0          16                        8   \n",
       "644682           4170   0.0      0.0          16                        8   \n",
       "644683           1512   0.0      0.0           2                        2   \n",
       "644684           3600   0.0      0.0           2                        2   \n",
       "\n",
       "        N_Upc  Ratio_F_D  Ratio_U_D  Sum_sc Company  \n",
       "644680     17        2.0      2.125      17  323900  \n",
       "644681     17        2.0      2.125      17  078742  \n",
       "644682     17        2.0      2.125      17      40  \n",
       "644683      2        1.0      1.000       2  041900  \n",
       "644684      2        1.0      1.000       2  038000  "
      ]
     },
     "execution_count": 90,
     "metadata": {},
     "output_type": "execute_result"
    }
   ],
   "source": [
    "testing_df.drop(columns='Upc',inplace=True)\n",
    "testing_df.tail()"
   ]
  },
  {
   "cell_type": "markdown",
   "metadata": {},
   "source": [
    "## Make DepartmentDescription Column into Dummies"
   ]
  },
  {
   "cell_type": "code",
   "execution_count": 91,
   "metadata": {},
   "outputs": [
    {
     "data": {
      "text/markdown": [
       "##### Dummy타입으로 만든 컬럼 명 : DepartmentDescription"
      ],
      "text/plain": [
       "<IPython.core.display.Markdown object>"
      ]
     },
     "metadata": {},
     "output_type": "display_data"
    },
    {
     "data": {
      "text/markdown": [
       "##### ScanCount는 양수만 사용"
      ],
      "text/plain": [
       "<IPython.core.display.Markdown object>"
      ]
     },
     "metadata": {},
     "output_type": "display_data"
    },
    {
     "data": {
      "text/markdown": [
       "##### Train df 만드는 중"
      ],
      "text/plain": [
       "<IPython.core.display.Markdown object>"
      ]
     },
     "metadata": {},
     "output_type": "display_data"
    },
    {
     "data": {
      "text/markdown": [
       "##### Null 컬럼을 만듬"
      ],
      "text/plain": [
       "<IPython.core.display.Markdown object>"
      ]
     },
     "metadata": {},
     "output_type": "display_data"
    },
    {
     "name": "stdout",
     "output_type": "stream",
     "text": [
      "\n"
     ]
    },
    {
     "data": {
      "text/markdown": [
       "> 위 정보들을 Display하는 이유는 이번 FeatureMatrix를 사용한 모델에 Fit할 Test 모델 만들 때 같은 전처리를 하기 위해서다."
      ],
      "text/plain": [
       "<IPython.core.display.Markdown object>"
      ]
     },
     "metadata": {},
     "output_type": "display_data"
    }
   ],
   "source": [
    "from awesome_functions import *\n",
    "testing_df = make_df_we_wanted(testing_df,testing_df,test,is_need_null_column=True)"
   ]
  },
  {
   "cell_type": "code",
   "execution_count": 92,
   "metadata": {},
   "outputs": [
    {
     "data": {
      "text/html": [
       "<div>\n",
       "<style scoped>\n",
       "    .dataframe tbody tr th:only-of-type {\n",
       "        vertical-align: middle;\n",
       "    }\n",
       "\n",
       "    .dataframe tbody tr th {\n",
       "        vertical-align: top;\n",
       "    }\n",
       "\n",
       "    .dataframe thead th {\n",
       "        text-align: right;\n",
       "    }\n",
       "</style>\n",
       "<table border=\"1\" class=\"dataframe\">\n",
       "  <thead>\n",
       "    <tr style=\"text-align: right;\">\n",
       "      <th></th>\n",
       "      <th>VisitNumber</th>\n",
       "      <th>TripType</th>\n",
       "      <th>Null</th>\n",
       "      <th>Missing</th>\n",
       "      <th>N_Fineline</th>\n",
       "      <th>N_DepartmentDescription</th>\n",
       "      <th>N_Upc</th>\n",
       "      <th>Ratio_F_D</th>\n",
       "      <th>Ratio_U_D</th>\n",
       "      <th>Sum_sc</th>\n",
       "      <th>...</th>\n",
       "      <th>SWIMWEAR/OUTERWEAR</th>\n",
       "      <th>TOYS</th>\n",
       "      <th>WIRELESS</th>\n",
       "      <th>Monday</th>\n",
       "      <th>Tuesday</th>\n",
       "      <th>Wednesday</th>\n",
       "      <th>Thursday</th>\n",
       "      <th>Friday</th>\n",
       "      <th>Saturday</th>\n",
       "      <th>Sunday</th>\n",
       "    </tr>\n",
       "  </thead>\n",
       "  <tbody>\n",
       "    <tr>\n",
       "      <th>94242</th>\n",
       "      <td>191343</td>\n",
       "      <td>25</td>\n",
       "      <td>0</td>\n",
       "      <td>0</td>\n",
       "      <td>35</td>\n",
       "      <td>21</td>\n",
       "      <td>49</td>\n",
       "      <td>11.6667</td>\n",
       "      <td>16.3333</td>\n",
       "      <td>63</td>\n",
       "      <td>...</td>\n",
       "      <td>0</td>\n",
       "      <td>0</td>\n",
       "      <td>0</td>\n",
       "      <td>0</td>\n",
       "      <td>0</td>\n",
       "      <td>0</td>\n",
       "      <td>0</td>\n",
       "      <td>0</td>\n",
       "      <td>0</td>\n",
       "      <td>1</td>\n",
       "    </tr>\n",
       "    <tr>\n",
       "      <th>94243</th>\n",
       "      <td>191344</td>\n",
       "      <td>22</td>\n",
       "      <td>0</td>\n",
       "      <td>0</td>\n",
       "      <td>15</td>\n",
       "      <td>10</td>\n",
       "      <td>25</td>\n",
       "      <td>7.5</td>\n",
       "      <td>12.5</td>\n",
       "      <td>25</td>\n",
       "      <td>...</td>\n",
       "      <td>0</td>\n",
       "      <td>0</td>\n",
       "      <td>1</td>\n",
       "      <td>0</td>\n",
       "      <td>0</td>\n",
       "      <td>0</td>\n",
       "      <td>0</td>\n",
       "      <td>0</td>\n",
       "      <td>0</td>\n",
       "      <td>1</td>\n",
       "    </tr>\n",
       "    <tr>\n",
       "      <th>94244</th>\n",
       "      <td>191345</td>\n",
       "      <td>39</td>\n",
       "      <td>0</td>\n",
       "      <td>0</td>\n",
       "      <td>156</td>\n",
       "      <td>104</td>\n",
       "      <td>169</td>\n",
       "      <td>19.5</td>\n",
       "      <td>21.125</td>\n",
       "      <td>221</td>\n",
       "      <td>...</td>\n",
       "      <td>0</td>\n",
       "      <td>0</td>\n",
       "      <td>0</td>\n",
       "      <td>0</td>\n",
       "      <td>0</td>\n",
       "      <td>0</td>\n",
       "      <td>0</td>\n",
       "      <td>0</td>\n",
       "      <td>0</td>\n",
       "      <td>1</td>\n",
       "    </tr>\n",
       "    <tr>\n",
       "      <th>94245</th>\n",
       "      <td>191346</td>\n",
       "      <td>39</td>\n",
       "      <td>0</td>\n",
       "      <td>0</td>\n",
       "      <td>272</td>\n",
       "      <td>136</td>\n",
       "      <td>289</td>\n",
       "      <td>34</td>\n",
       "      <td>36.125</td>\n",
       "      <td>289</td>\n",
       "      <td>...</td>\n",
       "      <td>0</td>\n",
       "      <td>0</td>\n",
       "      <td>0</td>\n",
       "      <td>0</td>\n",
       "      <td>0</td>\n",
       "      <td>0</td>\n",
       "      <td>0</td>\n",
       "      <td>0</td>\n",
       "      <td>0</td>\n",
       "      <td>1</td>\n",
       "    </tr>\n",
       "    <tr>\n",
       "      <th>94246</th>\n",
       "      <td>191347</td>\n",
       "      <td>8</td>\n",
       "      <td>0</td>\n",
       "      <td>0</td>\n",
       "      <td>4</td>\n",
       "      <td>4</td>\n",
       "      <td>4</td>\n",
       "      <td>2</td>\n",
       "      <td>2</td>\n",
       "      <td>4</td>\n",
       "      <td>...</td>\n",
       "      <td>0</td>\n",
       "      <td>0</td>\n",
       "      <td>0</td>\n",
       "      <td>0</td>\n",
       "      <td>0</td>\n",
       "      <td>0</td>\n",
       "      <td>0</td>\n",
       "      <td>0</td>\n",
       "      <td>0</td>\n",
       "      <td>1</td>\n",
       "    </tr>\n",
       "  </tbody>\n",
       "</table>\n",
       "<p>5 rows × 87 columns</p>\n",
       "</div>"
      ],
      "text/plain": [
       "      VisitNumber TripType Null Missing N_Fineline N_DepartmentDescription  \\\n",
       "94242      191343       25    0       0         35                      21   \n",
       "94243      191344       22    0       0         15                      10   \n",
       "94244      191345       39    0       0        156                     104   \n",
       "94245      191346       39    0       0        272                     136   \n",
       "94246      191347        8    0       0          4                       4   \n",
       "\n",
       "      N_Upc Ratio_F_D Ratio_U_D Sum_sc  ...   SWIMWEAR/OUTERWEAR TOYS  \\\n",
       "94242    49   11.6667   16.3333     63  ...                    0    0   \n",
       "94243    25       7.5      12.5     25  ...                    0    0   \n",
       "94244   169      19.5    21.125    221  ...                    0    0   \n",
       "94245   289        34    36.125    289  ...                    0    0   \n",
       "94246     4         2         2      4  ...                    0    0   \n",
       "\n",
       "      WIRELESS Monday Tuesday Wednesday Thursday Friday Saturday Sunday  \n",
       "94242        0      0       0         0        0      0        0      1  \n",
       "94243        1      0       0         0        0      0        0      1  \n",
       "94244        0      0       0         0        0      0        0      1  \n",
       "94245        0      0       0         0        0      0        0      1  \n",
       "94246        0      0       0         0        0      0        0      1  \n",
       "\n",
       "[5 rows x 87 columns]"
      ]
     },
     "execution_count": 92,
     "metadata": {},
     "output_type": "execute_result"
    }
   ],
   "source": [
    "testing_df.tail()"
   ]
  },
  {
   "cell_type": "code",
   "execution_count": 93,
   "metadata": {},
   "outputs": [],
   "source": [
    "testing_df.drop(columns='Company',inplace=True)"
   ]
  },
  {
   "cell_type": "markdown",
   "metadata": {},
   "source": [
    "## Make Input and Output DataFrame"
   ]
  },
  {
   "cell_type": "code",
   "execution_count": 94,
   "metadata": {},
   "outputs": [],
   "source": [
    "train_X , train_y = get_df_to_fit(testing_df)"
   ]
  },
  {
   "cell_type": "code",
   "execution_count": 95,
   "metadata": {},
   "outputs": [
    {
     "data": {
      "text/html": [
       "<div>\n",
       "<style scoped>\n",
       "    .dataframe tbody tr th:only-of-type {\n",
       "        vertical-align: middle;\n",
       "    }\n",
       "\n",
       "    .dataframe tbody tr th {\n",
       "        vertical-align: top;\n",
       "    }\n",
       "\n",
       "    .dataframe thead th {\n",
       "        text-align: right;\n",
       "    }\n",
       "</style>\n",
       "<table border=\"1\" class=\"dataframe\">\n",
       "  <thead>\n",
       "    <tr style=\"text-align: right;\">\n",
       "      <th></th>\n",
       "      <th>Null</th>\n",
       "      <th>Missing</th>\n",
       "      <th>N_Fineline</th>\n",
       "      <th>N_DepartmentDescription</th>\n",
       "      <th>N_Upc</th>\n",
       "      <th>Ratio_F_D</th>\n",
       "      <th>Ratio_U_D</th>\n",
       "      <th>Sum_sc</th>\n",
       "      <th>Return</th>\n",
       "      <th>1-HR PHOTO</th>\n",
       "      <th>...</th>\n",
       "      <th>SWIMWEAR/OUTERWEAR</th>\n",
       "      <th>TOYS</th>\n",
       "      <th>WIRELESS</th>\n",
       "      <th>Monday</th>\n",
       "      <th>Tuesday</th>\n",
       "      <th>Wednesday</th>\n",
       "      <th>Thursday</th>\n",
       "      <th>Friday</th>\n",
       "      <th>Saturday</th>\n",
       "      <th>Sunday</th>\n",
       "    </tr>\n",
       "  </thead>\n",
       "  <tbody>\n",
       "    <tr>\n",
       "      <th>94242</th>\n",
       "      <td>0</td>\n",
       "      <td>0</td>\n",
       "      <td>35</td>\n",
       "      <td>21</td>\n",
       "      <td>49</td>\n",
       "      <td>11.6667</td>\n",
       "      <td>16.3333</td>\n",
       "      <td>63</td>\n",
       "      <td>0</td>\n",
       "      <td>0</td>\n",
       "      <td>...</td>\n",
       "      <td>0</td>\n",
       "      <td>0</td>\n",
       "      <td>0</td>\n",
       "      <td>0</td>\n",
       "      <td>0</td>\n",
       "      <td>0</td>\n",
       "      <td>0</td>\n",
       "      <td>0</td>\n",
       "      <td>0</td>\n",
       "      <td>1</td>\n",
       "    </tr>\n",
       "    <tr>\n",
       "      <th>94243</th>\n",
       "      <td>0</td>\n",
       "      <td>0</td>\n",
       "      <td>15</td>\n",
       "      <td>10</td>\n",
       "      <td>25</td>\n",
       "      <td>7.5</td>\n",
       "      <td>12.5</td>\n",
       "      <td>25</td>\n",
       "      <td>0</td>\n",
       "      <td>0</td>\n",
       "      <td>...</td>\n",
       "      <td>0</td>\n",
       "      <td>0</td>\n",
       "      <td>1</td>\n",
       "      <td>0</td>\n",
       "      <td>0</td>\n",
       "      <td>0</td>\n",
       "      <td>0</td>\n",
       "      <td>0</td>\n",
       "      <td>0</td>\n",
       "      <td>1</td>\n",
       "    </tr>\n",
       "    <tr>\n",
       "      <th>94244</th>\n",
       "      <td>0</td>\n",
       "      <td>0</td>\n",
       "      <td>156</td>\n",
       "      <td>104</td>\n",
       "      <td>169</td>\n",
       "      <td>19.5</td>\n",
       "      <td>21.125</td>\n",
       "      <td>221</td>\n",
       "      <td>0</td>\n",
       "      <td>0</td>\n",
       "      <td>...</td>\n",
       "      <td>0</td>\n",
       "      <td>0</td>\n",
       "      <td>0</td>\n",
       "      <td>0</td>\n",
       "      <td>0</td>\n",
       "      <td>0</td>\n",
       "      <td>0</td>\n",
       "      <td>0</td>\n",
       "      <td>0</td>\n",
       "      <td>1</td>\n",
       "    </tr>\n",
       "    <tr>\n",
       "      <th>94245</th>\n",
       "      <td>0</td>\n",
       "      <td>0</td>\n",
       "      <td>272</td>\n",
       "      <td>136</td>\n",
       "      <td>289</td>\n",
       "      <td>34</td>\n",
       "      <td>36.125</td>\n",
       "      <td>289</td>\n",
       "      <td>0</td>\n",
       "      <td>0</td>\n",
       "      <td>...</td>\n",
       "      <td>0</td>\n",
       "      <td>0</td>\n",
       "      <td>0</td>\n",
       "      <td>0</td>\n",
       "      <td>0</td>\n",
       "      <td>0</td>\n",
       "      <td>0</td>\n",
       "      <td>0</td>\n",
       "      <td>0</td>\n",
       "      <td>1</td>\n",
       "    </tr>\n",
       "    <tr>\n",
       "      <th>94246</th>\n",
       "      <td>0</td>\n",
       "      <td>0</td>\n",
       "      <td>4</td>\n",
       "      <td>4</td>\n",
       "      <td>4</td>\n",
       "      <td>2</td>\n",
       "      <td>2</td>\n",
       "      <td>4</td>\n",
       "      <td>0</td>\n",
       "      <td>0</td>\n",
       "      <td>...</td>\n",
       "      <td>0</td>\n",
       "      <td>0</td>\n",
       "      <td>0</td>\n",
       "      <td>0</td>\n",
       "      <td>0</td>\n",
       "      <td>0</td>\n",
       "      <td>0</td>\n",
       "      <td>0</td>\n",
       "      <td>0</td>\n",
       "      <td>1</td>\n",
       "    </tr>\n",
       "  </tbody>\n",
       "</table>\n",
       "<p>5 rows × 84 columns</p>\n",
       "</div>"
      ],
      "text/plain": [
       "      Null Missing N_Fineline N_DepartmentDescription N_Upc Ratio_F_D  \\\n",
       "94242    0       0         35                      21    49   11.6667   \n",
       "94243    0       0         15                      10    25       7.5   \n",
       "94244    0       0        156                     104   169      19.5   \n",
       "94245    0       0        272                     136   289        34   \n",
       "94246    0       0          4                       4     4         2   \n",
       "\n",
       "      Ratio_U_D Sum_sc Return 1-HR PHOTO  ...   SWIMWEAR/OUTERWEAR TOYS  \\\n",
       "94242   16.3333     63      0          0  ...                    0    0   \n",
       "94243      12.5     25      0          0  ...                    0    0   \n",
       "94244    21.125    221      0          0  ...                    0    0   \n",
       "94245    36.125    289      0          0  ...                    0    0   \n",
       "94246         2      4      0          0  ...                    0    0   \n",
       "\n",
       "      WIRELESS Monday Tuesday Wednesday Thursday Friday Saturday Sunday  \n",
       "94242        0      0       0         0        0      0        0      1  \n",
       "94243        1      0       0         0        0      0        0      1  \n",
       "94244        0      0       0         0        0      0        0      1  \n",
       "94245        0      0       0         0        0      0        0      1  \n",
       "94246        0      0       0         0        0      0        0      1  \n",
       "\n",
       "[5 rows x 84 columns]"
      ]
     },
     "execution_count": 95,
     "metadata": {},
     "output_type": "execute_result"
    }
   ],
   "source": [
    "train_X.tail()"
   ]
  },
  {
   "cell_type": "code",
   "execution_count": 97,
   "metadata": {},
   "outputs": [],
   "source": [
    "train_y = train_y.astype('int')"
   ]
  },
  {
   "cell_type": "markdown",
   "metadata": {},
   "source": [
    "# Modeling"
   ]
  },
  {
   "cell_type": "markdown",
   "metadata": {},
   "source": [
    "### Multinomial"
   ]
  },
  {
   "cell_type": "code",
   "execution_count": 98,
   "metadata": {
    "scrolled": true
   },
   "outputs": [],
   "source": [
    "from sklearn.naive_bayes import MultinomialNB\n",
    "model1 = MultinomialNB().fit(train_X,train_y)"
   ]
  },
  {
   "cell_type": "markdown",
   "metadata": {},
   "source": [
    "### LogisticRegression"
   ]
  },
  {
   "cell_type": "code",
   "execution_count": 100,
   "metadata": {
    "scrolled": true
   },
   "outputs": [],
   "source": [
    "from sklearn.linear_model import LogisticRegression\n",
    "model2 = LogisticRegression().fit(train_X,train_y)"
   ]
  },
  {
   "cell_type": "code",
   "execution_count": 101,
   "metadata": {},
   "outputs": [
    {
     "name": "stdout",
     "output_type": "stream",
     "text": [
      "Multinomial score:  0.5798062537799612\n",
      "Logistic score:  0.5517841416702919\n"
     ]
    }
   ],
   "source": [
    "from sklearn.metrics import *\n",
    "print('Multinomial score: ',accuracy_score(train_y,model1.predict(train_X))),\n",
    "print('Logistic score: ',accuracy_score(train_y,model2.predict(train_X)))"
   ]
  },
  {
   "cell_type": "markdown",
   "metadata": {},
   "source": [
    "## Tree"
   ]
  },
  {
   "cell_type": "code",
   "execution_count": 109,
   "metadata": {},
   "outputs": [],
   "source": [
    "from sklearn.tree import  ExtraTreeClassifier, DecisionTreeClassifier\n",
    "tree1 = DecisionTreeClassifier(max_depth=17).fit(train_X,train_y)\n",
    "tree2 = ExtraTreeClassifier(max_depth=17).fit(train_X,train_y)"
   ]
  },
  {
   "cell_type": "code",
   "execution_count": 110,
   "metadata": {},
   "outputs": [
    {
     "name": "stdout",
     "output_type": "stream",
     "text": [
      " tree score:  0.6531030165416406\n",
      "Extra tree score:  0.39519560304306767\n"
     ]
    }
   ],
   "source": [
    "from sklearn.metrics import *\n",
    "print(' tree score: ',accuracy_score(train_y,tree1.predict(train_X))),\n",
    "print('Extra tree score: ',accuracy_score(train_y,tree2.predict(train_X)))"
   ]
  },
  {
   "cell_type": "markdown",
   "metadata": {},
   "source": [
    "## Xgboost"
   ]
  },
  {
   "cell_type": "code",
   "execution_count": 111,
   "metadata": {
    "scrolled": false
   },
   "outputs": [],
   "source": [
    "import xgboost as xgb\n",
    "from sklearn.model_selection import train_test_split"
   ]
  },
  {
   "cell_type": "code",
   "execution_count": 112,
   "metadata": {},
   "outputs": [],
   "source": [
    "import xgboost as xgb\n",
    "from sklearn.model_selection import train_test_split\n",
    "from sklearn.preprocessing import LabelEncoder\n",
    "label_enc = LabelEncoder().fit(train_y)\n",
    "y_labeled = label_enc.transform(train_y)"
   ]
  },
  {
   "cell_type": "code",
   "execution_count": 113,
   "metadata": {},
   "outputs": [],
   "source": [
    "X_train, X_test, y_train, y_test = train_test_split(train_X, y_labeled, random_state=0)"
   ]
  },
  {
   "cell_type": "code",
   "execution_count": 114,
   "metadata": {},
   "outputs": [],
   "source": [
    "dtrain = xgb.DMatrix(X_train.values, label=y_train)\n",
    "dtest = xgb.DMatrix(X_test.values, label=y_test)"
   ]
  },
  {
   "cell_type": "code",
   "execution_count": 115,
   "metadata": {
    "scrolled": true
   },
   "outputs": [
    {
     "name": "stdout",
     "output_type": "stream",
     "text": [
      "[0]\ttrain-mlogloss:3.07184\teval-mlogloss:3.08453\n",
      "Multiple eval metrics have been passed: 'eval-mlogloss' will be used for early stopping.\n",
      "\n",
      "Will train until eval-mlogloss hasn't improved in 10 rounds.\n",
      "[1]\ttrain-mlogloss:2.5683\teval-mlogloss:2.59522\n",
      "[2]\ttrain-mlogloss:2.17616\teval-mlogloss:2.21722\n",
      "[3]\ttrain-mlogloss:1.895\teval-mlogloss:1.94802\n",
      "[4]\ttrain-mlogloss:1.70389\teval-mlogloss:1.76676\n",
      "[5]\ttrain-mlogloss:1.56418\teval-mlogloss:1.63498\n",
      "[6]\ttrain-mlogloss:1.45392\teval-mlogloss:1.53109\n",
      "[7]\ttrain-mlogloss:1.36255\teval-mlogloss:1.44663\n",
      "[8]\ttrain-mlogloss:1.28795\teval-mlogloss:1.3778\n",
      "[9]\ttrain-mlogloss:1.22559\teval-mlogloss:1.32041\n",
      "[10]\ttrain-mlogloss:1.17168\teval-mlogloss:1.27147\n",
      "[11]\ttrain-mlogloss:1.12613\teval-mlogloss:1.23041\n",
      "[12]\ttrain-mlogloss:1.08696\teval-mlogloss:1.19561\n",
      "[13]\ttrain-mlogloss:1.05279\teval-mlogloss:1.16583\n",
      "[14]\ttrain-mlogloss:1.0218\teval-mlogloss:1.13883\n",
      "[15]\ttrain-mlogloss:0.994907\teval-mlogloss:1.11593\n",
      "[16]\ttrain-mlogloss:0.970902\teval-mlogloss:1.09574\n",
      "[17]\ttrain-mlogloss:0.95018\teval-mlogloss:1.07845\n",
      "[18]\ttrain-mlogloss:0.930832\teval-mlogloss:1.06247\n",
      "[19]\ttrain-mlogloss:0.91358\teval-mlogloss:1.04875\n",
      "[20]\ttrain-mlogloss:0.89806\teval-mlogloss:1.0361\n",
      "[21]\ttrain-mlogloss:0.883457\teval-mlogloss:1.02505\n",
      "[22]\ttrain-mlogloss:0.870193\teval-mlogloss:1.01517\n",
      "[23]\ttrain-mlogloss:0.858234\teval-mlogloss:1.00638\n",
      "[24]\ttrain-mlogloss:0.846452\teval-mlogloss:0.998217\n",
      "[25]\ttrain-mlogloss:0.836191\teval-mlogloss:0.991148\n",
      "[26]\ttrain-mlogloss:0.826541\teval-mlogloss:0.984201\n",
      "[27]\ttrain-mlogloss:0.817479\teval-mlogloss:0.978329\n",
      "[28]\ttrain-mlogloss:0.808937\teval-mlogloss:0.973113\n",
      "[29]\ttrain-mlogloss:0.801019\teval-mlogloss:0.968037\n",
      "[30]\ttrain-mlogloss:0.793418\teval-mlogloss:0.96316\n",
      "[31]\ttrain-mlogloss:0.786012\teval-mlogloss:0.958759\n",
      "[32]\ttrain-mlogloss:0.779473\teval-mlogloss:0.955008\n",
      "[33]\ttrain-mlogloss:0.773257\teval-mlogloss:0.951794\n",
      "[34]\ttrain-mlogloss:0.767282\teval-mlogloss:0.948458\n",
      "[35]\ttrain-mlogloss:0.761855\teval-mlogloss:0.945438\n",
      "[36]\ttrain-mlogloss:0.756655\teval-mlogloss:0.942782\n",
      "[37]\ttrain-mlogloss:0.751772\teval-mlogloss:0.940358\n",
      "[38]\ttrain-mlogloss:0.747048\teval-mlogloss:0.938036\n",
      "[39]\ttrain-mlogloss:0.74241\teval-mlogloss:0.935845\n",
      "[40]\ttrain-mlogloss:0.73825\teval-mlogloss:0.933954\n",
      "[41]\ttrain-mlogloss:0.73425\teval-mlogloss:0.931962\n",
      "[42]\ttrain-mlogloss:0.730185\teval-mlogloss:0.929982\n",
      "[43]\ttrain-mlogloss:0.726443\teval-mlogloss:0.928383\n",
      "[44]\ttrain-mlogloss:0.722509\teval-mlogloss:0.926713\n",
      "[45]\ttrain-mlogloss:0.718872\teval-mlogloss:0.925178\n",
      "[46]\ttrain-mlogloss:0.71541\teval-mlogloss:0.923929\n",
      "[47]\ttrain-mlogloss:0.712052\teval-mlogloss:0.922511\n",
      "[48]\ttrain-mlogloss:0.70873\teval-mlogloss:0.921092\n",
      "[49]\ttrain-mlogloss:0.705589\teval-mlogloss:0.920032\n",
      "[50]\ttrain-mlogloss:0.702614\teval-mlogloss:0.918955\n",
      "[51]\ttrain-mlogloss:0.6994\teval-mlogloss:0.917908\n",
      "[52]\ttrain-mlogloss:0.696625\teval-mlogloss:0.916921\n",
      "[53]\ttrain-mlogloss:0.693809\teval-mlogloss:0.915953\n",
      "[54]\ttrain-mlogloss:0.690924\teval-mlogloss:0.91496\n",
      "[55]\ttrain-mlogloss:0.68831\teval-mlogloss:0.914252\n",
      "[56]\ttrain-mlogloss:0.685632\teval-mlogloss:0.913551\n",
      "[57]\ttrain-mlogloss:0.683174\teval-mlogloss:0.912901\n",
      "[58]\ttrain-mlogloss:0.680623\teval-mlogloss:0.912181\n",
      "[59]\ttrain-mlogloss:0.67798\teval-mlogloss:0.911553\n",
      "[60]\ttrain-mlogloss:0.675516\teval-mlogloss:0.91109\n",
      "[61]\ttrain-mlogloss:0.672993\teval-mlogloss:0.910595\n",
      "[62]\ttrain-mlogloss:0.670591\teval-mlogloss:0.909888\n",
      "[63]\ttrain-mlogloss:0.668304\teval-mlogloss:0.909057\n",
      "[64]\ttrain-mlogloss:0.666204\teval-mlogloss:0.908511\n",
      "[65]\ttrain-mlogloss:0.663901\teval-mlogloss:0.907766\n",
      "[66]\ttrain-mlogloss:0.661645\teval-mlogloss:0.90715\n",
      "[67]\ttrain-mlogloss:0.659375\teval-mlogloss:0.906662\n",
      "[68]\ttrain-mlogloss:0.656902\teval-mlogloss:0.906228\n",
      "[69]\ttrain-mlogloss:0.654575\teval-mlogloss:0.905764\n",
      "[70]\ttrain-mlogloss:0.652628\teval-mlogloss:0.9054\n",
      "[71]\ttrain-mlogloss:0.650538\teval-mlogloss:0.904867\n",
      "[72]\ttrain-mlogloss:0.648648\teval-mlogloss:0.904537\n",
      "[73]\ttrain-mlogloss:0.646502\teval-mlogloss:0.904161\n",
      "[74]\ttrain-mlogloss:0.644452\teval-mlogloss:0.90372\n",
      "[75]\ttrain-mlogloss:0.642534\teval-mlogloss:0.903378\n",
      "[76]\ttrain-mlogloss:0.640626\teval-mlogloss:0.903041\n",
      "[77]\ttrain-mlogloss:0.638714\teval-mlogloss:0.902815\n",
      "[78]\ttrain-mlogloss:0.636808\teval-mlogloss:0.90262\n",
      "[79]\ttrain-mlogloss:0.635067\teval-mlogloss:0.902206\n",
      "[80]\ttrain-mlogloss:0.63345\teval-mlogloss:0.901913\n",
      "[81]\ttrain-mlogloss:0.631509\teval-mlogloss:0.901623\n",
      "[82]\ttrain-mlogloss:0.629851\teval-mlogloss:0.901293\n",
      "[83]\ttrain-mlogloss:0.62798\teval-mlogloss:0.901101\n",
      "[84]\ttrain-mlogloss:0.625953\teval-mlogloss:0.90087\n",
      "[85]\ttrain-mlogloss:0.624017\teval-mlogloss:0.900472\n",
      "[86]\ttrain-mlogloss:0.622262\teval-mlogloss:0.900231\n",
      "[87]\ttrain-mlogloss:0.620446\teval-mlogloss:0.899941\n",
      "[88]\ttrain-mlogloss:0.618762\teval-mlogloss:0.899665\n",
      "[89]\ttrain-mlogloss:0.616897\teval-mlogloss:0.899557\n",
      "[90]\ttrain-mlogloss:0.615205\teval-mlogloss:0.899404\n",
      "[91]\ttrain-mlogloss:0.613447\teval-mlogloss:0.899173\n",
      "[92]\ttrain-mlogloss:0.611881\teval-mlogloss:0.899198\n",
      "[93]\ttrain-mlogloss:0.609963\teval-mlogloss:0.898924\n",
      "[94]\ttrain-mlogloss:0.608474\teval-mlogloss:0.898702\n",
      "[95]\ttrain-mlogloss:0.606878\teval-mlogloss:0.898472\n",
      "[96]\ttrain-mlogloss:0.605509\teval-mlogloss:0.898252\n",
      "[97]\ttrain-mlogloss:0.604015\teval-mlogloss:0.898262\n",
      "[98]\ttrain-mlogloss:0.602704\teval-mlogloss:0.897996\n",
      "[99]\ttrain-mlogloss:0.601353\teval-mlogloss:0.89789\n",
      "[100]\ttrain-mlogloss:0.600084\teval-mlogloss:0.897738\n",
      "[101]\ttrain-mlogloss:0.598707\teval-mlogloss:0.89766\n",
      "[102]\ttrain-mlogloss:0.597324\teval-mlogloss:0.897489\n",
      "[103]\ttrain-mlogloss:0.595817\teval-mlogloss:0.89726\n",
      "[104]\ttrain-mlogloss:0.594306\teval-mlogloss:0.897066\n",
      "[105]\ttrain-mlogloss:0.592832\teval-mlogloss:0.896974\n",
      "[106]\ttrain-mlogloss:0.591241\teval-mlogloss:0.896984\n",
      "[107]\ttrain-mlogloss:0.590083\teval-mlogloss:0.896919\n",
      "[108]\ttrain-mlogloss:0.588847\teval-mlogloss:0.896919\n",
      "[109]\ttrain-mlogloss:0.587468\teval-mlogloss:0.896854\n",
      "[110]\ttrain-mlogloss:0.586026\teval-mlogloss:0.896876\n",
      "[111]\ttrain-mlogloss:0.584672\teval-mlogloss:0.896834\n",
      "[112]\ttrain-mlogloss:0.583539\teval-mlogloss:0.896725\n",
      "[113]\ttrain-mlogloss:0.582005\teval-mlogloss:0.896597\n",
      "[114]\ttrain-mlogloss:0.580663\teval-mlogloss:0.896662\n",
      "[115]\ttrain-mlogloss:0.579057\teval-mlogloss:0.896437\n",
      "[116]\ttrain-mlogloss:0.577674\teval-mlogloss:0.896491\n",
      "[117]\ttrain-mlogloss:0.576312\teval-mlogloss:0.896547\n",
      "[118]\ttrain-mlogloss:0.574858\teval-mlogloss:0.896477\n",
      "[119]\ttrain-mlogloss:0.573558\teval-mlogloss:0.896443\n",
      "[120]\ttrain-mlogloss:0.572318\teval-mlogloss:0.896303\n",
      "[121]\ttrain-mlogloss:0.571027\teval-mlogloss:0.896435\n",
      "[122]\ttrain-mlogloss:0.569926\teval-mlogloss:0.896537\n",
      "[123]\ttrain-mlogloss:0.568717\teval-mlogloss:0.896524\n",
      "[124]\ttrain-mlogloss:0.567709\teval-mlogloss:0.896632\n",
      "[125]\ttrain-mlogloss:0.566435\teval-mlogloss:0.896596\n",
      "[126]\ttrain-mlogloss:0.565181\teval-mlogloss:0.896595\n",
      "[127]\ttrain-mlogloss:0.563909\teval-mlogloss:0.896671\n",
      "[128]\ttrain-mlogloss:0.562627\teval-mlogloss:0.896593\n",
      "[129]\ttrain-mlogloss:0.561154\teval-mlogloss:0.896607\n",
      "[130]\ttrain-mlogloss:0.55999\teval-mlogloss:0.896524\n",
      "Stopping. Best iteration:\n",
      "[120]\ttrain-mlogloss:0.572318\teval-mlogloss:0.896303\n",
      "\n"
     ]
    }
   ],
   "source": [
    "num_boost_round = 300\n",
    "params = {'objective': 'multi:softprob', \n",
    "          'eval_metric': 'mlogloss',\n",
    "          'num_class':38, \n",
    "          'max_delta_step': 3, \n",
    "          'eta': 0.2}\n",
    "\n",
    "evals = [(dtrain, 'train'), (dtest, 'eval')]\n",
    "\n",
    "bst = xgb.train(params=params,  \n",
    "                dtrain=dtrain, \n",
    "                num_boost_round=num_boost_round, \n",
    "                evals=evals,\n",
    "                early_stopping_rounds=10,)"
   ]
  },
  {
   "cell_type": "code",
   "execution_count": null,
   "metadata": {},
   "outputs": [],
   "source": [
    "def Fineline_Count(data, fineline_list):\n",
    "    \n",
    "    new_data=data[['VisitNumber', 'Weekday']].drop_duplicates()\n",
    "    for i in range(len(fineline_list)):\n",
    "        df=data[data['FinelineNumber']==fineline_list[i]]\n",
    "        df = df.groupby(['VisitNumber'], as_index=False)['Count'].sum()\n",
    "        df.rename(columns={'Count': 'F_%s' % (i)}, inplace=True)\n",
    "        new_data = new_data.merge(df, how='left', on=['VisitNumber'], copy=True)\n",
    "        new_data['F_%s' % (i)].fillna(value=0, inplace=True)\n",
    "    new_data.drop('Weekday', axis=1, inplace=True)    \n",
    "    return new_data \n",
    "\n",
    "def Department_Count_Products(data, department_list):\n",
    "    \n",
    "    new_data=data[['VisitNumber', 'Weekday', 'Sum']].drop_duplicates()\n",
    "    for i in range(len(department_list)):\n",
    "       df=data[data['DepartmentDescription']==department_list[i]]\n",
    "       df = df.groupby(['VisitNumber'], as_index=False)['Count'].sum()\n",
    "       df.rename(columns={'Count': 'D_%s' % (i)}, inplace=True)\n",
    "       new_data = new_data.merge(df, how='left', on=['VisitNumber'], copy=True)\n",
    "       new_data['D_%s' % (i)].fillna(value=0, inplace=True)\n",
    "       new_data['Ratio_%s' % (i)] = new_data['D_%s' % (i)]/new_data['Sum']\n",
    "       new_data['Ratio_%s' % (i)].fillna(value=0, inplace=True)\n",
    "    new_data.drop(['Sum', 'Weekday'], axis=1, inplace=True)\n",
    "    return new_data\n",
    "    \n",
    "def Department_Counts_Neg_Products(data, department_list):\n",
    "\n",
    "    new_data=data[['VisitNumber', 'Weekday']].drop_duplicates()\n",
    "    for i in range(len(department_list)):\n",
    "       df=data[(data['DepartmentDescription']==department_list[i]) & (data['ScanCount']<0)]\n",
    "       df = df.groupby(['VisitNumber'], as_index=False)['ScanCount'].sum()\n",
    "       df['ScanCount'] = df['ScanCount']*(-1)\n",
    "       df.rename(columns={'ScanCount': 'D1_%s' % (i)}, inplace=True)\n",
    "       new_data = new_data.merge(df, how='left', on=['VisitNumber'], copy=True)\n",
    "       new_data['D1_%s' % (i)].fillna(value=0, inplace=True)\n",
    "    new_data.drop('Weekday', axis=1, inplace=True)   \n",
    "    return new_data \n",
    "    \n",
    "def Department_Counts_Multiple_Products(data, department_list):\n",
    "\n",
    "    new_data=data[['VisitNumber', 'Weekday']].drop_duplicates()  \n",
    "    for i in range(len(department_list)):\n",
    "       df=data[(data['DepartmentDescription']==department_list[i]) & (data['ScanCount']>1)]\n",
    "       df = df.groupby(['VisitNumber'], as_index=False)['ScanCount'].count()\n",
    "       df.rename(columns={'ScanCount': 'D2_%s' % (i)}, inplace=True)\n",
    "       new_data = new_data.merge(df, how='left', on=['VisitNumber'], copy=True)\n",
    "       new_data['D2_%s' % (i)].fillna(value=0, inplace=True)\n",
    "    new_data.drop('Weekday', axis=1, inplace=True)   \n",
    "    return new_data \n",
    "    \n",
    "def Department_Counts_Multiple_Rows(data, department_list):\n",
    "\n",
    "    new_data=data[['VisitNumber', 'Weekday']].drop_duplicates()\n",
    "    for i in range(len(department_list)):\n",
    "       df=data[data['DepartmentDescription']==department_list[i]]\n",
    "       df = df.groupby(['VisitNumber', 'FinelineNumber'], as_index=False)['Upc'].count()\n",
    "       df[df['Upc']==1]=0\n",
    "       df = df.groupby(['VisitNumber'], as_index=False)['Upc'].sum()\n",
    "       df.rename(columns={'Upc': 'D3_%s' % (i)}, inplace=True)\n",
    "       new_data = new_data.merge(df, how='left', on=['VisitNumber'], copy=True)\n",
    "       new_data['D3_%s' % (i)].fillna(value=0, inplace=True)\n",
    "    new_data.drop('Weekday', axis=1, inplace=True)   \n",
    "    return new_data \n",
    "\n",
    "def Department_Counts_Rows_Pos_ScanCount(data, department_list):\n",
    "\n",
    "    new_data=data[['VisitNumber', 'Weekday']].drop_duplicates()\n",
    "    for i in range(len(department_list)):\n",
    "       df=data[(data['DepartmentDescription']==department_list[i]) & (data['ScanCount']>0)]\n",
    "       df = df.groupby(['VisitNumber'], as_index=False)['ScanCount'].count()\n",
    "       df = df.groupby(['VisitNumber'], as_index=False)['ScanCount'].sum()\n",
    "       df.rename(columns={'ScanCount': 'D4_%s' % (i)}, inplace=True)\n",
    "       new_data = new_data.merge(df, how='left', on=['VisitNumber'], copy=True)\n",
    "       new_data['D4_%s' % (i)].fillna(value=0, inplace=True)\n",
    "    new_data.drop('Weekday', axis=1, inplace=True)   \n",
    "    return new_data \n",
    "\n",
    "def Department_Counts_Rows_Neg_Scancount(data, department_list):\n",
    "\n",
    "    new_data=data[['VisitNumber', 'Weekday']].drop_duplicates()\n",
    "    for i in range(len(department_list)):\n",
    "       df=data[(data['DepartmentDescription']==department_list[i]) & (data['ScanCount']<0)]\n",
    "       df = df.groupby(['VisitNumber'], as_index=False)['Upc'].count()\n",
    "       df = df.groupby(['VisitNumber'], as_index=False)['Upc'].sum()\n",
    "       df.rename(columns={'Upc': 'D5_%s' % (i)}, inplace=True)\n",
    "       new_data = new_data.merge(df, how='left', on=['VisitNumber'], copy=True)\n",
    "       new_data['D5_%s' % (i)].fillna(value=0, inplace=True)\n",
    "    new_data.drop('Weekday', axis=1, inplace=True)   \n",
    "    return new_data "
   ]
  }
 ],
 "metadata": {
  "kernelspec": {
   "display_name": "Python 3",
   "language": "python",
   "name": "python3"
  },
  "language_info": {
   "codemirror_mode": {
    "name": "ipython",
    "version": 3
   },
   "file_extension": ".py",
   "mimetype": "text/x-python",
   "name": "python",
   "nbconvert_exporter": "python",
   "pygments_lexer": "ipython3",
   "version": "3.6.5"
  }
 },
 "nbformat": 4,
 "nbformat_minor": 2
}
