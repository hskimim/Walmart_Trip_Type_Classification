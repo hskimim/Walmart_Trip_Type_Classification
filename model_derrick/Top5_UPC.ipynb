{
 "cells": [
  {
   "cell_type": "code",
   "execution_count": 24,
   "metadata": {
    "scrolled": true
   },
   "outputs": [],
   "source": [
    "import numpy as np\n",
    "import pandas as pd"
   ]
  },
  {
   "cell_type": "code",
   "execution_count": 25,
   "metadata": {},
   "outputs": [],
   "source": [
    "train_df = pd.read_csv('train.csv')\n",
    "test_df = pd.read_csv('test.csv')"
   ]
  },
  {
   "cell_type": "code",
   "execution_count": 26,
   "metadata": {
    "scrolled": true
   },
   "outputs": [
    {
     "data": {
      "text/html": [
       "<div>\n",
       "<style scoped>\n",
       "    .dataframe tbody tr th:only-of-type {\n",
       "        vertical-align: middle;\n",
       "    }\n",
       "\n",
       "    .dataframe tbody tr th {\n",
       "        vertical-align: top;\n",
       "    }\n",
       "\n",
       "    .dataframe thead th {\n",
       "        text-align: right;\n",
       "    }\n",
       "</style>\n",
       "<table border=\"1\" class=\"dataframe\">\n",
       "  <thead>\n",
       "    <tr style=\"text-align: right;\">\n",
       "      <th></th>\n",
       "      <th>TripType</th>\n",
       "      <th>VisitNumber</th>\n",
       "      <th>Weekday</th>\n",
       "      <th>Upc</th>\n",
       "      <th>ScanCount</th>\n",
       "      <th>DepartmentDescription</th>\n",
       "      <th>FinelineNumber</th>\n",
       "    </tr>\n",
       "  </thead>\n",
       "  <tbody>\n",
       "    <tr>\n",
       "      <th>647049</th>\n",
       "      <td>39</td>\n",
       "      <td>191346</td>\n",
       "      <td>Sunday</td>\n",
       "      <td>3.239000e+10</td>\n",
       "      <td>1</td>\n",
       "      <td>PHARMACY OTC</td>\n",
       "      <td>1118.0</td>\n",
       "    </tr>\n",
       "    <tr>\n",
       "      <th>647050</th>\n",
       "      <td>39</td>\n",
       "      <td>191346</td>\n",
       "      <td>Sunday</td>\n",
       "      <td>7.874205e+09</td>\n",
       "      <td>1</td>\n",
       "      <td>FROZEN FOODS</td>\n",
       "      <td>1752.0</td>\n",
       "    </tr>\n",
       "    <tr>\n",
       "      <th>647051</th>\n",
       "      <td>39</td>\n",
       "      <td>191346</td>\n",
       "      <td>Sunday</td>\n",
       "      <td>4.072000e+03</td>\n",
       "      <td>1</td>\n",
       "      <td>PRODUCE</td>\n",
       "      <td>4170.0</td>\n",
       "    </tr>\n",
       "    <tr>\n",
       "      <th>647052</th>\n",
       "      <td>8</td>\n",
       "      <td>191347</td>\n",
       "      <td>Sunday</td>\n",
       "      <td>4.190008e+09</td>\n",
       "      <td>1</td>\n",
       "      <td>DAIRY</td>\n",
       "      <td>1512.0</td>\n",
       "    </tr>\n",
       "    <tr>\n",
       "      <th>647053</th>\n",
       "      <td>8</td>\n",
       "      <td>191347</td>\n",
       "      <td>Sunday</td>\n",
       "      <td>3.800060e+09</td>\n",
       "      <td>1</td>\n",
       "      <td>GROCERY DRY GOODS</td>\n",
       "      <td>3600.0</td>\n",
       "    </tr>\n",
       "  </tbody>\n",
       "</table>\n",
       "</div>"
      ],
      "text/plain": [
       "        TripType  VisitNumber Weekday           Upc  ScanCount  \\\n",
       "647049        39       191346  Sunday  3.239000e+10          1   \n",
       "647050        39       191346  Sunday  7.874205e+09          1   \n",
       "647051        39       191346  Sunday  4.072000e+03          1   \n",
       "647052         8       191347  Sunday  4.190008e+09          1   \n",
       "647053         8       191347  Sunday  3.800060e+09          1   \n",
       "\n",
       "       DepartmentDescription  FinelineNumber  \n",
       "647049          PHARMACY OTC          1118.0  \n",
       "647050          FROZEN FOODS          1752.0  \n",
       "647051               PRODUCE          4170.0  \n",
       "647052                 DAIRY          1512.0  \n",
       "647053     GROCERY DRY GOODS          3600.0  "
      ]
     },
     "execution_count": 26,
     "metadata": {},
     "output_type": "execute_result"
    }
   ],
   "source": [
    "train_df.tail()"
   ]
  },
  {
   "cell_type": "code",
   "execution_count": 27,
   "metadata": {},
   "outputs": [
    {
     "data": {
      "text/html": [
       "<div>\n",
       "<style scoped>\n",
       "    .dataframe tbody tr th:only-of-type {\n",
       "        vertical-align: middle;\n",
       "    }\n",
       "\n",
       "    .dataframe tbody tr th {\n",
       "        vertical-align: top;\n",
       "    }\n",
       "\n",
       "    .dataframe thead th {\n",
       "        text-align: right;\n",
       "    }\n",
       "</style>\n",
       "<table border=\"1\" class=\"dataframe\">\n",
       "  <thead>\n",
       "    <tr style=\"text-align: right;\">\n",
       "      <th></th>\n",
       "      <th>VisitNumber</th>\n",
       "      <th>Weekday</th>\n",
       "      <th>Upc</th>\n",
       "      <th>ScanCount</th>\n",
       "      <th>DepartmentDescription</th>\n",
       "      <th>FinelineNumber</th>\n",
       "    </tr>\n",
       "  </thead>\n",
       "  <tbody>\n",
       "    <tr>\n",
       "      <th>653641</th>\n",
       "      <td>191348</td>\n",
       "      <td>Sunday</td>\n",
       "      <td>6.657211e+10</td>\n",
       "      <td>1</td>\n",
       "      <td>BATH AND SHOWER</td>\n",
       "      <td>1505.0</td>\n",
       "    </tr>\n",
       "    <tr>\n",
       "      <th>653642</th>\n",
       "      <td>191348</td>\n",
       "      <td>Sunday</td>\n",
       "      <td>8.818139e+10</td>\n",
       "      <td>1</td>\n",
       "      <td>BATH AND SHOWER</td>\n",
       "      <td>1099.0</td>\n",
       "    </tr>\n",
       "    <tr>\n",
       "      <th>653643</th>\n",
       "      <td>191348</td>\n",
       "      <td>Sunday</td>\n",
       "      <td>4.282557e+09</td>\n",
       "      <td>1</td>\n",
       "      <td>MENS WEAR</td>\n",
       "      <td>8220.0</td>\n",
       "    </tr>\n",
       "    <tr>\n",
       "      <th>653644</th>\n",
       "      <td>191348</td>\n",
       "      <td>Sunday</td>\n",
       "      <td>8.046919e+10</td>\n",
       "      <td>1</td>\n",
       "      <td>SWIMWEAR/OUTERWEAR</td>\n",
       "      <td>114.0</td>\n",
       "    </tr>\n",
       "    <tr>\n",
       "      <th>653645</th>\n",
       "      <td>191348</td>\n",
       "      <td>Sunday</td>\n",
       "      <td>7.871536e+09</td>\n",
       "      <td>1</td>\n",
       "      <td>MENS WEAR</td>\n",
       "      <td>4923.0</td>\n",
       "    </tr>\n",
       "  </tbody>\n",
       "</table>\n",
       "</div>"
      ],
      "text/plain": [
       "        VisitNumber Weekday           Upc  ScanCount DepartmentDescription  \\\n",
       "653641       191348  Sunday  6.657211e+10          1       BATH AND SHOWER   \n",
       "653642       191348  Sunday  8.818139e+10          1       BATH AND SHOWER   \n",
       "653643       191348  Sunday  4.282557e+09          1             MENS WEAR   \n",
       "653644       191348  Sunday  8.046919e+10          1    SWIMWEAR/OUTERWEAR   \n",
       "653645       191348  Sunday  7.871536e+09          1             MENS WEAR   \n",
       "\n",
       "        FinelineNumber  \n",
       "653641          1505.0  \n",
       "653642          1099.0  \n",
       "653643          8220.0  \n",
       "653644           114.0  \n",
       "653645          4923.0  "
      ]
     },
     "execution_count": 27,
     "metadata": {},
     "output_type": "execute_result"
    }
   ],
   "source": [
    "test_df.tail()"
   ]
  },
  {
   "cell_type": "markdown",
   "metadata": {},
   "source": [
    "원본 유지를 위해서 깊은 복사"
   ]
  },
  {
   "cell_type": "code",
   "execution_count": 28,
   "metadata": {},
   "outputs": [],
   "source": [
    "def upc_decode(UPC_comp):\n",
    "    if UPC_comp != 'nan':\n",
    "        UPC_comp = str(UPC_comp).split('.')[0]\n",
    "        UPC_company = __upc_to_company(UPC_comp)\n",
    "    else: UPC_company = -9999\n",
    "    return UPC_company"
   ]
  },
  {
   "cell_type": "code",
   "execution_count": 29,
   "metadata": {},
   "outputs": [],
   "source": [
    "def __upc_to_company(UPC_comp):\n",
    "    upc_company = UPC_comp[:6]\n",
    "    return upc_company"
   ]
  },
  {
   "cell_type": "code",
   "execution_count": 30,
   "metadata": {},
   "outputs": [],
   "source": [
    "train_df['Upc'] = train_df['Upc'].apply(upc_decode)"
   ]
  },
  {
   "cell_type": "code",
   "execution_count": 31,
   "metadata": {},
   "outputs": [],
   "source": [
    "testing_df = train_df[['TripType','Upc','ScanCount']].copy()"
   ]
  },
  {
   "cell_type": "markdown",
   "metadata": {},
   "source": [
    "일부분만 추출"
   ]
  },
  {
   "cell_type": "code",
   "execution_count": 32,
   "metadata": {},
   "outputs": [
    {
     "data": {
      "text/html": [
       "<div>\n",
       "<style scoped>\n",
       "    .dataframe tbody tr th:only-of-type {\n",
       "        vertical-align: middle;\n",
       "    }\n",
       "\n",
       "    .dataframe tbody tr th {\n",
       "        vertical-align: top;\n",
       "    }\n",
       "\n",
       "    .dataframe thead th {\n",
       "        text-align: right;\n",
       "    }\n",
       "</style>\n",
       "<table border=\"1\" class=\"dataframe\">\n",
       "  <thead>\n",
       "    <tr style=\"text-align: right;\">\n",
       "      <th></th>\n",
       "      <th>TripType</th>\n",
       "      <th>Upc</th>\n",
       "      <th>ScanCount</th>\n",
       "    </tr>\n",
       "  </thead>\n",
       "  <tbody>\n",
       "    <tr>\n",
       "      <th>0</th>\n",
       "      <td>999</td>\n",
       "      <td>681131</td>\n",
       "      <td>-1</td>\n",
       "    </tr>\n",
       "    <tr>\n",
       "      <th>1</th>\n",
       "      <td>30</td>\n",
       "      <td>605388</td>\n",
       "      <td>1</td>\n",
       "    </tr>\n",
       "    <tr>\n",
       "      <th>2</th>\n",
       "      <td>30</td>\n",
       "      <td>741081</td>\n",
       "      <td>1</td>\n",
       "    </tr>\n",
       "    <tr>\n",
       "      <th>3</th>\n",
       "      <td>26</td>\n",
       "      <td>223840</td>\n",
       "      <td>2</td>\n",
       "    </tr>\n",
       "    <tr>\n",
       "      <th>4</th>\n",
       "      <td>26</td>\n",
       "      <td>200661</td>\n",
       "      <td>2</td>\n",
       "    </tr>\n",
       "  </tbody>\n",
       "</table>\n",
       "</div>"
      ],
      "text/plain": [
       "   TripType     Upc  ScanCount\n",
       "0       999  681131         -1\n",
       "1        30  605388          1\n",
       "2        30  741081          1\n",
       "3        26  223840          2\n",
       "4        26  200661          2"
      ]
     },
     "execution_count": 32,
     "metadata": {},
     "output_type": "execute_result"
    }
   ],
   "source": [
    "testing_df.head()"
   ]
  },
  {
   "cell_type": "markdown",
   "metadata": {},
   "source": [
    "TripType , FinelineNumber 를 계층적 인덱스로 기준을 잡고 나머지 ScanCount를 더한 것을 value로 하는 데이터프레임 형성"
   ]
  },
  {
   "cell_type": "code",
   "execution_count": 33,
   "metadata": {},
   "outputs": [],
   "source": [
    "testing_df = testing_df.groupby(by=['TripType','Upc']).sum()"
   ]
  },
  {
   "cell_type": "markdown",
   "metadata": {},
   "source": [
    "triptype_ls 에는 TripType(3,..,999)의 고유한 값만이 들어간다."
   ]
  },
  {
   "cell_type": "code",
   "execution_count": 34,
   "metadata": {
    "scrolled": false
   },
   "outputs": [
    {
     "data": {
      "text/plain": [
       "38"
      ]
     },
     "execution_count": 34,
     "metadata": {},
     "output_type": "execute_result"
    }
   ],
   "source": [
    "triptype_ls = sorted(list(train_df['TripType'].unique()))\n",
    "len(triptype_ls)"
   ]
  },
  {
   "cell_type": "markdown",
   "metadata": {},
   "source": [
    "상위 5개의 ScanCount를 뽑아내는 반복문이다. ls_iter list에 하나의 TripType기준으로 상위 5개를 저장해 묶어 저장한다."
   ]
  },
  {
   "cell_type": "code",
   "execution_count": 35,
   "metadata": {
    "scrolled": true
   },
   "outputs": [
    {
     "data": {
      "text/plain": [
       "38"
      ]
     },
     "execution_count": 35,
     "metadata": {},
     "output_type": "execute_result"
    }
   ],
   "source": [
    "ls_iter = []\n",
    "for i in triptype_ls:\n",
    "    if not np.isnan(i) :\n",
    "        ls_iter.append(list(testing_df.loc[i].sort_values(by='ScanCount')['ScanCount'])[-5:])\n",
    "len(ls_iter)"
   ]
  },
  {
   "cell_type": "markdown",
   "metadata": {},
   "source": [
    "38개의 TripType 을 키로 하고, 상위 5개의 ScanCount값을 value로 하는 dictionary dict_top5"
   ]
  },
  {
   "cell_type": "code",
   "execution_count": 36,
   "metadata": {
    "scrolled": true
   },
   "outputs": [
    {
     "data": {
      "text/plain": [
       "38"
      ]
     },
     "execution_count": 36,
     "metadata": {},
     "output_type": "execute_result"
    }
   ],
   "source": [
    "dict_top5 = dict(zip(triptype_ls,ls_iter))\n",
    "len(dict_top5)"
   ]
  },
  {
   "cell_type": "code",
   "execution_count": 37,
   "metadata": {},
   "outputs": [
    {
     "name": "stderr",
     "output_type": "stream",
     "text": [
      "/home/hskimim/anaconda3/lib/python3.6/site-packages/ipykernel_launcher.py:4: UserWarning: Boolean Series key will be reindexed to match DataFrame index.\n",
      "  after removing the cwd from sys.path.\n"
     ]
    },
    {
     "data": {
      "text/plain": [
       "190"
      ]
     },
     "execution_count": 37,
     "metadata": {},
     "output_type": "execute_result"
    }
   ],
   "source": [
    "ls_fl_testing = []\n",
    "for i ,j in dict_top5.items():\n",
    "    for k in j:\n",
    "        ls_fl_testing.append(list((testing_df.loc[i,:,:][testing_df.loc[:]['ScanCount'] == k].loc[i].index)))\n",
    "len(ls_fl_testing)"
   ]
  },
  {
   "cell_type": "code",
   "execution_count": 38,
   "metadata": {},
   "outputs": [],
   "source": [
    "ls_fl_testing\n",
    "ls_fl_testing = [i for l in ls_fl_testing for i in l]"
   ]
  },
  {
   "cell_type": "code",
   "execution_count": 39,
   "metadata": {},
   "outputs": [
    {
     "data": {
      "text/plain": [
       "206"
      ]
     },
     "execution_count": 39,
     "metadata": {},
     "output_type": "execute_result"
    }
   ],
   "source": [
    "len(ls_fl_testing)"
   ]
  },
  {
   "cell_type": "code",
   "execution_count": 40,
   "metadata": {},
   "outputs": [
    {
     "data": {
      "text/plain": [
       "84"
      ]
     },
     "execution_count": 40,
     "metadata": {},
     "output_type": "execute_result"
    }
   ],
   "source": [
    "ls_fl_testing = list(set(ls_fl_testing))\n",
    "len(ls_fl_testing)"
   ]
  },
  {
   "cell_type": "code",
   "execution_count": 41,
   "metadata": {
    "scrolled": true
   },
   "outputs": [
    {
     "data": {
      "text/plain": [
       "['111799',\n",
       " '111923',\n",
       " '138032',\n",
       " '150000',\n",
       " '178001',\n",
       " '225320',\n",
       " '231000',\n",
       " '247193',\n",
       " '251921',\n",
       " '251922',\n",
       " '261000',\n",
       " '277360',\n",
       " '277550',\n",
       " '282000',\n",
       " '284000',\n",
       " '289145',\n",
       " '289952',\n",
       " '300450',\n",
       " '312546',\n",
       " '323900',\n",
       " '333836',\n",
       " '340000',\n",
       " '342234',\n",
       " '350007',\n",
       " '350119',\n",
       " '363824',\n",
       " '366320',\n",
       " '370008',\n",
       " '381370',\n",
       " '386750',\n",
       " '400086',\n",
       " '4011',\n",
       " '413830',\n",
       " '440000',\n",
       " '446003',\n",
       " '460134',\n",
       " '465007',\n",
       " '490000',\n",
       " '500002',\n",
       " '500004',\n",
       " '500005',\n",
       " '520003',\n",
       " '605388',\n",
       " '610214',\n",
       " '616960',\n",
       " '645416',\n",
       " '653569',\n",
       " '673419',\n",
       " '681131',\n",
       " '692302',\n",
       " '710425',\n",
       " '711719',\n",
       " '715211',\n",
       " '715339',\n",
       " '719241',\n",
       " '724504',\n",
       " '725033',\n",
       " '731491',\n",
       " '736508',\n",
       " '746775',\n",
       " '753531',\n",
       " '765013',\n",
       " '765940',\n",
       " '782573',\n",
       " '787420',\n",
       " '787421',\n",
       " '787423',\n",
       " '787429',\n",
       " '799366',\n",
       " '802404',\n",
       " '830324',\n",
       " '831200',\n",
       " '840109',\n",
       " '852000',\n",
       " '874586',\n",
       " '880615',\n",
       " '880632',\n",
       " '883929',\n",
       " '885306',\n",
       " '885370',\n",
       " '886111',\n",
       " '887276',\n",
       " '887961',\n",
       " 'nan']"
      ]
     },
     "execution_count": 41,
     "metadata": {},
     "output_type": "execute_result"
    }
   ],
   "source": [
    "sorted(ls_fl_testing)"
   ]
  },
  {
   "cell_type": "code",
   "execution_count": 45,
   "metadata": {},
   "outputs": [
    {
     "data": {
      "text/plain": [
       "9097"
      ]
     },
     "execution_count": 45,
     "metadata": {},
     "output_type": "execute_result"
    }
   ],
   "source": [
    "ls_test = sorted(list(train_df['Upc'].unique()))\n",
    "len(ls_test)"
   ]
  },
  {
   "cell_type": "code",
   "execution_count": 46,
   "metadata": {},
   "outputs": [],
   "source": [
    "count = 0\n",
    "for i in ls_test:\n",
    "    for j in ls_fl_testing:\n",
    "        if i == j:\n",
    "            count+=1"
   ]
  },
  {
   "cell_type": "code",
   "execution_count": 47,
   "metadata": {},
   "outputs": [
    {
     "data": {
      "text/plain": [
       "84"
      ]
     },
     "execution_count": 47,
     "metadata": {},
     "output_type": "execute_result"
    }
   ],
   "source": [
    "count"
   ]
  },
  {
   "cell_type": "code",
   "execution_count": 48,
   "metadata": {},
   "outputs": [],
   "source": [
    "upc_top5_df = pd.DataFrame()\n",
    "upc_top5_df['list'] = ls_fl_testing"
   ]
  },
  {
   "cell_type": "code",
   "execution_count": 50,
   "metadata": {},
   "outputs": [],
   "source": [
    "upc_top5_df.dropna(inplace=True)"
   ]
  },
  {
   "cell_type": "code",
   "execution_count": 52,
   "metadata": {},
   "outputs": [
    {
     "data": {
      "text/plain": [
       "array([['782573'],\n",
       "       ['753531'],\n",
       "       ['725033'],\n",
       "       ['366320'],\n",
       "       ['852000'],\n",
       "       ['724504'],\n",
       "       ['787421'],\n",
       "       ['465007'],\n",
       "       ['653569'],\n",
       "       ['231000'],\n",
       "       ['284000'],\n",
       "       ['787429'],\n",
       "       ['831200'],\n",
       "       ['645416'],\n",
       "       ['333836'],\n",
       "       ['500004'],\n",
       "       ['874586'],\n",
       "       ['715211'],\n",
       "       ['340000'],\n",
       "       ['886111'],\n",
       "       ['277550'],\n",
       "       ['289952'],\n",
       "       ['736508'],\n",
       "       ['880615'],\n",
       "       ['440000'],\n",
       "       ['605388'],\n",
       "       ['885306'],\n",
       "       ['138032'],\n",
       "       ['765940'],\n",
       "       ['883929'],\n",
       "       ['885370'],\n",
       "       ['731491'],\n",
       "       ['500002'],\n",
       "       ['312546'],\n",
       "       ['300450'],\n",
       "       ['251921'],\n",
       "       ['178001'],\n",
       "       ['840109'],\n",
       "       ['342234'],\n",
       "       ['261000'],\n",
       "       ['765013'],\n",
       "       ['251922'],\n",
       "       ['746775'],\n",
       "       ['400086'],\n",
       "       ['247193'],\n",
       "       ['830324'],\n",
       "       ['616960'],\n",
       "       ['719241'],\n",
       "       ['323900'],\n",
       "       ['787420'],\n",
       "       ['363824'],\n",
       "       ['282000'],\n",
       "       ['4011'],\n",
       "       ['681131'],\n",
       "       ['446003'],\n",
       "       ['692302'],\n",
       "       ['673419'],\n",
       "       ['715339'],\n",
       "       ['350119'],\n",
       "       ['887276'],\n",
       "       ['111799'],\n",
       "       ['887961'],\n",
       "       ['802404'],\n",
       "       ['370008'],\n",
       "       ['711719'],\n",
       "       ['880632'],\n",
       "       ['150000'],\n",
       "       ['710425'],\n",
       "       ['460134'],\n",
       "       ['225320'],\n",
       "       ['490000'],\n",
       "       ['610214'],\n",
       "       ['500005'],\n",
       "       ['799366'],\n",
       "       ['289145'],\n",
       "       ['381370'],\n",
       "       ['350007'],\n",
       "       ['413830'],\n",
       "       ['520003'],\n",
       "       ['277360'],\n",
       "       ['787423'],\n",
       "       ['nan'],\n",
       "       ['386750'],\n",
       "       ['111923']], dtype=object)"
      ]
     },
     "execution_count": 52,
     "metadata": {},
     "output_type": "execute_result"
    }
   ],
   "source": [
    "upc_top5_df.values"
   ]
  },
  {
   "cell_type": "code",
   "execution_count": null,
   "metadata": {},
   "outputs": [],
   "source": []
  }
 ],
 "metadata": {
  "kernelspec": {
   "display_name": "Python 3",
   "language": "python",
   "name": "python3"
  },
  "language_info": {
   "codemirror_mode": {
    "name": "ipython",
    "version": 3
   },
   "file_extension": ".py",
   "mimetype": "text/x-python",
   "name": "python",
   "nbconvert_exporter": "python",
   "pygments_lexer": "ipython3",
   "version": "3.6.5"
  }
 },
 "nbformat": 4,
 "nbformat_minor": 2
}
