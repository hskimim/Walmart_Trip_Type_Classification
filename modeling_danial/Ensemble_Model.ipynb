{
 "cells": [
  {
   "cell_type": "code",
   "execution_count": 2,
   "metadata": {},
   "outputs": [],
   "source": [
    "import numpy as np\n",
    "import pandas as pd\n",
    "import matplotlib.pylab as plt\n",
    "import seaborn as sns\n",
    "import warnings\n",
    "warnings.filterwarnings('ignore')\n",
    "from sklearn.model_selection import train_test_split , cross_val_score , KFold , GridSearchCV\n",
    "from sklearn.metrics import classification_report,confusion_matrix,accuracy_score\n",
    "from sklearn.tree import DecisionTreeClassifier\n",
    "from sklearn.ensemble import RandomForestClassifier ,BaggingClassifier , VotingClassifier , AdaBoostClassifier , GradientBoostingClassifier , ExtraTreesClassifier\n",
    "from sklearn.svm import SVC\n",
    "from sklearn.metrics import classification_report, confusion_matrix , accuracy_score"
   ]
  },
  {
   "cell_type": "code",
   "execution_count": 3,
   "metadata": {
    "scrolled": true
   },
   "outputs": [
    {
     "data": {
      "text/html": [
       "<div>\n",
       "<style scoped>\n",
       "    .dataframe tbody tr th:only-of-type {\n",
       "        vertical-align: middle;\n",
       "    }\n",
       "\n",
       "    .dataframe tbody tr th {\n",
       "        vertical-align: top;\n",
       "    }\n",
       "\n",
       "    .dataframe thead th {\n",
       "        text-align: right;\n",
       "    }\n",
       "</style>\n",
       "<table border=\"1\" class=\"dataframe\">\n",
       "  <thead>\n",
       "    <tr style=\"text-align: right;\">\n",
       "      <th></th>\n",
       "      <th>VisitNumber</th>\n",
       "      <th>TripType</th>\n",
       "      <th>Monday</th>\n",
       "      <th>Tuesday</th>\n",
       "      <th>Wednesday</th>\n",
       "      <th>Thursday</th>\n",
       "      <th>Friday</th>\n",
       "      <th>Saturday</th>\n",
       "      <th>Sunday</th>\n",
       "      <th>Return_bin</th>\n",
       "      <th>...</th>\n",
       "      <th>SEAFOOD</th>\n",
       "      <th>SEASONAL</th>\n",
       "      <th>SERVICE DELI</th>\n",
       "      <th>SHEER HOSIERY</th>\n",
       "      <th>SHOES</th>\n",
       "      <th>SLEEPWEAR/FOUNDATIONS</th>\n",
       "      <th>SPORTING GOODS</th>\n",
       "      <th>SWIMWEAR/OUTERWEAR</th>\n",
       "      <th>TOYS</th>\n",
       "      <th>WIRELESS</th>\n",
       "    </tr>\n",
       "  </thead>\n",
       "  <tbody>\n",
       "    <tr>\n",
       "      <th>95669</th>\n",
       "      <td>191343</td>\n",
       "      <td>25</td>\n",
       "      <td>0</td>\n",
       "      <td>0</td>\n",
       "      <td>0</td>\n",
       "      <td>0</td>\n",
       "      <td>0</td>\n",
       "      <td>0</td>\n",
       "      <td>1</td>\n",
       "      <td>0.0</td>\n",
       "      <td>...</td>\n",
       "      <td>0</td>\n",
       "      <td>0</td>\n",
       "      <td>0</td>\n",
       "      <td>0</td>\n",
       "      <td>0</td>\n",
       "      <td>0</td>\n",
       "      <td>0</td>\n",
       "      <td>0</td>\n",
       "      <td>0</td>\n",
       "      <td>0</td>\n",
       "    </tr>\n",
       "    <tr>\n",
       "      <th>95670</th>\n",
       "      <td>191344</td>\n",
       "      <td>22</td>\n",
       "      <td>0</td>\n",
       "      <td>0</td>\n",
       "      <td>0</td>\n",
       "      <td>0</td>\n",
       "      <td>0</td>\n",
       "      <td>0</td>\n",
       "      <td>1</td>\n",
       "      <td>0.0</td>\n",
       "      <td>...</td>\n",
       "      <td>0</td>\n",
       "      <td>0</td>\n",
       "      <td>0</td>\n",
       "      <td>0</td>\n",
       "      <td>0</td>\n",
       "      <td>0</td>\n",
       "      <td>0</td>\n",
       "      <td>0</td>\n",
       "      <td>0</td>\n",
       "      <td>1</td>\n",
       "    </tr>\n",
       "    <tr>\n",
       "      <th>95671</th>\n",
       "      <td>191345</td>\n",
       "      <td>39</td>\n",
       "      <td>0</td>\n",
       "      <td>0</td>\n",
       "      <td>0</td>\n",
       "      <td>0</td>\n",
       "      <td>0</td>\n",
       "      <td>0</td>\n",
       "      <td>1</td>\n",
       "      <td>0.0</td>\n",
       "      <td>...</td>\n",
       "      <td>0</td>\n",
       "      <td>0</td>\n",
       "      <td>0</td>\n",
       "      <td>0</td>\n",
       "      <td>0</td>\n",
       "      <td>0</td>\n",
       "      <td>0</td>\n",
       "      <td>0</td>\n",
       "      <td>0</td>\n",
       "      <td>0</td>\n",
       "    </tr>\n",
       "    <tr>\n",
       "      <th>95672</th>\n",
       "      <td>191346</td>\n",
       "      <td>39</td>\n",
       "      <td>0</td>\n",
       "      <td>0</td>\n",
       "      <td>0</td>\n",
       "      <td>0</td>\n",
       "      <td>0</td>\n",
       "      <td>0</td>\n",
       "      <td>1</td>\n",
       "      <td>0.0</td>\n",
       "      <td>...</td>\n",
       "      <td>0</td>\n",
       "      <td>0</td>\n",
       "      <td>0</td>\n",
       "      <td>0</td>\n",
       "      <td>0</td>\n",
       "      <td>0</td>\n",
       "      <td>0</td>\n",
       "      <td>0</td>\n",
       "      <td>0</td>\n",
       "      <td>0</td>\n",
       "    </tr>\n",
       "    <tr>\n",
       "      <th>95673</th>\n",
       "      <td>191347</td>\n",
       "      <td>8</td>\n",
       "      <td>0</td>\n",
       "      <td>0</td>\n",
       "      <td>0</td>\n",
       "      <td>0</td>\n",
       "      <td>0</td>\n",
       "      <td>0</td>\n",
       "      <td>1</td>\n",
       "      <td>0.0</td>\n",
       "      <td>...</td>\n",
       "      <td>0</td>\n",
       "      <td>0</td>\n",
       "      <td>0</td>\n",
       "      <td>0</td>\n",
       "      <td>0</td>\n",
       "      <td>0</td>\n",
       "      <td>0</td>\n",
       "      <td>0</td>\n",
       "      <td>0</td>\n",
       "      <td>0</td>\n",
       "    </tr>\n",
       "  </tbody>\n",
       "</table>\n",
       "<p>5 rows × 78 columns</p>\n",
       "</div>"
      ],
      "text/plain": [
       "       VisitNumber  TripType  Monday  Tuesday  Wednesday  Thursday  Friday  \\\n",
       "95669       191343        25       0        0          0         0       0   \n",
       "95670       191344        22       0        0          0         0       0   \n",
       "95671       191345        39       0        0          0         0       0   \n",
       "95672       191346        39       0        0          0         0       0   \n",
       "95673       191347         8       0        0          0         0       0   \n",
       "\n",
       "       Saturday  Sunday  Return_bin    ...     SEAFOOD  SEASONAL  \\\n",
       "95669         0       1         0.0    ...           0         0   \n",
       "95670         0       1         0.0    ...           0         0   \n",
       "95671         0       1         0.0    ...           0         0   \n",
       "95672         0       1         0.0    ...           0         0   \n",
       "95673         0       1         0.0    ...           0         0   \n",
       "\n",
       "       SERVICE DELI  SHEER HOSIERY  SHOES  SLEEPWEAR/FOUNDATIONS  \\\n",
       "95669             0              0      0                      0   \n",
       "95670             0              0      0                      0   \n",
       "95671             0              0      0                      0   \n",
       "95672             0              0      0                      0   \n",
       "95673             0              0      0                      0   \n",
       "\n",
       "       SPORTING GOODS  SWIMWEAR/OUTERWEAR  TOYS  WIRELESS  \n",
       "95669               0                   0     0         0  \n",
       "95670               0                   0     0         1  \n",
       "95671               0                   0     0         0  \n",
       "95672               0                   0     0         0  \n",
       "95673               0                   0     0         0  \n",
       "\n",
       "[5 rows x 78 columns]"
      ]
     },
     "execution_count": 3,
     "metadata": {},
     "output_type": "execute_result"
    }
   ],
   "source": [
    "train_df = pd.read_csv('train_new_2v.csv')\n",
    "train_df.tail()"
   ]
  },
  {
   "cell_type": "code",
   "execution_count": 4,
   "metadata": {},
   "outputs": [
    {
     "data": {
      "text/html": [
       "<div>\n",
       "<style scoped>\n",
       "    .dataframe tbody tr th:only-of-type {\n",
       "        vertical-align: middle;\n",
       "    }\n",
       "\n",
       "    .dataframe tbody tr th {\n",
       "        vertical-align: top;\n",
       "    }\n",
       "\n",
       "    .dataframe thead th {\n",
       "        text-align: right;\n",
       "    }\n",
       "</style>\n",
       "<table border=\"1\" class=\"dataframe\">\n",
       "  <thead>\n",
       "    <tr style=\"text-align: right;\">\n",
       "      <th></th>\n",
       "      <th>TripType</th>\n",
       "      <th>Monday</th>\n",
       "      <th>Tuesday</th>\n",
       "      <th>Wednesday</th>\n",
       "      <th>Thursday</th>\n",
       "      <th>Friday</th>\n",
       "      <th>Saturday</th>\n",
       "      <th>Sunday</th>\n",
       "      <th>Return_bin</th>\n",
       "      <th>1-HR PHOTO</th>\n",
       "      <th>...</th>\n",
       "      <th>SEAFOOD</th>\n",
       "      <th>SEASONAL</th>\n",
       "      <th>SERVICE DELI</th>\n",
       "      <th>SHEER HOSIERY</th>\n",
       "      <th>SHOES</th>\n",
       "      <th>SLEEPWEAR/FOUNDATIONS</th>\n",
       "      <th>SPORTING GOODS</th>\n",
       "      <th>SWIMWEAR/OUTERWEAR</th>\n",
       "      <th>TOYS</th>\n",
       "      <th>WIRELESS</th>\n",
       "    </tr>\n",
       "    <tr>\n",
       "      <th>VisitNumber</th>\n",
       "      <th></th>\n",
       "      <th></th>\n",
       "      <th></th>\n",
       "      <th></th>\n",
       "      <th></th>\n",
       "      <th></th>\n",
       "      <th></th>\n",
       "      <th></th>\n",
       "      <th></th>\n",
       "      <th></th>\n",
       "      <th></th>\n",
       "      <th></th>\n",
       "      <th></th>\n",
       "      <th></th>\n",
       "      <th></th>\n",
       "      <th></th>\n",
       "      <th></th>\n",
       "      <th></th>\n",
       "      <th></th>\n",
       "      <th></th>\n",
       "      <th></th>\n",
       "    </tr>\n",
       "  </thead>\n",
       "  <tbody>\n",
       "    <tr>\n",
       "      <th>191343</th>\n",
       "      <td>25</td>\n",
       "      <td>0</td>\n",
       "      <td>0</td>\n",
       "      <td>0</td>\n",
       "      <td>0</td>\n",
       "      <td>0</td>\n",
       "      <td>0</td>\n",
       "      <td>1</td>\n",
       "      <td>0.0</td>\n",
       "      <td>0</td>\n",
       "      <td>...</td>\n",
       "      <td>0</td>\n",
       "      <td>0</td>\n",
       "      <td>0</td>\n",
       "      <td>0</td>\n",
       "      <td>0</td>\n",
       "      <td>0</td>\n",
       "      <td>0</td>\n",
       "      <td>0</td>\n",
       "      <td>0</td>\n",
       "      <td>0</td>\n",
       "    </tr>\n",
       "    <tr>\n",
       "      <th>191344</th>\n",
       "      <td>22</td>\n",
       "      <td>0</td>\n",
       "      <td>0</td>\n",
       "      <td>0</td>\n",
       "      <td>0</td>\n",
       "      <td>0</td>\n",
       "      <td>0</td>\n",
       "      <td>1</td>\n",
       "      <td>0.0</td>\n",
       "      <td>0</td>\n",
       "      <td>...</td>\n",
       "      <td>0</td>\n",
       "      <td>0</td>\n",
       "      <td>0</td>\n",
       "      <td>0</td>\n",
       "      <td>0</td>\n",
       "      <td>0</td>\n",
       "      <td>0</td>\n",
       "      <td>0</td>\n",
       "      <td>0</td>\n",
       "      <td>1</td>\n",
       "    </tr>\n",
       "    <tr>\n",
       "      <th>191345</th>\n",
       "      <td>39</td>\n",
       "      <td>0</td>\n",
       "      <td>0</td>\n",
       "      <td>0</td>\n",
       "      <td>0</td>\n",
       "      <td>0</td>\n",
       "      <td>0</td>\n",
       "      <td>1</td>\n",
       "      <td>0.0</td>\n",
       "      <td>0</td>\n",
       "      <td>...</td>\n",
       "      <td>0</td>\n",
       "      <td>0</td>\n",
       "      <td>0</td>\n",
       "      <td>0</td>\n",
       "      <td>0</td>\n",
       "      <td>0</td>\n",
       "      <td>0</td>\n",
       "      <td>0</td>\n",
       "      <td>0</td>\n",
       "      <td>0</td>\n",
       "    </tr>\n",
       "    <tr>\n",
       "      <th>191346</th>\n",
       "      <td>39</td>\n",
       "      <td>0</td>\n",
       "      <td>0</td>\n",
       "      <td>0</td>\n",
       "      <td>0</td>\n",
       "      <td>0</td>\n",
       "      <td>0</td>\n",
       "      <td>1</td>\n",
       "      <td>0.0</td>\n",
       "      <td>0</td>\n",
       "      <td>...</td>\n",
       "      <td>0</td>\n",
       "      <td>0</td>\n",
       "      <td>0</td>\n",
       "      <td>0</td>\n",
       "      <td>0</td>\n",
       "      <td>0</td>\n",
       "      <td>0</td>\n",
       "      <td>0</td>\n",
       "      <td>0</td>\n",
       "      <td>0</td>\n",
       "    </tr>\n",
       "    <tr>\n",
       "      <th>191347</th>\n",
       "      <td>8</td>\n",
       "      <td>0</td>\n",
       "      <td>0</td>\n",
       "      <td>0</td>\n",
       "      <td>0</td>\n",
       "      <td>0</td>\n",
       "      <td>0</td>\n",
       "      <td>1</td>\n",
       "      <td>0.0</td>\n",
       "      <td>0</td>\n",
       "      <td>...</td>\n",
       "      <td>0</td>\n",
       "      <td>0</td>\n",
       "      <td>0</td>\n",
       "      <td>0</td>\n",
       "      <td>0</td>\n",
       "      <td>0</td>\n",
       "      <td>0</td>\n",
       "      <td>0</td>\n",
       "      <td>0</td>\n",
       "      <td>0</td>\n",
       "    </tr>\n",
       "  </tbody>\n",
       "</table>\n",
       "<p>5 rows × 77 columns</p>\n",
       "</div>"
      ],
      "text/plain": [
       "             TripType  Monday  Tuesday  Wednesday  Thursday  Friday  Saturday  \\\n",
       "VisitNumber                                                                     \n",
       "191343             25       0        0          0         0       0         0   \n",
       "191344             22       0        0          0         0       0         0   \n",
       "191345             39       0        0          0         0       0         0   \n",
       "191346             39       0        0          0         0       0         0   \n",
       "191347              8       0        0          0         0       0         0   \n",
       "\n",
       "             Sunday  Return_bin  1-HR PHOTO    ...     SEAFOOD  SEASONAL  \\\n",
       "VisitNumber                                    ...                         \n",
       "191343            1         0.0           0    ...           0         0   \n",
       "191344            1         0.0           0    ...           0         0   \n",
       "191345            1         0.0           0    ...           0         0   \n",
       "191346            1         0.0           0    ...           0         0   \n",
       "191347            1         0.0           0    ...           0         0   \n",
       "\n",
       "             SERVICE DELI  SHEER HOSIERY  SHOES  SLEEPWEAR/FOUNDATIONS  \\\n",
       "VisitNumber                                                              \n",
       "191343                  0              0      0                      0   \n",
       "191344                  0              0      0                      0   \n",
       "191345                  0              0      0                      0   \n",
       "191346                  0              0      0                      0   \n",
       "191347                  0              0      0                      0   \n",
       "\n",
       "             SPORTING GOODS  SWIMWEAR/OUTERWEAR  TOYS  WIRELESS  \n",
       "VisitNumber                                                      \n",
       "191343                    0                   0     0         0  \n",
       "191344                    0                   0     0         1  \n",
       "191345                    0                   0     0         0  \n",
       "191346                    0                   0     0         0  \n",
       "191347                    0                   0     0         0  \n",
       "\n",
       "[5 rows x 77 columns]"
      ]
     },
     "execution_count": 4,
     "metadata": {},
     "output_type": "execute_result"
    }
   ],
   "source": [
    "train_df.index = train_df['VisitNumber']\n",
    "train_df.drop(columns='VisitNumber',inplace=True)\n",
    "train_df.tail()"
   ]
  },
  {
   "cell_type": "code",
   "execution_count": 5,
   "metadata": {},
   "outputs": [
    {
     "data": {
      "text/plain": [
       "(95674, 77)"
      ]
     },
     "execution_count": 5,
     "metadata": {},
     "output_type": "execute_result"
    }
   ],
   "source": [
    "train_df.shape"
   ]
  },
  {
   "cell_type": "code",
   "execution_count": 6,
   "metadata": {},
   "outputs": [],
   "source": [
    "train_X = train_df.iloc[:,1:]\n",
    "train_y = train_df.iloc[:,0]"
   ]
  },
  {
   "cell_type": "code",
   "execution_count": 7,
   "metadata": {},
   "outputs": [
    {
     "data": {
      "text/plain": [
       "((95674, 76), (95674,))"
      ]
     },
     "execution_count": 7,
     "metadata": {},
     "output_type": "execute_result"
    }
   ],
   "source": [
    "train_X.shape,train_y.shape"
   ]
  },
  {
   "cell_type": "markdown",
   "metadata": {},
   "source": [
    "## Modeling\n",
    "### Which model we gonna apply on this DataFrame?\n",
    "#### Model for Classification"
   ]
  },
  {
   "cell_type": "markdown",
   "metadata": {},
   "source": [
    "#### Ensemble\n",
    "- Aggregation Method:\n",
    "        - Random Forest\n",
    "        - VotingClassifier\n",
    "        - BaggingClassifier\n",
    "        - AdaBoostClassifer\n",
    "        - GradientClassifier\n",
    "        \n",
    "- Boosting Method:\n",
    "        - Perceptron\n",
    "        - SGDClassifer\n",
    "        - SVC"
   ]
  },
  {
   "cell_type": "markdown",
   "metadata": {},
   "source": [
    "## Random Forest\n",
    "- n_estimators\n",
    "- max_depth"
   ]
  },
  {
   "cell_type": "code",
   "execution_count": 7,
   "metadata": {},
   "outputs": [],
   "source": [
    "parameters = {'n_estimators':np.arange(1,100,10),'max_depth':np.arange(1,20,5)}"
   ]
  },
  {
   "cell_type": "code",
   "execution_count": 8,
   "metadata": {},
   "outputs": [],
   "source": [
    "randomforest_model = RandomForestClassifier(random_state=0)"
   ]
  },
  {
   "cell_type": "code",
   "execution_count": 9,
   "metadata": {},
   "outputs": [
    {
     "name": "stdout",
     "output_type": "stream",
     "text": [
      "CPU times: user 1min 3s, sys: 848 ms, total: 1min 4s\n",
      "Wall time: 12min 41s\n"
     ]
    }
   ],
   "source": [
    "%%time\n",
    "kfold = KFold(10)\n",
    "grid_model = GridSearchCV(randomforest_model,parameters,scoring='accuracy',cv=kfold,n_jobs=-1)\n",
    "grid_model.fit(train_X,train_y)"
   ]
  },
  {
   "cell_type": "code",
   "execution_count": null,
   "metadata": {},
   "outputs": [],
   "source": [
    "from sklearn.externals import joblib\n",
    "filename = 'randomforest'\n",
    "joblib.dump(grid_model,filename)"
   ]
  },
  {
   "cell_type": "code",
   "execution_count": 10,
   "metadata": {
    "scrolled": true
   },
   "outputs": [
    {
     "data": {
      "text/plain": [
       "[{'max_depth': 1, 'n_estimators': 1},\n",
       " {'max_depth': 1, 'n_estimators': 11},\n",
       " {'max_depth': 1, 'n_estimators': 21},\n",
       " {'max_depth': 1, 'n_estimators': 31},\n",
       " {'max_depth': 1, 'n_estimators': 41},\n",
       " {'max_depth': 1, 'n_estimators': 51},\n",
       " {'max_depth': 1, 'n_estimators': 61},\n",
       " {'max_depth': 1, 'n_estimators': 71},\n",
       " {'max_depth': 1, 'n_estimators': 81},\n",
       " {'max_depth': 1, 'n_estimators': 91},\n",
       " {'max_depth': 6, 'n_estimators': 1},\n",
       " {'max_depth': 6, 'n_estimators': 11},\n",
       " {'max_depth': 6, 'n_estimators': 21},\n",
       " {'max_depth': 6, 'n_estimators': 31},\n",
       " {'max_depth': 6, 'n_estimators': 41},\n",
       " {'max_depth': 6, 'n_estimators': 51},\n",
       " {'max_depth': 6, 'n_estimators': 61},\n",
       " {'max_depth': 6, 'n_estimators': 71},\n",
       " {'max_depth': 6, 'n_estimators': 81},\n",
       " {'max_depth': 6, 'n_estimators': 91},\n",
       " {'max_depth': 11, 'n_estimators': 1},\n",
       " {'max_depth': 11, 'n_estimators': 11},\n",
       " {'max_depth': 11, 'n_estimators': 21},\n",
       " {'max_depth': 11, 'n_estimators': 31},\n",
       " {'max_depth': 11, 'n_estimators': 41},\n",
       " {'max_depth': 11, 'n_estimators': 51},\n",
       " {'max_depth': 11, 'n_estimators': 61},\n",
       " {'max_depth': 11, 'n_estimators': 71},\n",
       " {'max_depth': 11, 'n_estimators': 81},\n",
       " {'max_depth': 11, 'n_estimators': 91},\n",
       " {'max_depth': 16, 'n_estimators': 1},\n",
       " {'max_depth': 16, 'n_estimators': 11},\n",
       " {'max_depth': 16, 'n_estimators': 21},\n",
       " {'max_depth': 16, 'n_estimators': 31},\n",
       " {'max_depth': 16, 'n_estimators': 41},\n",
       " {'max_depth': 16, 'n_estimators': 51},\n",
       " {'max_depth': 16, 'n_estimators': 61},\n",
       " {'max_depth': 16, 'n_estimators': 71},\n",
       " {'max_depth': 16, 'n_estimators': 81},\n",
       " {'max_depth': 16, 'n_estimators': 91}]"
      ]
     },
     "execution_count": 10,
     "metadata": {},
     "output_type": "execute_result"
    }
   ],
   "source": [
    "grid_model.cv_results_['params']"
   ]
  },
  {
   "cell_type": "code",
   "execution_count": 12,
   "metadata": {},
   "outputs": [
    {
     "data": {
      "text/plain": [
       "array([0.16293873, 0.22751218, 0.20113092, 0.19957355, 0.19342768,\n",
       "       0.19730543, 0.1959153 , 0.19658423, 0.19513138, 0.19448335,\n",
       "       0.24640968, 0.47720384, 0.48190731, 0.48034994, 0.48062169,\n",
       "       0.47787278, 0.47489391, 0.47671259, 0.47490436, 0.47393231,\n",
       "       0.37675858, 0.5154901 , 0.52338148, 0.52587955, 0.52837762,\n",
       "       0.52712336, 0.52919288, 0.53013358, 0.52980956, 0.52992454,\n",
       "       0.43339883, 0.55159186, 0.55836486, 0.56392541, 0.56343416,\n",
       "       0.56418672, 0.5648243 , 0.56453164, 0.56677885, 0.56648619])"
      ]
     },
     "execution_count": 12,
     "metadata": {},
     "output_type": "execute_result"
    }
   ],
   "source": [
    "grid_model.cv_results_[\"mean_test_score\"]"
   ]
  },
  {
   "cell_type": "code",
   "execution_count": 8,
   "metadata": {},
   "outputs": [],
   "source": [
    "ls = [0.16293873, 0.22751218, 0.20113092, 0.19957355, 0.19342768,\n",
    "       0.19730543, 0.1959153 , 0.19658423, 0.19513138, 0.19448335,\n",
    "       0.24640968, 0.47720384, 0.48190731, 0.48034994, 0.48062169,\n",
    "       0.47787278, 0.47489391, 0.47671259, 0.47490436, 0.47393231,\n",
    "       0.37675858, 0.5154901 , 0.52338148, 0.52587955, 0.52837762,\n",
    "       0.52712336, 0.52919288, 0.53013358, 0.52980956, 0.52992454,\n",
    "       0.43339883, 0.55159186, 0.55836486, 0.56392541, 0.56343416,\n",
    "       0.56418672, 0.5648243 , 0.56453164, 0.56677885, 0.56648619]"
   ]
  },
  {
   "cell_type": "code",
   "execution_count": 9,
   "metadata": {},
   "outputs": [
    {
     "data": {
      "text/plain": [
       "[<matplotlib.lines.Line2D at 0x7fe6dcfb2dd8>]"
      ]
     },
     "execution_count": 9,
     "metadata": {},
     "output_type": "execute_result"
    },
    {
     "data": {
      "image/png": "[encoded data removed]",
      "text/plain": [
       "<Figure size 432x288 with 1 Axes>"
      ]
     },
     "metadata": {},
     "output_type": "display_data"
    }
   ],
   "source": [
    "plt.plot(ls)"
   ]
  },
  {
   "cell_type": "code",
   "execution_count": 13,
   "metadata": {},
   "outputs": [
    {
     "name": "stdout",
     "output_type": "stream",
     "text": [
      "0.5667788531889542\n",
      "{'max_depth': 16, 'n_estimators': 81}\n"
     ]
    }
   ],
   "source": [
    "print(grid_model.best_score_)\n",
    "print(grid_model.best_params_)"
   ]
  },
  {
   "cell_type": "markdown",
   "metadata": {},
   "source": [
    "## Extreme Random Forest"
   ]
  },
  {
   "cell_type": "code",
   "execution_count": 14,
   "metadata": {},
   "outputs": [],
   "source": [
    "parameters = {'n_estimators':np.arange(1,100,10),'max_depth':np.arange(1,20,5)}"
   ]
  },
  {
   "cell_type": "code",
   "execution_count": 15,
   "metadata": {},
   "outputs": [],
   "source": [
    "extratree_model = ExtraTreesClassifier(random_state=0)"
   ]
  },
  {
   "cell_type": "code",
   "execution_count": 16,
   "metadata": {},
   "outputs": [
    {
     "name": "stdout",
     "output_type": "stream",
     "text": [
      "CPU times: user 56.1 s, sys: 832 ms, total: 56.9 s\n",
      "Wall time: 10min 29s\n"
     ]
    }
   ],
   "source": [
    "%%time\n",
    "kfold = KFold(10)\n",
    "grid_model2 = GridSearchCV(extratree_model,parameters,scoring='accuracy',cv=kfold,n_jobs=-1)\n",
    "grid_model2.fit(train_X,train_y)"
   ]
  },
  {
   "cell_type": "code",
   "execution_count": null,
   "metadata": {},
   "outputs": [],
   "source": [
    "from sklearn.externals import joblib\n",
    "filename = 'extremeforest'\n",
    "joblib.dump(grid_model2,filename)"
   ]
  },
  {
   "cell_type": "code",
   "execution_count": 17,
   "metadata": {
    "scrolled": true
   },
   "outputs": [
    {
     "data": {
      "text/plain": [
       "[{'max_depth': 1, 'n_estimators': 1},\n",
       " {'max_depth': 1, 'n_estimators': 11},\n",
       " {'max_depth': 1, 'n_estimators': 21},\n",
       " {'max_depth': 1, 'n_estimators': 31},\n",
       " {'max_depth': 1, 'n_estimators': 41},\n",
       " {'max_depth': 1, 'n_estimators': 51},\n",
       " {'max_depth': 1, 'n_estimators': 61},\n",
       " {'max_depth': 1, 'n_estimators': 71},\n",
       " {'max_depth': 1, 'n_estimators': 81},\n",
       " {'max_depth': 1, 'n_estimators': 91},\n",
       " {'max_depth': 6, 'n_estimators': 1},\n",
       " {'max_depth': 6, 'n_estimators': 11},\n",
       " {'max_depth': 6, 'n_estimators': 21},\n",
       " {'max_depth': 6, 'n_estimators': 31},\n",
       " {'max_depth': 6, 'n_estimators': 41},\n",
       " {'max_depth': 6, 'n_estimators': 51},\n",
       " {'max_depth': 6, 'n_estimators': 61},\n",
       " {'max_depth': 6, 'n_estimators': 71},\n",
       " {'max_depth': 6, 'n_estimators': 81},\n",
       " {'max_depth': 6, 'n_estimators': 91},\n",
       " {'max_depth': 11, 'n_estimators': 1},\n",
       " {'max_depth': 11, 'n_estimators': 11},\n",
       " {'max_depth': 11, 'n_estimators': 21},\n",
       " {'max_depth': 11, 'n_estimators': 31},\n",
       " {'max_depth': 11, 'n_estimators': 41},\n",
       " {'max_depth': 11, 'n_estimators': 51},\n",
       " {'max_depth': 11, 'n_estimators': 61},\n",
       " {'max_depth': 11, 'n_estimators': 71},\n",
       " {'max_depth': 11, 'n_estimators': 81},\n",
       " {'max_depth': 11, 'n_estimators': 91},\n",
       " {'max_depth': 16, 'n_estimators': 1},\n",
       " {'max_depth': 16, 'n_estimators': 11},\n",
       " {'max_depth': 16, 'n_estimators': 21},\n",
       " {'max_depth': 16, 'n_estimators': 31},\n",
       " {'max_depth': 16, 'n_estimators': 41},\n",
       " {'max_depth': 16, 'n_estimators': 51},\n",
       " {'max_depth': 16, 'n_estimators': 61},\n",
       " {'max_depth': 16, 'n_estimators': 71},\n",
       " {'max_depth': 16, 'n_estimators': 81},\n",
       " {'max_depth': 16, 'n_estimators': 91}]"
      ]
     },
     "execution_count": 17,
     "metadata": {},
     "output_type": "execute_result"
    }
   ],
   "source": [
    "grid_model2.cv_results_['params']"
   ]
  },
  {
   "cell_type": "code",
   "execution_count": 18,
   "metadata": {},
   "outputs": [
    {
     "data": {
      "text/plain": [
       "array([0.13411167, 0.14106236, 0.12953362, 0.13580492, 0.13957815,\n",
       "       0.13933775, 0.14060246, 0.13935866, 0.14071744, 0.14316324,\n",
       "       0.15609256, 0.27824696, 0.27063779, 0.26476368, 0.25637059,\n",
       "       0.24619019, 0.24866735, 0.24604386, 0.25166712, 0.24977528,\n",
       "       0.18819115, 0.34754479, 0.32794699, 0.3328595 , 0.32407969,\n",
       "       0.3144846 , 0.3144846 , 0.31055459, 0.31705584, 0.31944938,\n",
       "       0.21009888, 0.42223593, 0.39968016, 0.40410143, 0.39462132,\n",
       "       0.39080628, 0.39001192, 0.38808872, 0.39208144, 0.38939524])"
      ]
     },
     "execution_count": 18,
     "metadata": {},
     "output_type": "execute_result"
    }
   ],
   "source": [
    "grid_model2.cv_results_[\"mean_test_score\"]"
   ]
  },
  {
   "cell_type": "code",
   "execution_count": 10,
   "metadata": {},
   "outputs": [],
   "source": [
    "ls2 = [0.13411167, 0.14106236, 0.12953362, 0.13580492, 0.13957815,\n",
    "       0.13933775, 0.14060246, 0.13935866, 0.14071744, 0.14316324,\n",
    "       0.15609256, 0.27824696, 0.27063779, 0.26476368, 0.25637059,\n",
    "       0.24619019, 0.24866735, 0.24604386, 0.25166712, 0.24977528,\n",
    "       0.18819115, 0.34754479, 0.32794699, 0.3328595 , 0.32407969,\n",
    "       0.3144846 , 0.3144846 , 0.31055459, 0.31705584, 0.31944938,\n",
    "       0.21009888, 0.42223593, 0.39968016, 0.40410143, 0.39462132,\n",
    "       0.39080628, 0.39001192, 0.38808872, 0.39208144, 0.38939524]"
   ]
  },
  {
   "cell_type": "code",
   "execution_count": 11,
   "metadata": {},
   "outputs": [
    {
     "data": {
      "text/plain": [
       "[<matplotlib.lines.Line2D at 0x7fe6dcf54ef0>]"
      ]
     },
     "execution_count": 11,
     "metadata": {},
     "output_type": "execute_result"
    },
    {
     "data": {
      "image/png": "[encoded data removed]",
      "text/plain": [
       "<Figure size 432x288 with 1 Axes>"
      ]
     },
     "metadata": {},
     "output_type": "display_data"
    }
   ],
   "source": [
    "plt.plot(ls2)"
   ]
  },
  {
   "cell_type": "code",
   "execution_count": 19,
   "metadata": {},
   "outputs": [
    {
     "name": "stdout",
     "output_type": "stream",
     "text": [
      "0.4222359261659385\n",
      "{'max_depth': 16, 'n_estimators': 11}\n"
     ]
    }
   ],
   "source": [
    "print(grid_model2.best_score_)\n",
    "print(grid_model2.best_params_)"
   ]
  },
  {
   "cell_type": "markdown",
   "metadata": {},
   "source": [
    "## VotingClassifier"
   ]
  },
  {
   "cell_type": "code",
   "execution_count": 7,
   "metadata": {},
   "outputs": [],
   "source": [
    "model1 = LogisticRegression(random_state=1)\n",
    "model2 = QuadraticDiscriminantAnalysis()\n",
    "model3 = LinearDiscriminantAnalysis()\n",
    "model4 = GaussianNB()"
   ]
  },
  {
   "cell_type": "code",
   "execution_count": 8,
   "metadata": {},
   "outputs": [],
   "source": [
    "ensemble1 = VotingClassifier(estimators=[('lr', model1), ('qda', model2), ('lda', model3) , ('gnb',model4)], \n",
    "                            voting='hard').fit(train_X,train_y)"
   ]
  },
  {
   "cell_type": "code",
   "execution_count": 9,
   "metadata": {},
   "outputs": [],
   "source": [
    "ensemble2 = VotingClassifier(estimators=[('lr', model1), ('lda', model3) , ('gnb',model4)], \n",
    "                            voting='hard').fit(train_X,train_y)"
   ]
  },
  {
   "cell_type": "code",
   "execution_count": 10,
   "metadata": {},
   "outputs": [],
   "source": [
    "ensemble3 = VotingClassifier(estimators=[('lr', model1), ('lda', model3)], \n",
    "                            voting='hard').fit(train_X,train_y)"
   ]
  },
  {
   "cell_type": "code",
   "execution_count": 11,
   "metadata": {},
   "outputs": [],
   "source": [
    "ensemble4 = VotingClassifier(estimators=[('lr', model1), ('qda', model2), ('lda', model3) , ('gnb',model4)], \n",
    "                            voting='soft',weights = [4,1,3,2]).fit(train_X,train_y)"
   ]
  },
  {
   "cell_type": "code",
   "execution_count": 12,
   "metadata": {},
   "outputs": [],
   "source": [
    "ensemble5 = VotingClassifier(estimators=[('lr', model1), ('lda', model3) ], \n",
    "                            voting='soft',weights = [6,4]).fit(train_X,train_y)"
   ]
  },
  {
   "cell_type": "code",
   "execution_count": 13,
   "metadata": {},
   "outputs": [
    {
     "name": "stderr",
     "output_type": "stream",
     "text": [
      "/home/hskimim/anaconda3/lib/python3.6/site-packages/sklearn/preprocessing/label.py:151: DeprecationWarning: The truth value of an empty array is ambiguous. Returning False, but in future this will result in an error. Use `array.size > 0` to check that an array is not empty.\n",
      "  if diff:\n",
      "/home/hskimim/anaconda3/lib/python3.6/site-packages/sklearn/preprocessing/label.py:151: DeprecationWarning: The truth value of an empty array is ambiguous. Returning False, but in future this will result in an error. Use `array.size > 0` to check that an array is not empty.\n",
      "  if diff:\n",
      "/home/hskimim/anaconda3/lib/python3.6/site-packages/sklearn/preprocessing/label.py:151: DeprecationWarning: The truth value of an empty array is ambiguous. Returning False, but in future this will result in an error. Use `array.size > 0` to check that an array is not empty.\n",
      "  if diff:\n",
      "/home/hskimim/anaconda3/lib/python3.6/site-packages/sklearn/preprocessing/label.py:151: DeprecationWarning: The truth value of an empty array is ambiguous. Returning False, but in future this will result in an error. Use `array.size > 0` to check that an array is not empty.\n",
      "  if diff:\n"
     ]
    },
    {
     "name": "stdout",
     "output_type": "stream",
     "text": [
      "CPU times: user 48.7 s, sys: 8.8 s, total: 57.5 s\n",
      "Wall time: 15.1 s\n"
     ]
    },
    {
     "name": "stderr",
     "output_type": "stream",
     "text": [
      "/home/hskimim/anaconda3/lib/python3.6/site-packages/sklearn/preprocessing/label.py:151: DeprecationWarning: The truth value of an empty array is ambiguous. Returning False, but in future this will result in an error. Use `array.size > 0` to check that an array is not empty.\n",
      "  if diff:\n"
     ]
    }
   ],
   "source": [
    "%%time\n",
    "ac_en1 = accuracy_score(train_y,ensemble1.predict(train_X))\n",
    "ac_en2 = accuracy_score(train_y,ensemble2.predict(train_X))\n",
    "ac_en3 = accuracy_score(train_y,ensemble3.predict(train_X))\n",
    "ac_en4 = accuracy_score(train_y,ensemble4.predict(train_X))\n",
    "ac_en5 = accuracy_score(train_y,ensemble5.predict(train_X))"
   ]
  },
  {
   "cell_type": "code",
   "execution_count": 13,
   "metadata": {},
   "outputs": [
    {
     "name": "stderr",
     "output_type": "stream",
     "text": [
      "/home/hskimim/anaconda3/lib/python3.6/site-packages/sklearn/preprocessing/label.py:151: DeprecationWarning: The truth value of an empty array is ambiguous. Returning False, but in future this will result in an error. Use `array.size > 0` to check that an array is not empty.\n",
      "  if diff:\n"
     ]
    },
    {
     "name": "stdout",
     "output_type": "stream",
     "text": [
      "ensemble 1's accuracy_score : 0.33768840019231977\n"
     ]
    },
    {
     "name": "stderr",
     "output_type": "stream",
     "text": [
      "/home/hskimim/anaconda3/lib/python3.6/site-packages/sklearn/preprocessing/label.py:151: DeprecationWarning: The truth value of an empty array is ambiguous. Returning False, but in future this will result in an error. Use `array.size > 0` to check that an array is not empty.\n",
      "  if diff:\n"
     ]
    },
    {
     "name": "stdout",
     "output_type": "stream",
     "text": [
      "ensemble 2's accuracy_score : 0.5195037314212848\n"
     ]
    },
    {
     "name": "stderr",
     "output_type": "stream",
     "text": [
      "/home/hskimim/anaconda3/lib/python3.6/site-packages/sklearn/preprocessing/label.py:151: DeprecationWarning: The truth value of an empty array is ambiguous. Returning False, but in future this will result in an error. Use `array.size > 0` to check that an array is not empty.\n",
      "  if diff:\n"
     ]
    },
    {
     "name": "stdout",
     "output_type": "stream",
     "text": [
      "ensemble 3's accuracy_score : 0.5357045801367143\n"
     ]
    },
    {
     "name": "stderr",
     "output_type": "stream",
     "text": [
      "/home/hskimim/anaconda3/lib/python3.6/site-packages/sklearn/preprocessing/label.py:151: DeprecationWarning: The truth value of an empty array is ambiguous. Returning False, but in future this will result in an error. Use `array.size > 0` to check that an array is not empty.\n",
      "  if diff:\n"
     ]
    },
    {
     "name": "stdout",
     "output_type": "stream",
     "text": [
      "ensemble 4's accuracy_score : 0.499226540125844\n",
      "ensemble 5's accuracy_score : 0.6188410644480214\n",
      "CPU times: user 1min 2s, sys: 11.2 s, total: 1min 13s\n",
      "Wall time: 19.4 s\n"
     ]
    },
    {
     "name": "stderr",
     "output_type": "stream",
     "text": [
      "/home/hskimim/anaconda3/lib/python3.6/site-packages/sklearn/preprocessing/label.py:151: DeprecationWarning: The truth value of an empty array is ambiguous. Returning False, but in future this will result in an error. Use `array.size > 0` to check that an array is not empty.\n",
      "  if diff:\n"
     ]
    }
   ],
   "source": [
    "%%time\n",
    "print(\"ensemble 1's accuracy_score :\",accuracy_score(train_y,ensemble1.predict(train_X))),\n",
    "print(\"ensemble 2's accuracy_score :\",accuracy_score(train_y,ensemble2.predict(train_X))),\n",
    "print(\"ensemble 3's accuracy_score :\",accuracy_score(train_y,ensemble3.predict(train_X))),\n",
    "print(\"ensemble 4's accuracy_score :\",accuracy_score(train_y,ensemble4.predict(train_X))),\n",
    "print(\"ensemble 5's accuracy_score :\",accuracy_score(train_y,ensemble5.predict(train_X)))"
   ]
  },
  {
   "cell_type": "markdown",
   "metadata": {},
   "source": [
    "#### Voting_classifier which use 'logistic regression' and 'linear discriminant analysis' has the best performance among the model which I used"
   ]
  },
  {
   "cell_type": "code",
   "execution_count": null,
   "metadata": {
    "scrolled": true
   },
   "outputs": [
    {
     "name": "stderr",
     "output_type": "stream",
     "text": [
      "/home/hskimim/anaconda3/lib/python3.6/site-packages/sklearn/preprocessing/label.py:151: DeprecationWarning: The truth value of an empty array is ambiguous. Returning False, but in future this will result in an error. Use `array.size > 0` to check that an array is not empty.\n",
      "  if diff:\n",
      "/home/hskimim/anaconda3/lib/python3.6/site-packages/sklearn/preprocessing/label.py:151: DeprecationWarning: The truth value of an empty array is ambiguous. Returning False, but in future this will result in an error. Use `array.size > 0` to check that an array is not empty.\n",
      "  if diff:\n",
      "/home/hskimim/anaconda3/lib/python3.6/site-packages/sklearn/preprocessing/label.py:151: DeprecationWarning: The truth value of an empty array is ambiguous. Returning False, but in future this will result in an error. Use `array.size > 0` to check that an array is not empty.\n",
      "  if diff:\n",
      "/home/hskimim/anaconda3/lib/python3.6/site-packages/sklearn/preprocessing/label.py:151: DeprecationWarning: The truth value of an empty array is ambiguous. Returning False, but in future this will result in an error. Use `array.size > 0` to check that an array is not empty.\n",
      "  if diff:\n",
      "/home/hskimim/anaconda3/lib/python3.6/site-packages/sklearn/preprocessing/label.py:151: DeprecationWarning: The truth value of an empty array is ambiguous. Returning False, but in future this will result in an error. Use `array.size > 0` to check that an array is not empty.\n",
      "  if diff:\n",
      "/home/hskimim/anaconda3/lib/python3.6/site-packages/sklearn/preprocessing/label.py:151: DeprecationWarning: The truth value of an empty array is ambiguous. Returning False, but in future this will result in an error. Use `array.size > 0` to check that an array is not empty.\n",
      "  if diff:\n",
      "/home/hskimim/anaconda3/lib/python3.6/site-packages/sklearn/preprocessing/label.py:151: DeprecationWarning: The truth value of an empty array is ambiguous. Returning False, but in future this will result in an error. Use `array.size > 0` to check that an array is not empty.\n",
      "  if diff:\n",
      "/home/hskimim/anaconda3/lib/python3.6/site-packages/sklearn/preprocessing/label.py:151: DeprecationWarning: The truth value of an empty array is ambiguous. Returning False, but in future this will result in an error. Use `array.size > 0` to check that an array is not empty.\n",
      "  if diff:\n",
      "/home/hskimim/anaconda3/lib/python3.6/site-packages/sklearn/preprocessing/label.py:151: DeprecationWarning: The truth value of an empty array is ambiguous. Returning False, but in future this will result in an error. Use `array.size > 0` to check that an array is not empty.\n",
      "  if diff:\n",
      "/home/hskimim/anaconda3/lib/python3.6/site-packages/sklearn/preprocessing/label.py:151: DeprecationWarning: The truth value of an empty array is ambiguous. Returning False, but in future this will result in an error. Use `array.size > 0` to check that an array is not empty.\n",
      "  if diff:\n",
      "/home/hskimim/anaconda3/lib/python3.6/site-packages/sklearn/preprocessing/label.py:151: DeprecationWarning: The truth value of an empty array is ambiguous. Returning False, but in future this will result in an error. Use `array.size > 0` to check that an array is not empty.\n",
      "  if diff:\n",
      "/home/hskimim/anaconda3/lib/python3.6/site-packages/sklearn/preprocessing/label.py:151: DeprecationWarning: The truth value of an empty array is ambiguous. Returning False, but in future this will result in an error. Use `array.size > 0` to check that an array is not empty.\n",
      "  if diff:\n",
      "/home/hskimim/anaconda3/lib/python3.6/site-packages/sklearn/preprocessing/label.py:151: DeprecationWarning: The truth value of an empty array is ambiguous. Returning False, but in future this will result in an error. Use `array.size > 0` to check that an array is not empty.\n",
      "  if diff:\n",
      "/home/hskimim/anaconda3/lib/python3.6/site-packages/sklearn/preprocessing/label.py:151: DeprecationWarning: The truth value of an empty array is ambiguous. Returning False, but in future this will result in an error. Use `array.size > 0` to check that an array is not empty.\n",
      "  if diff:\n",
      "/home/hskimim/anaconda3/lib/python3.6/site-packages/sklearn/preprocessing/label.py:151: DeprecationWarning: The truth value of an empty array is ambiguous. Returning False, but in future this will result in an error. Use `array.size > 0` to check that an array is not empty.\n",
      "  if diff:\n",
      "/home/hskimim/anaconda3/lib/python3.6/site-packages/sklearn/preprocessing/label.py:151: DeprecationWarning: The truth value of an empty array is ambiguous. Returning False, but in future this will result in an error. Use `array.size > 0` to check that an array is not empty.\n",
      "  if diff:\n",
      "/home/hskimim/anaconda3/lib/python3.6/site-packages/sklearn/preprocessing/label.py:151: DeprecationWarning: The truth value of an empty array is ambiguous. Returning False, but in future this will result in an error. Use `array.size > 0` to check that an array is not empty.\n",
      "  if diff:\n",
      "/home/hskimim/anaconda3/lib/python3.6/site-packages/sklearn/preprocessing/label.py:151: DeprecationWarning: The truth value of an empty array is ambiguous. Returning False, but in future this will result in an error. Use `array.size > 0` to check that an array is not empty.\n",
      "  if diff:\n",
      "/home/hskimim/anaconda3/lib/python3.6/site-packages/sklearn/preprocessing/label.py:151: DeprecationWarning: The truth value of an empty array is ambiguous. Returning False, but in future this will result in an error. Use `array.size > 0` to check that an array is not empty.\n",
      "  if diff:\n",
      "/home/hskimim/anaconda3/lib/python3.6/site-packages/sklearn/preprocessing/label.py:151: DeprecationWarning: The truth value of an empty array is ambiguous. Returning False, but in future this will result in an error. Use `array.size > 0` to check that an array is not empty.\n",
      "  if diff:\n"
     ]
    }
   ],
   "source": [
    "%%time\n",
    "kfold = KFold(10)\n",
    "vot_1 = cross_val_score(ensemble1,train_X,train_y,cv=kfold,n_jobs=-1) \n",
    "vot_2 = cross_val_score(ensemble2,train_X,train_y,cv=kfold,n_jobs=-1)\n",
    "vot_3 = cross_val_score(ensemble3,train_X,train_y,cv=kfold,n_jobs=-1)\n",
    "vot_4 = cross_val_score(ensemble4,train_X,train_y,cv=kfold,n_jobs=-1)\n",
    "vot_5 = cross_val_score(ensemble5,train_X,train_y,cv=kfold,n_jobs=-1)"
   ]
  },
  {
   "cell_type": "markdown",
   "metadata": {},
   "source": [
    "## BaggingClassifier"
   ]
  },
  {
   "cell_type": "code",
   "execution_count": null,
   "metadata": {},
   "outputs": [],
   "source": [
    "bag_model1 = BaggingClassifier(LogisticRegression(), bootstrap_features=True, random_state=0).fit(train_X,train_y)\n",
    "bag_model2 = BaggingClassifier(LinearDiscriminantAnalysis(), bootstrap_features=True, random_state=0).fit(train_X,train_y)\n",
    "bag_model3 = BaggingClassifier(DecisionTreeClassifier(max_depth=15), bootstrap_features=True, random_state=0).fit(train_X,train_y)\n",
    "bag_model4 = BaggingClassifier(DecisionTreeClassifier(max_depth=10), bootstrap_features=True, random_state=0).fit(train_X,train_y)\n",
    "bag_model5 = BaggingClassifier(DecisionTreeClassifier(max_depth=5), bootstrap_features=True, random_state=0).fit(train_X,train_y)"
   ]
  },
  {
   "cell_type": "code",
   "execution_count": null,
   "metadata": {},
   "outputs": [],
   "source": [
    "print(\"bag_model 1's accuracy_score :\",accuracy_score(train_y,bag_model1.predict(train_X))),\n",
    "print(\"bag_model 2's accuracy_score :\",accuracy_score(train_y,bag_model2.predict(train_X))),\n",
    "print(\"bag_model 3's accuracy_score :\",accuracy_score(train_y,bag_model3.predict(train_X))),\n",
    "print(\"bag_model 4's accuracy_score :\",accuracy_score(train_y,bag_model4.predict(train_X))),\n",
    "print(\"bag_model 5's accuracy_score :\",accuracy_score(train_y,bag_model5.predict(train_X))),"
   ]
  },
  {
   "cell_type": "code",
   "execution_count": null,
   "metadata": {},
   "outputs": [],
   "source": [
    "%%time\n",
    "kfold = KFold(10)\n",
    "bag_1 = cross_val_score(bag_model1,train_X,train_y,cv=kfold,n_jobs=-1)\n",
    "bag_2 = cross_val_score(bag_model2,train_X,train_y,cv=kfold,n_jobs=-1)\n",
    "bag_3 = cross_val_score(bag_model3,train_X,train_y,cv=kfold,n_jobs=-1)\n",
    "bag_4 = cross_val_score(bag_model4,train_X,train_y,cv=kfold,n_jobs=-1)\n",
    "bag_5 = cross_val_score(bag_model5,train_X,train_y,cv=kfold,n_jobs=-1)"
   ]
  },
  {
   "cell_type": "markdown",
   "metadata": {},
   "source": [
    "## Adaboost"
   ]
  },
  {
   "cell_type": "code",
   "execution_count": 42,
   "metadata": {},
   "outputs": [],
   "source": [
    "parameters = {'n_estimators':np.arange(1,100,10)}"
   ]
  },
  {
   "cell_type": "code",
   "execution_count": 43,
   "metadata": {},
   "outputs": [],
   "source": [
    "ada_model = AdaBoostClassifier(random_state=0)"
   ]
  },
  {
   "cell_type": "code",
   "execution_count": 44,
   "metadata": {},
   "outputs": [
    {
     "name": "stdout",
     "output_type": "stream",
     "text": [
      "CPU times: user 24.9 s, sys: 951 ms, total: 25.8 s\n",
      "Wall time: 8min 55s\n"
     ]
    }
   ],
   "source": [
    "%%time\n",
    "kfold = KFold(10)\n",
    "grid_model3 = GridSearchCV(ada_model,parameters,scoring='accuracy',cv=kfold,n_jobs=-1)\n",
    "grid_model3.fit(train_X,train_y)"
   ]
  },
  {
   "cell_type": "code",
   "execution_count": null,
   "metadata": {},
   "outputs": [],
   "source": [
    "from sklearn.externals import joblib\n",
    "filename = 'adaboost'\n",
    "joblib.dump(grid_model3,filename)"
   ]
  },
  {
   "cell_type": "code",
   "execution_count": 45,
   "metadata": {},
   "outputs": [
    {
     "data": {
      "text/plain": [
       "[{'n_estimators': 1},\n",
       " {'n_estimators': 11},\n",
       " {'n_estimators': 21},\n",
       " {'n_estimators': 31},\n",
       " {'n_estimators': 41},\n",
       " {'n_estimators': 51},\n",
       " {'n_estimators': 61},\n",
       " {'n_estimators': 71},\n",
       " {'n_estimators': 81},\n",
       " {'n_estimators': 91}]"
      ]
     },
     "execution_count": 45,
     "metadata": {},
     "output_type": "execute_result"
    }
   ],
   "source": [
    "grid_model3.cv_results_['params']"
   ]
  },
  {
   "cell_type": "code",
   "execution_count": 46,
   "metadata": {},
   "outputs": [
    {
     "data": {
      "text/plain": [
       "array([0.19143132, 0.20408889, 0.20416205, 0.20416205, 0.20416205,\n",
       "       0.20416205, 0.20416205, 0.20416205, 0.20416205, 0.20416205])"
      ]
     },
     "execution_count": 46,
     "metadata": {},
     "output_type": "execute_result"
    }
   ],
   "source": [
    "grid_model3.cv_results_[\"mean_test_score\"]"
   ]
  },
  {
   "cell_type": "code",
   "execution_count": 47,
   "metadata": {},
   "outputs": [
    {
     "name": "stdout",
     "output_type": "stream",
     "text": [
      "0.20416205029579615\n",
      "{'n_estimators': 21}\n"
     ]
    }
   ],
   "source": [
    "print(grid_model3.best_score_)\n",
    "print(grid_model3.best_params_)"
   ]
  },
  {
   "cell_type": "markdown",
   "metadata": {},
   "source": [
    "## Support Vector Machine"
   ]
  },
  {
   "cell_type": "code",
   "execution_count": 60,
   "metadata": {},
   "outputs": [],
   "source": [
    "svc_model = SVC(random_state=0)"
   ]
  },
  {
   "cell_type": "code",
   "execution_count": 61,
   "metadata": {},
   "outputs": [],
   "source": [
    "param_range = [0.0001, 0.001, 0.01, 0.1, 1.0, 10.0, 100.0, 1000.0]\n",
    "param_grid = [\n",
    "    {'clf__C': param_range, 'clf__kernel': ['linear']},\n",
    "    {'clf__C': param_range, 'clf__gamma': param_range, 'clf__kernel': ['rbf']}]"
   ]
  },
  {
   "cell_type": "code",
   "execution_count": 18,
   "metadata": {},
   "outputs": [
    {
     "ename": "JoblibValueError",
     "evalue": "JoblibValueError\n___________________________________________________________________________\nMultiprocessing exception:\n...........................................................................\n/home/hskimim/anaconda3/lib/python3.6/runpy.py in _run_module_as_main(mod_name='ipykernel_launcher', alter_argv=1)\n    188         sys.exit(msg)\n    189     main_globals = sys.modules[\"__main__\"].__dict__\n    190     if alter_argv:\n    191         sys.argv[0] = mod_spec.origin\n    192     return _run_code(code, main_globals, None,\n--> 193                      \"__main__\", mod_spec)\n        mod_spec = ModuleSpec(name='ipykernel_launcher', loader=<_f...b/python3.6/site-packages/ipykernel_launcher.py')\n    194 \n    195 def run_module(mod_name, init_globals=None,\n    196                run_name=None, alter_sys=False):\n    197     \"\"\"Execute a module's code without importing it\n\n...........................................................................\n/home/hskimim/anaconda3/lib/python3.6/runpy.py in _run_code(code=<code object <module> at 0x7f082fc81a50, file \"/...3.6/site-packages/ipykernel_launcher.py\", line 5>, run_globals={'__annotations__': {}, '__builtins__': <module 'builtins' (built-in)>, '__cached__': '/home/hskimim/anaconda3/lib/python3.6/site-packages/__pycache__/ipykernel_launcher.cpython-36.pyc', '__doc__': 'Entry point for launching an IPython kernel.\\n\\nTh...orts until\\nafter removing the cwd from sys.path.\\n', '__file__': '/home/hskimim/anaconda3/lib/python3.6/site-packages/ipykernel_launcher.py', '__loader__': <_frozen_importlib_external.SourceFileLoader object>, '__name__': '__main__', '__package__': '', '__spec__': ModuleSpec(name='ipykernel_launcher', loader=<_f...b/python3.6/site-packages/ipykernel_launcher.py'), 'app': <module 'ipykernel.kernelapp' from '/home/hskimi.../python3.6/site-packages/ipykernel/kernelapp.py'>, ...}, init_globals=None, mod_name='__main__', mod_spec=ModuleSpec(name='ipykernel_launcher', loader=<_f...b/python3.6/site-packages/ipykernel_launcher.py'), pkg_name='', script_name=None)\n     80                        __cached__ = cached,\n     81                        __doc__ = None,\n     82                        __loader__ = loader,\n     83                        __package__ = pkg_name,\n     84                        __spec__ = mod_spec)\n---> 85     exec(code, run_globals)\n        code = <code object <module> at 0x7f082fc81a50, file \"/...3.6/site-packages/ipykernel_launcher.py\", line 5>\n        run_globals = {'__annotations__': {}, '__builtins__': <module 'builtins' (built-in)>, '__cached__': '/home/hskimim/anaconda3/lib/python3.6/site-packages/__pycache__/ipykernel_launcher.cpython-36.pyc', '__doc__': 'Entry point for launching an IPython kernel.\\n\\nTh...orts until\\nafter removing the cwd from sys.path.\\n', '__file__': '/home/hskimim/anaconda3/lib/python3.6/site-packages/ipykernel_launcher.py', '__loader__': <_frozen_importlib_external.SourceFileLoader object>, '__name__': '__main__', '__package__': '', '__spec__': ModuleSpec(name='ipykernel_launcher', loader=<_f...b/python3.6/site-packages/ipykernel_launcher.py'), 'app': <module 'ipykernel.kernelapp' from '/home/hskimi.../python3.6/site-packages/ipykernel/kernelapp.py'>, ...}\n     86     return run_globals\n     87 \n     88 def _run_module_code(code, init_globals=None,\n     89                     mod_name=None, mod_spec=None,\n\n...........................................................................\n/home/hskimim/anaconda3/lib/python3.6/site-packages/ipykernel_launcher.py in <module>()\n     11     # This is added back by InteractiveShellApp.init_path()\n     12     if sys.path[0] == '':\n     13         del sys.path[0]\n     14 \n     15     from ipykernel import kernelapp as app\n---> 16     app.launch_new_instance()\n\n...........................................................................\n/home/hskimim/anaconda3/lib/python3.6/site-packages/traitlets/config/application.py in launch_instance(cls=<class 'ipykernel.kernelapp.IPKernelApp'>, argv=None, **kwargs={})\n    653 \n    654         If a global instance already exists, this reinitializes and starts it\n    655         \"\"\"\n    656         app = cls.instance(**kwargs)\n    657         app.initialize(argv)\n--> 658         app.start()\n        app.start = <bound method IPKernelApp.start of <ipykernel.kernelapp.IPKernelApp object>>\n    659 \n    660 #-----------------------------------------------------------------------------\n    661 # utility functions, for convenience\n    662 #-----------------------------------------------------------------------------\n\n...........................................................................\n/home/hskimim/anaconda3/lib/python3.6/site-packages/ipykernel/kernelapp.py in start(self=<ipykernel.kernelapp.IPKernelApp object>)\n    481         if self.poller is not None:\n    482             self.poller.start()\n    483         self.kernel.start()\n    484         self.io_loop = ioloop.IOLoop.current()\n    485         try:\n--> 486             self.io_loop.start()\n        self.io_loop.start = <bound method BaseAsyncIOLoop.start of <tornado.platform.asyncio.AsyncIOMainLoop object>>\n    487         except KeyboardInterrupt:\n    488             pass\n    489 \n    490 launch_new_instance = IPKernelApp.launch_instance\n\n...........................................................................\n/home/hskimim/anaconda3/lib/python3.6/site-packages/tornado/platform/asyncio.py in start(self=<tornado.platform.asyncio.AsyncIOMainLoop object>)\n    122         except (RuntimeError, AssertionError):\n    123             old_loop = None\n    124         try:\n    125             self._setup_logging()\n    126             asyncio.set_event_loop(self.asyncio_loop)\n--> 127             self.asyncio_loop.run_forever()\n        self.asyncio_loop.run_forever = <bound method BaseEventLoop.run_forever of <_Uni...EventLoop running=True closed=False debug=False>>\n    128         finally:\n    129             asyncio.set_event_loop(old_loop)\n    130 \n    131     def stop(self):\n\n...........................................................................\n/home/hskimim/anaconda3/lib/python3.6/asyncio/base_events.py in run_forever(self=<_UnixSelectorEventLoop running=True closed=False debug=False>)\n    417             sys.set_asyncgen_hooks(firstiter=self._asyncgen_firstiter_hook,\n    418                                    finalizer=self._asyncgen_finalizer_hook)\n    419         try:\n    420             events._set_running_loop(self)\n    421             while True:\n--> 422                 self._run_once()\n        self._run_once = <bound method BaseEventLoop._run_once of <_UnixS...EventLoop running=True closed=False debug=False>>\n    423                 if self._stopping:\n    424                     break\n    425         finally:\n    426             self._stopping = False\n\n...........................................................................\n/home/hskimim/anaconda3/lib/python3.6/asyncio/base_events.py in _run_once(self=<_UnixSelectorEventLoop running=True closed=False debug=False>)\n   1427                         logger.warning('Executing %s took %.3f seconds',\n   1428                                        _format_handle(handle), dt)\n   1429                 finally:\n   1430                     self._current_handle = None\n   1431             else:\n-> 1432                 handle._run()\n        handle._run = <bound method Handle._run of <Handle IOLoop._run_callback(functools.par...7f07e85f3048>))>>\n   1433         handle = None  # Needed to break cycles when an exception occurs.\n   1434 \n   1435     def _set_coroutine_wrapper(self, enabled):\n   1436         try:\n\n...........................................................................\n/home/hskimim/anaconda3/lib/python3.6/asyncio/events.py in _run(self=<Handle IOLoop._run_callback(functools.par...7f07e85f3048>))>)\n    140             self._callback = None\n    141             self._args = None\n    142 \n    143     def _run(self):\n    144         try:\n--> 145             self._callback(*self._args)\n        self._callback = <bound method IOLoop._run_callback of <tornado.platform.asyncio.AsyncIOMainLoop object>>\n        self._args = (functools.partial(<function wrap.<locals>.null_wrapper at 0x7f07e85f3048>),)\n    146         except Exception as exc:\n    147             cb = _format_callback_source(self._callback, self._args)\n    148             msg = 'Exception in callback {}'.format(cb)\n    149             context = {\n\n...........................................................................\n/home/hskimim/anaconda3/lib/python3.6/site-packages/tornado/ioloop.py in _run_callback(self=<tornado.platform.asyncio.AsyncIOMainLoop object>, callback=functools.partial(<function wrap.<locals>.null_wrapper at 0x7f07e85f3048>))\n    754         \"\"\"Runs a callback with error handling.\n    755 \n    756         For use in subclasses.\n    757         \"\"\"\n    758         try:\n--> 759             ret = callback()\n        ret = undefined\n        callback = functools.partial(<function wrap.<locals>.null_wrapper at 0x7f07e85f3048>)\n    760             if ret is not None:\n    761                 from tornado import gen\n    762                 # Functions that return Futures typically swallow all\n    763                 # exceptions and store them in the Future.  If a Future\n\n...........................................................................\n/home/hskimim/anaconda3/lib/python3.6/site-packages/tornado/stack_context.py in null_wrapper(*args=(), **kwargs={})\n    271         # Fast path when there are no active contexts.\n    272         def null_wrapper(*args, **kwargs):\n    273             try:\n    274                 current_state = _state.contexts\n    275                 _state.contexts = cap_contexts[0]\n--> 276                 return fn(*args, **kwargs)\n        args = ()\n        kwargs = {}\n    277             finally:\n    278                 _state.contexts = current_state\n    279         null_wrapper._wrapped = True\n    280         return null_wrapper\n\n...........................................................................\n/home/hskimim/anaconda3/lib/python3.6/site-packages/zmq/eventloop/zmqstream.py in <lambda>()\n    531             return\n    532 \n    533         if state & self.socket.events:\n    534             # events still exist that haven't been processed\n    535             # explicitly schedule handling to avoid missing events due to edge-triggered FDs\n--> 536             self.io_loop.add_callback(lambda : self._handle_events(self.socket, 0))\n    537 \n    538     def _init_io_state(self):\n    539         \"\"\"initialize the ioloop event handler\"\"\"\n    540         with stack_context.NullContext():\n\n...........................................................................\n/home/hskimim/anaconda3/lib/python3.6/site-packages/zmq/eventloop/zmqstream.py in _handle_events(self=<zmq.eventloop.zmqstream.ZMQStream object>, fd=<zmq.sugar.socket.Socket object>, events=0)\n    445             return\n    446         zmq_events = self.socket.EVENTS\n    447         try:\n    448             # dispatch events:\n    449             if zmq_events & zmq.POLLIN and self.receiving():\n--> 450                 self._handle_recv()\n        self._handle_recv = <bound method ZMQStream._handle_recv of <zmq.eventloop.zmqstream.ZMQStream object>>\n    451                 if not self.socket:\n    452                     return\n    453             if zmq_events & zmq.POLLOUT and self.sending():\n    454                 self._handle_send()\n\n...........................................................................\n/home/hskimim/anaconda3/lib/python3.6/site-packages/zmq/eventloop/zmqstream.py in _handle_recv(self=<zmq.eventloop.zmqstream.ZMQStream object>)\n    475             else:\n    476                 raise\n    477         else:\n    478             if self._recv_callback:\n    479                 callback = self._recv_callback\n--> 480                 self._run_callback(callback, msg)\n        self._run_callback = <bound method ZMQStream._run_callback of <zmq.eventloop.zmqstream.ZMQStream object>>\n        callback = <function wrap.<locals>.null_wrapper>\n        msg = [<zmq.sugar.frame.Frame object>, <zmq.sugar.frame.Frame object>, <zmq.sugar.frame.Frame object>, <zmq.sugar.frame.Frame object>, <zmq.sugar.frame.Frame object>, <zmq.sugar.frame.Frame object>, <zmq.sugar.frame.Frame object>]\n    481         \n    482 \n    483     def _handle_send(self):\n    484         \"\"\"Handle a send event.\"\"\"\n\n...........................................................................\n/home/hskimim/anaconda3/lib/python3.6/site-packages/zmq/eventloop/zmqstream.py in _run_callback(self=<zmq.eventloop.zmqstream.ZMQStream object>, callback=<function wrap.<locals>.null_wrapper>, *args=([<zmq.sugar.frame.Frame object>, <zmq.sugar.frame.Frame object>, <zmq.sugar.frame.Frame object>, <zmq.sugar.frame.Frame object>, <zmq.sugar.frame.Frame object>, <zmq.sugar.frame.Frame object>, <zmq.sugar.frame.Frame object>],), **kwargs={})\n    427         close our socket.\"\"\"\n    428         try:\n    429             # Use a NullContext to ensure that all StackContexts are run\n    430             # inside our blanket exception handler rather than outside.\n    431             with stack_context.NullContext():\n--> 432                 callback(*args, **kwargs)\n        callback = <function wrap.<locals>.null_wrapper>\n        args = ([<zmq.sugar.frame.Frame object>, <zmq.sugar.frame.Frame object>, <zmq.sugar.frame.Frame object>, <zmq.sugar.frame.Frame object>, <zmq.sugar.frame.Frame object>, <zmq.sugar.frame.Frame object>, <zmq.sugar.frame.Frame object>],)\n        kwargs = {}\n    433         except:\n    434             gen_log.error(\"Uncaught exception in ZMQStream callback\",\n    435                           exc_info=True)\n    436             # Re-raise the exception so that IOLoop.handle_callback_exception\n\n...........................................................................\n/home/hskimim/anaconda3/lib/python3.6/site-packages/tornado/stack_context.py in null_wrapper(*args=([<zmq.sugar.frame.Frame object>, <zmq.sugar.frame.Frame object>, <zmq.sugar.frame.Frame object>, <zmq.sugar.frame.Frame object>, <zmq.sugar.frame.Frame object>, <zmq.sugar.frame.Frame object>, <zmq.sugar.frame.Frame object>],), **kwargs={})\n    271         # Fast path when there are no active contexts.\n    272         def null_wrapper(*args, **kwargs):\n    273             try:\n    274                 current_state = _state.contexts\n    275                 _state.contexts = cap_contexts[0]\n--> 276                 return fn(*args, **kwargs)\n        args = ([<zmq.sugar.frame.Frame object>, <zmq.sugar.frame.Frame object>, <zmq.sugar.frame.Frame object>, <zmq.sugar.frame.Frame object>, <zmq.sugar.frame.Frame object>, <zmq.sugar.frame.Frame object>, <zmq.sugar.frame.Frame object>],)\n        kwargs = {}\n    277             finally:\n    278                 _state.contexts = current_state\n    279         null_wrapper._wrapped = True\n    280         return null_wrapper\n\n...........................................................................\n/home/hskimim/anaconda3/lib/python3.6/site-packages/ipykernel/kernelbase.py in dispatcher(msg=[<zmq.sugar.frame.Frame object>, <zmq.sugar.frame.Frame object>, <zmq.sugar.frame.Frame object>, <zmq.sugar.frame.Frame object>, <zmq.sugar.frame.Frame object>, <zmq.sugar.frame.Frame object>, <zmq.sugar.frame.Frame object>])\n    278         if self.control_stream:\n    279             self.control_stream.on_recv(self.dispatch_control, copy=False)\n    280 \n    281         def make_dispatcher(stream):\n    282             def dispatcher(msg):\n--> 283                 return self.dispatch_shell(stream, msg)\n        msg = [<zmq.sugar.frame.Frame object>, <zmq.sugar.frame.Frame object>, <zmq.sugar.frame.Frame object>, <zmq.sugar.frame.Frame object>, <zmq.sugar.frame.Frame object>, <zmq.sugar.frame.Frame object>, <zmq.sugar.frame.Frame object>]\n    284             return dispatcher\n    285 \n    286         for s in self.shell_streams:\n    287             s.on_recv(make_dispatcher(s), copy=False)\n\n...........................................................................\n/home/hskimim/anaconda3/lib/python3.6/site-packages/ipykernel/kernelbase.py in dispatch_shell(self=<ipykernel.ipkernel.IPythonKernel object>, stream=<zmq.eventloop.zmqstream.ZMQStream object>, msg={'buffers': [], 'content': {'allow_stdin': True, 'code': '%%time\\ngrid_model5 = GridSearchCV(estimator=svc_...)\\ngrid_model5 = grid_model5.fit(train_X, train_y)', 'silent': False, 'stop_on_error': True, 'store_history': True, 'user_expressions': {}}, 'header': {'date': datetime.datetime(2018, 7, 29, 17, 5, 51, 768671, tzinfo=tzutc()), 'msg_id': 'c70dba6b6a77ce518ba0fbf236e36e45', 'msg_type': 'execute_request', 'session': 'e2e6dac0975cb2362259e935303fd82d', 'username': '', 'version': '5.2'}, 'metadata': {}, 'msg_id': 'c70dba6b6a77ce518ba0fbf236e36e45', 'msg_type': 'execute_request', 'parent_header': {}})\n    228             self.log.warn(\"Unknown message type: %r\", msg_type)\n    229         else:\n    230             self.log.debug(\"%s: %s\", msg_type, msg)\n    231             self.pre_handler_hook()\n    232             try:\n--> 233                 handler(stream, idents, msg)\n        handler = <bound method Kernel.execute_request of <ipykernel.ipkernel.IPythonKernel object>>\n        stream = <zmq.eventloop.zmqstream.ZMQStream object>\n        idents = [b'e2e6dac0975cb2362259e935303fd82d']\n        msg = {'buffers': [], 'content': {'allow_stdin': True, 'code': '%%time\\ngrid_model5 = GridSearchCV(estimator=svc_...)\\ngrid_model5 = grid_model5.fit(train_X, train_y)', 'silent': False, 'stop_on_error': True, 'store_history': True, 'user_expressions': {}}, 'header': {'date': datetime.datetime(2018, 7, 29, 17, 5, 51, 768671, tzinfo=tzutc()), 'msg_id': 'c70dba6b6a77ce518ba0fbf236e36e45', 'msg_type': 'execute_request', 'session': 'e2e6dac0975cb2362259e935303fd82d', 'username': '', 'version': '5.2'}, 'metadata': {}, 'msg_id': 'c70dba6b6a77ce518ba0fbf236e36e45', 'msg_type': 'execute_request', 'parent_header': {}}\n    234             except Exception:\n    235                 self.log.error(\"Exception in message handler:\", exc_info=True)\n    236             finally:\n    237                 self.post_handler_hook()\n\n...........................................................................\n/home/hskimim/anaconda3/lib/python3.6/site-packages/ipykernel/kernelbase.py in execute_request(self=<ipykernel.ipkernel.IPythonKernel object>, stream=<zmq.eventloop.zmqstream.ZMQStream object>, ident=[b'e2e6dac0975cb2362259e935303fd82d'], parent={'buffers': [], 'content': {'allow_stdin': True, 'code': '%%time\\ngrid_model5 = GridSearchCV(estimator=svc_...)\\ngrid_model5 = grid_model5.fit(train_X, train_y)', 'silent': False, 'stop_on_error': True, 'store_history': True, 'user_expressions': {}}, 'header': {'date': datetime.datetime(2018, 7, 29, 17, 5, 51, 768671, tzinfo=tzutc()), 'msg_id': 'c70dba6b6a77ce518ba0fbf236e36e45', 'msg_type': 'execute_request', 'session': 'e2e6dac0975cb2362259e935303fd82d', 'username': '', 'version': '5.2'}, 'metadata': {}, 'msg_id': 'c70dba6b6a77ce518ba0fbf236e36e45', 'msg_type': 'execute_request', 'parent_header': {}})\n    394         if not silent:\n    395             self.execution_count += 1\n    396             self._publish_execute_input(code, parent, self.execution_count)\n    397 \n    398         reply_content = self.do_execute(code, silent, store_history,\n--> 399                                         user_expressions, allow_stdin)\n        user_expressions = {}\n        allow_stdin = True\n    400 \n    401         # Flush output before sending the reply.\n    402         sys.stdout.flush()\n    403         sys.stderr.flush()\n\n...........................................................................\n/home/hskimim/anaconda3/lib/python3.6/site-packages/ipykernel/ipkernel.py in do_execute(self=<ipykernel.ipkernel.IPythonKernel object>, code='%%time\\ngrid_model5 = GridSearchCV(estimator=svc_...)\\ngrid_model5 = grid_model5.fit(train_X, train_y)', silent=False, store_history=True, user_expressions={}, allow_stdin=True)\n    203 \n    204         self._forward_input(allow_stdin)\n    205 \n    206         reply_content = {}\n    207         try:\n--> 208             res = shell.run_cell(code, store_history=store_history, silent=silent)\n        res = undefined\n        shell.run_cell = <bound method ZMQInteractiveShell.run_cell of <ipykernel.zmqshell.ZMQInteractiveShell object>>\n        code = '%%time\\ngrid_model5 = GridSearchCV(estimator=svc_...)\\ngrid_model5 = grid_model5.fit(train_X, train_y)'\n        store_history = True\n        silent = False\n    209         finally:\n    210             self._restore_input()\n    211 \n    212         if res.error_before_exec is not None:\n\n...........................................................................\n/home/hskimim/anaconda3/lib/python3.6/site-packages/ipykernel/zmqshell.py in run_cell(self=<ipykernel.zmqshell.ZMQInteractiveShell object>, *args=('%%time\\ngrid_model5 = GridSearchCV(estimator=svc_...)\\ngrid_model5 = grid_model5.fit(train_X, train_y)',), **kwargs={'silent': False, 'store_history': True})\n    532             )\n    533         self.payload_manager.write_payload(payload)\n    534 \n    535     def run_cell(self, *args, **kwargs):\n    536         self._last_traceback = None\n--> 537         return super(ZMQInteractiveShell, self).run_cell(*args, **kwargs)\n        self.run_cell = <bound method ZMQInteractiveShell.run_cell of <ipykernel.zmqshell.ZMQInteractiveShell object>>\n        args = ('%%time\\ngrid_model5 = GridSearchCV(estimator=svc_...)\\ngrid_model5 = grid_model5.fit(train_X, train_y)',)\n        kwargs = {'silent': False, 'store_history': True}\n    538 \n    539     def _showtraceback(self, etype, evalue, stb):\n    540         # try to preserve ordering of tracebacks and print statements\n    541         sys.stdout.flush()\n\n...........................................................................\n/home/hskimim/anaconda3/lib/python3.6/site-packages/IPython/core/interactiveshell.py in run_cell(self=<ipykernel.zmqshell.ZMQInteractiveShell object>, raw_cell='%%time\\ngrid_model5 = GridSearchCV(estimator=svc_...)\\ngrid_model5 = grid_model5.fit(train_X, train_y)', store_history=True, silent=False, shell_futures=True)\n   2657         -------\n   2658         result : :class:`ExecutionResult`\n   2659         \"\"\"\n   2660         try:\n   2661             result = self._run_cell(\n-> 2662                 raw_cell, store_history, silent, shell_futures)\n        raw_cell = '%%time\\ngrid_model5 = GridSearchCV(estimator=svc_...)\\ngrid_model5 = grid_model5.fit(train_X, train_y)'\n        store_history = True\n        silent = False\n        shell_futures = True\n   2663         finally:\n   2664             self.events.trigger('post_execute')\n   2665             if not silent:\n   2666                 self.events.trigger('post_run_cell', result)\n\n...........................................................................\n/home/hskimim/anaconda3/lib/python3.6/site-packages/IPython/core/interactiveshell.py in _run_cell(self=<ipykernel.zmqshell.ZMQInteractiveShell object>, raw_cell='%%time\\ngrid_model5 = GridSearchCV(estimator=svc_...)\\ngrid_model5 = grid_model5.fit(train_X, train_y)', store_history=True, silent=False, shell_futures=True)\n   2780                 self.displayhook.exec_result = result\n   2781 \n   2782                 # Execute the user code\n   2783                 interactivity = 'none' if silent else self.ast_node_interactivity\n   2784                 has_raised = self.run_ast_nodes(code_ast.body, cell_name,\n-> 2785                    interactivity=interactivity, compiler=compiler, result=result)\n        interactivity = 'last_expr'\n        compiler = <IPython.core.compilerop.CachingCompiler object>\n   2786                 \n   2787                 self.last_execution_succeeded = not has_raised\n   2788                 self.last_execution_result = result\n   2789 \n\n...........................................................................\n/home/hskimim/anaconda3/lib/python3.6/site-packages/IPython/core/interactiveshell.py in run_ast_nodes(self=<ipykernel.zmqshell.ZMQInteractiveShell object>, nodelist=[<_ast.Expr object>], cell_name='<ipython-input-18-c176f86e1ee5>', interactivity='last', compiler=<IPython.core.compilerop.CachingCompiler object>, result=<ExecutionResult object at 7f07ea2b4a58, executi...rue silent=False shell_futures=True> result=None>)\n   2904                     return True\n   2905 \n   2906             for i, node in enumerate(to_run_interactive):\n   2907                 mod = ast.Interactive([node])\n   2908                 code = compiler(mod, cell_name, \"single\")\n-> 2909                 if self.run_code(code, result):\n        self.run_code = <bound method InteractiveShell.run_code of <ipykernel.zmqshell.ZMQInteractiveShell object>>\n        code = <code object <module> at 0x7f07ea10ce40, file \"<ipython-input-18-c176f86e1ee5>\", line 1>\n        result = <ExecutionResult object at 7f07ea2b4a58, executi...rue silent=False shell_futures=True> result=None>\n   2910                     return True\n   2911 \n   2912             # Flush softspace\n   2913             if softspace(sys.stdout, 0):\n\n...........................................................................\n/home/hskimim/anaconda3/lib/python3.6/site-packages/IPython/core/interactiveshell.py in run_code(self=<ipykernel.zmqshell.ZMQInteractiveShell object>, code_obj=<code object <module> at 0x7f07ea10ce40, file \"<ipython-input-18-c176f86e1ee5>\", line 1>, result=<ExecutionResult object at 7f07ea2b4a58, executi...rue silent=False shell_futures=True> result=None>)\n   2958         outflag = True  # happens in more places, so it's easier as default\n   2959         try:\n   2960             try:\n   2961                 self.hooks.pre_run_code_hook()\n   2962                 #rprint('Running code', repr(code_obj)) # dbg\n-> 2963                 exec(code_obj, self.user_global_ns, self.user_ns)\n        code_obj = <code object <module> at 0x7f07ea10ce40, file \"<ipython-input-18-c176f86e1ee5>\", line 1>\n        self.user_global_ns = {'AdaBoostClassifier': <class 'sklearn.ensemble.weight_boosting.AdaBoostClassifier'>, 'BaggingClassifier': <class 'sklearn.ensemble.bagging.BaggingClassifier'>, 'DecisionTreeClassifier': <class 'sklearn.tree.tree.DecisionTreeClassifier'>, 'ExtraTreesClassifier': <class 'sklearn.ensemble.forest.ExtraTreesClassifier'>, 'GaussianNB': <class 'sklearn.naive_bayes.GaussianNB'>, 'GradientBoostingClassifier': <class 'sklearn.ensemble.gradient_boosting.GradientBoostingClassifier'>, 'GridSearchCV': <class 'sklearn.model_selection._search.GridSearchCV'>, 'In': ['', 'import numpy as np\\nimport pandas as pd\\nimport ma...tion import KFold, cross_val_score , GridSearchCV', \"train_df = pd.read_csv('train_new_2v.csv')\\ntrain_df.tail()\", \"train_df.index = train_df['VisitNumber']\\ntrain_d...lumns='VisitNumber',inplace=True)\\ntrain_df.tail()\", 'train_df.shape', 'train_X = train_df.iloc[:,1:]\\ntrain_y = train_df.iloc[:,0]', 'train_X.shape,train_y.shape', 'svc_model = SVC(random_state=0)', \"param_range = [0.0001, 0.001, 0.01, 0.1, 1.0, 10...lf__gamma': param_range, 'clf__kernel': ['rbf']}]\", 'get_ipython().run_cell_magic(\\'time\\', \\'\\', \"grid_m..., cv=10, n_jobs=-1)\\\\ngrid_model5 = gs.fit(X, y)\")', \"from sklearn.externals import joblib\\nfilename = 'svc'\\njoblib.dump(grid_model5,filename)\", \"grid_model4.cv_results_['params']\", 'svc_model = SVC(random_state=0)', \"param_range = [0.0001, 0.001, 0.01, 0.1, 1.0, 10...lf__gamma': param_range, 'clf__kernel': ['rbf']}]\", 'get_ipython().run_cell_magic(\\'time\\', \\'\\', \"grid_m...n_jobs=-1)\\\\ngrid_model5 = grid_model5.fit(X, y)\")', 'get_ipython().run_cell_magic(\\'time\\', \\'\\', \"grid_m...grid_model5 = grid_model5.fit(train_X, train_y)\")', 'svc_model = SVC(random_state=0)', \"param_range = [0.0001, 0.001, 0.01, 0.1, 1.0, 10...lf__gamma': param_range, 'clf__kernel': ['rbf']}]\", 'get_ipython().run_cell_magic(\\'time\\', \\'\\', \"grid_m...grid_model5 = grid_model5.fit(train_X, train_y)\")'], 'KFold': <class 'sklearn.model_selection._split.KFold'>, 'LinearDiscriminantAnalysis': <class 'sklearn.discriminant_analysis.LinearDiscriminantAnalysis'>, ...}\n        self.user_ns = {'AdaBoostClassifier': <class 'sklearn.ensemble.weight_boosting.AdaBoostClassifier'>, 'BaggingClassifier': <class 'sklearn.ensemble.bagging.BaggingClassifier'>, 'DecisionTreeClassifier': <class 'sklearn.tree.tree.DecisionTreeClassifier'>, 'ExtraTreesClassifier': <class 'sklearn.ensemble.forest.ExtraTreesClassifier'>, 'GaussianNB': <class 'sklearn.naive_bayes.GaussianNB'>, 'GradientBoostingClassifier': <class 'sklearn.ensemble.gradient_boosting.GradientBoostingClassifier'>, 'GridSearchCV': <class 'sklearn.model_selection._search.GridSearchCV'>, 'In': ['', 'import numpy as np\\nimport pandas as pd\\nimport ma...tion import KFold, cross_val_score , GridSearchCV', \"train_df = pd.read_csv('train_new_2v.csv')\\ntrain_df.tail()\", \"train_df.index = train_df['VisitNumber']\\ntrain_d...lumns='VisitNumber',inplace=True)\\ntrain_df.tail()\", 'train_df.shape', 'train_X = train_df.iloc[:,1:]\\ntrain_y = train_df.iloc[:,0]', 'train_X.shape,train_y.shape', 'svc_model = SVC(random_state=0)', \"param_range = [0.0001, 0.001, 0.01, 0.1, 1.0, 10...lf__gamma': param_range, 'clf__kernel': ['rbf']}]\", 'get_ipython().run_cell_magic(\\'time\\', \\'\\', \"grid_m..., cv=10, n_jobs=-1)\\\\ngrid_model5 = gs.fit(X, y)\")', \"from sklearn.externals import joblib\\nfilename = 'svc'\\njoblib.dump(grid_model5,filename)\", \"grid_model4.cv_results_['params']\", 'svc_model = SVC(random_state=0)', \"param_range = [0.0001, 0.001, 0.01, 0.1, 1.0, 10...lf__gamma': param_range, 'clf__kernel': ['rbf']}]\", 'get_ipython().run_cell_magic(\\'time\\', \\'\\', \"grid_m...n_jobs=-1)\\\\ngrid_model5 = grid_model5.fit(X, y)\")', 'get_ipython().run_cell_magic(\\'time\\', \\'\\', \"grid_m...grid_model5 = grid_model5.fit(train_X, train_y)\")', 'svc_model = SVC(random_state=0)', \"param_range = [0.0001, 0.001, 0.01, 0.1, 1.0, 10...lf__gamma': param_range, 'clf__kernel': ['rbf']}]\", 'get_ipython().run_cell_magic(\\'time\\', \\'\\', \"grid_m...grid_model5 = grid_model5.fit(train_X, train_y)\")'], 'KFold': <class 'sklearn.model_selection._split.KFold'>, 'LinearDiscriminantAnalysis': <class 'sklearn.discriminant_analysis.LinearDiscriminantAnalysis'>, ...}\n   2964             finally:\n   2965                 # Reset our crash handler in place\n   2966                 sys.excepthook = old_excepthook\n   2967         except SystemExit as e:\n\n...........................................................................\n/home/hskimim/Documents/git-project/dss8/data_science_school/Walmart_Recruiting_Classification/<ipython-input-18-c176f86e1ee5> in <module>()\n----> 1 get_ipython().run_cell_magic('time', '', \"grid_model5 = GridSearchCV(estimator=svc_model,param_grid=param_grid, scoring='accuracy', cv=10, n_jobs=-1)\\ngrid_model5 = grid_model5.fit(train_X, train_y)\")\n\n...........................................................................\n/home/hskimim/anaconda3/lib/python3.6/site-packages/IPython/core/interactiveshell.py in run_cell_magic(self=<ipykernel.zmqshell.ZMQInteractiveShell object>, magic_name='time', line='', cell='grid_model5 = GridSearchCV(estimator=svc_model,p...)\\ngrid_model5 = grid_model5.fit(train_X, train_y)')\n   2162             # This will need to be updated if the internal calling logic gets\n   2163             # refactored, or else we'll be expanding the wrong variables.\n   2164             stack_depth = 2\n   2165             magic_arg_s = self.var_expand(line, stack_depth)\n   2166             with self.builtin_trap:\n-> 2167                 result = fn(magic_arg_s, cell)\n        result = undefined\n        fn = <bound method ExecutionMagics.time of <IPython.core.magics.execution.ExecutionMagics object>>\n        magic_arg_s = ''\n        cell = 'grid_model5 = GridSearchCV(estimator=svc_model,p...)\\ngrid_model5 = grid_model5.fit(train_X, train_y)'\n   2168             return result\n   2169 \n   2170     def find_line_magic(self, magic_name):\n   2171         \"\"\"Find and return a line magic by name.\n\n...........................................................................\n/home/hskimim/Documents/git-project/dss8/data_science_school/Walmart_Recruiting_Classification/<decorator-gen-62> in time(self=<IPython.core.magics.execution.ExecutionMagics object>, line='', cell='grid_model5 = GridSearchCV(estimator=svc_model,p...)\\ngrid_model5 = grid_model5.fit(train_X, train_y)', local_ns=None)\n\n...........................................................................\n/home/hskimim/anaconda3/lib/python3.6/site-packages/IPython/core/magic.py in <lambda>(f=<function ExecutionMagics.time>, *a=(<IPython.core.magics.execution.ExecutionMagics object>, '', 'grid_model5 = GridSearchCV(estimator=svc_model,p...)\\ngrid_model5 = grid_model5.fit(train_X, train_y)', None), **k={})\n    182     validate_type(magic_kind)\n    183 \n    184     # This is a closure to capture the magic_kind.  We could also use a class,\n    185     # but it's overkill for just that one bit of state.\n    186     def magic_deco(arg):\n--> 187         call = lambda f, *a, **k: f(*a, **k)\n        f = <function ExecutionMagics.time>\n        a = (<IPython.core.magics.execution.ExecutionMagics object>, '', 'grid_model5 = GridSearchCV(estimator=svc_model,p...)\\ngrid_model5 = grid_model5.fit(train_X, train_y)', None)\n        k = {}\n    188 \n    189         if callable(arg):\n    190             # \"Naked\" decorator call (just @foo, no args)\n    191             func = arg\n\n...........................................................................\n/home/hskimim/anaconda3/lib/python3.6/site-packages/IPython/core/magics/execution.py in time(self=<IPython.core.magics.execution.ExecutionMagics object>, line='', cell='grid_model5 = GridSearchCV(estimator=svc_model,p...)\\ngrid_model5 = grid_model5.fit(train_X, train_y)', local_ns=None)\n   1233                 return\n   1234             end = clock2()\n   1235         else:\n   1236             st = clock2()\n   1237             try:\n-> 1238                 exec(code, glob, local_ns)\n        code = <code object <module> at 0x7f07e85f55d0, file \"<timed exec>\", line 1>\n        glob = {'AdaBoostClassifier': <class 'sklearn.ensemble.weight_boosting.AdaBoostClassifier'>, 'BaggingClassifier': <class 'sklearn.ensemble.bagging.BaggingClassifier'>, 'DecisionTreeClassifier': <class 'sklearn.tree.tree.DecisionTreeClassifier'>, 'ExtraTreesClassifier': <class 'sklearn.ensemble.forest.ExtraTreesClassifier'>, 'GaussianNB': <class 'sklearn.naive_bayes.GaussianNB'>, 'GradientBoostingClassifier': <class 'sklearn.ensemble.gradient_boosting.GradientBoostingClassifier'>, 'GridSearchCV': <class 'sklearn.model_selection._search.GridSearchCV'>, 'In': ['', 'import numpy as np\\nimport pandas as pd\\nimport ma...tion import KFold, cross_val_score , GridSearchCV', \"train_df = pd.read_csv('train_new_2v.csv')\\ntrain_df.tail()\", \"train_df.index = train_df['VisitNumber']\\ntrain_d...lumns='VisitNumber',inplace=True)\\ntrain_df.tail()\", 'train_df.shape', 'train_X = train_df.iloc[:,1:]\\ntrain_y = train_df.iloc[:,0]', 'train_X.shape,train_y.shape', 'svc_model = SVC(random_state=0)', \"param_range = [0.0001, 0.001, 0.01, 0.1, 1.0, 10...lf__gamma': param_range, 'clf__kernel': ['rbf']}]\", 'get_ipython().run_cell_magic(\\'time\\', \\'\\', \"grid_m..., cv=10, n_jobs=-1)\\\\ngrid_model5 = gs.fit(X, y)\")', \"from sklearn.externals import joblib\\nfilename = 'svc'\\njoblib.dump(grid_model5,filename)\", \"grid_model4.cv_results_['params']\", 'svc_model = SVC(random_state=0)', \"param_range = [0.0001, 0.001, 0.01, 0.1, 1.0, 10...lf__gamma': param_range, 'clf__kernel': ['rbf']}]\", 'get_ipython().run_cell_magic(\\'time\\', \\'\\', \"grid_m...n_jobs=-1)\\\\ngrid_model5 = grid_model5.fit(X, y)\")', 'get_ipython().run_cell_magic(\\'time\\', \\'\\', \"grid_m...grid_model5 = grid_model5.fit(train_X, train_y)\")', 'svc_model = SVC(random_state=0)', \"param_range = [0.0001, 0.001, 0.01, 0.1, 1.0, 10...lf__gamma': param_range, 'clf__kernel': ['rbf']}]\", 'get_ipython().run_cell_magic(\\'time\\', \\'\\', \"grid_m...grid_model5 = grid_model5.fit(train_X, train_y)\")'], 'KFold': <class 'sklearn.model_selection._split.KFold'>, 'LinearDiscriminantAnalysis': <class 'sklearn.discriminant_analysis.LinearDiscriminantAnalysis'>, ...}\n        local_ns = None\n   1239             except:\n   1240                 self.shell.showtraceback()\n   1241                 return\n   1242             end = clock2()\n\n...........................................................................\n/home/hskimim/Documents/git-project/dss8/data_science_school/Walmart_Recruiting_Classification/<timed exec> in <module>()\n\n...........................................................................\n/home/hskimim/anaconda3/lib/python3.6/site-packages/sklearn/model_selection/_search.py in fit(self=GridSearchCV(cv=10, error_score='raise',\n       ...ore='warn',\n       scoring='accuracy', verbose=0), X=             Monday  Tuesday  Wednesday  Thursda...   0     0         0  \n\n[95674 rows x 76 columns], y=VisitNumber\n5         999\n7          30\n8       ...    8\nName: TripType, Length: 95674, dtype: int64, groups=None, **fit_params={})\n    634                                   return_train_score=self.return_train_score,\n    635                                   return_n_test_samples=True,\n    636                                   return_times=True, return_parameters=False,\n    637                                   error_score=self.error_score)\n    638           for parameters, (train, test) in product(candidate_params,\n--> 639                                                    cv.split(X, y, groups)))\n        cv.split = <bound method StratifiedKFold.split of Stratifie...d(n_splits=10, random_state=None, shuffle=False)>\n        X =              Monday  Tuesday  Wednesday  Thursda...   0     0         0  \n\n[95674 rows x 76 columns]\n        y = VisitNumber\n5         999\n7          30\n8       ...    8\nName: TripType, Length: 95674, dtype: int64\n        groups = None\n    640 \n    641         # if one choose to see train score, \"out\" will contain train score info\n    642         if self.return_train_score:\n    643             (train_score_dicts, test_score_dicts, test_sample_counts, fit_time,\n\n...........................................................................\n/home/hskimim/anaconda3/lib/python3.6/site-packages/sklearn/externals/joblib/parallel.py in __call__(self=Parallel(n_jobs=-1), iterable=<generator object BaseSearchCV.fit.<locals>.<genexpr>>)\n    784             if pre_dispatch == \"all\" or n_jobs == 1:\n    785                 # The iterable was consumed all at once by the above for loop.\n    786                 # No need to wait for async callbacks to trigger to\n    787                 # consumption.\n    788                 self._iterating = False\n--> 789             self.retrieve()\n        self.retrieve = <bound method Parallel.retrieve of Parallel(n_jobs=-1)>\n    790             # Make sure that we get a last message telling us we are done\n    791             elapsed_time = time.time() - self._start_time\n    792             self._print('Done %3i out of %3i | elapsed: %s finished',\n    793                         (len(self._output), len(self._output),\n\n---------------------------------------------------------------------------\nSub-process traceback:\n---------------------------------------------------------------------------\nValueError                                         Mon Jul 30 02:05:52 2018\nPID: 5462                  Python 3.6.5: /home/hskimim/anaconda3/bin/python\n...........................................................................\n/home/hskimim/anaconda3/lib/python3.6/site-packages/sklearn/externals/joblib/parallel.py in __call__(self=<sklearn.externals.joblib.parallel.BatchedCalls object>)\n    126     def __init__(self, iterator_slice):\n    127         self.items = list(iterator_slice)\n    128         self._size = len(self.items)\n    129 \n    130     def __call__(self):\n--> 131         return [func(*args, **kwargs) for func, args, kwargs in self.items]\n        self.items = [(<function _fit_and_score>, (SVC(C=1.0, cache_size=200, class_weight=None, co...te=0, shrinking=True,\n  tol=0.001, verbose=False),              Monday  Tuesday  Wednesday  Thursda...   0     0         0  \n\n[95674 rows x 76 columns], VisitNumber\n5         999\n7          30\n8       ...    8\nName: TripType, Length: 95674, dtype: int64, {'score': make_scorer(accuracy_score)}, array([ 6168,  6427,  6430, ..., 95671, 95672, 95673]), array([    0,     1,     2, ..., 51424, 51514, 51520]), 0, {'clf__C': 0.0001, 'clf__kernel': 'linear'}), {'error_score': 'raise', 'fit_params': {}, 'return_n_test_samples': True, 'return_parameters': False, 'return_times': True, 'return_train_score': 'warn'})]\n    132 \n    133     def __len__(self):\n    134         return self._size\n    135 \n\n...........................................................................\n/home/hskimim/anaconda3/lib/python3.6/site-packages/sklearn/externals/joblib/parallel.py in <listcomp>(.0=<list_iterator object>)\n    126     def __init__(self, iterator_slice):\n    127         self.items = list(iterator_slice)\n    128         self._size = len(self.items)\n    129 \n    130     def __call__(self):\n--> 131         return [func(*args, **kwargs) for func, args, kwargs in self.items]\n        func = <function _fit_and_score>\n        args = (SVC(C=1.0, cache_size=200, class_weight=None, co...te=0, shrinking=True,\n  tol=0.001, verbose=False),              Monday  Tuesday  Wednesday  Thursda...   0     0         0  \n\n[95674 rows x 76 columns], VisitNumber\n5         999\n7          30\n8       ...    8\nName: TripType, Length: 95674, dtype: int64, {'score': make_scorer(accuracy_score)}, array([ 6168,  6427,  6430, ..., 95671, 95672, 95673]), array([    0,     1,     2, ..., 51424, 51514, 51520]), 0, {'clf__C': 0.0001, 'clf__kernel': 'linear'})\n        kwargs = {'error_score': 'raise', 'fit_params': {}, 'return_n_test_samples': True, 'return_parameters': False, 'return_times': True, 'return_train_score': 'warn'}\n    132 \n    133     def __len__(self):\n    134         return self._size\n    135 \n\n...........................................................................\n/home/hskimim/anaconda3/lib/python3.6/site-packages/sklearn/model_selection/_validation.py in _fit_and_score(estimator=SVC(C=1.0, cache_size=200, class_weight=None, co...te=0, shrinking=True,\n  tol=0.001, verbose=False), X=             Monday  Tuesday  Wednesday  Thursda...   0     0         0  \n\n[95674 rows x 76 columns], y=VisitNumber\n5         999\n7          30\n8       ...    8\nName: TripType, Length: 95674, dtype: int64, scorer={'score': make_scorer(accuracy_score)}, train=array([ 6168,  6427,  6430, ..., 95671, 95672, 95673]), test=array([    0,     1,     2, ..., 51424, 51514, 51520]), verbose=0, parameters={'clf__C': 0.0001, 'clf__kernel': 'linear'}, fit_params={}, return_train_score='warn', return_parameters=False, return_n_test_samples=True, return_times=True, error_score='raise')\n    439                       for k, v in fit_params.items()])\n    440 \n    441     test_scores = {}\n    442     train_scores = {}\n    443     if parameters is not None:\n--> 444         estimator.set_params(**parameters)\n        estimator.set_params = <bound method BaseEstimator.set_params of SVC(C=...e=0, shrinking=True,\n  tol=0.001, verbose=False)>\n        parameters = {'clf__C': 0.0001, 'clf__kernel': 'linear'}\n    445 \n    446     start_time = time.time()\n    447 \n    448     X_train, y_train = _safe_split(estimator, X, y, train)\n\n...........................................................................\n/home/hskimim/anaconda3/lib/python3.6/site-packages/sklearn/base.py in set_params(self=SVC(C=1.0, cache_size=200, class_weight=None, co...te=0, shrinking=True,\n  tol=0.001, verbose=False), **params={'clf__C': 0.0001, 'clf__kernel': 'linear'})\n    269             key, delim, sub_key = key.partition('__')\n    270             if key not in valid_params:\n    271                 raise ValueError('Invalid parameter %s for estimator %s. '\n    272                                  'Check the list of available parameters '\n    273                                  'with `estimator.get_params().keys()`.' %\n--> 274                                  (key, self))\n        key = 'clf'\n        self = SVC(C=1.0, cache_size=200, class_weight=None, co...te=0, shrinking=True,\n  tol=0.001, verbose=False)\n    275 \n    276             if delim:\n    277                 nested_params[key][sub_key] = value\n    278             else:\n\nValueError: Invalid parameter clf for estimator SVC(C=1.0, cache_size=200, class_weight=None, coef0=0.0,\n  decision_function_shape='ovr', degree=3, gamma='auto', kernel='rbf',\n  max_iter=-1, probability=False, random_state=0, shrinking=True,\n  tol=0.001, verbose=False). Check the list of available parameters with `estimator.get_params().keys()`.\n___________________________________________________________________________",
     "output_type": "error",
     "traceback": [
      "\u001b[0;31m---------------------------------------------------------------------------\u001b[0m",
      "\u001b[0;31mRemoteTraceback\u001b[0m                           Traceback (most recent call last)",
      "\u001b[0;31mRemoteTraceback\u001b[0m: \n\"\"\"\nTraceback (most recent call last):\n  File \"/home/hskimim/anaconda3/lib/python3.6/site-packages/sklearn/externals/joblib/_parallel_backends.py\", line 350, in __call__\n    return self.func(*args, **kwargs)\n  File \"/home/hskimim/anaconda3/lib/python3.6/site-packages/sklearn/externals/joblib/parallel.py\", line 131, in __call__\n    return [func(*args, **kwargs) for func, args, kwargs in self.items]\n  File \"/home/hskimim/anaconda3/lib/python3.6/site-packages/sklearn/externals/joblib/parallel.py\", line 131, in <listcomp>\n    return [func(*args, **kwargs) for func, args, kwargs in self.items]\n  File \"/home/hskimim/anaconda3/lib/python3.6/site-packages/sklearn/model_selection/_validation.py\", line 444, in _fit_and_score\n    estimator.set_params(**parameters)\n  File \"/home/hskimim/anaconda3/lib/python3.6/site-packages/sklearn/base.py\", line 274, in set_params\n    (key, self))\nValueError: Invalid parameter clf for estimator SVC(C=1.0, cache_size=200, class_weight=None, coef0=0.0,\n  decision_function_shape='ovr', degree=3, gamma='auto', kernel='rbf',\n  max_iter=-1, probability=False, random_state=0, shrinking=True,\n  tol=0.001, verbose=False). Check the list of available parameters with `estimator.get_params().keys()`.\n\nDuring handling of the above exception, another exception occurred:\n\nTraceback (most recent call last):\n  File \"/home/hskimim/anaconda3/lib/python3.6/multiprocessing/pool.py\", line 119, in worker\n    result = (True, func(*args, **kwds))\n  File \"/home/hskimim/anaconda3/lib/python3.6/site-packages/sklearn/externals/joblib/_parallel_backends.py\", line 359, in __call__\n    raise TransportableException(text, e_type)\nsklearn.externals.joblib.my_exceptions.TransportableException: TransportableException\n___________________________________________________________________________\nValueError                                         Mon Jul 30 02:05:52 2018\nPID: 5462                  Python 3.6.5: /home/hskimim/anaconda3/bin/python\n...........................................................................\n/home/hskimim/anaconda3/lib/python3.6/site-packages/sklearn/externals/joblib/parallel.py in __call__(self=<sklearn.externals.joblib.parallel.BatchedCalls object>)\n    126     def __init__(self, iterator_slice):\n    127         self.items = list(iterator_slice)\n    128         self._size = len(self.items)\n    129 \n    130     def __call__(self):\n--> 131         return [func(*args, **kwargs) for func, args, kwargs in self.items]\n        self.items = [(<function _fit_and_score>, (SVC(C=1.0, cache_size=200, class_weight=None, co...te=0, shrinking=True,\n  tol=0.001, verbose=False),              Monday  Tuesday  Wednesday  Thursda...   0     0         0  \n\n[95674 rows x 76 columns], VisitNumber\n5         999\n7          30\n8       ...    8\nName: TripType, Length: 95674, dtype: int64, {'score': make_scorer(accuracy_score)}, array([ 6168,  6427,  6430, ..., 95671, 95672, 95673]), array([    0,     1,     2, ..., 51424, 51514, 51520]), 0, {'clf__C': 0.0001, 'clf__kernel': 'linear'}), {'error_score': 'raise', 'fit_params': {}, 'return_n_test_samples': True, 'return_parameters': False, 'return_times': True, 'return_train_score': 'warn'})]\n    132 \n    133     def __len__(self):\n    134         return self._size\n    135 \n\n...........................................................................\n/home/hskimim/anaconda3/lib/python3.6/site-packages/sklearn/externals/joblib/parallel.py in <listcomp>(.0=<list_iterator object>)\n    126     def __init__(self, iterator_slice):\n    127         self.items = list(iterator_slice)\n    128         self._size = len(self.items)\n    129 \n    130     def __call__(self):\n--> 131         return [func(*args, **kwargs) for func, args, kwargs in self.items]\n        func = <function _fit_and_score>\n        args = (SVC(C=1.0, cache_size=200, class_weight=None, co...te=0, shrinking=True,\n  tol=0.001, verbose=False),              Monday  Tuesday  Wednesday  Thursda...   0     0         0  \n\n[95674 rows x 76 columns], VisitNumber\n5         999\n7          30\n8       ...    8\nName: TripType, Length: 95674, dtype: int64, {'score': make_scorer(accuracy_score)}, array([ 6168,  6427,  6430, ..., 95671, 95672, 95673]), array([    0,     1,     2, ..., 51424, 51514, 51520]), 0, {'clf__C': 0.0001, 'clf__kernel': 'linear'})\n        kwargs = {'error_score': 'raise', 'fit_params': {}, 'return_n_test_samples': True, 'return_parameters': False, 'return_times': True, 'return_train_score': 'warn'}\n    132 \n    133     def __len__(self):\n    134         return self._size\n    135 \n\n...........................................................................\n/home/hskimim/anaconda3/lib/python3.6/site-packages/sklearn/model_selection/_validation.py in _fit_and_score(estimator=SVC(C=1.0, cache_size=200, class_weight=None, co...te=0, shrinking=True,\n  tol=0.001, verbose=False), X=             Monday  Tuesday  Wednesday  Thursda...   0     0         0  \n\n[95674 rows x 76 columns], y=VisitNumber\n5         999\n7          30\n8       ...    8\nName: TripType, Length: 95674, dtype: int64, scorer={'score': make_scorer(accuracy_score)}, train=array([ 6168,  6427,  6430, ..., 95671, 95672, 95673]), test=array([    0,     1,     2, ..., 51424, 51514, 51520]), verbose=0, parameters={'clf__C': 0.0001, 'clf__kernel': 'linear'}, fit_params={}, return_train_score='warn', return_parameters=False, return_n_test_samples=True, return_times=True, error_score='raise')\n    439                       for k, v in fit_params.items()])\n    440 \n    441     test_scores = {}\n    442     train_scores = {}\n    443     if parameters is not None:\n--> 444         estimator.set_params(**parameters)\n        estimator.set_params = <bound method BaseEstimator.set_params of SVC(C=...e=0, shrinking=True,\n  tol=0.001, verbose=False)>\n        parameters = {'clf__C': 0.0001, 'clf__kernel': 'linear'}\n    445 \n    446     start_time = time.time()\n    447 \n    448     X_train, y_train = _safe_split(estimator, X, y, train)\n\n...........................................................................\n/home/hskimim/anaconda3/lib/python3.6/site-packages/sklearn/base.py in set_params(self=SVC(C=1.0, cache_size=200, class_weight=None, co...te=0, shrinking=True,\n  tol=0.001, verbose=False), **params={'clf__C': 0.0001, 'clf__kernel': 'linear'})\n    269             key, delim, sub_key = key.partition('__')\n    270             if key not in valid_params:\n    271                 raise ValueError('Invalid parameter %s for estimator %s. '\n    272                                  'Check the list of available parameters '\n    273                                  'with `estimator.get_params().keys()`.' %\n--> 274                                  (key, self))\n        key = 'clf'\n        self = SVC(C=1.0, cache_size=200, class_weight=None, co...te=0, shrinking=True,\n  tol=0.001, verbose=False)\n    275 \n    276             if delim:\n    277                 nested_params[key][sub_key] = value\n    278             else:\n\nValueError: Invalid parameter clf for estimator SVC(C=1.0, cache_size=200, class_weight=None, coef0=0.0,\n  decision_function_shape='ovr', degree=3, gamma='auto', kernel='rbf',\n  max_iter=-1, probability=False, random_state=0, shrinking=True,\n  tol=0.001, verbose=False). Check the list of available parameters with `estimator.get_params().keys()`.\n___________________________________________________________________________\n\"\"\"",
      "\nThe above exception was the direct cause of the following exception:\n",
      "\u001b[0;31mTransportableException\u001b[0m                    Traceback (most recent call last)",
      "\u001b[0;32m~/anaconda3/lib/python3.6/site-packages/sklearn/externals/joblib/parallel.py\u001b[0m in \u001b[0;36mretrieve\u001b[0;34m(self)\u001b[0m\n\u001b[1;32m    698\u001b[0m                 \u001b[0;32mif\u001b[0m \u001b[0mgetattr\u001b[0m\u001b[0;34m(\u001b[0m\u001b[0mself\u001b[0m\u001b[0;34m.\u001b[0m\u001b[0m_backend\u001b[0m\u001b[0;34m,\u001b[0m \u001b[0;34m'supports_timeout'\u001b[0m\u001b[0;34m,\u001b[0m \u001b[0;32mFalse\u001b[0m\u001b[0;34m)\u001b[0m\u001b[0;34m:\u001b[0m\u001b[0;34m\u001b[0m\u001b[0m\n\u001b[0;32m--> 699\u001b[0;31m                     \u001b[0mself\u001b[0m\u001b[0;34m.\u001b[0m\u001b[0m_output\u001b[0m\u001b[0;34m.\u001b[0m\u001b[0mextend\u001b[0m\u001b[0;34m(\u001b[0m\u001b[0mjob\u001b[0m\u001b[0;34m.\u001b[0m\u001b[0mget\u001b[0m\u001b[0;34m(\u001b[0m\u001b[0mtimeout\u001b[0m\u001b[0;34m=\u001b[0m\u001b[0mself\u001b[0m\u001b[0;34m.\u001b[0m\u001b[0mtimeout\u001b[0m\u001b[0;34m)\u001b[0m\u001b[0;34m)\u001b[0m\u001b[0;34m\u001b[0m\u001b[0m\n\u001b[0m\u001b[1;32m    700\u001b[0m                 \u001b[0;32melse\u001b[0m\u001b[0;34m:\u001b[0m\u001b[0;34m\u001b[0m\u001b[0m\n",
      "\u001b[0;32m~/anaconda3/lib/python3.6/multiprocessing/pool.py\u001b[0m in \u001b[0;36mget\u001b[0;34m(self, timeout)\u001b[0m\n\u001b[1;32m    643\u001b[0m         \u001b[0;32melse\u001b[0m\u001b[0;34m:\u001b[0m\u001b[0;34m\u001b[0m\u001b[0m\n\u001b[0;32m--> 644\u001b[0;31m             \u001b[0;32mraise\u001b[0m \u001b[0mself\u001b[0m\u001b[0;34m.\u001b[0m\u001b[0m_value\u001b[0m\u001b[0;34m\u001b[0m\u001b[0m\n\u001b[0m\u001b[1;32m    645\u001b[0m \u001b[0;34m\u001b[0m\u001b[0m\n",
      "\u001b[0;31mTransportableException\u001b[0m: TransportableException\n___________________________________________________________________________\nValueError                                         Mon Jul 30 02:05:52 2018\nPID: 5462                  Python 3.6.5: /home/hskimim/anaconda3/bin/python\n...........................................................................\n/home/hskimim/anaconda3/lib/python3.6/site-packages/sklearn/externals/joblib/parallel.py in __call__(self=<sklearn.externals.joblib.parallel.BatchedCalls object>)\n    126     def __init__(self, iterator_slice):\n    127         self.items = list(iterator_slice)\n    128         self._size = len(self.items)\n    129 \n    130     def __call__(self):\n--> 131         return [func(*args, **kwargs) for func, args, kwargs in self.items]\n        self.items = [(<function _fit_and_score>, (SVC(C=1.0, cache_size=200, class_weight=None, co...te=0, shrinking=True,\n  tol=0.001, verbose=False),              Monday  Tuesday  Wednesday  Thursda...   0     0         0  \n\n[95674 rows x 76 columns], VisitNumber\n5         999\n7          30\n8       ...    8\nName: TripType, Length: 95674, dtype: int64, {'score': make_scorer(accuracy_score)}, array([ 6168,  6427,  6430, ..., 95671, 95672, 95673]), array([    0,     1,     2, ..., 51424, 51514, 51520]), 0, {'clf__C': 0.0001, 'clf__kernel': 'linear'}), {'error_score': 'raise', 'fit_params': {}, 'return_n_test_samples': True, 'return_parameters': False, 'return_times': True, 'return_train_score': 'warn'})]\n    132 \n    133     def __len__(self):\n    134         return self._size\n    135 \n\n...........................................................................\n/home/hskimim/anaconda3/lib/python3.6/site-packages/sklearn/externals/joblib/parallel.py in <listcomp>(.0=<list_iterator object>)\n    126     def __init__(self, iterator_slice):\n    127         self.items = list(iterator_slice)\n    128         self._size = len(self.items)\n    129 \n    130     def __call__(self):\n--> 131         return [func(*args, **kwargs) for func, args, kwargs in self.items]\n        func = <function _fit_and_score>\n        args = (SVC(C=1.0, cache_size=200, class_weight=None, co...te=0, shrinking=True,\n  tol=0.001, verbose=False),              Monday  Tuesday  Wednesday  Thursda...   0     0         0  \n\n[95674 rows x 76 columns], VisitNumber\n5         999\n7          30\n8       ...    8\nName: TripType, Length: 95674, dtype: int64, {'score': make_scorer(accuracy_score)}, array([ 6168,  6427,  6430, ..., 95671, 95672, 95673]), array([    0,     1,     2, ..., 51424, 51514, 51520]), 0, {'clf__C': 0.0001, 'clf__kernel': 'linear'})\n        kwargs = {'error_score': 'raise', 'fit_params': {}, 'return_n_test_samples': True, 'return_parameters': False, 'return_times': True, 'return_train_score': 'warn'}\n    132 \n    133     def __len__(self):\n    134         return self._size\n    135 \n\n...........................................................................\n/home/hskimim/anaconda3/lib/python3.6/site-packages/sklearn/model_selection/_validation.py in _fit_and_score(estimator=SVC(C=1.0, cache_size=200, class_weight=None, co...te=0, shrinking=True,\n  tol=0.001, verbose=False), X=             Monday  Tuesday  Wednesday  Thursda...   0     0         0  \n\n[95674 rows x 76 columns], y=VisitNumber\n5         999\n7          30\n8       ...    8\nName: TripType, Length: 95674, dtype: int64, scorer={'score': make_scorer(accuracy_score)}, train=array([ 6168,  6427,  6430, ..., 95671, 95672, 95673]), test=array([    0,     1,     2, ..., 51424, 51514, 51520]), verbose=0, parameters={'clf__C': 0.0001, 'clf__kernel': 'linear'}, fit_params={}, return_train_score='warn', return_parameters=False, return_n_test_samples=True, return_times=True, error_score='raise')\n    439                       for k, v in fit_params.items()])\n    440 \n    441     test_scores = {}\n    442     train_scores = {}\n    443     if parameters is not None:\n--> 444         estimator.set_params(**parameters)\n        estimator.set_params = <bound method BaseEstimator.set_params of SVC(C=...e=0, shrinking=True,\n  tol=0.001, verbose=False)>\n        parameters = {'clf__C': 0.0001, 'clf__kernel': 'linear'}\n    445 \n    446     start_time = time.time()\n    447 \n    448     X_train, y_train = _safe_split(estimator, X, y, train)\n\n...........................................................................\n/home/hskimim/anaconda3/lib/python3.6/site-packages/sklearn/base.py in set_params(self=SVC(C=1.0, cache_size=200, class_weight=None, co...te=0, shrinking=True,\n  tol=0.001, verbose=False), **params={'clf__C': 0.0001, 'clf__kernel': 'linear'})\n    269             key, delim, sub_key = key.partition('__')\n    270             if key not in valid_params:\n    271                 raise ValueError('Invalid parameter %s for estimator %s. '\n    272                                  'Check the list of available parameters '\n    273                                  'with `estimator.get_params().keys()`.' %\n--> 274                                  (key, self))\n        key = 'clf'\n        self = SVC(C=1.0, cache_size=200, class_weight=None, co...te=0, shrinking=True,\n  tol=0.001, verbose=False)\n    275 \n    276             if delim:\n    277                 nested_params[key][sub_key] = value\n    278             else:\n\nValueError: Invalid parameter clf for estimator SVC(C=1.0, cache_size=200, class_weight=None, coef0=0.0,\n  decision_function_shape='ovr', degree=3, gamma='auto', kernel='rbf',\n  max_iter=-1, probability=False, random_state=0, shrinking=True,\n  tol=0.001, verbose=False). Check the list of available parameters with `estimator.get_params().keys()`.\n___________________________________________________________________________",
      "\nDuring handling of the above exception, another exception occurred:\n",
      "\u001b[0;31mJoblibValueError\u001b[0m                          Traceback (most recent call last)",
      "\u001b[0;32m<timed exec>\u001b[0m in \u001b[0;36m<module>\u001b[0;34m()\u001b[0m\n",
      "\u001b[0;32m~/anaconda3/lib/python3.6/site-packages/sklearn/model_selection/_search.py\u001b[0m in \u001b[0;36mfit\u001b[0;34m(self, X, y, groups, **fit_params)\u001b[0m\n\u001b[1;32m    637\u001b[0m                                   error_score=self.error_score)\n\u001b[1;32m    638\u001b[0m           for parameters, (train, test) in product(candidate_params,\n\u001b[0;32m--> 639\u001b[0;31m                                                    cv.split(X, y, groups)))\n\u001b[0m\u001b[1;32m    640\u001b[0m \u001b[0;34m\u001b[0m\u001b[0m\n\u001b[1;32m    641\u001b[0m         \u001b[0;31m# if one choose to see train score, \"out\" will contain train score info\u001b[0m\u001b[0;34m\u001b[0m\u001b[0;34m\u001b[0m\u001b[0m\n",
      "\u001b[0;32m~/anaconda3/lib/python3.6/site-packages/sklearn/externals/joblib/parallel.py\u001b[0m in \u001b[0;36m__call__\u001b[0;34m(self, iterable)\u001b[0m\n\u001b[1;32m    787\u001b[0m                 \u001b[0;31m# consumption.\u001b[0m\u001b[0;34m\u001b[0m\u001b[0;34m\u001b[0m\u001b[0m\n\u001b[1;32m    788\u001b[0m                 \u001b[0mself\u001b[0m\u001b[0;34m.\u001b[0m\u001b[0m_iterating\u001b[0m \u001b[0;34m=\u001b[0m \u001b[0;32mFalse\u001b[0m\u001b[0;34m\u001b[0m\u001b[0m\n\u001b[0;32m--> 789\u001b[0;31m             \u001b[0mself\u001b[0m\u001b[0;34m.\u001b[0m\u001b[0mretrieve\u001b[0m\u001b[0;34m(\u001b[0m\u001b[0;34m)\u001b[0m\u001b[0;34m\u001b[0m\u001b[0m\n\u001b[0m\u001b[1;32m    790\u001b[0m             \u001b[0;31m# Make sure that we get a last message telling us we are done\u001b[0m\u001b[0;34m\u001b[0m\u001b[0;34m\u001b[0m\u001b[0m\n\u001b[1;32m    791\u001b[0m             \u001b[0melapsed_time\u001b[0m \u001b[0;34m=\u001b[0m \u001b[0mtime\u001b[0m\u001b[0;34m.\u001b[0m\u001b[0mtime\u001b[0m\u001b[0;34m(\u001b[0m\u001b[0;34m)\u001b[0m \u001b[0;34m-\u001b[0m \u001b[0mself\u001b[0m\u001b[0;34m.\u001b[0m\u001b[0m_start_time\u001b[0m\u001b[0;34m\u001b[0m\u001b[0m\n",
      "\u001b[0;32m~/anaconda3/lib/python3.6/site-packages/sklearn/externals/joblib/parallel.py\u001b[0m in \u001b[0;36mretrieve\u001b[0;34m(self)\u001b[0m\n\u001b[1;32m    738\u001b[0m                     \u001b[0mexception\u001b[0m \u001b[0;34m=\u001b[0m \u001b[0mexception_type\u001b[0m\u001b[0;34m(\u001b[0m\u001b[0mreport\u001b[0m\u001b[0;34m)\u001b[0m\u001b[0;34m\u001b[0m\u001b[0m\n\u001b[1;32m    739\u001b[0m \u001b[0;34m\u001b[0m\u001b[0m\n\u001b[0;32m--> 740\u001b[0;31m                     \u001b[0;32mraise\u001b[0m \u001b[0mexception\u001b[0m\u001b[0;34m\u001b[0m\u001b[0m\n\u001b[0m\u001b[1;32m    741\u001b[0m \u001b[0;34m\u001b[0m\u001b[0m\n\u001b[1;32m    742\u001b[0m     \u001b[0;32mdef\u001b[0m \u001b[0m__call__\u001b[0m\u001b[0;34m(\u001b[0m\u001b[0mself\u001b[0m\u001b[0;34m,\u001b[0m \u001b[0miterable\u001b[0m\u001b[0;34m)\u001b[0m\u001b[0;34m:\u001b[0m\u001b[0;34m\u001b[0m\u001b[0m\n",
      "\u001b[0;31mJoblibValueError\u001b[0m: JoblibValueError\n___________________________________________________________________________\nMultiprocessing exception:\n...........................................................................\n/home/hskimim/anaconda3/lib/python3.6/runpy.py in _run_module_as_main(mod_name='ipykernel_launcher', alter_argv=1)\n    188         sys.exit(msg)\n    189     main_globals = sys.modules[\"__main__\"].__dict__\n    190     if alter_argv:\n    191         sys.argv[0] = mod_spec.origin\n    192     return _run_code(code, main_globals, None,\n--> 193                      \"__main__\", mod_spec)\n        mod_spec = ModuleSpec(name='ipykernel_launcher', loader=<_f...b/python3.6/site-packages/ipykernel_launcher.py')\n    194 \n    195 def run_module(mod_name, init_globals=None,\n    196                run_name=None, alter_sys=False):\n    197     \"\"\"Execute a module's code without importing it\n\n...........................................................................\n/home/hskimim/anaconda3/lib/python3.6/runpy.py in _run_code(code=<code object <module> at 0x7f082fc81a50, file \"/...3.6/site-packages/ipykernel_launcher.py\", line 5>, run_globals={'__annotations__': {}, '__builtins__': <module 'builtins' (built-in)>, '__cached__': '/home/hskimim/anaconda3/lib/python3.6/site-packages/__pycache__/ipykernel_launcher.cpython-36.pyc', '__doc__': 'Entry point for launching an IPython kernel.\\n\\nTh...orts until\\nafter removing the cwd from sys.path.\\n', '__file__': '/home/hskimim/anaconda3/lib/python3.6/site-packages/ipykernel_launcher.py', '__loader__': <_frozen_importlib_external.SourceFileLoader object>, '__name__': '__main__', '__package__': '', '__spec__': ModuleSpec(name='ipykernel_launcher', loader=<_f...b/python3.6/site-packages/ipykernel_launcher.py'), 'app': <module 'ipykernel.kernelapp' from '/home/hskimi.../python3.6/site-packages/ipykernel/kernelapp.py'>, ...}, init_globals=None, mod_name='__main__', mod_spec=ModuleSpec(name='ipykernel_launcher', loader=<_f...b/python3.6/site-packages/ipykernel_launcher.py'), pkg_name='', script_name=None)\n     80                        __cached__ = cached,\n     81                        __doc__ = None,\n     82                        __loader__ = loader,\n     83                        __package__ = pkg_name,\n     84                        __spec__ = mod_spec)\n---> 85     exec(code, run_globals)\n        code = <code object <module> at 0x7f082fc81a50, file \"/...3.6/site-packages/ipykernel_launcher.py\", line 5>\n        run_globals = {'__annotations__': {}, '__builtins__': <module 'builtins' (built-in)>, '__cached__': '/home/hskimim/anaconda3/lib/python3.6/site-packages/__pycache__/ipykernel_launcher.cpython-36.pyc', '__doc__': 'Entry point for launching an IPython kernel.\\n\\nTh...orts until\\nafter removing the cwd from sys.path.\\n', '__file__': '/home/hskimim/anaconda3/lib/python3.6/site-packages/ipykernel_launcher.py', '__loader__': <_frozen_importlib_external.SourceFileLoader object>, '__name__': '__main__', '__package__': '', '__spec__': ModuleSpec(name='ipykernel_launcher', loader=<_f...b/python3.6/site-packages/ipykernel_launcher.py'), 'app': <module 'ipykernel.kernelapp' from '/home/hskimi.../python3.6/site-packages/ipykernel/kernelapp.py'>, ...}\n     86     return run_globals\n     87 \n     88 def _run_module_code(code, init_globals=None,\n     89                     mod_name=None, mod_spec=None,\n\n...........................................................................\n/home/hskimim/anaconda3/lib/python3.6/site-packages/ipykernel_launcher.py in <module>()\n     11     # This is added back by InteractiveShellApp.init_path()\n     12     if sys.path[0] == '':\n     13         del sys.path[0]\n     14 \n     15     from ipykernel import kernelapp as app\n---> 16     app.launch_new_instance()\n\n...........................................................................\n/home/hskimim/anaconda3/lib/python3.6/site-packages/traitlets/config/application.py in launch_instance(cls=<class 'ipykernel.kernelapp.IPKernelApp'>, argv=None, **kwargs={})\n    653 \n    654         If a global instance already exists, this reinitializes and starts it\n    655         \"\"\"\n    656         app = cls.instance(**kwargs)\n    657         app.initialize(argv)\n--> 658         app.start()\n        app.start = <bound method IPKernelApp.start of <ipykernel.kernelapp.IPKernelApp object>>\n    659 \n    660 #-----------------------------------------------------------------------------\n    661 # utility functions, for convenience\n    662 #-----------------------------------------------------------------------------\n\n...........................................................................\n/home/hskimim/anaconda3/lib/python3.6/site-packages/ipykernel/kernelapp.py in start(self=<ipykernel.kernelapp.IPKernelApp object>)\n    481         if self.poller is not None:\n    482             self.poller.start()\n    483         self.kernel.start()\n    484         self.io_loop = ioloop.IOLoop.current()\n    485         try:\n--> 486             self.io_loop.start()\n        self.io_loop.start = <bound method BaseAsyncIOLoop.start of <tornado.platform.asyncio.AsyncIOMainLoop object>>\n    487         except KeyboardInterrupt:\n    488             pass\n    489 \n    490 launch_new_instance = IPKernelApp.launch_instance\n\n...........................................................................\n/home/hskimim/anaconda3/lib/python3.6/site-packages/tornado/platform/asyncio.py in start(self=<tornado.platform.asyncio.AsyncIOMainLoop object>)\n    122         except (RuntimeError, AssertionError):\n    123             old_loop = None\n    124         try:\n    125             self._setup_logging()\n    126             asyncio.set_event_loop(self.asyncio_loop)\n--> 127             self.asyncio_loop.run_forever()\n        self.asyncio_loop.run_forever = <bound method BaseEventLoop.run_forever of <_Uni...EventLoop running=True closed=False debug=False>>\n    128         finally:\n    129             asyncio.set_event_loop(old_loop)\n    130 \n    131     def stop(self):\n\n...........................................................................\n/home/hskimim/anaconda3/lib/python3.6/asyncio/base_events.py in run_forever(self=<_UnixSelectorEventLoop running=True closed=False debug=False>)\n    417             sys.set_asyncgen_hooks(firstiter=self._asyncgen_firstiter_hook,\n    418                                    finalizer=self._asyncgen_finalizer_hook)\n    419         try:\n    420             events._set_running_loop(self)\n    421             while True:\n--> 422                 self._run_once()\n        self._run_once = <bound method BaseEventLoop._run_once of <_UnixS...EventLoop running=True closed=False debug=False>>\n    423                 if self._stopping:\n    424                     break\n    425         finally:\n    426             self._stopping = False\n\n...........................................................................\n/home/hskimim/anaconda3/lib/python3.6/asyncio/base_events.py in _run_once(self=<_UnixSelectorEventLoop running=True closed=False debug=False>)\n   1427                         logger.warning('Executing %s took %.3f seconds',\n   1428                                        _format_handle(handle), dt)\n   1429                 finally:\n   1430                     self._current_handle = None\n   1431             else:\n-> 1432                 handle._run()\n        handle._run = <bound method Handle._run of <Handle IOLoop._run_callback(functools.par...7f07e85f3048>))>>\n   1433         handle = None  # Needed to break cycles when an exception occurs.\n   1434 \n   1435     def _set_coroutine_wrapper(self, enabled):\n   1436         try:\n\n...........................................................................\n/home/hskimim/anaconda3/lib/python3.6/asyncio/events.py in _run(self=<Handle IOLoop._run_callback(functools.par...7f07e85f3048>))>)\n    140             self._callback = None\n    141             self._args = None\n    142 \n    143     def _run(self):\n    144         try:\n--> 145             self._callback(*self._args)\n        self._callback = <bound method IOLoop._run_callback of <tornado.platform.asyncio.AsyncIOMainLoop object>>\n        self._args = (functools.partial(<function wrap.<locals>.null_wrapper at 0x7f07e85f3048>),)\n    146         except Exception as exc:\n    147             cb = _format_callback_source(self._callback, self._args)\n    148             msg = 'Exception in callback {}'.format(cb)\n    149             context = {\n\n...........................................................................\n/home/hskimim/anaconda3/lib/python3.6/site-packages/tornado/ioloop.py in _run_callback(self=<tornado.platform.asyncio.AsyncIOMainLoop object>, callback=functools.partial(<function wrap.<locals>.null_wrapper at 0x7f07e85f3048>))\n    754         \"\"\"Runs a callback with error handling.\n    755 \n    756         For use in subclasses.\n    757         \"\"\"\n    758         try:\n--> 759             ret = callback()\n        ret = undefined\n        callback = functools.partial(<function wrap.<locals>.null_wrapper at 0x7f07e85f3048>)\n    760             if ret is not None:\n    761                 from tornado import gen\n    762                 # Functions that return Futures typically swallow all\n    763                 # exceptions and store them in the Future.  If a Future\n\n...........................................................................\n/home/hskimim/anaconda3/lib/python3.6/site-packages/tornado/stack_context.py in null_wrapper(*args=(), **kwargs={})\n    271         # Fast path when there are no active contexts.\n    272         def null_wrapper(*args, **kwargs):\n    273             try:\n    274                 current_state = _state.contexts\n    275                 _state.contexts = cap_contexts[0]\n--> 276                 return fn(*args, **kwargs)\n        args = ()\n        kwargs = {}\n    277             finally:\n    278                 _state.contexts = current_state\n    279         null_wrapper._wrapped = True\n    280         return null_wrapper\n\n...........................................................................\n/home/hskimim/anaconda3/lib/python3.6/site-packages/zmq/eventloop/zmqstream.py in <lambda>()\n    531             return\n    532 \n    533         if state & self.socket.events:\n    534             # events still exist that haven't been processed\n    535             # explicitly schedule handling to avoid missing events due to edge-triggered FDs\n--> 536             self.io_loop.add_callback(lambda : self._handle_events(self.socket, 0))\n    537 \n    538     def _init_io_state(self):\n    539         \"\"\"initialize the ioloop event handler\"\"\"\n    540         with stack_context.NullContext():\n\n...........................................................................\n/home/hskimim/anaconda3/lib/python3.6/site-packages/zmq/eventloop/zmqstream.py in _handle_events(self=<zmq.eventloop.zmqstream.ZMQStream object>, fd=<zmq.sugar.socket.Socket object>, events=0)\n    445             return\n    446         zmq_events = self.socket.EVENTS\n    447         try:\n    448             # dispatch events:\n    449             if zmq_events & zmq.POLLIN and self.receiving():\n--> 450                 self._handle_recv()\n        self._handle_recv = <bound method ZMQStream._handle_recv of <zmq.eventloop.zmqstream.ZMQStream object>>\n    451                 if not self.socket:\n    452                     return\n    453             if zmq_events & zmq.POLLOUT and self.sending():\n    454                 self._handle_send()\n\n...........................................................................\n/home/hskimim/anaconda3/lib/python3.6/site-packages/zmq/eventloop/zmqstream.py in _handle_recv(self=<zmq.eventloop.zmqstream.ZMQStream object>)\n    475             else:\n    476                 raise\n    477         else:\n    478             if self._recv_callback:\n    479                 callback = self._recv_callback\n--> 480                 self._run_callback(callback, msg)\n        self._run_callback = <bound method ZMQStream._run_callback of <zmq.eventloop.zmqstream.ZMQStream object>>\n        callback = <function wrap.<locals>.null_wrapper>\n        msg = [<zmq.sugar.frame.Frame object>, <zmq.sugar.frame.Frame object>, <zmq.sugar.frame.Frame object>, <zmq.sugar.frame.Frame object>, <zmq.sugar.frame.Frame object>, <zmq.sugar.frame.Frame object>, <zmq.sugar.frame.Frame object>]\n    481         \n    482 \n    483     def _handle_send(self):\n    484         \"\"\"Handle a send event.\"\"\"\n\n...........................................................................\n/home/hskimim/anaconda3/lib/python3.6/site-packages/zmq/eventloop/zmqstream.py in _run_callback(self=<zmq.eventloop.zmqstream.ZMQStream object>, callback=<function wrap.<locals>.null_wrapper>, *args=([<zmq.sugar.frame.Frame object>, <zmq.sugar.frame.Frame object>, <zmq.sugar.frame.Frame object>, <zmq.sugar.frame.Frame object>, <zmq.sugar.frame.Frame object>, <zmq.sugar.frame.Frame object>, <zmq.sugar.frame.Frame object>],), **kwargs={})\n    427         close our socket.\"\"\"\n    428         try:\n    429             # Use a NullContext to ensure that all StackContexts are run\n    430             # inside our blanket exception handler rather than outside.\n    431             with stack_context.NullContext():\n--> 432                 callback(*args, **kwargs)\n        callback = <function wrap.<locals>.null_wrapper>\n        args = ([<zmq.sugar.frame.Frame object>, <zmq.sugar.frame.Frame object>, <zmq.sugar.frame.Frame object>, <zmq.sugar.frame.Frame object>, <zmq.sugar.frame.Frame object>, <zmq.sugar.frame.Frame object>, <zmq.sugar.frame.Frame object>],)\n        kwargs = {}\n    433         except:\n    434             gen_log.error(\"Uncaught exception in ZMQStream callback\",\n    435                           exc_info=True)\n    436             # Re-raise the exception so that IOLoop.handle_callback_exception\n\n...........................................................................\n/home/hskimim/anaconda3/lib/python3.6/site-packages/tornado/stack_context.py in null_wrapper(*args=([<zmq.sugar.frame.Frame object>, <zmq.sugar.frame.Frame object>, <zmq.sugar.frame.Frame object>, <zmq.sugar.frame.Frame object>, <zmq.sugar.frame.Frame object>, <zmq.sugar.frame.Frame object>, <zmq.sugar.frame.Frame object>],), **kwargs={})\n    271         # Fast path when there are no active contexts.\n    272         def null_wrapper(*args, **kwargs):\n    273             try:\n    274                 current_state = _state.contexts\n    275                 _state.contexts = cap_contexts[0]\n--> 276                 return fn(*args, **kwargs)\n        args = ([<zmq.sugar.frame.Frame object>, <zmq.sugar.frame.Frame object>, <zmq.sugar.frame.Frame object>, <zmq.sugar.frame.Frame object>, <zmq.sugar.frame.Frame object>, <zmq.sugar.frame.Frame object>, <zmq.sugar.frame.Frame object>],)\n        kwargs = {}\n    277             finally:\n    278                 _state.contexts = current_state\n    279         null_wrapper._wrapped = True\n    280         return null_wrapper\n\n...........................................................................\n/home/hskimim/anaconda3/lib/python3.6/site-packages/ipykernel/kernelbase.py in dispatcher(msg=[<zmq.sugar.frame.Frame object>, <zmq.sugar.frame.Frame object>, <zmq.sugar.frame.Frame object>, <zmq.sugar.frame.Frame object>, <zmq.sugar.frame.Frame object>, <zmq.sugar.frame.Frame object>, <zmq.sugar.frame.Frame object>])\n    278         if self.control_stream:\n    279             self.control_stream.on_recv(self.dispatch_control, copy=False)\n    280 \n    281         def make_dispatcher(stream):\n    282             def dispatcher(msg):\n--> 283                 return self.dispatch_shell(stream, msg)\n        msg = [<zmq.sugar.frame.Frame object>, <zmq.sugar.frame.Frame object>, <zmq.sugar.frame.Frame object>, <zmq.sugar.frame.Frame object>, <zmq.sugar.frame.Frame object>, <zmq.sugar.frame.Frame object>, <zmq.sugar.frame.Frame object>]\n    284             return dispatcher\n    285 \n    286         for s in self.shell_streams:\n    287             s.on_recv(make_dispatcher(s), copy=False)\n\n...........................................................................\n/home/hskimim/anaconda3/lib/python3.6/site-packages/ipykernel/kernelbase.py in dispatch_shell(self=<ipykernel.ipkernel.IPythonKernel object>, stream=<zmq.eventloop.zmqstream.ZMQStream object>, msg={'buffers': [], 'content': {'allow_stdin': True, 'code': '%%time\\ngrid_model5 = GridSearchCV(estimator=svc_...)\\ngrid_model5 = grid_model5.fit(train_X, train_y)', 'silent': False, 'stop_on_error': True, 'store_history': True, 'user_expressions': {}}, 'header': {'date': datetime.datetime(2018, 7, 29, 17, 5, 51, 768671, tzinfo=tzutc()), 'msg_id': 'c70dba6b6a77ce518ba0fbf236e36e45', 'msg_type': 'execute_request', 'session': 'e2e6dac0975cb2362259e935303fd82d', 'username': '', 'version': '5.2'}, 'metadata': {}, 'msg_id': 'c70dba6b6a77ce518ba0fbf236e36e45', 'msg_type': 'execute_request', 'parent_header': {}})\n    228             self.log.warn(\"Unknown message type: %r\", msg_type)\n    229         else:\n    230             self.log.debug(\"%s: %s\", msg_type, msg)\n    231             self.pre_handler_hook()\n    232             try:\n--> 233                 handler(stream, idents, msg)\n        handler = <bound method Kernel.execute_request of <ipykernel.ipkernel.IPythonKernel object>>\n        stream = <zmq.eventloop.zmqstream.ZMQStream object>\n        idents = [b'e2e6dac0975cb2362259e935303fd82d']\n        msg = {'buffers': [], 'content': {'allow_stdin': True, 'code': '%%time\\ngrid_model5 = GridSearchCV(estimator=svc_...)\\ngrid_model5 = grid_model5.fit(train_X, train_y)', 'silent': False, 'stop_on_error': True, 'store_history': True, 'user_expressions': {}}, 'header': {'date': datetime.datetime(2018, 7, 29, 17, 5, 51, 768671, tzinfo=tzutc()), 'msg_id': 'c70dba6b6a77ce518ba0fbf236e36e45', 'msg_type': 'execute_request', 'session': 'e2e6dac0975cb2362259e935303fd82d', 'username': '', 'version': '5.2'}, 'metadata': {}, 'msg_id': 'c70dba6b6a77ce518ba0fbf236e36e45', 'msg_type': 'execute_request', 'parent_header': {}}\n    234             except Exception:\n    235                 self.log.error(\"Exception in message handler:\", exc_info=True)\n    236             finally:\n    237                 self.post_handler_hook()\n\n...........................................................................\n/home/hskimim/anaconda3/lib/python3.6/site-packages/ipykernel/kernelbase.py in execute_request(self=<ipykernel.ipkernel.IPythonKernel object>, stream=<zmq.eventloop.zmqstream.ZMQStream object>, ident=[b'e2e6dac0975cb2362259e935303fd82d'], parent={'buffers': [], 'content': {'allow_stdin': True, 'code': '%%time\\ngrid_model5 = GridSearchCV(estimator=svc_...)\\ngrid_model5 = grid_model5.fit(train_X, train_y)', 'silent': False, 'stop_on_error': True, 'store_history': True, 'user_expressions': {}}, 'header': {'date': datetime.datetime(2018, 7, 29, 17, 5, 51, 768671, tzinfo=tzutc()), 'msg_id': 'c70dba6b6a77ce518ba0fbf236e36e45', 'msg_type': 'execute_request', 'session': 'e2e6dac0975cb2362259e935303fd82d', 'username': '', 'version': '5.2'}, 'metadata': {}, 'msg_id': 'c70dba6b6a77ce518ba0fbf236e36e45', 'msg_type': 'execute_request', 'parent_header': {}})\n    394         if not silent:\n    395             self.execution_count += 1\n    396             self._publish_execute_input(code, parent, self.execution_count)\n    397 \n    398         reply_content = self.do_execute(code, silent, store_history,\n--> 399                                         user_expressions, allow_stdin)\n        user_expressions = {}\n        allow_stdin = True\n    400 \n    401         # Flush output before sending the reply.\n    402         sys.stdout.flush()\n    403         sys.stderr.flush()\n\n...........................................................................\n/home/hskimim/anaconda3/lib/python3.6/site-packages/ipykernel/ipkernel.py in do_execute(self=<ipykernel.ipkernel.IPythonKernel object>, code='%%time\\ngrid_model5 = GridSearchCV(estimator=svc_...)\\ngrid_model5 = grid_model5.fit(train_X, train_y)', silent=False, store_history=True, user_expressions={}, allow_stdin=True)\n    203 \n    204         self._forward_input(allow_stdin)\n    205 \n    206         reply_content = {}\n    207         try:\n--> 208             res = shell.run_cell(code, store_history=store_history, silent=silent)\n        res = undefined\n        shell.run_cell = <bound method ZMQInteractiveShell.run_cell of <ipykernel.zmqshell.ZMQInteractiveShell object>>\n        code = '%%time\\ngrid_model5 = GridSearchCV(estimator=svc_...)\\ngrid_model5 = grid_model5.fit(train_X, train_y)'\n        store_history = True\n        silent = False\n    209         finally:\n    210             self._restore_input()\n    211 \n    212         if res.error_before_exec is not None:\n\n...........................................................................\n/home/hskimim/anaconda3/lib/python3.6/site-packages/ipykernel/zmqshell.py in run_cell(self=<ipykernel.zmqshell.ZMQInteractiveShell object>, *args=('%%time\\ngrid_model5 = GridSearchCV(estimator=svc_...)\\ngrid_model5 = grid_model5.fit(train_X, train_y)',), **kwargs={'silent': False, 'store_history': True})\n    532             )\n    533         self.payload_manager.write_payload(payload)\n    534 \n    535     def run_cell(self, *args, **kwargs):\n    536         self._last_traceback = None\n--> 537         return super(ZMQInteractiveShell, self).run_cell(*args, **kwargs)\n        self.run_cell = <bound method ZMQInteractiveShell.run_cell of <ipykernel.zmqshell.ZMQInteractiveShell object>>\n        args = ('%%time\\ngrid_model5 = GridSearchCV(estimator=svc_...)\\ngrid_model5 = grid_model5.fit(train_X, train_y)',)\n        kwargs = {'silent': False, 'store_history': True}\n    538 \n    539     def _showtraceback(self, etype, evalue, stb):\n    540         # try to preserve ordering of tracebacks and print statements\n    541         sys.stdout.flush()\n\n...........................................................................\n/home/hskimim/anaconda3/lib/python3.6/site-packages/IPython/core/interactiveshell.py in run_cell(self=<ipykernel.zmqshell.ZMQInteractiveShell object>, raw_cell='%%time\\ngrid_model5 = GridSearchCV(estimator=svc_...)\\ngrid_model5 = grid_model5.fit(train_X, train_y)', store_history=True, silent=False, shell_futures=True)\n   2657         -------\n   2658         result : :class:`ExecutionResult`\n   2659         \"\"\"\n   2660         try:\n   2661             result = self._run_cell(\n-> 2662                 raw_cell, store_history, silent, shell_futures)\n        raw_cell = '%%time\\ngrid_model5 = GridSearchCV(estimator=svc_...)\\ngrid_model5 = grid_model5.fit(train_X, train_y)'\n        store_history = True\n        silent = False\n        shell_futures = True\n   2663         finally:\n   2664             self.events.trigger('post_execute')\n   2665             if not silent:\n   2666                 self.events.trigger('post_run_cell', result)\n\n...........................................................................\n/home/hskimim/anaconda3/lib/python3.6/site-packages/IPython/core/interactiveshell.py in _run_cell(self=<ipykernel.zmqshell.ZMQInteractiveShell object>, raw_cell='%%time\\ngrid_model5 = GridSearchCV(estimator=svc_...)\\ngrid_model5 = grid_model5.fit(train_X, train_y)', store_history=True, silent=False, shell_futures=True)\n   2780                 self.displayhook.exec_result = result\n   2781 \n   2782                 # Execute the user code\n   2783                 interactivity = 'none' if silent else self.ast_node_interactivity\n   2784                 has_raised = self.run_ast_nodes(code_ast.body, cell_name,\n-> 2785                    interactivity=interactivity, compiler=compiler, result=result)\n        interactivity = 'last_expr'\n        compiler = <IPython.core.compilerop.CachingCompiler object>\n   2786                 \n   2787                 self.last_execution_succeeded = not has_raised\n   2788                 self.last_execution_result = result\n   2789 \n\n...........................................................................\n/home/hskimim/anaconda3/lib/python3.6/site-packages/IPython/core/interactiveshell.py in run_ast_nodes(self=<ipykernel.zmqshell.ZMQInteractiveShell object>, nodelist=[<_ast.Expr object>], cell_name='<ipython-input-18-c176f86e1ee5>', interactivity='last', compiler=<IPython.core.compilerop.CachingCompiler object>, result=<ExecutionResult object at 7f07ea2b4a58, executi...rue silent=False shell_futures=True> result=None>)\n   2904                     return True\n   2905 \n   2906             for i, node in enumerate(to_run_interactive):\n   2907                 mod = ast.Interactive([node])\n   2908                 code = compiler(mod, cell_name, \"single\")\n-> 2909                 if self.run_code(code, result):\n        self.run_code = <bound method InteractiveShell.run_code of <ipykernel.zmqshell.ZMQInteractiveShell object>>\n        code = <code object <module> at 0x7f07ea10ce40, file \"<ipython-input-18-c176f86e1ee5>\", line 1>\n        result = <ExecutionResult object at 7f07ea2b4a58, executi...rue silent=False shell_futures=True> result=None>\n   2910                     return True\n   2911 \n   2912             # Flush softspace\n   2913             if softspace(sys.stdout, 0):\n\n...........................................................................\n/home/hskimim/anaconda3/lib/python3.6/site-packages/IPython/core/interactiveshell.py in run_code(self=<ipykernel.zmqshell.ZMQInteractiveShell object>, code_obj=<code object <module> at 0x7f07ea10ce40, file \"<ipython-input-18-c176f86e1ee5>\", line 1>, result=<ExecutionResult object at 7f07ea2b4a58, executi...rue silent=False shell_futures=True> result=None>)\n   2958         outflag = True  # happens in more places, so it's easier as default\n   2959         try:\n   2960             try:\n   2961                 self.hooks.pre_run_code_hook()\n   2962                 #rprint('Running code', repr(code_obj)) # dbg\n-> 2963                 exec(code_obj, self.user_global_ns, self.user_ns)\n        code_obj = <code object <module> at 0x7f07ea10ce40, file \"<ipython-input-18-c176f86e1ee5>\", line 1>\n        self.user_global_ns = {'AdaBoostClassifier': <class 'sklearn.ensemble.weight_boosting.AdaBoostClassifier'>, 'BaggingClassifier': <class 'sklearn.ensemble.bagging.BaggingClassifier'>, 'DecisionTreeClassifier': <class 'sklearn.tree.tree.DecisionTreeClassifier'>, 'ExtraTreesClassifier': <class 'sklearn.ensemble.forest.ExtraTreesClassifier'>, 'GaussianNB': <class 'sklearn.naive_bayes.GaussianNB'>, 'GradientBoostingClassifier': <class 'sklearn.ensemble.gradient_boosting.GradientBoostingClassifier'>, 'GridSearchCV': <class 'sklearn.model_selection._search.GridSearchCV'>, 'In': ['', 'import numpy as np\\nimport pandas as pd\\nimport ma...tion import KFold, cross_val_score , GridSearchCV', \"train_df = pd.read_csv('train_new_2v.csv')\\ntrain_df.tail()\", \"train_df.index = train_df['VisitNumber']\\ntrain_d...lumns='VisitNumber',inplace=True)\\ntrain_df.tail()\", 'train_df.shape', 'train_X = train_df.iloc[:,1:]\\ntrain_y = train_df.iloc[:,0]', 'train_X.shape,train_y.shape', 'svc_model = SVC(random_state=0)', \"param_range = [0.0001, 0.001, 0.01, 0.1, 1.0, 10...lf__gamma': param_range, 'clf__kernel': ['rbf']}]\", 'get_ipython().run_cell_magic(\\'time\\', \\'\\', \"grid_m..., cv=10, n_jobs=-1)\\\\ngrid_model5 = gs.fit(X, y)\")', \"from sklearn.externals import joblib\\nfilename = 'svc'\\njoblib.dump(grid_model5,filename)\", \"grid_model4.cv_results_['params']\", 'svc_model = SVC(random_state=0)', \"param_range = [0.0001, 0.001, 0.01, 0.1, 1.0, 10...lf__gamma': param_range, 'clf__kernel': ['rbf']}]\", 'get_ipython().run_cell_magic(\\'time\\', \\'\\', \"grid_m...n_jobs=-1)\\\\ngrid_model5 = grid_model5.fit(X, y)\")', 'get_ipython().run_cell_magic(\\'time\\', \\'\\', \"grid_m...grid_model5 = grid_model5.fit(train_X, train_y)\")', 'svc_model = SVC(random_state=0)', \"param_range = [0.0001, 0.001, 0.01, 0.1, 1.0, 10...lf__gamma': param_range, 'clf__kernel': ['rbf']}]\", 'get_ipython().run_cell_magic(\\'time\\', \\'\\', \"grid_m...grid_model5 = grid_model5.fit(train_X, train_y)\")'], 'KFold': <class 'sklearn.model_selection._split.KFold'>, 'LinearDiscriminantAnalysis': <class 'sklearn.discriminant_analysis.LinearDiscriminantAnalysis'>, ...}\n        self.user_ns = {'AdaBoostClassifier': <class 'sklearn.ensemble.weight_boosting.AdaBoostClassifier'>, 'BaggingClassifier': <class 'sklearn.ensemble.bagging.BaggingClassifier'>, 'DecisionTreeClassifier': <class 'sklearn.tree.tree.DecisionTreeClassifier'>, 'ExtraTreesClassifier': <class 'sklearn.ensemble.forest.ExtraTreesClassifier'>, 'GaussianNB': <class 'sklearn.naive_bayes.GaussianNB'>, 'GradientBoostingClassifier': <class 'sklearn.ensemble.gradient_boosting.GradientBoostingClassifier'>, 'GridSearchCV': <class 'sklearn.model_selection._search.GridSearchCV'>, 'In': ['', 'import numpy as np\\nimport pandas as pd\\nimport ma...tion import KFold, cross_val_score , GridSearchCV', \"train_df = pd.read_csv('train_new_2v.csv')\\ntrain_df.tail()\", \"train_df.index = train_df['VisitNumber']\\ntrain_d...lumns='VisitNumber',inplace=True)\\ntrain_df.tail()\", 'train_df.shape', 'train_X = train_df.iloc[:,1:]\\ntrain_y = train_df.iloc[:,0]', 'train_X.shape,train_y.shape', 'svc_model = SVC(random_state=0)', \"param_range = [0.0001, 0.001, 0.01, 0.1, 1.0, 10...lf__gamma': param_range, 'clf__kernel': ['rbf']}]\", 'get_ipython().run_cell_magic(\\'time\\', \\'\\', \"grid_m..., cv=10, n_jobs=-1)\\\\ngrid_model5 = gs.fit(X, y)\")', \"from sklearn.externals import joblib\\nfilename = 'svc'\\njoblib.dump(grid_model5,filename)\", \"grid_model4.cv_results_['params']\", 'svc_model = SVC(random_state=0)', \"param_range = [0.0001, 0.001, 0.01, 0.1, 1.0, 10...lf__gamma': param_range, 'clf__kernel': ['rbf']}]\", 'get_ipython().run_cell_magic(\\'time\\', \\'\\', \"grid_m...n_jobs=-1)\\\\ngrid_model5 = grid_model5.fit(X, y)\")', 'get_ipython().run_cell_magic(\\'time\\', \\'\\', \"grid_m...grid_model5 = grid_model5.fit(train_X, train_y)\")', 'svc_model = SVC(random_state=0)', \"param_range = [0.0001, 0.001, 0.01, 0.1, 1.0, 10...lf__gamma': param_range, 'clf__kernel': ['rbf']}]\", 'get_ipython().run_cell_magic(\\'time\\', \\'\\', \"grid_m...grid_model5 = grid_model5.fit(train_X, train_y)\")'], 'KFold': <class 'sklearn.model_selection._split.KFold'>, 'LinearDiscriminantAnalysis': <class 'sklearn.discriminant_analysis.LinearDiscriminantAnalysis'>, ...}\n   2964             finally:\n   2965                 # Reset our crash handler in place\n   2966                 sys.excepthook = old_excepthook\n   2967         except SystemExit as e:\n\n...........................................................................\n/home/hskimim/Documents/git-project/dss8/data_science_school/Walmart_Recruiting_Classification/<ipython-input-18-c176f86e1ee5> in <module>()\n----> 1 get_ipython().run_cell_magic('time', '', \"grid_model5 = GridSearchCV(estimator=svc_model,param_grid=param_grid, scoring='accuracy', cv=10, n_jobs=-1)\\ngrid_model5 = grid_model5.fit(train_X, train_y)\")\n\n...........................................................................\n/home/hskimim/anaconda3/lib/python3.6/site-packages/IPython/core/interactiveshell.py in run_cell_magic(self=<ipykernel.zmqshell.ZMQInteractiveShell object>, magic_name='time', line='', cell='grid_model5 = GridSearchCV(estimator=svc_model,p...)\\ngrid_model5 = grid_model5.fit(train_X, train_y)')\n   2162             # This will need to be updated if the internal calling logic gets\n   2163             # refactored, or else we'll be expanding the wrong variables.\n   2164             stack_depth = 2\n   2165             magic_arg_s = self.var_expand(line, stack_depth)\n   2166             with self.builtin_trap:\n-> 2167                 result = fn(magic_arg_s, cell)\n        result = undefined\n        fn = <bound method ExecutionMagics.time of <IPython.core.magics.execution.ExecutionMagics object>>\n        magic_arg_s = ''\n        cell = 'grid_model5 = GridSearchCV(estimator=svc_model,p...)\\ngrid_model5 = grid_model5.fit(train_X, train_y)'\n   2168             return result\n   2169 \n   2170     def find_line_magic(self, magic_name):\n   2171         \"\"\"Find and return a line magic by name.\n\n...........................................................................\n/home/hskimim/Documents/git-project/dss8/data_science_school/Walmart_Recruiting_Classification/<decorator-gen-62> in time(self=<IPython.core.magics.execution.ExecutionMagics object>, line='', cell='grid_model5 = GridSearchCV(estimator=svc_model,p...)\\ngrid_model5 = grid_model5.fit(train_X, train_y)', local_ns=None)\n\n...........................................................................\n/home/hskimim/anaconda3/lib/python3.6/site-packages/IPython/core/magic.py in <lambda>(f=<function ExecutionMagics.time>, *a=(<IPython.core.magics.execution.ExecutionMagics object>, '', 'grid_model5 = GridSearchCV(estimator=svc_model,p...)\\ngrid_model5 = grid_model5.fit(train_X, train_y)', None), **k={})\n    182     validate_type(magic_kind)\n    183 \n    184     # This is a closure to capture the magic_kind.  We could also use a class,\n    185     # but it's overkill for just that one bit of state.\n    186     def magic_deco(arg):\n--> 187         call = lambda f, *a, **k: f(*a, **k)\n        f = <function ExecutionMagics.time>\n        a = (<IPython.core.magics.execution.ExecutionMagics object>, '', 'grid_model5 = GridSearchCV(estimator=svc_model,p...)\\ngrid_model5 = grid_model5.fit(train_X, train_y)', None)\n        k = {}\n    188 \n    189         if callable(arg):\n    190             # \"Naked\" decorator call (just @foo, no args)\n    191             func = arg\n\n...........................................................................\n/home/hskimim/anaconda3/lib/python3.6/site-packages/IPython/core/magics/execution.py in time(self=<IPython.core.magics.execution.ExecutionMagics object>, line='', cell='grid_model5 = GridSearchCV(estimator=svc_model,p...)\\ngrid_model5 = grid_model5.fit(train_X, train_y)', local_ns=None)\n   1233                 return\n   1234             end = clock2()\n   1235         else:\n   1236             st = clock2()\n   1237             try:\n-> 1238                 exec(code, glob, local_ns)\n        code = <code object <module> at 0x7f07e85f55d0, file \"<timed exec>\", line 1>\n        glob = {'AdaBoostClassifier': <class 'sklearn.ensemble.weight_boosting.AdaBoostClassifier'>, 'BaggingClassifier': <class 'sklearn.ensemble.bagging.BaggingClassifier'>, 'DecisionTreeClassifier': <class 'sklearn.tree.tree.DecisionTreeClassifier'>, 'ExtraTreesClassifier': <class 'sklearn.ensemble.forest.ExtraTreesClassifier'>, 'GaussianNB': <class 'sklearn.naive_bayes.GaussianNB'>, 'GradientBoostingClassifier': <class 'sklearn.ensemble.gradient_boosting.GradientBoostingClassifier'>, 'GridSearchCV': <class 'sklearn.model_selection._search.GridSearchCV'>, 'In': ['', 'import numpy as np\\nimport pandas as pd\\nimport ma...tion import KFold, cross_val_score , GridSearchCV', \"train_df = pd.read_csv('train_new_2v.csv')\\ntrain_df.tail()\", \"train_df.index = train_df['VisitNumber']\\ntrain_d...lumns='VisitNumber',inplace=True)\\ntrain_df.tail()\", 'train_df.shape', 'train_X = train_df.iloc[:,1:]\\ntrain_y = train_df.iloc[:,0]', 'train_X.shape,train_y.shape', 'svc_model = SVC(random_state=0)', \"param_range = [0.0001, 0.001, 0.01, 0.1, 1.0, 10...lf__gamma': param_range, 'clf__kernel': ['rbf']}]\", 'get_ipython().run_cell_magic(\\'time\\', \\'\\', \"grid_m..., cv=10, n_jobs=-1)\\\\ngrid_model5 = gs.fit(X, y)\")', \"from sklearn.externals import joblib\\nfilename = 'svc'\\njoblib.dump(grid_model5,filename)\", \"grid_model4.cv_results_['params']\", 'svc_model = SVC(random_state=0)', \"param_range = [0.0001, 0.001, 0.01, 0.1, 1.0, 10...lf__gamma': param_range, 'clf__kernel': ['rbf']}]\", 'get_ipython().run_cell_magic(\\'time\\', \\'\\', \"grid_m...n_jobs=-1)\\\\ngrid_model5 = grid_model5.fit(X, y)\")', 'get_ipython().run_cell_magic(\\'time\\', \\'\\', \"grid_m...grid_model5 = grid_model5.fit(train_X, train_y)\")', 'svc_model = SVC(random_state=0)', \"param_range = [0.0001, 0.001, 0.01, 0.1, 1.0, 10...lf__gamma': param_range, 'clf__kernel': ['rbf']}]\", 'get_ipython().run_cell_magic(\\'time\\', \\'\\', \"grid_m...grid_model5 = grid_model5.fit(train_X, train_y)\")'], 'KFold': <class 'sklearn.model_selection._split.KFold'>, 'LinearDiscriminantAnalysis': <class 'sklearn.discriminant_analysis.LinearDiscriminantAnalysis'>, ...}\n        local_ns = None\n   1239             except:\n   1240                 self.shell.showtraceback()\n   1241                 return\n   1242             end = clock2()\n\n...........................................................................\n/home/hskimim/Documents/git-project/dss8/data_science_school/Walmart_Recruiting_Classification/<timed exec> in <module>()\n\n...........................................................................\n/home/hskimim/anaconda3/lib/python3.6/site-packages/sklearn/model_selection/_search.py in fit(self=GridSearchCV(cv=10, error_score='raise',\n       ...ore='warn',\n       scoring='accuracy', verbose=0), X=             Monday  Tuesday  Wednesday  Thursda...   0     0         0  \n\n[95674 rows x 76 columns], y=VisitNumber\n5         999\n7          30\n8       ...    8\nName: TripType, Length: 95674, dtype: int64, groups=None, **fit_params={})\n    634                                   return_train_score=self.return_train_score,\n    635                                   return_n_test_samples=True,\n    636                                   return_times=True, return_parameters=False,\n    637                                   error_score=self.error_score)\n    638           for parameters, (train, test) in product(candidate_params,\n--> 639                                                    cv.split(X, y, groups)))\n        cv.split = <bound method StratifiedKFold.split of Stratifie...d(n_splits=10, random_state=None, shuffle=False)>\n        X =              Monday  Tuesday  Wednesday  Thursda...   0     0         0  \n\n[95674 rows x 76 columns]\n        y = VisitNumber\n5         999\n7          30\n8       ...    8\nName: TripType, Length: 95674, dtype: int64\n        groups = None\n    640 \n    641         # if one choose to see train score, \"out\" will contain train score info\n    642         if self.return_train_score:\n    643             (train_score_dicts, test_score_dicts, test_sample_counts, fit_time,\n\n...........................................................................\n/home/hskimim/anaconda3/lib/python3.6/site-packages/sklearn/externals/joblib/parallel.py in __call__(self=Parallel(n_jobs=-1), iterable=<generator object BaseSearchCV.fit.<locals>.<genexpr>>)\n    784             if pre_dispatch == \"all\" or n_jobs == 1:\n    785                 # The iterable was consumed all at once by the above for loop.\n    786                 # No need to wait for async callbacks to trigger to\n    787                 # consumption.\n    788                 self._iterating = False\n--> 789             self.retrieve()\n        self.retrieve = <bound method Parallel.retrieve of Parallel(n_jobs=-1)>\n    790             # Make sure that we get a last message telling us we are done\n    791             elapsed_time = time.time() - self._start_time\n    792             self._print('Done %3i out of %3i | elapsed: %s finished',\n    793                         (len(self._output), len(self._output),\n\n---------------------------------------------------------------------------\nSub-process traceback:\n---------------------------------------------------------------------------\nValueError                                         Mon Jul 30 02:05:52 2018\nPID: 5462                  Python 3.6.5: /home/hskimim/anaconda3/bin/python\n...........................................................................\n/home/hskimim/anaconda3/lib/python3.6/site-packages/sklearn/externals/joblib/parallel.py in __call__(self=<sklearn.externals.joblib.parallel.BatchedCalls object>)\n    126     def __init__(self, iterator_slice):\n    127         self.items = list(iterator_slice)\n    128         self._size = len(self.items)\n    129 \n    130     def __call__(self):\n--> 131         return [func(*args, **kwargs) for func, args, kwargs in self.items]\n        self.items = [(<function _fit_and_score>, (SVC(C=1.0, cache_size=200, class_weight=None, co...te=0, shrinking=True,\n  tol=0.001, verbose=False),              Monday  Tuesday  Wednesday  Thursda...   0     0         0  \n\n[95674 rows x 76 columns], VisitNumber\n5         999\n7          30\n8       ...    8\nName: TripType, Length: 95674, dtype: int64, {'score': make_scorer(accuracy_score)}, array([ 6168,  6427,  6430, ..., 95671, 95672, 95673]), array([    0,     1,     2, ..., 51424, 51514, 51520]), 0, {'clf__C': 0.0001, 'clf__kernel': 'linear'}), {'error_score': 'raise', 'fit_params': {}, 'return_n_test_samples': True, 'return_parameters': False, 'return_times': True, 'return_train_score': 'warn'})]\n    132 \n    133     def __len__(self):\n    134         return self._size\n    135 \n\n...........................................................................\n/home/hskimim/anaconda3/lib/python3.6/site-packages/sklearn/externals/joblib/parallel.py in <listcomp>(.0=<list_iterator object>)\n    126     def __init__(self, iterator_slice):\n    127         self.items = list(iterator_slice)\n    128         self._size = len(self.items)\n    129 \n    130     def __call__(self):\n--> 131         return [func(*args, **kwargs) for func, args, kwargs in self.items]\n        func = <function _fit_and_score>\n        args = (SVC(C=1.0, cache_size=200, class_weight=None, co...te=0, shrinking=True,\n  tol=0.001, verbose=False),              Monday  Tuesday  Wednesday  Thursda...   0     0         0  \n\n[95674 rows x 76 columns], VisitNumber\n5         999\n7          30\n8       ...    8\nName: TripType, Length: 95674, dtype: int64, {'score': make_scorer(accuracy_score)}, array([ 6168,  6427,  6430, ..., 95671, 95672, 95673]), array([    0,     1,     2, ..., 51424, 51514, 51520]), 0, {'clf__C': 0.0001, 'clf__kernel': 'linear'})\n        kwargs = {'error_score': 'raise', 'fit_params': {}, 'return_n_test_samples': True, 'return_parameters': False, 'return_times': True, 'return_train_score': 'warn'}\n    132 \n    133     def __len__(self):\n    134         return self._size\n    135 \n\n...........................................................................\n/home/hskimim/anaconda3/lib/python3.6/site-packages/sklearn/model_selection/_validation.py in _fit_and_score(estimator=SVC(C=1.0, cache_size=200, class_weight=None, co...te=0, shrinking=True,\n  tol=0.001, verbose=False), X=             Monday  Tuesday  Wednesday  Thursda...   0     0         0  \n\n[95674 rows x 76 columns], y=VisitNumber\n5         999\n7          30\n8       ...    8\nName: TripType, Length: 95674, dtype: int64, scorer={'score': make_scorer(accuracy_score)}, train=array([ 6168,  6427,  6430, ..., 95671, 95672, 95673]), test=array([    0,     1,     2, ..., 51424, 51514, 51520]), verbose=0, parameters={'clf__C': 0.0001, 'clf__kernel': 'linear'}, fit_params={}, return_train_score='warn', return_parameters=False, return_n_test_samples=True, return_times=True, error_score='raise')\n    439                       for k, v in fit_params.items()])\n    440 \n    441     test_scores = {}\n    442     train_scores = {}\n    443     if parameters is not None:\n--> 444         estimator.set_params(**parameters)\n        estimator.set_params = <bound method BaseEstimator.set_params of SVC(C=...e=0, shrinking=True,\n  tol=0.001, verbose=False)>\n        parameters = {'clf__C': 0.0001, 'clf__kernel': 'linear'}\n    445 \n    446     start_time = time.time()\n    447 \n    448     X_train, y_train = _safe_split(estimator, X, y, train)\n\n...........................................................................\n/home/hskimim/anaconda3/lib/python3.6/site-packages/sklearn/base.py in set_params(self=SVC(C=1.0, cache_size=200, class_weight=None, co...te=0, shrinking=True,\n  tol=0.001, verbose=False), **params={'clf__C': 0.0001, 'clf__kernel': 'linear'})\n    269             key, delim, sub_key = key.partition('__')\n    270             if key not in valid_params:\n    271                 raise ValueError('Invalid parameter %s for estimator %s. '\n    272                                  'Check the list of available parameters '\n    273                                  'with `estimator.get_params().keys()`.' %\n--> 274                                  (key, self))\n        key = 'clf'\n        self = SVC(C=1.0, cache_size=200, class_weight=None, co...te=0, shrinking=True,\n  tol=0.001, verbose=False)\n    275 \n    276             if delim:\n    277                 nested_params[key][sub_key] = value\n    278             else:\n\nValueError: Invalid parameter clf for estimator SVC(C=1.0, cache_size=200, class_weight=None, coef0=0.0,\n  decision_function_shape='ovr', degree=3, gamma='auto', kernel='rbf',\n  max_iter=-1, probability=False, random_state=0, shrinking=True,\n  tol=0.001, verbose=False). Check the list of available parameters with `estimator.get_params().keys()`.\n___________________________________________________________________________"
     ]
    }
   ],
   "source": [
    "%%time\n",
    "grid_model5 = GridSearchCV(estimator=svc_model,param_grid=param_grid, scoring='accuracy', cv=10, n_jobs=-1)\n",
    "grid_model5 = grid_model5.fit(train_X, train_y)"
   ]
  },
  {
   "cell_type": "code",
   "execution_count": 10,
   "metadata": {},
   "outputs": [
    {
     "data": {
      "text/plain": [
       "['svc']"
      ]
     },
     "execution_count": 10,
     "metadata": {},
     "output_type": "execute_result"
    }
   ],
   "source": [
    "from sklearn.externals import joblib\n",
    "filename = 'svc'\n",
    "joblib.dump(grid_model5,filename)"
   ]
  },
  {
   "cell_type": "code",
   "execution_count": 11,
   "metadata": {},
   "outputs": [
    {
     "ename": "NameError",
     "evalue": "name 'grid_model4' is not defined",
     "output_type": "error",
     "traceback": [
      "\u001b[0;31m---------------------------------------------------------------------------\u001b[0m",
      "\u001b[0;31mNameError\u001b[0m                                 Traceback (most recent call last)",
      "\u001b[0;32m<ipython-input-11-ad21a84fa64c>\u001b[0m in \u001b[0;36m<module>\u001b[0;34m()\u001b[0m\n\u001b[0;32m----> 1\u001b[0;31m \u001b[0mgrid_model4\u001b[0m\u001b[0;34m.\u001b[0m\u001b[0mcv_results_\u001b[0m\u001b[0;34m[\u001b[0m\u001b[0;34m'params'\u001b[0m\u001b[0;34m]\u001b[0m\u001b[0;34m\u001b[0m\u001b[0m\n\u001b[0m",
      "\u001b[0;31mNameError\u001b[0m: name 'grid_model4' is not defined"
     ]
    }
   ],
   "source": [
    "grid_model4.cv_results_['params']"
   ]
  },
  {
   "cell_type": "code",
   "execution_count": null,
   "metadata": {},
   "outputs": [],
   "source": [
    "grid_model4.cv_results_[\"mean_test_score\"]"
   ]
  },
  {
   "cell_type": "code",
   "execution_count": null,
   "metadata": {},
   "outputs": [],
   "source": [
    "print(grid_model4.best_score_)\n",
    "print(grid_model4.best_params_)"
   ]
  }
 ],
 "metadata": {
  "kernelspec": {
   "display_name": "Python 3",
   "language": "python",
   "name": "python3"
  },
  "language_info": {
   "codemirror_mode": {
    "name": "ipython",
    "version": 3
   },
   "file_extension": ".py",
   "mimetype": "text/x-python",
   "name": "python",
   "nbconvert_exporter": "python",
   "pygments_lexer": "ipython3",
   "version": "3.6.5"
  }
 },
 "nbformat": 4,
 "nbformat_minor": 2
}
