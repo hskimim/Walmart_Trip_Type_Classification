{
 "cells": [
  {
   "cell_type": "code",
   "execution_count": 6,
   "metadata": {},
   "outputs": [
    {
     "name": "stdout",
     "output_type": "stream",
     "text": [
      "Train data :  (647054, 7)\n",
      "Test  data :  (653646, 6)\n",
      "submission  data :  (95674, 39)\n"
     ]
    }
   ],
   "source": [
    "# Import the functions used in this project\n",
    "from private_pkg.functions import *\n",
    "\n",
    "# Pretty display for notebooks\n",
    "%matplotlib inline\n",
    "\n",
    "# Ignore the warnings\n",
    "import warnings\n",
    "warnings.filterwarnings('ignore')\n",
    "\n",
    "# Load the dataset\n",
    "train = pd.read_csv(\"../asset/train.csv\")\n",
    "test = pd.read_csv(\"../asset/test.csv\")\n",
    "submission = pd.read_csv(\"../asset/sample_submission.csv\")\n",
    "\n",
    "# Success - Display the first record\n",
    "print(\"Train data : \", train.shape)\n",
    "print(\"Test  data : \", test.shape)\n",
    "print(\"submission  data : \", submission.shape)\n",
    "\n",
    "from sklearn.metrics import confusion_matrix\n",
    "from sklearn.metrics import classification_report\n",
    "from sklearn.naive_bayes import MultinomialNB\n",
    "def fitNaiveBayesModel(X, y):\n",
    "    return MultinomialNB().fit(X, y)\n",
    "import xgboost\n",
    "model_xgb = xgboost.XGBClassifier(n_estimators=100, max_depth=2)\n",
    "\n",
    "# 원본을 유지하기 위해서 카피\n",
    "df_train = train.copy()\n",
    "df_test = test.copy()\n",
    "df_submission = submission.copy()"
   ]
  },
  {
   "cell_type": "code",
   "execution_count": 8,
   "metadata": {},
   "outputs": [],
   "source": [
    "import pickle as pkl\n",
    "slack_url = pkl.load(open(\"send_url.pickle\", \"rb\"))"
   ]
  },
  {
   "cell_type": "code",
   "execution_count": 3,
   "metadata": {},
   "outputs": [],
   "source": [
    "df_X_train = pd.read_csv(\"df_we_wanted_201807251743.csv\")"
   ]
  },
  {
   "cell_type": "code",
   "execution_count": 7,
   "metadata": {},
   "outputs": [],
   "source": [
    "cols = getColsToMakeFeatureMatrix(df_test, df_train)"
   ]
  },
  {
   "cell_type": "code",
   "execution_count": 8,
   "metadata": {},
   "outputs": [],
   "source": [
    "X = df_X_train[cols]\n",
    "y = df_X_train[\"TripType\"]"
   ]
  },
  {
   "cell_type": "code",
   "execution_count": 14,
   "metadata": {},
   "outputs": [],
   "source": [
    "rbfsvc = SVC(kernel=\"rbf\", probability=True).fit(X, y)"
   ]
  },
  {
   "cell_type": "code",
   "execution_count": 15,
   "metadata": {},
   "outputs": [],
   "source": [
    "y_pred = rbfsvc.predict(X)"
   ]
  },
  {
   "cell_type": "code",
   "execution_count": 16,
   "metadata": {},
   "outputs": [],
   "source": [
    "sendSlackDm(slack_url, \"rbf svm train predict 완료\")"
   ]
  },
  {
   "cell_type": "code",
   "execution_count": 17,
   "metadata": {},
   "outputs": [
    {
     "data": {
      "text/markdown": [
       "##### Accuracy : 0.6927"
      ],
      "text/plain": [
       "<IPython.core.display.Markdown object>"
      ]
     },
     "metadata": {},
     "output_type": "display_data"
    }
   ],
   "source": [
    "getAccuracy(y, y_pred, len(X))"
   ]
  },
  {
   "cell_type": "code",
   "execution_count": 18,
   "metadata": {},
   "outputs": [],
   "source": [
    "y_pred_proba_rbfsvc = rbfsvc.predict_proba(X)"
   ]
  },
  {
   "cell_type": "code",
   "execution_count": 19,
   "metadata": {},
   "outputs": [],
   "source": [
    "sendSlackDm(slack_url, \"rbf svm train predict 완료\")"
   ]
  },
  {
   "cell_type": "code",
   "execution_count": 20,
   "metadata": {},
   "outputs": [],
   "source": [
    "rbfsvc_submit_df = makeSubmissionDf(submission, y_pred_proba_rbfsvc)"
   ]
  },
  {
   "cell_type": "code",
   "execution_count": 21,
   "metadata": {},
   "outputs": [],
   "source": [
    "saveDataFrameToCsv(rbfsvc_submit_df, \"rbfsvc_submit_df\")"
   ]
  },
  {
   "cell_type": "code",
   "execution_count": 10,
   "metadata": {
    "scrolled": true
   },
   "outputs": [
    {
     "name": "stdout",
     "output_type": "stream",
     "text": [
      "Feature ranking:\n",
      "1. feature 11 (0.062614)\n",
      "2. feature 4 (0.054330)\n",
      "3. feature 6 (0.051623)\n",
      "4. feature 27 (0.047535)\n",
      "5. feature 5 (0.041841)\n",
      "6. feature 49 (0.040203)\n",
      "7. feature 56 (0.037924)\n",
      "8. feature 39 (0.036946)\n",
      "9. feature 26 (0.033428)\n",
      "10. feature 2 (0.028952)\n",
      "11. feature 21 (0.028232)\n",
      "12. feature 8 (0.025364)\n",
      "13. feature 54 (0.024466)\n",
      "14. feature 0 (0.023671)\n",
      "15. feature 13 (0.022888)\n",
      "16. feature 23 (0.022194)\n",
      "17. feature 65 (0.021699)\n",
      "18. feature 20 (0.020902)\n",
      "19. feature 19 (0.020682)\n",
      "20. feature 10 (0.020182)\n",
      "21. feature 29 (0.019898)\n",
      "22. feature 58 (0.018682)\n",
      "23. feature 33 (0.018263)\n",
      "24. feature 40 (0.017429)\n",
      "25. feature 42 (0.016990)\n",
      "26. feature 22 (0.015378)\n",
      "27. feature 25 (0.014340)\n",
      "28. feature 63 (0.013634)\n",
      "29. feature 48 (0.013110)\n",
      "30. feature 61 (0.012672)\n",
      "31. feature 17 (0.011741)\n",
      "32. feature 24 (0.010883)\n",
      "33. feature 32 (0.010383)\n",
      "34. feature 44 (0.009983)\n",
      "35. feature 51 (0.009505)\n",
      "36. feature 12 (0.009409)\n",
      "37. feature 31 (0.008868)\n",
      "38. feature 36 (0.008704)\n",
      "39. feature 37 (0.008618)\n",
      "40. feature 43 (0.007761)\n",
      "41. feature 52 (0.006974)\n",
      "42. feature 46 (0.006539)\n",
      "43. feature 15 (0.005381)\n",
      "44. feature 7 (0.005078)\n",
      "45. feature 30 (0.005002)\n",
      "46. feature 50 (0.004818)\n",
      "47. feature 62 (0.004586)\n",
      "48. feature 41 (0.003870)\n",
      "49. feature 14 (0.003502)\n",
      "50. feature 16 (0.003336)\n",
      "51. feature 60 (0.002879)\n",
      "52. feature 3 (0.002858)\n",
      "53. feature 47 (0.002845)\n",
      "54. feature 59 (0.002632)\n",
      "55. feature 35 (0.002483)\n",
      "56. feature 53 (0.002134)\n",
      "57. feature 67 (0.002065)\n",
      "58. feature 1 (0.001957)\n",
      "59. feature 34 (0.001853)\n",
      "60. feature 55 (0.001824)\n",
      "61. feature 57 (0.001670)\n",
      "62. feature 66 (0.001658)\n",
      "63. feature 28 (0.001480)\n",
      "64. feature 45 (0.000455)\n",
      "65. feature 18 (0.000175)\n",
      "66. feature 9 (0.000017)\n",
      "67. feature 38 (0.000000)\n",
      "68. feature 64 (0.000000)\n",
      "69. feature 68 (0.000000)\n"
     ]
    },
    {
     "data": {
      "image/png": "[encoded data removed]",
      "text/plain": [
       "<Figure size 432x288 with 1 Axes>"
      ]
     },
     "metadata": {
      "image/png": {
       "height": 263,
       "width": 380
      }
     },
     "output_type": "display_data"
    }
   ],
   "source": [
    "sendSlackDm(slack_url, \"rbf svm train predict 완료\")\n",
    "from sklearn.ensemble import ExtraTreesClassifier\n",
    "forest = ExtraTreesClassifier(n_estimators=250, random_state=0, max_depth = 2)\n",
    "forest.fit(X, y)\n",
    "importances = forest.feature_importances_\n",
    "std = np.std([tree.feature_importances_ for tree in forest.estimators_], axis=0)\n",
    "indices = np.argsort(importances)[::-1]\n",
    "\n",
    "print(\"Feature ranking:\")\n",
    "for f in range(X.shape[1]):\n",
    "    print(\"%d. feature %d (%f)\" % (f + 1, indices[f], importances[indices[f]]))\n",
    "\n",
    "plt.title(\"Feature importances\")\n",
    "plt.bar(range(X.shape[1]), importances[indices], color=\"r\", yerr=std[indices], align=\"center\")\n",
    "plt.xticks(range(X.shape[1]), indices)\n",
    "plt.xlim([-1, X.shape[1]])\n",
    "plt.show()\n",
    "\n",
    "sendSlackDm(slack_url, \"랜덤포레스트 250 완료\")"
   ]
  },
  {
   "cell_type": "code",
   "execution_count": 22,
   "metadata": {},
   "outputs": [],
   "source": [
    "y_pred_forest = forest.predict(X)"
   ]
  },
  {
   "cell_type": "code",
   "execution_count": 23,
   "metadata": {},
   "outputs": [
    {
     "data": {
      "text/markdown": [
       "##### Accuracy : 0.1445"
      ],
      "text/plain": [
       "<IPython.core.display.Markdown object>"
      ]
     },
     "metadata": {},
     "output_type": "display_data"
    }
   ],
   "source": [
    "getAccuracy(y, y_pred_forest, len(X))"
   ]
  },
  {
   "cell_type": "code",
   "execution_count": 51,
   "metadata": {},
   "outputs": [],
   "source": [
    "param_range = np.arange(0, 170, 10)"
   ]
  },
  {
   "cell_type": "code",
   "execution_count": 52,
   "metadata": {},
   "outputs": [
    {
     "data": {
      "text/plain": [
       "16"
      ]
     },
     "execution_count": 52,
     "metadata": {},
     "output_type": "execute_result"
    }
   ],
   "source": [
    "len(param_range[1:])"
   ]
  },
  {
   "cell_type": "code",
   "execution_count": 65,
   "metadata": {},
   "outputs": [],
   "source": [
    "max_depth_range = np.arange(30, 41)"
   ]
  },
  {
   "cell_type": "code",
   "execution_count": 54,
   "metadata": {},
   "outputs": [
    {
     "data": {
      "text/plain": [
       "16"
      ]
     },
     "execution_count": 54,
     "metadata": {},
     "output_type": "execute_result"
    }
   ],
   "source": [
    "len(max_depth_range)"
   ]
  },
  {
   "cell_type": "code",
   "execution_count": 78,
   "metadata": {},
   "outputs": [],
   "source": [
    "max_depth_range = np.arange(1, 21)"
   ]
  },
  {
   "cell_type": "code",
   "execution_count": 70,
   "metadata": {},
   "outputs": [],
   "source": [
    "forest_40 = ExtraTreesClassifier(n_estimators=50, random_state=0, max_depth=40)"
   ]
  },
  {
   "cell_type": "code",
   "execution_count": 71,
   "metadata": {},
   "outputs": [
    {
     "data": {
      "text/plain": [
       "ExtraTreesClassifier(bootstrap=False, class_weight=None, criterion='gini',\n",
       "           max_depth=40, max_features='auto', max_leaf_nodes=None,\n",
       "           min_impurity_decrease=0.0, min_impurity_split=None,\n",
       "           min_samples_leaf=1, min_samples_split=2,\n",
       "           min_weight_fraction_leaf=0.0, n_estimators=50, n_jobs=1,\n",
       "           oob_score=False, random_state=0, verbose=0, warm_start=False)"
      ]
     },
     "execution_count": 71,
     "metadata": {},
     "output_type": "execute_result"
    }
   ],
   "source": [
    "forest_40.fit(X, y)"
   ]
  },
  {
   "cell_type": "code",
   "execution_count": 72,
   "metadata": {},
   "outputs": [],
   "source": [
    "y_pred = forest_40.predict(X)"
   ]
  },
  {
   "cell_type": "code",
   "execution_count": 73,
   "metadata": {},
   "outputs": [
    {
     "data": {
      "text/markdown": [
       "##### Accuracy : 0.7832"
      ],
      "text/plain": [
       "<IPython.core.display.Markdown object>"
      ]
     },
     "metadata": {},
     "output_type": "display_data"
    }
   ],
   "source": [
    "getAccuracy(y, y_pred, len(X))"
   ]
  },
  {
   "cell_type": "code",
   "execution_count": 74,
   "metadata": {},
   "outputs": [],
   "source": [
    "y_pred_proba_forest = forest_40.predict_proba(X)"
   ]
  },
  {
   "cell_type": "code",
   "execution_count": 75,
   "metadata": {},
   "outputs": [],
   "source": [
    "submit_forest = makeSubmissionDf(submission, y_pred_proba_forest)"
   ]
  },
  {
   "cell_type": "code",
   "execution_count": 76,
   "metadata": {},
   "outputs": [],
   "source": [
    "saveDataFrameToCsv(submit_forest, \"submit_random_forest_40\")"
   ]
  },
  {
   "cell_type": "code",
   "execution_count": null,
   "metadata": {},
   "outputs": [],
   "source": []
  },
  {
   "cell_type": "code",
   "execution_count": 66,
   "metadata": {},
   "outputs": [
    {
     "name": "stdout",
     "output_type": "stream",
     "text": [
      "CPU times: user 13 s, sys: 391 ms, total: 13.4 s\n",
      "Wall time: 1min 59s\n"
     ]
    }
   ],
   "source": [
    "from sklearn.ensemble import ExtraTreesClassifier\n",
    "forest_gs = ExtraTreesClassifier(n_estimators=50, random_state=0)\n",
    "\n",
    "param_grid = [\n",
    "    {'max_depth': max_depth_range}\n",
    "]\n",
    "\n",
    "gs = GridSearchCV(estimator=forest_gs, param_grid=param_grid, scoring='accuracy', cv=5, n_jobs=-1)\n",
    "%time gs = gs.fit(X, y)\n",
    "sendSlackDm(slack_url, \"랜덤포레스트 250 완료\")"
   ]
  },
  {
   "cell_type": "code",
   "execution_count": 64,
   "metadata": {},
   "outputs": [],
   "source": [
    "results_1_30"
   ]
  },
  {
   "cell_type": "code",
   "execution_count": 67,
   "metadata": {},
   "outputs": [],
   "source": [
    "results_30_40 = gs.cv_results_[\"mean_test_score\"]"
   ]
  },
  {
   "cell_type": "code",
   "execution_count": 62,
   "metadata": {},
   "outputs": [
    {
     "name": "stdout",
     "output_type": "stream",
     "text": [
      "0.5114451157054163\n",
      "{'max_depth': 30}\n"
     ]
    }
   ],
   "source": [
    "print(gs.best_score_)\n",
    "print(gs.best_params_)"
   ]
  },
  {
   "cell_type": "code",
   "execution_count": 68,
   "metadata": {},
   "outputs": [
    {
     "name": "stdout",
     "output_type": "stream",
     "text": [
      "0.6144407048937015\n",
      "{'max_depth': 40}\n"
     ]
    }
   ],
   "source": [
    "print(gs.best_score_)\n",
    "print(gs.best_params_)"
   ]
  },
  {
   "cell_type": "code",
   "execution_count": 69,
   "metadata": {},
   "outputs": [
    {
     "data": {
      "text/plain": [
       "array([0.51144512, 0.51644125, 0.52020403, 0.52469846, 0.52880615,\n",
       "       0.53313335, 0.54049167, 0.55731965, 0.56038213, 0.5887702 ,\n",
       "       0.6144407 ])"
      ]
     },
     "execution_count": 69,
     "metadata": {},
     "output_type": "execute_result"
    }
   ],
   "source": [
    "results_30_40"
   ]
  },
  {
   "cell_type": "code",
   "execution_count": 92,
   "metadata": {},
   "outputs": [],
   "source": [
    "model_xgb_n_jobs = xgboost.XGBClassifier(n_estimators=50, n_jobs=-1)"
   ]
  },
  {
   "cell_type": "code",
   "execution_count": 96,
   "metadata": {},
   "outputs": [],
   "source": [
    "max_depth_range = np.arange(10, 22, 2)"
   ]
  },
  {
   "cell_type": "code",
   "execution_count": 97,
   "metadata": {},
   "outputs": [
    {
     "data": {
      "text/plain": [
       "array([10, 12, 14, 16, 18, 20])"
      ]
     },
     "execution_count": 97,
     "metadata": {},
     "output_type": "execute_result"
    }
   ],
   "source": [
    "max_depth_range"
   ]
  },
  {
   "cell_type": "code",
   "execution_count": 93,
   "metadata": {},
   "outputs": [
    {
     "name": "stdout",
     "output_type": "stream",
     "text": [
      "CPU times: user 12min 10s, sys: 992 ms, total: 12min 11s\n",
      "Wall time: 49min 37s\n"
     ]
    }
   ],
   "source": [
    "param_grid = [\n",
    "    {'max_depth': max_depth_range}\n",
    "]\n",
    "\n",
    "gs = GridSearchCV(estimator=model_xgb_n_jobs, param_grid=param_grid, scoring='accuracy', cv=5, n_jobs=-1)\n",
    "%time gs = gs.fit(X, y)"
   ]
  },
  {
   "cell_type": "code",
   "execution_count": 94,
   "metadata": {},
   "outputs": [],
   "source": [
    "sendSlackDm(slack_url, \"xgboost grid search cv 완료\")"
   ]
  },
  {
   "cell_type": "code",
   "execution_count": 95,
   "metadata": {},
   "outputs": [
    {
     "name": "stdout",
     "output_type": "stream",
     "text": [
      "0.6323661600852897\n",
      "{'max_depth': 8}\n"
     ]
    }
   ],
   "source": [
    "print(gs.best_score_)\n",
    "print(gs.best_params_)"
   ]
  },
  {
   "cell_type": "code",
   "execution_count": 98,
   "metadata": {},
   "outputs": [
    {
     "name": "stdout",
     "output_type": "stream",
     "text": [
      "CPU times: user 24min 31s, sys: 2.46 s, total: 24min 33s\n",
      "Wall time: 2h 34min 19s\n"
     ]
    }
   ],
   "source": [
    "param_grid = [\n",
    "    {'max_depth': max_depth_range}\n",
    "]\n",
    "\n",
    "gs = GridSearchCV(estimator=model_xgb_n_jobs, param_grid=param_grid, scoring='accuracy', cv=5, n_jobs=-1)\n",
    "%time gs = gs.fit(X, y)\n",
    "sendSlackDm(slack_url, \"xgboost grid search cv 완료\")"
   ]
  },
  {
   "cell_type": "code",
   "execution_count": 99,
   "metadata": {},
   "outputs": [
    {
     "name": "stdout",
     "output_type": "stream",
     "text": [
      "0.6539812279198111\n",
      "{'max_depth': 20}\n"
     ]
    }
   ],
   "source": [
    "print(gs.best_score_)\n",
    "print(gs.best_params_)"
   ]
  },
  {
   "cell_type": "code",
   "execution_count": 100,
   "metadata": {},
   "outputs": [],
   "source": [
    "y_pred_xgb = gs.predict(X)"
   ]
  },
  {
   "cell_type": "code",
   "execution_count": 101,
   "metadata": {},
   "outputs": [
    {
     "data": {
      "text/markdown": [
       "##### Accuracy : 0.8173"
      ],
      "text/plain": [
       "<IPython.core.display.Markdown object>"
      ]
     },
     "metadata": {},
     "output_type": "display_data"
    }
   ],
   "source": [
    "getAccuracy(y, y_pred_xgb, len(X))"
   ]
  },
  {
   "cell_type": "code",
   "execution_count": 102,
   "metadata": {},
   "outputs": [],
   "source": [
    "y_pred_xgb_proba = gs.predict_proba(X)"
   ]
  },
  {
   "cell_type": "code",
   "execution_count": 104,
   "metadata": {},
   "outputs": [],
   "source": [
    "submit_xgb_proba = makeSubmissionDf(submission, y_pred_xgb_proba)"
   ]
  },
  {
   "cell_type": "code",
   "execution_count": 105,
   "metadata": {},
   "outputs": [],
   "source": [
    "saveDataFrameToCsv(submit_xgb_proba, \"submit_xgb_proba_grid_search_best_score\")"
   ]
  },
  {
   "cell_type": "code",
   "execution_count": 2,
   "metadata": {},
   "outputs": [
    {
     "name": "stdout",
     "output_type": "stream",
     "text": [
      "{'max_depth': 20}\n"
     ]
    }
   ],
   "source": [
    "# Save Model Using joblib\n",
    "from sklearn.externals import joblib\n",
    "\n",
    "# save the model to disk\n",
    "filename = 'finalized_gs_xgb_model.pkl'\n",
    "joblib.dump(gs, filename)\n",
    " \n",
    "# some time later...\n",
    " \n",
    "# load the model from disk\n",
    "loaded_model = joblib.load(filename)\n",
    "result = loaded_model.best_params_\n",
    "print(result)"
   ]
  },
  {
   "cell_type": "code",
   "execution_count": 13,
   "metadata": {},
   "outputs": [
    {
     "data": {
      "text/plain": [
       "<bound method BaseSearchCV.score of GridSearchCV(cv=5, error_score='raise',\n",
       "       estimator=XGBClassifier(base_score=0.5, booster='gbtree', colsample_bylevel=1,\n",
       "       colsample_bytree=1, gamma=0, learning_rate=0.1, max_delta_step=0,\n",
       "       max_depth=3, min_child_weight=1, missing=nan, n_estimators=50,\n",
       "       n_jobs=-1, nthread=None, objective='binary:logistic',\n",
       "       random_state=0, reg_alpha=0, reg_lambda=1, scale_pos_weight=1,\n",
       "       seed=None, silent=True, subsample=1),\n",
       "       fit_params=None, iid=True, n_jobs=-1,\n",
       "       param_grid=[{'max_depth': array([10, 12, 14, 16, 18, 20])}],\n",
       "       pre_dispatch='2*n_jobs', refit=True, return_train_score='warn',\n",
       "       scoring='accuracy', verbose=0)>"
      ]
     },
     "execution_count": 13,
     "metadata": {},
     "output_type": "execute_result"
    }
   ],
   "source": [
    "loaded_model.score"
   ]
  },
  {
   "cell_type": "code",
   "execution_count": 10,
   "metadata": {},
   "outputs": [],
   "source": [
    "y_pred_xgb = loaded_model.predict(X)"
   ]
  },
  {
   "cell_type": "code",
   "execution_count": 12,
   "metadata": {},
   "outputs": [
    {
     "data": {
      "text/markdown": [
       "##### Accuracy : 0.8173"
      ],
      "text/plain": [
       "<IPython.core.display.Markdown object>"
      ]
     },
     "metadata": {},
     "output_type": "display_data"
    }
   ],
   "source": [
    "getAccuracy(y, y_pred_xgb, len(X))"
   ]
  },
  {
   "cell_type": "code",
   "execution_count": null,
   "metadata": {},
   "outputs": [],
   "source": []
  }
 ],
 "metadata": {
  "kernelspec": {
   "display_name": "Python 3",
   "language": "python",
   "name": "python3"
  },
  "language_info": {
   "codemirror_mode": {
    "name": "ipython",
    "version": 3
   },
   "file_extension": ".py",
   "mimetype": "text/x-python",
   "name": "python",
   "nbconvert_exporter": "python",
   "pygments_lexer": "ipython3",
   "version": "3.6.5"
  }
 },
 "nbformat": 4,
 "nbformat_minor": 2
}
