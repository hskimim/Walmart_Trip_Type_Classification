{
 "cells": [
  {
   "cell_type": "code",
   "execution_count": 1,
   "metadata": {
    "scrolled": true
   },
   "outputs": [
    {
     "name": "stderr",
     "output_type": "stream",
     "text": [
      "/home/hskimim/anaconda3/lib/python3.6/importlib/_bootstrap.py:219: RuntimeWarning: numpy.dtype size changed, may indicate binary incompatibility. Expected 96, got 88\n",
      "  return f(*args, **kwds)\n",
      "/home/hskimim/anaconda3/lib/python3.6/importlib/_bootstrap.py:219: RuntimeWarning: numpy.dtype size changed, may indicate binary incompatibility. Expected 96, got 88\n",
      "  return f(*args, **kwds)\n"
     ]
    }
   ],
   "source": [
    "import numpy as np\n",
    "import pandas as pd"
   ]
  },
  {
   "cell_type": "code",
   "execution_count": 2,
   "metadata": {},
   "outputs": [],
   "source": [
    "train_df = pd.read_csv('train.csv')\n",
    "test_df = pd.read_csv('test.csv')"
   ]
  },
  {
   "cell_type": "code",
   "execution_count": 3,
   "metadata": {
    "scrolled": true
   },
   "outputs": [
    {
     "data": {
      "text/html": [
       "<div>\n",
       "<style scoped>\n",
       "    .dataframe tbody tr th:only-of-type {\n",
       "        vertical-align: middle;\n",
       "    }\n",
       "\n",
       "    .dataframe tbody tr th {\n",
       "        vertical-align: top;\n",
       "    }\n",
       "\n",
       "    .dataframe thead th {\n",
       "        text-align: right;\n",
       "    }\n",
       "</style>\n",
       "<table border=\"1\" class=\"dataframe\">\n",
       "  <thead>\n",
       "    <tr style=\"text-align: right;\">\n",
       "      <th></th>\n",
       "      <th>FinelineNumber</th>\n",
       "      <th>ratio</th>\n",
       "    </tr>\n",
       "    <tr>\n",
       "      <th>index</th>\n",
       "      <th></th>\n",
       "      <th></th>\n",
       "    </tr>\n",
       "  </thead>\n",
       "  <tbody>\n",
       "    <tr>\n",
       "      <th>5501.0</th>\n",
       "      <td>8244</td>\n",
       "      <td>1.274082</td>\n",
       "    </tr>\n",
       "    <tr>\n",
       "      <th>1508.0</th>\n",
       "      <td>5121</td>\n",
       "      <td>0.791433</td>\n",
       "    </tr>\n",
       "    <tr>\n",
       "      <th>135.0</th>\n",
       "      <td>4538</td>\n",
       "      <td>0.701333</td>\n",
       "    </tr>\n",
       "    <tr>\n",
       "      <th>808.0</th>\n",
       "      <td>4401</td>\n",
       "      <td>0.680160</td>\n",
       "    </tr>\n",
       "    <tr>\n",
       "      <th>0.0</th>\n",
       "      <td>3837</td>\n",
       "      <td>0.592995</td>\n",
       "    </tr>\n",
       "    <tr>\n",
       "      <th>9546.0</th>\n",
       "      <td>2997</td>\n",
       "      <td>0.463176</td>\n",
       "    </tr>\n",
       "    <tr>\n",
       "      <th>1407.0</th>\n",
       "      <td>2848</td>\n",
       "      <td>0.440149</td>\n",
       "    </tr>\n",
       "    <tr>\n",
       "      <th>4606.0</th>\n",
       "      <td>2753</td>\n",
       "      <td>0.425467</td>\n",
       "    </tr>\n",
       "    <tr>\n",
       "      <th>115.0</th>\n",
       "      <td>2723</td>\n",
       "      <td>0.420830</td>\n",
       "    </tr>\n",
       "    <tr>\n",
       "      <th>203.0</th>\n",
       "      <td>2639</td>\n",
       "      <td>0.407848</td>\n",
       "    </tr>\n",
       "    <tr>\n",
       "      <th>100.0</th>\n",
       "      <td>2634</td>\n",
       "      <td>0.407076</td>\n",
       "    </tr>\n",
       "    <tr>\n",
       "      <th>3004.0</th>\n",
       "      <td>2607</td>\n",
       "      <td>0.402903</td>\n",
       "    </tr>\n",
       "    <tr>\n",
       "      <th>4010.0</th>\n",
       "      <td>2531</td>\n",
       "      <td>0.391157</td>\n",
       "    </tr>\n",
       "    <tr>\n",
       "      <th>3601.0</th>\n",
       "      <td>2465</td>\n",
       "      <td>0.380957</td>\n",
       "    </tr>\n",
       "    <tr>\n",
       "      <th>3600.0</th>\n",
       "      <td>2455</td>\n",
       "      <td>0.379412</td>\n",
       "    </tr>\n",
       "    <tr>\n",
       "      <th>110.0</th>\n",
       "      <td>2237</td>\n",
       "      <td>0.345721</td>\n",
       "    </tr>\n",
       "    <tr>\n",
       "      <th>3120.0</th>\n",
       "      <td>2074</td>\n",
       "      <td>0.320530</td>\n",
       "    </tr>\n",
       "    <tr>\n",
       "      <th>3555.0</th>\n",
       "      <td>2056</td>\n",
       "      <td>0.317748</td>\n",
       "    </tr>\n",
       "    <tr>\n",
       "      <th>8101.0</th>\n",
       "      <td>2037</td>\n",
       "      <td>0.314811</td>\n",
       "    </tr>\n",
       "    <tr>\n",
       "      <th>5017.0</th>\n",
       "      <td>1980</td>\n",
       "      <td>0.306002</td>\n",
       "    </tr>\n",
       "    <tr>\n",
       "      <th>801.0</th>\n",
       "      <td>1946</td>\n",
       "      <td>0.300748</td>\n",
       "    </tr>\n",
       "    <tr>\n",
       "      <th>7010.0</th>\n",
       "      <td>1935</td>\n",
       "      <td>0.299048</td>\n",
       "    </tr>\n",
       "    <tr>\n",
       "      <th>5620.0</th>\n",
       "      <td>1896</td>\n",
       "      <td>0.293020</td>\n",
       "    </tr>\n",
       "    <tr>\n",
       "      <th>202.0</th>\n",
       "      <td>1895</td>\n",
       "      <td>0.292866</td>\n",
       "    </tr>\n",
       "    <tr>\n",
       "      <th>9100.0</th>\n",
       "      <td>1885</td>\n",
       "      <td>0.291320</td>\n",
       "    </tr>\n",
       "    <tr>\n",
       "      <th>4624.0</th>\n",
       "      <td>1834</td>\n",
       "      <td>0.283438</td>\n",
       "    </tr>\n",
       "    <tr>\n",
       "      <th>3467.0</th>\n",
       "      <td>1751</td>\n",
       "      <td>0.270611</td>\n",
       "    </tr>\n",
       "    <tr>\n",
       "      <th>7955.0</th>\n",
       "      <td>1749</td>\n",
       "      <td>0.270302</td>\n",
       "    </tr>\n",
       "    <tr>\n",
       "      <th>9101.0</th>\n",
       "      <td>1721</td>\n",
       "      <td>0.265975</td>\n",
       "    </tr>\n",
       "    <tr>\n",
       "      <th>3702.0</th>\n",
       "      <td>1655</td>\n",
       "      <td>0.255775</td>\n",
       "    </tr>\n",
       "    <tr>\n",
       "      <th>...</th>\n",
       "      <td>...</td>\n",
       "      <td>...</td>\n",
       "    </tr>\n",
       "    <tr>\n",
       "      <th>6213.0</th>\n",
       "      <td>1</td>\n",
       "      <td>0.000155</td>\n",
       "    </tr>\n",
       "    <tr>\n",
       "      <th>2289.0</th>\n",
       "      <td>1</td>\n",
       "      <td>0.000155</td>\n",
       "    </tr>\n",
       "    <tr>\n",
       "      <th>5380.0</th>\n",
       "      <td>1</td>\n",
       "      <td>0.000155</td>\n",
       "    </tr>\n",
       "    <tr>\n",
       "      <th>8539.0</th>\n",
       "      <td>1</td>\n",
       "      <td>0.000155</td>\n",
       "    </tr>\n",
       "    <tr>\n",
       "      <th>7231.0</th>\n",
       "      <td>1</td>\n",
       "      <td>0.000155</td>\n",
       "    </tr>\n",
       "    <tr>\n",
       "      <th>4314.0</th>\n",
       "      <td>1</td>\n",
       "      <td>0.000155</td>\n",
       "    </tr>\n",
       "    <tr>\n",
       "      <th>5578.0</th>\n",
       "      <td>1</td>\n",
       "      <td>0.000155</td>\n",
       "    </tr>\n",
       "    <tr>\n",
       "      <th>8554.0</th>\n",
       "      <td>1</td>\n",
       "      <td>0.000155</td>\n",
       "    </tr>\n",
       "    <tr>\n",
       "      <th>1152.0</th>\n",
       "      <td>1</td>\n",
       "      <td>0.000155</td>\n",
       "    </tr>\n",
       "    <tr>\n",
       "      <th>7773.0</th>\n",
       "      <td>1</td>\n",
       "      <td>0.000155</td>\n",
       "    </tr>\n",
       "    <tr>\n",
       "      <th>8565.0</th>\n",
       "      <td>1</td>\n",
       "      <td>0.000155</td>\n",
       "    </tr>\n",
       "    <tr>\n",
       "      <th>6177.0</th>\n",
       "      <td>1</td>\n",
       "      <td>0.000155</td>\n",
       "    </tr>\n",
       "    <tr>\n",
       "      <th>1765.0</th>\n",
       "      <td>1</td>\n",
       "      <td>0.000155</td>\n",
       "    </tr>\n",
       "    <tr>\n",
       "      <th>5564.0</th>\n",
       "      <td>1</td>\n",
       "      <td>0.000155</td>\n",
       "    </tr>\n",
       "    <tr>\n",
       "      <th>238.0</th>\n",
       "      <td>1</td>\n",
       "      <td>0.000155</td>\n",
       "    </tr>\n",
       "    <tr>\n",
       "      <th>5217.0</th>\n",
       "      <td>1</td>\n",
       "      <td>0.000155</td>\n",
       "    </tr>\n",
       "    <tr>\n",
       "      <th>5218.0</th>\n",
       "      <td>1</td>\n",
       "      <td>0.000155</td>\n",
       "    </tr>\n",
       "    <tr>\n",
       "      <th>3496.0</th>\n",
       "      <td>1</td>\n",
       "      <td>0.000155</td>\n",
       "    </tr>\n",
       "    <tr>\n",
       "      <th>1791.0</th>\n",
       "      <td>1</td>\n",
       "      <td>0.000155</td>\n",
       "    </tr>\n",
       "    <tr>\n",
       "      <th>3492.0</th>\n",
       "      <td>1</td>\n",
       "      <td>0.000155</td>\n",
       "    </tr>\n",
       "    <tr>\n",
       "      <th>7159.0</th>\n",
       "      <td>1</td>\n",
       "      <td>0.000155</td>\n",
       "    </tr>\n",
       "    <tr>\n",
       "      <th>5518.0</th>\n",
       "      <td>1</td>\n",
       "      <td>0.000155</td>\n",
       "    </tr>\n",
       "    <tr>\n",
       "      <th>2861.0</th>\n",
       "      <td>1</td>\n",
       "      <td>0.000155</td>\n",
       "    </tr>\n",
       "    <tr>\n",
       "      <th>6227.0</th>\n",
       "      <td>1</td>\n",
       "      <td>0.000155</td>\n",
       "    </tr>\n",
       "    <tr>\n",
       "      <th>4495.0</th>\n",
       "      <td>1</td>\n",
       "      <td>0.000155</td>\n",
       "    </tr>\n",
       "    <tr>\n",
       "      <th>2311.0</th>\n",
       "      <td>1</td>\n",
       "      <td>0.000155</td>\n",
       "    </tr>\n",
       "    <tr>\n",
       "      <th>524.0</th>\n",
       "      <td>1</td>\n",
       "      <td>0.000155</td>\n",
       "    </tr>\n",
       "    <tr>\n",
       "      <th>7130.0</th>\n",
       "      <td>1</td>\n",
       "      <td>0.000155</td>\n",
       "    </tr>\n",
       "    <tr>\n",
       "      <th>2847.0</th>\n",
       "      <td>1</td>\n",
       "      <td>0.000155</td>\n",
       "    </tr>\n",
       "    <tr>\n",
       "      <th>7313.0</th>\n",
       "      <td>1</td>\n",
       "      <td>0.000155</td>\n",
       "    </tr>\n",
       "  </tbody>\n",
       "</table>\n",
       "<p>5195 rows × 2 columns</p>\n",
       "</div>"
      ],
      "text/plain": [
       "        FinelineNumber     ratio\n",
       "index                           \n",
       "5501.0            8244  1.274082\n",
       "1508.0            5121  0.791433\n",
       "135.0             4538  0.701333\n",
       "808.0             4401  0.680160\n",
       "0.0               3837  0.592995\n",
       "9546.0            2997  0.463176\n",
       "1407.0            2848  0.440149\n",
       "4606.0            2753  0.425467\n",
       "115.0             2723  0.420830\n",
       "203.0             2639  0.407848\n",
       "100.0             2634  0.407076\n",
       "3004.0            2607  0.402903\n",
       "4010.0            2531  0.391157\n",
       "3601.0            2465  0.380957\n",
       "3600.0            2455  0.379412\n",
       "110.0             2237  0.345721\n",
       "3120.0            2074  0.320530\n",
       "3555.0            2056  0.317748\n",
       "8101.0            2037  0.314811\n",
       "5017.0            1980  0.306002\n",
       "801.0             1946  0.300748\n",
       "7010.0            1935  0.299048\n",
       "5620.0            1896  0.293020\n",
       "202.0             1895  0.292866\n",
       "9100.0            1885  0.291320\n",
       "4624.0            1834  0.283438\n",
       "3467.0            1751  0.270611\n",
       "7955.0            1749  0.270302\n",
       "9101.0            1721  0.265975\n",
       "3702.0            1655  0.255775\n",
       "...                ...       ...\n",
       "6213.0               1  0.000155\n",
       "2289.0               1  0.000155\n",
       "5380.0               1  0.000155\n",
       "8539.0               1  0.000155\n",
       "7231.0               1  0.000155\n",
       "4314.0               1  0.000155\n",
       "5578.0               1  0.000155\n",
       "8554.0               1  0.000155\n",
       "1152.0               1  0.000155\n",
       "7773.0               1  0.000155\n",
       "8565.0               1  0.000155\n",
       "6177.0               1  0.000155\n",
       "1765.0               1  0.000155\n",
       "5564.0               1  0.000155\n",
       "238.0                1  0.000155\n",
       "5217.0               1  0.000155\n",
       "5218.0               1  0.000155\n",
       "3496.0               1  0.000155\n",
       "1791.0               1  0.000155\n",
       "3492.0               1  0.000155\n",
       "7159.0               1  0.000155\n",
       "5518.0               1  0.000155\n",
       "2861.0               1  0.000155\n",
       "6227.0               1  0.000155\n",
       "4495.0               1  0.000155\n",
       "2311.0               1  0.000155\n",
       "524.0                1  0.000155\n",
       "7130.0               1  0.000155\n",
       "2847.0               1  0.000155\n",
       "7313.0               1  0.000155\n",
       "\n",
       "[5195 rows x 2 columns]"
      ]
     },
     "execution_count": 3,
     "metadata": {},
     "output_type": "execute_result"
    }
   ],
   "source": [
    "testing_df = train_df['FinelineNumber'].value_counts().reset_index()\n",
    "testing_df.index = testing_df['index']\n",
    "testing_df.drop(columns='index',inplace=True)\n",
    "testing_df['ratio'] = testing_df['FinelineNumber'] * 100 / len(train_df['FinelineNumber'])\n",
    "testing_df"
   ]
  },
  {
   "cell_type": "code",
   "execution_count": 4,
   "metadata": {
    "scrolled": true
   },
   "outputs": [
    {
     "name": "stdout",
     "output_type": "stream",
     "text": [
      "CPU times: user 25.7 s, sys: 0 ns, total: 25.7 s\n",
      "Wall time: 25.7 s\n"
     ]
    }
   ],
   "source": [
    "%%time\n",
    "ls = []\n",
    "for i in testing_df.index:\n",
    "    if len(train_df[['DepartmentDescription','FinelineNumber']][train_df['FinelineNumber'] == i]) == 1:\n",
    "        ls.append(i)\n",
    "len(ls)"
   ]
  },
  {
   "cell_type": "code",
   "execution_count": 5,
   "metadata": {},
   "outputs": [
    {
     "name": "stdout",
     "output_type": "stream",
     "text": [
      "length of FinelineNumber which points only on DepartmentDescription:  241\n",
      "\n",
      "\n",
      "[5358.0, 2086.0, 4845.0, 1808.0, 6598.0, 8346.0, 5353.0, 6629.0, 8345.0, 2039.0, 9937.0, 4135.0, 9943.0, 4685.0, 4597.0, 1722.0, 6453.0, 3358.0, 3311.0, 6525.0, 6561.0, 392.0, 7320.0, 8088.0, 6909.0, 6514.0, 6615.0, 6618.0, 5437.0, 1746.0, 2249.0, 2388.0, 9932.0, 4049.0, 3408.0, 3367.0, 1739.0, 3365.0, 8185.0, 4574.0, 9924.0, 6304.0, 7236.0, 6623.0, 2714.0, 2713.0, 6913.0, 8352.0, 8113.0, 259.0, 4751.0, 2649.0, 2648.0, 8257.0, 5387.0, 7216.0, 6744.0, 6813.0, 6793.0, 8259.0, 5383.0, 3795.0, 1336.0, 3338.0, 9792.0, 1691.0, 2621.0, 4761.0, 8087.0, 3430.0, 4764.0, 3794.0, 8073.0, 6482.0, 4090.0, 7160.0, 6513.0, 634.0, 1334.0, 6668.0, 6458.0, 4616.0, 6559.0, 2418.0, 5216.0, 6674.0, 3385.0, 6685.0, 2661.0, 4674.0, 3423.0, 2475.0, 9718.0, 3801.0, 9991.0, 3421.0, 45.0, 2328.0, 3673.0, 1235.0, 5668.0, 8992.0, 2266.0, 4341.0, 6140.0, 3648.0, 5710.0, 3916.0, 1140.0, 384.0, 196.0, 3616.0, 1452.0, 6108.0, 1877.0, 830.0, 5171.0, 2884.0, 3517.0, 485.0, 1789.0, 6161.0, 5172.0, 8605.0, 6153.0, 4816.0, 567.0, 1643.0, 7731.0, 5645.0, 7721.0, 5036.0, 7716.0, 3611.0, 8036.0, 2738.0, 2214.0, 5925.0, 8930.0, 9040.0, 7460.0, 3256.0, 3999.0, 727.0, 5819.0, 3047.0, 332.0, 7514.0, 8903.0, 7522.0, 5867.0, 8938.0, 4367.0, 1658.0, 5999.0, 5739.0, 9964.0, 5052.0, 8733.0, 8999.0, 4356.0, 3599.0, 7621.0, 7418.0, 2656.0, 373.0, 3112.0, 3580.0, 7625.0, 1941.0, 7243.0, 537.0, 7102.0, 1872.0, 7078.0, 4539.0, 1627.0, 7879.0, 6319.0, 2128.0, 2358.0, 6232.0, 5505.0, 4526.0, 6752.0, 6256.0, 7112.0, 6345.0, 1160.0, 4459.0, 1484.0, 2739.0, 8409.0, 6397.0, 9527.0, 419.0, 7026.0, 5455.0, 7049.0, 7029.0, 6382.0, 6228.0, 6351.0, 7046.0, 7048.0, 329.0, 6247.0, 7838.0, 593.0, 7227.0, 5372.0, 6213.0, 2289.0, 5380.0, 8539.0, 7231.0, 4314.0, 5578.0, 8554.0, 1152.0, 7773.0, 8565.0, 6177.0, 1765.0, 5564.0, 238.0, 5217.0, 5218.0, 3496.0, 1791.0, 3492.0, 7159.0, 5518.0, 2861.0, 6227.0, 4495.0, 2311.0, 524.0, 7130.0, 2847.0, 7313.0]\n"
     ]
    },
    {
     "data": {
      "text/plain": [
       "(None, None)"
      ]
     },
     "execution_count": 5,
     "metadata": {},
     "output_type": "execute_result"
    }
   ],
   "source": [
    "print('length of FinelineNumber which points only on DepartmentDescription: ',len(ls),end='\\n\\n\\n'),print(ls)"
   ]
  },
  {
   "cell_type": "markdown",
   "metadata": {},
   "source": [
    "ls 리스트에 담겨져 있는 FinelineNumber 는 단 하나의 DepartmentDescription을 가리키는 고유한 즉, 말 그래도 FinelineNumber이다."
   ]
  },
  {
   "cell_type": "code",
   "execution_count": 6,
   "metadata": {},
   "outputs": [],
   "source": [
    "fl_dummies = pd.get_dummies(train_df['FinelineNumber'])"
   ]
  },
  {
   "cell_type": "code",
   "execution_count": 7,
   "metadata": {},
   "outputs": [],
   "source": [
    "fl_dummies = fl_dummies[ls]"
   ]
  },
  {
   "cell_type": "code",
   "execution_count": 8,
   "metadata": {},
   "outputs": [],
   "source": [
    "for i in range(len(ls)):\n",
    "    if np.sum(fl_dummies.iloc[:,i]) !=1:\n",
    "        print('emergency')"
   ]
  },
  {
   "cell_type": "code",
   "execution_count": 9,
   "metadata": {},
   "outputs": [],
   "source": [
    "train_df = pd.concat([train_df,fl_dummies],axis=1)"
   ]
  },
  {
   "cell_type": "code",
   "execution_count": 10,
   "metadata": {},
   "outputs": [
    {
     "name": "stderr",
     "output_type": "stream",
     "text": [
      "/home/hskimim/anaconda3/lib/python3.6/importlib/_bootstrap.py:219: RuntimeWarning: numpy.dtype size changed, may indicate binary incompatibility. Expected 96, got 88\n",
      "  return f(*args, **kwds)\n",
      "/home/hskimim/anaconda3/lib/python3.6/importlib/_bootstrap.py:219: RuntimeWarning: numpy.dtype size changed, may indicate binary incompatibility. Expected 96, got 88\n",
      "  return f(*args, **kwds)\n",
      "/home/hskimim/anaconda3/lib/python3.6/importlib/_bootstrap.py:219: RuntimeWarning: numpy.dtype size changed, may indicate binary incompatibility. Expected 96, got 88\n",
      "  return f(*args, **kwds)\n",
      "/home/hskimim/anaconda3/lib/python3.6/importlib/_bootstrap.py:219: RuntimeWarning: numpy.dtype size changed, may indicate binary incompatibility. Expected 96, got 88\n",
      "  return f(*args, **kwds)\n"
     ]
    },
    {
     "data": {
      "text/markdown": [
       "##### Dummy타입으로 만든 컬럼 명 : DepartmentDescription"
      ],
      "text/plain": [
       "<IPython.core.display.Markdown object>"
      ]
     },
     "metadata": {},
     "output_type": "display_data"
    },
    {
     "data": {
      "text/markdown": [
       "##### ScanCount는 양수만 사용"
      ],
      "text/plain": [
       "<IPython.core.display.Markdown object>"
      ]
     },
     "metadata": {},
     "output_type": "display_data"
    },
    {
     "data": {
      "text/markdown": [
       "##### Train df 만드는 중"
      ],
      "text/plain": [
       "<IPython.core.display.Markdown object>"
      ]
     },
     "metadata": {},
     "output_type": "display_data"
    },
    {
     "data": {
      "text/markdown": [
       "##### Null 컬럼을 만듬"
      ],
      "text/plain": [
       "<IPython.core.display.Markdown object>"
      ]
     },
     "metadata": {},
     "output_type": "display_data"
    },
    {
     "name": "stdout",
     "output_type": "stream",
     "text": [
      "\n"
     ]
    },
    {
     "data": {
      "text/markdown": [
       "> 위 정보들을 Display하는 이유는 이번 FeatureMatrix를 사용한 모델에 Fit할 Test 모델 만들 때 같은 전처리를 하기 위해서다."
      ],
      "text/plain": [
       "<IPython.core.display.Markdown object>"
      ]
     },
     "metadata": {},
     "output_type": "display_data"
    }
   ],
   "source": [
    "from awesome_functions import *\n",
    "train_df = make_df_we_wanted(train_df,train_df,test_df,is_use_positive_scancount_only=True,is_need_null_column=True)"
   ]
  },
  {
   "cell_type": "code",
   "execution_count": 11,
   "metadata": {
    "scrolled": false
   },
   "outputs": [
    {
     "data": {
      "text/html": [
       "<div>\n",
       "<style scoped>\n",
       "    .dataframe tbody tr th:only-of-type {\n",
       "        vertical-align: middle;\n",
       "    }\n",
       "\n",
       "    .dataframe tbody tr th {\n",
       "        vertical-align: top;\n",
       "    }\n",
       "\n",
       "    .dataframe thead th {\n",
       "        text-align: right;\n",
       "    }\n",
       "</style>\n",
       "<table border=\"1\" class=\"dataframe\">\n",
       "  <thead>\n",
       "    <tr style=\"text-align: right;\">\n",
       "      <th></th>\n",
       "      <th>VisitNumber</th>\n",
       "      <th>TripType</th>\n",
       "      <th>5358.0</th>\n",
       "      <th>2086.0</th>\n",
       "      <th>4845.0</th>\n",
       "      <th>1808.0</th>\n",
       "      <th>6598.0</th>\n",
       "      <th>8346.0</th>\n",
       "      <th>5353.0</th>\n",
       "      <th>6629.0</th>\n",
       "      <th>...</th>\n",
       "      <th>SWIMWEAR/OUTERWEAR</th>\n",
       "      <th>TOYS</th>\n",
       "      <th>WIRELESS</th>\n",
       "      <th>Monday</th>\n",
       "      <th>Tuesday</th>\n",
       "      <th>Wednesday</th>\n",
       "      <th>Thursday</th>\n",
       "      <th>Friday</th>\n",
       "      <th>Saturday</th>\n",
       "      <th>Sunday</th>\n",
       "    </tr>\n",
       "  </thead>\n",
       "  <tbody>\n",
       "    <tr>\n",
       "      <th>95669</th>\n",
       "      <td>191343</td>\n",
       "      <td>25</td>\n",
       "      <td>0</td>\n",
       "      <td>0</td>\n",
       "      <td>0</td>\n",
       "      <td>0</td>\n",
       "      <td>0</td>\n",
       "      <td>0</td>\n",
       "      <td>0</td>\n",
       "      <td>0</td>\n",
       "      <td>...</td>\n",
       "      <td>0</td>\n",
       "      <td>0</td>\n",
       "      <td>0</td>\n",
       "      <td>0</td>\n",
       "      <td>0</td>\n",
       "      <td>0</td>\n",
       "      <td>0</td>\n",
       "      <td>0</td>\n",
       "      <td>0</td>\n",
       "      <td>1</td>\n",
       "    </tr>\n",
       "    <tr>\n",
       "      <th>95670</th>\n",
       "      <td>191344</td>\n",
       "      <td>22</td>\n",
       "      <td>0</td>\n",
       "      <td>0</td>\n",
       "      <td>0</td>\n",
       "      <td>0</td>\n",
       "      <td>0</td>\n",
       "      <td>0</td>\n",
       "      <td>0</td>\n",
       "      <td>0</td>\n",
       "      <td>...</td>\n",
       "      <td>0</td>\n",
       "      <td>0</td>\n",
       "      <td>1</td>\n",
       "      <td>0</td>\n",
       "      <td>0</td>\n",
       "      <td>0</td>\n",
       "      <td>0</td>\n",
       "      <td>0</td>\n",
       "      <td>0</td>\n",
       "      <td>1</td>\n",
       "    </tr>\n",
       "    <tr>\n",
       "      <th>95671</th>\n",
       "      <td>191345</td>\n",
       "      <td>39</td>\n",
       "      <td>0</td>\n",
       "      <td>0</td>\n",
       "      <td>0</td>\n",
       "      <td>0</td>\n",
       "      <td>0</td>\n",
       "      <td>0</td>\n",
       "      <td>0</td>\n",
       "      <td>0</td>\n",
       "      <td>...</td>\n",
       "      <td>0</td>\n",
       "      <td>0</td>\n",
       "      <td>0</td>\n",
       "      <td>0</td>\n",
       "      <td>0</td>\n",
       "      <td>0</td>\n",
       "      <td>0</td>\n",
       "      <td>0</td>\n",
       "      <td>0</td>\n",
       "      <td>1</td>\n",
       "    </tr>\n",
       "    <tr>\n",
       "      <th>95672</th>\n",
       "      <td>191346</td>\n",
       "      <td>39</td>\n",
       "      <td>0</td>\n",
       "      <td>0</td>\n",
       "      <td>0</td>\n",
       "      <td>0</td>\n",
       "      <td>0</td>\n",
       "      <td>0</td>\n",
       "      <td>0</td>\n",
       "      <td>0</td>\n",
       "      <td>...</td>\n",
       "      <td>0</td>\n",
       "      <td>0</td>\n",
       "      <td>0</td>\n",
       "      <td>0</td>\n",
       "      <td>0</td>\n",
       "      <td>0</td>\n",
       "      <td>0</td>\n",
       "      <td>0</td>\n",
       "      <td>0</td>\n",
       "      <td>1</td>\n",
       "    </tr>\n",
       "    <tr>\n",
       "      <th>95673</th>\n",
       "      <td>191347</td>\n",
       "      <td>8</td>\n",
       "      <td>0</td>\n",
       "      <td>0</td>\n",
       "      <td>0</td>\n",
       "      <td>0</td>\n",
       "      <td>0</td>\n",
       "      <td>0</td>\n",
       "      <td>0</td>\n",
       "      <td>0</td>\n",
       "      <td>...</td>\n",
       "      <td>0</td>\n",
       "      <td>0</td>\n",
       "      <td>0</td>\n",
       "      <td>0</td>\n",
       "      <td>0</td>\n",
       "      <td>0</td>\n",
       "      <td>0</td>\n",
       "      <td>0</td>\n",
       "      <td>0</td>\n",
       "      <td>1</td>\n",
       "    </tr>\n",
       "  </tbody>\n",
       "</table>\n",
       "<p>5 rows × 320 columns</p>\n",
       "</div>"
      ],
      "text/plain": [
       "       VisitNumber  TripType  5358.0  2086.0  4845.0  1808.0  6598.0  8346.0  \\\n",
       "95669       191343        25       0       0       0       0       0       0   \n",
       "95670       191344        22       0       0       0       0       0       0   \n",
       "95671       191345        39       0       0       0       0       0       0   \n",
       "95672       191346        39       0       0       0       0       0       0   \n",
       "95673       191347         8       0       0       0       0       0       0   \n",
       "\n",
       "       5353.0  6629.0   ...    SWIMWEAR/OUTERWEAR  TOYS  WIRELESS  Monday  \\\n",
       "95669       0       0   ...                     0     0         0       0   \n",
       "95670       0       0   ...                     0     0         1       0   \n",
       "95671       0       0   ...                     0     0         0       0   \n",
       "95672       0       0   ...                     0     0         0       0   \n",
       "95673       0       0   ...                     0     0         0       0   \n",
       "\n",
       "       Tuesday  Wednesday  Thursday  Friday  Saturday  Sunday  \n",
       "95669        0          0         0       0         0       1  \n",
       "95670        0          0         0       0         0       1  \n",
       "95671        0          0         0       0         0       1  \n",
       "95672        0          0         0       0         0       1  \n",
       "95673        0          0         0       0         0       1  \n",
       "\n",
       "[5 rows x 320 columns]"
      ]
     },
     "execution_count": 11,
     "metadata": {},
     "output_type": "execute_result"
    }
   ],
   "source": [
    "train_df.tail()"
   ]
  },
  {
   "cell_type": "code",
   "execution_count": 12,
   "metadata": {
    "scrolled": false
   },
   "outputs": [
    {
     "data": {
      "text/plain": [
       "(95674, 320)"
      ]
     },
     "execution_count": 12,
     "metadata": {},
     "output_type": "execute_result"
    }
   ],
   "source": [
    "train_df.shape"
   ]
  },
  {
   "cell_type": "code",
   "execution_count": 13,
   "metadata": {},
   "outputs": [],
   "source": [
    "train_X = train_df.copy()\n",
    "train_X.index = train_X['VisitNumber']\n",
    "train_X.drop(columns=['TripType','VisitNumber'],inplace=True)"
   ]
  },
  {
   "cell_type": "code",
   "execution_count": 14,
   "metadata": {},
   "outputs": [],
   "source": [
    "train_y = train_df['TripType']"
   ]
  },
  {
   "cell_type": "code",
   "execution_count": 15,
   "metadata": {},
   "outputs": [
    {
     "data": {
      "text/plain": [
       "((95674, 318), (95674,))"
      ]
     },
     "execution_count": 15,
     "metadata": {},
     "output_type": "execute_result"
    }
   ],
   "source": [
    "train_X.shape , train_y.shape"
   ]
  },
  {
   "cell_type": "code",
   "execution_count": 16,
   "metadata": {},
   "outputs": [
    {
     "data": {
      "text/html": [
       "<div>\n",
       "<style scoped>\n",
       "    .dataframe tbody tr th:only-of-type {\n",
       "        vertical-align: middle;\n",
       "    }\n",
       "\n",
       "    .dataframe tbody tr th {\n",
       "        vertical-align: top;\n",
       "    }\n",
       "\n",
       "    .dataframe thead th {\n",
       "        text-align: right;\n",
       "    }\n",
       "</style>\n",
       "<table border=\"1\" class=\"dataframe\">\n",
       "  <thead>\n",
       "    <tr style=\"text-align: right;\">\n",
       "      <th></th>\n",
       "      <th>5358.0</th>\n",
       "      <th>2086.0</th>\n",
       "      <th>4845.0</th>\n",
       "      <th>1808.0</th>\n",
       "      <th>6598.0</th>\n",
       "      <th>8346.0</th>\n",
       "      <th>5353.0</th>\n",
       "      <th>6629.0</th>\n",
       "      <th>8345.0</th>\n",
       "      <th>2039.0</th>\n",
       "      <th>...</th>\n",
       "      <th>SWIMWEAR/OUTERWEAR</th>\n",
       "      <th>TOYS</th>\n",
       "      <th>WIRELESS</th>\n",
       "      <th>Monday</th>\n",
       "      <th>Tuesday</th>\n",
       "      <th>Wednesday</th>\n",
       "      <th>Thursday</th>\n",
       "      <th>Friday</th>\n",
       "      <th>Saturday</th>\n",
       "      <th>Sunday</th>\n",
       "    </tr>\n",
       "    <tr>\n",
       "      <th>VisitNumber</th>\n",
       "      <th></th>\n",
       "      <th></th>\n",
       "      <th></th>\n",
       "      <th></th>\n",
       "      <th></th>\n",
       "      <th></th>\n",
       "      <th></th>\n",
       "      <th></th>\n",
       "      <th></th>\n",
       "      <th></th>\n",
       "      <th></th>\n",
       "      <th></th>\n",
       "      <th></th>\n",
       "      <th></th>\n",
       "      <th></th>\n",
       "      <th></th>\n",
       "      <th></th>\n",
       "      <th></th>\n",
       "      <th></th>\n",
       "      <th></th>\n",
       "      <th></th>\n",
       "    </tr>\n",
       "  </thead>\n",
       "  <tbody>\n",
       "    <tr>\n",
       "      <th>191343</th>\n",
       "      <td>0</td>\n",
       "      <td>0</td>\n",
       "      <td>0</td>\n",
       "      <td>0</td>\n",
       "      <td>0</td>\n",
       "      <td>0</td>\n",
       "      <td>0</td>\n",
       "      <td>0</td>\n",
       "      <td>0</td>\n",
       "      <td>0</td>\n",
       "      <td>...</td>\n",
       "      <td>0</td>\n",
       "      <td>0</td>\n",
       "      <td>0</td>\n",
       "      <td>0</td>\n",
       "      <td>0</td>\n",
       "      <td>0</td>\n",
       "      <td>0</td>\n",
       "      <td>0</td>\n",
       "      <td>0</td>\n",
       "      <td>1</td>\n",
       "    </tr>\n",
       "    <tr>\n",
       "      <th>191344</th>\n",
       "      <td>0</td>\n",
       "      <td>0</td>\n",
       "      <td>0</td>\n",
       "      <td>0</td>\n",
       "      <td>0</td>\n",
       "      <td>0</td>\n",
       "      <td>0</td>\n",
       "      <td>0</td>\n",
       "      <td>0</td>\n",
       "      <td>0</td>\n",
       "      <td>...</td>\n",
       "      <td>0</td>\n",
       "      <td>0</td>\n",
       "      <td>1</td>\n",
       "      <td>0</td>\n",
       "      <td>0</td>\n",
       "      <td>0</td>\n",
       "      <td>0</td>\n",
       "      <td>0</td>\n",
       "      <td>0</td>\n",
       "      <td>1</td>\n",
       "    </tr>\n",
       "    <tr>\n",
       "      <th>191345</th>\n",
       "      <td>0</td>\n",
       "      <td>0</td>\n",
       "      <td>0</td>\n",
       "      <td>0</td>\n",
       "      <td>0</td>\n",
       "      <td>0</td>\n",
       "      <td>0</td>\n",
       "      <td>0</td>\n",
       "      <td>0</td>\n",
       "      <td>0</td>\n",
       "      <td>...</td>\n",
       "      <td>0</td>\n",
       "      <td>0</td>\n",
       "      <td>0</td>\n",
       "      <td>0</td>\n",
       "      <td>0</td>\n",
       "      <td>0</td>\n",
       "      <td>0</td>\n",
       "      <td>0</td>\n",
       "      <td>0</td>\n",
       "      <td>1</td>\n",
       "    </tr>\n",
       "    <tr>\n",
       "      <th>191346</th>\n",
       "      <td>0</td>\n",
       "      <td>0</td>\n",
       "      <td>0</td>\n",
       "      <td>0</td>\n",
       "      <td>0</td>\n",
       "      <td>0</td>\n",
       "      <td>0</td>\n",
       "      <td>0</td>\n",
       "      <td>0</td>\n",
       "      <td>0</td>\n",
       "      <td>...</td>\n",
       "      <td>0</td>\n",
       "      <td>0</td>\n",
       "      <td>0</td>\n",
       "      <td>0</td>\n",
       "      <td>0</td>\n",
       "      <td>0</td>\n",
       "      <td>0</td>\n",
       "      <td>0</td>\n",
       "      <td>0</td>\n",
       "      <td>1</td>\n",
       "    </tr>\n",
       "    <tr>\n",
       "      <th>191347</th>\n",
       "      <td>0</td>\n",
       "      <td>0</td>\n",
       "      <td>0</td>\n",
       "      <td>0</td>\n",
       "      <td>0</td>\n",
       "      <td>0</td>\n",
       "      <td>0</td>\n",
       "      <td>0</td>\n",
       "      <td>0</td>\n",
       "      <td>0</td>\n",
       "      <td>...</td>\n",
       "      <td>0</td>\n",
       "      <td>0</td>\n",
       "      <td>0</td>\n",
       "      <td>0</td>\n",
       "      <td>0</td>\n",
       "      <td>0</td>\n",
       "      <td>0</td>\n",
       "      <td>0</td>\n",
       "      <td>0</td>\n",
       "      <td>1</td>\n",
       "    </tr>\n",
       "  </tbody>\n",
       "</table>\n",
       "<p>5 rows × 318 columns</p>\n",
       "</div>"
      ],
      "text/plain": [
       "             5358.0  2086.0  4845.0  1808.0  6598.0  8346.0  5353.0  6629.0  \\\n",
       "VisitNumber                                                                   \n",
       "191343            0       0       0       0       0       0       0       0   \n",
       "191344            0       0       0       0       0       0       0       0   \n",
       "191345            0       0       0       0       0       0       0       0   \n",
       "191346            0       0       0       0       0       0       0       0   \n",
       "191347            0       0       0       0       0       0       0       0   \n",
       "\n",
       "             8345.0  2039.0   ...    SWIMWEAR/OUTERWEAR  TOYS  WIRELESS  \\\n",
       "VisitNumber                   ...                                         \n",
       "191343            0       0   ...                     0     0         0   \n",
       "191344            0       0   ...                     0     0         1   \n",
       "191345            0       0   ...                     0     0         0   \n",
       "191346            0       0   ...                     0     0         0   \n",
       "191347            0       0   ...                     0     0         0   \n",
       "\n",
       "             Monday  Tuesday  Wednesday  Thursday  Friday  Saturday  Sunday  \n",
       "VisitNumber                                                                  \n",
       "191343            0        0          0         0       0         0       1  \n",
       "191344            0        0          0         0       0         0       1  \n",
       "191345            0        0          0         0       0         0       1  \n",
       "191346            0        0          0         0       0         0       1  \n",
       "191347            0        0          0         0       0         0       1  \n",
       "\n",
       "[5 rows x 318 columns]"
      ]
     },
     "execution_count": 16,
     "metadata": {},
     "output_type": "execute_result"
    }
   ],
   "source": [
    "train_X.tail()"
   ]
  },
  {
   "cell_type": "code",
   "execution_count": 17,
   "metadata": {},
   "outputs": [
    {
     "data": {
      "text/plain": [
       "95669    25\n",
       "95670    22\n",
       "95671    39\n",
       "95672    39\n",
       "95673     8\n",
       "Name: TripType, dtype: int64"
      ]
     },
     "execution_count": 17,
     "metadata": {},
     "output_type": "execute_result"
    }
   ],
   "source": [
    "train_y.tail()"
   ]
  },
  {
   "cell_type": "markdown",
   "metadata": {},
   "source": [
    "## LogisticRegression"
   ]
  },
  {
   "cell_type": "code",
   "execution_count": 18,
   "metadata": {},
   "outputs": [
    {
     "name": "stderr",
     "output_type": "stream",
     "text": [
      "/home/hskimim/anaconda3/lib/python3.6/importlib/_bootstrap.py:219: RuntimeWarning: numpy.dtype size changed, may indicate binary incompatibility. Expected 96, got 88\n",
      "  return f(*args, **kwds)\n"
     ]
    }
   ],
   "source": [
    "from sklearn.linear_model import LogisticRegression"
   ]
  },
  {
   "cell_type": "code",
   "execution_count": 19,
   "metadata": {
    "scrolled": true
   },
   "outputs": [
    {
     "name": "stdout",
     "output_type": "stream",
     "text": [
      "CPU times: user 1min 3s, sys: 147 ms, total: 1min 3s\n",
      "Wall time: 1min 3s\n"
     ]
    }
   ],
   "source": [
    "%time logis_model = LogisticRegression().fit(train_X , train_y)"
   ]
  },
  {
   "cell_type": "code",
   "execution_count": 20,
   "metadata": {},
   "outputs": [],
   "source": [
    "from sklearn.metrics import *"
   ]
  },
  {
   "cell_type": "code",
   "execution_count": 21,
   "metadata": {
    "scrolled": true
   },
   "outputs": [
    {
     "data": {
      "text/plain": [
       "0.6490164517005665"
      ]
     },
     "execution_count": 21,
     "metadata": {},
     "output_type": "execute_result"
    }
   ],
   "source": [
    "accuracy_score(train_y,logis_model.predict(train_X))"
   ]
  },
  {
   "cell_type": "code",
   "execution_count": 22,
   "metadata": {},
   "outputs": [],
   "source": [
    "from sklearn.model_selection import KFold , cross_val_score"
   ]
  },
  {
   "cell_type": "code",
   "execution_count": 32,
   "metadata": {},
   "outputs": [
    {
     "name": "stdout",
     "output_type": "stream",
     "text": [
      "CPU times: user 5.7 s, sys: 364 ms, total: 6.07 s\n",
      "Wall time: 4min 36s\n"
     ]
    }
   ],
   "source": [
    "%%time\n",
    "kfold = KFold(10)\n",
    "cv1 = cross_val_score(logis_model , train_X , train_y,cv=kfold , n_jobs=-1)"
   ]
  },
  {
   "cell_type": "code",
   "execution_count": 34,
   "metadata": {},
   "outputs": [
    {
     "data": {
      "text/plain": [
       "0.6435499793657337"
      ]
     },
     "execution_count": 34,
     "metadata": {},
     "output_type": "execute_result"
    }
   ],
   "source": [
    "np.mean(cv1)"
   ]
  },
  {
   "cell_type": "markdown",
   "metadata": {},
   "source": [
    "## Multi-nomial Naive Bayes"
   ]
  },
  {
   "cell_type": "code",
   "execution_count": 27,
   "metadata": {},
   "outputs": [],
   "source": [
    "from sklearn.naive_bayes import MultinomialNB"
   ]
  },
  {
   "cell_type": "code",
   "execution_count": 28,
   "metadata": {},
   "outputs": [],
   "source": [
    "multiNB_model = MultinomialNB().fit(train_X, train_y)"
   ]
  },
  {
   "cell_type": "code",
   "execution_count": 29,
   "metadata": {},
   "outputs": [
    {
     "data": {
      "text/plain": [
       "0.5841085352342329"
      ]
     },
     "execution_count": 29,
     "metadata": {},
     "output_type": "execute_result"
    }
   ],
   "source": [
    "accuracy_score(train_y,multiNB_model.predict(train_X))"
   ]
  },
  {
   "cell_type": "code",
   "execution_count": 30,
   "metadata": {},
   "outputs": [
    {
     "name": "stdout",
     "output_type": "stream",
     "text": [
      "CPU times: user 3.94 s, sys: 268 ms, total: 4.2 s\n",
      "Wall time: 5.33 s\n"
     ]
    }
   ],
   "source": [
    "%%time\n",
    "kfold = KFold(10)\n",
    "cv2 = cross_val_score(multiNB_model,train_X,train_y,cv=kfold,n_jobs=-1)"
   ]
  },
  {
   "cell_type": "code",
   "execution_count": 31,
   "metadata": {
    "scrolled": true
   },
   "outputs": [
    {
     "data": {
      "text/plain": [
       "0.5808997811771442"
      ]
     },
     "execution_count": 31,
     "metadata": {},
     "output_type": "execute_result"
    }
   ],
   "source": [
    "np.mean(cv2)"
   ]
  },
  {
   "cell_type": "code",
   "execution_count": 2,
   "metadata": {},
   "outputs": [
    {
     "data": {
      "text/plain": [
       "0.5765525608779961"
      ]
     },
     "execution_count": 2,
     "metadata": {},
     "output_type": "execute_result"
    }
   ],
   "source": [
    "0.5804607312331459\n",
    "0.5765525608779961"
   ]
  }
 ],
 "metadata": {
  "kernelspec": {
   "display_name": "Python 3",
   "language": "python",
   "name": "python3"
  },
  "language_info": {
   "codemirror_mode": {
    "name": "ipython",
    "version": 3
   },
   "file_extension": ".py",
   "mimetype": "text/x-python",
   "name": "python",
   "nbconvert_exporter": "python",
   "pygments_lexer": "ipython3",
   "version": "3.6.5"
  }
 },
 "nbformat": 4,
 "nbformat_minor": 2
}
