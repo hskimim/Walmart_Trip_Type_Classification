{
 "cells": [
  {
   "cell_type": "code",
   "execution_count": 3,
   "metadata": {},
   "outputs": [
    {
     "name": "stderr",
     "output_type": "stream",
     "text": [
      "/home/hskimim/anaconda3/lib/python3.6/importlib/_bootstrap.py:219: RuntimeWarning: numpy.dtype size changed, may indicate binary incompatibility. Expected 96, got 88\n",
      "  return f(*args, **kwds)\n",
      "/home/hskimim/anaconda3/lib/python3.6/importlib/_bootstrap.py:219: RuntimeWarning: numpy.dtype size changed, may indicate binary incompatibility. Expected 96, got 88\n",
      "  return f(*args, **kwds)\n",
      "/home/hskimim/anaconda3/lib/python3.6/importlib/_bootstrap.py:219: RuntimeWarning: numpy.dtype size changed, may indicate binary incompatibility. Expected 96, got 88\n",
      "  return f(*args, **kwds)\n",
      "/home/hskimim/anaconda3/lib/python3.6/importlib/_bootstrap.py:219: RuntimeWarning: numpy.dtype size changed, may indicate binary incompatibility. Expected 96, got 88\n",
      "  return f(*args, **kwds)\n"
     ]
    }
   ],
   "source": [
    "import pandas as pd\n",
    "import numpy as np\n",
    "from sklearn.preprocessing import LabelEncoder\n",
    "train = pd.read_csv('train.csv')\n",
    "train['DepartmentDescription'] = train['DepartmentDescription'].replace('MENSWEAR','MENS WEAR',inplace=True)\n",
    "test = pd.read_csv('test.csv')\n",
    "train_df = train.copy()"
   ]
  },
  {
   "cell_type": "code",
   "execution_count": 4,
   "metadata": {
    "scrolled": true
   },
   "outputs": [
    {
     "data": {
      "text/html": [
       "<div>\n",
       "<style scoped>\n",
       "    .dataframe tbody tr th:only-of-type {\n",
       "        vertical-align: middle;\n",
       "    }\n",
       "\n",
       "    .dataframe tbody tr th {\n",
       "        vertical-align: top;\n",
       "    }\n",
       "\n",
       "    .dataframe thead th {\n",
       "        text-align: right;\n",
       "    }\n",
       "</style>\n",
       "<table border=\"1\" class=\"dataframe\">\n",
       "  <thead>\n",
       "    <tr style=\"text-align: right;\">\n",
       "      <th></th>\n",
       "      <th>TripType</th>\n",
       "      <th>VisitNumber</th>\n",
       "      <th>Weekday</th>\n",
       "      <th>Upc</th>\n",
       "      <th>ScanCount</th>\n",
       "      <th>DepartmentDescription</th>\n",
       "      <th>FinelineNumber</th>\n",
       "    </tr>\n",
       "  </thead>\n",
       "  <tbody>\n",
       "    <tr>\n",
       "      <th>647049</th>\n",
       "      <td>39</td>\n",
       "      <td>191346</td>\n",
       "      <td>Sunday</td>\n",
       "      <td>3.239000e+10</td>\n",
       "      <td>1</td>\n",
       "      <td>None</td>\n",
       "      <td>1118.0</td>\n",
       "    </tr>\n",
       "    <tr>\n",
       "      <th>647050</th>\n",
       "      <td>39</td>\n",
       "      <td>191346</td>\n",
       "      <td>Sunday</td>\n",
       "      <td>7.874205e+09</td>\n",
       "      <td>1</td>\n",
       "      <td>None</td>\n",
       "      <td>1752.0</td>\n",
       "    </tr>\n",
       "    <tr>\n",
       "      <th>647051</th>\n",
       "      <td>39</td>\n",
       "      <td>191346</td>\n",
       "      <td>Sunday</td>\n",
       "      <td>4.072000e+03</td>\n",
       "      <td>1</td>\n",
       "      <td>None</td>\n",
       "      <td>4170.0</td>\n",
       "    </tr>\n",
       "    <tr>\n",
       "      <th>647052</th>\n",
       "      <td>8</td>\n",
       "      <td>191347</td>\n",
       "      <td>Sunday</td>\n",
       "      <td>4.190008e+09</td>\n",
       "      <td>1</td>\n",
       "      <td>None</td>\n",
       "      <td>1512.0</td>\n",
       "    </tr>\n",
       "    <tr>\n",
       "      <th>647053</th>\n",
       "      <td>8</td>\n",
       "      <td>191347</td>\n",
       "      <td>Sunday</td>\n",
       "      <td>3.800060e+09</td>\n",
       "      <td>1</td>\n",
       "      <td>None</td>\n",
       "      <td>3600.0</td>\n",
       "    </tr>\n",
       "  </tbody>\n",
       "</table>\n",
       "</div>"
      ],
      "text/plain": [
       "        TripType  VisitNumber Weekday           Upc  ScanCount  \\\n",
       "647049        39       191346  Sunday  3.239000e+10          1   \n",
       "647050        39       191346  Sunday  7.874205e+09          1   \n",
       "647051        39       191346  Sunday  4.072000e+03          1   \n",
       "647052         8       191347  Sunday  4.190008e+09          1   \n",
       "647053         8       191347  Sunday  3.800060e+09          1   \n",
       "\n",
       "       DepartmentDescription  FinelineNumber  \n",
       "647049                  None          1118.0  \n",
       "647050                  None          1752.0  \n",
       "647051                  None          4170.0  \n",
       "647052                  None          1512.0  \n",
       "647053                  None          3600.0  "
      ]
     },
     "execution_count": 4,
     "metadata": {},
     "output_type": "execute_result"
    }
   ],
   "source": [
    "train_df.tail()"
   ]
  },
  {
   "cell_type": "code",
   "execution_count": 38,
   "metadata": {},
   "outputs": [],
   "source": [
    "def Fineline_Count(data, fineline_list):\n",
    "    \n",
    "    new_data=data[['VisitNumber', 'Weekday']].drop_duplicates()\n",
    "    for i in range(len(fineline_list)):\n",
    "        df=data[data['FinelineNumber']==fineline_list[i]]\n",
    "        df = df.groupby(['VisitNumber'], as_index=False)['Count'].sum()\n",
    "        df.rename(columns={'Count': 'F_%s' % (i)}, inplace=True)\n",
    "        new_data = new_data.merge(df, how='left', on=['VisitNumber'], copy=True)\n",
    "        new_data['F_%s' % (i)].fillna(value=0, inplace=True)\n",
    "    new_data.drop('Weekday', axis=1, inplace=True)    \n",
    "    return new_data "
   ]
  },
  {
   "cell_type": "code",
   "execution_count": 5,
   "metadata": {
    "scrolled": true
   },
   "outputs": [
    {
     "ename": "ValueError",
     "evalue": "can not merge DataFrame with instance of type <class 'pandas.core.series.Series'>",
     "output_type": "error",
     "traceback": [
      "\u001b[0;31m---------------------------------------------------------------------------\u001b[0m",
      "\u001b[0;31mValueError\u001b[0m                                Traceback (most recent call last)",
      "\u001b[0;32m<ipython-input-5-a42764fe6e05>\u001b[0m in \u001b[0;36m<module>\u001b[0;34m()\u001b[0m\n\u001b[1;32m      8\u001b[0m     \u001b[0mdf\u001b[0m \u001b[0;34m=\u001b[0m \u001b[0mdf\u001b[0m\u001b[0;34m.\u001b[0m\u001b[0mgroupby\u001b[0m\u001b[0;34m(\u001b[0m\u001b[0;34m'VisitNumber'\u001b[0m\u001b[0;34m,\u001b[0m\u001b[0mas_index\u001b[0m\u001b[0;34m=\u001b[0m\u001b[0;34m'False'\u001b[0m\u001b[0;34m)\u001b[0m\u001b[0;34m[\u001b[0m\u001b[0;34m'ScanCount'\u001b[0m\u001b[0;34m]\u001b[0m\u001b[0;34m.\u001b[0m\u001b[0msum\u001b[0m\u001b[0;34m(\u001b[0m\u001b[0;34m)\u001b[0m\u001b[0;34m\u001b[0m\u001b[0m\n\u001b[1;32m      9\u001b[0m \u001b[0;31m#     df.rename(columns={'ScanCount': str(i)}, inplace=True)\u001b[0m\u001b[0;34m\u001b[0m\u001b[0;34m\u001b[0m\u001b[0m\n\u001b[0;32m---> 10\u001b[0;31m     \u001b[0mnew_data\u001b[0m \u001b[0;34m=\u001b[0m \u001b[0mnew_data\u001b[0m\u001b[0;34m.\u001b[0m\u001b[0mmerge\u001b[0m\u001b[0;34m(\u001b[0m\u001b[0mdf\u001b[0m\u001b[0;34m,\u001b[0m \u001b[0mhow\u001b[0m\u001b[0;34m=\u001b[0m\u001b[0;34m'left'\u001b[0m\u001b[0;34m,\u001b[0m \u001b[0mon\u001b[0m\u001b[0;34m=\u001b[0m\u001b[0;34m[\u001b[0m\u001b[0;34m'VisitNumber'\u001b[0m\u001b[0;34m]\u001b[0m\u001b[0;34m,\u001b[0m \u001b[0mcopy\u001b[0m\u001b[0;34m=\u001b[0m\u001b[0;32mTrue\u001b[0m\u001b[0;34m)\u001b[0m\u001b[0;34m\u001b[0m\u001b[0m\n\u001b[0m\u001b[1;32m     11\u001b[0m \u001b[0;31m#     new_data[str(i)].fillna(value=0, inplace=True)\u001b[0m\u001b[0;34m\u001b[0m\u001b[0;34m\u001b[0m\u001b[0m\n\u001b[1;32m     12\u001b[0m \u001b[0;31m#     new_data.drop('Weekday', axis=1, inplace=True)\u001b[0m\u001b[0;34m\u001b[0m\u001b[0;34m\u001b[0m\u001b[0m\n",
      "\u001b[0;32m~/anaconda3/lib/python3.6/site-packages/pandas/core/frame.py\u001b[0m in \u001b[0;36mmerge\u001b[0;34m(self, right, how, on, left_on, right_on, left_index, right_index, sort, suffixes, copy, indicator, validate)\u001b[0m\n\u001b[1;32m   6377\u001b[0m                      \u001b[0mright_on\u001b[0m\u001b[0;34m=\u001b[0m\u001b[0mright_on\u001b[0m\u001b[0;34m,\u001b[0m \u001b[0mleft_index\u001b[0m\u001b[0;34m=\u001b[0m\u001b[0mleft_index\u001b[0m\u001b[0;34m,\u001b[0m\u001b[0;34m\u001b[0m\u001b[0m\n\u001b[1;32m   6378\u001b[0m                      \u001b[0mright_index\u001b[0m\u001b[0;34m=\u001b[0m\u001b[0mright_index\u001b[0m\u001b[0;34m,\u001b[0m \u001b[0msort\u001b[0m\u001b[0;34m=\u001b[0m\u001b[0msort\u001b[0m\u001b[0;34m,\u001b[0m \u001b[0msuffixes\u001b[0m\u001b[0;34m=\u001b[0m\u001b[0msuffixes\u001b[0m\u001b[0;34m,\u001b[0m\u001b[0;34m\u001b[0m\u001b[0m\n\u001b[0;32m-> 6379\u001b[0;31m                      copy=copy, indicator=indicator, validate=validate)\n\u001b[0m\u001b[1;32m   6380\u001b[0m \u001b[0;34m\u001b[0m\u001b[0m\n\u001b[1;32m   6381\u001b[0m     \u001b[0;32mdef\u001b[0m \u001b[0mround\u001b[0m\u001b[0;34m(\u001b[0m\u001b[0mself\u001b[0m\u001b[0;34m,\u001b[0m \u001b[0mdecimals\u001b[0m\u001b[0;34m=\u001b[0m\u001b[0;36m0\u001b[0m\u001b[0;34m,\u001b[0m \u001b[0;34m*\u001b[0m\u001b[0margs\u001b[0m\u001b[0;34m,\u001b[0m \u001b[0;34m**\u001b[0m\u001b[0mkwargs\u001b[0m\u001b[0;34m)\u001b[0m\u001b[0;34m:\u001b[0m\u001b[0;34m\u001b[0m\u001b[0m\n",
      "\u001b[0;32m~/anaconda3/lib/python3.6/site-packages/pandas/core/reshape/merge.py\u001b[0m in \u001b[0;36mmerge\u001b[0;34m(left, right, how, on, left_on, right_on, left_index, right_index, sort, suffixes, copy, indicator, validate)\u001b[0m\n\u001b[1;32m     58\u001b[0m                          \u001b[0mright_index\u001b[0m\u001b[0;34m=\u001b[0m\u001b[0mright_index\u001b[0m\u001b[0;34m,\u001b[0m \u001b[0msort\u001b[0m\u001b[0;34m=\u001b[0m\u001b[0msort\u001b[0m\u001b[0;34m,\u001b[0m \u001b[0msuffixes\u001b[0m\u001b[0;34m=\u001b[0m\u001b[0msuffixes\u001b[0m\u001b[0;34m,\u001b[0m\u001b[0;34m\u001b[0m\u001b[0m\n\u001b[1;32m     59\u001b[0m                          \u001b[0mcopy\u001b[0m\u001b[0;34m=\u001b[0m\u001b[0mcopy\u001b[0m\u001b[0;34m,\u001b[0m \u001b[0mindicator\u001b[0m\u001b[0;34m=\u001b[0m\u001b[0mindicator\u001b[0m\u001b[0;34m,\u001b[0m\u001b[0;34m\u001b[0m\u001b[0m\n\u001b[0;32m---> 60\u001b[0;31m                          validate=validate)\n\u001b[0m\u001b[1;32m     61\u001b[0m     \u001b[0;32mreturn\u001b[0m \u001b[0mop\u001b[0m\u001b[0;34m.\u001b[0m\u001b[0mget_result\u001b[0m\u001b[0;34m(\u001b[0m\u001b[0;34m)\u001b[0m\u001b[0;34m\u001b[0m\u001b[0m\n\u001b[1;32m     62\u001b[0m \u001b[0;34m\u001b[0m\u001b[0m\n",
      "\u001b[0;32m~/anaconda3/lib/python3.6/site-packages/pandas/core/reshape/merge.py\u001b[0m in \u001b[0;36m__init__\u001b[0;34m(self, left, right, how, on, left_on, right_on, axis, left_index, right_index, sort, suffixes, copy, indicator, validate)\u001b[0m\n\u001b[1;32m    524\u001b[0m         \u001b[0;32mif\u001b[0m \u001b[0;32mnot\u001b[0m \u001b[0misinstance\u001b[0m\u001b[0;34m(\u001b[0m\u001b[0mright\u001b[0m\u001b[0;34m,\u001b[0m \u001b[0mDataFrame\u001b[0m\u001b[0;34m)\u001b[0m\u001b[0;34m:\u001b[0m\u001b[0;34m\u001b[0m\u001b[0m\n\u001b[1;32m    525\u001b[0m             raise ValueError('can not merge DataFrame with instance of '\n\u001b[0;32m--> 526\u001b[0;31m                              'type {right}'.format(right=type(right)))\n\u001b[0m\u001b[1;32m    527\u001b[0m \u001b[0;34m\u001b[0m\u001b[0m\n\u001b[1;32m    528\u001b[0m         \u001b[0;32mif\u001b[0m \u001b[0;32mnot\u001b[0m \u001b[0mis_bool\u001b[0m\u001b[0;34m(\u001b[0m\u001b[0mleft_index\u001b[0m\u001b[0;34m)\u001b[0m\u001b[0;34m:\u001b[0m\u001b[0;34m\u001b[0m\u001b[0m\n",
      "\u001b[0;31mValueError\u001b[0m: can not merge DataFrame with instance of type <class 'pandas.core.series.Series'>"
     ]
    }
   ],
   "source": [
    "testing_df = train_df.copy()\n",
    "testing_df['Weekday'] = LabelEncoder().fit_transform(list(testing_df['Weekday']))\n",
    "fineline_list = list(train_df['FinelineNumber'])\n",
    "new_data = train_df[['VisitNumber','Weekday']].drop_duplicates()\n",
    "\n",
    "for i in range(len(fineline_list)):\n",
    "    df = train_df[train_df['FinelineNumber']==fineline_list[i]]\n",
    "    df = df.groupby('VisitNumber',as_index='False')['ScanCount'].sum()\n",
    "#     df.rename(columns={'ScanCount': str(i)}, inplace=True)\n",
    "    new_data = new_data.merge(df, how='left', on=['VisitNumber'], copy=True)\n",
    "#     new_data[str(i)].fillna(value=0, inplace=True)\n",
    "#     new_data.drop('Weekday', axis=1, inplace=True)   "
   ]
  },
  {
   "cell_type": "code",
   "execution_count": null,
   "metadata": {},
   "outputs": [],
   "source": [
    "new_data"
   ]
  },
  {
   "cell_type": "code",
   "execution_count": null,
   "metadata": {},
   "outputs": [],
   "source": [
    "def Department_Count_Products(data, department_list):\n",
    "    \n",
    "    new_data=data[['VisitNumber', 'Weekday', 'Sum']].drop_duplicates()\n",
    "    for i in range(len(department_list)):\n",
    "       df=data[data['DepartmentDescription']==department_list[i]]\n",
    "       df = df.groupby(['VisitNumber'], as_index=False)['Count'].sum()\n",
    "       df.rename(columns={'Count': 'D_%s' % (i)}, inplace=True)\n",
    "       new_data = new_data.merge(df, how='left', on=['VisitNumber'], copy=True)\n",
    "       new_data['D_%s' % (i)].fillna(value=0, inplace=True)\n",
    "       new_data['Ratio_%s' % (i)] = new_data['D_%s' % (i)]/new_data['Sum']\n",
    "       new_data['Ratio_%s' % (i)].fillna(value=0, inplace=True)\n",
    "    new_data.drop(['Sum', 'Weekday'], axis=1, inplace=True)\n",
    "    return new_data"
   ]
  },
  {
   "cell_type": "code",
   "execution_count": null,
   "metadata": {},
   "outputs": [],
   "source": [
    "from sklearn.preprocessing import LabelEncoder\n",
    "testing_df = train_df.copy()\n",
    "testing_df['Weekday'] = LabelEncoder().fit_transform(list(testing_df['Weekday']))\n",
    "department_list = list(train_df['DepartmentDescription'])\n",
    "testing_df = train_df[['VisitNumber','Weekday']].drop_duplicates()\n",
    "\n",
    "for i in range(len(fineline_list)):\n",
    "    df = train_df[train_df['DepartmentDescription']==department_list[i]]\n",
    "    df = df.groupby('VisitNumber',as_index='False')['ScanCount'].sum()\n",
    "#     df.rename(columns={'ScanCount': str(i)}, inplace=True)\n",
    "    new_data2 = new_data.merge(testing_df, how='left', on=['VisitNumber'], copy=True)\n",
    "#     new_data[str(i)].fillna(value=0, inplace=True)\n",
    "#     new_data.drop('Weekday', axis=1, inplace=True)   "
   ]
  },
  {
   "cell_type": "code",
   "execution_count": null,
   "metadata": {},
   "outputs": [],
   "source": [
    "new_data2"
   ]
  },
  {
   "cell_type": "code",
   "execution_count": null,
   "metadata": {},
   "outputs": [],
   "source": []
  },
  {
   "cell_type": "code",
   "execution_count": null,
   "metadata": {},
   "outputs": [],
   "source": [
    "def Department_Counts_Neg_Products(data, department_list):\n",
    "\n",
    "    new_data=data[['VisitNumber', 'Weekday']].drop_duplicates()\n",
    "    for i in range(len(department_list)):\n",
    "       df=data[(data['DepartmentDescription']==department_list[i]) & (data['ScanCount']<0)]\n",
    "       df = df.groupby(['VisitNumber'], as_index=False)['ScanCount'].sum()\n",
    "       df['ScanCount'] = df['ScanCount']*(-1)\n",
    "       df.rename(columns={'ScanCount': 'D1_%s' % (i)}, inplace=True)\n",
    "       new_data = new_data.merge(df, how='left', on=['VisitNumber'], copy=True)\n",
    "       new_data['D1_%s' % (i)].fillna(value=0, inplace=True)\n",
    "    new_data.drop('Weekday', axis=1, inplace=True)   \n",
    "    return new_data "
   ]
  },
  {
   "cell_type": "code",
   "execution_count": null,
   "metadata": {},
   "outputs": [],
   "source": [
    "from sklearn.preprocessing import LabelEncoder\n",
    "testing_df = train_df.copy()\n",
    "testing_df['Weekday'] = LabelEncoder().fit_transform(list(testing_df['Weekday']))\n",
    "department_list = list(train_df['DepartmentDescription'])\n",
    "testing_df = train_df[['VisitNumber','Weekday']].drop_duplicates()\n",
    "\n",
    "for i in range(len(fineline_list)):\n",
    "    df=data[(data['DepartmentDescription']==department_list[i]) & (data['ScanCount']<0)]\n",
    "    df = df.groupby('VisitNumber',as_index='False')['ScanCount'].sum()\n",
    "#     df.rename(columns={'ScanCount': str(i)}, inplace=True)\n",
    "    new_data3 = new_data.merge(testing_df, how='left', on=['VisitNumber'], copy=True)\n",
    "#     new_data[str(i)].fillna(value=0, inplace=True)\n",
    "#     new_data.drop('Weekday', axis=1, inplace=True)   "
   ]
  },
  {
   "cell_type": "code",
   "execution_count": null,
   "metadata": {},
   "outputs": [],
   "source": [
    "new_data3"
   ]
  },
  {
   "cell_type": "code",
   "execution_count": null,
   "metadata": {},
   "outputs": [],
   "source": [
    "def Department_Counts_Multiple_Rows(data, department_list):\n",
    "\n",
    "    new_data=data[['VisitNumber', 'Weekday']].drop_duplicates()\n",
    "    for i in range(len(department_list)):\n",
    "       df=data[data['DepartmentDescription']==department_list[i]]\n",
    "       df = df.groupby(['VisitNumber', 'FinelineNumber'], as_index=False)['Upc'].count()\n",
    "       df[df['Upc']==1]=0\n",
    "       df = df.groupby(['VisitNumber'], as_index=False)['Upc'].sum()\n",
    "       df.rename(columns={'Upc': 'D3_%s' % (i)}, inplace=True)\n",
    "       new_data = new_data.merge(df, how='left', on=['VisitNumber'], copy=True)\n",
    "       new_data['D3_%s' % (i)].fillna(value=0, inplace=True)\n",
    "    new_data.drop('Weekday', axis=1, inplace=True)   \n",
    "    return new_data "
   ]
  },
  {
   "cell_type": "code",
   "execution_count": null,
   "metadata": {},
   "outputs": [],
   "source": [
    "from sklearn.preprocessing import LabelEncoder\n",
    "testing_df = train_df.copy()\n",
    "testing_df['Weekday'] = LabelEncoder().fit_transform(list(testing_df['Weekday']))\n",
    "department_list = list(train_df['DepartmentDescription'])\n",
    "testing_df = train_df[['VisitNumber','Weekday']].drop_duplicates()\n",
    "\n",
    "for i in range(len(fineline_list)):\n",
    "    df = train_df[train_df['DepartmentDescription']==department_list[i]]\n",
    "    df = df.groupby(['VisitNumber', 'FinelineNumber'], as_index=False)['Company'].count()\n",
    "#     df.rename(columns={'ScanCount': str(i)}, inplace=True)\n",
    "    new_data4 = new_data.merge(testing_df, how='left', on=['VisitNumber'], copy=True)\n",
    "#     new_data[str(i)].fillna(value=0, inplace=True)\n",
    "#     new_data.drop('Weekday', axis=1, inplace=True)   "
   ]
  },
  {
   "cell_type": "code",
   "execution_count": null,
   "metadata": {},
   "outputs": [],
   "source": [
    "new_data4"
   ]
  },
  {
   "cell_type": "code",
   "execution_count": null,
   "metadata": {},
   "outputs": [],
   "source": [
    "def Department_Counts_Rows_Pos_ScanCount(data, department_list):\n",
    "\n",
    "    new_data=data[['VisitNumber', 'Weekday']].drop_duplicates()\n",
    "    for i in range(len(department_list)):\n",
    "       df=data[(data['DepartmentDescription']==department_list[i]) & (data['ScanCount']>0)]\n",
    "       df = df.groupby(['VisitNumber'], as_index=False)['ScanCount'].count()\n",
    "       df = df.groupby(['VisitNumber'], as_index=False)['ScanCount'].sum()\n",
    "       df.rename(columns={'ScanCount': 'D4_%s' % (i)}, inplace=True)\n",
    "       new_data = new_data.merge(df, how='left', on=['VisitNumber'], copy=True)\n",
    "       new_data['D4_%s' % (i)].fillna(value=0, inplace=True)\n",
    "    new_data.drop('Weekday', axis=1, inplace=True)   \n",
    "    return new_data "
   ]
  },
  {
   "cell_type": "code",
   "execution_count": null,
   "metadata": {},
   "outputs": [],
   "source": [
    "from sklearn.preprocessing import LabelEncoder\n",
    "testing_df = train_df.copy()\n",
    "testing_df['Weekday'] = LabelEncoder().fit_transform(list(testing_df['Weekday']))\n",
    "department_list = list(train_df['DepartmentDescription'])\n",
    "testing_df = train_df[['VisitNumber','Weekday']].drop_duplicates()\n",
    "\n",
    "for i in range(len(department_list)):\n",
    "    df=data[(data['DepartmentDescription']==department_list[i]) & (data['ScanCount']>0)]\n",
    "    df = df.groupby(['VisitNumber'], as_index=False)['ScanCount'].count()\n",
    "    df = df.groupby(['VisitNumber'], as_index=False)['ScanCount'].sum()\n",
    "#  df.rename(columns={'ScanCount': str(i)}, inplace=True)\n",
    "    new_data5 = new_data.merge(testing_df, how='left', on=['VisitNumber'], copy=True)\n",
    "#     new_data[str(i)].fillna(value=0, inplace=True)\n",
    "#     new_data.drop('Weekday', axis=1, inplace=True)   "
   ]
  },
  {
   "cell_type": "code",
   "execution_count": null,
   "metadata": {},
   "outputs": [],
   "source": [
    "new_data5"
   ]
  },
  {
   "cell_type": "code",
   "execution_count": null,
   "metadata": {},
   "outputs": [],
   "source": [
    "def Department_Counts_Rows_Neg_Scancount(data, department_list):\n",
    "\n",
    "    new_data=data[['VisitNumber', 'Weekday']].drop_duplicates()\n",
    "    for i in range(len(department_list)):\n",
    "       df=data[(data['DepartmentDescription']==department_list[i]) & (data['ScanCount']<0)]\n",
    "       df = df.groupby(['VisitNumber'], as_index=False)['Upc'].count()\n",
    "       df = df.groupby(['VisitNumber'], as_index=False)['Upc'].sum()\n",
    "       df.rename(columns={'Upc': 'D5_%s' % (i)}, inplace=True)\n",
    "       new_data = new_data.merge(df, how='left', on=['VisitNumber'], copy=True)\n",
    "       new_data['D5_%s' % (i)].fillna(value=0, inplace=True)\n",
    "    new_data.drop('Weekday', axis=1, inplace=True)   \n",
    "    return new_data "
   ]
  },
  {
   "cell_type": "code",
   "execution_count": null,
   "metadata": {},
   "outputs": [],
   "source": [
    "from sklearn.preprocessing import LabelEncoder\n",
    "testing_df = train_df.copy()\n",
    "testing_df['Weekday'] = LabelEncoder().fit_transform(list(testing_df['Weekday']))\n",
    "department_list = list(train_df['DepartmentDescription'])\n",
    "testing_df = train_df[['VisitNumber','Weekday']].drop_duplicates()\n",
    "\n",
    "for i in range(len(department_list)):\n",
    "    df=data[(data['DepartmentDescription']==department_list[i]) & (data['ScanCount']<0)]\n",
    "    df = df.groupby(['VisitNumber'], as_index=False)['Company'].count()\n",
    "    df = df.groupby(['VisitNumber'], as_index=False)['Company'].sum()\n",
    "#  df.rename(columns={'ScanCount': str(i)}, inplace=True)\n",
    "    new_data6 = new_data.merge(testing_df, how='left', on=['VisitNumber'], copy=True)\n",
    "#     new_data[str(i)].fillna(value=0, inplace=True)\n",
    "#     new_data.drop('Weekday', axis=1, inplace=True)   "
   ]
  },
  {
   "cell_type": "code",
   "execution_count": null,
   "metadata": {},
   "outputs": [],
   "source": [
    "new_data6"
   ]
  }
 ],
 "metadata": {
  "kernelspec": {
   "display_name": "Python 3",
   "language": "python",
   "name": "python3"
  },
  "language_info": {
   "codemirror_mode": {
    "name": "ipython",
    "version": 3
   },
   "file_extension": ".py",
   "mimetype": "text/x-python",
   "name": "python",
   "nbconvert_exporter": "python",
   "pygments_lexer": "ipython3",
   "version": "3.6.5"
  }
 },
 "nbformat": 4,
 "nbformat_minor": 2
}
