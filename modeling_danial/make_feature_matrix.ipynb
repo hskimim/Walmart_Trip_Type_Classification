{
 "cells": [
  {
   "cell_type": "code",
   "execution_count": 1,
   "metadata": {},
   "outputs": [
    {
     "name": "stdout",
     "output_type": "stream",
     "text": [
      "Train data :  (647054, 7)\n",
      "Test  data :  (653646, 6)\n",
      "submission  data :  (95674, 39)\n"
     ]
    }
   ],
   "source": [
    "# Import the functions used in this project\n",
    "import awesome_functions as af\n",
    "\n",
    "# Pretty display for notebooks\n",
    "%matplotlib inline\n",
    "\n",
    "# Ignore the warnings\n",
    "import warnings\n",
    "warnings.filterwarnings('ignore')\n",
    "\n",
    "# Load the dataset\n",
    "train = pd.read_csv(\"../asset/train.csv\")\n",
    "test = pd.read_csv(\"../asset/test.csv\")\n",
    "submission = pd.read_csv(\"../asset/sample_submission.csv\")\n",
    "\n",
    "# Success - Display the first record\n",
    "print(\"Train data : \", train.shape)\n",
    "print(\"Test  data : \", test.shape)\n",
    "print(\"submission  data : \", submission.shape)\n",
    "\n",
    "from sklearn.metrics import confusion_matrix\n",
    "from sklearn.metrics import classification_report\n",
    "import pickle as pkl\n",
    "# slack_url = pkl.load(open(\"Slack_url/send_url.pickle\", \"rb\"))\n",
    "\n",
    "# 원본을 유지하기 위해서 카피\n",
    "df_train = train.copy()\n",
    "df_test = test.copy()\n",
    "df_submission = submission.copy()"
   ]
  },
  {
   "cell_type": "code",
   "execution_count": 5,
   "metadata": {
    "scrolled": true
   },
   "outputs": [
    {
     "data": {
      "text/markdown": [
       "##### Dummy타입으로 만든 컬럼 명 : DepartmentDescription"
      ],
      "text/plain": [
       "<IPython.core.display.Markdown object>"
      ]
     },
     "metadata": {},
     "output_type": "display_data"
    },
    {
     "data": {
      "text/markdown": [
       "##### ScanCount는 양수만 사용"
      ],
      "text/plain": [
       "<IPython.core.display.Markdown object>"
      ]
     },
     "metadata": {},
     "output_type": "display_data"
    },
    {
     "data": {
      "text/markdown": [
       "##### Train df 만드는 중"
      ],
      "text/plain": [
       "<IPython.core.display.Markdown object>"
      ]
     },
     "metadata": {},
     "output_type": "display_data"
    },
    {
     "data": {
      "text/markdown": [
       "##### Null 컬럼을 만듬"
      ],
      "text/plain": [
       "<IPython.core.display.Markdown object>"
      ]
     },
     "metadata": {},
     "output_type": "display_data"
    },
    {
     "name": "stdout",
     "output_type": "stream",
     "text": [
      "\n"
     ]
    },
    {
     "data": {
      "text/markdown": [
       "> 위 정보들을 Display하는 이유는 이번 FeatureMatrix를 사용한 모델에 Fit할 Test 모델 만들 때 같은 전처리를 하기 위해서다."
      ],
      "text/plain": [
       "<IPython.core.display.Markdown object>"
      ]
     },
     "metadata": {},
     "output_type": "display_data"
    },
    {
     "name": "stdout",
     "output_type": "stream",
     "text": [
      "CPU times: user 2.14 s, sys: 843 ms, total: 2.98 s\n",
      "Wall time: 2.98 s\n"
     ]
    }
   ],
   "source": [
    "%time df_train_dd = af.make_df_we_wanted(df_train, df_train, df_test, is_need_null_column=True)\n",
    "af.saveDataFrameToCsv(df_train_dd, \"df_train_dd\")\n",
    "# af.sendSlackDm(slack_url, \"Done df_train_dd\")"
   ]
  },
  {
   "cell_type": "code",
   "execution_count": 6,
   "metadata": {},
   "outputs": [
    {
     "data": {
      "text/markdown": [
       "##### Dummy타입으로 만든 컬럼 명 : FinelineNumber"
      ],
      "text/plain": [
       "<IPython.core.display.Markdown object>"
      ]
     },
     "metadata": {},
     "output_type": "display_data"
    },
    {
     "data": {
      "text/markdown": [
       "##### ScanCount는 양수만 사용"
      ],
      "text/plain": [
       "<IPython.core.display.Markdown object>"
      ]
     },
     "metadata": {},
     "output_type": "display_data"
    },
    {
     "data": {
      "text/markdown": [
       "##### Train df 만드는 중"
      ],
      "text/plain": [
       "<IPython.core.display.Markdown object>"
      ]
     },
     "metadata": {},
     "output_type": "display_data"
    },
    {
     "data": {
      "text/markdown": [
       "##### Null 컬럼을 만듬"
      ],
      "text/plain": [
       "<IPython.core.display.Markdown object>"
      ]
     },
     "metadata": {},
     "output_type": "display_data"
    },
    {
     "name": "stdout",
     "output_type": "stream",
     "text": [
      "\n"
     ]
    },
    {
     "data": {
      "text/markdown": [
       "> 위 정보들을 Display하는 이유는 이번 FeatureMatrix를 사용한 모델에 Fit할 Test 모델 만들 때 같은 전처리를 하기 위해서다."
      ],
      "text/plain": [
       "<IPython.core.display.Markdown object>"
      ]
     },
     "metadata": {},
     "output_type": "display_data"
    },
    {
     "data": {
      "text/markdown": [
       "##### 이 작업은 데이터프레임을 반환하는     함수이므로 변수로 받아주셔야합니다!! 오래 걸리는 작업이므로 지금 실수하셨다면 빨리 커널 종료하고 다시 시도해주세요."
      ],
      "text/plain": [
       "<IPython.core.display.Markdown object>"
      ]
     },
     "metadata": {},
     "output_type": "display_data"
    },
    {
     "name": "stdout",
     "output_type": "stream",
     "text": [
      "0명 진행됨. 아직 95674명 데이터 남음.\n",
      "5000명 진행됨. 아직 90674명 데이터 남음.\n",
      "10000명 진행됨. 아직 85674명 데이터 남음.\n",
      "15000명 진행됨. 아직 80674명 데이터 남음.\n",
      "20000명 진행됨. 아직 75674명 데이터 남음.\n",
      "25000명 진행됨. 아직 70674명 데이터 남음.\n",
      "30000명 진행됨. 아직 65674명 데이터 남음.\n",
      "35000명 진행됨. 아직 60674명 데이터 남음.\n",
      "40000명 진행됨. 아직 55674명 데이터 남음.\n",
      "45000명 진행됨. 아직 50674명 데이터 남음.\n",
      "50000명 진행됨. 아직 45674명 데이터 남음.\n",
      "55000명 진행됨. 아직 40674명 데이터 남음.\n",
      "60000명 진행됨. 아직 35674명 데이터 남음.\n",
      "65000명 진행됨. 아직 30674명 데이터 남음.\n",
      "70000명 진행됨. 아직 25674명 데이터 남음.\n",
      "75000명 진행됨. 아직 20674명 데이터 남음.\n",
      "80000명 진행됨. 아직 15674명 데이터 남음.\n",
      "85000명 진행됨. 아직 10674명 데이터 남음.\n",
      "90000명 진행됨. 아직 5674명 데이터 남음.\n",
      "95000명 진행됨. 아직 674명 데이터 남음.\n",
      "CPU times: user 11min 27s, sys: 1min 45s, total: 13min 12s\n",
      "Wall time: 13min 35s\n"
     ]
    }
   ],
   "source": [
    "%time df_train_fl = af.make_df_we_wanted(df_train, df_train, df_test, dummie_col=\"FinelineNumber\", is_need_null_column=True)\n",
    "af.saveDataFrameToCsv(df_train_fl, \"df_train_fl\")\n",
    "# af.sendSlackDm(slack_url, \"Done df_train_fl\")"
   ]
  },
  {
   "cell_type": "code",
   "execution_count": 7,
   "metadata": {},
   "outputs": [
    {
     "data": {
      "text/markdown": [
       "##### Dummy타입으로 만든 컬럼 명 : DepartmentDescription"
      ],
      "text/plain": [
       "<IPython.core.display.Markdown object>"
      ]
     },
     "metadata": {},
     "output_type": "display_data"
    },
    {
     "data": {
      "text/markdown": [
       "##### ScanCount는 양수만 사용"
      ],
      "text/plain": [
       "<IPython.core.display.Markdown object>"
      ]
     },
     "metadata": {},
     "output_type": "display_data"
    },
    {
     "data": {
      "text/markdown": [
       "##### Test df 만드는 중"
      ],
      "text/plain": [
       "<IPython.core.display.Markdown object>"
      ]
     },
     "metadata": {},
     "output_type": "display_data"
    },
    {
     "data": {
      "text/markdown": [
       "##### Null 컬럼을 만듬"
      ],
      "text/plain": [
       "<IPython.core.display.Markdown object>"
      ]
     },
     "metadata": {},
     "output_type": "display_data"
    },
    {
     "name": "stdout",
     "output_type": "stream",
     "text": [
      "\n",
      "CPU times: user 2.16 s, sys: 939 ms, total: 3.1 s\n",
      "Wall time: 3.12 s\n"
     ]
    }
   ],
   "source": [
    "%time df_test_dd = af.make_df_we_wanted(df_test, df_train, df_test, is_test_df=True, is_need_null_column=True)\n",
    "af.saveDataFrameToCsv(df_test_dd, \"df_test_dd\")\n",
    "# af.sendSlackDm(slack_url, \"Done df_test_dd\")"
   ]
  },
  {
   "cell_type": "code",
   "execution_count": 8,
   "metadata": {},
   "outputs": [
    {
     "data": {
      "text/markdown": [
       "##### Dummy타입으로 만든 컬럼 명 : FinelineNumber"
      ],
      "text/plain": [
       "<IPython.core.display.Markdown object>"
      ]
     },
     "metadata": {},
     "output_type": "display_data"
    },
    {
     "data": {
      "text/markdown": [
       "##### ScanCount는 양수만 사용"
      ],
      "text/plain": [
       "<IPython.core.display.Markdown object>"
      ]
     },
     "metadata": {},
     "output_type": "display_data"
    },
    {
     "data": {
      "text/markdown": [
       "##### Test df 만드는 중"
      ],
      "text/plain": [
       "<IPython.core.display.Markdown object>"
      ]
     },
     "metadata": {},
     "output_type": "display_data"
    },
    {
     "data": {
      "text/markdown": [
       "##### Null 컬럼을 만듬"
      ],
      "text/plain": [
       "<IPython.core.display.Markdown object>"
      ]
     },
     "metadata": {},
     "output_type": "display_data"
    },
    {
     "name": "stdout",
     "output_type": "stream",
     "text": [
      "\n"
     ]
    },
    {
     "data": {
      "text/markdown": [
       "##### 이 작업은 데이터프레임을 반환하는     함수이므로 변수로 받아주셔야합니다!! 오래 걸리는 작업이므로 지금 실수하셨다면 빨리 커널 종료하고 다시 시도해주세요."
      ],
      "text/plain": [
       "<IPython.core.display.Markdown object>"
      ]
     },
     "metadata": {},
     "output_type": "display_data"
    },
    {
     "name": "stdout",
     "output_type": "stream",
     "text": [
      "0명 진행됨. 아직 95674명 데이터 남음.\n",
      "5000명 진행됨. 아직 90674명 데이터 남음.\n",
      "10000명 진행됨. 아직 85674명 데이터 남음.\n",
      "15000명 진행됨. 아직 80674명 데이터 남음.\n",
      "20000명 진행됨. 아직 75674명 데이터 남음.\n",
      "25000명 진행됨. 아직 70674명 데이터 남음.\n",
      "30000명 진행됨. 아직 65674명 데이터 남음.\n",
      "35000명 진행됨. 아직 60674명 데이터 남음.\n",
      "40000명 진행됨. 아직 55674명 데이터 남음.\n",
      "45000명 진행됨. 아직 50674명 데이터 남음.\n",
      "50000명 진행됨. 아직 45674명 데이터 남음.\n",
      "55000명 진행됨. 아직 40674명 데이터 남음.\n",
      "60000명 진행됨. 아직 35674명 데이터 남음.\n",
      "65000명 진행됨. 아직 30674명 데이터 남음.\n",
      "70000명 진행됨. 아직 25674명 데이터 남음.\n",
      "75000명 진행됨. 아직 20674명 데이터 남음.\n",
      "80000명 진행됨. 아직 15674명 데이터 남음.\n",
      "85000명 진행됨. 아직 10674명 데이터 남음.\n",
      "90000명 진행됨. 아직 5674명 데이터 남음.\n",
      "95000명 진행됨. 아직 674명 데이터 남음.\n",
      "CPU times: user 11min 12s, sys: 1min 54s, total: 13min 6s\n",
      "Wall time: 13min 42s\n"
     ]
    }
   ],
   "source": [
    "%time df_test_fl = af.make_df_we_wanted(df_test, df_train, df_test, dummie_col=\"FinelineNumber\", is_test_df=True, is_need_null_column=True)\n",
    "af.saveDataFrameToCsv(df_test_fl, \"df_test_fl\")\n",
    "# af.sendSlackDm(slack_url, \"Done df_test_fl\")"
   ]
  },
  {
   "cell_type": "code",
   "execution_count": 10,
   "metadata": {},
   "outputs": [
    {
     "data": {
      "text/plain": [
       "(5364, 5363)"
      ]
     },
     "execution_count": 10,
     "metadata": {},
     "output_type": "execute_result"
    }
   ],
   "source": [
    "len(df_train_fl.columns), len(df_test_fl.columns)"
   ]
  },
  {
   "cell_type": "code",
   "execution_count": 11,
   "metadata": {},
   "outputs": [
    {
     "data": {
      "text/plain": [
       "(79, 78)"
      ]
     },
     "execution_count": 11,
     "metadata": {},
     "output_type": "execute_result"
    }
   ],
   "source": [
    "len(df_train_dd.columns), len(df_test_dd.columns)"
   ]
  },
  {
   "cell_type": "code",
   "execution_count": null,
   "metadata": {},
   "outputs": [],
   "source": []
  }
 ],
 "metadata": {
  "kernelspec": {
   "display_name": "Python 3",
   "language": "python",
   "name": "python3"
  },
  "language_info": {
   "codemirror_mode": {
    "name": "ipython",
    "version": 3
   },
   "file_extension": ".py",
   "mimetype": "text/x-python",
   "name": "python",
   "nbconvert_exporter": "python",
   "pygments_lexer": "ipython3",
   "version": "3.6.5"
  }
 },
 "nbformat": 4,
 "nbformat_minor": 2
}
