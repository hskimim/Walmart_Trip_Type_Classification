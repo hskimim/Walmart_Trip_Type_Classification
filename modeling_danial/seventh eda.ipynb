{
 "cells": [
  {
   "cell_type": "code",
   "execution_count": 1,
   "metadata": {},
   "outputs": [
    {
     "name": "stdout",
     "output_type": "stream",
     "text": [
      "Train data :  (647054, 7)\n",
      "Test  data :  (653646, 6)\n",
      "submission  data :  (95674, 39)\n"
     ]
    }
   ],
   "source": [
    "# Import the functions used in this project\n",
    "from private_pkg.functions import *\n",
    "\n",
    "# Pretty display for notebooks\n",
    "%matplotlib inline\n",
    "\n",
    "# Ignore the warnings\n",
    "import warnings\n",
    "warnings.filterwarnings('ignore')\n",
    "\n",
    "# Load the dataset\n",
    "train = pd.read_csv(\"../asset/train.csv\")\n",
    "test = pd.read_csv(\"../asset/test.csv\")\n",
    "submission = pd.read_csv(\"../asset/sample_submission.csv\")\n",
    "\n",
    "# Success - Display the first record\n",
    "print(\"Train data : \", train.shape)\n",
    "print(\"Test  data : \", test.shape)\n",
    "print(\"submission  data : \", submission.shape)\n",
    "\n",
    "from sklearn.metrics import confusion_matrix\n",
    "from sklearn.metrics import classification_report\n",
    "from sklearn.naive_bayes import MultinomialNB\n",
    "def fitNaiveBayesModel(X, y):\n",
    "    return MultinomialNB().fit(X, y)\n",
    "import xgboost\n",
    "model_xgb = xgboost.XGBClassifier(n_estimators=100, max_depth=2)\n",
    "\n",
    "# 원본을 유지하기 위해서 카피\n",
    "df_train = train.copy()\n",
    "df_test = test.copy()\n",
    "df_submission = submission.copy()"
   ]
  },
  {
   "cell_type": "code",
   "execution_count": 21,
   "metadata": {},
   "outputs": [],
   "source": [
    "import pickle as pkl\n",
    "slack_url = pkl.load(open(\"send_url.pickle\", \"rb\"))"
   ]
  },
  {
   "cell_type": "code",
   "execution_count": 2,
   "metadata": {},
   "outputs": [
    {
     "data": {
      "text/markdown": [
       "##### makeDfWeWanted함수는 !! 데이터프레임을 반환하는     함수이므로 변수로 받아주셔야합니다!! 오래 걸리는 작업(맥북 프로 기준 3분)이므로 지금 실수하셨다면 빨리 커널 종료하고 다시 시도해주세요."
      ],
      "text/plain": [
       "<IPython.core.display.Markdown object>"
      ]
     },
     "metadata": {},
     "output_type": "display_data"
    },
    {
     "name": "stdout",
     "output_type": "stream",
     "text": [
      "0명 진행됨. 아직 95674명 데이터 남음.\n",
      "5000명 진행됨. 아직 90674명 데이터 남음.\n",
      "10000명 진행됨. 아직 85674명 데이터 남음.\n",
      "15000명 진행됨. 아직 80674명 데이터 남음.\n",
      "20000명 진행됨. 아직 75674명 데이터 남음.\n",
      "25000명 진행됨. 아직 70674명 데이터 남음.\n",
      "30000명 진행됨. 아직 65674명 데이터 남음.\n",
      "35000명 진행됨. 아직 60674명 데이터 남음.\n",
      "40000명 진행됨. 아직 55674명 데이터 남음.\n",
      "45000명 진행됨. 아직 50674명 데이터 남음.\n",
      "50000명 진행됨. 아직 45674명 데이터 남음.\n",
      "55000명 진행됨. 아직 40674명 데이터 남음.\n",
      "60000명 진행됨. 아직 35674명 데이터 남음.\n",
      "65000명 진행됨. 아직 30674명 데이터 남음.\n",
      "70000명 진행됨. 아직 25674명 데이터 남음.\n",
      "75000명 진행됨. 아직 20674명 데이터 남음.\n",
      "80000명 진행됨. 아직 15674명 데이터 남음.\n",
      "85000명 진행됨. 아직 10674명 데이터 남음.\n",
      "90000명 진행됨. 아직 5674명 데이터 남음.\n",
      "95000명 진행됨. 아직 674명 데이터 남음.\n"
     ]
    }
   ],
   "source": [
    "df_train_fl = makeDfWeWanted(df = df_train, df_train = df_train, df_test = df_test, group_by_col_name=\"FinelineNumber\")"
   ]
  },
  {
   "cell_type": "code",
   "execution_count": 4,
   "metadata": {},
   "outputs": [],
   "source": [
    "cols = getColsToMakeFeatureMatrix(df_test, df_train, True)"
   ]
  },
  {
   "cell_type": "code",
   "execution_count": 12,
   "metadata": {},
   "outputs": [],
   "source": [
    "cols = [float(col) for col in cols[1:]]"
   ]
  },
  {
   "cell_type": "code",
   "execution_count": 14,
   "metadata": {},
   "outputs": [],
   "source": [
    "X_fl = df_train_fl[cols]"
   ]
  },
  {
   "cell_type": "code",
   "execution_count": 16,
   "metadata": {},
   "outputs": [],
   "source": [
    "y = df_train_fl[\"TripType\"]"
   ]
  },
  {
   "cell_type": "code",
   "execution_count": 17,
   "metadata": {},
   "outputs": [],
   "source": [
    "model_fl = fitNaiveBayesModel(X_fl, y)"
   ]
  },
  {
   "cell_type": "code",
   "execution_count": 18,
   "metadata": {},
   "outputs": [],
   "source": [
    "y_pred_fl_naive = model_fl.predict(X_fl)"
   ]
  },
  {
   "cell_type": "code",
   "execution_count": 19,
   "metadata": {},
   "outputs": [
    {
     "data": {
      "text/markdown": [
       "##### Accuracy : 0.5478"
      ],
      "text/plain": [
       "<IPython.core.display.Markdown object>"
      ]
     },
     "metadata": {},
     "output_type": "display_data"
    }
   ],
   "source": [
    "getAccuracy(y, y_pred_fl_naive, len(X_fl))"
   ]
  },
  {
   "cell_type": "code",
   "execution_count": 20,
   "metadata": {},
   "outputs": [],
   "source": [
    "saveDataFrameToCsv(df_train_fl, \"df_train_proper_fl\")"
   ]
  },
  {
   "cell_type": "code",
   "execution_count": 23,
   "metadata": {},
   "outputs": [
    {
     "data": {
      "text/markdown": [
       "##### makeDfWeWanted함수는 !! 데이터프레임을 반환하는     함수이므로 변수로 받아주셔야합니다!! 오래 걸리는 작업(맥북 프로 기준 3분)이므로 지금 실수하셨다면 빨리 커널 종료하고 다시 시도해주세요."
      ],
      "text/plain": [
       "<IPython.core.display.Markdown object>"
      ]
     },
     "metadata": {},
     "output_type": "display_data"
    },
    {
     "name": "stdout",
     "output_type": "stream",
     "text": [
      "0명 진행됨. 아직 95674명 데이터 남음.\n",
      "5000명 진행됨. 아직 90674명 데이터 남음.\n",
      "10000명 진행됨. 아직 85674명 데이터 남음.\n",
      "15000명 진행됨. 아직 80674명 데이터 남음.\n",
      "20000명 진행됨. 아직 75674명 데이터 남음.\n",
      "25000명 진행됨. 아직 70674명 데이터 남음.\n",
      "30000명 진행됨. 아직 65674명 데이터 남음.\n",
      "35000명 진행됨. 아직 60674명 데이터 남음.\n",
      "40000명 진행됨. 아직 55674명 데이터 남음.\n",
      "45000명 진행됨. 아직 50674명 데이터 남음.\n",
      "50000명 진행됨. 아직 45674명 데이터 남음.\n",
      "55000명 진행됨. 아직 40674명 데이터 남음.\n",
      "60000명 진행됨. 아직 35674명 데이터 남음.\n",
      "65000명 진행됨. 아직 30674명 데이터 남음.\n",
      "70000명 진행됨. 아직 25674명 데이터 남음.\n",
      "75000명 진행됨. 아직 20674명 데이터 남음.\n",
      "80000명 진행됨. 아직 15674명 데이터 남음.\n",
      "85000명 진행됨. 아직 10674명 데이터 남음.\n",
      "90000명 진행됨. 아직 5674명 데이터 남음.\n",
      "95000명 진행됨. 아직 674명 데이터 남음.\n"
     ]
    }
   ],
   "source": [
    "df_test_fl = makeDfWeWanted(df = df_test, df_train = df_train, df_test = df_test, group_by_col_name=\"FinelineNumber\")\n",
    "sendSlackDm(slack_url, \"df는 완료\")\n",
    "saveDataFrameToCsv(df_test_fl, \"df_test_proper_fl\")\n",
    "sendSlackDm(slack_url, \"저장까지 완료\")"
   ]
  },
  {
   "cell_type": "code",
   "execution_count": 24,
   "metadata": {},
   "outputs": [],
   "source": [
    "X_test_fl = df_test_fl[cols]"
   ]
  },
  {
   "cell_type": "code",
   "execution_count": 25,
   "metadata": {},
   "outputs": [],
   "source": [
    "y_pred_test_naive = model_fl.predict(X_test_fl)"
   ]
  },
  {
   "cell_type": "code",
   "execution_count": 27,
   "metadata": {},
   "outputs": [],
   "source": [
    "y_pred_test_naive_proba = model_fl.predict_proba(X_test_fl)"
   ]
  },
  {
   "cell_type": "code",
   "execution_count": 28,
   "metadata": {},
   "outputs": [],
   "source": [
    "df_submit_naive_proba_fl = makeSubmissionDf(submission, y_pred_test_naive_proba)"
   ]
  },
  {
   "cell_type": "code",
   "execution_count": 30,
   "metadata": {},
   "outputs": [],
   "source": [
    "saveDataFrameToCsv(df_submit_naive_proba_fl, \"submit_proba_naive\")"
   ]
  },
  {
   "cell_type": "code",
   "execution_count": null,
   "metadata": {},
   "outputs": [],
   "source": []
  },
  {
   "cell_type": "code",
   "execution_count": null,
   "metadata": {},
   "outputs": [],
   "source": []
  },
  {
   "cell_type": "code",
   "execution_count": null,
   "metadata": {},
   "outputs": [],
   "source": []
  },
  {
   "cell_type": "code",
   "execution_count": null,
   "metadata": {},
   "outputs": [],
   "source": []
  },
  {
   "cell_type": "code",
   "execution_count": null,
   "metadata": {},
   "outputs": [],
   "source": []
  },
  {
   "cell_type": "code",
   "execution_count": null,
   "metadata": {},
   "outputs": [],
   "source": []
  },
  {
   "cell_type": "code",
   "execution_count": null,
   "metadata": {},
   "outputs": [],
   "source": []
  }
 ],
 "metadata": {
  "kernelspec": {
   "display_name": "Python 3",
   "language": "python",
   "name": "python3"
  },
  "language_info": {
   "codemirror_mode": {
    "name": "ipython",
    "version": 3
   },
   "file_extension": ".py",
   "mimetype": "text/x-python",
   "name": "python",
   "nbconvert_exporter": "python",
   "pygments_lexer": "ipython3",
   "version": "3.6.5"
  }
 },
 "nbformat": 4,
 "nbformat_minor": 2
}
