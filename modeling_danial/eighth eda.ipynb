{
 "cells": [
  {
   "cell_type": "code",
   "execution_count": 1,
   "metadata": {},
   "outputs": [
    {
     "name": "stdout",
     "output_type": "stream",
     "text": [
      "Train data :  (647054, 7)\n",
      "Test  data :  (653646, 6)\n",
      "submission  data :  (95674, 39)\n"
     ]
    }
   ],
   "source": [
    "# Import the functions used in this project\n",
    "from private_pkg.functions import *\n",
    "\n",
    "# Pretty display for notebooks\n",
    "%matplotlib inline\n",
    "\n",
    "# Ignore the warnings\n",
    "import warnings\n",
    "warnings.filterwarnings('ignore')\n",
    "\n",
    "# Load the dataset\n",
    "train = pd.read_csv(\"../asset/train.csv\")\n",
    "test = pd.read_csv(\"../asset/test.csv\")\n",
    "submission = pd.read_csv(\"../asset/sample_submission.csv\")\n",
    "\n",
    "# Success - Display the first record\n",
    "print(\"Train data : \", train.shape)\n",
    "print(\"Test  data : \", test.shape)\n",
    "print(\"submission  data : \", submission.shape)\n",
    "\n",
    "from sklearn.metrics import confusion_matrix\n",
    "from sklearn.metrics import classification_report\n",
    "from sklearn.naive_bayes import MultinomialNB\n",
    "def fitNaiveBayesModel(X, y):\n",
    "    return MultinomialNB().fit(X, y)\n",
    "import xgboost\n",
    "model_xgb = xgboost.XGBClassifier(n_estimators=100, max_depth=2)\n",
    "\n",
    "# 원본을 유지하기 위해서 카피\n",
    "df_train = train.copy()\n",
    "df_test = test.copy()\n",
    "df_submission = submission.copy()"
   ]
  },
  {
   "cell_type": "code",
   "execution_count": 2,
   "metadata": {},
   "outputs": [],
   "source": [
    "import pickle as pkl\n",
    "slack_url = pkl.load(open(\"send_url.pickle\", \"rb\"))"
   ]
  },
  {
   "cell_type": "code",
   "execution_count": 3,
   "metadata": {},
   "outputs": [
    {
     "data": {
      "text/markdown": [
       "##### makeDfWeWanted함수는 !! 데이터프레임을 반환하는     함수이므로 변수로 받아주셔야합니다!! 오래 걸리는 작업(맥북 프로 기준 3분)이므로 지금 실수하셨다면 빨리 커널 종료하고 다시 시도해주세요."
      ],
      "text/plain": [
       "<IPython.core.display.Markdown object>"
      ]
     },
     "metadata": {},
     "output_type": "display_data"
    },
    {
     "name": "stdout",
     "output_type": "stream",
     "text": [
      "0명 진행됨. 아직 95674명 데이터 남음.\n",
      "5000명 진행됨. 아직 90674명 데이터 남음.\n",
      "10000명 진행됨. 아직 85674명 데이터 남음.\n",
      "15000명 진행됨. 아직 80674명 데이터 남음.\n",
      "20000명 진행됨. 아직 75674명 데이터 남음.\n",
      "25000명 진행됨. 아직 70674명 데이터 남음.\n",
      "30000명 진행됨. 아직 65674명 데이터 남음.\n",
      "35000명 진행됨. 아직 60674명 데이터 남음.\n",
      "40000명 진행됨. 아직 55674명 데이터 남음.\n",
      "45000명 진행됨. 아직 50674명 데이터 남음.\n",
      "50000명 진행됨. 아직 45674명 데이터 남음.\n",
      "55000명 진행됨. 아직 40674명 데이터 남음.\n",
      "60000명 진행됨. 아직 35674명 데이터 남음.\n",
      "65000명 진행됨. 아직 30674명 데이터 남음.\n",
      "70000명 진행됨. 아직 25674명 데이터 남음.\n",
      "75000명 진행됨. 아직 20674명 데이터 남음.\n",
      "80000명 진행됨. 아직 15674명 데이터 남음.\n",
      "85000명 진행됨. 아직 10674명 데이터 남음.\n",
      "90000명 진행됨. 아직 5674명 데이터 남음.\n",
      "95000명 진행됨. 아직 674명 데이터 남음.\n"
     ]
    },
    {
     "data": {
      "text/markdown": [
       "##### makeDfWeWanted함수는 !! 데이터프레임을 반환하는     함수이므로 변수로 받아주셔야합니다!! 오래 걸리는 작업(맥북 프로 기준 3분)이므로 지금 실수하셨다면 빨리 커널 종료하고 다시 시도해주세요."
      ],
      "text/plain": [
       "<IPython.core.display.Markdown object>"
      ]
     },
     "metadata": {},
     "output_type": "display_data"
    },
    {
     "name": "stdout",
     "output_type": "stream",
     "text": [
      "0명 진행됨. 아직 95674명 데이터 남음.\n",
      "5000명 진행됨. 아직 90674명 데이터 남음.\n",
      "10000명 진행됨. 아직 85674명 데이터 남음.\n",
      "15000명 진행됨. 아직 80674명 데이터 남음.\n",
      "20000명 진행됨. 아직 75674명 데이터 남음.\n",
      "25000명 진행됨. 아직 70674명 데이터 남음.\n",
      "30000명 진행됨. 아직 65674명 데이터 남음.\n",
      "35000명 진행됨. 아직 60674명 데이터 남음.\n",
      "40000명 진행됨. 아직 55674명 데이터 남음.\n",
      "45000명 진행됨. 아직 50674명 데이터 남음.\n",
      "50000명 진행됨. 아직 45674명 데이터 남음.\n",
      "55000명 진행됨. 아직 40674명 데이터 남음.\n",
      "60000명 진행됨. 아직 35674명 데이터 남음.\n",
      "65000명 진행됨. 아직 30674명 데이터 남음.\n",
      "70000명 진행됨. 아직 25674명 데이터 남음.\n",
      "75000명 진행됨. 아직 20674명 데이터 남음.\n",
      "80000명 진행됨. 아직 15674명 데이터 남음.\n",
      "85000명 진행됨. 아직 10674명 데이터 남음.\n",
      "90000명 진행됨. 아직 5674명 데이터 남음.\n",
      "95000명 진행됨. 아직 674명 데이터 남음.\n"
     ]
    }
   ],
   "source": [
    "df_train_dd = makeDfWeWanted(df = df_train, df_train = df_train, df_test = df_test, is_model_for_multinomial=False)\n",
    "sendSlackDm(slack_url, \"df_train_dd은 완료\")\n",
    "saveDataFrameToCsv(df_train_dd, \"df_train_proper_dd_include_negative_sc\")\n",
    "sendSlackDm(slack_url, \"df_train_dd저장까지 완료\")\n",
    "\n",
    "df_test_dd = makeDfWeWanted(df = df_test, df_train = df_train, df_test = df_test, is_model_for_multinomial=False)\n",
    "sendSlackDm(slack_url, \"df_test_dd은 완료\")\n",
    "saveDataFrameToCsv(df_test_dd, \"df_test_proper_dd_include_negative_sc\")\n",
    "sendSlackDm(slack_url, \"df_test_dd저장까지 완료\")"
   ]
  },
  {
   "cell_type": "code",
   "execution_count": 4,
   "metadata": {},
   "outputs": [],
   "source": [
    "cols = getColsToMakeFeatureMatrix(df_test, df_train, False)"
   ]
  },
  {
   "cell_type": "code",
   "execution_count": 12,
   "metadata": {},
   "outputs": [],
   "source": [
    "cols = [float(a) for a in cols]"
   ]
  },
  {
   "cell_type": "code",
   "execution_count": 5,
   "metadata": {},
   "outputs": [],
   "source": [
    "X = df_train_dd[cols]\n",
    "y = df_train_dd[\"TripType\"]"
   ]
  },
  {
   "cell_type": "code",
   "execution_count": 7,
   "metadata": {},
   "outputs": [
    {
     "name": "stdout",
     "output_type": "stream",
     "text": [
      "CPU times: user 8min 4s, sys: 624 ms, total: 8min 5s\n",
      "Wall time: 8min 5s\n"
     ]
    },
    {
     "data": {
      "text/plain": [
       "XGBClassifier(base_score=0.5, booster='gbtree', colsample_bylevel=1,\n",
       "       colsample_bytree=1, gamma=0, learning_rate=0.1, max_delta_step=0,\n",
       "       max_depth=2, min_child_weight=1, missing=None, n_estimators=100,\n",
       "       n_jobs=1, nthread=None, objective='multi:softprob', random_state=0,\n",
       "       reg_alpha=0, reg_lambda=1, scale_pos_weight=1, seed=None,\n",
       "       silent=True, subsample=1)"
      ]
     },
     "execution_count": 7,
     "metadata": {},
     "output_type": "execute_result"
    }
   ],
   "source": [
    "%time model_xgb.fit(X, y)"
   ]
  },
  {
   "cell_type": "code",
   "execution_count": 8,
   "metadata": {},
   "outputs": [],
   "source": [
    "sendSlackDm(slack_url, \"XGBOOST fit 완료\")"
   ]
  },
  {
   "cell_type": "code",
   "execution_count": 9,
   "metadata": {},
   "outputs": [],
   "source": [
    "y_pred = model_xgb.predict(X)"
   ]
  },
  {
   "cell_type": "code",
   "execution_count": 11,
   "metadata": {},
   "outputs": [
    {
     "data": {
      "text/markdown": [
       "##### Accuracy : 0.5982"
      ],
      "text/plain": [
       "<IPython.core.display.Markdown object>"
      ]
     },
     "metadata": {},
     "output_type": "display_data"
    }
   ],
   "source": [
    "getAccuracy(y, y_pred, len(X))"
   ]
  },
  {
   "cell_type": "code",
   "execution_count": 12,
   "metadata": {},
   "outputs": [],
   "source": [
    "y_proba = model_xgb.predict_proba(X)\n",
    "sendSlackDm(slack_url, \"Done getting proba\")"
   ]
  },
  {
   "cell_type": "code",
   "execution_count": 13,
   "metadata": {},
   "outputs": [
    {
     "data": {
      "text/plain": [
       "array([[1.0222732e-03, 5.9075861e-05, 1.6566900e-03, ..., 1.7097313e-03,\n",
       "        1.4713310e-03, 8.3168072e-01],\n",
       "       [2.8795376e-03, 2.7178557e-04, 6.7521902e-03, ..., 2.1499636e-02,\n",
       "        2.2093808e-02, 6.5726720e-02],\n",
       "       [3.2383332e-04, 6.3359636e-05, 1.0769592e-03, ..., 2.3286534e-03,\n",
       "        6.6447980e-03, 6.4265467e-03],\n",
       "       ...,\n",
       "       [1.8449507e-04, 2.6510600e-03, 4.1916549e-02, ..., 4.2106858e-03,\n",
       "        1.1177650e-02, 2.0873938e-03],\n",
       "       [5.8214344e-05, 1.8855846e-03, 2.4887679e-02, ..., 1.4144488e-03,\n",
       "        2.8604523e-03, 6.4974854e-04],\n",
       "       [2.3594880e-03, 2.9972775e-04, 6.8006609e-03, ..., 8.6745070e-03,\n",
       "        8.5438574e-03, 9.1007963e-02]], dtype=float32)"
      ]
     },
     "execution_count": 13,
     "metadata": {},
     "output_type": "execute_result"
    }
   ],
   "source": [
    "y_proba"
   ]
  },
  {
   "cell_type": "code",
   "execution_count": 14,
   "metadata": {},
   "outputs": [],
   "source": [
    "submit_df = makeSubmissionDf(submission, y_proba)"
   ]
  },
  {
   "cell_type": "code",
   "execution_count": 16,
   "metadata": {},
   "outputs": [],
   "source": [
    "saveDataFrameToCsv(submit_df, \"submit_df_xgb_proba_dd_include_negative\")"
   ]
  },
  {
   "cell_type": "code",
   "execution_count": 17,
   "metadata": {},
   "outputs": [
    {
     "name": "stdout",
     "output_type": "stream",
     "text": [
      "Variable                      Type             Data/Info\n",
      "--------------------------------------------------------\n",
      "Markdown                      type             <class 'IPython.core.display.Markdown'>\n",
      "MultinomialNB                 ABCMeta          <class 'sklearn.naive_bayes.MultinomialNB'>\n",
      "X                             DataFrame               FINANCIAL SERVICES<...>[95674 rows x 69 columns]\n",
      "classification_report         function         <function classification_report at 0x1179f7c80>\n",
      "cols                          list             n=69\n",
      "compareClassificationReport   function         <function compareClassifi<...>ionReport at 0x117a4a048>\n",
      "confusion_matrix              function         <function confusion_matrix at 0x1179f76a8>\n",
      "datetime                      type             <class 'datetime.datetime'>\n",
      "df_submission                 DataFrame               VisitNumber  TripT<...>[95674 rows x 39 columns]\n",
      "df_test                       DataFrame                VisitNumber Weekd<...>[653646 rows x 6 columns]\n",
      "df_test_dd                    DataFrame               VisitNumber  FINAN<...>[95674 rows x 70 columns]\n",
      "df_train                      DataFrame                TripType  VisitNu<...>[647054 rows x 7 columns]\n",
      "df_train_dd                   DataFrame               VisitNumber  FINAN<...>[95674 rows x 71 columns]\n",
      "display                       function         <function display at 0x10f7dd378>\n",
      "displayDataByVisitNumber      function         <function displayDataByVi<...>sitNumber at 0x117a42d90>\n",
      "fitNaiveBayesModel            function         <function fitNaiveBayesModel at 0x117ae8f28>\n",
      "getAccuracy                   function         <function getAccuracy at 0x117a4a0d0>\n",
      "getColsToMakeFeatureMatrix    function         <function getColsToMakeFe<...>ureMatrix at 0x117a42f28>\n",
      "getNullDataDetailInfo         function         <function getNullDataDetailInfo at 0x1171e2c80>\n",
      "getNullDataInfo               function         <function getNullDataInfo at 0x11709a158>\n",
      "json                          module           <module 'json' from '/usr<...>hon3.6/json/__init__.py'>\n",
      "makeDfWeWanted                function         <function makeDfWeWanted at 0x117a42e18>\n",
      "makeSubmissionDf              function         <function makeSubmissionDf at 0x117a42ea0>\n",
      "model_xgb                     XGBClassifier    XGBClassifier(base_score=<...>silent=True, subsample=1)\n",
      "pkl                           module           <module 'pickle' from '/u<...>lib/python3.6/pickle.py'>\n",
      "requests                      module           <module 'requests' from '<...>es/requests/__init__.py'>\n",
      "saveDataFrameToCsv            function         <function saveDataFrameToCsv at 0x117a4a510>\n",
      "sendSlackDm                   function         <function sendSlackDm at 0x117a4a598>\n",
      "slack_url                     str              https://hooks.slack.com/s<...>/nbbRFvERR88s4ccjE1Q5XgLI\n",
      "submission                    DataFrame               VisitNumber  TripT<...>[95674 rows x 39 columns]\n",
      "submit_df                     DataFrame               VisitNumber  TripT<...>[95674 rows x 39 columns]\n",
      "test                          DataFrame                VisitNumber Weekd<...>[653646 rows x 6 columns]\n",
      "train                         DataFrame                TripType  VisitNu<...>[647054 rows x 7 columns]\n",
      "warnings                      module           <module 'warnings' from '<...>b/python3.6/warnings.py'>\n",
      "xgboost                       module           <module 'xgboost' from '/<...>ges/xgboost/__init__.py'>\n",
      "y                             Series           0        999\\n1         3<...>ngth: 95674, dtype: int64\n",
      "y_pred                        ndarray          95674: 95674 elems, type `int64`, 765392 bytes (747.453125 kb)\n",
      "y_proba                       ndarray          95674x38: 3635612 elems, type `float32`, 14542448 bytes (13.868759155273438 Mb)\n"
     ]
    }
   ],
   "source": [
    "%whos"
   ]
  },
  {
   "cell_type": "code",
   "execution_count": null,
   "metadata": {},
   "outputs": [],
   "source": []
  }
 ],
 "metadata": {
  "kernelspec": {
   "display_name": "Python 3",
   "language": "python",
   "name": "python3"
  },
  "language_info": {
   "codemirror_mode": {
    "name": "ipython",
    "version": 3
   },
   "file_extension": ".py",
   "mimetype": "text/x-python",
   "name": "python",
   "nbconvert_exporter": "python",
   "pygments_lexer": "ipython3",
   "version": "3.6.5"
  }
 },
 "nbformat": 4,
 "nbformat_minor": 2
}
