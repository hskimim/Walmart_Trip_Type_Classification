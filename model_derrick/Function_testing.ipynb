{
 "cells": [
  {
   "cell_type": "code",
   "execution_count": 33,
   "metadata": {},
   "outputs": [],
   "source": [
    "import numpy as np\n",
    "import pandas as pd\n",
    "from Unique_for_VisitNumber_and_for_TripType import *"
   ]
  },
  {
   "cell_type": "code",
   "execution_count": 34,
   "metadata": {},
   "outputs": [],
   "source": [
    "train = pd.read_csv('train.csv')\n",
    "test = pd.read_csv('test.csv')"
   ]
  },
  {
   "cell_type": "code",
   "execution_count": 35,
   "metadata": {},
   "outputs": [],
   "source": [
    "train = decodeStuffNeedsToBeDecoded(train)"
   ]
  },
  {
   "cell_type": "code",
   "execution_count": 36,
   "metadata": {},
   "outputs": [],
   "source": [
    "train_df = train.copy()\n",
    "test_df = test.copy()"
   ]
  },
  {
   "cell_type": "code",
   "execution_count": 10,
   "metadata": {
    "scrolled": true
   },
   "outputs": [
    {
     "data": {
      "text/markdown": [
       "##### Upc 만드는 중, 상대적으로 가장 오랜 시간이 걸립니다."
      ],
      "text/plain": [
       "<IPython.core.display.Markdown object>"
      ]
     },
     "metadata": {},
     "output_type": "display_data"
    }
   ],
   "source": [
    "train_un_tt_upc =  unique_for_triptype(train_df,\"Upc\")\n",
    "# test_un_tt_upc = unique_for_triptype(test_df,\"Upc\")"
   ]
  },
  {
   "cell_type": "code",
   "execution_count": 11,
   "metadata": {},
   "outputs": [
    {
     "data": {
      "text/markdown": [
       "##### FinelineNumber 만드는 중"
      ],
      "text/plain": [
       "<IPython.core.display.Markdown object>"
      ]
     },
     "metadata": {},
     "output_type": "display_data"
    }
   ],
   "source": [
    "train_un_tt_fl = unique_for_triptype(train_df,'FinelineNumber')\n",
    "# test_un_tt_fl = unique_for_triptype(test_df,'FinelineNumber')"
   ]
  },
  {
   "cell_type": "code",
   "execution_count": 12,
   "metadata": {},
   "outputs": [
    {
     "data": {
      "text/markdown": [
       "##### DepartmentDescription 만드는 중"
      ],
      "text/plain": [
       "<IPython.core.display.Markdown object>"
      ]
     },
     "metadata": {},
     "output_type": "display_data"
    }
   ],
   "source": [
    "train_un_tt_dd = unique_for_triptype(train_df)\n",
    "# test_un_tt_dd = unique_for_triptype(test_df)"
   ]
  },
  {
   "cell_type": "code",
   "execution_count": 13,
   "metadata": {
    "scrolled": true
   },
   "outputs": [
    {
     "data": {
      "text/markdown": [
       "##### Upc 만드는 중, 상대적으로 가장 오랜 시간이 걸립니다. (2분 정도 소요 예상)"
      ],
      "text/plain": [
       "<IPython.core.display.Markdown object>"
      ]
     },
     "metadata": {},
     "output_type": "display_data"
    },
    {
     "name": "stdout",
     "output_type": "stream",
     "text": [
      "CPU times: user 1min 22s, sys: 0 ns, total: 1min 22s\n",
      "Wall time: 1min 22s\n"
     ]
    }
   ],
   "source": [
    "train_un_vs_upc = %time unique_for_visitnumber(train_df,'Upc')\n",
    "# test_un_vs_upc = %time unique_for_visitnumber(test_df,'Upc')"
   ]
  },
  {
   "cell_type": "code",
   "execution_count": 14,
   "metadata": {},
   "outputs": [
    {
     "data": {
      "text/markdown": [
       "##### FinelineNumber 만드는 중"
      ],
      "text/plain": [
       "<IPython.core.display.Markdown object>"
      ]
     },
     "metadata": {},
     "output_type": "display_data"
    }
   ],
   "source": [
    "train_un_vs_fl = unique_for_visitnumber(train_df,'FinelineNumber')\n",
    "# test_un_vs_fl = unique_for_visitnumber(test_df,'FinelineNumber')"
   ]
  },
  {
   "cell_type": "code",
   "execution_count": 15,
   "metadata": {},
   "outputs": [
    {
     "data": {
      "text/markdown": [
       "##### DepartmentDescription 만드는 중"
      ],
      "text/plain": [
       "<IPython.core.display.Markdown object>"
      ]
     },
     "metadata": {},
     "output_type": "display_data"
    }
   ],
   "source": [
    "train_un_vs_dd = unique_for_visitnumber(train_df)\n",
    "# test_un_vs_dd = unique_for_visitnumber(test_df)"
   ]
  },
  {
   "cell_type": "code",
   "execution_count": 16,
   "metadata": {},
   "outputs": [
    {
     "data": {
      "text/html": [
       "<div>\n",
       "<style scoped>\n",
       "    .dataframe tbody tr th:only-of-type {\n",
       "        vertical-align: middle;\n",
       "    }\n",
       "\n",
       "    .dataframe tbody tr th {\n",
       "        vertical-align: top;\n",
       "    }\n",
       "\n",
       "    .dataframe thead th {\n",
       "        text-align: right;\n",
       "    }\n",
       "</style>\n",
       "<table border=\"1\" class=\"dataframe\">\n",
       "  <thead>\n",
       "    <tr style=\"text-align: right;\">\n",
       "      <th></th>\n",
       "      <th>TripType</th>\n",
       "      <th>VisitNumber</th>\n",
       "      <th>Weekday</th>\n",
       "      <th>Upc</th>\n",
       "      <th>ScanCount</th>\n",
       "      <th>DepartmentDescription</th>\n",
       "      <th>FinelineNumber</th>\n",
       "      <th>Company</th>\n",
       "    </tr>\n",
       "  </thead>\n",
       "  <tbody>\n",
       "    <tr>\n",
       "      <th>647049</th>\n",
       "      <td>39</td>\n",
       "      <td>191346</td>\n",
       "      <td>Sunday</td>\n",
       "      <td>323900017788</td>\n",
       "      <td>1</td>\n",
       "      <td>PHARMACY OTC</td>\n",
       "      <td>1118</td>\n",
       "      <td>323900</td>\n",
       "    </tr>\n",
       "    <tr>\n",
       "      <th>647050</th>\n",
       "      <td>39</td>\n",
       "      <td>191346</td>\n",
       "      <td>Sunday</td>\n",
       "      <td>078742053363</td>\n",
       "      <td>1</td>\n",
       "      <td>FROZEN FOODS</td>\n",
       "      <td>1752</td>\n",
       "      <td>078742</td>\n",
       "    </tr>\n",
       "    <tr>\n",
       "      <th>647051</th>\n",
       "      <td>39</td>\n",
       "      <td>191346</td>\n",
       "      <td>Sunday</td>\n",
       "      <td>000000040723</td>\n",
       "      <td>1</td>\n",
       "      <td>PRODUCE</td>\n",
       "      <td>4170</td>\n",
       "      <td>40</td>\n",
       "    </tr>\n",
       "    <tr>\n",
       "      <th>647052</th>\n",
       "      <td>8</td>\n",
       "      <td>191347</td>\n",
       "      <td>Sunday</td>\n",
       "      <td>041900076641</td>\n",
       "      <td>1</td>\n",
       "      <td>DAIRY</td>\n",
       "      <td>1512</td>\n",
       "      <td>041900</td>\n",
       "    </tr>\n",
       "    <tr>\n",
       "      <th>647053</th>\n",
       "      <td>8</td>\n",
       "      <td>191347</td>\n",
       "      <td>Sunday</td>\n",
       "      <td>038000596551</td>\n",
       "      <td>1</td>\n",
       "      <td>GROCERY DRY GOODS</td>\n",
       "      <td>3600</td>\n",
       "      <td>038000</td>\n",
       "    </tr>\n",
       "  </tbody>\n",
       "</table>\n",
       "</div>"
      ],
      "text/plain": [
       "        TripType  VisitNumber Weekday           Upc  ScanCount  \\\n",
       "647049        39       191346  Sunday  323900017788          1   \n",
       "647050        39       191346  Sunday  078742053363          1   \n",
       "647051        39       191346  Sunday  000000040723          1   \n",
       "647052         8       191347  Sunday  041900076641          1   \n",
       "647053         8       191347  Sunday  038000596551          1   \n",
       "\n",
       "       DepartmentDescription FinelineNumber Company  \n",
       "647049          PHARMACY OTC           1118  323900  \n",
       "647050          FROZEN FOODS           1752  078742  \n",
       "647051               PRODUCE           4170      40  \n",
       "647052                 DAIRY           1512  041900  \n",
       "647053     GROCERY DRY GOODS           3600  038000  "
      ]
     },
     "execution_count": 16,
     "metadata": {},
     "output_type": "execute_result"
    }
   ],
   "source": [
    "train_df.tail()"
   ]
  },
  {
   "cell_type": "code",
   "execution_count": 17,
   "metadata": {},
   "outputs": [],
   "source": [
    "# test_df.tail()"
   ]
  },
  {
   "cell_type": "code",
   "execution_count": 18,
   "metadata": {},
   "outputs": [],
   "source": [
    "train_un_tt = merging_unique_df(train_un_tt_dd,train_un_tt_fl,train_un_tt_upc,'TripType')\n",
    "# test_un_tt = merging_unique_df(test_un_tt_dd,test_un_tt_fl,test_un_tt_upc,'TripType')"
   ]
  },
  {
   "cell_type": "code",
   "execution_count": 19,
   "metadata": {},
   "outputs": [],
   "source": [
    "train_un_vs = merging_unique_df(train_un_vs_dd,train_un_vs_fl,train_un_vs_upc,'VisitNumber')\n",
    "# test_un_vs = merging_unique_df(test_un_vs_dd,test_un_vs_fl,test_un_vs_upc,'VisitNumber')"
   ]
  },
  {
   "cell_type": "code",
   "execution_count": 20,
   "metadata": {
    "scrolled": true
   },
   "outputs": [
    {
     "data": {
      "text/html": [
       "<div>\n",
       "<style scoped>\n",
       "    .dataframe tbody tr th:only-of-type {\n",
       "        vertical-align: middle;\n",
       "    }\n",
       "\n",
       "    .dataframe tbody tr th {\n",
       "        vertical-align: top;\n",
       "    }\n",
       "\n",
       "    .dataframe thead th {\n",
       "        text-align: right;\n",
       "    }\n",
       "</style>\n",
       "<table border=\"1\" class=\"dataframe\">\n",
       "  <thead>\n",
       "    <tr style=\"text-align: right;\">\n",
       "      <th></th>\n",
       "      <th>TripType</th>\n",
       "      <th>unique_for_triptype_x</th>\n",
       "      <th>unique_for_triptype_y</th>\n",
       "      <th>unique_for_triptype</th>\n",
       "    </tr>\n",
       "  </thead>\n",
       "  <tbody>\n",
       "    <tr>\n",
       "      <th>33</th>\n",
       "      <td>41</td>\n",
       "      <td>65</td>\n",
       "      <td>1970</td>\n",
       "      <td>4459</td>\n",
       "    </tr>\n",
       "    <tr>\n",
       "      <th>34</th>\n",
       "      <td>42</td>\n",
       "      <td>64</td>\n",
       "      <td>3337</td>\n",
       "      <td>14115</td>\n",
       "    </tr>\n",
       "    <tr>\n",
       "      <th>35</th>\n",
       "      <td>43</td>\n",
       "      <td>62</td>\n",
       "      <td>2005</td>\n",
       "      <td>5049</td>\n",
       "    </tr>\n",
       "    <tr>\n",
       "      <th>36</th>\n",
       "      <td>44</td>\n",
       "      <td>64</td>\n",
       "      <td>3276</td>\n",
       "      <td>14412</td>\n",
       "    </tr>\n",
       "    <tr>\n",
       "      <th>37</th>\n",
       "      <td>999</td>\n",
       "      <td>68</td>\n",
       "      <td>2920</td>\n",
       "      <td>9534</td>\n",
       "    </tr>\n",
       "  </tbody>\n",
       "</table>\n",
       "</div>"
      ],
      "text/plain": [
       "    TripType  unique_for_triptype_x  unique_for_triptype_y  \\\n",
       "33        41                     65                   1970   \n",
       "34        42                     64                   3337   \n",
       "35        43                     62                   2005   \n",
       "36        44                     64                   3276   \n",
       "37       999                     68                   2920   \n",
       "\n",
       "    unique_for_triptype  \n",
       "33                 4459  \n",
       "34                14115  \n",
       "35                 5049  \n",
       "36                14412  \n",
       "37                 9534  "
      ]
     },
     "execution_count": 20,
     "metadata": {},
     "output_type": "execute_result"
    }
   ],
   "source": [
    "train_un_tt.tail()"
   ]
  },
  {
   "cell_type": "code",
   "execution_count": 24,
   "metadata": {},
   "outputs": [
    {
     "data": {
      "text/html": [
       "<div>\n",
       "<style scoped>\n",
       "    .dataframe tbody tr th:only-of-type {\n",
       "        vertical-align: middle;\n",
       "    }\n",
       "\n",
       "    .dataframe tbody tr th {\n",
       "        vertical-align: top;\n",
       "    }\n",
       "\n",
       "    .dataframe thead th {\n",
       "        text-align: right;\n",
       "    }\n",
       "</style>\n",
       "<table border=\"1\" class=\"dataframe\">\n",
       "  <thead>\n",
       "    <tr style=\"text-align: right;\">\n",
       "      <th></th>\n",
       "      <th>VisitNumber</th>\n",
       "      <th>Num_DepartmentDescription</th>\n",
       "      <th>Num_FinelineNumber</th>\n",
       "      <th>Num_Upc</th>\n",
       "    </tr>\n",
       "  </thead>\n",
       "  <tbody>\n",
       "    <tr>\n",
       "      <th>95669</th>\n",
       "      <td>191343</td>\n",
       "      <td>3</td>\n",
       "      <td>5</td>\n",
       "      <td>7</td>\n",
       "    </tr>\n",
       "    <tr>\n",
       "      <th>95670</th>\n",
       "      <td>191344</td>\n",
       "      <td>2</td>\n",
       "      <td>3</td>\n",
       "      <td>5</td>\n",
       "    </tr>\n",
       "    <tr>\n",
       "      <th>95671</th>\n",
       "      <td>191345</td>\n",
       "      <td>8</td>\n",
       "      <td>12</td>\n",
       "      <td>13</td>\n",
       "    </tr>\n",
       "    <tr>\n",
       "      <th>95672</th>\n",
       "      <td>191346</td>\n",
       "      <td>8</td>\n",
       "      <td>16</td>\n",
       "      <td>17</td>\n",
       "    </tr>\n",
       "    <tr>\n",
       "      <th>95673</th>\n",
       "      <td>191347</td>\n",
       "      <td>2</td>\n",
       "      <td>2</td>\n",
       "      <td>2</td>\n",
       "    </tr>\n",
       "  </tbody>\n",
       "</table>\n",
       "</div>"
      ],
      "text/plain": [
       "       VisitNumber  Num_DepartmentDescription  Num_FinelineNumber  Num_Upc\n",
       "95669       191343                          3                   5        7\n",
       "95670       191344                          2                   3        5\n",
       "95671       191345                          8                  12       13\n",
       "95672       191346                          8                  16       17\n",
       "95673       191347                          2                   2        2"
      ]
     },
     "execution_count": 24,
     "metadata": {},
     "output_type": "execute_result"
    }
   ],
   "source": [
    "train_un_vs.tail()"
   ]
  },
  {
   "cell_type": "code",
   "execution_count": 37,
   "metadata": {},
   "outputs": [
    {
     "data": {
      "text/html": [
       "<div>\n",
       "<style scoped>\n",
       "    .dataframe tbody tr th:only-of-type {\n",
       "        vertical-align: middle;\n",
       "    }\n",
       "\n",
       "    .dataframe tbody tr th {\n",
       "        vertical-align: top;\n",
       "    }\n",
       "\n",
       "    .dataframe thead th {\n",
       "        text-align: right;\n",
       "    }\n",
       "</style>\n",
       "<table border=\"1\" class=\"dataframe\">\n",
       "  <thead>\n",
       "    <tr style=\"text-align: right;\">\n",
       "      <th></th>\n",
       "      <th>TripType</th>\n",
       "      <th>VisitNumber</th>\n",
       "      <th>Weekday</th>\n",
       "      <th>Upc</th>\n",
       "      <th>ScanCount</th>\n",
       "      <th>DepartmentDescription</th>\n",
       "      <th>FinelineNumber</th>\n",
       "      <th>Company</th>\n",
       "    </tr>\n",
       "  </thead>\n",
       "  <tbody>\n",
       "    <tr>\n",
       "      <th>647049</th>\n",
       "      <td>39</td>\n",
       "      <td>191346</td>\n",
       "      <td>Sunday</td>\n",
       "      <td>323900017788</td>\n",
       "      <td>1</td>\n",
       "      <td>PHARMACY OTC</td>\n",
       "      <td>1118</td>\n",
       "      <td>323900</td>\n",
       "    </tr>\n",
       "    <tr>\n",
       "      <th>647050</th>\n",
       "      <td>39</td>\n",
       "      <td>191346</td>\n",
       "      <td>Sunday</td>\n",
       "      <td>078742053363</td>\n",
       "      <td>1</td>\n",
       "      <td>FROZEN FOODS</td>\n",
       "      <td>1752</td>\n",
       "      <td>078742</td>\n",
       "    </tr>\n",
       "    <tr>\n",
       "      <th>647051</th>\n",
       "      <td>39</td>\n",
       "      <td>191346</td>\n",
       "      <td>Sunday</td>\n",
       "      <td>000000040723</td>\n",
       "      <td>1</td>\n",
       "      <td>PRODUCE</td>\n",
       "      <td>4170</td>\n",
       "      <td>40</td>\n",
       "    </tr>\n",
       "    <tr>\n",
       "      <th>647052</th>\n",
       "      <td>8</td>\n",
       "      <td>191347</td>\n",
       "      <td>Sunday</td>\n",
       "      <td>041900076641</td>\n",
       "      <td>1</td>\n",
       "      <td>DAIRY</td>\n",
       "      <td>1512</td>\n",
       "      <td>041900</td>\n",
       "    </tr>\n",
       "    <tr>\n",
       "      <th>647053</th>\n",
       "      <td>8</td>\n",
       "      <td>191347</td>\n",
       "      <td>Sunday</td>\n",
       "      <td>038000596551</td>\n",
       "      <td>1</td>\n",
       "      <td>GROCERY DRY GOODS</td>\n",
       "      <td>3600</td>\n",
       "      <td>038000</td>\n",
       "    </tr>\n",
       "  </tbody>\n",
       "</table>\n",
       "</div>"
      ],
      "text/plain": [
       "        TripType  VisitNumber Weekday           Upc  ScanCount  \\\n",
       "647049        39       191346  Sunday  323900017788          1   \n",
       "647050        39       191346  Sunday  078742053363          1   \n",
       "647051        39       191346  Sunday  000000040723          1   \n",
       "647052         8       191347  Sunday  041900076641          1   \n",
       "647053         8       191347  Sunday  038000596551          1   \n",
       "\n",
       "       DepartmentDescription FinelineNumber Company  \n",
       "647049          PHARMACY OTC           1118  323900  \n",
       "647050          FROZEN FOODS           1752  078742  \n",
       "647051               PRODUCE           4170      40  \n",
       "647052                 DAIRY           1512  041900  \n",
       "647053     GROCERY DRY GOODS           3600  038000  "
      ]
     },
     "execution_count": 37,
     "metadata": {},
     "output_type": "execute_result"
    }
   ],
   "source": [
    "train_df.tail()"
   ]
  },
  {
   "cell_type": "code",
   "execution_count": 38,
   "metadata": {},
   "outputs": [
    {
     "data": {
      "text/markdown": [
       "##### Dummy타입으로 만든 컬럼 명 : DepartmentDescription"
      ],
      "text/plain": [
       "<IPython.core.display.Markdown object>"
      ]
     },
     "metadata": {},
     "output_type": "display_data"
    },
    {
     "data": {
      "text/markdown": [
       "##### ScanCount는 양수만 사용"
      ],
      "text/plain": [
       "<IPython.core.display.Markdown object>"
      ]
     },
     "metadata": {},
     "output_type": "display_data"
    },
    {
     "data": {
      "text/markdown": [
       "##### Train df 만드는 중"
      ],
      "text/plain": [
       "<IPython.core.display.Markdown object>"
      ]
     },
     "metadata": {},
     "output_type": "display_data"
    },
    {
     "data": {
      "text/markdown": [
       "##### Null 컬럼을 만듬"
      ],
      "text/plain": [
       "<IPython.core.display.Markdown object>"
      ]
     },
     "metadata": {},
     "output_type": "display_data"
    },
    {
     "name": "stdout",
     "output_type": "stream",
     "text": [
      "\n"
     ]
    },
    {
     "data": {
      "text/markdown": [
       "> 위 정보들을 Display하는 이유는 이번 FeatureMatrix를 사용한 모델에 Fit할 Test 모델 만들 때 같은 전처리를 하기 위해서다."
      ],
      "text/plain": [
       "<IPython.core.display.Markdown object>"
      ]
     },
     "metadata": {},
     "output_type": "display_data"
    }
   ],
   "source": [
    "from awesome_functions import *\n",
    "train_df = make_df_we_wanted(train_df,train_df,test,is_need_null_column=True)"
   ]
  },
  {
   "cell_type": "code",
   "execution_count": 39,
   "metadata": {},
   "outputs": [
    {
     "data": {
      "text/html": [
       "<div>\n",
       "<style scoped>\n",
       "    .dataframe tbody tr th:only-of-type {\n",
       "        vertical-align: middle;\n",
       "    }\n",
       "\n",
       "    .dataframe tbody tr th {\n",
       "        vertical-align: top;\n",
       "    }\n",
       "\n",
       "    .dataframe thead th {\n",
       "        text-align: right;\n",
       "    }\n",
       "</style>\n",
       "<table border=\"1\" class=\"dataframe\">\n",
       "  <thead>\n",
       "    <tr style=\"text-align: right;\">\n",
       "      <th></th>\n",
       "      <th>VisitNumber</th>\n",
       "      <th>TripType</th>\n",
       "      <th>Company</th>\n",
       "      <th>Return</th>\n",
       "      <th>1-HR PHOTO</th>\n",
       "      <th>ACCESSORIES</th>\n",
       "      <th>AUTOMOTIVE</th>\n",
       "      <th>BAKERY</th>\n",
       "      <th>BATH AND SHOWER</th>\n",
       "      <th>BEAUTY</th>\n",
       "      <th>...</th>\n",
       "      <th>SWIMWEAR/OUTERWEAR</th>\n",
       "      <th>TOYS</th>\n",
       "      <th>WIRELESS</th>\n",
       "      <th>Monday</th>\n",
       "      <th>Tuesday</th>\n",
       "      <th>Wednesday</th>\n",
       "      <th>Thursday</th>\n",
       "      <th>Friday</th>\n",
       "      <th>Saturday</th>\n",
       "      <th>Sunday</th>\n",
       "    </tr>\n",
       "  </thead>\n",
       "  <tbody>\n",
       "    <tr>\n",
       "      <th>95669</th>\n",
       "      <td>191343</td>\n",
       "      <td>25</td>\n",
       "      <td>0</td>\n",
       "      <td>0</td>\n",
       "      <td>0</td>\n",
       "      <td>0</td>\n",
       "      <td>0</td>\n",
       "      <td>0</td>\n",
       "      <td>0</td>\n",
       "      <td>0</td>\n",
       "      <td>...</td>\n",
       "      <td>0</td>\n",
       "      <td>0</td>\n",
       "      <td>0</td>\n",
       "      <td>0</td>\n",
       "      <td>0</td>\n",
       "      <td>0</td>\n",
       "      <td>0</td>\n",
       "      <td>0</td>\n",
       "      <td>0</td>\n",
       "      <td>1</td>\n",
       "    </tr>\n",
       "    <tr>\n",
       "      <th>95670</th>\n",
       "      <td>191344</td>\n",
       "      <td>22</td>\n",
       "      <td>0</td>\n",
       "      <td>0</td>\n",
       "      <td>0</td>\n",
       "      <td>0</td>\n",
       "      <td>0</td>\n",
       "      <td>0</td>\n",
       "      <td>0</td>\n",
       "      <td>4</td>\n",
       "      <td>...</td>\n",
       "      <td>0</td>\n",
       "      <td>0</td>\n",
       "      <td>1</td>\n",
       "      <td>0</td>\n",
       "      <td>0</td>\n",
       "      <td>0</td>\n",
       "      <td>0</td>\n",
       "      <td>0</td>\n",
       "      <td>0</td>\n",
       "      <td>1</td>\n",
       "    </tr>\n",
       "    <tr>\n",
       "      <th>95671</th>\n",
       "      <td>191345</td>\n",
       "      <td>39</td>\n",
       "      <td>0</td>\n",
       "      <td>0</td>\n",
       "      <td>0</td>\n",
       "      <td>0</td>\n",
       "      <td>0</td>\n",
       "      <td>0</td>\n",
       "      <td>0</td>\n",
       "      <td>1</td>\n",
       "      <td>...</td>\n",
       "      <td>0</td>\n",
       "      <td>0</td>\n",
       "      <td>0</td>\n",
       "      <td>0</td>\n",
       "      <td>0</td>\n",
       "      <td>0</td>\n",
       "      <td>0</td>\n",
       "      <td>0</td>\n",
       "      <td>0</td>\n",
       "      <td>1</td>\n",
       "    </tr>\n",
       "    <tr>\n",
       "      <th>95672</th>\n",
       "      <td>191346</td>\n",
       "      <td>39</td>\n",
       "      <td>0</td>\n",
       "      <td>0</td>\n",
       "      <td>0</td>\n",
       "      <td>0</td>\n",
       "      <td>0</td>\n",
       "      <td>0</td>\n",
       "      <td>0</td>\n",
       "      <td>0</td>\n",
       "      <td>...</td>\n",
       "      <td>0</td>\n",
       "      <td>0</td>\n",
       "      <td>0</td>\n",
       "      <td>0</td>\n",
       "      <td>0</td>\n",
       "      <td>0</td>\n",
       "      <td>0</td>\n",
       "      <td>0</td>\n",
       "      <td>0</td>\n",
       "      <td>1</td>\n",
       "    </tr>\n",
       "    <tr>\n",
       "      <th>95673</th>\n",
       "      <td>191347</td>\n",
       "      <td>8</td>\n",
       "      <td>0</td>\n",
       "      <td>0</td>\n",
       "      <td>0</td>\n",
       "      <td>0</td>\n",
       "      <td>0</td>\n",
       "      <td>0</td>\n",
       "      <td>0</td>\n",
       "      <td>0</td>\n",
       "      <td>...</td>\n",
       "      <td>0</td>\n",
       "      <td>0</td>\n",
       "      <td>0</td>\n",
       "      <td>0</td>\n",
       "      <td>0</td>\n",
       "      <td>0</td>\n",
       "      <td>0</td>\n",
       "      <td>0</td>\n",
       "      <td>0</td>\n",
       "      <td>1</td>\n",
       "    </tr>\n",
       "  </tbody>\n",
       "</table>\n",
       "<p>5 rows × 80 columns</p>\n",
       "</div>"
      ],
      "text/plain": [
       "      VisitNumber TripType Company Return 1-HR PHOTO ACCESSORIES AUTOMOTIVE  \\\n",
       "95669      191343       25       0      0          0           0          0   \n",
       "95670      191344       22       0      0          0           0          0   \n",
       "95671      191345       39       0      0          0           0          0   \n",
       "95672      191346       39       0      0          0           0          0   \n",
       "95673      191347        8       0      0          0           0          0   \n",
       "\n",
       "      BAKERY BATH AND SHOWER BEAUTY  ...   SWIMWEAR/OUTERWEAR TOYS WIRELESS  \\\n",
       "95669      0               0      0  ...                    0    0        0   \n",
       "95670      0               0      4  ...                    0    0        1   \n",
       "95671      0               0      1  ...                    0    0        0   \n",
       "95672      0               0      0  ...                    0    0        0   \n",
       "95673      0               0      0  ...                    0    0        0   \n",
       "\n",
       "      Monday Tuesday Wednesday Thursday Friday Saturday Sunday  \n",
       "95669      0       0         0        0      0        0      1  \n",
       "95670      0       0         0        0      0        0      1  \n",
       "95671      0       0         0        0      0        0      1  \n",
       "95672      0       0         0        0      0        0      1  \n",
       "95673      0       0         0        0      0        0      1  \n",
       "\n",
       "[5 rows x 80 columns]"
      ]
     },
     "execution_count": 39,
     "metadata": {},
     "output_type": "execute_result"
    }
   ],
   "source": [
    "train_df.tail()"
   ]
  },
  {
   "cell_type": "code",
   "execution_count": 47,
   "metadata": {
    "scrolled": false
   },
   "outputs": [],
   "source": [
    "train_df = train_df.merge(train_un_vs,on='VisitNumber')"
   ]
  },
  {
   "cell_type": "code",
   "execution_count": 54,
   "metadata": {},
   "outputs": [
    {
     "data": {
      "text/html": [
       "<div>\n",
       "<style scoped>\n",
       "    .dataframe tbody tr th:only-of-type {\n",
       "        vertical-align: middle;\n",
       "    }\n",
       "\n",
       "    .dataframe tbody tr th {\n",
       "        vertical-align: top;\n",
       "    }\n",
       "\n",
       "    .dataframe thead th {\n",
       "        text-align: right;\n",
       "    }\n",
       "</style>\n",
       "<table border=\"1\" class=\"dataframe\">\n",
       "  <thead>\n",
       "    <tr style=\"text-align: right;\">\n",
       "      <th></th>\n",
       "      <th>VisitNumber</th>\n",
       "      <th>TripType</th>\n",
       "      <th>Company</th>\n",
       "      <th>Return</th>\n",
       "      <th>1-HR PHOTO</th>\n",
       "      <th>ACCESSORIES</th>\n",
       "      <th>AUTOMOTIVE</th>\n",
       "      <th>BAKERY</th>\n",
       "      <th>BATH AND SHOWER</th>\n",
       "      <th>BEAUTY</th>\n",
       "      <th>...</th>\n",
       "      <th>Monday</th>\n",
       "      <th>Tuesday</th>\n",
       "      <th>Wednesday</th>\n",
       "      <th>Thursday</th>\n",
       "      <th>Friday</th>\n",
       "      <th>Saturday</th>\n",
       "      <th>Sunday</th>\n",
       "      <th>Num_DepartmentDescription</th>\n",
       "      <th>Num_FinelineNumber</th>\n",
       "      <th>Num_Upc</th>\n",
       "    </tr>\n",
       "  </thead>\n",
       "  <tbody>\n",
       "    <tr>\n",
       "      <th>95669</th>\n",
       "      <td>191343</td>\n",
       "      <td>25</td>\n",
       "      <td>0</td>\n",
       "      <td>0</td>\n",
       "      <td>0</td>\n",
       "      <td>0</td>\n",
       "      <td>0</td>\n",
       "      <td>0</td>\n",
       "      <td>0</td>\n",
       "      <td>0</td>\n",
       "      <td>...</td>\n",
       "      <td>0</td>\n",
       "      <td>0</td>\n",
       "      <td>0</td>\n",
       "      <td>0</td>\n",
       "      <td>0</td>\n",
       "      <td>0</td>\n",
       "      <td>1</td>\n",
       "      <td>3</td>\n",
       "      <td>5</td>\n",
       "      <td>7</td>\n",
       "    </tr>\n",
       "    <tr>\n",
       "      <th>95670</th>\n",
       "      <td>191344</td>\n",
       "      <td>22</td>\n",
       "      <td>0</td>\n",
       "      <td>0</td>\n",
       "      <td>0</td>\n",
       "      <td>0</td>\n",
       "      <td>0</td>\n",
       "      <td>0</td>\n",
       "      <td>0</td>\n",
       "      <td>4</td>\n",
       "      <td>...</td>\n",
       "      <td>0</td>\n",
       "      <td>0</td>\n",
       "      <td>0</td>\n",
       "      <td>0</td>\n",
       "      <td>0</td>\n",
       "      <td>0</td>\n",
       "      <td>1</td>\n",
       "      <td>2</td>\n",
       "      <td>3</td>\n",
       "      <td>5</td>\n",
       "    </tr>\n",
       "    <tr>\n",
       "      <th>95671</th>\n",
       "      <td>191345</td>\n",
       "      <td>39</td>\n",
       "      <td>0</td>\n",
       "      <td>0</td>\n",
       "      <td>0</td>\n",
       "      <td>0</td>\n",
       "      <td>0</td>\n",
       "      <td>0</td>\n",
       "      <td>0</td>\n",
       "      <td>1</td>\n",
       "      <td>...</td>\n",
       "      <td>0</td>\n",
       "      <td>0</td>\n",
       "      <td>0</td>\n",
       "      <td>0</td>\n",
       "      <td>0</td>\n",
       "      <td>0</td>\n",
       "      <td>1</td>\n",
       "      <td>8</td>\n",
       "      <td>12</td>\n",
       "      <td>13</td>\n",
       "    </tr>\n",
       "    <tr>\n",
       "      <th>95672</th>\n",
       "      <td>191346</td>\n",
       "      <td>39</td>\n",
       "      <td>0</td>\n",
       "      <td>0</td>\n",
       "      <td>0</td>\n",
       "      <td>0</td>\n",
       "      <td>0</td>\n",
       "      <td>0</td>\n",
       "      <td>0</td>\n",
       "      <td>0</td>\n",
       "      <td>...</td>\n",
       "      <td>0</td>\n",
       "      <td>0</td>\n",
       "      <td>0</td>\n",
       "      <td>0</td>\n",
       "      <td>0</td>\n",
       "      <td>0</td>\n",
       "      <td>1</td>\n",
       "      <td>8</td>\n",
       "      <td>16</td>\n",
       "      <td>17</td>\n",
       "    </tr>\n",
       "    <tr>\n",
       "      <th>95673</th>\n",
       "      <td>191347</td>\n",
       "      <td>8</td>\n",
       "      <td>0</td>\n",
       "      <td>0</td>\n",
       "      <td>0</td>\n",
       "      <td>0</td>\n",
       "      <td>0</td>\n",
       "      <td>0</td>\n",
       "      <td>0</td>\n",
       "      <td>0</td>\n",
       "      <td>...</td>\n",
       "      <td>0</td>\n",
       "      <td>0</td>\n",
       "      <td>0</td>\n",
       "      <td>0</td>\n",
       "      <td>0</td>\n",
       "      <td>0</td>\n",
       "      <td>1</td>\n",
       "      <td>2</td>\n",
       "      <td>2</td>\n",
       "      <td>2</td>\n",
       "    </tr>\n",
       "  </tbody>\n",
       "</table>\n",
       "<p>5 rows × 83 columns</p>\n",
       "</div>"
      ],
      "text/plain": [
       "      VisitNumber TripType Company Return 1-HR PHOTO ACCESSORIES AUTOMOTIVE  \\\n",
       "95669      191343       25       0      0          0           0          0   \n",
       "95670      191344       22       0      0          0           0          0   \n",
       "95671      191345       39       0      0          0           0          0   \n",
       "95672      191346       39       0      0          0           0          0   \n",
       "95673      191347        8       0      0          0           0          0   \n",
       "\n",
       "      BAKERY BATH AND SHOWER BEAUTY   ...   Monday Tuesday Wednesday Thursday  \\\n",
       "95669      0               0      0   ...        0       0         0        0   \n",
       "95670      0               0      4   ...        0       0         0        0   \n",
       "95671      0               0      1   ...        0       0         0        0   \n",
       "95672      0               0      0   ...        0       0         0        0   \n",
       "95673      0               0      0   ...        0       0         0        0   \n",
       "\n",
       "      Friday Saturday Sunday Num_DepartmentDescription Num_FinelineNumber  \\\n",
       "95669      0        0      1                         3                  5   \n",
       "95670      0        0      1                         2                  3   \n",
       "95671      0        0      1                         8                 12   \n",
       "95672      0        0      1                         8                 16   \n",
       "95673      0        0      1                         2                  2   \n",
       "\n",
       "      Num_Upc  \n",
       "95669       7  \n",
       "95670       5  \n",
       "95671      13  \n",
       "95672      17  \n",
       "95673       2  \n",
       "\n",
       "[5 rows x 83 columns]"
      ]
     },
     "execution_count": 54,
     "metadata": {},
     "output_type": "execute_result"
    }
   ],
   "source": [
    "train_df.tail()"
   ]
  },
  {
   "cell_type": "code",
   "execution_count": 82,
   "metadata": {},
   "outputs": [],
   "source": [
    "train_df.drop(columns='Company',inplace=True)"
   ]
  },
  {
   "cell_type": "code",
   "execution_count": 83,
   "metadata": {},
   "outputs": [
    {
     "data": {
      "text/html": [
       "<div>\n",
       "<style scoped>\n",
       "    .dataframe tbody tr th:only-of-type {\n",
       "        vertical-align: middle;\n",
       "    }\n",
       "\n",
       "    .dataframe tbody tr th {\n",
       "        vertical-align: top;\n",
       "    }\n",
       "\n",
       "    .dataframe thead th {\n",
       "        text-align: right;\n",
       "    }\n",
       "</style>\n",
       "<table border=\"1\" class=\"dataframe\">\n",
       "  <thead>\n",
       "    <tr style=\"text-align: right;\">\n",
       "      <th></th>\n",
       "      <th>VisitNumber</th>\n",
       "      <th>TripType</th>\n",
       "      <th>Return</th>\n",
       "      <th>1-HR PHOTO</th>\n",
       "      <th>ACCESSORIES</th>\n",
       "      <th>AUTOMOTIVE</th>\n",
       "      <th>BAKERY</th>\n",
       "      <th>BATH AND SHOWER</th>\n",
       "      <th>BEAUTY</th>\n",
       "      <th>BEDDING</th>\n",
       "      <th>...</th>\n",
       "      <th>Monday</th>\n",
       "      <th>Tuesday</th>\n",
       "      <th>Wednesday</th>\n",
       "      <th>Thursday</th>\n",
       "      <th>Friday</th>\n",
       "      <th>Saturday</th>\n",
       "      <th>Sunday</th>\n",
       "      <th>Num_DepartmentDescription</th>\n",
       "      <th>Num_FinelineNumber</th>\n",
       "      <th>Num_Upc</th>\n",
       "    </tr>\n",
       "  </thead>\n",
       "  <tbody>\n",
       "    <tr>\n",
       "      <th>95669</th>\n",
       "      <td>191343</td>\n",
       "      <td>25</td>\n",
       "      <td>0</td>\n",
       "      <td>0</td>\n",
       "      <td>0</td>\n",
       "      <td>0</td>\n",
       "      <td>0</td>\n",
       "      <td>0</td>\n",
       "      <td>0</td>\n",
       "      <td>0</td>\n",
       "      <td>...</td>\n",
       "      <td>0</td>\n",
       "      <td>0</td>\n",
       "      <td>0</td>\n",
       "      <td>0</td>\n",
       "      <td>0</td>\n",
       "      <td>0</td>\n",
       "      <td>1</td>\n",
       "      <td>3</td>\n",
       "      <td>5</td>\n",
       "      <td>7</td>\n",
       "    </tr>\n",
       "    <tr>\n",
       "      <th>95670</th>\n",
       "      <td>191344</td>\n",
       "      <td>22</td>\n",
       "      <td>0</td>\n",
       "      <td>0</td>\n",
       "      <td>0</td>\n",
       "      <td>0</td>\n",
       "      <td>0</td>\n",
       "      <td>0</td>\n",
       "      <td>4</td>\n",
       "      <td>0</td>\n",
       "      <td>...</td>\n",
       "      <td>0</td>\n",
       "      <td>0</td>\n",
       "      <td>0</td>\n",
       "      <td>0</td>\n",
       "      <td>0</td>\n",
       "      <td>0</td>\n",
       "      <td>1</td>\n",
       "      <td>2</td>\n",
       "      <td>3</td>\n",
       "      <td>5</td>\n",
       "    </tr>\n",
       "    <tr>\n",
       "      <th>95671</th>\n",
       "      <td>191345</td>\n",
       "      <td>39</td>\n",
       "      <td>0</td>\n",
       "      <td>0</td>\n",
       "      <td>0</td>\n",
       "      <td>0</td>\n",
       "      <td>0</td>\n",
       "      <td>0</td>\n",
       "      <td>1</td>\n",
       "      <td>0</td>\n",
       "      <td>...</td>\n",
       "      <td>0</td>\n",
       "      <td>0</td>\n",
       "      <td>0</td>\n",
       "      <td>0</td>\n",
       "      <td>0</td>\n",
       "      <td>0</td>\n",
       "      <td>1</td>\n",
       "      <td>8</td>\n",
       "      <td>12</td>\n",
       "      <td>13</td>\n",
       "    </tr>\n",
       "    <tr>\n",
       "      <th>95672</th>\n",
       "      <td>191346</td>\n",
       "      <td>39</td>\n",
       "      <td>0</td>\n",
       "      <td>0</td>\n",
       "      <td>0</td>\n",
       "      <td>0</td>\n",
       "      <td>0</td>\n",
       "      <td>0</td>\n",
       "      <td>0</td>\n",
       "      <td>0</td>\n",
       "      <td>...</td>\n",
       "      <td>0</td>\n",
       "      <td>0</td>\n",
       "      <td>0</td>\n",
       "      <td>0</td>\n",
       "      <td>0</td>\n",
       "      <td>0</td>\n",
       "      <td>1</td>\n",
       "      <td>8</td>\n",
       "      <td>16</td>\n",
       "      <td>17</td>\n",
       "    </tr>\n",
       "    <tr>\n",
       "      <th>95673</th>\n",
       "      <td>191347</td>\n",
       "      <td>8</td>\n",
       "      <td>0</td>\n",
       "      <td>0</td>\n",
       "      <td>0</td>\n",
       "      <td>0</td>\n",
       "      <td>0</td>\n",
       "      <td>0</td>\n",
       "      <td>0</td>\n",
       "      <td>0</td>\n",
       "      <td>...</td>\n",
       "      <td>0</td>\n",
       "      <td>0</td>\n",
       "      <td>0</td>\n",
       "      <td>0</td>\n",
       "      <td>0</td>\n",
       "      <td>0</td>\n",
       "      <td>1</td>\n",
       "      <td>2</td>\n",
       "      <td>2</td>\n",
       "      <td>2</td>\n",
       "    </tr>\n",
       "  </tbody>\n",
       "</table>\n",
       "<p>5 rows × 82 columns</p>\n",
       "</div>"
      ],
      "text/plain": [
       "      VisitNumber TripType Return 1-HR PHOTO ACCESSORIES AUTOMOTIVE BAKERY  \\\n",
       "95669      191343       25      0          0           0          0      0   \n",
       "95670      191344       22      0          0           0          0      0   \n",
       "95671      191345       39      0          0           0          0      0   \n",
       "95672      191346       39      0          0           0          0      0   \n",
       "95673      191347        8      0          0           0          0      0   \n",
       "\n",
       "      BATH AND SHOWER BEAUTY BEDDING   ...   Monday Tuesday Wednesday  \\\n",
       "95669               0      0       0   ...        0       0         0   \n",
       "95670               0      4       0   ...        0       0         0   \n",
       "95671               0      1       0   ...        0       0         0   \n",
       "95672               0      0       0   ...        0       0         0   \n",
       "95673               0      0       0   ...        0       0         0   \n",
       "\n",
       "      Thursday Friday Saturday Sunday Num_DepartmentDescription  \\\n",
       "95669        0      0        0      1                         3   \n",
       "95670        0      0        0      1                         2   \n",
       "95671        0      0        0      1                         8   \n",
       "95672        0      0        0      1                         8   \n",
       "95673        0      0        0      1                         2   \n",
       "\n",
       "      Num_FinelineNumber Num_Upc  \n",
       "95669                  5       7  \n",
       "95670                  3       5  \n",
       "95671                 12      13  \n",
       "95672                 16      17  \n",
       "95673                  2       2  \n",
       "\n",
       "[5 rows x 82 columns]"
      ]
     },
     "execution_count": 83,
     "metadata": {},
     "output_type": "execute_result"
    }
   ],
   "source": [
    "train_df.tail()"
   ]
  },
  {
   "cell_type": "code",
   "execution_count": 49,
   "metadata": {},
   "outputs": [],
   "source": [
    "train_X , train_y = get_df_to_fit(train_df)"
   ]
  },
  {
   "cell_type": "code",
   "execution_count": 59,
   "metadata": {},
   "outputs": [],
   "source": [
    "train_X.drop(columns='Company',inplace=True)"
   ]
  },
  {
   "cell_type": "code",
   "execution_count": 63,
   "metadata": {},
   "outputs": [],
   "source": [
    "train_X = train_X.astype('int')\n",
    "train_y = train_y.astype('int')"
   ]
  },
  {
   "cell_type": "code",
   "execution_count": 65,
   "metadata": {},
   "outputs": [],
   "source": [
    "from sklearn.naive_bayes import MultinomialNB\n",
    "from sklearn.metrics import accuracy_score , log_loss"
   ]
  },
  {
   "cell_type": "code",
   "execution_count": 64,
   "metadata": {},
   "outputs": [],
   "source": [
    "multi_model = MultinomialNB().fit(train_X, train_y)"
   ]
  },
  {
   "cell_type": "code",
   "execution_count": 76,
   "metadata": {},
   "outputs": [
    {
     "data": {
      "text/plain": [
       "0.590703848485482"
      ]
     },
     "execution_count": 76,
     "metadata": {},
     "output_type": "execute_result"
    }
   ],
   "source": [
    "accuracy_score(train_y,multi_model.predict(train_X))"
   ]
  },
  {
   "cell_type": "code",
   "execution_count": 79,
   "metadata": {},
   "outputs": [],
   "source": [
    "from sklearn.linear_model import LogisticRegression\n",
    "logis_model = LogisticRegression().fit(train_X,train_y)"
   ]
  },
  {
   "cell_type": "code",
   "execution_count": 80,
   "metadata": {},
   "outputs": [
    {
     "data": {
      "text/plain": [
       "0.6586847001275163"
      ]
     },
     "execution_count": 80,
     "metadata": {},
     "output_type": "execute_result"
    }
   ],
   "source": [
    "accuracy_scoreracy_score(train_y,logis_model.predict(train_X))"
   ]
  },
  {
   "cell_type": "code",
   "execution_count": 92,
   "metadata": {},
   "outputs": [],
   "source": [
    "import xgboost as xgb\n",
    "from sklearn.model_selection import train_test_split\n",
    "from sklearn.preprocessing import LabelEncoder\n",
    "label_enc = LabelEncoder().fit(train_y)\n",
    "y_labeled = label_enc.transform(train_y)"
   ]
  },
  {
   "cell_type": "code",
   "execution_count": 93,
   "metadata": {},
   "outputs": [],
   "source": [
    "X_train, X_test, y_train, y_test = train_test_split(train_X, y_labeled, random_state=0)"
   ]
  },
  {
   "cell_type": "code",
   "execution_count": 94,
   "metadata": {},
   "outputs": [],
   "source": [
    "dtrain = xgb.DMatrix(X_train.values, label=y_train)\n",
    "dtest = xgb.DMatrix(X_test.values, label=y_test)"
   ]
  },
  {
   "cell_type": "code",
   "execution_count": 95,
   "metadata": {
    "scrolled": true
   },
   "outputs": [
    {
     "name": "stdout",
     "output_type": "stream",
     "text": [
      "[0]\ttrain-mlogloss:3.07649\teval-mlogloss:3.08584\n",
      "Multiple eval metrics have been passed: 'eval-mlogloss' will be used for early stopping.\n",
      "\n",
      "Will train until eval-mlogloss hasn't improved in 10 rounds.\n",
      "[1]\ttrain-mlogloss:2.58978\teval-mlogloss:2.61105\n",
      "[2]\ttrain-mlogloss:2.20173\teval-mlogloss:2.2345\n",
      "[3]\ttrain-mlogloss:1.92112\teval-mlogloss:1.96298\n",
      "[4]\ttrain-mlogloss:1.73401\teval-mlogloss:1.78322\n",
      "[5]\ttrain-mlogloss:1.59345\teval-mlogloss:1.64919\n",
      "[6]\ttrain-mlogloss:1.48392\teval-mlogloss:1.5448\n",
      "[7]\ttrain-mlogloss:1.3937\teval-mlogloss:1.46074\n",
      "[8]\ttrain-mlogloss:1.31969\teval-mlogloss:1.39114\n",
      "[9]\ttrain-mlogloss:1.25788\teval-mlogloss:1.33451\n",
      "[10]\ttrain-mlogloss:1.20461\teval-mlogloss:1.28557\n",
      "[11]\ttrain-mlogloss:1.159\teval-mlogloss:1.24417\n",
      "[12]\ttrain-mlogloss:1.12007\teval-mlogloss:1.20914\n",
      "[13]\ttrain-mlogloss:1.08597\teval-mlogloss:1.17894\n",
      "[14]\ttrain-mlogloss:1.05574\teval-mlogloss:1.15267\n",
      "[15]\ttrain-mlogloss:1.02837\teval-mlogloss:1.1289\n",
      "[16]\ttrain-mlogloss:1.00455\teval-mlogloss:1.10855\n",
      "[17]\ttrain-mlogloss:0.983287\teval-mlogloss:1.09093\n",
      "[18]\ttrain-mlogloss:0.963762\teval-mlogloss:1.07466\n",
      "[19]\ttrain-mlogloss:0.945662\teval-mlogloss:1.06002\n",
      "[20]\ttrain-mlogloss:0.930229\teval-mlogloss:1.04762\n",
      "[21]\ttrain-mlogloss:0.915685\teval-mlogloss:1.03619\n",
      "[22]\ttrain-mlogloss:0.90261\teval-mlogloss:1.02602\n",
      "[23]\ttrain-mlogloss:0.890514\teval-mlogloss:1.0169\n",
      "[24]\ttrain-mlogloss:0.879355\teval-mlogloss:1.00866\n",
      "[25]\ttrain-mlogloss:0.868926\teval-mlogloss:1.00109\n",
      "[26]\ttrain-mlogloss:0.858859\teval-mlogloss:0.993613\n",
      "[27]\ttrain-mlogloss:0.849759\teval-mlogloss:0.98716\n",
      "[28]\ttrain-mlogloss:0.841482\teval-mlogloss:0.981722\n",
      "[29]\ttrain-mlogloss:0.834024\teval-mlogloss:0.976702\n",
      "[30]\ttrain-mlogloss:0.826354\teval-mlogloss:0.972011\n",
      "[31]\ttrain-mlogloss:0.819553\teval-mlogloss:0.967835\n",
      "[32]\ttrain-mlogloss:0.812968\teval-mlogloss:0.963657\n",
      "[33]\ttrain-mlogloss:0.806288\teval-mlogloss:0.959811\n",
      "[34]\ttrain-mlogloss:0.800444\teval-mlogloss:0.956251\n",
      "[35]\ttrain-mlogloss:0.795046\teval-mlogloss:0.953392\n",
      "[36]\ttrain-mlogloss:0.789798\teval-mlogloss:0.950208\n",
      "[37]\ttrain-mlogloss:0.784852\teval-mlogloss:0.947573\n",
      "[38]\ttrain-mlogloss:0.77998\teval-mlogloss:0.945246\n",
      "[39]\ttrain-mlogloss:0.775522\teval-mlogloss:0.942967\n",
      "[40]\ttrain-mlogloss:0.771219\teval-mlogloss:0.940835\n",
      "[41]\ttrain-mlogloss:0.767077\teval-mlogloss:0.938828\n",
      "[42]\ttrain-mlogloss:0.763018\teval-mlogloss:0.937084\n",
      "[43]\ttrain-mlogloss:0.75912\teval-mlogloss:0.935118\n",
      "[44]\ttrain-mlogloss:0.755432\teval-mlogloss:0.933479\n",
      "[45]\ttrain-mlogloss:0.751848\teval-mlogloss:0.931878\n",
      "[46]\ttrain-mlogloss:0.748615\teval-mlogloss:0.930272\n",
      "[47]\ttrain-mlogloss:0.745162\teval-mlogloss:0.929026\n",
      "[48]\ttrain-mlogloss:0.7417\teval-mlogloss:0.927843\n",
      "[49]\ttrain-mlogloss:0.738478\teval-mlogloss:0.926605\n",
      "[50]\ttrain-mlogloss:0.735239\teval-mlogloss:0.925365\n",
      "[51]\ttrain-mlogloss:0.732297\teval-mlogloss:0.924178\n",
      "[52]\ttrain-mlogloss:0.729406\teval-mlogloss:0.923148\n",
      "[53]\ttrain-mlogloss:0.726539\teval-mlogloss:0.921973\n",
      "[54]\ttrain-mlogloss:0.723699\teval-mlogloss:0.920795\n",
      "[55]\ttrain-mlogloss:0.721039\teval-mlogloss:0.920013\n",
      "[56]\ttrain-mlogloss:0.718481\teval-mlogloss:0.919267\n",
      "[57]\ttrain-mlogloss:0.715984\teval-mlogloss:0.918448\n",
      "[58]\ttrain-mlogloss:0.713634\teval-mlogloss:0.917706\n",
      "[59]\ttrain-mlogloss:0.711101\teval-mlogloss:0.916871\n",
      "[60]\ttrain-mlogloss:0.708605\teval-mlogloss:0.916021\n",
      "[61]\ttrain-mlogloss:0.706185\teval-mlogloss:0.91543\n",
      "[62]\ttrain-mlogloss:0.703887\teval-mlogloss:0.914728\n",
      "[63]\ttrain-mlogloss:0.701417\teval-mlogloss:0.914024\n",
      "[64]\ttrain-mlogloss:0.698997\teval-mlogloss:0.913348\n",
      "[65]\ttrain-mlogloss:0.696777\teval-mlogloss:0.912726\n",
      "[66]\ttrain-mlogloss:0.694471\teval-mlogloss:0.912163\n",
      "[67]\ttrain-mlogloss:0.692281\teval-mlogloss:0.911828\n",
      "[68]\ttrain-mlogloss:0.690235\teval-mlogloss:0.911385\n",
      "[69]\ttrain-mlogloss:0.688319\teval-mlogloss:0.911027\n",
      "[70]\ttrain-mlogloss:0.686393\teval-mlogloss:0.910553\n",
      "[71]\ttrain-mlogloss:0.684427\teval-mlogloss:0.909996\n",
      "[72]\ttrain-mlogloss:0.682636\teval-mlogloss:0.909441\n",
      "[73]\ttrain-mlogloss:0.680983\teval-mlogloss:0.909031\n",
      "[74]\ttrain-mlogloss:0.679061\teval-mlogloss:0.908827\n",
      "[75]\ttrain-mlogloss:0.677168\teval-mlogloss:0.908277\n",
      "[76]\ttrain-mlogloss:0.675396\teval-mlogloss:0.907825\n",
      "[77]\ttrain-mlogloss:0.673802\teval-mlogloss:0.907349\n",
      "[78]\ttrain-mlogloss:0.672201\teval-mlogloss:0.906991\n",
      "[79]\ttrain-mlogloss:0.670333\teval-mlogloss:0.906484\n",
      "[80]\ttrain-mlogloss:0.668219\teval-mlogloss:0.90577\n",
      "[81]\ttrain-mlogloss:0.666694\teval-mlogloss:0.905414\n",
      "[82]\ttrain-mlogloss:0.664906\teval-mlogloss:0.905199\n",
      "[83]\ttrain-mlogloss:0.663224\teval-mlogloss:0.905006\n",
      "[84]\ttrain-mlogloss:0.66141\teval-mlogloss:0.904711\n",
      "[85]\ttrain-mlogloss:0.659823\teval-mlogloss:0.904482\n",
      "[86]\ttrain-mlogloss:0.657984\teval-mlogloss:0.904052\n",
      "[87]\ttrain-mlogloss:0.656393\teval-mlogloss:0.903751\n",
      "[88]\ttrain-mlogloss:0.65478\teval-mlogloss:0.903476\n",
      "[89]\ttrain-mlogloss:0.653358\teval-mlogloss:0.903125\n",
      "[90]\ttrain-mlogloss:0.651936\teval-mlogloss:0.902872\n",
      "[91]\ttrain-mlogloss:0.650475\teval-mlogloss:0.90274\n",
      "[92]\ttrain-mlogloss:0.649117\teval-mlogloss:0.902516\n",
      "[93]\ttrain-mlogloss:0.647638\teval-mlogloss:0.902279\n",
      "[94]\ttrain-mlogloss:0.646332\teval-mlogloss:0.902136\n",
      "[95]\ttrain-mlogloss:0.644885\teval-mlogloss:0.901994\n",
      "[96]\ttrain-mlogloss:0.643437\teval-mlogloss:0.90174\n",
      "[97]\ttrain-mlogloss:0.641887\teval-mlogloss:0.901526\n",
      "[98]\ttrain-mlogloss:0.640514\teval-mlogloss:0.901361\n",
      "[99]\ttrain-mlogloss:0.638951\teval-mlogloss:0.901156\n",
      "[100]\ttrain-mlogloss:0.637795\teval-mlogloss:0.90103\n",
      "[101]\ttrain-mlogloss:0.63652\teval-mlogloss:0.900797\n",
      "[102]\ttrain-mlogloss:0.635252\teval-mlogloss:0.900651\n",
      "[103]\ttrain-mlogloss:0.633976\teval-mlogloss:0.900547\n",
      "[104]\ttrain-mlogloss:0.632507\teval-mlogloss:0.900519\n",
      "[105]\ttrain-mlogloss:0.631179\teval-mlogloss:0.900348\n",
      "[106]\ttrain-mlogloss:0.629967\teval-mlogloss:0.900117\n",
      "[107]\ttrain-mlogloss:0.628453\teval-mlogloss:0.899904\n",
      "[108]\ttrain-mlogloss:0.626897\teval-mlogloss:0.899828\n",
      "[109]\ttrain-mlogloss:0.625523\teval-mlogloss:0.899459\n",
      "[110]\ttrain-mlogloss:0.624577\teval-mlogloss:0.899438\n",
      "[111]\ttrain-mlogloss:0.623357\teval-mlogloss:0.89933\n",
      "[112]\ttrain-mlogloss:0.622194\teval-mlogloss:0.89921\n",
      "[113]\ttrain-mlogloss:0.621047\teval-mlogloss:0.899219\n",
      "[114]\ttrain-mlogloss:0.61985\teval-mlogloss:0.899083\n",
      "[115]\ttrain-mlogloss:0.61879\teval-mlogloss:0.899053\n",
      "[116]\ttrain-mlogloss:0.617509\teval-mlogloss:0.898948\n",
      "[117]\ttrain-mlogloss:0.616111\teval-mlogloss:0.898937\n",
      "[118]\ttrain-mlogloss:0.615031\teval-mlogloss:0.898903\n",
      "[119]\ttrain-mlogloss:0.613806\teval-mlogloss:0.898741\n",
      "[120]\ttrain-mlogloss:0.61261\teval-mlogloss:0.898746\n",
      "[121]\ttrain-mlogloss:0.611459\teval-mlogloss:0.898651\n",
      "[122]\ttrain-mlogloss:0.610394\teval-mlogloss:0.898559\n",
      "[123]\ttrain-mlogloss:0.609052\teval-mlogloss:0.898542\n",
      "[124]\ttrain-mlogloss:0.607729\teval-mlogloss:0.898366\n",
      "[125]\ttrain-mlogloss:0.606642\teval-mlogloss:0.898327\n",
      "[126]\ttrain-mlogloss:0.60549\teval-mlogloss:0.898282\n",
      "[127]\ttrain-mlogloss:0.604407\teval-mlogloss:0.898135\n",
      "[128]\ttrain-mlogloss:0.60313\teval-mlogloss:0.89803\n",
      "[129]\ttrain-mlogloss:0.601951\teval-mlogloss:0.897989\n",
      "[130]\ttrain-mlogloss:0.600859\teval-mlogloss:0.897888\n",
      "[131]\ttrain-mlogloss:0.599782\teval-mlogloss:0.897768\n",
      "[132]\ttrain-mlogloss:0.598733\teval-mlogloss:0.897693\n",
      "[133]\ttrain-mlogloss:0.597419\teval-mlogloss:0.897681\n",
      "[134]\ttrain-mlogloss:0.596402\teval-mlogloss:0.897723\n",
      "[135]\ttrain-mlogloss:0.595398\teval-mlogloss:0.897665\n",
      "[136]\ttrain-mlogloss:0.594603\teval-mlogloss:0.897655\n",
      "[137]\ttrain-mlogloss:0.593461\teval-mlogloss:0.89751\n",
      "[138]\ttrain-mlogloss:0.592405\teval-mlogloss:0.897483\n",
      "[139]\ttrain-mlogloss:0.591296\teval-mlogloss:0.897506\n",
      "[140]\ttrain-mlogloss:0.590062\teval-mlogloss:0.897609\n",
      "[141]\ttrain-mlogloss:0.588822\teval-mlogloss:0.897592\n",
      "[142]\ttrain-mlogloss:0.587933\teval-mlogloss:0.897743\n",
      "[143]\ttrain-mlogloss:0.586752\teval-mlogloss:0.897672\n",
      "[144]\ttrain-mlogloss:0.585608\teval-mlogloss:0.897761\n",
      "[145]\ttrain-mlogloss:0.584621\teval-mlogloss:0.897779\n",
      "[146]\ttrain-mlogloss:0.583617\teval-mlogloss:0.897828\n",
      "[147]\ttrain-mlogloss:0.582661\teval-mlogloss:0.897809\n",
      "[148]\ttrain-mlogloss:0.581628\teval-mlogloss:0.897875\n",
      "Stopping. Best iteration:\n",
      "[138]\ttrain-mlogloss:0.592405\teval-mlogloss:0.897483\n",
      "\n"
     ]
    }
   ],
   "source": [
    "num_boost_round = 300\n",
    "params = {'objective': 'multi:softprob', \n",
    "          'eval_metric': 'mlogloss',\n",
    "          'num_class':38, \n",
    "          'max_delta_step': 3, \n",
    "          'eta': 0.2}\n",
    "\n",
    "evals = [(dtrain, 'train'), (dtest, 'eval')]\n",
    "\n",
    "bst = xgb.train(params=params,  \n",
    "                dtrain=dtrain, \n",
    "                num_boost_round=num_boost_round, \n",
    "                evals=evals,\n",
    "                early_stopping_rounds=10,)"
   ]
  }
 ],
 "metadata": {
  "kernelspec": {
   "display_name": "Python 3",
   "language": "python",
   "name": "python3"
  },
  "language_info": {
   "codemirror_mode": {
    "name": "ipython",
    "version": 3
   },
   "file_extension": ".py",
   "mimetype": "text/x-python",
   "name": "python",
   "nbconvert_exporter": "python",
   "pygments_lexer": "ipython3",
   "version": "3.6.5"
  }
 },
 "nbformat": 4,
 "nbformat_minor": 2
}
