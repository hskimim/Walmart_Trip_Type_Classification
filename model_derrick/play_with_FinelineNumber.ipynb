{
 "cells": [
  {
   "cell_type": "code",
   "execution_count": 1,
   "metadata": {
    "scrolled": true
   },
   "outputs": [
    {
     "name": "stderr",
     "output_type": "stream",
     "text": [
      "/home/hskimim/anaconda3/lib/python3.6/importlib/_bootstrap.py:219: RuntimeWarning: numpy.dtype size changed, may indicate binary incompatibility. Expected 96, got 88\n",
      "  return f(*args, **kwds)\n",
      "/home/hskimim/anaconda3/lib/python3.6/importlib/_bootstrap.py:219: RuntimeWarning: numpy.dtype size changed, may indicate binary incompatibility. Expected 96, got 88\n",
      "  return f(*args, **kwds)\n"
     ]
    }
   ],
   "source": [
    "import numpy as np\n",
    "import pandas as pd\n",
    "import warnings\n",
    "warnings.simplefilter('ignore')\n",
    "from awesome_functions import *"
   ]
  },
  {
   "cell_type": "code",
   "execution_count": 2,
   "metadata": {},
   "outputs": [],
   "source": [
    "train_df = pd.read_csv('train.csv')\n",
    "test_df = pd.read_csv('test.csv')"
   ]
  },
  {
   "cell_type": "code",
   "execution_count": 3,
   "metadata": {},
   "outputs": [
    {
     "data": {
      "text/plain": [
       "7"
      ]
     },
     "execution_count": 3,
     "metadata": {},
     "output_type": "execute_result"
    }
   ],
   "source": [
    "len(train_df.columns)"
   ]
  },
  {
   "cell_type": "code",
   "execution_count": 4,
   "metadata": {},
   "outputs": [],
   "source": [
    "train_df['DepartmentDescription'] = train_df['DepartmentDescription'].replace('MENSWEAR','MENS WEAR')\n",
    "#겹치는 컬럼 이름을 하나로 합쳐주기 위해서 replace한다."
   ]
  },
  {
   "cell_type": "code",
   "execution_count": 6,
   "metadata": {},
   "outputs": [],
   "source": [
    "train_X , train_y = get_df_to_fit(train_dd)"
   ]
  },
  {
   "cell_type": "code",
   "execution_count": 7,
   "metadata": {
    "scrolled": true
   },
   "outputs": [
    {
     "data": {
      "text/html": [
       "<div>\n",
       "<style scoped>\n",
       "    .dataframe tbody tr th:only-of-type {\n",
       "        vertical-align: middle;\n",
       "    }\n",
       "\n",
       "    .dataframe tbody tr th {\n",
       "        vertical-align: top;\n",
       "    }\n",
       "\n",
       "    .dataframe thead th {\n",
       "        text-align: right;\n",
       "    }\n",
       "</style>\n",
       "<table border=\"1\" class=\"dataframe\">\n",
       "  <thead>\n",
       "    <tr style=\"text-align: right;\">\n",
       "      <th></th>\n",
       "      <th>FinelineNumber</th>\n",
       "      <th>ratio</th>\n",
       "    </tr>\n",
       "    <tr>\n",
       "      <th>index</th>\n",
       "      <th></th>\n",
       "      <th></th>\n",
       "    </tr>\n",
       "  </thead>\n",
       "  <tbody>\n",
       "    <tr>\n",
       "      <th>5501.0</th>\n",
       "      <td>8244</td>\n",
       "      <td>1.274082</td>\n",
       "    </tr>\n",
       "    <tr>\n",
       "      <th>1508.0</th>\n",
       "      <td>5121</td>\n",
       "      <td>0.791433</td>\n",
       "    </tr>\n",
       "    <tr>\n",
       "      <th>135.0</th>\n",
       "      <td>4538</td>\n",
       "      <td>0.701333</td>\n",
       "    </tr>\n",
       "    <tr>\n",
       "      <th>808.0</th>\n",
       "      <td>4401</td>\n",
       "      <td>0.680160</td>\n",
       "    </tr>\n",
       "    <tr>\n",
       "      <th>0.0</th>\n",
       "      <td>3837</td>\n",
       "      <td>0.592995</td>\n",
       "    </tr>\n",
       "    <tr>\n",
       "      <th>9546.0</th>\n",
       "      <td>2997</td>\n",
       "      <td>0.463176</td>\n",
       "    </tr>\n",
       "    <tr>\n",
       "      <th>1407.0</th>\n",
       "      <td>2848</td>\n",
       "      <td>0.440149</td>\n",
       "    </tr>\n",
       "    <tr>\n",
       "      <th>4606.0</th>\n",
       "      <td>2753</td>\n",
       "      <td>0.425467</td>\n",
       "    </tr>\n",
       "    <tr>\n",
       "      <th>115.0</th>\n",
       "      <td>2723</td>\n",
       "      <td>0.420830</td>\n",
       "    </tr>\n",
       "    <tr>\n",
       "      <th>203.0</th>\n",
       "      <td>2639</td>\n",
       "      <td>0.407848</td>\n",
       "    </tr>\n",
       "    <tr>\n",
       "      <th>100.0</th>\n",
       "      <td>2634</td>\n",
       "      <td>0.407076</td>\n",
       "    </tr>\n",
       "    <tr>\n",
       "      <th>3004.0</th>\n",
       "      <td>2607</td>\n",
       "      <td>0.402903</td>\n",
       "    </tr>\n",
       "    <tr>\n",
       "      <th>4010.0</th>\n",
       "      <td>2531</td>\n",
       "      <td>0.391157</td>\n",
       "    </tr>\n",
       "    <tr>\n",
       "      <th>3601.0</th>\n",
       "      <td>2465</td>\n",
       "      <td>0.380957</td>\n",
       "    </tr>\n",
       "    <tr>\n",
       "      <th>3600.0</th>\n",
       "      <td>2455</td>\n",
       "      <td>0.379412</td>\n",
       "    </tr>\n",
       "    <tr>\n",
       "      <th>110.0</th>\n",
       "      <td>2237</td>\n",
       "      <td>0.345721</td>\n",
       "    </tr>\n",
       "    <tr>\n",
       "      <th>3120.0</th>\n",
       "      <td>2074</td>\n",
       "      <td>0.320530</td>\n",
       "    </tr>\n",
       "    <tr>\n",
       "      <th>3555.0</th>\n",
       "      <td>2056</td>\n",
       "      <td>0.317748</td>\n",
       "    </tr>\n",
       "    <tr>\n",
       "      <th>8101.0</th>\n",
       "      <td>2037</td>\n",
       "      <td>0.314811</td>\n",
       "    </tr>\n",
       "    <tr>\n",
       "      <th>5017.0</th>\n",
       "      <td>1980</td>\n",
       "      <td>0.306002</td>\n",
       "    </tr>\n",
       "    <tr>\n",
       "      <th>801.0</th>\n",
       "      <td>1946</td>\n",
       "      <td>0.300748</td>\n",
       "    </tr>\n",
       "    <tr>\n",
       "      <th>7010.0</th>\n",
       "      <td>1935</td>\n",
       "      <td>0.299048</td>\n",
       "    </tr>\n",
       "    <tr>\n",
       "      <th>5620.0</th>\n",
       "      <td>1896</td>\n",
       "      <td>0.293020</td>\n",
       "    </tr>\n",
       "    <tr>\n",
       "      <th>202.0</th>\n",
       "      <td>1895</td>\n",
       "      <td>0.292866</td>\n",
       "    </tr>\n",
       "    <tr>\n",
       "      <th>9100.0</th>\n",
       "      <td>1885</td>\n",
       "      <td>0.291320</td>\n",
       "    </tr>\n",
       "    <tr>\n",
       "      <th>4624.0</th>\n",
       "      <td>1834</td>\n",
       "      <td>0.283438</td>\n",
       "    </tr>\n",
       "    <tr>\n",
       "      <th>3467.0</th>\n",
       "      <td>1751</td>\n",
       "      <td>0.270611</td>\n",
       "    </tr>\n",
       "    <tr>\n",
       "      <th>7955.0</th>\n",
       "      <td>1749</td>\n",
       "      <td>0.270302</td>\n",
       "    </tr>\n",
       "    <tr>\n",
       "      <th>9101.0</th>\n",
       "      <td>1721</td>\n",
       "      <td>0.265975</td>\n",
       "    </tr>\n",
       "    <tr>\n",
       "      <th>3702.0</th>\n",
       "      <td>1655</td>\n",
       "      <td>0.255775</td>\n",
       "    </tr>\n",
       "    <tr>\n",
       "      <th>...</th>\n",
       "      <td>...</td>\n",
       "      <td>...</td>\n",
       "    </tr>\n",
       "    <tr>\n",
       "      <th>6213.0</th>\n",
       "      <td>1</td>\n",
       "      <td>0.000155</td>\n",
       "    </tr>\n",
       "    <tr>\n",
       "      <th>2289.0</th>\n",
       "      <td>1</td>\n",
       "      <td>0.000155</td>\n",
       "    </tr>\n",
       "    <tr>\n",
       "      <th>5380.0</th>\n",
       "      <td>1</td>\n",
       "      <td>0.000155</td>\n",
       "    </tr>\n",
       "    <tr>\n",
       "      <th>8539.0</th>\n",
       "      <td>1</td>\n",
       "      <td>0.000155</td>\n",
       "    </tr>\n",
       "    <tr>\n",
       "      <th>7231.0</th>\n",
       "      <td>1</td>\n",
       "      <td>0.000155</td>\n",
       "    </tr>\n",
       "    <tr>\n",
       "      <th>4314.0</th>\n",
       "      <td>1</td>\n",
       "      <td>0.000155</td>\n",
       "    </tr>\n",
       "    <tr>\n",
       "      <th>5578.0</th>\n",
       "      <td>1</td>\n",
       "      <td>0.000155</td>\n",
       "    </tr>\n",
       "    <tr>\n",
       "      <th>8554.0</th>\n",
       "      <td>1</td>\n",
       "      <td>0.000155</td>\n",
       "    </tr>\n",
       "    <tr>\n",
       "      <th>1152.0</th>\n",
       "      <td>1</td>\n",
       "      <td>0.000155</td>\n",
       "    </tr>\n",
       "    <tr>\n",
       "      <th>7773.0</th>\n",
       "      <td>1</td>\n",
       "      <td>0.000155</td>\n",
       "    </tr>\n",
       "    <tr>\n",
       "      <th>8565.0</th>\n",
       "      <td>1</td>\n",
       "      <td>0.000155</td>\n",
       "    </tr>\n",
       "    <tr>\n",
       "      <th>6177.0</th>\n",
       "      <td>1</td>\n",
       "      <td>0.000155</td>\n",
       "    </tr>\n",
       "    <tr>\n",
       "      <th>1765.0</th>\n",
       "      <td>1</td>\n",
       "      <td>0.000155</td>\n",
       "    </tr>\n",
       "    <tr>\n",
       "      <th>5564.0</th>\n",
       "      <td>1</td>\n",
       "      <td>0.000155</td>\n",
       "    </tr>\n",
       "    <tr>\n",
       "      <th>238.0</th>\n",
       "      <td>1</td>\n",
       "      <td>0.000155</td>\n",
       "    </tr>\n",
       "    <tr>\n",
       "      <th>5217.0</th>\n",
       "      <td>1</td>\n",
       "      <td>0.000155</td>\n",
       "    </tr>\n",
       "    <tr>\n",
       "      <th>5218.0</th>\n",
       "      <td>1</td>\n",
       "      <td>0.000155</td>\n",
       "    </tr>\n",
       "    <tr>\n",
       "      <th>3496.0</th>\n",
       "      <td>1</td>\n",
       "      <td>0.000155</td>\n",
       "    </tr>\n",
       "    <tr>\n",
       "      <th>1791.0</th>\n",
       "      <td>1</td>\n",
       "      <td>0.000155</td>\n",
       "    </tr>\n",
       "    <tr>\n",
       "      <th>3492.0</th>\n",
       "      <td>1</td>\n",
       "      <td>0.000155</td>\n",
       "    </tr>\n",
       "    <tr>\n",
       "      <th>7159.0</th>\n",
       "      <td>1</td>\n",
       "      <td>0.000155</td>\n",
       "    </tr>\n",
       "    <tr>\n",
       "      <th>5518.0</th>\n",
       "      <td>1</td>\n",
       "      <td>0.000155</td>\n",
       "    </tr>\n",
       "    <tr>\n",
       "      <th>2861.0</th>\n",
       "      <td>1</td>\n",
       "      <td>0.000155</td>\n",
       "    </tr>\n",
       "    <tr>\n",
       "      <th>6227.0</th>\n",
       "      <td>1</td>\n",
       "      <td>0.000155</td>\n",
       "    </tr>\n",
       "    <tr>\n",
       "      <th>4495.0</th>\n",
       "      <td>1</td>\n",
       "      <td>0.000155</td>\n",
       "    </tr>\n",
       "    <tr>\n",
       "      <th>2311.0</th>\n",
       "      <td>1</td>\n",
       "      <td>0.000155</td>\n",
       "    </tr>\n",
       "    <tr>\n",
       "      <th>524.0</th>\n",
       "      <td>1</td>\n",
       "      <td>0.000155</td>\n",
       "    </tr>\n",
       "    <tr>\n",
       "      <th>7130.0</th>\n",
       "      <td>1</td>\n",
       "      <td>0.000155</td>\n",
       "    </tr>\n",
       "    <tr>\n",
       "      <th>2847.0</th>\n",
       "      <td>1</td>\n",
       "      <td>0.000155</td>\n",
       "    </tr>\n",
       "    <tr>\n",
       "      <th>7313.0</th>\n",
       "      <td>1</td>\n",
       "      <td>0.000155</td>\n",
       "    </tr>\n",
       "  </tbody>\n",
       "</table>\n",
       "<p>5195 rows × 2 columns</p>\n",
       "</div>"
      ],
      "text/plain": [
       "        FinelineNumber     ratio\n",
       "index                           \n",
       "5501.0            8244  1.274082\n",
       "1508.0            5121  0.791433\n",
       "135.0             4538  0.701333\n",
       "808.0             4401  0.680160\n",
       "0.0               3837  0.592995\n",
       "9546.0            2997  0.463176\n",
       "1407.0            2848  0.440149\n",
       "4606.0            2753  0.425467\n",
       "115.0             2723  0.420830\n",
       "203.0             2639  0.407848\n",
       "100.0             2634  0.407076\n",
       "3004.0            2607  0.402903\n",
       "4010.0            2531  0.391157\n",
       "3601.0            2465  0.380957\n",
       "3600.0            2455  0.379412\n",
       "110.0             2237  0.345721\n",
       "3120.0            2074  0.320530\n",
       "3555.0            2056  0.317748\n",
       "8101.0            2037  0.314811\n",
       "5017.0            1980  0.306002\n",
       "801.0             1946  0.300748\n",
       "7010.0            1935  0.299048\n",
       "5620.0            1896  0.293020\n",
       "202.0             1895  0.292866\n",
       "9100.0            1885  0.291320\n",
       "4624.0            1834  0.283438\n",
       "3467.0            1751  0.270611\n",
       "7955.0            1749  0.270302\n",
       "9101.0            1721  0.265975\n",
       "3702.0            1655  0.255775\n",
       "...                ...       ...\n",
       "6213.0               1  0.000155\n",
       "2289.0               1  0.000155\n",
       "5380.0               1  0.000155\n",
       "8539.0               1  0.000155\n",
       "7231.0               1  0.000155\n",
       "4314.0               1  0.000155\n",
       "5578.0               1  0.000155\n",
       "8554.0               1  0.000155\n",
       "1152.0               1  0.000155\n",
       "7773.0               1  0.000155\n",
       "8565.0               1  0.000155\n",
       "6177.0               1  0.000155\n",
       "1765.0               1  0.000155\n",
       "5564.0               1  0.000155\n",
       "238.0                1  0.000155\n",
       "5217.0               1  0.000155\n",
       "5218.0               1  0.000155\n",
       "3496.0               1  0.000155\n",
       "1791.0               1  0.000155\n",
       "3492.0               1  0.000155\n",
       "7159.0               1  0.000155\n",
       "5518.0               1  0.000155\n",
       "2861.0               1  0.000155\n",
       "6227.0               1  0.000155\n",
       "4495.0               1  0.000155\n",
       "2311.0               1  0.000155\n",
       "524.0                1  0.000155\n",
       "7130.0               1  0.000155\n",
       "2847.0               1  0.000155\n",
       "7313.0               1  0.000155\n",
       "\n",
       "[5195 rows x 2 columns]"
      ]
     },
     "execution_count": 7,
     "metadata": {},
     "output_type": "execute_result"
    }
   ],
   "source": [
    "testing_df = train_df['FinelineNumber'].value_counts().reset_index()\n",
    "testing_df.index = testing_df['index']\n",
    "testing_df.drop(columns='index',inplace=True)\n",
    "testing_df['ratio'] = testing_df['FinelineNumber'] * 100 / len(train_df['FinelineNumber'])\n",
    "testing_df"
   ]
  },
  {
   "cell_type": "code",
   "execution_count": 8,
   "metadata": {
    "scrolled": true
   },
   "outputs": [
    {
     "name": "stdout",
     "output_type": "stream",
     "text": [
      "CPU times: user 28.4 s, sys: 0 ns, total: 28.4 s\n",
      "Wall time: 28.4 s\n"
     ]
    }
   ],
   "source": [
    "%%time\n",
    "ls = []\n",
    "for i in testing_df.index:\n",
    "    if len(train_df[['DepartmentDescription','FinelineNumber']][train_df['FinelineNumber'] == i]) == 1:\n",
    "        ls.append(i)\n",
    "len(ls)"
   ]
  },
  {
   "cell_type": "code",
   "execution_count": 9,
   "metadata": {},
   "outputs": [
    {
     "name": "stdout",
     "output_type": "stream",
     "text": [
      "length of FinelineNumber which points only on DepartmentDescription:  241\n",
      "\n",
      "\n",
      "[5358.0, 2086.0, 4845.0, 1808.0, 6598.0, 8346.0, 5353.0, 6629.0, 8345.0, 2039.0, 9937.0, 4135.0, 9943.0, 4685.0, 4597.0, 1722.0, 6453.0, 3358.0, 3311.0, 6525.0, 6561.0, 392.0, 7320.0, 8088.0, 6909.0, 6514.0, 6615.0, 6618.0, 5437.0, 1746.0, 2249.0, 2388.0, 9932.0, 4049.0, 3408.0, 3367.0, 1739.0, 3365.0, 8185.0, 4574.0, 9924.0, 6304.0, 7236.0, 6623.0, 2714.0, 2713.0, 6913.0, 8352.0, 8113.0, 259.0, 4751.0, 2649.0, 2648.0, 8257.0, 5387.0, 7216.0, 6744.0, 6813.0, 6793.0, 8259.0, 5383.0, 3795.0, 1336.0, 3338.0, 9792.0, 1691.0, 2621.0, 4761.0, 8087.0, 3430.0, 4764.0, 3794.0, 8073.0, 6482.0, 4090.0, 7160.0, 6513.0, 634.0, 1334.0, 6668.0, 6458.0, 4616.0, 6559.0, 2418.0, 5216.0, 6674.0, 3385.0, 6685.0, 2661.0, 4674.0, 3423.0, 2475.0, 9718.0, 3801.0, 9991.0, 3421.0, 45.0, 2328.0, 3673.0, 1235.0, 5668.0, 8992.0, 2266.0, 4341.0, 6140.0, 3648.0, 5710.0, 3916.0, 1140.0, 384.0, 196.0, 3616.0, 1452.0, 6108.0, 1877.0, 830.0, 5171.0, 2884.0, 3517.0, 485.0, 1789.0, 6161.0, 5172.0, 8605.0, 6153.0, 4816.0, 567.0, 1643.0, 7731.0, 5645.0, 7721.0, 5036.0, 7716.0, 3611.0, 8036.0, 2738.0, 2214.0, 5925.0, 8930.0, 9040.0, 7460.0, 3256.0, 3999.0, 727.0, 5819.0, 3047.0, 332.0, 7514.0, 8903.0, 7522.0, 5867.0, 8938.0, 4367.0, 1658.0, 5999.0, 5739.0, 9964.0, 5052.0, 8733.0, 8999.0, 4356.0, 3599.0, 7621.0, 7418.0, 2656.0, 373.0, 3112.0, 3580.0, 7625.0, 1941.0, 7243.0, 537.0, 7102.0, 1872.0, 7078.0, 4539.0, 1627.0, 7879.0, 6319.0, 2128.0, 2358.0, 6232.0, 5505.0, 4526.0, 6752.0, 6256.0, 7112.0, 6345.0, 1160.0, 4459.0, 1484.0, 2739.0, 8409.0, 6397.0, 9527.0, 419.0, 7026.0, 5455.0, 7049.0, 7029.0, 6382.0, 6228.0, 6351.0, 7046.0, 7048.0, 329.0, 6247.0, 7838.0, 593.0, 7227.0, 5372.0, 6213.0, 2289.0, 5380.0, 8539.0, 7231.0, 4314.0, 5578.0, 8554.0, 1152.0, 7773.0, 8565.0, 6177.0, 1765.0, 5564.0, 238.0, 5217.0, 5218.0, 3496.0, 1791.0, 3492.0, 7159.0, 5518.0, 2861.0, 6227.0, 4495.0, 2311.0, 524.0, 7130.0, 2847.0, 7313.0]\n"
     ]
    },
    {
     "data": {
      "text/plain": [
       "(None, None)"
      ]
     },
     "execution_count": 9,
     "metadata": {},
     "output_type": "execute_result"
    }
   ],
   "source": [
    "print('length of FinelineNumber which points only on DepartmentDescription: ',len(ls),end='\\n\\n\\n'),print(ls)"
   ]
  },
  {
   "cell_type": "markdown",
   "metadata": {},
   "source": [
    "ls 리스트에 담겨져 있는 FinelineNumber 는 단 하나의 DepartmentDescription을 가리키는 고유한 즉, 말 그래도 FinelineNumber이다."
   ]
  },
  {
   "cell_type": "code",
   "execution_count": 10,
   "metadata": {},
   "outputs": [],
   "source": [
    "fl_dummies = pd.get_dummies(train_df['FinelineNumber'])"
   ]
  },
  {
   "cell_type": "code",
   "execution_count": 11,
   "metadata": {},
   "outputs": [],
   "source": [
    "fl_dummies = fl_dummies[ls]"
   ]
  },
  {
   "cell_type": "code",
   "execution_count": 12,
   "metadata": {},
   "outputs": [],
   "source": [
    "for i in range(len(ls)):\n",
    "    if np.sum(fl_dummies.iloc[:,i]) !=1:\n",
    "        print('emergency')"
   ]
  },
  {
   "cell_type": "code",
   "execution_count": 13,
   "metadata": {},
   "outputs": [],
   "source": [
    "train_df = pd.concat([train_df,fl_dummies],axis=1)"
   ]
  },
  {
   "cell_type": "code",
   "execution_count": 14,
   "metadata": {},
   "outputs": [
    {
     "data": {
      "text/markdown": [
       "##### Dummy타입으로 만든 컬럼 명 : DepartmentDescription"
      ],
      "text/plain": [
       "<IPython.core.display.Markdown object>"
      ]
     },
     "metadata": {},
     "output_type": "display_data"
    },
    {
     "data": {
      "text/markdown": [
       "##### ScanCount는 양수만 사용"
      ],
      "text/plain": [
       "<IPython.core.display.Markdown object>"
      ]
     },
     "metadata": {},
     "output_type": "display_data"
    },
    {
     "data": {
      "text/markdown": [
       "##### Train df 만드는 중"
      ],
      "text/plain": [
       "<IPython.core.display.Markdown object>"
      ]
     },
     "metadata": {},
     "output_type": "display_data"
    },
    {
     "data": {
      "text/markdown": [
       "##### Null 컬럼을 만듬"
      ],
      "text/plain": [
       "<IPython.core.display.Markdown object>"
      ]
     },
     "metadata": {},
     "output_type": "display_data"
    },
    {
     "name": "stdout",
     "output_type": "stream",
     "text": [
      "\n"
     ]
    },
    {
     "data": {
      "text/markdown": [
       "> 위 정보들을 Display하는 이유는 이번 FeatureMatrix를 사용한 모델에 Fit할 Test 모델 만들 때 같은 전처리를 하기 위해서다."
      ],
      "text/plain": [
       "<IPython.core.display.Markdown object>"
      ]
     },
     "metadata": {},
     "output_type": "display_data"
    }
   ],
   "source": [
    "from awesome_functions import *\n",
    "train_df = make_df_we_wanted(train_df,train_df,test_df,is_use_positive_scancount_only=True,is_need_null_column=True)"
   ]
  },
  {
   "cell_type": "code",
   "execution_count": 15,
   "metadata": {
    "scrolled": false
   },
   "outputs": [
    {
     "data": {
      "text/html": [
       "<div>\n",
       "<style scoped>\n",
       "    .dataframe tbody tr th:only-of-type {\n",
       "        vertical-align: middle;\n",
       "    }\n",
       "\n",
       "    .dataframe tbody tr th {\n",
       "        vertical-align: top;\n",
       "    }\n",
       "\n",
       "    .dataframe thead th {\n",
       "        text-align: right;\n",
       "    }\n",
       "</style>\n",
       "<table border=\"1\" class=\"dataframe\">\n",
       "  <thead>\n",
       "    <tr style=\"text-align: right;\">\n",
       "      <th></th>\n",
       "      <th>VisitNumber</th>\n",
       "      <th>TripType</th>\n",
       "      <th>5358.0</th>\n",
       "      <th>2086.0</th>\n",
       "      <th>4845.0</th>\n",
       "      <th>1808.0</th>\n",
       "      <th>6598.0</th>\n",
       "      <th>8346.0</th>\n",
       "      <th>5353.0</th>\n",
       "      <th>6629.0</th>\n",
       "      <th>...</th>\n",
       "      <th>SWIMWEAR/OUTERWEAR</th>\n",
       "      <th>TOYS</th>\n",
       "      <th>WIRELESS</th>\n",
       "      <th>Monday</th>\n",
       "      <th>Tuesday</th>\n",
       "      <th>Wednesday</th>\n",
       "      <th>Thursday</th>\n",
       "      <th>Friday</th>\n",
       "      <th>Saturday</th>\n",
       "      <th>Sunday</th>\n",
       "    </tr>\n",
       "  </thead>\n",
       "  <tbody>\n",
       "    <tr>\n",
       "      <th>95669</th>\n",
       "      <td>191343</td>\n",
       "      <td>25</td>\n",
       "      <td>0</td>\n",
       "      <td>0</td>\n",
       "      <td>0</td>\n",
       "      <td>0</td>\n",
       "      <td>0</td>\n",
       "      <td>0</td>\n",
       "      <td>0</td>\n",
       "      <td>0</td>\n",
       "      <td>...</td>\n",
       "      <td>0</td>\n",
       "      <td>0</td>\n",
       "      <td>0</td>\n",
       "      <td>0</td>\n",
       "      <td>0</td>\n",
       "      <td>0</td>\n",
       "      <td>0</td>\n",
       "      <td>0</td>\n",
       "      <td>0</td>\n",
       "      <td>1</td>\n",
       "    </tr>\n",
       "    <tr>\n",
       "      <th>95670</th>\n",
       "      <td>191344</td>\n",
       "      <td>22</td>\n",
       "      <td>0</td>\n",
       "      <td>0</td>\n",
       "      <td>0</td>\n",
       "      <td>0</td>\n",
       "      <td>0</td>\n",
       "      <td>0</td>\n",
       "      <td>0</td>\n",
       "      <td>0</td>\n",
       "      <td>...</td>\n",
       "      <td>0</td>\n",
       "      <td>0</td>\n",
       "      <td>1</td>\n",
       "      <td>0</td>\n",
       "      <td>0</td>\n",
       "      <td>0</td>\n",
       "      <td>0</td>\n",
       "      <td>0</td>\n",
       "      <td>0</td>\n",
       "      <td>1</td>\n",
       "    </tr>\n",
       "    <tr>\n",
       "      <th>95671</th>\n",
       "      <td>191345</td>\n",
       "      <td>39</td>\n",
       "      <td>0</td>\n",
       "      <td>0</td>\n",
       "      <td>0</td>\n",
       "      <td>0</td>\n",
       "      <td>0</td>\n",
       "      <td>0</td>\n",
       "      <td>0</td>\n",
       "      <td>0</td>\n",
       "      <td>...</td>\n",
       "      <td>0</td>\n",
       "      <td>0</td>\n",
       "      <td>0</td>\n",
       "      <td>0</td>\n",
       "      <td>0</td>\n",
       "      <td>0</td>\n",
       "      <td>0</td>\n",
       "      <td>0</td>\n",
       "      <td>0</td>\n",
       "      <td>1</td>\n",
       "    </tr>\n",
       "    <tr>\n",
       "      <th>95672</th>\n",
       "      <td>191346</td>\n",
       "      <td>39</td>\n",
       "      <td>0</td>\n",
       "      <td>0</td>\n",
       "      <td>0</td>\n",
       "      <td>0</td>\n",
       "      <td>0</td>\n",
       "      <td>0</td>\n",
       "      <td>0</td>\n",
       "      <td>0</td>\n",
       "      <td>...</td>\n",
       "      <td>0</td>\n",
       "      <td>0</td>\n",
       "      <td>0</td>\n",
       "      <td>0</td>\n",
       "      <td>0</td>\n",
       "      <td>0</td>\n",
       "      <td>0</td>\n",
       "      <td>0</td>\n",
       "      <td>0</td>\n",
       "      <td>1</td>\n",
       "    </tr>\n",
       "    <tr>\n",
       "      <th>95673</th>\n",
       "      <td>191347</td>\n",
       "      <td>8</td>\n",
       "      <td>0</td>\n",
       "      <td>0</td>\n",
       "      <td>0</td>\n",
       "      <td>0</td>\n",
       "      <td>0</td>\n",
       "      <td>0</td>\n",
       "      <td>0</td>\n",
       "      <td>0</td>\n",
       "      <td>...</td>\n",
       "      <td>0</td>\n",
       "      <td>0</td>\n",
       "      <td>0</td>\n",
       "      <td>0</td>\n",
       "      <td>0</td>\n",
       "      <td>0</td>\n",
       "      <td>0</td>\n",
       "      <td>0</td>\n",
       "      <td>0</td>\n",
       "      <td>1</td>\n",
       "    </tr>\n",
       "  </tbody>\n",
       "</table>\n",
       "<p>5 rows × 319 columns</p>\n",
       "</div>"
      ],
      "text/plain": [
       "       VisitNumber  TripType  5358.0  2086.0  4845.0  1808.0  6598.0  8346.0  \\\n",
       "95669       191343        25       0       0       0       0       0       0   \n",
       "95670       191344        22       0       0       0       0       0       0   \n",
       "95671       191345        39       0       0       0       0       0       0   \n",
       "95672       191346        39       0       0       0       0       0       0   \n",
       "95673       191347         8       0       0       0       0       0       0   \n",
       "\n",
       "       5353.0  6629.0   ...    SWIMWEAR/OUTERWEAR  TOYS  WIRELESS  Monday  \\\n",
       "95669       0       0   ...                     0     0         0       0   \n",
       "95670       0       0   ...                     0     0         1       0   \n",
       "95671       0       0   ...                     0     0         0       0   \n",
       "95672       0       0   ...                     0     0         0       0   \n",
       "95673       0       0   ...                     0     0         0       0   \n",
       "\n",
       "       Tuesday  Wednesday  Thursday  Friday  Saturday  Sunday  \n",
       "95669        0          0         0       0         0       1  \n",
       "95670        0          0         0       0         0       1  \n",
       "95671        0          0         0       0         0       1  \n",
       "95672        0          0         0       0         0       1  \n",
       "95673        0          0         0       0         0       1  \n",
       "\n",
       "[5 rows x 319 columns]"
      ]
     },
     "execution_count": 15,
     "metadata": {},
     "output_type": "execute_result"
    }
   ],
   "source": [
    "train_df.tail()"
   ]
  },
  {
   "cell_type": "code",
   "execution_count": 16,
   "metadata": {
    "scrolled": false
   },
   "outputs": [
    {
     "data": {
      "text/plain": [
       "(95674, 319)"
      ]
     },
     "execution_count": 16,
     "metadata": {},
     "output_type": "execute_result"
    }
   ],
   "source": [
    "train_df.shape"
   ]
  },
  {
   "cell_type": "code",
   "execution_count": 17,
   "metadata": {},
   "outputs": [],
   "source": [
    "train_X = train_df.copy()\n",
    "train_X.index = train_X['VisitNumber']\n",
    "train_X.drop(columns=['TripType','VisitNumber'],inplace=True)"
   ]
  },
  {
   "cell_type": "code",
   "execution_count": 18,
   "metadata": {},
   "outputs": [],
   "source": [
    "train_y = train_df['TripType']"
   ]
  },
  {
   "cell_type": "code",
   "execution_count": 19,
   "metadata": {},
   "outputs": [
    {
     "data": {
      "text/plain": [
       "((95674, 317), (95674,))"
      ]
     },
     "execution_count": 19,
     "metadata": {},
     "output_type": "execute_result"
    }
   ],
   "source": [
    "train_X.shape , train_y.shape"
   ]
  },
  {
   "cell_type": "code",
   "execution_count": 20,
   "metadata": {},
   "outputs": [
    {
     "data": {
      "text/html": [
       "<div>\n",
       "<style scoped>\n",
       "    .dataframe tbody tr th:only-of-type {\n",
       "        vertical-align: middle;\n",
       "    }\n",
       "\n",
       "    .dataframe tbody tr th {\n",
       "        vertical-align: top;\n",
       "    }\n",
       "\n",
       "    .dataframe thead th {\n",
       "        text-align: right;\n",
       "    }\n",
       "</style>\n",
       "<table border=\"1\" class=\"dataframe\">\n",
       "  <thead>\n",
       "    <tr style=\"text-align: right;\">\n",
       "      <th></th>\n",
       "      <th>5358.0</th>\n",
       "      <th>2086.0</th>\n",
       "      <th>4845.0</th>\n",
       "      <th>1808.0</th>\n",
       "      <th>6598.0</th>\n",
       "      <th>8346.0</th>\n",
       "      <th>5353.0</th>\n",
       "      <th>6629.0</th>\n",
       "      <th>8345.0</th>\n",
       "      <th>2039.0</th>\n",
       "      <th>...</th>\n",
       "      <th>SWIMWEAR/OUTERWEAR</th>\n",
       "      <th>TOYS</th>\n",
       "      <th>WIRELESS</th>\n",
       "      <th>Monday</th>\n",
       "      <th>Tuesday</th>\n",
       "      <th>Wednesday</th>\n",
       "      <th>Thursday</th>\n",
       "      <th>Friday</th>\n",
       "      <th>Saturday</th>\n",
       "      <th>Sunday</th>\n",
       "    </tr>\n",
       "    <tr>\n",
       "      <th>VisitNumber</th>\n",
       "      <th></th>\n",
       "      <th></th>\n",
       "      <th></th>\n",
       "      <th></th>\n",
       "      <th></th>\n",
       "      <th></th>\n",
       "      <th></th>\n",
       "      <th></th>\n",
       "      <th></th>\n",
       "      <th></th>\n",
       "      <th></th>\n",
       "      <th></th>\n",
       "      <th></th>\n",
       "      <th></th>\n",
       "      <th></th>\n",
       "      <th></th>\n",
       "      <th></th>\n",
       "      <th></th>\n",
       "      <th></th>\n",
       "      <th></th>\n",
       "      <th></th>\n",
       "    </tr>\n",
       "  </thead>\n",
       "  <tbody>\n",
       "    <tr>\n",
       "      <th>191343</th>\n",
       "      <td>0</td>\n",
       "      <td>0</td>\n",
       "      <td>0</td>\n",
       "      <td>0</td>\n",
       "      <td>0</td>\n",
       "      <td>0</td>\n",
       "      <td>0</td>\n",
       "      <td>0</td>\n",
       "      <td>0</td>\n",
       "      <td>0</td>\n",
       "      <td>...</td>\n",
       "      <td>0</td>\n",
       "      <td>0</td>\n",
       "      <td>0</td>\n",
       "      <td>0</td>\n",
       "      <td>0</td>\n",
       "      <td>0</td>\n",
       "      <td>0</td>\n",
       "      <td>0</td>\n",
       "      <td>0</td>\n",
       "      <td>1</td>\n",
       "    </tr>\n",
       "    <tr>\n",
       "      <th>191344</th>\n",
       "      <td>0</td>\n",
       "      <td>0</td>\n",
       "      <td>0</td>\n",
       "      <td>0</td>\n",
       "      <td>0</td>\n",
       "      <td>0</td>\n",
       "      <td>0</td>\n",
       "      <td>0</td>\n",
       "      <td>0</td>\n",
       "      <td>0</td>\n",
       "      <td>...</td>\n",
       "      <td>0</td>\n",
       "      <td>0</td>\n",
       "      <td>1</td>\n",
       "      <td>0</td>\n",
       "      <td>0</td>\n",
       "      <td>0</td>\n",
       "      <td>0</td>\n",
       "      <td>0</td>\n",
       "      <td>0</td>\n",
       "      <td>1</td>\n",
       "    </tr>\n",
       "    <tr>\n",
       "      <th>191345</th>\n",
       "      <td>0</td>\n",
       "      <td>0</td>\n",
       "      <td>0</td>\n",
       "      <td>0</td>\n",
       "      <td>0</td>\n",
       "      <td>0</td>\n",
       "      <td>0</td>\n",
       "      <td>0</td>\n",
       "      <td>0</td>\n",
       "      <td>0</td>\n",
       "      <td>...</td>\n",
       "      <td>0</td>\n",
       "      <td>0</td>\n",
       "      <td>0</td>\n",
       "      <td>0</td>\n",
       "      <td>0</td>\n",
       "      <td>0</td>\n",
       "      <td>0</td>\n",
       "      <td>0</td>\n",
       "      <td>0</td>\n",
       "      <td>1</td>\n",
       "    </tr>\n",
       "    <tr>\n",
       "      <th>191346</th>\n",
       "      <td>0</td>\n",
       "      <td>0</td>\n",
       "      <td>0</td>\n",
       "      <td>0</td>\n",
       "      <td>0</td>\n",
       "      <td>0</td>\n",
       "      <td>0</td>\n",
       "      <td>0</td>\n",
       "      <td>0</td>\n",
       "      <td>0</td>\n",
       "      <td>...</td>\n",
       "      <td>0</td>\n",
       "      <td>0</td>\n",
       "      <td>0</td>\n",
       "      <td>0</td>\n",
       "      <td>0</td>\n",
       "      <td>0</td>\n",
       "      <td>0</td>\n",
       "      <td>0</td>\n",
       "      <td>0</td>\n",
       "      <td>1</td>\n",
       "    </tr>\n",
       "    <tr>\n",
       "      <th>191347</th>\n",
       "      <td>0</td>\n",
       "      <td>0</td>\n",
       "      <td>0</td>\n",
       "      <td>0</td>\n",
       "      <td>0</td>\n",
       "      <td>0</td>\n",
       "      <td>0</td>\n",
       "      <td>0</td>\n",
       "      <td>0</td>\n",
       "      <td>0</td>\n",
       "      <td>...</td>\n",
       "      <td>0</td>\n",
       "      <td>0</td>\n",
       "      <td>0</td>\n",
       "      <td>0</td>\n",
       "      <td>0</td>\n",
       "      <td>0</td>\n",
       "      <td>0</td>\n",
       "      <td>0</td>\n",
       "      <td>0</td>\n",
       "      <td>1</td>\n",
       "    </tr>\n",
       "  </tbody>\n",
       "</table>\n",
       "<p>5 rows × 317 columns</p>\n",
       "</div>"
      ],
      "text/plain": [
       "             5358.0  2086.0  4845.0  1808.0  6598.0  8346.0  5353.0  6629.0  \\\n",
       "VisitNumber                                                                   \n",
       "191343            0       0       0       0       0       0       0       0   \n",
       "191344            0       0       0       0       0       0       0       0   \n",
       "191345            0       0       0       0       0       0       0       0   \n",
       "191346            0       0       0       0       0       0       0       0   \n",
       "191347            0       0       0       0       0       0       0       0   \n",
       "\n",
       "             8345.0  2039.0   ...    SWIMWEAR/OUTERWEAR  TOYS  WIRELESS  \\\n",
       "VisitNumber                   ...                                         \n",
       "191343            0       0   ...                     0     0         0   \n",
       "191344            0       0   ...                     0     0         1   \n",
       "191345            0       0   ...                     0     0         0   \n",
       "191346            0       0   ...                     0     0         0   \n",
       "191347            0       0   ...                     0     0         0   \n",
       "\n",
       "             Monday  Tuesday  Wednesday  Thursday  Friday  Saturday  Sunday  \n",
       "VisitNumber                                                                  \n",
       "191343            0        0          0         0       0         0       1  \n",
       "191344            0        0          0         0       0         0       1  \n",
       "191345            0        0          0         0       0         0       1  \n",
       "191346            0        0          0         0       0         0       1  \n",
       "191347            0        0          0         0       0         0       1  \n",
       "\n",
       "[5 rows x 317 columns]"
      ]
     },
     "execution_count": 20,
     "metadata": {},
     "output_type": "execute_result"
    }
   ],
   "source": [
    "train_X.tail()"
   ]
  },
  {
   "cell_type": "code",
   "execution_count": 21,
   "metadata": {},
   "outputs": [
    {
     "data": {
      "text/plain": [
       "95669    25\n",
       "95670    22\n",
       "95671    39\n",
       "95672    39\n",
       "95673     8\n",
       "Name: TripType, dtype: int64"
      ]
     },
     "execution_count": 21,
     "metadata": {},
     "output_type": "execute_result"
    }
   ],
   "source": [
    "train_y.tail()"
   ]
  },
  {
   "cell_type": "code",
   "execution_count": 34,
   "metadata": {},
   "outputs": [
    {
     "data": {
      "text/plain": [
       "((95674, 317), (95674,))"
      ]
     },
     "execution_count": 34,
     "metadata": {},
     "output_type": "execute_result"
    }
   ],
   "source": [
    "train_X.shape , train_y.shape"
   ]
  },
  {
   "cell_type": "markdown",
   "metadata": {},
   "source": [
    "## LogisticRegression"
   ]
  },
  {
   "cell_type": "code",
   "execution_count": 22,
   "metadata": {},
   "outputs": [],
   "source": [
    "from sklearn.linear_model import LogisticRegression"
   ]
  },
  {
   "cell_type": "code",
   "execution_count": 23,
   "metadata": {
    "scrolled": true
   },
   "outputs": [
    {
     "name": "stdout",
     "output_type": "stream",
     "text": [
      "CPU times: user 1min 7s, sys: 219 ms, total: 1min 7s\n",
      "Wall time: 1min 7s\n"
     ]
    }
   ],
   "source": [
    "%time logis_model = LogisticRegression().fit(train_X , train_y)"
   ]
  },
  {
   "cell_type": "code",
   "execution_count": 24,
   "metadata": {},
   "outputs": [],
   "source": [
    "from sklearn.metrics import *"
   ]
  },
  {
   "cell_type": "code",
   "execution_count": 25,
   "metadata": {
    "scrolled": true
   },
   "outputs": [
    {
     "data": {
      "text/plain": [
       "0.6489955473796434"
      ]
     },
     "execution_count": 25,
     "metadata": {},
     "output_type": "execute_result"
    }
   ],
   "source": [
    "accuracy_score(train_y,logis_model.predict(train_X))"
   ]
  },
  {
   "cell_type": "code",
   "execution_count": 26,
   "metadata": {},
   "outputs": [],
   "source": [
    "from sklearn.model_selection import KFold , cross_val_score"
   ]
  },
  {
   "cell_type": "code",
   "execution_count": 27,
   "metadata": {},
   "outputs": [
    {
     "ename": "JoblibMemoryError",
     "evalue": "JoblibMemoryError\n___________________________________________________________________________\nMultiprocessing exception:\n...........................................................................\n/home/hskimim/anaconda3/lib/python3.6/runpy.py in _run_module_as_main(mod_name='ipykernel_launcher', alter_argv=1)\n    188         sys.exit(msg)\n    189     main_globals = sys.modules[\"__main__\"].__dict__\n    190     if alter_argv:\n    191         sys.argv[0] = mod_spec.origin\n    192     return _run_code(code, main_globals, None,\n--> 193                      \"__main__\", mod_spec)\n        mod_spec = ModuleSpec(name='ipykernel_launcher', loader=<_f...b/python3.6/site-packages/ipykernel_launcher.py')\n    194 \n    195 def run_module(mod_name, init_globals=None,\n    196                run_name=None, alter_sys=False):\n    197     \"\"\"Execute a module's code without importing it\n\n...........................................................................\n/home/hskimim/anaconda3/lib/python3.6/runpy.py in _run_code(code=<code object <module> at 0x7f26dcb0f660, file \"/...3.6/site-packages/ipykernel_launcher.py\", line 5>, run_globals={'__annotations__': {}, '__builtins__': <module 'builtins' (built-in)>, '__cached__': '/home/hskimim/anaconda3/lib/python3.6/site-packages/__pycache__/ipykernel_launcher.cpython-36.pyc', '__doc__': 'Entry point for launching an IPython kernel.\\n\\nTh...orts until\\nafter removing the cwd from sys.path.\\n', '__file__': '/home/hskimim/anaconda3/lib/python3.6/site-packages/ipykernel_launcher.py', '__loader__': <_frozen_importlib_external.SourceFileLoader object>, '__name__': '__main__', '__package__': '', '__spec__': ModuleSpec(name='ipykernel_launcher', loader=<_f...b/python3.6/site-packages/ipykernel_launcher.py'), 'app': <module 'ipykernel.kernelapp' from '/home/hskimi.../python3.6/site-packages/ipykernel/kernelapp.py'>, ...}, init_globals=None, mod_name='__main__', mod_spec=ModuleSpec(name='ipykernel_launcher', loader=<_f...b/python3.6/site-packages/ipykernel_launcher.py'), pkg_name='', script_name=None)\n     80                        __cached__ = cached,\n     81                        __doc__ = None,\n     82                        __loader__ = loader,\n     83                        __package__ = pkg_name,\n     84                        __spec__ = mod_spec)\n---> 85     exec(code, run_globals)\n        code = <code object <module> at 0x7f26dcb0f660, file \"/...3.6/site-packages/ipykernel_launcher.py\", line 5>\n        run_globals = {'__annotations__': {}, '__builtins__': <module 'builtins' (built-in)>, '__cached__': '/home/hskimim/anaconda3/lib/python3.6/site-packages/__pycache__/ipykernel_launcher.cpython-36.pyc', '__doc__': 'Entry point for launching an IPython kernel.\\n\\nTh...orts until\\nafter removing the cwd from sys.path.\\n', '__file__': '/home/hskimim/anaconda3/lib/python3.6/site-packages/ipykernel_launcher.py', '__loader__': <_frozen_importlib_external.SourceFileLoader object>, '__name__': '__main__', '__package__': '', '__spec__': ModuleSpec(name='ipykernel_launcher', loader=<_f...b/python3.6/site-packages/ipykernel_launcher.py'), 'app': <module 'ipykernel.kernelapp' from '/home/hskimi.../python3.6/site-packages/ipykernel/kernelapp.py'>, ...}\n     86     return run_globals\n     87 \n     88 def _run_module_code(code, init_globals=None,\n     89                     mod_name=None, mod_spec=None,\n\n...........................................................................\n/home/hskimim/anaconda3/lib/python3.6/site-packages/ipykernel_launcher.py in <module>()\n     11     # This is added back by InteractiveShellApp.init_path()\n     12     if sys.path[0] == '':\n     13         del sys.path[0]\n     14 \n     15     from ipykernel import kernelapp as app\n---> 16     app.launch_new_instance()\n\n...........................................................................\n/home/hskimim/anaconda3/lib/python3.6/site-packages/traitlets/config/application.py in launch_instance(cls=<class 'ipykernel.kernelapp.IPKernelApp'>, argv=None, **kwargs={})\n    653 \n    654         If a global instance already exists, this reinitializes and starts it\n    655         \"\"\"\n    656         app = cls.instance(**kwargs)\n    657         app.initialize(argv)\n--> 658         app.start()\n        app.start = <bound method IPKernelApp.start of <ipykernel.kernelapp.IPKernelApp object>>\n    659 \n    660 #-----------------------------------------------------------------------------\n    661 # utility functions, for convenience\n    662 #-----------------------------------------------------------------------------\n\n...........................................................................\n/home/hskimim/anaconda3/lib/python3.6/site-packages/ipykernel/kernelapp.py in start(self=<ipykernel.kernelapp.IPKernelApp object>)\n    481         if self.poller is not None:\n    482             self.poller.start()\n    483         self.kernel.start()\n    484         self.io_loop = ioloop.IOLoop.current()\n    485         try:\n--> 486             self.io_loop.start()\n        self.io_loop.start = <bound method BaseAsyncIOLoop.start of <tornado.platform.asyncio.AsyncIOMainLoop object>>\n    487         except KeyboardInterrupt:\n    488             pass\n    489 \n    490 launch_new_instance = IPKernelApp.launch_instance\n\n...........................................................................\n/home/hskimim/anaconda3/lib/python3.6/site-packages/tornado/platform/asyncio.py in start(self=<tornado.platform.asyncio.AsyncIOMainLoop object>)\n    122         except (RuntimeError, AssertionError):\n    123             old_loop = None\n    124         try:\n    125             self._setup_logging()\n    126             asyncio.set_event_loop(self.asyncio_loop)\n--> 127             self.asyncio_loop.run_forever()\n        self.asyncio_loop.run_forever = <bound method BaseEventLoop.run_forever of <_Uni...EventLoop running=True closed=False debug=False>>\n    128         finally:\n    129             asyncio.set_event_loop(old_loop)\n    130 \n    131     def stop(self):\n\n...........................................................................\n/home/hskimim/anaconda3/lib/python3.6/asyncio/base_events.py in run_forever(self=<_UnixSelectorEventLoop running=True closed=False debug=False>)\n    417             sys.set_asyncgen_hooks(firstiter=self._asyncgen_firstiter_hook,\n    418                                    finalizer=self._asyncgen_finalizer_hook)\n    419         try:\n    420             events._set_running_loop(self)\n    421             while True:\n--> 422                 self._run_once()\n        self._run_once = <bound method BaseEventLoop._run_once of <_UnixS...EventLoop running=True closed=False debug=False>>\n    423                 if self._stopping:\n    424                     break\n    425         finally:\n    426             self._stopping = False\n\n...........................................................................\n/home/hskimim/anaconda3/lib/python3.6/asyncio/base_events.py in _run_once(self=<_UnixSelectorEventLoop running=True closed=False debug=False>)\n   1427                         logger.warning('Executing %s took %.3f seconds',\n   1428                                        _format_handle(handle), dt)\n   1429                 finally:\n   1430                     self._current_handle = None\n   1431             else:\n-> 1432                 handle._run()\n        handle._run = <bound method Handle._run of <Handle IOLoop._run_callback(functools.par...7f268c3dd8c8>))>>\n   1433         handle = None  # Needed to break cycles when an exception occurs.\n   1434 \n   1435     def _set_coroutine_wrapper(self, enabled):\n   1436         try:\n\n...........................................................................\n/home/hskimim/anaconda3/lib/python3.6/asyncio/events.py in _run(self=<Handle IOLoop._run_callback(functools.par...7f268c3dd8c8>))>)\n    140             self._callback = None\n    141             self._args = None\n    142 \n    143     def _run(self):\n    144         try:\n--> 145             self._callback(*self._args)\n        self._callback = <bound method IOLoop._run_callback of <tornado.platform.asyncio.AsyncIOMainLoop object>>\n        self._args = (functools.partial(<function wrap.<locals>.null_wrapper at 0x7f268c3dd8c8>),)\n    146         except Exception as exc:\n    147             cb = _format_callback_source(self._callback, self._args)\n    148             msg = 'Exception in callback {}'.format(cb)\n    149             context = {\n\n...........................................................................\n/home/hskimim/anaconda3/lib/python3.6/site-packages/tornado/ioloop.py in _run_callback(self=<tornado.platform.asyncio.AsyncIOMainLoop object>, callback=functools.partial(<function wrap.<locals>.null_wrapper at 0x7f268c3dd8c8>))\n    754         \"\"\"Runs a callback with error handling.\n    755 \n    756         For use in subclasses.\n    757         \"\"\"\n    758         try:\n--> 759             ret = callback()\n        ret = undefined\n        callback = functools.partial(<function wrap.<locals>.null_wrapper at 0x7f268c3dd8c8>)\n    760             if ret is not None:\n    761                 from tornado import gen\n    762                 # Functions that return Futures typically swallow all\n    763                 # exceptions and store them in the Future.  If a Future\n\n...........................................................................\n/home/hskimim/anaconda3/lib/python3.6/site-packages/tornado/stack_context.py in null_wrapper(*args=(), **kwargs={})\n    271         # Fast path when there are no active contexts.\n    272         def null_wrapper(*args, **kwargs):\n    273             try:\n    274                 current_state = _state.contexts\n    275                 _state.contexts = cap_contexts[0]\n--> 276                 return fn(*args, **kwargs)\n        args = ()\n        kwargs = {}\n    277             finally:\n    278                 _state.contexts = current_state\n    279         null_wrapper._wrapped = True\n    280         return null_wrapper\n\n...........................................................................\n/home/hskimim/anaconda3/lib/python3.6/site-packages/zmq/eventloop/zmqstream.py in <lambda>()\n    531             return\n    532 \n    533         if state & self.socket.events:\n    534             # events still exist that haven't been processed\n    535             # explicitly schedule handling to avoid missing events due to edge-triggered FDs\n--> 536             self.io_loop.add_callback(lambda : self._handle_events(self.socket, 0))\n    537 \n    538     def _init_io_state(self):\n    539         \"\"\"initialize the ioloop event handler\"\"\"\n    540         with stack_context.NullContext():\n\n...........................................................................\n/home/hskimim/anaconda3/lib/python3.6/site-packages/zmq/eventloop/zmqstream.py in _handle_events(self=<zmq.eventloop.zmqstream.ZMQStream object>, fd=<zmq.sugar.socket.Socket object>, events=0)\n    445             return\n    446         zmq_events = self.socket.EVENTS\n    447         try:\n    448             # dispatch events:\n    449             if zmq_events & zmq.POLLIN and self.receiving():\n--> 450                 self._handle_recv()\n        self._handle_recv = <bound method ZMQStream._handle_recv of <zmq.eventloop.zmqstream.ZMQStream object>>\n    451                 if not self.socket:\n    452                     return\n    453             if zmq_events & zmq.POLLOUT and self.sending():\n    454                 self._handle_send()\n\n...........................................................................\n/home/hskimim/anaconda3/lib/python3.6/site-packages/zmq/eventloop/zmqstream.py in _handle_recv(self=<zmq.eventloop.zmqstream.ZMQStream object>)\n    475             else:\n    476                 raise\n    477         else:\n    478             if self._recv_callback:\n    479                 callback = self._recv_callback\n--> 480                 self._run_callback(callback, msg)\n        self._run_callback = <bound method ZMQStream._run_callback of <zmq.eventloop.zmqstream.ZMQStream object>>\n        callback = <function wrap.<locals>.null_wrapper>\n        msg = [<zmq.sugar.frame.Frame object>, <zmq.sugar.frame.Frame object>, <zmq.sugar.frame.Frame object>, <zmq.sugar.frame.Frame object>, <zmq.sugar.frame.Frame object>, <zmq.sugar.frame.Frame object>, <zmq.sugar.frame.Frame object>]\n    481         \n    482 \n    483     def _handle_send(self):\n    484         \"\"\"Handle a send event.\"\"\"\n\n...........................................................................\n/home/hskimim/anaconda3/lib/python3.6/site-packages/zmq/eventloop/zmqstream.py in _run_callback(self=<zmq.eventloop.zmqstream.ZMQStream object>, callback=<function wrap.<locals>.null_wrapper>, *args=([<zmq.sugar.frame.Frame object>, <zmq.sugar.frame.Frame object>, <zmq.sugar.frame.Frame object>, <zmq.sugar.frame.Frame object>, <zmq.sugar.frame.Frame object>, <zmq.sugar.frame.Frame object>, <zmq.sugar.frame.Frame object>],), **kwargs={})\n    427         close our socket.\"\"\"\n    428         try:\n    429             # Use a NullContext to ensure that all StackContexts are run\n    430             # inside our blanket exception handler rather than outside.\n    431             with stack_context.NullContext():\n--> 432                 callback(*args, **kwargs)\n        callback = <function wrap.<locals>.null_wrapper>\n        args = ([<zmq.sugar.frame.Frame object>, <zmq.sugar.frame.Frame object>, <zmq.sugar.frame.Frame object>, <zmq.sugar.frame.Frame object>, <zmq.sugar.frame.Frame object>, <zmq.sugar.frame.Frame object>, <zmq.sugar.frame.Frame object>],)\n        kwargs = {}\n    433         except:\n    434             gen_log.error(\"Uncaught exception in ZMQStream callback\",\n    435                           exc_info=True)\n    436             # Re-raise the exception so that IOLoop.handle_callback_exception\n\n...........................................................................\n/home/hskimim/anaconda3/lib/python3.6/site-packages/tornado/stack_context.py in null_wrapper(*args=([<zmq.sugar.frame.Frame object>, <zmq.sugar.frame.Frame object>, <zmq.sugar.frame.Frame object>, <zmq.sugar.frame.Frame object>, <zmq.sugar.frame.Frame object>, <zmq.sugar.frame.Frame object>, <zmq.sugar.frame.Frame object>],), **kwargs={})\n    271         # Fast path when there are no active contexts.\n    272         def null_wrapper(*args, **kwargs):\n    273             try:\n    274                 current_state = _state.contexts\n    275                 _state.contexts = cap_contexts[0]\n--> 276                 return fn(*args, **kwargs)\n        args = ([<zmq.sugar.frame.Frame object>, <zmq.sugar.frame.Frame object>, <zmq.sugar.frame.Frame object>, <zmq.sugar.frame.Frame object>, <zmq.sugar.frame.Frame object>, <zmq.sugar.frame.Frame object>, <zmq.sugar.frame.Frame object>],)\n        kwargs = {}\n    277             finally:\n    278                 _state.contexts = current_state\n    279         null_wrapper._wrapped = True\n    280         return null_wrapper\n\n...........................................................................\n/home/hskimim/anaconda3/lib/python3.6/site-packages/ipykernel/kernelbase.py in dispatcher(msg=[<zmq.sugar.frame.Frame object>, <zmq.sugar.frame.Frame object>, <zmq.sugar.frame.Frame object>, <zmq.sugar.frame.Frame object>, <zmq.sugar.frame.Frame object>, <zmq.sugar.frame.Frame object>, <zmq.sugar.frame.Frame object>])\n    278         if self.control_stream:\n    279             self.control_stream.on_recv(self.dispatch_control, copy=False)\n    280 \n    281         def make_dispatcher(stream):\n    282             def dispatcher(msg):\n--> 283                 return self.dispatch_shell(stream, msg)\n        msg = [<zmq.sugar.frame.Frame object>, <zmq.sugar.frame.Frame object>, <zmq.sugar.frame.Frame object>, <zmq.sugar.frame.Frame object>, <zmq.sugar.frame.Frame object>, <zmq.sugar.frame.Frame object>, <zmq.sugar.frame.Frame object>]\n    284             return dispatcher\n    285 \n    286         for s in self.shell_streams:\n    287             s.on_recv(make_dispatcher(s), copy=False)\n\n...........................................................................\n/home/hskimim/anaconda3/lib/python3.6/site-packages/ipykernel/kernelbase.py in dispatch_shell(self=<ipykernel.ipkernel.IPythonKernel object>, stream=<zmq.eventloop.zmqstream.ZMQStream object>, msg={'buffers': [], 'content': {'allow_stdin': True, 'code': '%%time\\nkfold = KFold(10)\\ncv1 = cross_val_score(logis_model , train_X , train_y,cv=kfold , n_jobs=-1)', 'silent': False, 'stop_on_error': True, 'store_history': True, 'user_expressions': {}}, 'header': {'date': datetime.datetime(2018, 8, 2, 7, 36, 4, 605747, tzinfo=tzutc()), 'msg_id': '0ee207b59cb4320d3066c42d5c5e915e', 'msg_type': 'execute_request', 'session': '0aaaba28041acf26b826eb123541e8e9', 'username': '', 'version': '5.2'}, 'metadata': {}, 'msg_id': '0ee207b59cb4320d3066c42d5c5e915e', 'msg_type': 'execute_request', 'parent_header': {}})\n    228             self.log.warn(\"Unknown message type: %r\", msg_type)\n    229         else:\n    230             self.log.debug(\"%s: %s\", msg_type, msg)\n    231             self.pre_handler_hook()\n    232             try:\n--> 233                 handler(stream, idents, msg)\n        handler = <bound method Kernel.execute_request of <ipykernel.ipkernel.IPythonKernel object>>\n        stream = <zmq.eventloop.zmqstream.ZMQStream object>\n        idents = [b'0aaaba28041acf26b826eb123541e8e9']\n        msg = {'buffers': [], 'content': {'allow_stdin': True, 'code': '%%time\\nkfold = KFold(10)\\ncv1 = cross_val_score(logis_model , train_X , train_y,cv=kfold , n_jobs=-1)', 'silent': False, 'stop_on_error': True, 'store_history': True, 'user_expressions': {}}, 'header': {'date': datetime.datetime(2018, 8, 2, 7, 36, 4, 605747, tzinfo=tzutc()), 'msg_id': '0ee207b59cb4320d3066c42d5c5e915e', 'msg_type': 'execute_request', 'session': '0aaaba28041acf26b826eb123541e8e9', 'username': '', 'version': '5.2'}, 'metadata': {}, 'msg_id': '0ee207b59cb4320d3066c42d5c5e915e', 'msg_type': 'execute_request', 'parent_header': {}}\n    234             except Exception:\n    235                 self.log.error(\"Exception in message handler:\", exc_info=True)\n    236             finally:\n    237                 self.post_handler_hook()\n\n...........................................................................\n/home/hskimim/anaconda3/lib/python3.6/site-packages/ipykernel/kernelbase.py in execute_request(self=<ipykernel.ipkernel.IPythonKernel object>, stream=<zmq.eventloop.zmqstream.ZMQStream object>, ident=[b'0aaaba28041acf26b826eb123541e8e9'], parent={'buffers': [], 'content': {'allow_stdin': True, 'code': '%%time\\nkfold = KFold(10)\\ncv1 = cross_val_score(logis_model , train_X , train_y,cv=kfold , n_jobs=-1)', 'silent': False, 'stop_on_error': True, 'store_history': True, 'user_expressions': {}}, 'header': {'date': datetime.datetime(2018, 8, 2, 7, 36, 4, 605747, tzinfo=tzutc()), 'msg_id': '0ee207b59cb4320d3066c42d5c5e915e', 'msg_type': 'execute_request', 'session': '0aaaba28041acf26b826eb123541e8e9', 'username': '', 'version': '5.2'}, 'metadata': {}, 'msg_id': '0ee207b59cb4320d3066c42d5c5e915e', 'msg_type': 'execute_request', 'parent_header': {}})\n    394         if not silent:\n    395             self.execution_count += 1\n    396             self._publish_execute_input(code, parent, self.execution_count)\n    397 \n    398         reply_content = self.do_execute(code, silent, store_history,\n--> 399                                         user_expressions, allow_stdin)\n        user_expressions = {}\n        allow_stdin = True\n    400 \n    401         # Flush output before sending the reply.\n    402         sys.stdout.flush()\n    403         sys.stderr.flush()\n\n...........................................................................\n/home/hskimim/anaconda3/lib/python3.6/site-packages/ipykernel/ipkernel.py in do_execute(self=<ipykernel.ipkernel.IPythonKernel object>, code='%%time\\nkfold = KFold(10)\\ncv1 = cross_val_score(logis_model , train_X , train_y,cv=kfold , n_jobs=-1)', silent=False, store_history=True, user_expressions={}, allow_stdin=True)\n    203 \n    204         self._forward_input(allow_stdin)\n    205 \n    206         reply_content = {}\n    207         try:\n--> 208             res = shell.run_cell(code, store_history=store_history, silent=silent)\n        res = undefined\n        shell.run_cell = <bound method ZMQInteractiveShell.run_cell of <ipykernel.zmqshell.ZMQInteractiveShell object>>\n        code = '%%time\\nkfold = KFold(10)\\ncv1 = cross_val_score(logis_model , train_X , train_y,cv=kfold , n_jobs=-1)'\n        store_history = True\n        silent = False\n    209         finally:\n    210             self._restore_input()\n    211 \n    212         if res.error_before_exec is not None:\n\n...........................................................................\n/home/hskimim/anaconda3/lib/python3.6/site-packages/ipykernel/zmqshell.py in run_cell(self=<ipykernel.zmqshell.ZMQInteractiveShell object>, *args=('%%time\\nkfold = KFold(10)\\ncv1 = cross_val_score(logis_model , train_X , train_y,cv=kfold , n_jobs=-1)',), **kwargs={'silent': False, 'store_history': True})\n    532             )\n    533         self.payload_manager.write_payload(payload)\n    534 \n    535     def run_cell(self, *args, **kwargs):\n    536         self._last_traceback = None\n--> 537         return super(ZMQInteractiveShell, self).run_cell(*args, **kwargs)\n        self.run_cell = <bound method ZMQInteractiveShell.run_cell of <ipykernel.zmqshell.ZMQInteractiveShell object>>\n        args = ('%%time\\nkfold = KFold(10)\\ncv1 = cross_val_score(logis_model , train_X , train_y,cv=kfold , n_jobs=-1)',)\n        kwargs = {'silent': False, 'store_history': True}\n    538 \n    539     def _showtraceback(self, etype, evalue, stb):\n    540         # try to preserve ordering of tracebacks and print statements\n    541         sys.stdout.flush()\n\n...........................................................................\n/home/hskimim/anaconda3/lib/python3.6/site-packages/IPython/core/interactiveshell.py in run_cell(self=<ipykernel.zmqshell.ZMQInteractiveShell object>, raw_cell='%%time\\nkfold = KFold(10)\\ncv1 = cross_val_score(logis_model , train_X , train_y,cv=kfold , n_jobs=-1)', store_history=True, silent=False, shell_futures=True)\n   2657         -------\n   2658         result : :class:`ExecutionResult`\n   2659         \"\"\"\n   2660         try:\n   2661             result = self._run_cell(\n-> 2662                 raw_cell, store_history, silent, shell_futures)\n        raw_cell = '%%time\\nkfold = KFold(10)\\ncv1 = cross_val_score(logis_model , train_X , train_y,cv=kfold , n_jobs=-1)'\n        store_history = True\n        silent = False\n        shell_futures = True\n   2663         finally:\n   2664             self.events.trigger('post_execute')\n   2665             if not silent:\n   2666                 self.events.trigger('post_run_cell', result)\n\n...........................................................................\n/home/hskimim/anaconda3/lib/python3.6/site-packages/IPython/core/interactiveshell.py in _run_cell(self=<ipykernel.zmqshell.ZMQInteractiveShell object>, raw_cell='%%time\\nkfold = KFold(10)\\ncv1 = cross_val_score(logis_model , train_X , train_y,cv=kfold , n_jobs=-1)', store_history=True, silent=False, shell_futures=True)\n   2780                 self.displayhook.exec_result = result\n   2781 \n   2782                 # Execute the user code\n   2783                 interactivity = 'none' if silent else self.ast_node_interactivity\n   2784                 has_raised = self.run_ast_nodes(code_ast.body, cell_name,\n-> 2785                    interactivity=interactivity, compiler=compiler, result=result)\n        interactivity = 'last_expr'\n        compiler = <IPython.core.compilerop.CachingCompiler object>\n   2786                 \n   2787                 self.last_execution_succeeded = not has_raised\n   2788                 self.last_execution_result = result\n   2789 \n\n...........................................................................\n/home/hskimim/anaconda3/lib/python3.6/site-packages/IPython/core/interactiveshell.py in run_ast_nodes(self=<ipykernel.zmqshell.ZMQInteractiveShell object>, nodelist=[<_ast.Expr object>], cell_name='<ipython-input-27-a7bf6e42b9f2>', interactivity='last', compiler=<IPython.core.compilerop.CachingCompiler object>, result=<ExecutionResult object at 7f268e15e048, executi...rue silent=False shell_futures=True> result=None>)\n   2904                     return True\n   2905 \n   2906             for i, node in enumerate(to_run_interactive):\n   2907                 mod = ast.Interactive([node])\n   2908                 code = compiler(mod, cell_name, \"single\")\n-> 2909                 if self.run_code(code, result):\n        self.run_code = <bound method InteractiveShell.run_code of <ipykernel.zmqshell.ZMQInteractiveShell object>>\n        code = <code object <module> at 0x7f268c40c390, file \"<ipython-input-27-a7bf6e42b9f2>\", line 1>\n        result = <ExecutionResult object at 7f268e15e048, executi...rue silent=False shell_futures=True> result=None>\n   2910                     return True\n   2911 \n   2912             # Flush softspace\n   2913             if softspace(sys.stdout, 0):\n\n...........................................................................\n/home/hskimim/anaconda3/lib/python3.6/site-packages/IPython/core/interactiveshell.py in run_code(self=<ipykernel.zmqshell.ZMQInteractiveShell object>, code_obj=<code object <module> at 0x7f268c40c390, file \"<ipython-input-27-a7bf6e42b9f2>\", line 1>, result=<ExecutionResult object at 7f268e15e048, executi...rue silent=False shell_futures=True> result=None>)\n   2958         outflag = True  # happens in more places, so it's easier as default\n   2959         try:\n   2960             try:\n   2961                 self.hooks.pre_run_code_hook()\n   2962                 #rprint('Running code', repr(code_obj)) # dbg\n-> 2963                 exec(code_obj, self.user_global_ns, self.user_ns)\n        code_obj = <code object <module> at 0x7f268c40c390, file \"<ipython-input-27-a7bf6e42b9f2>\", line 1>\n        self.user_global_ns = {'In': ['', \"import numpy as np\\nimport pandas as pd\\nimport wa...efilter('ignore')\\nfrom awesome_functions import *\", \"train_df = pd.read_csv('train.csv')\\ntest_df = pd.read_csv('test.csv')\", 'len(train_df.columns)', \"train_df['DepartmentDescription'] = train_df['De...,'MENS WEAR')\\n#겹치는 컬럼 이름을 하나로 합쳐주기 위해서 replace한다.\", 'train_dd = make_df_we_wanted(train_df,train_df,test_df,is_need_null_column=True)', 'train_X , train_y = get_df_to_fit(train_dd)', \"testing_df = train_df['FinelineNumber'].value_co... 100 / len(train_df['FinelineNumber'])\\ntesting_df\", 'get_ipython().run_cell_magic(\\'time\\', \\'\\', \"ls = [...r\\'] == i]) == 1:\\\\n        ls.append(i)\\\\nlen(ls)\")', r\"print('length of FinelineNumber which points onl...entDescription: ',len(ls),end='\\n\\n\\n'),print(ls)\", \"fl_dummies = pd.get_dummies(train_df['FinelineNumber'])\", 'fl_dummies = fl_dummies[ls]', \"for i in range(len(ls)):\\n    if np.sum(fl_dummies.iloc[:,i]) !=1:\\n        print('emergency')\", 'train_df = pd.concat([train_df,fl_dummies],axis=1)', 'from awesome_functions import *\\ntrain_df = make_...ive_scancount_only=True,is_need_null_column=True)', 'train_df.tail()', 'train_df.shape', \"train_X = train_df.copy()\\ntrain_X.index = train_...(columns=['TripType','VisitNumber'],inplace=True)\", \"train_y = train_df['TripType']\", 'train_X.shape , train_y.shape', ...], 'KFold': <class 'sklearn.model_selection._split.KFold'>, 'LogisticRegression': <class 'sklearn.linear_model.logistic.LogisticRegression'>, 'Markdown': <class 'IPython.core.display.Markdown'>, 'MultinomialNB': <class 'sklearn.naive_bayes.MultinomialNB'>, 'Out': {3: 7, 7:         FinelineNumber     ratio\nindex          ...             1  0.000155\n\n[5195 rows x 2 columns], 9: (None, None), 15:        VisitNumber  TripType  5358.0  2086.0  48...    0         0       1  \n\n[5 rows x 319 columns], 16: (95674, 319), 19: ((95674, 317), (95674,)), 20:              5358.0  2086.0  4845.0  1808.0  659...    0         0       1  \n\n[5 rows x 317 columns], 21: 95669    25\n95670    22\n95671    39\n95672    39\n95673     8\nName: TripType, dtype: int64, 25: 0.6489955473796434}, 'SCORERS': {'accuracy': make_scorer(accuracy_score), 'adjusted_mutual_info_score': make_scorer(adjusted_mutual_info_score), 'adjusted_rand_score': make_scorer(adjusted_rand_score), 'average_precision': make_scorer(average_precision_score, needs_threshold=True), 'completeness_score': make_scorer(completeness_score), 'explained_variance': make_scorer(explained_variance_score), 'f1': make_scorer(f1_score), 'f1_macro': make_scorer(f1_score, pos_label=None, average=macro), 'f1_micro': make_scorer(f1_score, pos_label=None, average=micro), 'f1_samples': make_scorer(f1_score, pos_label=None, average=samples), ...}, '_': 0.6489955473796434, '_15':        VisitNumber  TripType  5358.0  2086.0  48...    0         0       1  \n\n[5 rows x 319 columns], '_16': (95674, 319), ...}\n        self.user_ns = {'In': ['', \"import numpy as np\\nimport pandas as pd\\nimport wa...efilter('ignore')\\nfrom awesome_functions import *\", \"train_df = pd.read_csv('train.csv')\\ntest_df = pd.read_csv('test.csv')\", 'len(train_df.columns)', \"train_df['DepartmentDescription'] = train_df['De...,'MENS WEAR')\\n#겹치는 컬럼 이름을 하나로 합쳐주기 위해서 replace한다.\", 'train_dd = make_df_we_wanted(train_df,train_df,test_df,is_need_null_column=True)', 'train_X , train_y = get_df_to_fit(train_dd)', \"testing_df = train_df['FinelineNumber'].value_co... 100 / len(train_df['FinelineNumber'])\\ntesting_df\", 'get_ipython().run_cell_magic(\\'time\\', \\'\\', \"ls = [...r\\'] == i]) == 1:\\\\n        ls.append(i)\\\\nlen(ls)\")', r\"print('length of FinelineNumber which points onl...entDescription: ',len(ls),end='\\n\\n\\n'),print(ls)\", \"fl_dummies = pd.get_dummies(train_df['FinelineNumber'])\", 'fl_dummies = fl_dummies[ls]', \"for i in range(len(ls)):\\n    if np.sum(fl_dummies.iloc[:,i]) !=1:\\n        print('emergency')\", 'train_df = pd.concat([train_df,fl_dummies],axis=1)', 'from awesome_functions import *\\ntrain_df = make_...ive_scancount_only=True,is_need_null_column=True)', 'train_df.tail()', 'train_df.shape', \"train_X = train_df.copy()\\ntrain_X.index = train_...(columns=['TripType','VisitNumber'],inplace=True)\", \"train_y = train_df['TripType']\", 'train_X.shape , train_y.shape', ...], 'KFold': <class 'sklearn.model_selection._split.KFold'>, 'LogisticRegression': <class 'sklearn.linear_model.logistic.LogisticRegression'>, 'Markdown': <class 'IPython.core.display.Markdown'>, 'MultinomialNB': <class 'sklearn.naive_bayes.MultinomialNB'>, 'Out': {3: 7, 7:         FinelineNumber     ratio\nindex          ...             1  0.000155\n\n[5195 rows x 2 columns], 9: (None, None), 15:        VisitNumber  TripType  5358.0  2086.0  48...    0         0       1  \n\n[5 rows x 319 columns], 16: (95674, 319), 19: ((95674, 317), (95674,)), 20:              5358.0  2086.0  4845.0  1808.0  659...    0         0       1  \n\n[5 rows x 317 columns], 21: 95669    25\n95670    22\n95671    39\n95672    39\n95673     8\nName: TripType, dtype: int64, 25: 0.6489955473796434}, 'SCORERS': {'accuracy': make_scorer(accuracy_score), 'adjusted_mutual_info_score': make_scorer(adjusted_mutual_info_score), 'adjusted_rand_score': make_scorer(adjusted_rand_score), 'average_precision': make_scorer(average_precision_score, needs_threshold=True), 'completeness_score': make_scorer(completeness_score), 'explained_variance': make_scorer(explained_variance_score), 'f1': make_scorer(f1_score), 'f1_macro': make_scorer(f1_score, pos_label=None, average=macro), 'f1_micro': make_scorer(f1_score, pos_label=None, average=micro), 'f1_samples': make_scorer(f1_score, pos_label=None, average=samples), ...}, '_': 0.6489955473796434, '_15':        VisitNumber  TripType  5358.0  2086.0  48...    0         0       1  \n\n[5 rows x 319 columns], '_16': (95674, 319), ...}\n   2964             finally:\n   2965                 # Reset our crash handler in place\n   2966                 sys.excepthook = old_excepthook\n   2967         except SystemExit as e:\n\n...........................................................................\n/home/hskimim/Documents/git-project/dss8/Walmart_TripType_Classification/<ipython-input-27-a7bf6e42b9f2> in <module>()\n----> 1 get_ipython().run_cell_magic('time', '', 'kfold = KFold(10)\\ncv1 = cross_val_score(logis_model , train_X , train_y,cv=kfold , n_jobs=-1)')\n\n...........................................................................\n/home/hskimim/anaconda3/lib/python3.6/site-packages/IPython/core/interactiveshell.py in run_cell_magic(self=<ipykernel.zmqshell.ZMQInteractiveShell object>, magic_name='time', line='', cell='kfold = KFold(10)\\ncv1 = cross_val_score(logis_model , train_X , train_y,cv=kfold , n_jobs=-1)')\n   2162             # This will need to be updated if the internal calling logic gets\n   2163             # refactored, or else we'll be expanding the wrong variables.\n   2164             stack_depth = 2\n   2165             magic_arg_s = self.var_expand(line, stack_depth)\n   2166             with self.builtin_trap:\n-> 2167                 result = fn(magic_arg_s, cell)\n        result = undefined\n        fn = <bound method ExecutionMagics.time of <IPython.core.magics.execution.ExecutionMagics object>>\n        magic_arg_s = ''\n        cell = 'kfold = KFold(10)\\ncv1 = cross_val_score(logis_model , train_X , train_y,cv=kfold , n_jobs=-1)'\n   2168             return result\n   2169 \n   2170     def find_line_magic(self, magic_name):\n   2171         \"\"\"Find and return a line magic by name.\n\n...........................................................................\n/home/hskimim/Documents/git-project/dss8/Walmart_TripType_Classification/<decorator-gen-62> in time(self=<IPython.core.magics.execution.ExecutionMagics object>, line='', cell='kfold = KFold(10)\\ncv1 = cross_val_score(logis_model , train_X , train_y,cv=kfold , n_jobs=-1)', local_ns=None)\n\n...........................................................................\n/home/hskimim/anaconda3/lib/python3.6/site-packages/IPython/core/magic.py in <lambda>(f=<function ExecutionMagics.time>, *a=(<IPython.core.magics.execution.ExecutionMagics object>, '', 'kfold = KFold(10)\\ncv1 = cross_val_score(logis_model , train_X , train_y,cv=kfold , n_jobs=-1)', None), **k={})\n    182     validate_type(magic_kind)\n    183 \n    184     # This is a closure to capture the magic_kind.  We could also use a class,\n    185     # but it's overkill for just that one bit of state.\n    186     def magic_deco(arg):\n--> 187         call = lambda f, *a, **k: f(*a, **k)\n        f = <function ExecutionMagics.time>\n        a = (<IPython.core.magics.execution.ExecutionMagics object>, '', 'kfold = KFold(10)\\ncv1 = cross_val_score(logis_model , train_X , train_y,cv=kfold , n_jobs=-1)', None)\n        k = {}\n    188 \n    189         if callable(arg):\n    190             # \"Naked\" decorator call (just @foo, no args)\n    191             func = arg\n\n...........................................................................\n/home/hskimim/anaconda3/lib/python3.6/site-packages/IPython/core/magics/execution.py in time(self=<IPython.core.magics.execution.ExecutionMagics object>, line='', cell='kfold = KFold(10)\\ncv1 = cross_val_score(logis_model , train_X , train_y,cv=kfold , n_jobs=-1)', local_ns=None)\n   1233                 return\n   1234             end = clock2()\n   1235         else:\n   1236             st = clock2()\n   1237             try:\n-> 1238                 exec(code, glob, local_ns)\n        code = <code object <module> at 0x7f268c40c420, file \"<timed exec>\", line 1>\n        glob = {'In': ['', \"import numpy as np\\nimport pandas as pd\\nimport wa...efilter('ignore')\\nfrom awesome_functions import *\", \"train_df = pd.read_csv('train.csv')\\ntest_df = pd.read_csv('test.csv')\", 'len(train_df.columns)', \"train_df['DepartmentDescription'] = train_df['De...,'MENS WEAR')\\n#겹치는 컬럼 이름을 하나로 합쳐주기 위해서 replace한다.\", 'train_dd = make_df_we_wanted(train_df,train_df,test_df,is_need_null_column=True)', 'train_X , train_y = get_df_to_fit(train_dd)', \"testing_df = train_df['FinelineNumber'].value_co... 100 / len(train_df['FinelineNumber'])\\ntesting_df\", 'get_ipython().run_cell_magic(\\'time\\', \\'\\', \"ls = [...r\\'] == i]) == 1:\\\\n        ls.append(i)\\\\nlen(ls)\")', r\"print('length of FinelineNumber which points onl...entDescription: ',len(ls),end='\\n\\n\\n'),print(ls)\", \"fl_dummies = pd.get_dummies(train_df['FinelineNumber'])\", 'fl_dummies = fl_dummies[ls]', \"for i in range(len(ls)):\\n    if np.sum(fl_dummies.iloc[:,i]) !=1:\\n        print('emergency')\", 'train_df = pd.concat([train_df,fl_dummies],axis=1)', 'from awesome_functions import *\\ntrain_df = make_...ive_scancount_only=True,is_need_null_column=True)', 'train_df.tail()', 'train_df.shape', \"train_X = train_df.copy()\\ntrain_X.index = train_...(columns=['TripType','VisitNumber'],inplace=True)\", \"train_y = train_df['TripType']\", 'train_X.shape , train_y.shape', ...], 'KFold': <class 'sklearn.model_selection._split.KFold'>, 'LogisticRegression': <class 'sklearn.linear_model.logistic.LogisticRegression'>, 'Markdown': <class 'IPython.core.display.Markdown'>, 'MultinomialNB': <class 'sklearn.naive_bayes.MultinomialNB'>, 'Out': {3: 7, 7:         FinelineNumber     ratio\nindex          ...             1  0.000155\n\n[5195 rows x 2 columns], 9: (None, None), 15:        VisitNumber  TripType  5358.0  2086.0  48...    0         0       1  \n\n[5 rows x 319 columns], 16: (95674, 319), 19: ((95674, 317), (95674,)), 20:              5358.0  2086.0  4845.0  1808.0  659...    0         0       1  \n\n[5 rows x 317 columns], 21: 95669    25\n95670    22\n95671    39\n95672    39\n95673     8\nName: TripType, dtype: int64, 25: 0.6489955473796434}, 'SCORERS': {'accuracy': make_scorer(accuracy_score), 'adjusted_mutual_info_score': make_scorer(adjusted_mutual_info_score), 'adjusted_rand_score': make_scorer(adjusted_rand_score), 'average_precision': make_scorer(average_precision_score, needs_threshold=True), 'completeness_score': make_scorer(completeness_score), 'explained_variance': make_scorer(explained_variance_score), 'f1': make_scorer(f1_score), 'f1_macro': make_scorer(f1_score, pos_label=None, average=macro), 'f1_micro': make_scorer(f1_score, pos_label=None, average=micro), 'f1_samples': make_scorer(f1_score, pos_label=None, average=samples), ...}, '_': 0.6489955473796434, '_15':        VisitNumber  TripType  5358.0  2086.0  48...    0         0       1  \n\n[5 rows x 319 columns], '_16': (95674, 319), ...}\n        local_ns = None\n   1239             except:\n   1240                 self.shell.showtraceback()\n   1241                 return\n   1242             end = clock2()\n\n...........................................................................\n/home/hskimim/Documents/git-project/dss8/Walmart_TripType_Classification/<timed exec> in <module>()\n\n...........................................................................\n/home/hskimim/anaconda3/lib/python3.6/site-packages/sklearn/model_selection/_validation.py in cross_val_score(estimator=LogisticRegression(C=1.0, class_weight=None, dua...ol=0.0001,\n          verbose=0, warm_start=False), X=             5358.0  2086.0  4845.0  1808.0  659...0         0       1  \n\n[95674 rows x 317 columns], y=0        999\n1         30\n2         26\n3        ...    8\nName: TripType, Length: 95674, dtype: int64, groups=None, scoring=None, cv=KFold(n_splits=10, random_state=None, shuffle=False), n_jobs=-1, verbose=0, fit_params=None, pre_dispatch='2*n_jobs')\n    337     cv_results = cross_validate(estimator=estimator, X=X, y=y, groups=groups,\n    338                                 scoring={'score': scorer}, cv=cv,\n    339                                 return_train_score=False,\n    340                                 n_jobs=n_jobs, verbose=verbose,\n    341                                 fit_params=fit_params,\n--> 342                                 pre_dispatch=pre_dispatch)\n        pre_dispatch = '2*n_jobs'\n    343     return cv_results['test_score']\n    344 \n    345 \n    346 def _fit_and_score(estimator, X, y, scorer, train, test, verbose,\n\n...........................................................................\n/home/hskimim/anaconda3/lib/python3.6/site-packages/sklearn/model_selection/_validation.py in cross_validate(estimator=LogisticRegression(C=1.0, class_weight=None, dua...ol=0.0001,\n          verbose=0, warm_start=False), X=             5358.0  2086.0  4845.0  1808.0  659...0         0       1  \n\n[95674 rows x 317 columns], y=0        999\n1         30\n2         26\n3        ...    8\nName: TripType, Length: 95674, dtype: int64, groups=None, scoring={'score': <function _passthrough_scorer>}, cv=KFold(n_splits=10, random_state=None, shuffle=False), n_jobs=-1, verbose=0, fit_params=None, pre_dispatch='2*n_jobs', return_train_score=False)\n    201     scores = parallel(\n    202         delayed(_fit_and_score)(\n    203             clone(estimator), X, y, scorers, train, test, verbose, None,\n    204             fit_params, return_train_score=return_train_score,\n    205             return_times=True)\n--> 206         for train, test in cv.split(X, y, groups))\n        cv.split = <bound method _BaseKFold.split of KFold(n_splits=10, random_state=None, shuffle=False)>\n        X =              5358.0  2086.0  4845.0  1808.0  659...0         0       1  \n\n[95674 rows x 317 columns]\n        y = 0        999\n1         30\n2         26\n3        ...    8\nName: TripType, Length: 95674, dtype: int64\n        groups = None\n    207 \n    208     if return_train_score:\n    209         train_scores, test_scores, fit_times, score_times = zip(*scores)\n    210         train_scores = _aggregate_score_dicts(train_scores)\n\n...........................................................................\n/home/hskimim/anaconda3/lib/python3.6/site-packages/sklearn/externals/joblib/parallel.py in __call__(self=Parallel(n_jobs=-1), iterable=<generator object cross_validate.<locals>.<genexpr>>)\n    784             if pre_dispatch == \"all\" or n_jobs == 1:\n    785                 # The iterable was consumed all at once by the above for loop.\n    786                 # No need to wait for async callbacks to trigger to\n    787                 # consumption.\n    788                 self._iterating = False\n--> 789             self.retrieve()\n        self.retrieve = <bound method Parallel.retrieve of Parallel(n_jobs=-1)>\n    790             # Make sure that we get a last message telling us we are done\n    791             elapsed_time = time.time() - self._start_time\n    792             self._print('Done %3i out of %3i | elapsed: %s finished',\n    793                         (len(self._output), len(self._output),\n\n---------------------------------------------------------------------------\nSub-process traceback:\n---------------------------------------------------------------------------\nMemoryError                                        Thu Aug  2 16:38:04 2018\nPID: 7486                  Python 3.6.5: /home/hskimim/anaconda3/bin/python\n...........................................................................\n/home/hskimim/anaconda3/lib/python3.6/site-packages/sklearn/externals/joblib/parallel.py in __call__(self=<sklearn.externals.joblib.parallel.BatchedCalls object>)\n    126     def __init__(self, iterator_slice):\n    127         self.items = list(iterator_slice)\n    128         self._size = len(self.items)\n    129 \n    130     def __call__(self):\n--> 131         return [func(*args, **kwargs) for func, args, kwargs in self.items]\n        self.items = [(<function _fit_and_score>, (LogisticRegression(C=1.0, class_weight=None, dua...ol=0.0001,\n          verbose=0, warm_start=False),              5358.0  2086.0  4845.0  1808.0  659...0         0       1  \n\n[95674 rows x 317 columns], 0        999\n1         30\n2         26\n3        ...    8\nName: TripType, Length: 95674, dtype: int64, {'score': <function _passthrough_scorer>}, array([    0,     1,     2, ..., 95671, 95672, 95673]), array([66973, 66974, 66975, ..., 76537, 76538, 76539]), 0, None, None), {'return_times': True, 'return_train_score': False})]\n    132 \n    133     def __len__(self):\n    134         return self._size\n    135 \n\n...........................................................................\n/home/hskimim/anaconda3/lib/python3.6/site-packages/sklearn/externals/joblib/parallel.py in <listcomp>(.0=<list_iterator object>)\n    126     def __init__(self, iterator_slice):\n    127         self.items = list(iterator_slice)\n    128         self._size = len(self.items)\n    129 \n    130     def __call__(self):\n--> 131         return [func(*args, **kwargs) for func, args, kwargs in self.items]\n        func = <function _fit_and_score>\n        args = (LogisticRegression(C=1.0, class_weight=None, dua...ol=0.0001,\n          verbose=0, warm_start=False),              5358.0  2086.0  4845.0  1808.0  659...0         0       1  \n\n[95674 rows x 317 columns], 0        999\n1         30\n2         26\n3        ...    8\nName: TripType, Length: 95674, dtype: int64, {'score': <function _passthrough_scorer>}, array([    0,     1,     2, ..., 95671, 95672, 95673]), array([66973, 66974, 66975, ..., 76537, 76538, 76539]), 0, None, None)\n        kwargs = {'return_times': True, 'return_train_score': False}\n    132 \n    133     def __len__(self):\n    134         return self._size\n    135 \n\n...........................................................................\n/home/hskimim/anaconda3/lib/python3.6/site-packages/sklearn/model_selection/_validation.py in _fit_and_score(estimator=LogisticRegression(C=1.0, class_weight=None, dua...ol=0.0001,\n          verbose=0, warm_start=False), X=             5358.0  2086.0  4845.0  1808.0  659...0         0       1  \n\n[95674 rows x 317 columns], y=0        999\n1         30\n2         26\n3        ...    8\nName: TripType, Length: 95674, dtype: int64, scorer={'score': <function _passthrough_scorer>}, train=array([    0,     1,     2, ..., 95671, 95672, 95673]), test=array([66973, 66974, 66975, ..., 76537, 76538, 76539]), verbose=0, parameters=None, fit_params={}, return_train_score=False, return_parameters=False, return_n_test_samples=False, return_times=True, error_score='raise')\n    453 \n    454     try:\n    455         if y_train is None:\n    456             estimator.fit(X_train, **fit_params)\n    457         else:\n--> 458             estimator.fit(X_train, y_train, **fit_params)\n        estimator.fit = <bound method LogisticRegression.fit of Logistic...l=0.0001,\n          verbose=0, warm_start=False)>\n        X_train =              5358.0  2086.0  4845.0  1808.0  659...0         0       1  \n\n[86107 rows x 317 columns]\n        y_train = 0        999\n1         30\n2         26\n3        ...    8\nName: TripType, Length: 86107, dtype: int64\n        fit_params = {}\n    459 \n    460     except Exception as e:\n    461         # Note fit time as time until error\n    462         fit_time = time.time() - start_time\n\n...........................................................................\n/home/hskimim/anaconda3/lib/python3.6/site-packages/sklearn/linear_model/logistic.py in fit(self=LogisticRegression(C=1.0, class_weight=None, dua...ol=0.0001,\n          verbose=0, warm_start=False), X=             5358.0  2086.0  4845.0  1808.0  659...0         0       1  \n\n[86107 rows x 317 columns], y=0        999\n1         30\n2         26\n3        ...    8\nName: TripType, Length: 86107, dtype: int64, sample_weight=None)\n   1211             _dtype = [np.float64, np.float32]\n   1212         else:\n   1213             _dtype = np.float64\n   1214 \n   1215         X, y = check_X_y(X, y, accept_sparse='csr', dtype=_dtype,\n-> 1216                          order=\"C\")\n   1217         check_classification_targets(y)\n   1218         self.classes_ = np.unique(y)\n   1219         n_samples, n_features = X.shape\n   1220 \n\n...........................................................................\n/home/hskimim/anaconda3/lib/python3.6/site-packages/sklearn/utils/validation.py in check_X_y(X=             5358.0  2086.0  4845.0  1808.0  659...0         0       1  \n\n[86107 rows x 317 columns], y=0        999\n1         30\n2         26\n3        ...    8\nName: TripType, Length: 86107, dtype: int64, accept_sparse='csr', dtype=<class 'numpy.float64'>, order='C', copy=False, force_all_finite=True, ensure_2d=True, allow_nd=False, multi_output=False, ensure_min_samples=1, ensure_min_features=1, y_numeric=False, warn_on_dtype=False, estimator=None)\n    568     y_converted : object\n    569         The converted and validated y.\n    570     \"\"\"\n    571     X = check_array(X, accept_sparse, dtype, order, copy, force_all_finite,\n    572                     ensure_2d, allow_nd, ensure_min_samples,\n--> 573                     ensure_min_features, warn_on_dtype, estimator)\n        ensure_min_features = 1\n        warn_on_dtype = False\n        estimator = None\n    574     if multi_output:\n    575         y = check_array(y, 'csr', force_all_finite=True, ensure_2d=False,\n    576                         dtype=None)\n    577     else:\n\n...........................................................................\n/home/hskimim/anaconda3/lib/python3.6/site-packages/sklearn/utils/validation.py in check_array(array=             5358.0  2086.0  4845.0  1808.0  659...0         0       1  \n\n[86107 rows x 317 columns], accept_sparse='csr', dtype=<class 'numpy.float64'>, order='C', copy=False, force_all_finite=True, ensure_2d=True, allow_nd=False, ensure_min_samples=1, ensure_min_features=1, warn_on_dtype=False, estimator=None)\n    428 \n    429     if sp.issparse(array):\n    430         array = _ensure_sparse_format(array, accept_sparse, dtype, copy,\n    431                                       force_all_finite)\n    432     else:\n--> 433         array = np.array(array, dtype=dtype, order=order, copy=copy)\n        array =              5358.0  2086.0  4845.0  1808.0  659...0         0       1  \n\n[86107 rows x 317 columns]\n        dtype = <class 'numpy.float64'>\n        order = 'C'\n        copy = False\n    434 \n    435         if ensure_2d:\n    436             if array.ndim == 1:\n    437                 raise ValueError(\n\nMemoryError: \n___________________________________________________________________________",
     "output_type": "error",
     "traceback": [
      "\u001b[0;31m---------------------------------------------------------------------------\u001b[0m",
      "\u001b[0;31mRemoteTraceback\u001b[0m                           Traceback (most recent call last)",
      "\u001b[0;31mRemoteTraceback\u001b[0m: \n\"\"\"\nTraceback (most recent call last):\n  File \"/home/hskimim/anaconda3/lib/python3.6/site-packages/sklearn/externals/joblib/_parallel_backends.py\", line 350, in __call__\n    return self.func(*args, **kwargs)\n  File \"/home/hskimim/anaconda3/lib/python3.6/site-packages/sklearn/externals/joblib/parallel.py\", line 131, in __call__\n    return [func(*args, **kwargs) for func, args, kwargs in self.items]\n  File \"/home/hskimim/anaconda3/lib/python3.6/site-packages/sklearn/externals/joblib/parallel.py\", line 131, in <listcomp>\n    return [func(*args, **kwargs) for func, args, kwargs in self.items]\n  File \"/home/hskimim/anaconda3/lib/python3.6/site-packages/sklearn/model_selection/_validation.py\", line 458, in _fit_and_score\n    estimator.fit(X_train, y_train, **fit_params)\n  File \"/home/hskimim/anaconda3/lib/python3.6/site-packages/sklearn/linear_model/logistic.py\", line 1216, in fit\n    order=\"C\")\n  File \"/home/hskimim/anaconda3/lib/python3.6/site-packages/sklearn/utils/validation.py\", line 573, in check_X_y\n    ensure_min_features, warn_on_dtype, estimator)\n  File \"/home/hskimim/anaconda3/lib/python3.6/site-packages/sklearn/utils/validation.py\", line 433, in check_array\n    array = np.array(array, dtype=dtype, order=order, copy=copy)\nMemoryError\n\nDuring handling of the above exception, another exception occurred:\n\nTraceback (most recent call last):\n  File \"/home/hskimim/anaconda3/lib/python3.6/multiprocessing/pool.py\", line 119, in worker\n    result = (True, func(*args, **kwds))\n  File \"/home/hskimim/anaconda3/lib/python3.6/site-packages/sklearn/externals/joblib/_parallel_backends.py\", line 359, in __call__\n    raise TransportableException(text, e_type)\nsklearn.externals.joblib.my_exceptions.TransportableException: TransportableException\n___________________________________________________________________________\nMemoryError                                        Thu Aug  2 16:38:04 2018\nPID: 7486                  Python 3.6.5: /home/hskimim/anaconda3/bin/python\n...........................................................................\n/home/hskimim/anaconda3/lib/python3.6/site-packages/sklearn/externals/joblib/parallel.py in __call__(self=<sklearn.externals.joblib.parallel.BatchedCalls object>)\n    126     def __init__(self, iterator_slice):\n    127         self.items = list(iterator_slice)\n    128         self._size = len(self.items)\n    129 \n    130     def __call__(self):\n--> 131         return [func(*args, **kwargs) for func, args, kwargs in self.items]\n        self.items = [(<function _fit_and_score>, (LogisticRegression(C=1.0, class_weight=None, dua...ol=0.0001,\n          verbose=0, warm_start=False),              5358.0  2086.0  4845.0  1808.0  659...0         0       1  \n\n[95674 rows x 317 columns], 0        999\n1         30\n2         26\n3        ...    8\nName: TripType, Length: 95674, dtype: int64, {'score': <function _passthrough_scorer>}, array([    0,     1,     2, ..., 95671, 95672, 95673]), array([66973, 66974, 66975, ..., 76537, 76538, 76539]), 0, None, None), {'return_times': True, 'return_train_score': False})]\n    132 \n    133     def __len__(self):\n    134         return self._size\n    135 \n\n...........................................................................\n/home/hskimim/anaconda3/lib/python3.6/site-packages/sklearn/externals/joblib/parallel.py in <listcomp>(.0=<list_iterator object>)\n    126     def __init__(self, iterator_slice):\n    127         self.items = list(iterator_slice)\n    128         self._size = len(self.items)\n    129 \n    130     def __call__(self):\n--> 131         return [func(*args, **kwargs) for func, args, kwargs in self.items]\n        func = <function _fit_and_score>\n        args = (LogisticRegression(C=1.0, class_weight=None, dua...ol=0.0001,\n          verbose=0, warm_start=False),              5358.0  2086.0  4845.0  1808.0  659...0         0       1  \n\n[95674 rows x 317 columns], 0        999\n1         30\n2         26\n3        ...    8\nName: TripType, Length: 95674, dtype: int64, {'score': <function _passthrough_scorer>}, array([    0,     1,     2, ..., 95671, 95672, 95673]), array([66973, 66974, 66975, ..., 76537, 76538, 76539]), 0, None, None)\n        kwargs = {'return_times': True, 'return_train_score': False}\n    132 \n    133     def __len__(self):\n    134         return self._size\n    135 \n\n...........................................................................\n/home/hskimim/anaconda3/lib/python3.6/site-packages/sklearn/model_selection/_validation.py in _fit_and_score(estimator=LogisticRegression(C=1.0, class_weight=None, dua...ol=0.0001,\n          verbose=0, warm_start=False), X=             5358.0  2086.0  4845.0  1808.0  659...0         0       1  \n\n[95674 rows x 317 columns], y=0        999\n1         30\n2         26\n3        ...    8\nName: TripType, Length: 95674, dtype: int64, scorer={'score': <function _passthrough_scorer>}, train=array([    0,     1,     2, ..., 95671, 95672, 95673]), test=array([66973, 66974, 66975, ..., 76537, 76538, 76539]), verbose=0, parameters=None, fit_params={}, return_train_score=False, return_parameters=False, return_n_test_samples=False, return_times=True, error_score='raise')\n    453 \n    454     try:\n    455         if y_train is None:\n    456             estimator.fit(X_train, **fit_params)\n    457         else:\n--> 458             estimator.fit(X_train, y_train, **fit_params)\n        estimator.fit = <bound method LogisticRegression.fit of Logistic...l=0.0001,\n          verbose=0, warm_start=False)>\n        X_train =              5358.0  2086.0  4845.0  1808.0  659...0         0       1  \n\n[86107 rows x 317 columns]\n        y_train = 0        999\n1         30\n2         26\n3        ...    8\nName: TripType, Length: 86107, dtype: int64\n        fit_params = {}\n    459 \n    460     except Exception as e:\n    461         # Note fit time as time until error\n    462         fit_time = time.time() - start_time\n\n...........................................................................\n/home/hskimim/anaconda3/lib/python3.6/site-packages/sklearn/linear_model/logistic.py in fit(self=LogisticRegression(C=1.0, class_weight=None, dua...ol=0.0001,\n          verbose=0, warm_start=False), X=             5358.0  2086.0  4845.0  1808.0  659...0         0       1  \n\n[86107 rows x 317 columns], y=0        999\n1         30\n2         26\n3        ...    8\nName: TripType, Length: 86107, dtype: int64, sample_weight=None)\n   1211             _dtype = [np.float64, np.float32]\n   1212         else:\n   1213             _dtype = np.float64\n   1214 \n   1215         X, y = check_X_y(X, y, accept_sparse='csr', dtype=_dtype,\n-> 1216                          order=\"C\")\n   1217         check_classification_targets(y)\n   1218         self.classes_ = np.unique(y)\n   1219         n_samples, n_features = X.shape\n   1220 \n\n...........................................................................\n/home/hskimim/anaconda3/lib/python3.6/site-packages/sklearn/utils/validation.py in check_X_y(X=             5358.0  2086.0  4845.0  1808.0  659...0         0       1  \n\n[86107 rows x 317 columns], y=0        999\n1         30\n2         26\n3        ...    8\nName: TripType, Length: 86107, dtype: int64, accept_sparse='csr', dtype=<class 'numpy.float64'>, order='C', copy=False, force_all_finite=True, ensure_2d=True, allow_nd=False, multi_output=False, ensure_min_samples=1, ensure_min_features=1, y_numeric=False, warn_on_dtype=False, estimator=None)\n    568     y_converted : object\n    569         The converted and validated y.\n    570     \"\"\"\n    571     X = check_array(X, accept_sparse, dtype, order, copy, force_all_finite,\n    572                     ensure_2d, allow_nd, ensure_min_samples,\n--> 573                     ensure_min_features, warn_on_dtype, estimator)\n        ensure_min_features = 1\n        warn_on_dtype = False\n        estimator = None\n    574     if multi_output:\n    575         y = check_array(y, 'csr', force_all_finite=True, ensure_2d=False,\n    576                         dtype=None)\n    577     else:\n\n...........................................................................\n/home/hskimim/anaconda3/lib/python3.6/site-packages/sklearn/utils/validation.py in check_array(array=             5358.0  2086.0  4845.0  1808.0  659...0         0       1  \n\n[86107 rows x 317 columns], accept_sparse='csr', dtype=<class 'numpy.float64'>, order='C', copy=False, force_all_finite=True, ensure_2d=True, allow_nd=False, ensure_min_samples=1, ensure_min_features=1, warn_on_dtype=False, estimator=None)\n    428 \n    429     if sp.issparse(array):\n    430         array = _ensure_sparse_format(array, accept_sparse, dtype, copy,\n    431                                       force_all_finite)\n    432     else:\n--> 433         array = np.array(array, dtype=dtype, order=order, copy=copy)\n        array =              5358.0  2086.0  4845.0  1808.0  659...0         0       1  \n\n[86107 rows x 317 columns]\n        dtype = <class 'numpy.float64'>\n        order = 'C'\n        copy = False\n    434 \n    435         if ensure_2d:\n    436             if array.ndim == 1:\n    437                 raise ValueError(\n\nMemoryError: \n___________________________________________________________________________\n\"\"\"",
      "\nThe above exception was the direct cause of the following exception:\n",
      "\u001b[0;31mTransportableException\u001b[0m                    Traceback (most recent call last)",
      "\u001b[0;32m~/anaconda3/lib/python3.6/site-packages/sklearn/externals/joblib/parallel.py\u001b[0m in \u001b[0;36mretrieve\u001b[0;34m(self)\u001b[0m\n\u001b[1;32m    698\u001b[0m                 \u001b[0;32mif\u001b[0m \u001b[0mgetattr\u001b[0m\u001b[0;34m(\u001b[0m\u001b[0mself\u001b[0m\u001b[0;34m.\u001b[0m\u001b[0m_backend\u001b[0m\u001b[0;34m,\u001b[0m \u001b[0;34m'supports_timeout'\u001b[0m\u001b[0;34m,\u001b[0m \u001b[0;32mFalse\u001b[0m\u001b[0;34m)\u001b[0m\u001b[0;34m:\u001b[0m\u001b[0;34m\u001b[0m\u001b[0m\n\u001b[0;32m--> 699\u001b[0;31m                     \u001b[0mself\u001b[0m\u001b[0;34m.\u001b[0m\u001b[0m_output\u001b[0m\u001b[0;34m.\u001b[0m\u001b[0mextend\u001b[0m\u001b[0;34m(\u001b[0m\u001b[0mjob\u001b[0m\u001b[0;34m.\u001b[0m\u001b[0mget\u001b[0m\u001b[0;34m(\u001b[0m\u001b[0mtimeout\u001b[0m\u001b[0;34m=\u001b[0m\u001b[0mself\u001b[0m\u001b[0;34m.\u001b[0m\u001b[0mtimeout\u001b[0m\u001b[0;34m)\u001b[0m\u001b[0;34m)\u001b[0m\u001b[0;34m\u001b[0m\u001b[0m\n\u001b[0m\u001b[1;32m    700\u001b[0m                 \u001b[0;32melse\u001b[0m\u001b[0;34m:\u001b[0m\u001b[0;34m\u001b[0m\u001b[0m\n",
      "\u001b[0;32m~/anaconda3/lib/python3.6/multiprocessing/pool.py\u001b[0m in \u001b[0;36mget\u001b[0;34m(self, timeout)\u001b[0m\n\u001b[1;32m    643\u001b[0m         \u001b[0;32melse\u001b[0m\u001b[0;34m:\u001b[0m\u001b[0;34m\u001b[0m\u001b[0m\n\u001b[0;32m--> 644\u001b[0;31m             \u001b[0;32mraise\u001b[0m \u001b[0mself\u001b[0m\u001b[0;34m.\u001b[0m\u001b[0m_value\u001b[0m\u001b[0;34m\u001b[0m\u001b[0m\n\u001b[0m\u001b[1;32m    645\u001b[0m \u001b[0;34m\u001b[0m\u001b[0m\n",
      "\u001b[0;31mTransportableException\u001b[0m: TransportableException\n___________________________________________________________________________\nMemoryError                                        Thu Aug  2 16:38:04 2018\nPID: 7486                  Python 3.6.5: /home/hskimim/anaconda3/bin/python\n...........................................................................\n/home/hskimim/anaconda3/lib/python3.6/site-packages/sklearn/externals/joblib/parallel.py in __call__(self=<sklearn.externals.joblib.parallel.BatchedCalls object>)\n    126     def __init__(self, iterator_slice):\n    127         self.items = list(iterator_slice)\n    128         self._size = len(self.items)\n    129 \n    130     def __call__(self):\n--> 131         return [func(*args, **kwargs) for func, args, kwargs in self.items]\n        self.items = [(<function _fit_and_score>, (LogisticRegression(C=1.0, class_weight=None, dua...ol=0.0001,\n          verbose=0, warm_start=False),              5358.0  2086.0  4845.0  1808.0  659...0         0       1  \n\n[95674 rows x 317 columns], 0        999\n1         30\n2         26\n3        ...    8\nName: TripType, Length: 95674, dtype: int64, {'score': <function _passthrough_scorer>}, array([    0,     1,     2, ..., 95671, 95672, 95673]), array([66973, 66974, 66975, ..., 76537, 76538, 76539]), 0, None, None), {'return_times': True, 'return_train_score': False})]\n    132 \n    133     def __len__(self):\n    134         return self._size\n    135 \n\n...........................................................................\n/home/hskimim/anaconda3/lib/python3.6/site-packages/sklearn/externals/joblib/parallel.py in <listcomp>(.0=<list_iterator object>)\n    126     def __init__(self, iterator_slice):\n    127         self.items = list(iterator_slice)\n    128         self._size = len(self.items)\n    129 \n    130     def __call__(self):\n--> 131         return [func(*args, **kwargs) for func, args, kwargs in self.items]\n        func = <function _fit_and_score>\n        args = (LogisticRegression(C=1.0, class_weight=None, dua...ol=0.0001,\n          verbose=0, warm_start=False),              5358.0  2086.0  4845.0  1808.0  659...0         0       1  \n\n[95674 rows x 317 columns], 0        999\n1         30\n2         26\n3        ...    8\nName: TripType, Length: 95674, dtype: int64, {'score': <function _passthrough_scorer>}, array([    0,     1,     2, ..., 95671, 95672, 95673]), array([66973, 66974, 66975, ..., 76537, 76538, 76539]), 0, None, None)\n        kwargs = {'return_times': True, 'return_train_score': False}\n    132 \n    133     def __len__(self):\n    134         return self._size\n    135 \n\n...........................................................................\n/home/hskimim/anaconda3/lib/python3.6/site-packages/sklearn/model_selection/_validation.py in _fit_and_score(estimator=LogisticRegression(C=1.0, class_weight=None, dua...ol=0.0001,\n          verbose=0, warm_start=False), X=             5358.0  2086.0  4845.0  1808.0  659...0         0       1  \n\n[95674 rows x 317 columns], y=0        999\n1         30\n2         26\n3        ...    8\nName: TripType, Length: 95674, dtype: int64, scorer={'score': <function _passthrough_scorer>}, train=array([    0,     1,     2, ..., 95671, 95672, 95673]), test=array([66973, 66974, 66975, ..., 76537, 76538, 76539]), verbose=0, parameters=None, fit_params={}, return_train_score=False, return_parameters=False, return_n_test_samples=False, return_times=True, error_score='raise')\n    453 \n    454     try:\n    455         if y_train is None:\n    456             estimator.fit(X_train, **fit_params)\n    457         else:\n--> 458             estimator.fit(X_train, y_train, **fit_params)\n        estimator.fit = <bound method LogisticRegression.fit of Logistic...l=0.0001,\n          verbose=0, warm_start=False)>\n        X_train =              5358.0  2086.0  4845.0  1808.0  659...0         0       1  \n\n[86107 rows x 317 columns]\n        y_train = 0        999\n1         30\n2         26\n3        ...    8\nName: TripType, Length: 86107, dtype: int64\n        fit_params = {}\n    459 \n    460     except Exception as e:\n    461         # Note fit time as time until error\n    462         fit_time = time.time() - start_time\n\n...........................................................................\n/home/hskimim/anaconda3/lib/python3.6/site-packages/sklearn/linear_model/logistic.py in fit(self=LogisticRegression(C=1.0, class_weight=None, dua...ol=0.0001,\n          verbose=0, warm_start=False), X=             5358.0  2086.0  4845.0  1808.0  659...0         0       1  \n\n[86107 rows x 317 columns], y=0        999\n1         30\n2         26\n3        ...    8\nName: TripType, Length: 86107, dtype: int64, sample_weight=None)\n   1211             _dtype = [np.float64, np.float32]\n   1212         else:\n   1213             _dtype = np.float64\n   1214 \n   1215         X, y = check_X_y(X, y, accept_sparse='csr', dtype=_dtype,\n-> 1216                          order=\"C\")\n   1217         check_classification_targets(y)\n   1218         self.classes_ = np.unique(y)\n   1219         n_samples, n_features = X.shape\n   1220 \n\n...........................................................................\n/home/hskimim/anaconda3/lib/python3.6/site-packages/sklearn/utils/validation.py in check_X_y(X=             5358.0  2086.0  4845.0  1808.0  659...0         0       1  \n\n[86107 rows x 317 columns], y=0        999\n1         30\n2         26\n3        ...    8\nName: TripType, Length: 86107, dtype: int64, accept_sparse='csr', dtype=<class 'numpy.float64'>, order='C', copy=False, force_all_finite=True, ensure_2d=True, allow_nd=False, multi_output=False, ensure_min_samples=1, ensure_min_features=1, y_numeric=False, warn_on_dtype=False, estimator=None)\n    568     y_converted : object\n    569         The converted and validated y.\n    570     \"\"\"\n    571     X = check_array(X, accept_sparse, dtype, order, copy, force_all_finite,\n    572                     ensure_2d, allow_nd, ensure_min_samples,\n--> 573                     ensure_min_features, warn_on_dtype, estimator)\n        ensure_min_features = 1\n        warn_on_dtype = False\n        estimator = None\n    574     if multi_output:\n    575         y = check_array(y, 'csr', force_all_finite=True, ensure_2d=False,\n    576                         dtype=None)\n    577     else:\n\n...........................................................................\n/home/hskimim/anaconda3/lib/python3.6/site-packages/sklearn/utils/validation.py in check_array(array=             5358.0  2086.0  4845.0  1808.0  659...0         0       1  \n\n[86107 rows x 317 columns], accept_sparse='csr', dtype=<class 'numpy.float64'>, order='C', copy=False, force_all_finite=True, ensure_2d=True, allow_nd=False, ensure_min_samples=1, ensure_min_features=1, warn_on_dtype=False, estimator=None)\n    428 \n    429     if sp.issparse(array):\n    430         array = _ensure_sparse_format(array, accept_sparse, dtype, copy,\n    431                                       force_all_finite)\n    432     else:\n--> 433         array = np.array(array, dtype=dtype, order=order, copy=copy)\n        array =              5358.0  2086.0  4845.0  1808.0  659...0         0       1  \n\n[86107 rows x 317 columns]\n        dtype = <class 'numpy.float64'>\n        order = 'C'\n        copy = False\n    434 \n    435         if ensure_2d:\n    436             if array.ndim == 1:\n    437                 raise ValueError(\n\nMemoryError: \n___________________________________________________________________________",
      "\nDuring handling of the above exception, another exception occurred:\n",
      "\u001b[0;31mJoblibMemoryError\u001b[0m                         Traceback (most recent call last)",
      "\u001b[0;32m<timed exec>\u001b[0m in \u001b[0;36m<module>\u001b[0;34m()\u001b[0m\n",
      "\u001b[0;32m~/anaconda3/lib/python3.6/site-packages/sklearn/model_selection/_validation.py\u001b[0m in \u001b[0;36mcross_val_score\u001b[0;34m(estimator, X, y, groups, scoring, cv, n_jobs, verbose, fit_params, pre_dispatch)\u001b[0m\n\u001b[1;32m    340\u001b[0m                                 \u001b[0mn_jobs\u001b[0m\u001b[0;34m=\u001b[0m\u001b[0mn_jobs\u001b[0m\u001b[0;34m,\u001b[0m \u001b[0mverbose\u001b[0m\u001b[0;34m=\u001b[0m\u001b[0mverbose\u001b[0m\u001b[0;34m,\u001b[0m\u001b[0;34m\u001b[0m\u001b[0m\n\u001b[1;32m    341\u001b[0m                                 \u001b[0mfit_params\u001b[0m\u001b[0;34m=\u001b[0m\u001b[0mfit_params\u001b[0m\u001b[0;34m,\u001b[0m\u001b[0;34m\u001b[0m\u001b[0m\n\u001b[0;32m--> 342\u001b[0;31m                                 pre_dispatch=pre_dispatch)\n\u001b[0m\u001b[1;32m    343\u001b[0m     \u001b[0;32mreturn\u001b[0m \u001b[0mcv_results\u001b[0m\u001b[0;34m[\u001b[0m\u001b[0;34m'test_score'\u001b[0m\u001b[0;34m]\u001b[0m\u001b[0;34m\u001b[0m\u001b[0m\n\u001b[1;32m    344\u001b[0m \u001b[0;34m\u001b[0m\u001b[0m\n",
      "\u001b[0;32m~/anaconda3/lib/python3.6/site-packages/sklearn/model_selection/_validation.py\u001b[0m in \u001b[0;36mcross_validate\u001b[0;34m(estimator, X, y, groups, scoring, cv, n_jobs, verbose, fit_params, pre_dispatch, return_train_score)\u001b[0m\n\u001b[1;32m    204\u001b[0m             \u001b[0mfit_params\u001b[0m\u001b[0;34m,\u001b[0m \u001b[0mreturn_train_score\u001b[0m\u001b[0;34m=\u001b[0m\u001b[0mreturn_train_score\u001b[0m\u001b[0;34m,\u001b[0m\u001b[0;34m\u001b[0m\u001b[0m\n\u001b[1;32m    205\u001b[0m             return_times=True)\n\u001b[0;32m--> 206\u001b[0;31m         for train, test in cv.split(X, y, groups))\n\u001b[0m\u001b[1;32m    207\u001b[0m \u001b[0;34m\u001b[0m\u001b[0m\n\u001b[1;32m    208\u001b[0m     \u001b[0;32mif\u001b[0m \u001b[0mreturn_train_score\u001b[0m\u001b[0;34m:\u001b[0m\u001b[0;34m\u001b[0m\u001b[0m\n",
      "\u001b[0;32m~/anaconda3/lib/python3.6/site-packages/sklearn/externals/joblib/parallel.py\u001b[0m in \u001b[0;36m__call__\u001b[0;34m(self, iterable)\u001b[0m\n\u001b[1;32m    787\u001b[0m                 \u001b[0;31m# consumption.\u001b[0m\u001b[0;34m\u001b[0m\u001b[0;34m\u001b[0m\u001b[0m\n\u001b[1;32m    788\u001b[0m                 \u001b[0mself\u001b[0m\u001b[0;34m.\u001b[0m\u001b[0m_iterating\u001b[0m \u001b[0;34m=\u001b[0m \u001b[0;32mFalse\u001b[0m\u001b[0;34m\u001b[0m\u001b[0m\n\u001b[0;32m--> 789\u001b[0;31m             \u001b[0mself\u001b[0m\u001b[0;34m.\u001b[0m\u001b[0mretrieve\u001b[0m\u001b[0;34m(\u001b[0m\u001b[0;34m)\u001b[0m\u001b[0;34m\u001b[0m\u001b[0m\n\u001b[0m\u001b[1;32m    790\u001b[0m             \u001b[0;31m# Make sure that we get a last message telling us we are done\u001b[0m\u001b[0;34m\u001b[0m\u001b[0;34m\u001b[0m\u001b[0m\n\u001b[1;32m    791\u001b[0m             \u001b[0melapsed_time\u001b[0m \u001b[0;34m=\u001b[0m \u001b[0mtime\u001b[0m\u001b[0;34m.\u001b[0m\u001b[0mtime\u001b[0m\u001b[0;34m(\u001b[0m\u001b[0;34m)\u001b[0m \u001b[0;34m-\u001b[0m \u001b[0mself\u001b[0m\u001b[0;34m.\u001b[0m\u001b[0m_start_time\u001b[0m\u001b[0;34m\u001b[0m\u001b[0m\n",
      "\u001b[0;32m~/anaconda3/lib/python3.6/site-packages/sklearn/externals/joblib/parallel.py\u001b[0m in \u001b[0;36mretrieve\u001b[0;34m(self)\u001b[0m\n\u001b[1;32m    738\u001b[0m                     \u001b[0mexception\u001b[0m \u001b[0;34m=\u001b[0m \u001b[0mexception_type\u001b[0m\u001b[0;34m(\u001b[0m\u001b[0mreport\u001b[0m\u001b[0;34m)\u001b[0m\u001b[0;34m\u001b[0m\u001b[0m\n\u001b[1;32m    739\u001b[0m \u001b[0;34m\u001b[0m\u001b[0m\n\u001b[0;32m--> 740\u001b[0;31m                     \u001b[0;32mraise\u001b[0m \u001b[0mexception\u001b[0m\u001b[0;34m\u001b[0m\u001b[0m\n\u001b[0m\u001b[1;32m    741\u001b[0m \u001b[0;34m\u001b[0m\u001b[0m\n\u001b[1;32m    742\u001b[0m     \u001b[0;32mdef\u001b[0m \u001b[0m__call__\u001b[0m\u001b[0;34m(\u001b[0m\u001b[0mself\u001b[0m\u001b[0;34m,\u001b[0m \u001b[0miterable\u001b[0m\u001b[0;34m)\u001b[0m\u001b[0;34m:\u001b[0m\u001b[0;34m\u001b[0m\u001b[0m\n",
      "\u001b[0;31mJoblibMemoryError\u001b[0m: JoblibMemoryError\n___________________________________________________________________________\nMultiprocessing exception:\n...........................................................................\n/home/hskimim/anaconda3/lib/python3.6/runpy.py in _run_module_as_main(mod_name='ipykernel_launcher', alter_argv=1)\n    188         sys.exit(msg)\n    189     main_globals = sys.modules[\"__main__\"].__dict__\n    190     if alter_argv:\n    191         sys.argv[0] = mod_spec.origin\n    192     return _run_code(code, main_globals, None,\n--> 193                      \"__main__\", mod_spec)\n        mod_spec = ModuleSpec(name='ipykernel_launcher', loader=<_f...b/python3.6/site-packages/ipykernel_launcher.py')\n    194 \n    195 def run_module(mod_name, init_globals=None,\n    196                run_name=None, alter_sys=False):\n    197     \"\"\"Execute a module's code without importing it\n\n...........................................................................\n/home/hskimim/anaconda3/lib/python3.6/runpy.py in _run_code(code=<code object <module> at 0x7f26dcb0f660, file \"/...3.6/site-packages/ipykernel_launcher.py\", line 5>, run_globals={'__annotations__': {}, '__builtins__': <module 'builtins' (built-in)>, '__cached__': '/home/hskimim/anaconda3/lib/python3.6/site-packages/__pycache__/ipykernel_launcher.cpython-36.pyc', '__doc__': 'Entry point for launching an IPython kernel.\\n\\nTh...orts until\\nafter removing the cwd from sys.path.\\n', '__file__': '/home/hskimim/anaconda3/lib/python3.6/site-packages/ipykernel_launcher.py', '__loader__': <_frozen_importlib_external.SourceFileLoader object>, '__name__': '__main__', '__package__': '', '__spec__': ModuleSpec(name='ipykernel_launcher', loader=<_f...b/python3.6/site-packages/ipykernel_launcher.py'), 'app': <module 'ipykernel.kernelapp' from '/home/hskimi.../python3.6/site-packages/ipykernel/kernelapp.py'>, ...}, init_globals=None, mod_name='__main__', mod_spec=ModuleSpec(name='ipykernel_launcher', loader=<_f...b/python3.6/site-packages/ipykernel_launcher.py'), pkg_name='', script_name=None)\n     80                        __cached__ = cached,\n     81                        __doc__ = None,\n     82                        __loader__ = loader,\n     83                        __package__ = pkg_name,\n     84                        __spec__ = mod_spec)\n---> 85     exec(code, run_globals)\n        code = <code object <module> at 0x7f26dcb0f660, file \"/...3.6/site-packages/ipykernel_launcher.py\", line 5>\n        run_globals = {'__annotations__': {}, '__builtins__': <module 'builtins' (built-in)>, '__cached__': '/home/hskimim/anaconda3/lib/python3.6/site-packages/__pycache__/ipykernel_launcher.cpython-36.pyc', '__doc__': 'Entry point for launching an IPython kernel.\\n\\nTh...orts until\\nafter removing the cwd from sys.path.\\n', '__file__': '/home/hskimim/anaconda3/lib/python3.6/site-packages/ipykernel_launcher.py', '__loader__': <_frozen_importlib_external.SourceFileLoader object>, '__name__': '__main__', '__package__': '', '__spec__': ModuleSpec(name='ipykernel_launcher', loader=<_f...b/python3.6/site-packages/ipykernel_launcher.py'), 'app': <module 'ipykernel.kernelapp' from '/home/hskimi.../python3.6/site-packages/ipykernel/kernelapp.py'>, ...}\n     86     return run_globals\n     87 \n     88 def _run_module_code(code, init_globals=None,\n     89                     mod_name=None, mod_spec=None,\n\n...........................................................................\n/home/hskimim/anaconda3/lib/python3.6/site-packages/ipykernel_launcher.py in <module>()\n     11     # This is added back by InteractiveShellApp.init_path()\n     12     if sys.path[0] == '':\n     13         del sys.path[0]\n     14 \n     15     from ipykernel import kernelapp as app\n---> 16     app.launch_new_instance()\n\n...........................................................................\n/home/hskimim/anaconda3/lib/python3.6/site-packages/traitlets/config/application.py in launch_instance(cls=<class 'ipykernel.kernelapp.IPKernelApp'>, argv=None, **kwargs={})\n    653 \n    654         If a global instance already exists, this reinitializes and starts it\n    655         \"\"\"\n    656         app = cls.instance(**kwargs)\n    657         app.initialize(argv)\n--> 658         app.start()\n        app.start = <bound method IPKernelApp.start of <ipykernel.kernelapp.IPKernelApp object>>\n    659 \n    660 #-----------------------------------------------------------------------------\n    661 # utility functions, for convenience\n    662 #-----------------------------------------------------------------------------\n\n...........................................................................\n/home/hskimim/anaconda3/lib/python3.6/site-packages/ipykernel/kernelapp.py in start(self=<ipykernel.kernelapp.IPKernelApp object>)\n    481         if self.poller is not None:\n    482             self.poller.start()\n    483         self.kernel.start()\n    484         self.io_loop = ioloop.IOLoop.current()\n    485         try:\n--> 486             self.io_loop.start()\n        self.io_loop.start = <bound method BaseAsyncIOLoop.start of <tornado.platform.asyncio.AsyncIOMainLoop object>>\n    487         except KeyboardInterrupt:\n    488             pass\n    489 \n    490 launch_new_instance = IPKernelApp.launch_instance\n\n...........................................................................\n/home/hskimim/anaconda3/lib/python3.6/site-packages/tornado/platform/asyncio.py in start(self=<tornado.platform.asyncio.AsyncIOMainLoop object>)\n    122         except (RuntimeError, AssertionError):\n    123             old_loop = None\n    124         try:\n    125             self._setup_logging()\n    126             asyncio.set_event_loop(self.asyncio_loop)\n--> 127             self.asyncio_loop.run_forever()\n        self.asyncio_loop.run_forever = <bound method BaseEventLoop.run_forever of <_Uni...EventLoop running=True closed=False debug=False>>\n    128         finally:\n    129             asyncio.set_event_loop(old_loop)\n    130 \n    131     def stop(self):\n\n...........................................................................\n/home/hskimim/anaconda3/lib/python3.6/asyncio/base_events.py in run_forever(self=<_UnixSelectorEventLoop running=True closed=False debug=False>)\n    417             sys.set_asyncgen_hooks(firstiter=self._asyncgen_firstiter_hook,\n    418                                    finalizer=self._asyncgen_finalizer_hook)\n    419         try:\n    420             events._set_running_loop(self)\n    421             while True:\n--> 422                 self._run_once()\n        self._run_once = <bound method BaseEventLoop._run_once of <_UnixS...EventLoop running=True closed=False debug=False>>\n    423                 if self._stopping:\n    424                     break\n    425         finally:\n    426             self._stopping = False\n\n...........................................................................\n/home/hskimim/anaconda3/lib/python3.6/asyncio/base_events.py in _run_once(self=<_UnixSelectorEventLoop running=True closed=False debug=False>)\n   1427                         logger.warning('Executing %s took %.3f seconds',\n   1428                                        _format_handle(handle), dt)\n   1429                 finally:\n   1430                     self._current_handle = None\n   1431             else:\n-> 1432                 handle._run()\n        handle._run = <bound method Handle._run of <Handle IOLoop._run_callback(functools.par...7f268c3dd8c8>))>>\n   1433         handle = None  # Needed to break cycles when an exception occurs.\n   1434 \n   1435     def _set_coroutine_wrapper(self, enabled):\n   1436         try:\n\n...........................................................................\n/home/hskimim/anaconda3/lib/python3.6/asyncio/events.py in _run(self=<Handle IOLoop._run_callback(functools.par...7f268c3dd8c8>))>)\n    140             self._callback = None\n    141             self._args = None\n    142 \n    143     def _run(self):\n    144         try:\n--> 145             self._callback(*self._args)\n        self._callback = <bound method IOLoop._run_callback of <tornado.platform.asyncio.AsyncIOMainLoop object>>\n        self._args = (functools.partial(<function wrap.<locals>.null_wrapper at 0x7f268c3dd8c8>),)\n    146         except Exception as exc:\n    147             cb = _format_callback_source(self._callback, self._args)\n    148             msg = 'Exception in callback {}'.format(cb)\n    149             context = {\n\n...........................................................................\n/home/hskimim/anaconda3/lib/python3.6/site-packages/tornado/ioloop.py in _run_callback(self=<tornado.platform.asyncio.AsyncIOMainLoop object>, callback=functools.partial(<function wrap.<locals>.null_wrapper at 0x7f268c3dd8c8>))\n    754         \"\"\"Runs a callback with error handling.\n    755 \n    756         For use in subclasses.\n    757         \"\"\"\n    758         try:\n--> 759             ret = callback()\n        ret = undefined\n        callback = functools.partial(<function wrap.<locals>.null_wrapper at 0x7f268c3dd8c8>)\n    760             if ret is not None:\n    761                 from tornado import gen\n    762                 # Functions that return Futures typically swallow all\n    763                 # exceptions and store them in the Future.  If a Future\n\n...........................................................................\n/home/hskimim/anaconda3/lib/python3.6/site-packages/tornado/stack_context.py in null_wrapper(*args=(), **kwargs={})\n    271         # Fast path when there are no active contexts.\n    272         def null_wrapper(*args, **kwargs):\n    273             try:\n    274                 current_state = _state.contexts\n    275                 _state.contexts = cap_contexts[0]\n--> 276                 return fn(*args, **kwargs)\n        args = ()\n        kwargs = {}\n    277             finally:\n    278                 _state.contexts = current_state\n    279         null_wrapper._wrapped = True\n    280         return null_wrapper\n\n...........................................................................\n/home/hskimim/anaconda3/lib/python3.6/site-packages/zmq/eventloop/zmqstream.py in <lambda>()\n    531             return\n    532 \n    533         if state & self.socket.events:\n    534             # events still exist that haven't been processed\n    535             # explicitly schedule handling to avoid missing events due to edge-triggered FDs\n--> 536             self.io_loop.add_callback(lambda : self._handle_events(self.socket, 0))\n    537 \n    538     def _init_io_state(self):\n    539         \"\"\"initialize the ioloop event handler\"\"\"\n    540         with stack_context.NullContext():\n\n...........................................................................\n/home/hskimim/anaconda3/lib/python3.6/site-packages/zmq/eventloop/zmqstream.py in _handle_events(self=<zmq.eventloop.zmqstream.ZMQStream object>, fd=<zmq.sugar.socket.Socket object>, events=0)\n    445             return\n    446         zmq_events = self.socket.EVENTS\n    447         try:\n    448             # dispatch events:\n    449             if zmq_events & zmq.POLLIN and self.receiving():\n--> 450                 self._handle_recv()\n        self._handle_recv = <bound method ZMQStream._handle_recv of <zmq.eventloop.zmqstream.ZMQStream object>>\n    451                 if not self.socket:\n    452                     return\n    453             if zmq_events & zmq.POLLOUT and self.sending():\n    454                 self._handle_send()\n\n...........................................................................\n/home/hskimim/anaconda3/lib/python3.6/site-packages/zmq/eventloop/zmqstream.py in _handle_recv(self=<zmq.eventloop.zmqstream.ZMQStream object>)\n    475             else:\n    476                 raise\n    477         else:\n    478             if self._recv_callback:\n    479                 callback = self._recv_callback\n--> 480                 self._run_callback(callback, msg)\n        self._run_callback = <bound method ZMQStream._run_callback of <zmq.eventloop.zmqstream.ZMQStream object>>\n        callback = <function wrap.<locals>.null_wrapper>\n        msg = [<zmq.sugar.frame.Frame object>, <zmq.sugar.frame.Frame object>, <zmq.sugar.frame.Frame object>, <zmq.sugar.frame.Frame object>, <zmq.sugar.frame.Frame object>, <zmq.sugar.frame.Frame object>, <zmq.sugar.frame.Frame object>]\n    481         \n    482 \n    483     def _handle_send(self):\n    484         \"\"\"Handle a send event.\"\"\"\n\n...........................................................................\n/home/hskimim/anaconda3/lib/python3.6/site-packages/zmq/eventloop/zmqstream.py in _run_callback(self=<zmq.eventloop.zmqstream.ZMQStream object>, callback=<function wrap.<locals>.null_wrapper>, *args=([<zmq.sugar.frame.Frame object>, <zmq.sugar.frame.Frame object>, <zmq.sugar.frame.Frame object>, <zmq.sugar.frame.Frame object>, <zmq.sugar.frame.Frame object>, <zmq.sugar.frame.Frame object>, <zmq.sugar.frame.Frame object>],), **kwargs={})\n    427         close our socket.\"\"\"\n    428         try:\n    429             # Use a NullContext to ensure that all StackContexts are run\n    430             # inside our blanket exception handler rather than outside.\n    431             with stack_context.NullContext():\n--> 432                 callback(*args, **kwargs)\n        callback = <function wrap.<locals>.null_wrapper>\n        args = ([<zmq.sugar.frame.Frame object>, <zmq.sugar.frame.Frame object>, <zmq.sugar.frame.Frame object>, <zmq.sugar.frame.Frame object>, <zmq.sugar.frame.Frame object>, <zmq.sugar.frame.Frame object>, <zmq.sugar.frame.Frame object>],)\n        kwargs = {}\n    433         except:\n    434             gen_log.error(\"Uncaught exception in ZMQStream callback\",\n    435                           exc_info=True)\n    436             # Re-raise the exception so that IOLoop.handle_callback_exception\n\n...........................................................................\n/home/hskimim/anaconda3/lib/python3.6/site-packages/tornado/stack_context.py in null_wrapper(*args=([<zmq.sugar.frame.Frame object>, <zmq.sugar.frame.Frame object>, <zmq.sugar.frame.Frame object>, <zmq.sugar.frame.Frame object>, <zmq.sugar.frame.Frame object>, <zmq.sugar.frame.Frame object>, <zmq.sugar.frame.Frame object>],), **kwargs={})\n    271         # Fast path when there are no active contexts.\n    272         def null_wrapper(*args, **kwargs):\n    273             try:\n    274                 current_state = _state.contexts\n    275                 _state.contexts = cap_contexts[0]\n--> 276                 return fn(*args, **kwargs)\n        args = ([<zmq.sugar.frame.Frame object>, <zmq.sugar.frame.Frame object>, <zmq.sugar.frame.Frame object>, <zmq.sugar.frame.Frame object>, <zmq.sugar.frame.Frame object>, <zmq.sugar.frame.Frame object>, <zmq.sugar.frame.Frame object>],)\n        kwargs = {}\n    277             finally:\n    278                 _state.contexts = current_state\n    279         null_wrapper._wrapped = True\n    280         return null_wrapper\n\n...........................................................................\n/home/hskimim/anaconda3/lib/python3.6/site-packages/ipykernel/kernelbase.py in dispatcher(msg=[<zmq.sugar.frame.Frame object>, <zmq.sugar.frame.Frame object>, <zmq.sugar.frame.Frame object>, <zmq.sugar.frame.Frame object>, <zmq.sugar.frame.Frame object>, <zmq.sugar.frame.Frame object>, <zmq.sugar.frame.Frame object>])\n    278         if self.control_stream:\n    279             self.control_stream.on_recv(self.dispatch_control, copy=False)\n    280 \n    281         def make_dispatcher(stream):\n    282             def dispatcher(msg):\n--> 283                 return self.dispatch_shell(stream, msg)\n        msg = [<zmq.sugar.frame.Frame object>, <zmq.sugar.frame.Frame object>, <zmq.sugar.frame.Frame object>, <zmq.sugar.frame.Frame object>, <zmq.sugar.frame.Frame object>, <zmq.sugar.frame.Frame object>, <zmq.sugar.frame.Frame object>]\n    284             return dispatcher\n    285 \n    286         for s in self.shell_streams:\n    287             s.on_recv(make_dispatcher(s), copy=False)\n\n...........................................................................\n/home/hskimim/anaconda3/lib/python3.6/site-packages/ipykernel/kernelbase.py in dispatch_shell(self=<ipykernel.ipkernel.IPythonKernel object>, stream=<zmq.eventloop.zmqstream.ZMQStream object>, msg={'buffers': [], 'content': {'allow_stdin': True, 'code': '%%time\\nkfold = KFold(10)\\ncv1 = cross_val_score(logis_model , train_X , train_y,cv=kfold , n_jobs=-1)', 'silent': False, 'stop_on_error': True, 'store_history': True, 'user_expressions': {}}, 'header': {'date': datetime.datetime(2018, 8, 2, 7, 36, 4, 605747, tzinfo=tzutc()), 'msg_id': '0ee207b59cb4320d3066c42d5c5e915e', 'msg_type': 'execute_request', 'session': '0aaaba28041acf26b826eb123541e8e9', 'username': '', 'version': '5.2'}, 'metadata': {}, 'msg_id': '0ee207b59cb4320d3066c42d5c5e915e', 'msg_type': 'execute_request', 'parent_header': {}})\n    228             self.log.warn(\"Unknown message type: %r\", msg_type)\n    229         else:\n    230             self.log.debug(\"%s: %s\", msg_type, msg)\n    231             self.pre_handler_hook()\n    232             try:\n--> 233                 handler(stream, idents, msg)\n        handler = <bound method Kernel.execute_request of <ipykernel.ipkernel.IPythonKernel object>>\n        stream = <zmq.eventloop.zmqstream.ZMQStream object>\n        idents = [b'0aaaba28041acf26b826eb123541e8e9']\n        msg = {'buffers': [], 'content': {'allow_stdin': True, 'code': '%%time\\nkfold = KFold(10)\\ncv1 = cross_val_score(logis_model , train_X , train_y,cv=kfold , n_jobs=-1)', 'silent': False, 'stop_on_error': True, 'store_history': True, 'user_expressions': {}}, 'header': {'date': datetime.datetime(2018, 8, 2, 7, 36, 4, 605747, tzinfo=tzutc()), 'msg_id': '0ee207b59cb4320d3066c42d5c5e915e', 'msg_type': 'execute_request', 'session': '0aaaba28041acf26b826eb123541e8e9', 'username': '', 'version': '5.2'}, 'metadata': {}, 'msg_id': '0ee207b59cb4320d3066c42d5c5e915e', 'msg_type': 'execute_request', 'parent_header': {}}\n    234             except Exception:\n    235                 self.log.error(\"Exception in message handler:\", exc_info=True)\n    236             finally:\n    237                 self.post_handler_hook()\n\n...........................................................................\n/home/hskimim/anaconda3/lib/python3.6/site-packages/ipykernel/kernelbase.py in execute_request(self=<ipykernel.ipkernel.IPythonKernel object>, stream=<zmq.eventloop.zmqstream.ZMQStream object>, ident=[b'0aaaba28041acf26b826eb123541e8e9'], parent={'buffers': [], 'content': {'allow_stdin': True, 'code': '%%time\\nkfold = KFold(10)\\ncv1 = cross_val_score(logis_model , train_X , train_y,cv=kfold , n_jobs=-1)', 'silent': False, 'stop_on_error': True, 'store_history': True, 'user_expressions': {}}, 'header': {'date': datetime.datetime(2018, 8, 2, 7, 36, 4, 605747, tzinfo=tzutc()), 'msg_id': '0ee207b59cb4320d3066c42d5c5e915e', 'msg_type': 'execute_request', 'session': '0aaaba28041acf26b826eb123541e8e9', 'username': '', 'version': '5.2'}, 'metadata': {}, 'msg_id': '0ee207b59cb4320d3066c42d5c5e915e', 'msg_type': 'execute_request', 'parent_header': {}})\n    394         if not silent:\n    395             self.execution_count += 1\n    396             self._publish_execute_input(code, parent, self.execution_count)\n    397 \n    398         reply_content = self.do_execute(code, silent, store_history,\n--> 399                                         user_expressions, allow_stdin)\n        user_expressions = {}\n        allow_stdin = True\n    400 \n    401         # Flush output before sending the reply.\n    402         sys.stdout.flush()\n    403         sys.stderr.flush()\n\n...........................................................................\n/home/hskimim/anaconda3/lib/python3.6/site-packages/ipykernel/ipkernel.py in do_execute(self=<ipykernel.ipkernel.IPythonKernel object>, code='%%time\\nkfold = KFold(10)\\ncv1 = cross_val_score(logis_model , train_X , train_y,cv=kfold , n_jobs=-1)', silent=False, store_history=True, user_expressions={}, allow_stdin=True)\n    203 \n    204         self._forward_input(allow_stdin)\n    205 \n    206         reply_content = {}\n    207         try:\n--> 208             res = shell.run_cell(code, store_history=store_history, silent=silent)\n        res = undefined\n        shell.run_cell = <bound method ZMQInteractiveShell.run_cell of <ipykernel.zmqshell.ZMQInteractiveShell object>>\n        code = '%%time\\nkfold = KFold(10)\\ncv1 = cross_val_score(logis_model , train_X , train_y,cv=kfold , n_jobs=-1)'\n        store_history = True\n        silent = False\n    209         finally:\n    210             self._restore_input()\n    211 \n    212         if res.error_before_exec is not None:\n\n...........................................................................\n/home/hskimim/anaconda3/lib/python3.6/site-packages/ipykernel/zmqshell.py in run_cell(self=<ipykernel.zmqshell.ZMQInteractiveShell object>, *args=('%%time\\nkfold = KFold(10)\\ncv1 = cross_val_score(logis_model , train_X , train_y,cv=kfold , n_jobs=-1)',), **kwargs={'silent': False, 'store_history': True})\n    532             )\n    533         self.payload_manager.write_payload(payload)\n    534 \n    535     def run_cell(self, *args, **kwargs):\n    536         self._last_traceback = None\n--> 537         return super(ZMQInteractiveShell, self).run_cell(*args, **kwargs)\n        self.run_cell = <bound method ZMQInteractiveShell.run_cell of <ipykernel.zmqshell.ZMQInteractiveShell object>>\n        args = ('%%time\\nkfold = KFold(10)\\ncv1 = cross_val_score(logis_model , train_X , train_y,cv=kfold , n_jobs=-1)',)\n        kwargs = {'silent': False, 'store_history': True}\n    538 \n    539     def _showtraceback(self, etype, evalue, stb):\n    540         # try to preserve ordering of tracebacks and print statements\n    541         sys.stdout.flush()\n\n...........................................................................\n/home/hskimim/anaconda3/lib/python3.6/site-packages/IPython/core/interactiveshell.py in run_cell(self=<ipykernel.zmqshell.ZMQInteractiveShell object>, raw_cell='%%time\\nkfold = KFold(10)\\ncv1 = cross_val_score(logis_model , train_X , train_y,cv=kfold , n_jobs=-1)', store_history=True, silent=False, shell_futures=True)\n   2657         -------\n   2658         result : :class:`ExecutionResult`\n   2659         \"\"\"\n   2660         try:\n   2661             result = self._run_cell(\n-> 2662                 raw_cell, store_history, silent, shell_futures)\n        raw_cell = '%%time\\nkfold = KFold(10)\\ncv1 = cross_val_score(logis_model , train_X , train_y,cv=kfold , n_jobs=-1)'\n        store_history = True\n        silent = False\n        shell_futures = True\n   2663         finally:\n   2664             self.events.trigger('post_execute')\n   2665             if not silent:\n   2666                 self.events.trigger('post_run_cell', result)\n\n...........................................................................\n/home/hskimim/anaconda3/lib/python3.6/site-packages/IPython/core/interactiveshell.py in _run_cell(self=<ipykernel.zmqshell.ZMQInteractiveShell object>, raw_cell='%%time\\nkfold = KFold(10)\\ncv1 = cross_val_score(logis_model , train_X , train_y,cv=kfold , n_jobs=-1)', store_history=True, silent=False, shell_futures=True)\n   2780                 self.displayhook.exec_result = result\n   2781 \n   2782                 # Execute the user code\n   2783                 interactivity = 'none' if silent else self.ast_node_interactivity\n   2784                 has_raised = self.run_ast_nodes(code_ast.body, cell_name,\n-> 2785                    interactivity=interactivity, compiler=compiler, result=result)\n        interactivity = 'last_expr'\n        compiler = <IPython.core.compilerop.CachingCompiler object>\n   2786                 \n   2787                 self.last_execution_succeeded = not has_raised\n   2788                 self.last_execution_result = result\n   2789 \n\n...........................................................................\n/home/hskimim/anaconda3/lib/python3.6/site-packages/IPython/core/interactiveshell.py in run_ast_nodes(self=<ipykernel.zmqshell.ZMQInteractiveShell object>, nodelist=[<_ast.Expr object>], cell_name='<ipython-input-27-a7bf6e42b9f2>', interactivity='last', compiler=<IPython.core.compilerop.CachingCompiler object>, result=<ExecutionResult object at 7f268e15e048, executi...rue silent=False shell_futures=True> result=None>)\n   2904                     return True\n   2905 \n   2906             for i, node in enumerate(to_run_interactive):\n   2907                 mod = ast.Interactive([node])\n   2908                 code = compiler(mod, cell_name, \"single\")\n-> 2909                 if self.run_code(code, result):\n        self.run_code = <bound method InteractiveShell.run_code of <ipykernel.zmqshell.ZMQInteractiveShell object>>\n        code = <code object <module> at 0x7f268c40c390, file \"<ipython-input-27-a7bf6e42b9f2>\", line 1>\n        result = <ExecutionResult object at 7f268e15e048, executi...rue silent=False shell_futures=True> result=None>\n   2910                     return True\n   2911 \n   2912             # Flush softspace\n   2913             if softspace(sys.stdout, 0):\n\n...........................................................................\n/home/hskimim/anaconda3/lib/python3.6/site-packages/IPython/core/interactiveshell.py in run_code(self=<ipykernel.zmqshell.ZMQInteractiveShell object>, code_obj=<code object <module> at 0x7f268c40c390, file \"<ipython-input-27-a7bf6e42b9f2>\", line 1>, result=<ExecutionResult object at 7f268e15e048, executi...rue silent=False shell_futures=True> result=None>)\n   2958         outflag = True  # happens in more places, so it's easier as default\n   2959         try:\n   2960             try:\n   2961                 self.hooks.pre_run_code_hook()\n   2962                 #rprint('Running code', repr(code_obj)) # dbg\n-> 2963                 exec(code_obj, self.user_global_ns, self.user_ns)\n        code_obj = <code object <module> at 0x7f268c40c390, file \"<ipython-input-27-a7bf6e42b9f2>\", line 1>\n        self.user_global_ns = {'In': ['', \"import numpy as np\\nimport pandas as pd\\nimport wa...efilter('ignore')\\nfrom awesome_functions import *\", \"train_df = pd.read_csv('train.csv')\\ntest_df = pd.read_csv('test.csv')\", 'len(train_df.columns)', \"train_df['DepartmentDescription'] = train_df['De...,'MENS WEAR')\\n#겹치는 컬럼 이름을 하나로 합쳐주기 위해서 replace한다.\", 'train_dd = make_df_we_wanted(train_df,train_df,test_df,is_need_null_column=True)', 'train_X , train_y = get_df_to_fit(train_dd)', \"testing_df = train_df['FinelineNumber'].value_co... 100 / len(train_df['FinelineNumber'])\\ntesting_df\", 'get_ipython().run_cell_magic(\\'time\\', \\'\\', \"ls = [...r\\'] == i]) == 1:\\\\n        ls.append(i)\\\\nlen(ls)\")', r\"print('length of FinelineNumber which points onl...entDescription: ',len(ls),end='\\n\\n\\n'),print(ls)\", \"fl_dummies = pd.get_dummies(train_df['FinelineNumber'])\", 'fl_dummies = fl_dummies[ls]', \"for i in range(len(ls)):\\n    if np.sum(fl_dummies.iloc[:,i]) !=1:\\n        print('emergency')\", 'train_df = pd.concat([train_df,fl_dummies],axis=1)', 'from awesome_functions import *\\ntrain_df = make_...ive_scancount_only=True,is_need_null_column=True)', 'train_df.tail()', 'train_df.shape', \"train_X = train_df.copy()\\ntrain_X.index = train_...(columns=['TripType','VisitNumber'],inplace=True)\", \"train_y = train_df['TripType']\", 'train_X.shape , train_y.shape', ...], 'KFold': <class 'sklearn.model_selection._split.KFold'>, 'LogisticRegression': <class 'sklearn.linear_model.logistic.LogisticRegression'>, 'Markdown': <class 'IPython.core.display.Markdown'>, 'MultinomialNB': <class 'sklearn.naive_bayes.MultinomialNB'>, 'Out': {3: 7, 7:         FinelineNumber     ratio\nindex          ...             1  0.000155\n\n[5195 rows x 2 columns], 9: (None, None), 15:        VisitNumber  TripType  5358.0  2086.0  48...    0         0       1  \n\n[5 rows x 319 columns], 16: (95674, 319), 19: ((95674, 317), (95674,)), 20:              5358.0  2086.0  4845.0  1808.0  659...    0         0       1  \n\n[5 rows x 317 columns], 21: 95669    25\n95670    22\n95671    39\n95672    39\n95673     8\nName: TripType, dtype: int64, 25: 0.6489955473796434}, 'SCORERS': {'accuracy': make_scorer(accuracy_score), 'adjusted_mutual_info_score': make_scorer(adjusted_mutual_info_score), 'adjusted_rand_score': make_scorer(adjusted_rand_score), 'average_precision': make_scorer(average_precision_score, needs_threshold=True), 'completeness_score': make_scorer(completeness_score), 'explained_variance': make_scorer(explained_variance_score), 'f1': make_scorer(f1_score), 'f1_macro': make_scorer(f1_score, pos_label=None, average=macro), 'f1_micro': make_scorer(f1_score, pos_label=None, average=micro), 'f1_samples': make_scorer(f1_score, pos_label=None, average=samples), ...}, '_': 0.6489955473796434, '_15':        VisitNumber  TripType  5358.0  2086.0  48...    0         0       1  \n\n[5 rows x 319 columns], '_16': (95674, 319), ...}\n        self.user_ns = {'In': ['', \"import numpy as np\\nimport pandas as pd\\nimport wa...efilter('ignore')\\nfrom awesome_functions import *\", \"train_df = pd.read_csv('train.csv')\\ntest_df = pd.read_csv('test.csv')\", 'len(train_df.columns)', \"train_df['DepartmentDescription'] = train_df['De...,'MENS WEAR')\\n#겹치는 컬럼 이름을 하나로 합쳐주기 위해서 replace한다.\", 'train_dd = make_df_we_wanted(train_df,train_df,test_df,is_need_null_column=True)', 'train_X , train_y = get_df_to_fit(train_dd)', \"testing_df = train_df['FinelineNumber'].value_co... 100 / len(train_df['FinelineNumber'])\\ntesting_df\", 'get_ipython().run_cell_magic(\\'time\\', \\'\\', \"ls = [...r\\'] == i]) == 1:\\\\n        ls.append(i)\\\\nlen(ls)\")', r\"print('length of FinelineNumber which points onl...entDescription: ',len(ls),end='\\n\\n\\n'),print(ls)\", \"fl_dummies = pd.get_dummies(train_df['FinelineNumber'])\", 'fl_dummies = fl_dummies[ls]', \"for i in range(len(ls)):\\n    if np.sum(fl_dummies.iloc[:,i]) !=1:\\n        print('emergency')\", 'train_df = pd.concat([train_df,fl_dummies],axis=1)', 'from awesome_functions import *\\ntrain_df = make_...ive_scancount_only=True,is_need_null_column=True)', 'train_df.tail()', 'train_df.shape', \"train_X = train_df.copy()\\ntrain_X.index = train_...(columns=['TripType','VisitNumber'],inplace=True)\", \"train_y = train_df['TripType']\", 'train_X.shape , train_y.shape', ...], 'KFold': <class 'sklearn.model_selection._split.KFold'>, 'LogisticRegression': <class 'sklearn.linear_model.logistic.LogisticRegression'>, 'Markdown': <class 'IPython.core.display.Markdown'>, 'MultinomialNB': <class 'sklearn.naive_bayes.MultinomialNB'>, 'Out': {3: 7, 7:         FinelineNumber     ratio\nindex          ...             1  0.000155\n\n[5195 rows x 2 columns], 9: (None, None), 15:        VisitNumber  TripType  5358.0  2086.0  48...    0         0       1  \n\n[5 rows x 319 columns], 16: (95674, 319), 19: ((95674, 317), (95674,)), 20:              5358.0  2086.0  4845.0  1808.0  659...    0         0       1  \n\n[5 rows x 317 columns], 21: 95669    25\n95670    22\n95671    39\n95672    39\n95673     8\nName: TripType, dtype: int64, 25: 0.6489955473796434}, 'SCORERS': {'accuracy': make_scorer(accuracy_score), 'adjusted_mutual_info_score': make_scorer(adjusted_mutual_info_score), 'adjusted_rand_score': make_scorer(adjusted_rand_score), 'average_precision': make_scorer(average_precision_score, needs_threshold=True), 'completeness_score': make_scorer(completeness_score), 'explained_variance': make_scorer(explained_variance_score), 'f1': make_scorer(f1_score), 'f1_macro': make_scorer(f1_score, pos_label=None, average=macro), 'f1_micro': make_scorer(f1_score, pos_label=None, average=micro), 'f1_samples': make_scorer(f1_score, pos_label=None, average=samples), ...}, '_': 0.6489955473796434, '_15':        VisitNumber  TripType  5358.0  2086.0  48...    0         0       1  \n\n[5 rows x 319 columns], '_16': (95674, 319), ...}\n   2964             finally:\n   2965                 # Reset our crash handler in place\n   2966                 sys.excepthook = old_excepthook\n   2967         except SystemExit as e:\n\n...........................................................................\n/home/hskimim/Documents/git-project/dss8/Walmart_TripType_Classification/<ipython-input-27-a7bf6e42b9f2> in <module>()\n----> 1 get_ipython().run_cell_magic('time', '', 'kfold = KFold(10)\\ncv1 = cross_val_score(logis_model , train_X , train_y,cv=kfold , n_jobs=-1)')\n\n...........................................................................\n/home/hskimim/anaconda3/lib/python3.6/site-packages/IPython/core/interactiveshell.py in run_cell_magic(self=<ipykernel.zmqshell.ZMQInteractiveShell object>, magic_name='time', line='', cell='kfold = KFold(10)\\ncv1 = cross_val_score(logis_model , train_X , train_y,cv=kfold , n_jobs=-1)')\n   2162             # This will need to be updated if the internal calling logic gets\n   2163             # refactored, or else we'll be expanding the wrong variables.\n   2164             stack_depth = 2\n   2165             magic_arg_s = self.var_expand(line, stack_depth)\n   2166             with self.builtin_trap:\n-> 2167                 result = fn(magic_arg_s, cell)\n        result = undefined\n        fn = <bound method ExecutionMagics.time of <IPython.core.magics.execution.ExecutionMagics object>>\n        magic_arg_s = ''\n        cell = 'kfold = KFold(10)\\ncv1 = cross_val_score(logis_model , train_X , train_y,cv=kfold , n_jobs=-1)'\n   2168             return result\n   2169 \n   2170     def find_line_magic(self, magic_name):\n   2171         \"\"\"Find and return a line magic by name.\n\n...........................................................................\n/home/hskimim/Documents/git-project/dss8/Walmart_TripType_Classification/<decorator-gen-62> in time(self=<IPython.core.magics.execution.ExecutionMagics object>, line='', cell='kfold = KFold(10)\\ncv1 = cross_val_score(logis_model , train_X , train_y,cv=kfold , n_jobs=-1)', local_ns=None)\n\n...........................................................................\n/home/hskimim/anaconda3/lib/python3.6/site-packages/IPython/core/magic.py in <lambda>(f=<function ExecutionMagics.time>, *a=(<IPython.core.magics.execution.ExecutionMagics object>, '', 'kfold = KFold(10)\\ncv1 = cross_val_score(logis_model , train_X , train_y,cv=kfold , n_jobs=-1)', None), **k={})\n    182     validate_type(magic_kind)\n    183 \n    184     # This is a closure to capture the magic_kind.  We could also use a class,\n    185     # but it's overkill for just that one bit of state.\n    186     def magic_deco(arg):\n--> 187         call = lambda f, *a, **k: f(*a, **k)\n        f = <function ExecutionMagics.time>\n        a = (<IPython.core.magics.execution.ExecutionMagics object>, '', 'kfold = KFold(10)\\ncv1 = cross_val_score(logis_model , train_X , train_y,cv=kfold , n_jobs=-1)', None)\n        k = {}\n    188 \n    189         if callable(arg):\n    190             # \"Naked\" decorator call (just @foo, no args)\n    191             func = arg\n\n...........................................................................\n/home/hskimim/anaconda3/lib/python3.6/site-packages/IPython/core/magics/execution.py in time(self=<IPython.core.magics.execution.ExecutionMagics object>, line='', cell='kfold = KFold(10)\\ncv1 = cross_val_score(logis_model , train_X , train_y,cv=kfold , n_jobs=-1)', local_ns=None)\n   1233                 return\n   1234             end = clock2()\n   1235         else:\n   1236             st = clock2()\n   1237             try:\n-> 1238                 exec(code, glob, local_ns)\n        code = <code object <module> at 0x7f268c40c420, file \"<timed exec>\", line 1>\n        glob = {'In': ['', \"import numpy as np\\nimport pandas as pd\\nimport wa...efilter('ignore')\\nfrom awesome_functions import *\", \"train_df = pd.read_csv('train.csv')\\ntest_df = pd.read_csv('test.csv')\", 'len(train_df.columns)', \"train_df['DepartmentDescription'] = train_df['De...,'MENS WEAR')\\n#겹치는 컬럼 이름을 하나로 합쳐주기 위해서 replace한다.\", 'train_dd = make_df_we_wanted(train_df,train_df,test_df,is_need_null_column=True)', 'train_X , train_y = get_df_to_fit(train_dd)', \"testing_df = train_df['FinelineNumber'].value_co... 100 / len(train_df['FinelineNumber'])\\ntesting_df\", 'get_ipython().run_cell_magic(\\'time\\', \\'\\', \"ls = [...r\\'] == i]) == 1:\\\\n        ls.append(i)\\\\nlen(ls)\")', r\"print('length of FinelineNumber which points onl...entDescription: ',len(ls),end='\\n\\n\\n'),print(ls)\", \"fl_dummies = pd.get_dummies(train_df['FinelineNumber'])\", 'fl_dummies = fl_dummies[ls]', \"for i in range(len(ls)):\\n    if np.sum(fl_dummies.iloc[:,i]) !=1:\\n        print('emergency')\", 'train_df = pd.concat([train_df,fl_dummies],axis=1)', 'from awesome_functions import *\\ntrain_df = make_...ive_scancount_only=True,is_need_null_column=True)', 'train_df.tail()', 'train_df.shape', \"train_X = train_df.copy()\\ntrain_X.index = train_...(columns=['TripType','VisitNumber'],inplace=True)\", \"train_y = train_df['TripType']\", 'train_X.shape , train_y.shape', ...], 'KFold': <class 'sklearn.model_selection._split.KFold'>, 'LogisticRegression': <class 'sklearn.linear_model.logistic.LogisticRegression'>, 'Markdown': <class 'IPython.core.display.Markdown'>, 'MultinomialNB': <class 'sklearn.naive_bayes.MultinomialNB'>, 'Out': {3: 7, 7:         FinelineNumber     ratio\nindex          ...             1  0.000155\n\n[5195 rows x 2 columns], 9: (None, None), 15:        VisitNumber  TripType  5358.0  2086.0  48...    0         0       1  \n\n[5 rows x 319 columns], 16: (95674, 319), 19: ((95674, 317), (95674,)), 20:              5358.0  2086.0  4845.0  1808.0  659...    0         0       1  \n\n[5 rows x 317 columns], 21: 95669    25\n95670    22\n95671    39\n95672    39\n95673     8\nName: TripType, dtype: int64, 25: 0.6489955473796434}, 'SCORERS': {'accuracy': make_scorer(accuracy_score), 'adjusted_mutual_info_score': make_scorer(adjusted_mutual_info_score), 'adjusted_rand_score': make_scorer(adjusted_rand_score), 'average_precision': make_scorer(average_precision_score, needs_threshold=True), 'completeness_score': make_scorer(completeness_score), 'explained_variance': make_scorer(explained_variance_score), 'f1': make_scorer(f1_score), 'f1_macro': make_scorer(f1_score, pos_label=None, average=macro), 'f1_micro': make_scorer(f1_score, pos_label=None, average=micro), 'f1_samples': make_scorer(f1_score, pos_label=None, average=samples), ...}, '_': 0.6489955473796434, '_15':        VisitNumber  TripType  5358.0  2086.0  48...    0         0       1  \n\n[5 rows x 319 columns], '_16': (95674, 319), ...}\n        local_ns = None\n   1239             except:\n   1240                 self.shell.showtraceback()\n   1241                 return\n   1242             end = clock2()\n\n...........................................................................\n/home/hskimim/Documents/git-project/dss8/Walmart_TripType_Classification/<timed exec> in <module>()\n\n...........................................................................\n/home/hskimim/anaconda3/lib/python3.6/site-packages/sklearn/model_selection/_validation.py in cross_val_score(estimator=LogisticRegression(C=1.0, class_weight=None, dua...ol=0.0001,\n          verbose=0, warm_start=False), X=             5358.0  2086.0  4845.0  1808.0  659...0         0       1  \n\n[95674 rows x 317 columns], y=0        999\n1         30\n2         26\n3        ...    8\nName: TripType, Length: 95674, dtype: int64, groups=None, scoring=None, cv=KFold(n_splits=10, random_state=None, shuffle=False), n_jobs=-1, verbose=0, fit_params=None, pre_dispatch='2*n_jobs')\n    337     cv_results = cross_validate(estimator=estimator, X=X, y=y, groups=groups,\n    338                                 scoring={'score': scorer}, cv=cv,\n    339                                 return_train_score=False,\n    340                                 n_jobs=n_jobs, verbose=verbose,\n    341                                 fit_params=fit_params,\n--> 342                                 pre_dispatch=pre_dispatch)\n        pre_dispatch = '2*n_jobs'\n    343     return cv_results['test_score']\n    344 \n    345 \n    346 def _fit_and_score(estimator, X, y, scorer, train, test, verbose,\n\n...........................................................................\n/home/hskimim/anaconda3/lib/python3.6/site-packages/sklearn/model_selection/_validation.py in cross_validate(estimator=LogisticRegression(C=1.0, class_weight=None, dua...ol=0.0001,\n          verbose=0, warm_start=False), X=             5358.0  2086.0  4845.0  1808.0  659...0         0       1  \n\n[95674 rows x 317 columns], y=0        999\n1         30\n2         26\n3        ...    8\nName: TripType, Length: 95674, dtype: int64, groups=None, scoring={'score': <function _passthrough_scorer>}, cv=KFold(n_splits=10, random_state=None, shuffle=False), n_jobs=-1, verbose=0, fit_params=None, pre_dispatch='2*n_jobs', return_train_score=False)\n    201     scores = parallel(\n    202         delayed(_fit_and_score)(\n    203             clone(estimator), X, y, scorers, train, test, verbose, None,\n    204             fit_params, return_train_score=return_train_score,\n    205             return_times=True)\n--> 206         for train, test in cv.split(X, y, groups))\n        cv.split = <bound method _BaseKFold.split of KFold(n_splits=10, random_state=None, shuffle=False)>\n        X =              5358.0  2086.0  4845.0  1808.0  659...0         0       1  \n\n[95674 rows x 317 columns]\n        y = 0        999\n1         30\n2         26\n3        ...    8\nName: TripType, Length: 95674, dtype: int64\n        groups = None\n    207 \n    208     if return_train_score:\n    209         train_scores, test_scores, fit_times, score_times = zip(*scores)\n    210         train_scores = _aggregate_score_dicts(train_scores)\n\n...........................................................................\n/home/hskimim/anaconda3/lib/python3.6/site-packages/sklearn/externals/joblib/parallel.py in __call__(self=Parallel(n_jobs=-1), iterable=<generator object cross_validate.<locals>.<genexpr>>)\n    784             if pre_dispatch == \"all\" or n_jobs == 1:\n    785                 # The iterable was consumed all at once by the above for loop.\n    786                 # No need to wait for async callbacks to trigger to\n    787                 # consumption.\n    788                 self._iterating = False\n--> 789             self.retrieve()\n        self.retrieve = <bound method Parallel.retrieve of Parallel(n_jobs=-1)>\n    790             # Make sure that we get a last message telling us we are done\n    791             elapsed_time = time.time() - self._start_time\n    792             self._print('Done %3i out of %3i | elapsed: %s finished',\n    793                         (len(self._output), len(self._output),\n\n---------------------------------------------------------------------------\nSub-process traceback:\n---------------------------------------------------------------------------\nMemoryError                                        Thu Aug  2 16:38:04 2018\nPID: 7486                  Python 3.6.5: /home/hskimim/anaconda3/bin/python\n...........................................................................\n/home/hskimim/anaconda3/lib/python3.6/site-packages/sklearn/externals/joblib/parallel.py in __call__(self=<sklearn.externals.joblib.parallel.BatchedCalls object>)\n    126     def __init__(self, iterator_slice):\n    127         self.items = list(iterator_slice)\n    128         self._size = len(self.items)\n    129 \n    130     def __call__(self):\n--> 131         return [func(*args, **kwargs) for func, args, kwargs in self.items]\n        self.items = [(<function _fit_and_score>, (LogisticRegression(C=1.0, class_weight=None, dua...ol=0.0001,\n          verbose=0, warm_start=False),              5358.0  2086.0  4845.0  1808.0  659...0         0       1  \n\n[95674 rows x 317 columns], 0        999\n1         30\n2         26\n3        ...    8\nName: TripType, Length: 95674, dtype: int64, {'score': <function _passthrough_scorer>}, array([    0,     1,     2, ..., 95671, 95672, 95673]), array([66973, 66974, 66975, ..., 76537, 76538, 76539]), 0, None, None), {'return_times': True, 'return_train_score': False})]\n    132 \n    133     def __len__(self):\n    134         return self._size\n    135 \n\n...........................................................................\n/home/hskimim/anaconda3/lib/python3.6/site-packages/sklearn/externals/joblib/parallel.py in <listcomp>(.0=<list_iterator object>)\n    126     def __init__(self, iterator_slice):\n    127         self.items = list(iterator_slice)\n    128         self._size = len(self.items)\n    129 \n    130     def __call__(self):\n--> 131         return [func(*args, **kwargs) for func, args, kwargs in self.items]\n        func = <function _fit_and_score>\n        args = (LogisticRegression(C=1.0, class_weight=None, dua...ol=0.0001,\n          verbose=0, warm_start=False),              5358.0  2086.0  4845.0  1808.0  659...0         0       1  \n\n[95674 rows x 317 columns], 0        999\n1         30\n2         26\n3        ...    8\nName: TripType, Length: 95674, dtype: int64, {'score': <function _passthrough_scorer>}, array([    0,     1,     2, ..., 95671, 95672, 95673]), array([66973, 66974, 66975, ..., 76537, 76538, 76539]), 0, None, None)\n        kwargs = {'return_times': True, 'return_train_score': False}\n    132 \n    133     def __len__(self):\n    134         return self._size\n    135 \n\n...........................................................................\n/home/hskimim/anaconda3/lib/python3.6/site-packages/sklearn/model_selection/_validation.py in _fit_and_score(estimator=LogisticRegression(C=1.0, class_weight=None, dua...ol=0.0001,\n          verbose=0, warm_start=False), X=             5358.0  2086.0  4845.0  1808.0  659...0         0       1  \n\n[95674 rows x 317 columns], y=0        999\n1         30\n2         26\n3        ...    8\nName: TripType, Length: 95674, dtype: int64, scorer={'score': <function _passthrough_scorer>}, train=array([    0,     1,     2, ..., 95671, 95672, 95673]), test=array([66973, 66974, 66975, ..., 76537, 76538, 76539]), verbose=0, parameters=None, fit_params={}, return_train_score=False, return_parameters=False, return_n_test_samples=False, return_times=True, error_score='raise')\n    453 \n    454     try:\n    455         if y_train is None:\n    456             estimator.fit(X_train, **fit_params)\n    457         else:\n--> 458             estimator.fit(X_train, y_train, **fit_params)\n        estimator.fit = <bound method LogisticRegression.fit of Logistic...l=0.0001,\n          verbose=0, warm_start=False)>\n        X_train =              5358.0  2086.0  4845.0  1808.0  659...0         0       1  \n\n[86107 rows x 317 columns]\n        y_train = 0        999\n1         30\n2         26\n3        ...    8\nName: TripType, Length: 86107, dtype: int64\n        fit_params = {}\n    459 \n    460     except Exception as e:\n    461         # Note fit time as time until error\n    462         fit_time = time.time() - start_time\n\n...........................................................................\n/home/hskimim/anaconda3/lib/python3.6/site-packages/sklearn/linear_model/logistic.py in fit(self=LogisticRegression(C=1.0, class_weight=None, dua...ol=0.0001,\n          verbose=0, warm_start=False), X=             5358.0  2086.0  4845.0  1808.0  659...0         0       1  \n\n[86107 rows x 317 columns], y=0        999\n1         30\n2         26\n3        ...    8\nName: TripType, Length: 86107, dtype: int64, sample_weight=None)\n   1211             _dtype = [np.float64, np.float32]\n   1212         else:\n   1213             _dtype = np.float64\n   1214 \n   1215         X, y = check_X_y(X, y, accept_sparse='csr', dtype=_dtype,\n-> 1216                          order=\"C\")\n   1217         check_classification_targets(y)\n   1218         self.classes_ = np.unique(y)\n   1219         n_samples, n_features = X.shape\n   1220 \n\n...........................................................................\n/home/hskimim/anaconda3/lib/python3.6/site-packages/sklearn/utils/validation.py in check_X_y(X=             5358.0  2086.0  4845.0  1808.0  659...0         0       1  \n\n[86107 rows x 317 columns], y=0        999\n1         30\n2         26\n3        ...    8\nName: TripType, Length: 86107, dtype: int64, accept_sparse='csr', dtype=<class 'numpy.float64'>, order='C', copy=False, force_all_finite=True, ensure_2d=True, allow_nd=False, multi_output=False, ensure_min_samples=1, ensure_min_features=1, y_numeric=False, warn_on_dtype=False, estimator=None)\n    568     y_converted : object\n    569         The converted and validated y.\n    570     \"\"\"\n    571     X = check_array(X, accept_sparse, dtype, order, copy, force_all_finite,\n    572                     ensure_2d, allow_nd, ensure_min_samples,\n--> 573                     ensure_min_features, warn_on_dtype, estimator)\n        ensure_min_features = 1\n        warn_on_dtype = False\n        estimator = None\n    574     if multi_output:\n    575         y = check_array(y, 'csr', force_all_finite=True, ensure_2d=False,\n    576                         dtype=None)\n    577     else:\n\n...........................................................................\n/home/hskimim/anaconda3/lib/python3.6/site-packages/sklearn/utils/validation.py in check_array(array=             5358.0  2086.0  4845.0  1808.0  659...0         0       1  \n\n[86107 rows x 317 columns], accept_sparse='csr', dtype=<class 'numpy.float64'>, order='C', copy=False, force_all_finite=True, ensure_2d=True, allow_nd=False, ensure_min_samples=1, ensure_min_features=1, warn_on_dtype=False, estimator=None)\n    428 \n    429     if sp.issparse(array):\n    430         array = _ensure_sparse_format(array, accept_sparse, dtype, copy,\n    431                                       force_all_finite)\n    432     else:\n--> 433         array = np.array(array, dtype=dtype, order=order, copy=copy)\n        array =              5358.0  2086.0  4845.0  1808.0  659...0         0       1  \n\n[86107 rows x 317 columns]\n        dtype = <class 'numpy.float64'>\n        order = 'C'\n        copy = False\n    434 \n    435         if ensure_2d:\n    436             if array.ndim == 1:\n    437                 raise ValueError(\n\nMemoryError: \n___________________________________________________________________________"
     ]
    }
   ],
   "source": [
    "%%time\n",
    "kfold = KFold(10)\n",
    "cv1 = cross_val_score(logis_model , train_X , train_y,cv=kfold , n_jobs=-1)"
   ]
  },
  {
   "cell_type": "code",
   "execution_count": 28,
   "metadata": {},
   "outputs": [
    {
     "ename": "NameError",
     "evalue": "name 'cv1' is not defined",
     "output_type": "error",
     "traceback": [
      "\u001b[0;31m---------------------------------------------------------------------------\u001b[0m",
      "\u001b[0;31mNameError\u001b[0m                                 Traceback (most recent call last)",
      "\u001b[0;32m<ipython-input-28-8e6074ce8a68>\u001b[0m in \u001b[0;36m<module>\u001b[0;34m()\u001b[0m\n\u001b[0;32m----> 1\u001b[0;31m \u001b[0mnp\u001b[0m\u001b[0;34m.\u001b[0m\u001b[0mmean\u001b[0m\u001b[0;34m(\u001b[0m\u001b[0mcv1\u001b[0m\u001b[0;34m)\u001b[0m\u001b[0;34m\u001b[0m\u001b[0m\n\u001b[0m",
      "\u001b[0;31mNameError\u001b[0m: name 'cv1' is not defined"
     ]
    }
   ],
   "source": [
    "np.mean(cv1)"
   ]
  },
  {
   "cell_type": "markdown",
   "metadata": {},
   "source": [
    "## Multi-nomial Naive Bayes"
   ]
  },
  {
   "cell_type": "code",
   "execution_count": 29,
   "metadata": {},
   "outputs": [],
   "source": [
    "from sklearn.naive_bayes import MultinomialNB"
   ]
  },
  {
   "cell_type": "code",
   "execution_count": 30,
   "metadata": {},
   "outputs": [],
   "source": [
    "multiNB_model = MultinomialNB().fit(train_X, train_y)"
   ]
  },
  {
   "cell_type": "code",
   "execution_count": 31,
   "metadata": {},
   "outputs": [
    {
     "data": {
      "text/plain": [
       "0.5840771787528483"
      ]
     },
     "execution_count": 31,
     "metadata": {},
     "output_type": "execute_result"
    }
   ],
   "source": [
    "accuracy_score(train_y,multiNB_model.predict(train_X))"
   ]
  },
  {
   "cell_type": "code",
   "execution_count": 32,
   "metadata": {},
   "outputs": [
    {
     "name": "stdout",
     "output_type": "stream",
     "text": [
      "CPU times: user 3.94 s, sys: 250 ms, total: 4.19 s\n",
      "Wall time: 5.29 s\n"
     ]
    }
   ],
   "source": [
    "%%time\n",
    "kfold = KFold(10)\n",
    "cv2 = cross_val_score(multiNB_model,train_X,train_y,cv=kfold,n_jobs=-1)"
   ]
  },
  {
   "cell_type": "code",
   "execution_count": 33,
   "metadata": {
    "scrolled": true
   },
   "outputs": [
    {
     "data": {
      "text/plain": [
       "0.5808788727048421"
      ]
     },
     "execution_count": 33,
     "metadata": {},
     "output_type": "execute_result"
    }
   ],
   "source": [
    "np.mean(cv2)"
   ]
  },
  {
   "cell_type": "markdown",
   "metadata": {},
   "source": [
    "### performance of MultinomialNB from orgin dataframe\n",
    "- accuracy_score : 0.5804607312331459\n",
    "- cross_validation score : 0.5765525608779961"
   ]
  }
 ],
 "metadata": {
  "kernelspec": {
   "display_name": "Python 3",
   "language": "python",
   "name": "python3"
  },
  "language_info": {
   "codemirror_mode": {
    "name": "ipython",
    "version": 3
   },
   "file_extension": ".py",
   "mimetype": "text/x-python",
   "name": "python",
   "nbconvert_exporter": "python",
   "pygments_lexer": "ipython3",
   "version": "3.6.5"
  }
 },
 "nbformat": 4,
 "nbformat_minor": 2
}
