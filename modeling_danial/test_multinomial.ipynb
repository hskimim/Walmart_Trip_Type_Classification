{
 "cells": [
  {
   "cell_type": "code",
   "execution_count": 2,
   "metadata": {},
   "outputs": [
    {
     "name": "stdout",
     "output_type": "stream",
     "text": [
      "Train data :  (647054, 7)\n",
      "Test  data :  (653646, 6)\n",
      "submission  data :  (95674, 39)\n"
     ]
    }
   ],
   "source": [
    "# Import the functions used in this project\n",
    "import awesome_functions as af\n",
    "import decode_utils as du\n",
    "\n",
    "# Pretty display for notebooks\n",
    "%matplotlib inline\n",
    "\n",
    "# Ignore the warnings\n",
    "import warnings\n",
    "warnings.filterwarnings('ignore')\n",
    "\n",
    "# Load the dataset\n",
    "train = pd.read_csv(\"../asset/train.csv\")\n",
    "test = pd.read_csv(\"../asset/test.csv\")\n",
    "submission = pd.read_csv(\"../asset/sample_submission.csv\")\n",
    "\n",
    "# Success - Display the first record\n",
    "print(\"Train data : \", train.shape)\n",
    "print(\"Test  data : \", test.shape)\n",
    "print(\"submission  data : \", submission.shape)\n",
    "\n",
    "from sklearn.metrics import confusion_matrix\n",
    "from sklearn.metrics import classification_report\n",
    "import pickle as pkl\n",
    "slack_url = pkl.load(open(\"Slack_url/send_url.pickle\", \"rb\"))\n",
    "\n",
    "import xgboost\n",
    "from sklearn.metrics import log_loss\n",
    "from sklearn.naive_bayes import MultinomialNB\n",
    "from scipy.sparse import csr_matrix\n",
    "def fitNaiveBayesModel(X, y):\n",
    "    return MultinomialNB(alpha=0.0).fit(X, y)\n",
    "\n",
    "# 원본을 유지하기 위해서 카피\n",
    "df_train = train.copy()\n",
    "df_test = test.copy()\n",
    "df_submission = submission.copy()\n",
    "\n",
    "df_train_dd = pd.read_csv(\"Feature_matrix/df_train_dd_201807291831.csv\")\n",
    "df_test_dd = pd.read_csv(\"Feature_matrix/df_test_dd_201807291855.csv\")\n",
    "# df_train_fl = pd.read_csv(\"Feature_matrix/df_train_fl_201807291845.csv\")\n",
    "# df_test_fl = pd.read_csv(\"Feature_matrix/df_test_fl_201807291908.csv.csv\")\n",
    "# df_ratio = pd.read_csv(\"Feature_matrix/df_new_has_all_the_ratio_201808031807.csv\")"
   ]
  },
  {
   "cell_type": "code",
   "execution_count": 9,
   "metadata": {},
   "outputs": [],
   "source": [
    "def get_pivor_df(df, col):\n",
    "    return pd.pivot_table(data= df, index=\"VisitNumber\", fill_value=0,\\\n",
    "                          values=\"ScanCount\", columns=col, aggfunc=np.sum)\n",
    "\n",
    "def get_rid_of_zero_units(df):\n",
    "    return np.where(df < 0, 0, df)"
   ]
  },
  {
   "cell_type": "code",
   "execution_count": 10,
   "metadata": {},
   "outputs": [],
   "source": [
    "def getSpecifiedVisitNumberData(df_train, vn):\n",
    "    display(df_train[df_train.VisitNumber == vn])\n",
    "#     display(df_train_dd[df_train_dd.VisitNumber == vn])"
   ]
  },
  {
   "cell_type": "code",
   "execution_count": 8,
   "metadata": {},
   "outputs": [],
   "source": [
    "def get_real_category_cnt(df_, col = \"DepartmentDescription\", thresould=1.0):\n",
    "    df = df_.copy()\n",
    "    df_count = df.groupby([\"VisitNumber\", col]).sum()[\"ScanCount\"].reset_index(name=\"Sc_sum\")\n",
    "    \n",
    "#     display(df_count)\n",
    "    # sc_count가 음수인 아이템은 같은 날 산 아이템이라 볼 수 없다.\n",
    "    # 리턴하기위해 가져온 것들이므로 월마트를 나갈 때 들고가는 아이템이라 보지않아도된다. \n",
    "    # 그런 아이템은 모두 nan으로 바꾸고 drop한다.\n",
    "    df_count[\"Sc_sum\"] = np.where(df_count[\"Sc_sum\"] < 0, np.nan, df_count[\"Sc_sum\"])\n",
    "    df_count = df_count.dropna()\n",
    "#     display(df_count)\n",
    "    \n",
    "    # 남은 아이템들만 더해주면 위에서 지정해준 컬럼의 유니크한 개수만 남는다.\n",
    "    df_count = df_count.groupby(\"VisitNumber\").sum()[\"Sc_sum\"].reset_index(name=\"Sc_sum\")\n",
    "#     display(df_count)\n",
    "    \n",
    "    return list(df_count[df_count.Sc_sum == thresould].VisitNumber.unique())"
   ]
  },
  {
   "cell_type": "code",
   "execution_count": 20,
   "metadata": {},
   "outputs": [],
   "source": [
    "# import decode_utils as du\n",
    "# import awesome_functions as af\n",
    "from sklearn.metrics import confusion_matrix\n",
    "from IPython.display import display, Markdown\n",
    "\n",
    "def getAccuracy(y_true, y_pred, data_length, i):\n",
    "    \"\"\"\n",
    "        y_true : 원래 타겟 컬럼의 데이터를 넣어준다.\n",
    "        y_pred : 예측한 값을 넣어준다.\n",
    "        data_length : 예측한 데이터의 총 개수를 넣어준다.\n",
    "    \"\"\"\n",
    "    accuracy = round(np.trace(confusion_matrix(y_true, y_pred))/data_length, 4)\n",
    "    display(Markdown(\"##### Accuracy : \" + str(accuracy) + \", smoothing : \" + str(i)))\n",
    "    return accuracy\n",
    "\n",
    "def fitNaiveBayesModel_smoothing(X, y, a = 1.0):\n",
    "    return MultinomialNB(alpha=a).fit(X, y)\n",
    "\n",
    "def __combine_dd_fl(df_dd, df_fl):\n",
    "    col_we_dont_need = [\"VisitNumber\", \"TripType\", 'Return', 'Monday',\\\n",
    "                        'Tuesday', 'Wednesday', 'Thursday', 'Friday', 'Saturday', 'Sunday']\n",
    "    cols_we_need = [col for col in df_dd.columns if col not in col_we_dont_need]\n",
    "    cols = [col for col in cols_we_need if col != \"VisitNumber\"]\n",
    "    return du.concatDf(df_dd[cols], df_fl)\n",
    "\n",
    "def get_df_has_specified_vn_list(vn_list, df=None, df_dd=None, df_fl=None, is_in=True,\n",
    "                                 is_need_to_make_df = False):\n",
    "    if is_need_to_make_df:\n",
    "        df = __combine_dd_fl(df_dd, df_fl)\n",
    "        print(\"Concat 완료.\")\n",
    "    if is_in:\n",
    "        return df[df.VisitNumber.isin(vn_list)]\n",
    "    return df[~df.VisitNumber.isin(vn_list)]\n",
    "\n",
    "def get_df_dd_has_specified_vn_list(df_, vn_list, is_in=True):\n",
    "    df = df_.copy()\n",
    "    dd_cols = df.columns\n",
    "    if (\"MENS WEAR\" in dd_cols) and (\"MENSWEAR\" in dd_cols):\n",
    "        df[\"MENS WEAR\"] = df[\"MENSWEAR\"] + df[\"MENS WEAR\"]\n",
    "        df.drop(\"MENSWEAR\", axis=1, inplace = True)\n",
    "    if is_in:\n",
    "        return df[df.VisitNumber.isin(vn_list)]\n",
    "    return df[~df.VisitNumber.isin(vn_list)]\n",
    "\n",
    "def test_multinomial(df, early_stop = 5):\n",
    "    X, y = af.get_df_to_fit(df)\n",
    "    a = np.arange(0, 0.16, 0.01)\n",
    "    accuracy_ = 0\n",
    "    count = 0\n",
    "    result = []\n",
    "    alpha = []\n",
    "    for i in a:\n",
    "        if count >= early_stop:\n",
    "            best_score = np.array(result).max()\n",
    "            idx = result.index(best_score)\n",
    "            display(Markdown(\"## Best_score : \" + str(best_score) + \", Alpha : \" + str(alpha[idx])))\n",
    "            return\n",
    "        model_nb = fitNaiveBayesModel_smoothing(X, y, i)\n",
    "        y_pred = model_nb.predict(X)\n",
    "        accuracy = getAccuracy(y, y_pred, len(X), i)\n",
    "        if accuracy_ > accuracy:\n",
    "            count += 1\n",
    "        accuracy_ = accuracy\n",
    "        result.append(accuracy)\n",
    "        alpha.append(i)\n",
    "    best_score = np.array(result).max()\n",
    "    idx = result.index(best_score)\n",
    "    display(Markdown(\"## Best_score : \" + str(best_score) + \", Alpha : \" + str(alpha[idx])))\n",
    "#     return best_score, alpha[idx]"
   ]
  },
  {
   "cell_type": "code",
   "execution_count": 6,
   "metadata": {},
   "outputs": [],
   "source": [
    "df_decoded = du.decodeStuffNeedsToBeDecoded(df_train)"
   ]
  },
  {
   "cell_type": "code",
   "execution_count": 11,
   "metadata": {
    "scrolled": true
   },
   "outputs": [],
   "source": [
    "vn_dd_one = get_real_category_cnt(df_decoded)"
   ]
  },
  {
   "cell_type": "code",
   "execution_count": 12,
   "metadata": {},
   "outputs": [],
   "source": [
    "vn_fl_one = get_real_category_cnt(df_decoded, \"FinelineNumber\")"
   ]
  },
  {
   "cell_type": "code",
   "execution_count": 21,
   "metadata": {},
   "outputs": [],
   "source": [
    "df_to_test_dd_only = get_df_dd_has_specified_vn_list(df_train_dd, vn_dd_one)"
   ]
  },
  {
   "cell_type": "code",
   "execution_count": 22,
   "metadata": {
    "scrolled": true
   },
   "outputs": [
    {
     "data": {
      "text/markdown": [
       "##### Accuracy : 0.8086, smoothing : 0.0"
      ],
      "text/plain": [
       "<IPython.core.display.Markdown object>"
      ]
     },
     "metadata": {},
     "output_type": "display_data"
    },
    {
     "data": {
      "text/markdown": [
       "##### Accuracy : 0.8086, smoothing : 0.01"
      ],
      "text/plain": [
       "<IPython.core.display.Markdown object>"
      ]
     },
     "metadata": {},
     "output_type": "display_data"
    },
    {
     "data": {
      "text/markdown": [
       "##### Accuracy : 0.8086, smoothing : 0.02"
      ],
      "text/plain": [
       "<IPython.core.display.Markdown object>"
      ]
     },
     "metadata": {},
     "output_type": "display_data"
    },
    {
     "data": {
      "text/markdown": [
       "##### Accuracy : 0.8086, smoothing : 0.03"
      ],
      "text/plain": [
       "<IPython.core.display.Markdown object>"
      ]
     },
     "metadata": {},
     "output_type": "display_data"
    },
    {
     "data": {
      "text/markdown": [
       "##### Accuracy : 0.8085, smoothing : 0.04"
      ],
      "text/plain": [
       "<IPython.core.display.Markdown object>"
      ]
     },
     "metadata": {},
     "output_type": "display_data"
    },
    {
     "data": {
      "text/markdown": [
       "##### Accuracy : 0.8085, smoothing : 0.05"
      ],
      "text/plain": [
       "<IPython.core.display.Markdown object>"
      ]
     },
     "metadata": {},
     "output_type": "display_data"
    },
    {
     "data": {
      "text/markdown": [
       "##### Accuracy : 0.8084, smoothing : 0.06"
      ],
      "text/plain": [
       "<IPython.core.display.Markdown object>"
      ]
     },
     "metadata": {},
     "output_type": "display_data"
    },
    {
     "data": {
      "text/markdown": [
       "##### Accuracy : 0.8084, smoothing : 0.07"
      ],
      "text/plain": [
       "<IPython.core.display.Markdown object>"
      ]
     },
     "metadata": {},
     "output_type": "display_data"
    },
    {
     "data": {
      "text/markdown": [
       "##### Accuracy : 0.8084, smoothing : 0.08"
      ],
      "text/plain": [
       "<IPython.core.display.Markdown object>"
      ]
     },
     "metadata": {},
     "output_type": "display_data"
    },
    {
     "data": {
      "text/markdown": [
       "##### Accuracy : 0.8084, smoothing : 0.09"
      ],
      "text/plain": [
       "<IPython.core.display.Markdown object>"
      ]
     },
     "metadata": {},
     "output_type": "display_data"
    },
    {
     "data": {
      "text/markdown": [
       "##### Accuracy : 0.8084, smoothing : 0.1"
      ],
      "text/plain": [
       "<IPython.core.display.Markdown object>"
      ]
     },
     "metadata": {},
     "output_type": "display_data"
    },
    {
     "data": {
      "text/markdown": [
       "##### Accuracy : 0.8084, smoothing : 0.11"
      ],
      "text/plain": [
       "<IPython.core.display.Markdown object>"
      ]
     },
     "metadata": {},
     "output_type": "display_data"
    },
    {
     "data": {
      "text/markdown": [
       "##### Accuracy : 0.8084, smoothing : 0.12"
      ],
      "text/plain": [
       "<IPython.core.display.Markdown object>"
      ]
     },
     "metadata": {},
     "output_type": "display_data"
    },
    {
     "data": {
      "text/markdown": [
       "##### Accuracy : 0.8084, smoothing : 0.13"
      ],
      "text/plain": [
       "<IPython.core.display.Markdown object>"
      ]
     },
     "metadata": {},
     "output_type": "display_data"
    },
    {
     "data": {
      "text/markdown": [
       "##### Accuracy : 0.8084, smoothing : 0.14"
      ],
      "text/plain": [
       "<IPython.core.display.Markdown object>"
      ]
     },
     "metadata": {},
     "output_type": "display_data"
    },
    {
     "data": {
      "text/markdown": [
       "##### Accuracy : 0.8086, smoothing : 0.15"
      ],
      "text/plain": [
       "<IPython.core.display.Markdown object>"
      ]
     },
     "metadata": {},
     "output_type": "display_data"
    },
    {
     "data": {
      "text/markdown": [
       "## Best_score : 0.8086, Alpha : 0.0"
      ],
      "text/plain": [
       "<IPython.core.display.Markdown object>"
      ]
     },
     "metadata": {},
     "output_type": "display_data"
    }
   ],
   "source": [
    "test_multinomial(df_to_test_dd_only)"
   ]
  },
  {
   "cell_type": "code",
   "execution_count": null,
   "metadata": {},
   "outputs": [],
   "source": []
  },
  {
   "cell_type": "code",
   "execution_count": null,
   "metadata": {},
   "outputs": [],
   "source": []
  },
  {
   "cell_type": "code",
   "execution_count": 28,
   "metadata": {},
   "outputs": [
    {
     "name": "stdout",
     "output_type": "stream",
     "text": [
      "Concat 완료.\n"
     ]
    }
   ],
   "source": [
    "# df_to_test = get_df_has_specified_vn_list(vn_fl_one, df_dd=df_train_dd, df_fl=df_train_fl, is_need_to_make_df=True)"
   ]
  },
  {
   "cell_type": "code",
   "execution_count": 34,
   "metadata": {
    "scrolled": true
   },
   "outputs": [
    {
     "data": {
      "text/markdown": [
       "##### Accuracy : 0.9331, smoothing : 0.0"
      ],
      "text/plain": [
       "<IPython.core.display.Markdown object>"
      ]
     },
     "metadata": {},
     "output_type": "display_data"
    },
    {
     "data": {
      "text/markdown": [
       "##### Accuracy : 0.9372, smoothing : 0.01"
      ],
      "text/plain": [
       "<IPython.core.display.Markdown object>"
      ]
     },
     "metadata": {},
     "output_type": "display_data"
    },
    {
     "data": {
      "text/markdown": [
       "##### Accuracy : 0.9387, smoothing : 0.02"
      ],
      "text/plain": [
       "<IPython.core.display.Markdown object>"
      ]
     },
     "metadata": {},
     "output_type": "display_data"
    },
    {
     "data": {
      "text/markdown": [
       "##### Accuracy : 0.9383, smoothing : 0.03"
      ],
      "text/plain": [
       "<IPython.core.display.Markdown object>"
      ]
     },
     "metadata": {},
     "output_type": "display_data"
    },
    {
     "data": {
      "text/markdown": [
       "##### Accuracy : 0.9385, smoothing : 0.04"
      ],
      "text/plain": [
       "<IPython.core.display.Markdown object>"
      ]
     },
     "metadata": {},
     "output_type": "display_data"
    },
    {
     "data": {
      "text/markdown": [
       "##### Accuracy : 0.9374, smoothing : 0.05"
      ],
      "text/plain": [
       "<IPython.core.display.Markdown object>"
      ]
     },
     "metadata": {},
     "output_type": "display_data"
    },
    {
     "data": {
      "text/markdown": [
       "##### Accuracy : 0.9365, smoothing : 0.06"
      ],
      "text/plain": [
       "<IPython.core.display.Markdown object>"
      ]
     },
     "metadata": {},
     "output_type": "display_data"
    },
    {
     "data": {
      "text/markdown": [
       "##### Accuracy : 0.9355, smoothing : 0.07"
      ],
      "text/plain": [
       "<IPython.core.display.Markdown object>"
      ]
     },
     "metadata": {},
     "output_type": "display_data"
    },
    {
     "data": {
      "text/markdown": [
       "##### Accuracy : 0.9351, smoothing : 0.08"
      ],
      "text/plain": [
       "<IPython.core.display.Markdown object>"
      ]
     },
     "metadata": {},
     "output_type": "display_data"
    },
    {
     "data": {
      "text/markdown": [
       "## Best_score : 0.9387, Alpha : 0.02"
      ],
      "text/plain": [
       "<IPython.core.display.Markdown object>"
      ]
     },
     "metadata": {},
     "output_type": "display_data"
    }
   ],
   "source": [
    "# test_multinomial(df_to_test)"
   ]
  },
  {
   "cell_type": "code",
   "execution_count": 35,
   "metadata": {},
   "outputs": [
    {
     "name": "stdout",
     "output_type": "stream",
     "text": [
      "Concat 완료.\n"
     ]
    }
   ],
   "source": [
    "# df_to_test = get_df_has_specified_vn_list(vn_dd_one, df_dd=df_train_dd, df_fl=df_train_fl, is_need_to_make_df=True)"
   ]
  },
  {
   "cell_type": "code",
   "execution_count": 36,
   "metadata": {
    "scrolled": true
   },
   "outputs": [
    {
     "data": {
      "text/markdown": [
       "##### Accuracy : 0.9336, smoothing : 0.0"
      ],
      "text/plain": [
       "<IPython.core.display.Markdown object>"
      ]
     },
     "metadata": {},
     "output_type": "display_data"
    },
    {
     "data": {
      "text/markdown": [
       "##### Accuracy : 0.9377, smoothing : 0.01"
      ],
      "text/plain": [
       "<IPython.core.display.Markdown object>"
      ]
     },
     "metadata": {},
     "output_type": "display_data"
    },
    {
     "data": {
      "text/markdown": [
       "##### Accuracy : 0.9395, smoothing : 0.02"
      ],
      "text/plain": [
       "<IPython.core.display.Markdown object>"
      ]
     },
     "metadata": {},
     "output_type": "display_data"
    },
    {
     "data": {
      "text/markdown": [
       "##### Accuracy : 0.939, smoothing : 0.03"
      ],
      "text/plain": [
       "<IPython.core.display.Markdown object>"
      ]
     },
     "metadata": {},
     "output_type": "display_data"
    },
    {
     "data": {
      "text/markdown": [
       "##### Accuracy : 0.9388, smoothing : 0.04"
      ],
      "text/plain": [
       "<IPython.core.display.Markdown object>"
      ]
     },
     "metadata": {},
     "output_type": "display_data"
    },
    {
     "data": {
      "text/markdown": [
       "##### Accuracy : 0.9377, smoothing : 0.05"
      ],
      "text/plain": [
       "<IPython.core.display.Markdown object>"
      ]
     },
     "metadata": {},
     "output_type": "display_data"
    },
    {
     "data": {
      "text/markdown": [
       "##### Accuracy : 0.9367, smoothing : 0.06"
      ],
      "text/plain": [
       "<IPython.core.display.Markdown object>"
      ]
     },
     "metadata": {},
     "output_type": "display_data"
    },
    {
     "data": {
      "text/markdown": [
       "##### Accuracy : 0.9357, smoothing : 0.07"
      ],
      "text/plain": [
       "<IPython.core.display.Markdown object>"
      ]
     },
     "metadata": {},
     "output_type": "display_data"
    },
    {
     "data": {
      "text/markdown": [
       "## Best_score : 0.9395, Alpha : 0.02"
      ],
      "text/plain": [
       "<IPython.core.display.Markdown object>"
      ]
     },
     "metadata": {},
     "output_type": "display_data"
    }
   ],
   "source": [
    "# test_multinomial(df_to_test)"
   ]
  },
  {
   "cell_type": "code",
   "execution_count": null,
   "metadata": {},
   "outputs": [],
   "source": []
  },
  {
   "cell_type": "code",
   "execution_count": null,
   "metadata": {},
   "outputs": [],
   "source": []
  },
  {
   "cell_type": "code",
   "execution_count": null,
   "metadata": {},
   "outputs": [],
   "source": []
  },
  {
   "cell_type": "code",
   "execution_count": null,
   "metadata": {},
   "outputs": [],
   "source": []
  },
  {
   "cell_type": "code",
   "execution_count": null,
   "metadata": {},
   "outputs": [],
   "source": []
  },
  {
   "cell_type": "code",
   "execution_count": null,
   "metadata": {},
   "outputs": [],
   "source": []
  },
  {
   "cell_type": "code",
   "execution_count": null,
   "metadata": {},
   "outputs": [],
   "source": []
  }
 ],
 "metadata": {
  "kernelspec": {
   "display_name": "Python 3",
   "language": "python",
   "name": "python3"
  },
  "language_info": {
   "codemirror_mode": {
    "name": "ipython",
    "version": 3
   },
   "file_extension": ".py",
   "mimetype": "text/x-python",
   "name": "python",
   "nbconvert_exporter": "python",
   "pygments_lexer": "ipython3",
   "version": "3.6.5"
  }
 },
 "nbformat": 4,
 "nbformat_minor": 2
}
