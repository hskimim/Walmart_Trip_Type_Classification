{
 "cells": [
  {
   "cell_type": "code",
   "execution_count": 2,
   "metadata": {},
   "outputs": [],
   "source": [
    "import numpy as np\n",
    "import pandas as pd\n",
    "import matplotlib.pylab as plt\n",
    "import seaborn as sns\n",
    "import warnings\n",
    "warnings.filterwarnings('ignore')\n",
    "from sklearn.model_selection import train_test_split , cross_val_score , KFold\n",
    "from sklearn.metrics import classification_report,confusion_matrix,accuracy_score\n",
    "from sklearn.linear_model import LogisticRegression\n",
    "from sklearn.discriminant_analysis import LinearDiscriminantAnalysis , QuadraticDiscriminantAnalysis\n",
    "from sklearn.naive_bayes import GaussianNB\n",
    "from sklearn.tree import DecisionTreeClassifier\n",
    "from sklearn.ensemble import RandomForestClassifier ,BaggingClassifier , VotingClassifier , AdaBoostClassifier , GradientBoostingClassifier , ExtraTreesClassifier\n",
    "from sklearn.svm import SVC\n",
    "from sklearn.metrics import classification_report, confusion_matrix , accuracy_score\n",
    "from sklearn.model_selection import KFold, cross_val_score , GridSearchCV"
   ]
  },
  {
   "cell_type": "code",
   "execution_count": 17,
   "metadata": {
    "scrolled": true
   },
   "outputs": [
    {
     "data": {
      "text/html": [
       "<div>\n",
       "<style scoped>\n",
       "    .dataframe tbody tr th:only-of-type {\n",
       "        vertical-align: middle;\n",
       "    }\n",
       "\n",
       "    .dataframe tbody tr th {\n",
       "        vertical-align: top;\n",
       "    }\n",
       "\n",
       "    .dataframe thead th {\n",
       "        text-align: right;\n",
       "    }\n",
       "</style>\n",
       "<table border=\"1\" class=\"dataframe\">\n",
       "  <thead>\n",
       "    <tr style=\"text-align: right;\">\n",
       "      <th></th>\n",
       "      <th>VisitNumber</th>\n",
       "      <th>TripType</th>\n",
       "      <th>Monday</th>\n",
       "      <th>Tuesday</th>\n",
       "      <th>Wednesday</th>\n",
       "      <th>Thursday</th>\n",
       "      <th>Friday</th>\n",
       "      <th>Saturday</th>\n",
       "      <th>Sunday</th>\n",
       "      <th>Return_bin</th>\n",
       "      <th>...</th>\n",
       "      <th>SEAFOOD</th>\n",
       "      <th>SEASONAL</th>\n",
       "      <th>SERVICE DELI</th>\n",
       "      <th>SHEER HOSIERY</th>\n",
       "      <th>SHOES</th>\n",
       "      <th>SLEEPWEAR/FOUNDATIONS</th>\n",
       "      <th>SPORTING GOODS</th>\n",
       "      <th>SWIMWEAR/OUTERWEAR</th>\n",
       "      <th>TOYS</th>\n",
       "      <th>WIRELESS</th>\n",
       "    </tr>\n",
       "  </thead>\n",
       "  <tbody>\n",
       "    <tr>\n",
       "      <th>95669</th>\n",
       "      <td>191343</td>\n",
       "      <td>25</td>\n",
       "      <td>0</td>\n",
       "      <td>0</td>\n",
       "      <td>0</td>\n",
       "      <td>0</td>\n",
       "      <td>0</td>\n",
       "      <td>0</td>\n",
       "      <td>1</td>\n",
       "      <td>0.0</td>\n",
       "      <td>...</td>\n",
       "      <td>0</td>\n",
       "      <td>0</td>\n",
       "      <td>0</td>\n",
       "      <td>0</td>\n",
       "      <td>0</td>\n",
       "      <td>0</td>\n",
       "      <td>0</td>\n",
       "      <td>0</td>\n",
       "      <td>0</td>\n",
       "      <td>0</td>\n",
       "    </tr>\n",
       "    <tr>\n",
       "      <th>95670</th>\n",
       "      <td>191344</td>\n",
       "      <td>22</td>\n",
       "      <td>0</td>\n",
       "      <td>0</td>\n",
       "      <td>0</td>\n",
       "      <td>0</td>\n",
       "      <td>0</td>\n",
       "      <td>0</td>\n",
       "      <td>1</td>\n",
       "      <td>0.0</td>\n",
       "      <td>...</td>\n",
       "      <td>0</td>\n",
       "      <td>0</td>\n",
       "      <td>0</td>\n",
       "      <td>0</td>\n",
       "      <td>0</td>\n",
       "      <td>0</td>\n",
       "      <td>0</td>\n",
       "      <td>0</td>\n",
       "      <td>0</td>\n",
       "      <td>1</td>\n",
       "    </tr>\n",
       "    <tr>\n",
       "      <th>95671</th>\n",
       "      <td>191345</td>\n",
       "      <td>39</td>\n",
       "      <td>0</td>\n",
       "      <td>0</td>\n",
       "      <td>0</td>\n",
       "      <td>0</td>\n",
       "      <td>0</td>\n",
       "      <td>0</td>\n",
       "      <td>1</td>\n",
       "      <td>0.0</td>\n",
       "      <td>...</td>\n",
       "      <td>0</td>\n",
       "      <td>0</td>\n",
       "      <td>0</td>\n",
       "      <td>0</td>\n",
       "      <td>0</td>\n",
       "      <td>0</td>\n",
       "      <td>0</td>\n",
       "      <td>0</td>\n",
       "      <td>0</td>\n",
       "      <td>0</td>\n",
       "    </tr>\n",
       "    <tr>\n",
       "      <th>95672</th>\n",
       "      <td>191346</td>\n",
       "      <td>39</td>\n",
       "      <td>0</td>\n",
       "      <td>0</td>\n",
       "      <td>0</td>\n",
       "      <td>0</td>\n",
       "      <td>0</td>\n",
       "      <td>0</td>\n",
       "      <td>1</td>\n",
       "      <td>0.0</td>\n",
       "      <td>...</td>\n",
       "      <td>0</td>\n",
       "      <td>0</td>\n",
       "      <td>0</td>\n",
       "      <td>0</td>\n",
       "      <td>0</td>\n",
       "      <td>0</td>\n",
       "      <td>0</td>\n",
       "      <td>0</td>\n",
       "      <td>0</td>\n",
       "      <td>0</td>\n",
       "    </tr>\n",
       "    <tr>\n",
       "      <th>95673</th>\n",
       "      <td>191347</td>\n",
       "      <td>8</td>\n",
       "      <td>0</td>\n",
       "      <td>0</td>\n",
       "      <td>0</td>\n",
       "      <td>0</td>\n",
       "      <td>0</td>\n",
       "      <td>0</td>\n",
       "      <td>1</td>\n",
       "      <td>0.0</td>\n",
       "      <td>...</td>\n",
       "      <td>0</td>\n",
       "      <td>0</td>\n",
       "      <td>0</td>\n",
       "      <td>0</td>\n",
       "      <td>0</td>\n",
       "      <td>0</td>\n",
       "      <td>0</td>\n",
       "      <td>0</td>\n",
       "      <td>0</td>\n",
       "      <td>0</td>\n",
       "    </tr>\n",
       "  </tbody>\n",
       "</table>\n",
       "<p>5 rows × 78 columns</p>\n",
       "</div>"
      ],
      "text/plain": [
       "       VisitNumber  TripType  Monday  Tuesday  Wednesday  Thursday  Friday  \\\n",
       "95669       191343        25       0        0          0         0       0   \n",
       "95670       191344        22       0        0          0         0       0   \n",
       "95671       191345        39       0        0          0         0       0   \n",
       "95672       191346        39       0        0          0         0       0   \n",
       "95673       191347         8       0        0          0         0       0   \n",
       "\n",
       "       Saturday  Sunday  Return_bin    ...     SEAFOOD  SEASONAL  \\\n",
       "95669         0       1         0.0    ...           0         0   \n",
       "95670         0       1         0.0    ...           0         0   \n",
       "95671         0       1         0.0    ...           0         0   \n",
       "95672         0       1         0.0    ...           0         0   \n",
       "95673         0       1         0.0    ...           0         0   \n",
       "\n",
       "       SERVICE DELI  SHEER HOSIERY  SHOES  SLEEPWEAR/FOUNDATIONS  \\\n",
       "95669             0              0      0                      0   \n",
       "95670             0              0      0                      0   \n",
       "95671             0              0      0                      0   \n",
       "95672             0              0      0                      0   \n",
       "95673             0              0      0                      0   \n",
       "\n",
       "       SPORTING GOODS  SWIMWEAR/OUTERWEAR  TOYS  WIRELESS  \n",
       "95669               0                   0     0         0  \n",
       "95670               0                   0     0         1  \n",
       "95671               0                   0     0         0  \n",
       "95672               0                   0     0         0  \n",
       "95673               0                   0     0         0  \n",
       "\n",
       "[5 rows x 78 columns]"
      ]
     },
     "execution_count": 17,
     "metadata": {},
     "output_type": "execute_result"
    }
   ],
   "source": [
    "train_df = pd.read_csv('train_new_2v.csv')\n",
    "train_df.tail()"
   ]
  },
  {
   "cell_type": "code",
   "execution_count": 18,
   "metadata": {},
   "outputs": [
    {
     "data": {
      "text/html": [
       "<div>\n",
       "<style scoped>\n",
       "    .dataframe tbody tr th:only-of-type {\n",
       "        vertical-align: middle;\n",
       "    }\n",
       "\n",
       "    .dataframe tbody tr th {\n",
       "        vertical-align: top;\n",
       "    }\n",
       "\n",
       "    .dataframe thead th {\n",
       "        text-align: right;\n",
       "    }\n",
       "</style>\n",
       "<table border=\"1\" class=\"dataframe\">\n",
       "  <thead>\n",
       "    <tr style=\"text-align: right;\">\n",
       "      <th></th>\n",
       "      <th>TripType</th>\n",
       "      <th>Monday</th>\n",
       "      <th>Tuesday</th>\n",
       "      <th>Wednesday</th>\n",
       "      <th>Thursday</th>\n",
       "      <th>Friday</th>\n",
       "      <th>Saturday</th>\n",
       "      <th>Sunday</th>\n",
       "      <th>Return_bin</th>\n",
       "      <th>1-HR PHOTO</th>\n",
       "      <th>...</th>\n",
       "      <th>SEAFOOD</th>\n",
       "      <th>SEASONAL</th>\n",
       "      <th>SERVICE DELI</th>\n",
       "      <th>SHEER HOSIERY</th>\n",
       "      <th>SHOES</th>\n",
       "      <th>SLEEPWEAR/FOUNDATIONS</th>\n",
       "      <th>SPORTING GOODS</th>\n",
       "      <th>SWIMWEAR/OUTERWEAR</th>\n",
       "      <th>TOYS</th>\n",
       "      <th>WIRELESS</th>\n",
       "    </tr>\n",
       "    <tr>\n",
       "      <th>VisitNumber</th>\n",
       "      <th></th>\n",
       "      <th></th>\n",
       "      <th></th>\n",
       "      <th></th>\n",
       "      <th></th>\n",
       "      <th></th>\n",
       "      <th></th>\n",
       "      <th></th>\n",
       "      <th></th>\n",
       "      <th></th>\n",
       "      <th></th>\n",
       "      <th></th>\n",
       "      <th></th>\n",
       "      <th></th>\n",
       "      <th></th>\n",
       "      <th></th>\n",
       "      <th></th>\n",
       "      <th></th>\n",
       "      <th></th>\n",
       "      <th></th>\n",
       "      <th></th>\n",
       "    </tr>\n",
       "  </thead>\n",
       "  <tbody>\n",
       "    <tr>\n",
       "      <th>191343</th>\n",
       "      <td>25</td>\n",
       "      <td>0</td>\n",
       "      <td>0</td>\n",
       "      <td>0</td>\n",
       "      <td>0</td>\n",
       "      <td>0</td>\n",
       "      <td>0</td>\n",
       "      <td>1</td>\n",
       "      <td>0.0</td>\n",
       "      <td>0</td>\n",
       "      <td>...</td>\n",
       "      <td>0</td>\n",
       "      <td>0</td>\n",
       "      <td>0</td>\n",
       "      <td>0</td>\n",
       "      <td>0</td>\n",
       "      <td>0</td>\n",
       "      <td>0</td>\n",
       "      <td>0</td>\n",
       "      <td>0</td>\n",
       "      <td>0</td>\n",
       "    </tr>\n",
       "    <tr>\n",
       "      <th>191344</th>\n",
       "      <td>22</td>\n",
       "      <td>0</td>\n",
       "      <td>0</td>\n",
       "      <td>0</td>\n",
       "      <td>0</td>\n",
       "      <td>0</td>\n",
       "      <td>0</td>\n",
       "      <td>1</td>\n",
       "      <td>0.0</td>\n",
       "      <td>0</td>\n",
       "      <td>...</td>\n",
       "      <td>0</td>\n",
       "      <td>0</td>\n",
       "      <td>0</td>\n",
       "      <td>0</td>\n",
       "      <td>0</td>\n",
       "      <td>0</td>\n",
       "      <td>0</td>\n",
       "      <td>0</td>\n",
       "      <td>0</td>\n",
       "      <td>1</td>\n",
       "    </tr>\n",
       "    <tr>\n",
       "      <th>191345</th>\n",
       "      <td>39</td>\n",
       "      <td>0</td>\n",
       "      <td>0</td>\n",
       "      <td>0</td>\n",
       "      <td>0</td>\n",
       "      <td>0</td>\n",
       "      <td>0</td>\n",
       "      <td>1</td>\n",
       "      <td>0.0</td>\n",
       "      <td>0</td>\n",
       "      <td>...</td>\n",
       "      <td>0</td>\n",
       "      <td>0</td>\n",
       "      <td>0</td>\n",
       "      <td>0</td>\n",
       "      <td>0</td>\n",
       "      <td>0</td>\n",
       "      <td>0</td>\n",
       "      <td>0</td>\n",
       "      <td>0</td>\n",
       "      <td>0</td>\n",
       "    </tr>\n",
       "    <tr>\n",
       "      <th>191346</th>\n",
       "      <td>39</td>\n",
       "      <td>0</td>\n",
       "      <td>0</td>\n",
       "      <td>0</td>\n",
       "      <td>0</td>\n",
       "      <td>0</td>\n",
       "      <td>0</td>\n",
       "      <td>1</td>\n",
       "      <td>0.0</td>\n",
       "      <td>0</td>\n",
       "      <td>...</td>\n",
       "      <td>0</td>\n",
       "      <td>0</td>\n",
       "      <td>0</td>\n",
       "      <td>0</td>\n",
       "      <td>0</td>\n",
       "      <td>0</td>\n",
       "      <td>0</td>\n",
       "      <td>0</td>\n",
       "      <td>0</td>\n",
       "      <td>0</td>\n",
       "    </tr>\n",
       "    <tr>\n",
       "      <th>191347</th>\n",
       "      <td>8</td>\n",
       "      <td>0</td>\n",
       "      <td>0</td>\n",
       "      <td>0</td>\n",
       "      <td>0</td>\n",
       "      <td>0</td>\n",
       "      <td>0</td>\n",
       "      <td>1</td>\n",
       "      <td>0.0</td>\n",
       "      <td>0</td>\n",
       "      <td>...</td>\n",
       "      <td>0</td>\n",
       "      <td>0</td>\n",
       "      <td>0</td>\n",
       "      <td>0</td>\n",
       "      <td>0</td>\n",
       "      <td>0</td>\n",
       "      <td>0</td>\n",
       "      <td>0</td>\n",
       "      <td>0</td>\n",
       "      <td>0</td>\n",
       "    </tr>\n",
       "  </tbody>\n",
       "</table>\n",
       "<p>5 rows × 77 columns</p>\n",
       "</div>"
      ],
      "text/plain": [
       "             TripType  Monday  Tuesday  Wednesday  Thursday  Friday  Saturday  \\\n",
       "VisitNumber                                                                     \n",
       "191343             25       0        0          0         0       0         0   \n",
       "191344             22       0        0          0         0       0         0   \n",
       "191345             39       0        0          0         0       0         0   \n",
       "191346             39       0        0          0         0       0         0   \n",
       "191347              8       0        0          0         0       0         0   \n",
       "\n",
       "             Sunday  Return_bin  1-HR PHOTO    ...     SEAFOOD  SEASONAL  \\\n",
       "VisitNumber                                    ...                         \n",
       "191343            1         0.0           0    ...           0         0   \n",
       "191344            1         0.0           0    ...           0         0   \n",
       "191345            1         0.0           0    ...           0         0   \n",
       "191346            1         0.0           0    ...           0         0   \n",
       "191347            1         0.0           0    ...           0         0   \n",
       "\n",
       "             SERVICE DELI  SHEER HOSIERY  SHOES  SLEEPWEAR/FOUNDATIONS  \\\n",
       "VisitNumber                                                              \n",
       "191343                  0              0      0                      0   \n",
       "191344                  0              0      0                      0   \n",
       "191345                  0              0      0                      0   \n",
       "191346                  0              0      0                      0   \n",
       "191347                  0              0      0                      0   \n",
       "\n",
       "             SPORTING GOODS  SWIMWEAR/OUTERWEAR  TOYS  WIRELESS  \n",
       "VisitNumber                                                      \n",
       "191343                    0                   0     0         0  \n",
       "191344                    0                   0     0         1  \n",
       "191345                    0                   0     0         0  \n",
       "191346                    0                   0     0         0  \n",
       "191347                    0                   0     0         0  \n",
       "\n",
       "[5 rows x 77 columns]"
      ]
     },
     "execution_count": 18,
     "metadata": {},
     "output_type": "execute_result"
    }
   ],
   "source": [
    "train_df.index = train_df['VisitNumber']\n",
    "train_df.drop(columns='VisitNumber',inplace=True)\n",
    "train_df.tail()"
   ]
  },
  {
   "cell_type": "code",
   "execution_count": 19,
   "metadata": {},
   "outputs": [
    {
     "data": {
      "text/plain": [
       "(95674, 77)"
      ]
     },
     "execution_count": 19,
     "metadata": {},
     "output_type": "execute_result"
    }
   ],
   "source": [
    "train_df.shape"
   ]
  },
  {
   "cell_type": "code",
   "execution_count": 20,
   "metadata": {},
   "outputs": [],
   "source": [
    "train_X = train_df.iloc[:,1:]\n",
    "train_y = train_df.iloc[:,0]"
   ]
  },
  {
   "cell_type": "code",
   "execution_count": 21,
   "metadata": {},
   "outputs": [
    {
     "data": {
      "text/plain": [
       "((95674, 76), (95674,))"
      ]
     },
     "execution_count": 21,
     "metadata": {},
     "output_type": "execute_result"
    }
   ],
   "source": [
    "train_X.shape,train_y.shape"
   ]
  },
  {
   "cell_type": "markdown",
   "metadata": {},
   "source": [
    "## Modeling\n",
    "### Which model we gonna apply on this DataFrame?\n",
    "#### Model for Classification\n",
    "- Logistic Regression\n",
    "- Quadratic Discriminative Analysis\n",
    "- Linear Discriminative anaylsis\n",
    "- Naive Bayes\n",
    "- Decision Tree\n",
    "- Ensemble\n",
    "    - Random Forest\n",
    "    - VotingClassifier\n",
    "    - BaggingClassifier\n",
    "    - AdaBoostClassifer\n",
    "    - GradientClassifier\n",
    "    - Xgboost\n",
    "    - Perceptron\n",
    "    - SGDClassifer\n",
    "    - SVC"
   ]
  },
  {
   "cell_type": "markdown",
   "metadata": {},
   "source": [
    "### Logistic Regression"
   ]
  },
  {
   "cell_type": "code",
   "execution_count": 7,
   "metadata": {},
   "outputs": [
    {
     "name": "stdout",
     "output_type": "stream",
     "text": [
      "CPU times: user 1min 1s, sys: 38 ms, total: 1min 1s\n",
      "Wall time: 1min\n"
     ]
    }
   ],
   "source": [
    "%%time\n",
    "logis_model = LogisticRegression().fit(train_X,train_y)"
   ]
  },
  {
   "cell_type": "code",
   "execution_count": 66,
   "metadata": {},
   "outputs": [],
   "source": [
    "logis_ac_sc = accuracy_score(train_y,logis_model.predict(train_X))"
   ]
  },
  {
   "cell_type": "code",
   "execution_count": 9,
   "metadata": {},
   "outputs": [
    {
     "data": {
      "text/plain": [
       "['logistic_model.pkl']"
      ]
     },
     "execution_count": 9,
     "metadata": {},
     "output_type": "execute_result"
    }
   ],
   "source": [
    "from sklearn.externals import joblib\n",
    "filename = 'logistic_model.pkl'\n",
    "joblib.dump(logis_model,filename)"
   ]
  },
  {
   "cell_type": "code",
   "execution_count": 10,
   "metadata": {
    "scrolled": true
   },
   "outputs": [
    {
     "name": "stdout",
     "output_type": "stream",
     "text": [
      "             precision    recall  f1-score   support\n",
      "\n",
      "          3       0.76      0.94      0.84      3643\n",
      "          4       0.00      0.00      0.00       346\n",
      "          5       0.74      0.67      0.71      4593\n",
      "          6       0.66      0.49      0.56      1277\n",
      "          7       0.65      0.66      0.65      5752\n",
      "          8       0.59      0.90      0.71     12161\n",
      "          9       0.64      0.77      0.70      9464\n",
      "         12       0.38      0.02      0.04       269\n",
      "         14       0.00      0.00      0.00         4\n",
      "         15       0.58      0.31      0.41       978\n",
      "         18       0.51      0.35      0.41       549\n",
      "         19       0.51      0.17      0.25       375\n",
      "         20       0.60      0.58      0.59       637\n",
      "         21       0.63      0.51      0.56       641\n",
      "         22       0.45      0.29      0.35       928\n",
      "         23       0.14      0.02      0.04       139\n",
      "         24       0.61      0.57      0.59      2609\n",
      "         25       0.70      0.77      0.73      3698\n",
      "         26       0.54      0.36      0.43       503\n",
      "         27       0.66      0.62      0.64       785\n",
      "         28       0.54      0.34      0.42       492\n",
      "         29       0.22      0.00      0.01       433\n",
      "         30       0.47      0.29      0.36      1081\n",
      "         31       0.71      0.65      0.68       594\n",
      "         32       0.72      0.63      0.67      1984\n",
      "         33       0.63      0.48      0.54      1315\n",
      "         34       0.60      0.30      0.40       719\n",
      "         35       0.58      0.42      0.49      2030\n",
      "         36       0.63      0.59      0.61      3005\n",
      "         37       0.61      0.55      0.58      2788\n",
      "         38       0.54      0.31      0.40      2912\n",
      "         39       0.48      0.58      0.52      9896\n",
      "         40       0.76      0.81      0.79      6130\n",
      "         41       0.29      0.00      0.01       583\n",
      "         42       0.53      0.13      0.21      1858\n",
      "         43       0.00      0.00      0.00       872\n",
      "         44       0.61      0.03      0.06      1187\n",
      "        999       0.83      0.76      0.79      8444\n",
      "\n",
      "avg / total       0.63      0.64      0.62     95674\n",
      "\n"
     ]
    }
   ],
   "source": [
    "print(classification_report(train_y,logis_model.predict(train_X)))"
   ]
  },
  {
   "cell_type": "code",
   "execution_count": 11,
   "metadata": {},
   "outputs": [
    {
     "name": "stdout",
     "output_type": "stream",
     "text": [
      "CPU times: user 8min 15s, sys: 588 ms, total: 8min 16s\n",
      "Wall time: 8min 10s\n"
     ]
    }
   ],
   "source": [
    "%%time\n",
    "kfold = KFold(10)\n",
    "logis_cv_score = cross_val_score(logis_model,train_X,train_y,cv=kfold)\n",
    "logis_cv_score"
   ]
  },
  {
   "cell_type": "code",
   "execution_count": 71,
   "metadata": {},
   "outputs": [],
   "source": [
    "logis_cv_sc = np.mean(logis_cv_score)"
   ]
  },
  {
   "cell_type": "markdown",
   "metadata": {},
   "source": [
    "### QDA"
   ]
  },
  {
   "cell_type": "code",
   "execution_count": 13,
   "metadata": {},
   "outputs": [
    {
     "name": "stdout",
     "output_type": "stream",
     "text": [
      "CPU times: user 1.41 s, sys: 68 ms, total: 1.48 s\n",
      "Wall time: 369 ms\n"
     ]
    }
   ],
   "source": [
    "%%time\n",
    "qda_model = QuadraticDiscriminantAnalysis().fit(train_X,train_y)"
   ]
  },
  {
   "cell_type": "code",
   "execution_count": 67,
   "metadata": {},
   "outputs": [],
   "source": [
    "qda_ac_sc = accuracy_score(train_y,qda_model.predict(train_X))"
   ]
  },
  {
   "cell_type": "code",
   "execution_count": 15,
   "metadata": {},
   "outputs": [
    {
     "data": {
      "text/plain": [
       "['qda_model.pkl']"
      ]
     },
     "execution_count": 15,
     "metadata": {},
     "output_type": "execute_result"
    }
   ],
   "source": [
    "from sklearn.externals import joblib\n",
    "filename = 'qda_model.pkl'\n",
    "joblib.dump(qda_model,filename)"
   ]
  },
  {
   "cell_type": "code",
   "execution_count": 16,
   "metadata": {},
   "outputs": [
    {
     "name": "stdout",
     "output_type": "stream",
     "text": [
      "             precision    recall  f1-score   support\n",
      "\n",
      "          3       0.99      0.03      0.06      3643\n",
      "          4       0.00      0.41      0.01       346\n",
      "          5       0.91      0.04      0.08      4593\n",
      "          6       0.22      0.49      0.30      1277\n",
      "          7       0.65      0.00      0.01      5752\n",
      "          8       0.00      0.00      0.00     12161\n",
      "          9       0.00      0.00      0.00      9464\n",
      "         12       0.02      0.58      0.03       269\n",
      "         14       1.00      0.25      0.40         4\n",
      "         15       0.28      0.06      0.09       978\n",
      "         18       0.03      0.19      0.05       549\n",
      "         19       0.06      0.06      0.06       375\n",
      "         20       0.53      0.32      0.40       637\n",
      "         21       0.08      0.44      0.14       641\n",
      "         22       0.21      0.15      0.17       928\n",
      "         23       0.01      0.99      0.01       139\n",
      "         24       0.53      0.11      0.19      2609\n",
      "         25       0.69      0.13      0.21      3698\n",
      "         26       0.10      0.48      0.17       503\n",
      "         27       0.50      0.32      0.39       785\n",
      "         28       0.07      0.29      0.11       492\n",
      "         29       0.03      0.02      0.02       433\n",
      "         30       0.11      0.16      0.13      1081\n",
      "         31       0.28      0.28      0.28       594\n",
      "         32       0.57      0.07      0.13      1984\n",
      "         33       0.54      0.03      0.06      1315\n",
      "         34       0.35      0.08      0.13       719\n",
      "         35       0.04      0.03      0.03      2030\n",
      "         36       0.74      0.02      0.05      3005\n",
      "         37       0.17      0.09      0.12      2788\n",
      "         38       0.21      0.01      0.01      2912\n",
      "         39       0.13      0.00      0.00      9896\n",
      "         40       0.77      0.13      0.22      6130\n",
      "         41       0.41      0.02      0.04       583\n",
      "         42       0.47      0.06      0.11      1858\n",
      "         43       0.06      0.00      0.01       872\n",
      "         44       0.35      0.08      0.13      1187\n",
      "        999       0.33      0.00      0.00      8444\n",
      "\n",
      "avg / total       0.35      0.06      0.07     95674\n",
      "\n"
     ]
    }
   ],
   "source": [
    "print(classification_report(train_y,qda_model.predict(train_X)))"
   ]
  },
  {
   "cell_type": "code",
   "execution_count": 17,
   "metadata": {},
   "outputs": [
    {
     "name": "stdout",
     "output_type": "stream",
     "text": [
      "CPU times: user 20.2 s, sys: 576 ms, total: 20.8 s\n",
      "Wall time: 5.2 s\n"
     ]
    }
   ],
   "source": [
    "%%time\n",
    "kfold = KFold(10)\n",
    "qda_cv_score = cross_val_score(qda_model,train_X,train_y,cv=kfold)\n",
    "qda_cv_score"
   ]
  },
  {
   "cell_type": "code",
   "execution_count": 72,
   "metadata": {},
   "outputs": [],
   "source": [
    "qda_cv_sc = np.mean(qda_cv_score)"
   ]
  },
  {
   "cell_type": "markdown",
   "metadata": {},
   "source": [
    "## LDA"
   ]
  },
  {
   "cell_type": "code",
   "execution_count": 19,
   "metadata": {},
   "outputs": [
    {
     "name": "stdout",
     "output_type": "stream",
     "text": [
      "CPU times: user 2.43 s, sys: 180 ms, total: 2.61 s\n",
      "Wall time: 700 ms\n"
     ]
    }
   ],
   "source": [
    "%%time\n",
    "lda_model = LinearDiscriminantAnalysis().fit(train_X,train_y)"
   ]
  },
  {
   "cell_type": "code",
   "execution_count": 20,
   "metadata": {},
   "outputs": [
    {
     "data": {
      "text/plain": [
       "['lda_model.pkl']"
      ]
     },
     "execution_count": 20,
     "metadata": {},
     "output_type": "execute_result"
    }
   ],
   "source": [
    "from sklearn.externals import joblib\n",
    "filename = 'lda_model.pkl'\n",
    "joblib.dump(lda_model,filename)"
   ]
  },
  {
   "cell_type": "code",
   "execution_count": 21,
   "metadata": {},
   "outputs": [
    {
     "name": "stdout",
     "output_type": "stream",
     "text": [
      "             precision    recall  f1-score   support\n",
      "\n",
      "          3       0.71      0.94      0.81      3643\n",
      "          4       0.05      0.17      0.08       346\n",
      "          5       0.94      0.40      0.56      4593\n",
      "          6       0.44      0.55      0.49      1277\n",
      "          7       0.61      0.44      0.51      5752\n",
      "          8       0.38      0.93      0.54     12161\n",
      "          9       0.53      0.24      0.33      9464\n",
      "         12       0.13      0.37      0.19       269\n",
      "         14       0.01      0.25      0.03         4\n",
      "         15       0.43      0.41      0.42       978\n",
      "         18       0.29      0.55      0.38       549\n",
      "         19       0.19      0.93      0.31       375\n",
      "         20       0.41      0.77      0.53       637\n",
      "         21       0.39      0.59      0.47       641\n",
      "         22       0.42      0.33      0.37       928\n",
      "         23       0.23      0.67      0.34       139\n",
      "         24       0.63      0.46      0.53      2609\n",
      "         25       0.72      0.62      0.66      3698\n",
      "         26       0.28      0.60      0.38       503\n",
      "         27       0.56      0.56      0.56       785\n",
      "         28       0.32      0.54      0.40       492\n",
      "         29       0.15      0.03      0.06       433\n",
      "         30       0.32      0.39      0.35      1081\n",
      "         31       0.53      0.95      0.68       594\n",
      "         32       0.71      0.55      0.62      1984\n",
      "         33       0.41      0.54      0.47      1315\n",
      "         34       0.43      0.44      0.44       719\n",
      "         35       0.43      0.41      0.42      2030\n",
      "         36       0.56      0.49      0.52      3005\n",
      "         37       0.55      0.53      0.54      2788\n",
      "         38       0.43      0.33      0.37      2912\n",
      "         39       0.59      0.26      0.36      9896\n",
      "         40       0.90      0.43      0.59      6130\n",
      "         41       0.16      0.03      0.06       583\n",
      "         42       0.51      0.02      0.04      1858\n",
      "         43       0.00      0.00      0.00       872\n",
      "         44       0.45      0.04      0.07      1187\n",
      "        999       0.74      0.76      0.75      8444\n",
      "\n",
      "avg / total       0.57      0.51      0.49     95674\n",
      "\n"
     ]
    }
   ],
   "source": [
    "print(classification_report(train_y,lda_model.predict(train_X)))"
   ]
  },
  {
   "cell_type": "code",
   "execution_count": 68,
   "metadata": {},
   "outputs": [],
   "source": [
    "lda_ac_sc = accuracy_score(train_y,lda_model.predict(train_X))"
   ]
  },
  {
   "cell_type": "code",
   "execution_count": 23,
   "metadata": {},
   "outputs": [
    {
     "name": "stdout",
     "output_type": "stream",
     "text": [
      "CPU times: user 22.9 s, sys: 1.78 s, total: 24.7 s\n",
      "Wall time: 6.47 s\n"
     ]
    }
   ],
   "source": [
    "%%time\n",
    "kfold = KFold(10)\n",
    "lda_cv_score = cross_val_score(lda_model,train_X,train_y,cv=kfold)\n",
    "lda_cv_score"
   ]
  },
  {
   "cell_type": "code",
   "execution_count": 73,
   "metadata": {},
   "outputs": [],
   "source": [
    "lda_cv_sc = np.mean(lda_cv_score)"
   ]
  },
  {
   "cell_type": "markdown",
   "metadata": {},
   "source": [
    "## Naive Gaussian"
   ]
  },
  {
   "cell_type": "code",
   "execution_count": 25,
   "metadata": {},
   "outputs": [],
   "source": [
    "GausNB_model = GaussianNB().fit(train_X,train_y)"
   ]
  },
  {
   "cell_type": "code",
   "execution_count": 26,
   "metadata": {},
   "outputs": [
    {
     "data": {
      "text/plain": [
       "['GausNB_model.pkl']"
      ]
     },
     "execution_count": 26,
     "metadata": {},
     "output_type": "execute_result"
    }
   ],
   "source": [
    "from sklearn.externals import joblib\n",
    "filename = 'GausNB_model.pkl'\n",
    "joblib.dump(GausNB_model,filename)"
   ]
  },
  {
   "cell_type": "code",
   "execution_count": 27,
   "metadata": {},
   "outputs": [
    {
     "name": "stdout",
     "output_type": "stream",
     "text": [
      "             precision    recall  f1-score   support\n",
      "\n",
      "          3       0.99      0.03      0.06      3643\n",
      "          4       0.01      0.32      0.01       346\n",
      "          5       0.89      0.13      0.23      4593\n",
      "          6       0.23      0.49      0.32      1277\n",
      "          7       0.51      0.07      0.12      5752\n",
      "          8       0.17      0.00      0.01     12161\n",
      "          9       0.11      0.00      0.00      9464\n",
      "         12       0.01      0.61      0.03       269\n",
      "         14       0.00      1.00      0.00         4\n",
      "         15       0.16      0.06      0.08       978\n",
      "         18       0.05      0.15      0.07       549\n",
      "         19       0.05      0.09      0.06       375\n",
      "         20       0.30      0.72      0.42       637\n",
      "         21       0.06      0.54      0.11       641\n",
      "         22       0.27      0.18      0.21       928\n",
      "         23       0.00      0.93      0.01       139\n",
      "         24       0.51      0.17      0.26      2609\n",
      "         25       0.66      0.22      0.33      3698\n",
      "         26       0.15      0.59      0.24       503\n",
      "         27       0.52      0.44      0.48       785\n",
      "         28       0.09      0.25      0.13       492\n",
      "         29       0.06      0.05      0.05       433\n",
      "         30       0.16      0.31      0.21      1081\n",
      "         31       0.12      0.21      0.15       594\n",
      "         32       0.64      0.23      0.34      1984\n",
      "         33       0.55      0.10      0.17      1315\n",
      "         34       0.33      0.15      0.21       719\n",
      "         35       0.10      0.05      0.07      2030\n",
      "         36       0.59      0.04      0.08      3005\n",
      "         37       0.23      0.14      0.18      2788\n",
      "         38       0.23      0.04      0.07      2912\n",
      "         39       0.21      0.00      0.01      9896\n",
      "         40       0.78      0.24      0.37      6130\n",
      "         41       0.24      0.05      0.09       583\n",
      "         42       0.45      0.09      0.15      1858\n",
      "         43       0.06      0.01      0.02       872\n",
      "         44       0.26      0.23      0.25      1187\n",
      "        999       0.75      0.00      0.00      8444\n",
      "\n",
      "avg / total       0.41      0.10      0.12     95674\n",
      "\n"
     ]
    }
   ],
   "source": [
    "print(classification_report(train_y,GausNB_model.predict(train_X)))"
   ]
  },
  {
   "cell_type": "code",
   "execution_count": 69,
   "metadata": {},
   "outputs": [],
   "source": [
    "gnb_ac_sc = accuracy_score(train_y,GausNB_model.predict(train_X))"
   ]
  },
  {
   "cell_type": "code",
   "execution_count": 29,
   "metadata": {},
   "outputs": [
    {
     "name": "stdout",
     "output_type": "stream",
     "text": [
      "CPU times: user 12.4 s, sys: 604 ms, total: 13 s\n",
      "Wall time: 3.26 s\n"
     ]
    }
   ],
   "source": [
    "%%time\n",
    "kfold = KFold(10)\n",
    "gnb_cv_score = cross_val_score(GausNB_model,train_X,train_y,cv=kfold)\n",
    "gnb_cv_score"
   ]
  },
  {
   "cell_type": "code",
   "execution_count": 75,
   "metadata": {},
   "outputs": [],
   "source": [
    "gnb_cv_sc = np.mean(gnb_cv_score)"
   ]
  },
  {
   "cell_type": "code",
   "execution_count": 76,
   "metadata": {},
   "outputs": [],
   "source": [
    "score_ls = [logis_ac_sc,qda_ac_sc,lda_ac_sc,gnb_ac_sc]\n",
    "cross_ls = [logis_cv_sc,qda_cv_sc,lda_cv_sc,gnb_cv_sc]"
   ]
  },
  {
   "cell_type": "code",
   "execution_count": 94,
   "metadata": {},
   "outputs": [
    {
     "data": {
      "text/html": [
       "<div>\n",
       "<style scoped>\n",
       "    .dataframe tbody tr th:only-of-type {\n",
       "        vertical-align: middle;\n",
       "    }\n",
       "\n",
       "    .dataframe tbody tr th {\n",
       "        vertical-align: top;\n",
       "    }\n",
       "\n",
       "    .dataframe thead th {\n",
       "        text-align: right;\n",
       "    }\n",
       "</style>\n",
       "<table border=\"1\" class=\"dataframe\">\n",
       "  <thead>\n",
       "    <tr style=\"text-align: right;\">\n",
       "      <th></th>\n",
       "      <th>accuracy</th>\n",
       "      <th>cross_val</th>\n",
       "    </tr>\n",
       "  </thead>\n",
       "  <tbody>\n",
       "    <tr>\n",
       "      <th>lr</th>\n",
       "      <td>0.639589</td>\n",
       "      <td>0.635554</td>\n",
       "    </tr>\n",
       "    <tr>\n",
       "      <th>lda</th>\n",
       "      <td>0.508916</td>\n",
       "      <td>0.507766</td>\n",
       "    </tr>\n",
       "    <tr>\n",
       "      <th>gnb</th>\n",
       "      <td>0.096839</td>\n",
       "      <td>0.094320</td>\n",
       "    </tr>\n",
       "    <tr>\n",
       "      <th>qda</th>\n",
       "      <td>0.058386</td>\n",
       "      <td>0.051184</td>\n",
       "    </tr>\n",
       "  </tbody>\n",
       "</table>\n",
       "</div>"
      ],
      "text/plain": [
       "     accuracy  cross_val\n",
       "lr   0.639589   0.635554\n",
       "lda  0.508916   0.507766\n",
       "gnb  0.096839   0.094320\n",
       "qda  0.058386   0.051184"
      ]
     },
     "execution_count": 94,
     "metadata": {},
     "output_type": "execute_result"
    }
   ],
   "source": [
    "score_df = pd.DataFrame()\n",
    "score_df['accuracy'] = score_ls\n",
    "score_df['cross_val'] = cross_ls\n",
    "score_df.index = ['lr','qda','lda','gnb']\n",
    "score_df.sort_values(by='cross_val',ascending=False)"
   ]
  },
  {
   "cell_type": "markdown",
   "metadata": {},
   "source": [
    "#### Linear Regression's performance is relatively highest among the models. Next is Linear discriminant analysis"
   ]
  }
 ],
 "metadata": {
  "kernelspec": {
   "display_name": "Python 3",
   "language": "python",
   "name": "python3"
  },
  "language_info": {
   "codemirror_mode": {
    "name": "ipython",
    "version": 3
   },
   "file_extension": ".py",
   "mimetype": "text/x-python",
   "name": "python",
   "nbconvert_exporter": "python",
   "pygments_lexer": "ipython3",
   "version": "3.6.5"
  }
 },
 "nbformat": 4,
 "nbformat_minor": 2
}
