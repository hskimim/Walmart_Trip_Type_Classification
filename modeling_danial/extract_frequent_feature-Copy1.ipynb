{
 "cells": [
  {
   "cell_type": "code",
   "execution_count": null,
   "metadata": {},
   "outputs": [
    {
     "name": "stdout",
     "output_type": "stream",
     "text": [
      "Train data :  (647054, 7)\n",
      "Test  data :  (653646, 6)\n",
      "submission  data :  (95674, 39)\n"
     ]
    }
   ],
   "source": [
    "# Import the functions used in this project\n",
    "import awesome_functions as af\n",
    "import decode_utils as du\n",
    "from sklearn.externals import joblib\n",
    "\n",
    "# Pretty display for notebooks\n",
    "%matplotlib inline\n",
    "\n",
    "# Ignore the warnings\n",
    "import warnings\n",
    "warnings.filterwarnings('ignore')\n",
    "\n",
    "# Load the dataset\n",
    "train = pd.read_csv(\"../asset/train.csv\")\n",
    "test = pd.read_csv(\"../asset/test.csv\")\n",
    "submission = pd.read_csv(\"../asset/sample_submission.csv\")\n",
    "\n",
    "# Success - Display the first record\n",
    "print(\"Train data : \", train.shape)\n",
    "print(\"Test  data : \", test.shape)\n",
    "print(\"submission  data : \", submission.shape)\n",
    "\n",
    "from sklearn.metrics import confusion_matrix\n",
    "from sklearn.metrics import classification_report\n",
    "import pickle as pkl\n",
    "slack_url = pkl.load(open(\"Slack_url/send_url.pickle\", \"rb\"))\n",
    "\n",
    "import xgboost\n",
    "from sklearn.metrics import log_loss\n",
    "from sklearn.naive_bayes import MultinomialNB\n",
    "from scipy.sparse import csr_matrix\n",
    "def fitNaiveBayesModel(X, y):\n",
    "    return MultinomialNB(alpha=0.0).fit(X, y)\n",
    "\n",
    "# 원본을 유지하기 위해서 카피\n",
    "df_train = train.copy()\n",
    "df_test = test.copy()\n",
    "df_submission = submission.copy()\n",
    "\n",
    "df_train_dd = pd.read_csv(\"Feature_matrix/df_train_dd_201807291831.csv\")\n",
    "df_test_dd = pd.read_csv(\"Feature_matrix/df_test_dd_201807291855.csv\")\n",
    "df_train_fl = pd.read_csv(\"Feature_matrix/df_train_fl_201807291845.csv\")\n",
    "df_test_fl = pd.read_csv(\"Feature_matrix/df_test_fl_201807291908.csv\")\n",
    "# df_ratio = pd.read_csv(\"Feature_matrix/df_new_has_all_the_ratio_201808031807.csv\")"
   ]
  },
  {
   "cell_type": "code",
   "execution_count": null,
   "metadata": {},
   "outputs": [],
   "source": [
    "vn_and_weekdays_cols = [\"VisitNumber\", \"TripType\", 'Return', 'Monday', 'Tuesday',\\\n",
    "                        'Wednesday', 'Thursday', 'Friday', 'Saturday', 'Sunday']\n",
    "\n",
    "def get_pivor_df(df, col):\n",
    "    \"\"\"\n",
    "        example) \n",
    "            df_train_cp = get_pivor_df(df_decoded, \"Company\") 이후에,\n",
    "            df_train_cp = get_rid_of_zero_units(df_train_cp) 를 사용해서 음수를 없애줄것.\n",
    "    \"\"\"\n",
    "    \n",
    "    return pd.pivot_table(data= df, index=\"VisitNumber\", fill_value=0,\\\n",
    "                          values=\"ScanCount\", columns=col, aggfunc=np.sum)\n",
    "\n",
    "def get_rid_of_zero_units(df):\n",
    "    return pd.DataFrame(np.where(df < 0, 0, df), columns = df.columns)"
   ]
  },
  {
   "cell_type": "code",
   "execution_count": null,
   "metadata": {},
   "outputs": [],
   "source": [
    "def getSpecifiedVisitNumberData(df_train, vn):\n",
    "    display(df_train[df_train.VisitNumber == vn])\n",
    "#     display(df_train_dd[df_train_dd.VisitNumber == vn])"
   ]
  },
  {
   "cell_type": "code",
   "execution_count": null,
   "metadata": {},
   "outputs": [],
   "source": [
    "def get_real_category_cnt(df_, col = \"DepartmentDescription\", threshold=1.0):\n",
    "    df = df_.copy()\n",
    "    df_count = df.groupby([\"VisitNumber\", col]).sum()[\"ScanCount\"].reset_index(name=\"Sc_sum\")\n",
    "    \n",
    "    # sc_count가 음수인 아이템은 같은 날 산 아이템이라 볼 수 없다.\n",
    "    # 리턴하기위해 가져온 것들이므로 월마트를 나갈 때 들고가는 아이템이라 보지않아도된다. \n",
    "    # 그런 아이템은 모두 nan으로 바꾸고 drop한다.\n",
    "    df_count[\"Sc_sum\"] = np.where(df_count[\"Sc_sum\"] <= 0, np.nan, df_count[\"Sc_sum\"])\n",
    "    df_count = df_count.dropna()\n",
    "    \n",
    "    # 남은 아이템들만 더해주면 위에서 지정해준 컬럼의 유니크한 개수만 남는다.\n",
    "    df_count = df_count.groupby(\"VisitNumber\").sum()[\"Sc_sum\"].reset_index(name=\"Sc_sum\")\n",
    "    \n",
    "    return list(df_count[df_count.Sc_sum == threshold].VisitNumber.unique())"
   ]
  },
  {
   "cell_type": "code",
   "execution_count": null,
   "metadata": {},
   "outputs": [],
   "source": [
    "def get_flat_type_user(df_, col = \"DepartmentDescription\"):\n",
    "    \"\"\"\n",
    "        예:) vn_dd_more_than_one, vn_dd_one = get_flat_type_user(df_decoded) 반드시 df는 decoding 함수로 decoded된 것을 넣을 것.\n",
    "    \"\"\"\n",
    "    df = df_.copy()\n",
    "    df_count = df.groupby([\"VisitNumber\", col]).sum()[\"ScanCount\"].reset_index(name=\"Sc_sum\")\n",
    "    df_count[\"Sc_sum\"] = np.where(df_count[\"Sc_sum\"] <= 0, np.nan, df_count[\"Sc_sum\"])\n",
    "    df_count = df_count.dropna()\n",
    "    df_count_total = df_count.groupby(\"VisitNumber\").sum()[\"Sc_sum\"].reset_index(name=\"Total\")\n",
    "    df_merged = pd.merge(df_count, df_count_total, on=\"VisitNumber\")\n",
    "    df_merged[\"P\"] = df_merged[\"Sc_sum\"].div(df_merged[\"Total\"])\n",
    "#     df_merged = df_merged[df_merged[\"Total\"] != 1.0]\n",
    "    \n",
    "    one_item_only_vn = []\n",
    "    more_than_one_vn_count = []\n",
    "    for i, vn in enumerate(df_merged.VisitNumber.unique()):\n",
    "        tmp_df = df_merged[df_merged[\"VisitNumber\"] == vn]\n",
    "        unique_p = list(tmp_df[\"P\"].unique())\n",
    "        length_unique_p = len(unique_p)\n",
    "        if length_unique_p == 1:\n",
    "            if unique_p[0] == 1:\n",
    "                one_item_only_vn.append(vn)\n",
    "            else:\n",
    "                more_than_one_vn_count.append(vn)\n",
    "        if i % 5000 == 0:\n",
    "            print(str(i) + \"까지 진행됨.\")\n",
    "    \n",
    "    return more_than_one_vn_count, one_item_only_vn"
   ]
  },
  {
   "cell_type": "code",
   "execution_count": null,
   "metadata": {},
   "outputs": [],
   "source": [
    "# import decode_utils as du\n",
    "# import awesome_functions as af\n",
    "from sklearn.metrics import confusion_matrix\n",
    "from IPython.display import display, Markdown\n",
    "\n",
    "def getAccuracy(y_true, y_pred, data_length, i):\n",
    "    \"\"\"\n",
    "        y_true : 원래 타겟 컬럼의 데이터를 넣어준다.\n",
    "        y_pred : 예측한 값을 넣어준다.\n",
    "        data_length : 예측한 데이터의 총 개수를 넣어준다.\n",
    "    \"\"\"\n",
    "    accuracy = round(np.trace(confusion_matrix(y_true, y_pred))/data_length, 4)\n",
    "    display(Markdown(\"##### Accuracy : \" + str(accuracy) + \", smoothing : \" + str(i)))\n",
    "    return accuracy\n",
    "\n",
    "def fitNaiveBayesModel_smoothing(X, y, a = 1.0):\n",
    "    return MultinomialNB(alpha=a).fit(X, y)\n",
    "\n",
    "def __combine_dd_fl(df_dd, df_fl):\n",
    "    col_we_dont_need = [\"VisitNumber\", \"TripType\", 'Return', 'Monday',\\\n",
    "                        'Tuesday', 'Wednesday', 'Thursday', 'Friday', 'Saturday', 'Sunday']\n",
    "    cols_we_need = [col for col in df_dd.columns if col not in col_we_dont_need]\n",
    "    cols = [col for col in cols_we_need if col != \"VisitNumber\"]\n",
    "    return du.concatDf(df_dd[cols], df_fl)\n",
    "    \n",
    "def get_concat_df_for_test_df(df_dd, df_fl):\n",
    "    return __combine_dd_fl(df_dd, df_fl)\n",
    "    \n",
    "def get_df_has_specified_vn_list(vn_list, df=None, df_dd=None, df_fl=None, is_in=True,\n",
    "                                 is_need_to_make_df = False):\n",
    "    if is_need_to_make_df:\n",
    "        df = __combine_dd_fl(df_dd, df_fl)\n",
    "        print(\"Concat 완료.\")\n",
    "    if is_in:\n",
    "        return df[df.VisitNumber.isin(vn_list)]\n",
    "    return df[~df.VisitNumber.isin(vn_list)]\n",
    "\n",
    "def test_multinomial(df, early_stop = 5):\n",
    "    X, y = af.get_df_to_fit(df)\n",
    "    a = np.arange(0, 0.16, 0.01)\n",
    "    accuracy_ = 0\n",
    "    count = 0\n",
    "    result = []\n",
    "    alpha = []\n",
    "    for i in a:\n",
    "        if count >= early_stop:\n",
    "            best_score = np.array(result).max()\n",
    "            idx = result.index(best_score)\n",
    "            display(Markdown(\"## Best_score : \" + str(best_score) + \", Alpha : \" + str(alpha[idx])))\n",
    "            return\n",
    "        model_nb = fitNaiveBayesModel_smoothing(X, y, i)\n",
    "        y_pred = model_nb.predict(X)\n",
    "        accuracy = getAccuracy(y, y_pred, len(X), i)\n",
    "        if accuracy_ > accuracy:\n",
    "            count += 1\n",
    "        accuracy_ = accuracy\n",
    "        result.append(accuracy)\n",
    "        alpha.append(i)\n",
    "    best_score = np.array(result).max()\n",
    "    idx = result.index(best_score)\n",
    "    display(Markdown(\"## Best_score : \" + str(best_score) + \", Alpha : \" + str(alpha[idx])))\n",
    "#     return best_score, alpha[idx]\n",
    "\n",
    "def cal_average_of_accuracy(li1, li2, score_li):    \n",
    "    li3 = 96574 - len(li1 + li2)\n",
    "    weight = [len(li1), len(li2), li3]\n",
    "    result = 0\n",
    "    for i, score in enumerate(score_li):\n",
    "        result += weight[i] * score\n",
    "    result = result/96574\n",
    "    print(result)\n",
    "    return result"
   ]
  },
  {
   "cell_type": "code",
   "execution_count": null,
   "metadata": {},
   "outputs": [],
   "source": [
    "def saveModelObjectAsPickle(model, feature):\n",
    "    filename = \"feature_\"+ str(feature) + \"_xgb_trained_model.pkl\"\n",
    "    joblib.dump(model, filename)"
   ]
  },
  {
   "cell_type": "code",
   "execution_count": null,
   "metadata": {},
   "outputs": [],
   "source": [
    "df_decoded = du.decodeStuffNeedsToBeDecoded(df_train)"
   ]
  },
  {
   "cell_type": "code",
   "execution_count": null,
   "metadata": {},
   "outputs": [],
   "source": [
    "df_test_decoded = du.decodeStuffNeedsToBeDecoded(df_test)"
   ]
  },
  {
   "cell_type": "code",
   "execution_count": 10,
   "metadata": {},
   "outputs": [],
   "source": [
    "# vn_dd_more_than_one, vn_dd_one = get_flat_type_user(df_decoded)"
   ]
  },
  {
   "cell_type": "code",
   "execution_count": null,
   "metadata": {},
   "outputs": [],
   "source": [
    "vn_fl_more_than_one, vn_fl_one = get_flat_type_user(df_decoded, \"FinelineNumber\")"
   ]
  },
  {
   "cell_type": "code",
   "execution_count": null,
   "metadata": {},
   "outputs": [],
   "source": [
    "vn_test_fl_more_than_one, vn_test_fl_one = get_flat_type_user(df_test_decoded, \"FinelineNumber\")"
   ]
  },
  {
   "cell_type": "code",
   "execution_count": 13,
   "metadata": {},
   "outputs": [],
   "source": [
    "# vn_company_more_than_one, vn_company_one = get_flat_type_user(df_decoded, \"Company\")"
   ]
  },
  {
   "cell_type": "code",
   "execution_count": 17,
   "metadata": {},
   "outputs": [],
   "source": [
    "cols = [col for col in df_train_dd.columns if col != \"TripType\"]"
   ]
  },
  {
   "cell_type": "code",
   "execution_count": 21,
   "metadata": {
    "scrolled": true
   },
   "outputs": [],
   "source": [
    "df_test_dd = df_test_dd[cols]"
   ]
  },
  {
   "cell_type": "code",
   "execution_count": 25,
   "metadata": {},
   "outputs": [],
   "source": [
    "cols_fl = [col for col in df_train_fl.columns if col != \"TripType\"]"
   ]
  },
  {
   "cell_type": "code",
   "execution_count": 28,
   "metadata": {
    "scrolled": true
   },
   "outputs": [],
   "source": [
    "df_test_fl = df_test_fl[cols_fl]"
   ]
  },
  {
   "cell_type": "markdown",
   "metadata": {},
   "source": [
    "# 효원님이 만든 데이터프레임으로 골라낸 feature 1"
   ]
  },
  {
   "cell_type": "code",
   "execution_count": 286,
   "metadata": {},
   "outputs": [
    {
     "name": "stdout",
     "output_type": "stream",
     "text": [
      "Concat 완료.\n"
     ]
    }
   ],
   "source": [
    "df_to_test = get_df_has_specified_vn_list(vn_dd_one_hw, df_dd=df_train_dd, df_fl=df_train_fl, is_need_to_make_df=True)"
   ]
  },
  {
   "cell_type": "code",
   "execution_count": 287,
   "metadata": {
    "scrolled": true
   },
   "outputs": [
    {
     "data": {
      "text/markdown": [
       "##### Accuracy : 0.8809, smoothing : 0.0"
      ],
      "text/plain": [
       "<IPython.core.display.Markdown object>"
      ]
     },
     "metadata": {},
     "output_type": "display_data"
    },
    {
     "data": {
      "text/markdown": [
       "##### Accuracy : 0.8846, smoothing : 0.01"
      ],
      "text/plain": [
       "<IPython.core.display.Markdown object>"
      ]
     },
     "metadata": {},
     "output_type": "display_data"
    },
    {
     "data": {
      "text/markdown": [
       "##### Accuracy : 0.886, smoothing : 0.02"
      ],
      "text/plain": [
       "<IPython.core.display.Markdown object>"
      ]
     },
     "metadata": {},
     "output_type": "display_data"
    },
    {
     "data": {
      "text/markdown": [
       "##### Accuracy : 0.8863, smoothing : 0.03"
      ],
      "text/plain": [
       "<IPython.core.display.Markdown object>"
      ]
     },
     "metadata": {},
     "output_type": "display_data"
    },
    {
     "data": {
      "text/markdown": [
       "##### Accuracy : 0.8859, smoothing : 0.04"
      ],
      "text/plain": [
       "<IPython.core.display.Markdown object>"
      ]
     },
     "metadata": {},
     "output_type": "display_data"
    },
    {
     "data": {
      "text/markdown": [
       "##### Accuracy : 0.8852, smoothing : 0.05"
      ],
      "text/plain": [
       "<IPython.core.display.Markdown object>"
      ]
     },
     "metadata": {},
     "output_type": "display_data"
    },
    {
     "data": {
      "text/markdown": [
       "##### Accuracy : 0.8846, smoothing : 0.06"
      ],
      "text/plain": [
       "<IPython.core.display.Markdown object>"
      ]
     },
     "metadata": {},
     "output_type": "display_data"
    },
    {
     "data": {
      "text/markdown": [
       "##### Accuracy : 0.8837, smoothing : 0.07"
      ],
      "text/plain": [
       "<IPython.core.display.Markdown object>"
      ]
     },
     "metadata": {},
     "output_type": "display_data"
    },
    {
     "data": {
      "text/markdown": [
       "##### Accuracy : 0.8832, smoothing : 0.08"
      ],
      "text/plain": [
       "<IPython.core.display.Markdown object>"
      ]
     },
     "metadata": {},
     "output_type": "display_data"
    },
    {
     "data": {
      "text/markdown": [
       "## Best_score : 0.8863, Alpha : 0.03"
      ],
      "text/plain": [
       "<IPython.core.display.Markdown object>"
      ]
     },
     "metadata": {},
     "output_type": "display_data"
    }
   ],
   "source": [
    "test_multinomial(df_to_test)"
   ]
  },
  {
   "cell_type": "code",
   "execution_count": 37,
   "metadata": {},
   "outputs": [
    {
     "name": "stdout",
     "output_type": "stream",
     "text": [
      "Concat 완료.\n"
     ]
    }
   ],
   "source": [
    "df_to_test = get_df_has_specified_vn_list(hw_li, df_dd=df_train_dd, df_fl=df_train_fl, is_need_to_make_df=True)"
   ]
  },
  {
   "cell_type": "code",
   "execution_count": 38,
   "metadata": {
    "scrolled": true
   },
   "outputs": [
    {
     "data": {
      "text/markdown": [
       "##### Accuracy : 0.762, smoothing : 0.0"
      ],
      "text/plain": [
       "<IPython.core.display.Markdown object>"
      ]
     },
     "metadata": {},
     "output_type": "display_data"
    },
    {
     "data": {
      "text/markdown": [
       "##### Accuracy : 0.7542, smoothing : 0.01"
      ],
      "text/plain": [
       "<IPython.core.display.Markdown object>"
      ]
     },
     "metadata": {},
     "output_type": "display_data"
    },
    {
     "data": {
      "text/markdown": [
       "##### Accuracy : 0.758, smoothing : 0.02"
      ],
      "text/plain": [
       "<IPython.core.display.Markdown object>"
      ]
     },
     "metadata": {},
     "output_type": "display_data"
    },
    {
     "data": {
      "text/markdown": [
       "##### Accuracy : 0.7608, smoothing : 0.03"
      ],
      "text/plain": [
       "<IPython.core.display.Markdown object>"
      ]
     },
     "metadata": {},
     "output_type": "display_data"
    },
    {
     "data": {
      "text/markdown": [
       "##### Accuracy : 0.7641, smoothing : 0.04"
      ],
      "text/plain": [
       "<IPython.core.display.Markdown object>"
      ]
     },
     "metadata": {},
     "output_type": "display_data"
    },
    {
     "data": {
      "text/markdown": [
       "##### Accuracy : 0.7674, smoothing : 0.05"
      ],
      "text/plain": [
       "<IPython.core.display.Markdown object>"
      ]
     },
     "metadata": {},
     "output_type": "display_data"
    },
    {
     "data": {
      "text/markdown": [
       "##### Accuracy : 0.7714, smoothing : 0.06"
      ],
      "text/plain": [
       "<IPython.core.display.Markdown object>"
      ]
     },
     "metadata": {},
     "output_type": "display_data"
    },
    {
     "data": {
      "text/markdown": [
       "##### Accuracy : 0.775, smoothing : 0.07"
      ],
      "text/plain": [
       "<IPython.core.display.Markdown object>"
      ]
     },
     "metadata": {},
     "output_type": "display_data"
    },
    {
     "data": {
      "text/markdown": [
       "##### Accuracy : 0.7778, smoothing : 0.08"
      ],
      "text/plain": [
       "<IPython.core.display.Markdown object>"
      ]
     },
     "metadata": {},
     "output_type": "display_data"
    },
    {
     "data": {
      "text/markdown": [
       "##### Accuracy : 0.7804, smoothing : 0.09"
      ],
      "text/plain": [
       "<IPython.core.display.Markdown object>"
      ]
     },
     "metadata": {},
     "output_type": "display_data"
    },
    {
     "data": {
      "text/markdown": [
       "##### Accuracy : 0.7827, smoothing : 0.1"
      ],
      "text/plain": [
       "<IPython.core.display.Markdown object>"
      ]
     },
     "metadata": {},
     "output_type": "display_data"
    },
    {
     "data": {
      "text/markdown": [
       "##### Accuracy : 0.7845, smoothing : 0.11"
      ],
      "text/plain": [
       "<IPython.core.display.Markdown object>"
      ]
     },
     "metadata": {},
     "output_type": "display_data"
    },
    {
     "data": {
      "text/markdown": [
       "##### Accuracy : 0.787, smoothing : 0.12"
      ],
      "text/plain": [
       "<IPython.core.display.Markdown object>"
      ]
     },
     "metadata": {},
     "output_type": "display_data"
    },
    {
     "data": {
      "text/markdown": [
       "##### Accuracy : 0.7881, smoothing : 0.13"
      ],
      "text/plain": [
       "<IPython.core.display.Markdown object>"
      ]
     },
     "metadata": {},
     "output_type": "display_data"
    },
    {
     "data": {
      "text/markdown": [
       "##### Accuracy : 0.7906, smoothing : 0.14"
      ],
      "text/plain": [
       "<IPython.core.display.Markdown object>"
      ]
     },
     "metadata": {},
     "output_type": "display_data"
    },
    {
     "data": {
      "text/markdown": [
       "##### Accuracy : 0.7924, smoothing : 0.15"
      ],
      "text/plain": [
       "<IPython.core.display.Markdown object>"
      ]
     },
     "metadata": {},
     "output_type": "display_data"
    },
    {
     "data": {
      "text/markdown": [
       "## Best_score : 0.7924, Alpha : 0.15"
      ],
      "text/plain": [
       "<IPython.core.display.Markdown object>"
      ]
     },
     "metadata": {},
     "output_type": "display_data"
    }
   ],
   "source": [
    "test_multinomial(df_to_test)"
   ]
  },
  {
   "cell_type": "code",
   "execution_count": 41,
   "metadata": {},
   "outputs": [],
   "source": [
    "alpha = np.arange(0.15, 1, 0.05)\n",
    "X, y = af.get_df_to_fit(df_to_test)"
   ]
  },
  {
   "cell_type": "code",
   "execution_count": 42,
   "metadata": {
    "scrolled": true
   },
   "outputs": [
    {
     "data": {
      "text/markdown": [
       "##### Accuracy : 0.7924"
      ],
      "text/plain": [
       "<IPython.core.display.Markdown object>"
      ]
     },
     "metadata": {},
     "output_type": "display_data"
    },
    {
     "name": "stdout",
     "output_type": "stream",
     "text": [
      "0.15\n"
     ]
    },
    {
     "data": {
      "text/markdown": [
       "##### Accuracy : 0.7986"
      ],
      "text/plain": [
       "<IPython.core.display.Markdown object>"
      ]
     },
     "metadata": {},
     "output_type": "display_data"
    },
    {
     "name": "stdout",
     "output_type": "stream",
     "text": [
      "0.2\n"
     ]
    },
    {
     "data": {
      "text/markdown": [
       "##### Accuracy : 0.8045"
      ],
      "text/plain": [
       "<IPython.core.display.Markdown object>"
      ]
     },
     "metadata": {},
     "output_type": "display_data"
    },
    {
     "name": "stdout",
     "output_type": "stream",
     "text": [
      "0.25\n"
     ]
    },
    {
     "data": {
      "text/markdown": [
       "##### Accuracy : 0.8098"
      ],
      "text/plain": [
       "<IPython.core.display.Markdown object>"
      ]
     },
     "metadata": {},
     "output_type": "display_data"
    },
    {
     "name": "stdout",
     "output_type": "stream",
     "text": [
      "0.30000000000000004\n"
     ]
    },
    {
     "data": {
      "text/markdown": [
       "##### Accuracy : 0.8133"
      ],
      "text/plain": [
       "<IPython.core.display.Markdown object>"
      ]
     },
     "metadata": {},
     "output_type": "display_data"
    },
    {
     "name": "stdout",
     "output_type": "stream",
     "text": [
      "0.3500000000000001\n"
     ]
    },
    {
     "data": {
      "text/markdown": [
       "##### Accuracy : 0.8162"
      ],
      "text/plain": [
       "<IPython.core.display.Markdown object>"
      ]
     },
     "metadata": {},
     "output_type": "display_data"
    },
    {
     "name": "stdout",
     "output_type": "stream",
     "text": [
      "0.40000000000000013\n"
     ]
    },
    {
     "data": {
      "text/markdown": [
       "##### Accuracy : 0.8193"
      ],
      "text/plain": [
       "<IPython.core.display.Markdown object>"
      ]
     },
     "metadata": {},
     "output_type": "display_data"
    },
    {
     "name": "stdout",
     "output_type": "stream",
     "text": [
      "0.45000000000000007\n"
     ]
    },
    {
     "data": {
      "text/markdown": [
       "##### Accuracy : 0.8222"
      ],
      "text/plain": [
       "<IPython.core.display.Markdown object>"
      ]
     },
     "metadata": {},
     "output_type": "display_data"
    },
    {
     "name": "stdout",
     "output_type": "stream",
     "text": [
      "0.5000000000000001\n"
     ]
    },
    {
     "data": {
      "text/markdown": [
       "##### Accuracy : 0.8233"
      ],
      "text/plain": [
       "<IPython.core.display.Markdown object>"
      ]
     },
     "metadata": {},
     "output_type": "display_data"
    },
    {
     "name": "stdout",
     "output_type": "stream",
     "text": [
      "0.5500000000000002\n"
     ]
    },
    {
     "data": {
      "text/markdown": [
       "##### Accuracy : 0.8256"
      ],
      "text/plain": [
       "<IPython.core.display.Markdown object>"
      ]
     },
     "metadata": {},
     "output_type": "display_data"
    },
    {
     "name": "stdout",
     "output_type": "stream",
     "text": [
      "0.6000000000000002\n"
     ]
    },
    {
     "data": {
      "text/markdown": [
       "##### Accuracy : 0.8269"
      ],
      "text/plain": [
       "<IPython.core.display.Markdown object>"
      ]
     },
     "metadata": {},
     "output_type": "display_data"
    },
    {
     "name": "stdout",
     "output_type": "stream",
     "text": [
      "0.6500000000000002\n"
     ]
    },
    {
     "data": {
      "text/markdown": [
       "##### Accuracy : 0.8274"
      ],
      "text/plain": [
       "<IPython.core.display.Markdown object>"
      ]
     },
     "metadata": {},
     "output_type": "display_data"
    },
    {
     "name": "stdout",
     "output_type": "stream",
     "text": [
      "0.7000000000000002\n"
     ]
    },
    {
     "data": {
      "text/markdown": [
       "##### Accuracy : 0.8287"
      ],
      "text/plain": [
       "<IPython.core.display.Markdown object>"
      ]
     },
     "metadata": {},
     "output_type": "display_data"
    },
    {
     "name": "stdout",
     "output_type": "stream",
     "text": [
      "0.7500000000000002\n"
     ]
    },
    {
     "data": {
      "text/markdown": [
       "##### Accuracy : 0.8292"
      ],
      "text/plain": [
       "<IPython.core.display.Markdown object>"
      ]
     },
     "metadata": {},
     "output_type": "display_data"
    },
    {
     "name": "stdout",
     "output_type": "stream",
     "text": [
      "0.8000000000000003\n"
     ]
    },
    {
     "data": {
      "text/markdown": [
       "##### Accuracy : 0.83"
      ],
      "text/plain": [
       "<IPython.core.display.Markdown object>"
      ]
     },
     "metadata": {},
     "output_type": "display_data"
    },
    {
     "name": "stdout",
     "output_type": "stream",
     "text": [
      "0.8500000000000002\n"
     ]
    },
    {
     "data": {
      "text/markdown": [
       "##### Accuracy : 0.8298"
      ],
      "text/plain": [
       "<IPython.core.display.Markdown object>"
      ]
     },
     "metadata": {},
     "output_type": "display_data"
    },
    {
     "name": "stdout",
     "output_type": "stream",
     "text": [
      "0.9000000000000002\n"
     ]
    },
    {
     "data": {
      "text/markdown": [
       "##### Accuracy : 0.8302"
      ],
      "text/plain": [
       "<IPython.core.display.Markdown object>"
      ]
     },
     "metadata": {},
     "output_type": "display_data"
    },
    {
     "name": "stdout",
     "output_type": "stream",
     "text": [
      "0.9500000000000003\n"
     ]
    }
   ],
   "source": [
    "for i in alpha:\n",
    "    model_nb_dd_one_01 = fitNaiveBayesModel_smoothing(X, y, i)\n",
    "    y_pred_dd_one = model_nb_dd_one_01.predict(X)\n",
    "    af.getAccuracy(y, y_pred_dd_one, len(X))\n",
    "    print(i)"
   ]
  },
  {
   "cell_type": "markdown",
   "metadata": {},
   "source": [
    "# feature에 company 까지 더해서 11000개 정도의 컬럼으로 돌린결과"
   ]
  },
  {
   "cell_type": "code",
   "execution_count": 360,
   "metadata": {},
   "outputs": [],
   "source": [
    "df_to_test = get_df_has_specified_vn_list(vn_dd_one, df=df_train_dd, is_need_to_make_df=False)"
   ]
  },
  {
   "cell_type": "code",
   "execution_count": 361,
   "metadata": {
    "scrolled": true
   },
   "outputs": [
    {
     "data": {
      "text/markdown": [
       "##### Accuracy : 0.7224, smoothing : 0.0"
      ],
      "text/plain": [
       "<IPython.core.display.Markdown object>"
      ]
     },
     "metadata": {},
     "output_type": "display_data"
    },
    {
     "data": {
      "text/markdown": [
       "##### Accuracy : 0.7182, smoothing : 0.01"
      ],
      "text/plain": [
       "<IPython.core.display.Markdown object>"
      ]
     },
     "metadata": {},
     "output_type": "display_data"
    },
    {
     "data": {
      "text/markdown": [
       "##### Accuracy : 0.7231, smoothing : 0.02"
      ],
      "text/plain": [
       "<IPython.core.display.Markdown object>"
      ]
     },
     "metadata": {},
     "output_type": "display_data"
    },
    {
     "data": {
      "text/markdown": [
       "##### Accuracy : 0.7265, smoothing : 0.03"
      ],
      "text/plain": [
       "<IPython.core.display.Markdown object>"
      ]
     },
     "metadata": {},
     "output_type": "display_data"
    },
    {
     "data": {
      "text/markdown": [
       "##### Accuracy : 0.7306, smoothing : 0.04"
      ],
      "text/plain": [
       "<IPython.core.display.Markdown object>"
      ]
     },
     "metadata": {},
     "output_type": "display_data"
    },
    {
     "data": {
      "text/markdown": [
       "##### Accuracy : 0.7352, smoothing : 0.05"
      ],
      "text/plain": [
       "<IPython.core.display.Markdown object>"
      ]
     },
     "metadata": {},
     "output_type": "display_data"
    },
    {
     "data": {
      "text/markdown": [
       "##### Accuracy : 0.7422, smoothing : 0.06"
      ],
      "text/plain": [
       "<IPython.core.display.Markdown object>"
      ]
     },
     "metadata": {},
     "output_type": "display_data"
    },
    {
     "data": {
      "text/markdown": [
       "##### Accuracy : 0.7499, smoothing : 0.07"
      ],
      "text/plain": [
       "<IPython.core.display.Markdown object>"
      ]
     },
     "metadata": {},
     "output_type": "display_data"
    },
    {
     "data": {
      "text/markdown": [
       "##### Accuracy : 0.7551, smoothing : 0.08"
      ],
      "text/plain": [
       "<IPython.core.display.Markdown object>"
      ]
     },
     "metadata": {},
     "output_type": "display_data"
    },
    {
     "data": {
      "text/markdown": [
       "##### Accuracy : 0.7581, smoothing : 0.09"
      ],
      "text/plain": [
       "<IPython.core.display.Markdown object>"
      ]
     },
     "metadata": {},
     "output_type": "display_data"
    },
    {
     "data": {
      "text/markdown": [
       "##### Accuracy : 0.7619, smoothing : 0.1"
      ],
      "text/plain": [
       "<IPython.core.display.Markdown object>"
      ]
     },
     "metadata": {},
     "output_type": "display_data"
    },
    {
     "data": {
      "text/markdown": [
       "##### Accuracy : 0.7664, smoothing : 0.11"
      ],
      "text/plain": [
       "<IPython.core.display.Markdown object>"
      ]
     },
     "metadata": {},
     "output_type": "display_data"
    },
    {
     "data": {
      "text/markdown": [
       "##### Accuracy : 0.7676, smoothing : 0.12"
      ],
      "text/plain": [
       "<IPython.core.display.Markdown object>"
      ]
     },
     "metadata": {},
     "output_type": "display_data"
    },
    {
     "data": {
      "text/markdown": [
       "##### Accuracy : 0.7692, smoothing : 0.13"
      ],
      "text/plain": [
       "<IPython.core.display.Markdown object>"
      ]
     },
     "metadata": {},
     "output_type": "display_data"
    },
    {
     "data": {
      "text/markdown": [
       "##### Accuracy : 0.7716, smoothing : 0.14"
      ],
      "text/plain": [
       "<IPython.core.display.Markdown object>"
      ]
     },
     "metadata": {},
     "output_type": "display_data"
    },
    {
     "data": {
      "text/markdown": [
       "##### Accuracy : 0.7743, smoothing : 0.15"
      ],
      "text/plain": [
       "<IPython.core.display.Markdown object>"
      ]
     },
     "metadata": {},
     "output_type": "display_data"
    },
    {
     "data": {
      "text/markdown": [
       "## Best_score : 0.7743, Alpha : 0.15"
      ],
      "text/plain": [
       "<IPython.core.display.Markdown object>"
      ]
     },
     "metadata": {},
     "output_type": "display_data"
    }
   ],
   "source": [
    "test_multinomial(df_to_test)"
   ]
  },
  {
   "cell_type": "code",
   "execution_count": 362,
   "metadata": {},
   "outputs": [],
   "source": [
    "alpha = np.arange(1, 2, 0.05)"
   ]
  },
  {
   "cell_type": "code",
   "execution_count": 363,
   "metadata": {},
   "outputs": [],
   "source": [
    "X, y = af.get_df_to_fit(df_to_test)"
   ]
  },
  {
   "cell_type": "code",
   "execution_count": 364,
   "metadata": {
    "scrolled": true
   },
   "outputs": [
    {
     "data": {
      "text/markdown": [
       "##### Accuracy : 0.8284"
      ],
      "text/plain": [
       "<IPython.core.display.Markdown object>"
      ]
     },
     "metadata": {},
     "output_type": "display_data"
    },
    {
     "name": "stdout",
     "output_type": "stream",
     "text": [
      "1.0\n"
     ]
    },
    {
     "data": {
      "text/markdown": [
       "##### Accuracy : 0.8283"
      ],
      "text/plain": [
       "<IPython.core.display.Markdown object>"
      ]
     },
     "metadata": {},
     "output_type": "display_data"
    },
    {
     "name": "stdout",
     "output_type": "stream",
     "text": [
      "1.05\n"
     ]
    },
    {
     "data": {
      "text/markdown": [
       "##### Accuracy : 0.8287"
      ],
      "text/plain": [
       "<IPython.core.display.Markdown object>"
      ]
     },
     "metadata": {},
     "output_type": "display_data"
    },
    {
     "name": "stdout",
     "output_type": "stream",
     "text": [
      "1.1\n"
     ]
    },
    {
     "data": {
      "text/markdown": [
       "##### Accuracy : 0.8286"
      ],
      "text/plain": [
       "<IPython.core.display.Markdown object>"
      ]
     },
     "metadata": {},
     "output_type": "display_data"
    },
    {
     "name": "stdout",
     "output_type": "stream",
     "text": [
      "1.1500000000000001\n"
     ]
    },
    {
     "data": {
      "text/markdown": [
       "##### Accuracy : 0.8285"
      ],
      "text/plain": [
       "<IPython.core.display.Markdown object>"
      ]
     },
     "metadata": {},
     "output_type": "display_data"
    },
    {
     "name": "stdout",
     "output_type": "stream",
     "text": [
      "1.2000000000000002\n"
     ]
    },
    {
     "data": {
      "text/markdown": [
       "##### Accuracy : 0.828"
      ],
      "text/plain": [
       "<IPython.core.display.Markdown object>"
      ]
     },
     "metadata": {},
     "output_type": "display_data"
    },
    {
     "name": "stdout",
     "output_type": "stream",
     "text": [
      "1.2500000000000002\n"
     ]
    },
    {
     "data": {
      "text/markdown": [
       "##### Accuracy : 0.8274"
      ],
      "text/plain": [
       "<IPython.core.display.Markdown object>"
      ]
     },
     "metadata": {},
     "output_type": "display_data"
    },
    {
     "name": "stdout",
     "output_type": "stream",
     "text": [
      "1.3000000000000003\n"
     ]
    },
    {
     "data": {
      "text/markdown": [
       "##### Accuracy : 0.8272"
      ],
      "text/plain": [
       "<IPython.core.display.Markdown object>"
      ]
     },
     "metadata": {},
     "output_type": "display_data"
    },
    {
     "name": "stdout",
     "output_type": "stream",
     "text": [
      "1.3500000000000003\n"
     ]
    },
    {
     "data": {
      "text/markdown": [
       "##### Accuracy : 0.8263"
      ],
      "text/plain": [
       "<IPython.core.display.Markdown object>"
      ]
     },
     "metadata": {},
     "output_type": "display_data"
    },
    {
     "name": "stdout",
     "output_type": "stream",
     "text": [
      "1.4000000000000004\n"
     ]
    },
    {
     "data": {
      "text/markdown": [
       "##### Accuracy : 0.8252"
      ],
      "text/plain": [
       "<IPython.core.display.Markdown object>"
      ]
     },
     "metadata": {},
     "output_type": "display_data"
    },
    {
     "name": "stdout",
     "output_type": "stream",
     "text": [
      "1.4500000000000004\n"
     ]
    },
    {
     "data": {
      "text/markdown": [
       "##### Accuracy : 0.8244"
      ],
      "text/plain": [
       "<IPython.core.display.Markdown object>"
      ]
     },
     "metadata": {},
     "output_type": "display_data"
    },
    {
     "name": "stdout",
     "output_type": "stream",
     "text": [
      "1.5000000000000004\n"
     ]
    },
    {
     "data": {
      "text/markdown": [
       "##### Accuracy : 0.8237"
      ],
      "text/plain": [
       "<IPython.core.display.Markdown object>"
      ]
     },
     "metadata": {},
     "output_type": "display_data"
    },
    {
     "name": "stdout",
     "output_type": "stream",
     "text": [
      "1.5500000000000005\n"
     ]
    },
    {
     "data": {
      "text/markdown": [
       "##### Accuracy : 0.823"
      ],
      "text/plain": [
       "<IPython.core.display.Markdown object>"
      ]
     },
     "metadata": {},
     "output_type": "display_data"
    },
    {
     "name": "stdout",
     "output_type": "stream",
     "text": [
      "1.6000000000000005\n"
     ]
    },
    {
     "data": {
      "text/markdown": [
       "##### Accuracy : 0.8217"
      ],
      "text/plain": [
       "<IPython.core.display.Markdown object>"
      ]
     },
     "metadata": {},
     "output_type": "display_data"
    },
    {
     "name": "stdout",
     "output_type": "stream",
     "text": [
      "1.6500000000000006\n"
     ]
    },
    {
     "data": {
      "text/markdown": [
       "##### Accuracy : 0.8204"
      ],
      "text/plain": [
       "<IPython.core.display.Markdown object>"
      ]
     },
     "metadata": {},
     "output_type": "display_data"
    },
    {
     "name": "stdout",
     "output_type": "stream",
     "text": [
      "1.7000000000000006\n"
     ]
    },
    {
     "data": {
      "text/markdown": [
       "##### Accuracy : 0.8201"
      ],
      "text/plain": [
       "<IPython.core.display.Markdown object>"
      ]
     },
     "metadata": {},
     "output_type": "display_data"
    },
    {
     "name": "stdout",
     "output_type": "stream",
     "text": [
      "1.7500000000000007\n"
     ]
    },
    {
     "data": {
      "text/markdown": [
       "##### Accuracy : 0.8186"
      ],
      "text/plain": [
       "<IPython.core.display.Markdown object>"
      ]
     },
     "metadata": {},
     "output_type": "display_data"
    },
    {
     "name": "stdout",
     "output_type": "stream",
     "text": [
      "1.8000000000000007\n"
     ]
    },
    {
     "data": {
      "text/markdown": [
       "##### Accuracy : 0.8171"
      ],
      "text/plain": [
       "<IPython.core.display.Markdown object>"
      ]
     },
     "metadata": {},
     "output_type": "display_data"
    },
    {
     "name": "stdout",
     "output_type": "stream",
     "text": [
      "1.8500000000000008\n"
     ]
    },
    {
     "data": {
      "text/markdown": [
       "##### Accuracy : 0.8163"
      ],
      "text/plain": [
       "<IPython.core.display.Markdown object>"
      ]
     },
     "metadata": {},
     "output_type": "display_data"
    },
    {
     "name": "stdout",
     "output_type": "stream",
     "text": [
      "1.9000000000000008\n"
     ]
    },
    {
     "data": {
      "text/markdown": [
       "##### Accuracy : 0.8154"
      ],
      "text/plain": [
       "<IPython.core.display.Markdown object>"
      ]
     },
     "metadata": {},
     "output_type": "display_data"
    },
    {
     "name": "stdout",
     "output_type": "stream",
     "text": [
      "1.9500000000000008\n"
     ]
    }
   ],
   "source": [
    "for i in alpha:\n",
    "    model_nb_dd_one_01 = fitNaiveBayesModel_smoothing(X, y, i)\n",
    "    y_pred_dd_one = model_nb_dd_one_01.predict(X)\n",
    "    af.getAccuracy(y, y_pred_dd_one, len(X))\n",
    "    print(i)"
   ]
  },
  {
   "cell_type": "code",
   "execution_count": 354,
   "metadata": {
    "scrolled": true
   },
   "outputs": [
    {
     "data": {
      "text/markdown": [
       "##### Accuracy : 0.7734, smoothing : 0.0"
      ],
      "text/plain": [
       "<IPython.core.display.Markdown object>"
      ]
     },
     "metadata": {},
     "output_type": "display_data"
    },
    {
     "data": {
      "text/markdown": [
       "##### Accuracy : 0.7517, smoothing : 0.01"
      ],
      "text/plain": [
       "<IPython.core.display.Markdown object>"
      ]
     },
     "metadata": {},
     "output_type": "display_data"
    },
    {
     "data": {
      "text/markdown": [
       "##### Accuracy : 0.7496, smoothing : 0.02"
      ],
      "text/plain": [
       "<IPython.core.display.Markdown object>"
      ]
     },
     "metadata": {},
     "output_type": "display_data"
    },
    {
     "data": {
      "text/markdown": [
       "##### Accuracy : 0.7525, smoothing : 0.03"
      ],
      "text/plain": [
       "<IPython.core.display.Markdown object>"
      ]
     },
     "metadata": {},
     "output_type": "display_data"
    },
    {
     "data": {
      "text/markdown": [
       "##### Accuracy : 0.7547, smoothing : 0.04"
      ],
      "text/plain": [
       "<IPython.core.display.Markdown object>"
      ]
     },
     "metadata": {},
     "output_type": "display_data"
    },
    {
     "data": {
      "text/markdown": [
       "##### Accuracy : 0.7581, smoothing : 0.05"
      ],
      "text/plain": [
       "<IPython.core.display.Markdown object>"
      ]
     },
     "metadata": {},
     "output_type": "display_data"
    },
    {
     "data": {
      "text/markdown": [
       "##### Accuracy : 0.7619, smoothing : 0.06"
      ],
      "text/plain": [
       "<IPython.core.display.Markdown object>"
      ]
     },
     "metadata": {},
     "output_type": "display_data"
    },
    {
     "data": {
      "text/markdown": [
       "##### Accuracy : 0.7648, smoothing : 0.07"
      ],
      "text/plain": [
       "<IPython.core.display.Markdown object>"
      ]
     },
     "metadata": {},
     "output_type": "display_data"
    },
    {
     "data": {
      "text/markdown": [
       "##### Accuracy : 0.7687, smoothing : 0.08"
      ],
      "text/plain": [
       "<IPython.core.display.Markdown object>"
      ]
     },
     "metadata": {},
     "output_type": "display_data"
    },
    {
     "data": {
      "text/markdown": [
       "##### Accuracy : 0.7725, smoothing : 0.09"
      ],
      "text/plain": [
       "<IPython.core.display.Markdown object>"
      ]
     },
     "metadata": {},
     "output_type": "display_data"
    },
    {
     "data": {
      "text/markdown": [
       "##### Accuracy : 0.7771, smoothing : 0.1"
      ],
      "text/plain": [
       "<IPython.core.display.Markdown object>"
      ]
     },
     "metadata": {},
     "output_type": "display_data"
    },
    {
     "data": {
      "text/markdown": [
       "##### Accuracy : 0.7814, smoothing : 0.11"
      ],
      "text/plain": [
       "<IPython.core.display.Markdown object>"
      ]
     },
     "metadata": {},
     "output_type": "display_data"
    },
    {
     "data": {
      "text/markdown": [
       "##### Accuracy : 0.7842, smoothing : 0.12"
      ],
      "text/plain": [
       "<IPython.core.display.Markdown object>"
      ]
     },
     "metadata": {},
     "output_type": "display_data"
    },
    {
     "data": {
      "text/markdown": [
       "##### Accuracy : 0.7888, smoothing : 0.13"
      ],
      "text/plain": [
       "<IPython.core.display.Markdown object>"
      ]
     },
     "metadata": {},
     "output_type": "display_data"
    },
    {
     "data": {
      "text/markdown": [
       "##### Accuracy : 0.7922, smoothing : 0.14"
      ],
      "text/plain": [
       "<IPython.core.display.Markdown object>"
      ]
     },
     "metadata": {},
     "output_type": "display_data"
    },
    {
     "data": {
      "text/markdown": [
       "##### Accuracy : 0.7957, smoothing : 0.15"
      ],
      "text/plain": [
       "<IPython.core.display.Markdown object>"
      ]
     },
     "metadata": {},
     "output_type": "display_data"
    },
    {
     "data": {
      "text/markdown": [
       "## Best_score : 0.7957, Alpha : 0.15"
      ],
      "text/plain": [
       "<IPython.core.display.Markdown object>"
      ]
     },
     "metadata": {},
     "output_type": "display_data"
    }
   ],
   "source": [
    "test_multinomial(df_to_test)"
   ]
  },
  {
   "cell_type": "markdown",
   "metadata": {},
   "source": [
    "# feature 1 에  카테고리 하나 산사람들을 다 포함시킴"
   ]
  },
  {
   "cell_type": "code",
   "execution_count": 296,
   "metadata": {},
   "outputs": [
    {
     "name": "stdout",
     "output_type": "stream",
     "text": [
      "Concat 완료.\n"
     ]
    }
   ],
   "source": [
    "df_to_test = get_df_has_specified_vn_list(vn_dd_one, df_dd=df_train_dd, df_fl=df_train_fl, is_need_to_make_df=True)"
   ]
  },
  {
   "cell_type": "code",
   "execution_count": 297,
   "metadata": {
    "scrolled": true
   },
   "outputs": [
    {
     "data": {
      "text/markdown": [
       "##### Accuracy : 0.8018, smoothing : 0.0"
      ],
      "text/plain": [
       "<IPython.core.display.Markdown object>"
      ]
     },
     "metadata": {},
     "output_type": "display_data"
    },
    {
     "data": {
      "text/markdown": [
       "##### Accuracy : 0.7946, smoothing : 0.01"
      ],
      "text/plain": [
       "<IPython.core.display.Markdown object>"
      ]
     },
     "metadata": {},
     "output_type": "display_data"
    },
    {
     "data": {
      "text/markdown": [
       "##### Accuracy : 0.7978, smoothing : 0.02"
      ],
      "text/plain": [
       "<IPython.core.display.Markdown object>"
      ]
     },
     "metadata": {},
     "output_type": "display_data"
    },
    {
     "data": {
      "text/markdown": [
       "##### Accuracy : 0.8001, smoothing : 0.03"
      ],
      "text/plain": [
       "<IPython.core.display.Markdown object>"
      ]
     },
     "metadata": {},
     "output_type": "display_data"
    },
    {
     "data": {
      "text/markdown": [
       "##### Accuracy : 0.8041, smoothing : 0.04"
      ],
      "text/plain": [
       "<IPython.core.display.Markdown object>"
      ]
     },
     "metadata": {},
     "output_type": "display_data"
    },
    {
     "data": {
      "text/markdown": [
       "##### Accuracy : 0.8081, smoothing : 0.05"
      ],
      "text/plain": [
       "<IPython.core.display.Markdown object>"
      ]
     },
     "metadata": {},
     "output_type": "display_data"
    },
    {
     "data": {
      "text/markdown": [
       "##### Accuracy : 0.8113, smoothing : 0.06"
      ],
      "text/plain": [
       "<IPython.core.display.Markdown object>"
      ]
     },
     "metadata": {},
     "output_type": "display_data"
    },
    {
     "data": {
      "text/markdown": [
       "##### Accuracy : 0.8145, smoothing : 0.07"
      ],
      "text/plain": [
       "<IPython.core.display.Markdown object>"
      ]
     },
     "metadata": {},
     "output_type": "display_data"
    },
    {
     "data": {
      "text/markdown": [
       "##### Accuracy : 0.8182, smoothing : 0.08"
      ],
      "text/plain": [
       "<IPython.core.display.Markdown object>"
      ]
     },
     "metadata": {},
     "output_type": "display_data"
    },
    {
     "data": {
      "text/markdown": [
       "##### Accuracy : 0.8209, smoothing : 0.09"
      ],
      "text/plain": [
       "<IPython.core.display.Markdown object>"
      ]
     },
     "metadata": {},
     "output_type": "display_data"
    },
    {
     "data": {
      "text/markdown": [
       "##### Accuracy : 0.8232, smoothing : 0.1"
      ],
      "text/plain": [
       "<IPython.core.display.Markdown object>"
      ]
     },
     "metadata": {},
     "output_type": "display_data"
    },
    {
     "data": {
      "text/markdown": [
       "##### Accuracy : 0.8259, smoothing : 0.11"
      ],
      "text/plain": [
       "<IPython.core.display.Markdown object>"
      ]
     },
     "metadata": {},
     "output_type": "display_data"
    },
    {
     "data": {
      "text/markdown": [
       "##### Accuracy : 0.8286, smoothing : 0.12"
      ],
      "text/plain": [
       "<IPython.core.display.Markdown object>"
      ]
     },
     "metadata": {},
     "output_type": "display_data"
    },
    {
     "data": {
      "text/markdown": [
       "##### Accuracy : 0.8305, smoothing : 0.13"
      ],
      "text/plain": [
       "<IPython.core.display.Markdown object>"
      ]
     },
     "metadata": {},
     "output_type": "display_data"
    },
    {
     "data": {
      "text/markdown": [
       "##### Accuracy : 0.8327, smoothing : 0.14"
      ],
      "text/plain": [
       "<IPython.core.display.Markdown object>"
      ]
     },
     "metadata": {},
     "output_type": "display_data"
    },
    {
     "data": {
      "text/markdown": [
       "##### Accuracy : 0.8347, smoothing : 0.15"
      ],
      "text/plain": [
       "<IPython.core.display.Markdown object>"
      ]
     },
     "metadata": {},
     "output_type": "display_data"
    },
    {
     "data": {
      "text/markdown": [
       "## Best_score : 0.8347, Alpha : 0.15"
      ],
      "text/plain": [
       "<IPython.core.display.Markdown object>"
      ]
     },
     "metadata": {},
     "output_type": "display_data"
    }
   ],
   "source": [
    "test_multinomial(df_to_test)"
   ]
  },
  {
   "cell_type": "code",
   "execution_count": 302,
   "metadata": {},
   "outputs": [],
   "source": [
    "alpha = np.arange(0.15, 1, 0.05)"
   ]
  },
  {
   "cell_type": "code",
   "execution_count": 307,
   "metadata": {},
   "outputs": [],
   "source": [
    "alpha = np.arange(1, 2, 0.05)"
   ]
  },
  {
   "cell_type": "code",
   "execution_count": 304,
   "metadata": {},
   "outputs": [],
   "source": [
    "X, y = af.get_df_to_fit(df_to_test)"
   ]
  },
  {
   "cell_type": "code",
   "execution_count": 308,
   "metadata": {
    "scrolled": true
   },
   "outputs": [
    {
     "data": {
      "text/markdown": [
       "##### Accuracy : 0.8696"
      ],
      "text/plain": [
       "<IPython.core.display.Markdown object>"
      ]
     },
     "metadata": {},
     "output_type": "display_data"
    },
    {
     "name": "stdout",
     "output_type": "stream",
     "text": [
      "1.0\n"
     ]
    },
    {
     "data": {
      "text/markdown": [
       "##### Accuracy : 0.8695"
      ],
      "text/plain": [
       "<IPython.core.display.Markdown object>"
      ]
     },
     "metadata": {},
     "output_type": "display_data"
    },
    {
     "name": "stdout",
     "output_type": "stream",
     "text": [
      "1.05\n"
     ]
    },
    {
     "data": {
      "text/markdown": [
       "##### Accuracy : 0.8702"
      ],
      "text/plain": [
       "<IPython.core.display.Markdown object>"
      ]
     },
     "metadata": {},
     "output_type": "display_data"
    },
    {
     "name": "stdout",
     "output_type": "stream",
     "text": [
      "1.1\n"
     ]
    },
    {
     "data": {
      "text/markdown": [
       "##### Accuracy : 0.87"
      ],
      "text/plain": [
       "<IPython.core.display.Markdown object>"
      ]
     },
     "metadata": {},
     "output_type": "display_data"
    },
    {
     "name": "stdout",
     "output_type": "stream",
     "text": [
      "1.1500000000000001\n"
     ]
    },
    {
     "data": {
      "text/markdown": [
       "##### Accuracy : 0.8696"
      ],
      "text/plain": [
       "<IPython.core.display.Markdown object>"
      ]
     },
     "metadata": {},
     "output_type": "display_data"
    },
    {
     "name": "stdout",
     "output_type": "stream",
     "text": [
      "1.2000000000000002\n"
     ]
    },
    {
     "data": {
      "text/markdown": [
       "##### Accuracy : 0.8692"
      ],
      "text/plain": [
       "<IPython.core.display.Markdown object>"
      ]
     },
     "metadata": {},
     "output_type": "display_data"
    },
    {
     "name": "stdout",
     "output_type": "stream",
     "text": [
      "1.2500000000000002\n"
     ]
    },
    {
     "data": {
      "text/markdown": [
       "##### Accuracy : 0.8686"
      ],
      "text/plain": [
       "<IPython.core.display.Markdown object>"
      ]
     },
     "metadata": {},
     "output_type": "display_data"
    },
    {
     "name": "stdout",
     "output_type": "stream",
     "text": [
      "1.3000000000000003\n"
     ]
    },
    {
     "data": {
      "text/markdown": [
       "##### Accuracy : 0.8678"
      ],
      "text/plain": [
       "<IPython.core.display.Markdown object>"
      ]
     },
     "metadata": {},
     "output_type": "display_data"
    },
    {
     "name": "stdout",
     "output_type": "stream",
     "text": [
      "1.3500000000000003\n"
     ]
    },
    {
     "data": {
      "text/markdown": [
       "##### Accuracy : 0.8666"
      ],
      "text/plain": [
       "<IPython.core.display.Markdown object>"
      ]
     },
     "metadata": {},
     "output_type": "display_data"
    },
    {
     "name": "stdout",
     "output_type": "stream",
     "text": [
      "1.4000000000000004\n"
     ]
    },
    {
     "data": {
      "text/markdown": [
       "##### Accuracy : 0.8658"
      ],
      "text/plain": [
       "<IPython.core.display.Markdown object>"
      ]
     },
     "metadata": {},
     "output_type": "display_data"
    },
    {
     "name": "stdout",
     "output_type": "stream",
     "text": [
      "1.4500000000000004\n"
     ]
    },
    {
     "data": {
      "text/markdown": [
       "##### Accuracy : 0.8652"
      ],
      "text/plain": [
       "<IPython.core.display.Markdown object>"
      ]
     },
     "metadata": {},
     "output_type": "display_data"
    },
    {
     "name": "stdout",
     "output_type": "stream",
     "text": [
      "1.5000000000000004\n"
     ]
    },
    {
     "data": {
      "text/markdown": [
       "##### Accuracy : 0.8639"
      ],
      "text/plain": [
       "<IPython.core.display.Markdown object>"
      ]
     },
     "metadata": {},
     "output_type": "display_data"
    },
    {
     "name": "stdout",
     "output_type": "stream",
     "text": [
      "1.5500000000000005\n"
     ]
    },
    {
     "data": {
      "text/markdown": [
       "##### Accuracy : 0.8625"
      ],
      "text/plain": [
       "<IPython.core.display.Markdown object>"
      ]
     },
     "metadata": {},
     "output_type": "display_data"
    },
    {
     "name": "stdout",
     "output_type": "stream",
     "text": [
      "1.6000000000000005\n"
     ]
    },
    {
     "data": {
      "text/markdown": [
       "##### Accuracy : 0.8608"
      ],
      "text/plain": [
       "<IPython.core.display.Markdown object>"
      ]
     },
     "metadata": {},
     "output_type": "display_data"
    },
    {
     "name": "stdout",
     "output_type": "stream",
     "text": [
      "1.6500000000000006\n"
     ]
    },
    {
     "data": {
      "text/markdown": [
       "##### Accuracy : 0.8599"
      ],
      "text/plain": [
       "<IPython.core.display.Markdown object>"
      ]
     },
     "metadata": {},
     "output_type": "display_data"
    },
    {
     "name": "stdout",
     "output_type": "stream",
     "text": [
      "1.7000000000000006\n"
     ]
    },
    {
     "data": {
      "text/markdown": [
       "##### Accuracy : 0.8587"
      ],
      "text/plain": [
       "<IPython.core.display.Markdown object>"
      ]
     },
     "metadata": {},
     "output_type": "display_data"
    },
    {
     "name": "stdout",
     "output_type": "stream",
     "text": [
      "1.7500000000000007\n"
     ]
    },
    {
     "data": {
      "text/markdown": [
       "##### Accuracy : 0.8575"
      ],
      "text/plain": [
       "<IPython.core.display.Markdown object>"
      ]
     },
     "metadata": {},
     "output_type": "display_data"
    },
    {
     "name": "stdout",
     "output_type": "stream",
     "text": [
      "1.8000000000000007\n"
     ]
    },
    {
     "data": {
      "text/markdown": [
       "##### Accuracy : 0.8565"
      ],
      "text/plain": [
       "<IPython.core.display.Markdown object>"
      ]
     },
     "metadata": {},
     "output_type": "display_data"
    },
    {
     "name": "stdout",
     "output_type": "stream",
     "text": [
      "1.8500000000000008\n"
     ]
    },
    {
     "data": {
      "text/markdown": [
       "##### Accuracy : 0.8552"
      ],
      "text/plain": [
       "<IPython.core.display.Markdown object>"
      ]
     },
     "metadata": {},
     "output_type": "display_data"
    },
    {
     "name": "stdout",
     "output_type": "stream",
     "text": [
      "1.9000000000000008\n"
     ]
    },
    {
     "data": {
      "text/markdown": [
       "##### Accuracy : 0.8539"
      ],
      "text/plain": [
       "<IPython.core.display.Markdown object>"
      ]
     },
     "metadata": {},
     "output_type": "display_data"
    },
    {
     "name": "stdout",
     "output_type": "stream",
     "text": [
      "1.9500000000000008\n"
     ]
    }
   ],
   "source": [
    "for i in alpha:\n",
    "    model_nb_dd_one_01 = fitNaiveBayesModel_smoothing(X, y, i)\n",
    "    y_pred_dd_one = model_nb_dd_one_01.predict(X)\n",
    "    af.getAccuracy(y, y_pred_dd_one, len(X))\n",
    "    print(i)"
   ]
  },
  {
   "cell_type": "code",
   "execution_count": null,
   "metadata": {},
   "outputs": [],
   "source": []
  },
  {
   "cell_type": "markdown",
   "metadata": {},
   "source": [
    "# feature 2 dd"
   ]
  },
  {
   "cell_type": "code",
   "execution_count": 309,
   "metadata": {
    "scrolled": true
   },
   "outputs": [
    {
     "name": "stdout",
     "output_type": "stream",
     "text": [
      "Concat 완료.\n"
     ]
    }
   ],
   "source": [
    "df_to_test = get_df_has_specified_vn_list(vn_dd_more_than_one, df_dd=df_train_dd, df_fl=df_train_fl, is_need_to_make_df=True)"
   ]
  },
  {
   "cell_type": "code",
   "execution_count": 310,
   "metadata": {},
   "outputs": [
    {
     "data": {
      "text/markdown": [
       "##### Accuracy : 0.8229, smoothing : 0.0"
      ],
      "text/plain": [
       "<IPython.core.display.Markdown object>"
      ]
     },
     "metadata": {},
     "output_type": "display_data"
    },
    {
     "data": {
      "text/markdown": [
       "##### Accuracy : 0.8163, smoothing : 0.01"
      ],
      "text/plain": [
       "<IPython.core.display.Markdown object>"
      ]
     },
     "metadata": {},
     "output_type": "display_data"
    },
    {
     "data": {
      "text/markdown": [
       "##### Accuracy : 0.8143, smoothing : 0.02"
      ],
      "text/plain": [
       "<IPython.core.display.Markdown object>"
      ]
     },
     "metadata": {},
     "output_type": "display_data"
    },
    {
     "data": {
      "text/markdown": [
       "##### Accuracy : 0.8136, smoothing : 0.03"
      ],
      "text/plain": [
       "<IPython.core.display.Markdown object>"
      ]
     },
     "metadata": {},
     "output_type": "display_data"
    },
    {
     "data": {
      "text/markdown": [
       "##### Accuracy : 0.814, smoothing : 0.04"
      ],
      "text/plain": [
       "<IPython.core.display.Markdown object>"
      ]
     },
     "metadata": {},
     "output_type": "display_data"
    },
    {
     "data": {
      "text/markdown": [
       "##### Accuracy : 0.8169, smoothing : 0.05"
      ],
      "text/plain": [
       "<IPython.core.display.Markdown object>"
      ]
     },
     "metadata": {},
     "output_type": "display_data"
    },
    {
     "data": {
      "text/markdown": [
       "##### Accuracy : 0.8154, smoothing : 0.06"
      ],
      "text/plain": [
       "<IPython.core.display.Markdown object>"
      ]
     },
     "metadata": {},
     "output_type": "display_data"
    },
    {
     "data": {
      "text/markdown": [
       "##### Accuracy : 0.8136, smoothing : 0.07"
      ],
      "text/plain": [
       "<IPython.core.display.Markdown object>"
      ]
     },
     "metadata": {},
     "output_type": "display_data"
    },
    {
     "data": {
      "text/markdown": [
       "## Best_score : 0.8229, Alpha : 0.0"
      ],
      "text/plain": [
       "<IPython.core.display.Markdown object>"
      ]
     },
     "metadata": {},
     "output_type": "display_data"
    }
   ],
   "source": [
    "test_multinomial(df_to_test)"
   ]
  },
  {
   "cell_type": "code",
   "execution_count": 327,
   "metadata": {},
   "outputs": [],
   "source": [
    "vn_dd_3 = vn_dd_one + vn_dd_more_than_one"
   ]
  },
  {
   "cell_type": "code",
   "execution_count": 328,
   "metadata": {},
   "outputs": [
    {
     "name": "stdout",
     "output_type": "stream",
     "text": [
      "Concat 완료.\n"
     ]
    }
   ],
   "source": [
    "df_to_test = get_df_has_specified_vn_list(vn_dd_3, is_in=False, df_dd=df_train_dd, df_fl=df_train_fl, is_need_to_make_df=True)"
   ]
  },
  {
   "cell_type": "code",
   "execution_count": 329,
   "metadata": {},
   "outputs": [
    {
     "data": {
      "text/markdown": [
       "##### Accuracy : 0.7021, smoothing : 0.0"
      ],
      "text/plain": [
       "<IPython.core.display.Markdown object>"
      ]
     },
     "metadata": {},
     "output_type": "display_data"
    },
    {
     "data": {
      "text/markdown": [
       "##### Accuracy : 0.6605, smoothing : 0.01"
      ],
      "text/plain": [
       "<IPython.core.display.Markdown object>"
      ]
     },
     "metadata": {},
     "output_type": "display_data"
    },
    {
     "data": {
      "text/markdown": [
       "##### Accuracy : 0.6535, smoothing : 0.02"
      ],
      "text/plain": [
       "<IPython.core.display.Markdown object>"
      ]
     },
     "metadata": {},
     "output_type": "display_data"
    },
    {
     "data": {
      "text/markdown": [
       "##### Accuracy : 0.648, smoothing : 0.03"
      ],
      "text/plain": [
       "<IPython.core.display.Markdown object>"
      ]
     },
     "metadata": {},
     "output_type": "display_data"
    },
    {
     "data": {
      "text/markdown": [
       "##### Accuracy : 0.6444, smoothing : 0.04"
      ],
      "text/plain": [
       "<IPython.core.display.Markdown object>"
      ]
     },
     "metadata": {},
     "output_type": "display_data"
    },
    {
     "data": {
      "text/markdown": [
       "##### Accuracy : 0.6414, smoothing : 0.05"
      ],
      "text/plain": [
       "<IPython.core.display.Markdown object>"
      ]
     },
     "metadata": {},
     "output_type": "display_data"
    },
    {
     "data": {
      "text/markdown": [
       "## Best_score : 0.7021, Alpha : 0.0"
      ],
      "text/plain": [
       "<IPython.core.display.Markdown object>"
      ]
     },
     "metadata": {},
     "output_type": "display_data"
    }
   ],
   "source": [
    "test_multinomial(df_to_test)"
   ]
  },
  {
   "cell_type": "code",
   "execution_count": 419,
   "metadata": {},
   "outputs": [
    {
     "name": "stdout",
     "output_type": "stream",
     "text": [
      "0.7663370348126824\n"
     ]
    },
    {
     "data": {
      "text/plain": [
       "0.7663370348126824"
      ]
     },
     "execution_count": 419,
     "metadata": {},
     "output_type": "execute_result"
    }
   ],
   "source": [
    "cal_average_of_accuracy(vn_dd_one, vn_dd_more_than_one, [0.8702, 0.8229, 0.7021])"
   ]
  },
  {
   "cell_type": "markdown",
   "metadata": {},
   "source": [
    "# dd feature 1 dd만 이용"
   ]
  },
  {
   "cell_type": "code",
   "execution_count": 420,
   "metadata": {},
   "outputs": [],
   "source": [
    "df_to_test = get_df_has_specified_vn_list(vn_dd_one, df=df_dd)"
   ]
  },
  {
   "cell_type": "code",
   "execution_count": 421,
   "metadata": {
    "scrolled": true
   },
   "outputs": [
    {
     "data": {
      "text/markdown": [
       "##### Accuracy : 0.7327, smoothing : 0.0"
      ],
      "text/plain": [
       "<IPython.core.display.Markdown object>"
      ]
     },
     "metadata": {},
     "output_type": "display_data"
    },
    {
     "data": {
      "text/markdown": [
       "##### Accuracy : 0.7329, smoothing : 0.01"
      ],
      "text/plain": [
       "<IPython.core.display.Markdown object>"
      ]
     },
     "metadata": {},
     "output_type": "display_data"
    },
    {
     "data": {
      "text/markdown": [
       "##### Accuracy : 0.7331, smoothing : 0.02"
      ],
      "text/plain": [
       "<IPython.core.display.Markdown object>"
      ]
     },
     "metadata": {},
     "output_type": "display_data"
    },
    {
     "data": {
      "text/markdown": [
       "##### Accuracy : 0.7332, smoothing : 0.03"
      ],
      "text/plain": [
       "<IPython.core.display.Markdown object>"
      ]
     },
     "metadata": {},
     "output_type": "display_data"
    },
    {
     "data": {
      "text/markdown": [
       "##### Accuracy : 0.7346, smoothing : 0.04"
      ],
      "text/plain": [
       "<IPython.core.display.Markdown object>"
      ]
     },
     "metadata": {},
     "output_type": "display_data"
    },
    {
     "data": {
      "text/markdown": [
       "##### Accuracy : 0.7347, smoothing : 0.05"
      ],
      "text/plain": [
       "<IPython.core.display.Markdown object>"
      ]
     },
     "metadata": {},
     "output_type": "display_data"
    },
    {
     "data": {
      "text/markdown": [
       "##### Accuracy : 0.7347, smoothing : 0.06"
      ],
      "text/plain": [
       "<IPython.core.display.Markdown object>"
      ]
     },
     "metadata": {},
     "output_type": "display_data"
    },
    {
     "data": {
      "text/markdown": [
       "##### Accuracy : 0.7348, smoothing : 0.07"
      ],
      "text/plain": [
       "<IPython.core.display.Markdown object>"
      ]
     },
     "metadata": {},
     "output_type": "display_data"
    },
    {
     "data": {
      "text/markdown": [
       "##### Accuracy : 0.7347, smoothing : 0.08"
      ],
      "text/plain": [
       "<IPython.core.display.Markdown object>"
      ]
     },
     "metadata": {},
     "output_type": "display_data"
    },
    {
     "data": {
      "text/markdown": [
       "##### Accuracy : 0.7355, smoothing : 0.09"
      ],
      "text/plain": [
       "<IPython.core.display.Markdown object>"
      ]
     },
     "metadata": {},
     "output_type": "display_data"
    },
    {
     "data": {
      "text/markdown": [
       "##### Accuracy : 0.7354, smoothing : 0.1"
      ],
      "text/plain": [
       "<IPython.core.display.Markdown object>"
      ]
     },
     "metadata": {},
     "output_type": "display_data"
    },
    {
     "data": {
      "text/markdown": [
       "##### Accuracy : 0.7354, smoothing : 0.11"
      ],
      "text/plain": [
       "<IPython.core.display.Markdown object>"
      ]
     },
     "metadata": {},
     "output_type": "display_data"
    },
    {
     "data": {
      "text/markdown": [
       "##### Accuracy : 0.7354, smoothing : 0.12"
      ],
      "text/plain": [
       "<IPython.core.display.Markdown object>"
      ]
     },
     "metadata": {},
     "output_type": "display_data"
    },
    {
     "data": {
      "text/markdown": [
       "##### Accuracy : 0.7354, smoothing : 0.13"
      ],
      "text/plain": [
       "<IPython.core.display.Markdown object>"
      ]
     },
     "metadata": {},
     "output_type": "display_data"
    },
    {
     "data": {
      "text/markdown": [
       "##### Accuracy : 0.7354, smoothing : 0.14"
      ],
      "text/plain": [
       "<IPython.core.display.Markdown object>"
      ]
     },
     "metadata": {},
     "output_type": "display_data"
    },
    {
     "data": {
      "text/markdown": [
       "##### Accuracy : 0.7353, smoothing : 0.15"
      ],
      "text/plain": [
       "<IPython.core.display.Markdown object>"
      ]
     },
     "metadata": {},
     "output_type": "display_data"
    },
    {
     "data": {
      "text/markdown": [
       "## Best_score : 0.7355, Alpha : 0.09"
      ],
      "text/plain": [
       "<IPython.core.display.Markdown object>"
      ]
     },
     "metadata": {},
     "output_type": "display_data"
    }
   ],
   "source": [
    "test_multinomial(df_to_test)"
   ]
  },
  {
   "cell_type": "markdown",
   "metadata": {},
   "source": [
    "# dd feature 2 dd만 이용"
   ]
  },
  {
   "cell_type": "code",
   "execution_count": 422,
   "metadata": {},
   "outputs": [],
   "source": [
    "df_to_test = get_df_has_specified_vn_list(vn_dd_more_than_one, df=df_dd)"
   ]
  },
  {
   "cell_type": "code",
   "execution_count": 423,
   "metadata": {
    "scrolled": true
   },
   "outputs": [
    {
     "data": {
      "text/markdown": [
       "##### Accuracy : 0.5806, smoothing : 0.0"
      ],
      "text/plain": [
       "<IPython.core.display.Markdown object>"
      ]
     },
     "metadata": {},
     "output_type": "display_data"
    },
    {
     "data": {
      "text/markdown": [
       "##### Accuracy : 0.5804, smoothing : 0.01"
      ],
      "text/plain": [
       "<IPython.core.display.Markdown object>"
      ]
     },
     "metadata": {},
     "output_type": "display_data"
    },
    {
     "data": {
      "text/markdown": [
       "##### Accuracy : 0.581, smoothing : 0.02"
      ],
      "text/plain": [
       "<IPython.core.display.Markdown object>"
      ]
     },
     "metadata": {},
     "output_type": "display_data"
    },
    {
     "data": {
      "text/markdown": [
       "##### Accuracy : 0.5813, smoothing : 0.03"
      ],
      "text/plain": [
       "<IPython.core.display.Markdown object>"
      ]
     },
     "metadata": {},
     "output_type": "display_data"
    },
    {
     "data": {
      "text/markdown": [
       "##### Accuracy : 0.5813, smoothing : 0.04"
      ],
      "text/plain": [
       "<IPython.core.display.Markdown object>"
      ]
     },
     "metadata": {},
     "output_type": "display_data"
    },
    {
     "data": {
      "text/markdown": [
       "##### Accuracy : 0.5812, smoothing : 0.05"
      ],
      "text/plain": [
       "<IPython.core.display.Markdown object>"
      ]
     },
     "metadata": {},
     "output_type": "display_data"
    },
    {
     "data": {
      "text/markdown": [
       "##### Accuracy : 0.581, smoothing : 0.06"
      ],
      "text/plain": [
       "<IPython.core.display.Markdown object>"
      ]
     },
     "metadata": {},
     "output_type": "display_data"
    },
    {
     "data": {
      "text/markdown": [
       "##### Accuracy : 0.5811, smoothing : 0.07"
      ],
      "text/plain": [
       "<IPython.core.display.Markdown object>"
      ]
     },
     "metadata": {},
     "output_type": "display_data"
    },
    {
     "data": {
      "text/markdown": [
       "##### Accuracy : 0.5806, smoothing : 0.08"
      ],
      "text/plain": [
       "<IPython.core.display.Markdown object>"
      ]
     },
     "metadata": {},
     "output_type": "display_data"
    },
    {
     "data": {
      "text/markdown": [
       "##### Accuracy : 0.5808, smoothing : 0.09"
      ],
      "text/plain": [
       "<IPython.core.display.Markdown object>"
      ]
     },
     "metadata": {},
     "output_type": "display_data"
    },
    {
     "data": {
      "text/markdown": [
       "##### Accuracy : 0.5808, smoothing : 0.1"
      ],
      "text/plain": [
       "<IPython.core.display.Markdown object>"
      ]
     },
     "metadata": {},
     "output_type": "display_data"
    },
    {
     "data": {
      "text/markdown": [
       "##### Accuracy : 0.581, smoothing : 0.11"
      ],
      "text/plain": [
       "<IPython.core.display.Markdown object>"
      ]
     },
     "metadata": {},
     "output_type": "display_data"
    },
    {
     "data": {
      "text/markdown": [
       "##### Accuracy : 0.5811, smoothing : 0.12"
      ],
      "text/plain": [
       "<IPython.core.display.Markdown object>"
      ]
     },
     "metadata": {},
     "output_type": "display_data"
    },
    {
     "data": {
      "text/markdown": [
       "##### Accuracy : 0.5811, smoothing : 0.13"
      ],
      "text/plain": [
       "<IPython.core.display.Markdown object>"
      ]
     },
     "metadata": {},
     "output_type": "display_data"
    },
    {
     "data": {
      "text/markdown": [
       "##### Accuracy : 0.5811, smoothing : 0.14"
      ],
      "text/plain": [
       "<IPython.core.display.Markdown object>"
      ]
     },
     "metadata": {},
     "output_type": "display_data"
    },
    {
     "data": {
      "text/markdown": [
       "##### Accuracy : 0.5813, smoothing : 0.15"
      ],
      "text/plain": [
       "<IPython.core.display.Markdown object>"
      ]
     },
     "metadata": {},
     "output_type": "display_data"
    },
    {
     "data": {
      "text/markdown": [
       "## Best_score : 0.5813, Alpha : 0.03"
      ],
      "text/plain": [
       "<IPython.core.display.Markdown object>"
      ]
     },
     "metadata": {},
     "output_type": "display_data"
    }
   ],
   "source": [
    "test_multinomial(df_to_test)"
   ]
  },
  {
   "cell_type": "markdown",
   "metadata": {},
   "source": [
    "# dd feature 3 dd만 이용"
   ]
  },
  {
   "cell_type": "code",
   "execution_count": 424,
   "metadata": {},
   "outputs": [],
   "source": [
    "df_to_test = get_df_has_specified_vn_list(vn_dd_3, df=df_dd)"
   ]
  },
  {
   "cell_type": "code",
   "execution_count": 425,
   "metadata": {
    "scrolled": true
   },
   "outputs": [
    {
     "data": {
      "text/markdown": [
       "##### Accuracy : 0.6796, smoothing : 0.0"
      ],
      "text/plain": [
       "<IPython.core.display.Markdown object>"
      ]
     },
     "metadata": {},
     "output_type": "display_data"
    },
    {
     "data": {
      "text/markdown": [
       "##### Accuracy : 0.6794, smoothing : 0.01"
      ],
      "text/plain": [
       "<IPython.core.display.Markdown object>"
      ]
     },
     "metadata": {},
     "output_type": "display_data"
    },
    {
     "data": {
      "text/markdown": [
       "##### Accuracy : 0.6795, smoothing : 0.02"
      ],
      "text/plain": [
       "<IPython.core.display.Markdown object>"
      ]
     },
     "metadata": {},
     "output_type": "display_data"
    },
    {
     "data": {
      "text/markdown": [
       "##### Accuracy : 0.6795, smoothing : 0.03"
      ],
      "text/plain": [
       "<IPython.core.display.Markdown object>"
      ]
     },
     "metadata": {},
     "output_type": "display_data"
    },
    {
     "data": {
      "text/markdown": [
       "##### Accuracy : 0.6795, smoothing : 0.04"
      ],
      "text/plain": [
       "<IPython.core.display.Markdown object>"
      ]
     },
     "metadata": {},
     "output_type": "display_data"
    },
    {
     "data": {
      "text/markdown": [
       "##### Accuracy : 0.6795, smoothing : 0.05"
      ],
      "text/plain": [
       "<IPython.core.display.Markdown object>"
      ]
     },
     "metadata": {},
     "output_type": "display_data"
    },
    {
     "data": {
      "text/markdown": [
       "##### Accuracy : 0.6794, smoothing : 0.06"
      ],
      "text/plain": [
       "<IPython.core.display.Markdown object>"
      ]
     },
     "metadata": {},
     "output_type": "display_data"
    },
    {
     "data": {
      "text/markdown": [
       "##### Accuracy : 0.6794, smoothing : 0.07"
      ],
      "text/plain": [
       "<IPython.core.display.Markdown object>"
      ]
     },
     "metadata": {},
     "output_type": "display_data"
    },
    {
     "data": {
      "text/markdown": [
       "##### Accuracy : 0.6793, smoothing : 0.08"
      ],
      "text/plain": [
       "<IPython.core.display.Markdown object>"
      ]
     },
     "metadata": {},
     "output_type": "display_data"
    },
    {
     "data": {
      "text/markdown": [
       "##### Accuracy : 0.6793, smoothing : 0.09"
      ],
      "text/plain": [
       "<IPython.core.display.Markdown object>"
      ]
     },
     "metadata": {},
     "output_type": "display_data"
    },
    {
     "data": {
      "text/markdown": [
       "##### Accuracy : 0.6793, smoothing : 0.1"
      ],
      "text/plain": [
       "<IPython.core.display.Markdown object>"
      ]
     },
     "metadata": {},
     "output_type": "display_data"
    },
    {
     "data": {
      "text/markdown": [
       "##### Accuracy : 0.6793, smoothing : 0.11"
      ],
      "text/plain": [
       "<IPython.core.display.Markdown object>"
      ]
     },
     "metadata": {},
     "output_type": "display_data"
    },
    {
     "data": {
      "text/markdown": [
       "##### Accuracy : 0.6793, smoothing : 0.12"
      ],
      "text/plain": [
       "<IPython.core.display.Markdown object>"
      ]
     },
     "metadata": {},
     "output_type": "display_data"
    },
    {
     "data": {
      "text/markdown": [
       "##### Accuracy : 0.6792, smoothing : 0.13"
      ],
      "text/plain": [
       "<IPython.core.display.Markdown object>"
      ]
     },
     "metadata": {},
     "output_type": "display_data"
    },
    {
     "data": {
      "text/markdown": [
       "##### Accuracy : 0.6795, smoothing : 0.14"
      ],
      "text/plain": [
       "<IPython.core.display.Markdown object>"
      ]
     },
     "metadata": {},
     "output_type": "display_data"
    },
    {
     "data": {
      "text/markdown": [
       "##### Accuracy : 0.6795, smoothing : 0.15"
      ],
      "text/plain": [
       "<IPython.core.display.Markdown object>"
      ]
     },
     "metadata": {},
     "output_type": "display_data"
    },
    {
     "data": {
      "text/markdown": [
       "## Best_score : 0.6796, Alpha : 0.0"
      ],
      "text/plain": [
       "<IPython.core.display.Markdown object>"
      ]
     },
     "metadata": {},
     "output_type": "display_data"
    }
   ],
   "source": [
    "test_multinomial(df_to_test)"
   ]
  },
  {
   "cell_type": "code",
   "execution_count": 426,
   "metadata": {},
   "outputs": [],
   "source": [
    "X, y = af.get_df_to_fit(df_to_test)"
   ]
  },
  {
   "cell_type": "code",
   "execution_count": 438,
   "metadata": {},
   "outputs": [],
   "source": [
    "alpha = np.arange(20, 25, 0.05)"
   ]
  },
  {
   "cell_type": "code",
   "execution_count": 439,
   "metadata": {
    "scrolled": true
   },
   "outputs": [
    {
     "data": {
      "text/markdown": [
       "##### Accuracy : 0.6975"
      ],
      "text/plain": [
       "<IPython.core.display.Markdown object>"
      ]
     },
     "metadata": {},
     "output_type": "display_data"
    },
    {
     "name": "stdout",
     "output_type": "stream",
     "text": [
      "20.0\n"
     ]
    },
    {
     "data": {
      "text/markdown": [
       "##### Accuracy : 0.6976"
      ],
      "text/plain": [
       "<IPython.core.display.Markdown object>"
      ]
     },
     "metadata": {},
     "output_type": "display_data"
    },
    {
     "name": "stdout",
     "output_type": "stream",
     "text": [
      "20.05\n"
     ]
    },
    {
     "data": {
      "text/markdown": [
       "##### Accuracy : 0.6976"
      ],
      "text/plain": [
       "<IPython.core.display.Markdown object>"
      ]
     },
     "metadata": {},
     "output_type": "display_data"
    },
    {
     "name": "stdout",
     "output_type": "stream",
     "text": [
      "20.1\n"
     ]
    },
    {
     "data": {
      "text/markdown": [
       "##### Accuracy : 0.6978"
      ],
      "text/plain": [
       "<IPython.core.display.Markdown object>"
      ]
     },
     "metadata": {},
     "output_type": "display_data"
    },
    {
     "name": "stdout",
     "output_type": "stream",
     "text": [
      "20.150000000000002\n"
     ]
    },
    {
     "data": {
      "text/markdown": [
       "##### Accuracy : 0.6978"
      ],
      "text/plain": [
       "<IPython.core.display.Markdown object>"
      ]
     },
     "metadata": {},
     "output_type": "display_data"
    },
    {
     "name": "stdout",
     "output_type": "stream",
     "text": [
      "20.200000000000003\n"
     ]
    },
    {
     "data": {
      "text/markdown": [
       "##### Accuracy : 0.6979"
      ],
      "text/plain": [
       "<IPython.core.display.Markdown object>"
      ]
     },
     "metadata": {},
     "output_type": "display_data"
    },
    {
     "name": "stdout",
     "output_type": "stream",
     "text": [
      "20.250000000000004\n"
     ]
    },
    {
     "data": {
      "text/markdown": [
       "##### Accuracy : 0.6981"
      ],
      "text/plain": [
       "<IPython.core.display.Markdown object>"
      ]
     },
     "metadata": {},
     "output_type": "display_data"
    },
    {
     "name": "stdout",
     "output_type": "stream",
     "text": [
      "20.300000000000004\n"
     ]
    },
    {
     "data": {
      "text/markdown": [
       "##### Accuracy : 0.6981"
      ],
      "text/plain": [
       "<IPython.core.display.Markdown object>"
      ]
     },
     "metadata": {},
     "output_type": "display_data"
    },
    {
     "name": "stdout",
     "output_type": "stream",
     "text": [
      "20.350000000000005\n"
     ]
    },
    {
     "data": {
      "text/markdown": [
       "##### Accuracy : 0.6982"
      ],
      "text/plain": [
       "<IPython.core.display.Markdown object>"
      ]
     },
     "metadata": {},
     "output_type": "display_data"
    },
    {
     "name": "stdout",
     "output_type": "stream",
     "text": [
      "20.400000000000006\n"
     ]
    },
    {
     "data": {
      "text/markdown": [
       "##### Accuracy : 0.6981"
      ],
      "text/plain": [
       "<IPython.core.display.Markdown object>"
      ]
     },
     "metadata": {},
     "output_type": "display_data"
    },
    {
     "name": "stdout",
     "output_type": "stream",
     "text": [
      "20.450000000000006\n"
     ]
    },
    {
     "data": {
      "text/markdown": [
       "##### Accuracy : 0.6983"
      ],
      "text/plain": [
       "<IPython.core.display.Markdown object>"
      ]
     },
     "metadata": {},
     "output_type": "display_data"
    },
    {
     "name": "stdout",
     "output_type": "stream",
     "text": [
      "20.500000000000007\n"
     ]
    },
    {
     "data": {
      "text/markdown": [
       "##### Accuracy : 0.6983"
      ],
      "text/plain": [
       "<IPython.core.display.Markdown object>"
      ]
     },
     "metadata": {},
     "output_type": "display_data"
    },
    {
     "name": "stdout",
     "output_type": "stream",
     "text": [
      "20.550000000000008\n"
     ]
    },
    {
     "data": {
      "text/markdown": [
       "##### Accuracy : 0.6982"
      ],
      "text/plain": [
       "<IPython.core.display.Markdown object>"
      ]
     },
     "metadata": {},
     "output_type": "display_data"
    },
    {
     "name": "stdout",
     "output_type": "stream",
     "text": [
      "20.60000000000001\n"
     ]
    },
    {
     "data": {
      "text/markdown": [
       "##### Accuracy : 0.6982"
      ],
      "text/plain": [
       "<IPython.core.display.Markdown object>"
      ]
     },
     "metadata": {},
     "output_type": "display_data"
    },
    {
     "name": "stdout",
     "output_type": "stream",
     "text": [
      "20.65000000000001\n"
     ]
    },
    {
     "data": {
      "text/markdown": [
       "##### Accuracy : 0.6982"
      ],
      "text/plain": [
       "<IPython.core.display.Markdown object>"
      ]
     },
     "metadata": {},
     "output_type": "display_data"
    },
    {
     "name": "stdout",
     "output_type": "stream",
     "text": [
      "20.70000000000001\n"
     ]
    },
    {
     "data": {
      "text/markdown": [
       "##### Accuracy : 0.6982"
      ],
      "text/plain": [
       "<IPython.core.display.Markdown object>"
      ]
     },
     "metadata": {},
     "output_type": "display_data"
    },
    {
     "name": "stdout",
     "output_type": "stream",
     "text": [
      "20.75000000000001\n"
     ]
    },
    {
     "data": {
      "text/markdown": [
       "##### Accuracy : 0.6982"
      ],
      "text/plain": [
       "<IPython.core.display.Markdown object>"
      ]
     },
     "metadata": {},
     "output_type": "display_data"
    },
    {
     "name": "stdout",
     "output_type": "stream",
     "text": [
      "20.80000000000001\n"
     ]
    },
    {
     "data": {
      "text/markdown": [
       "##### Accuracy : 0.6982"
      ],
      "text/plain": [
       "<IPython.core.display.Markdown object>"
      ]
     },
     "metadata": {},
     "output_type": "display_data"
    },
    {
     "name": "stdout",
     "output_type": "stream",
     "text": [
      "20.850000000000012\n"
     ]
    },
    {
     "data": {
      "text/markdown": [
       "##### Accuracy : 0.6981"
      ],
      "text/plain": [
       "<IPython.core.display.Markdown object>"
      ]
     },
     "metadata": {},
     "output_type": "display_data"
    },
    {
     "name": "stdout",
     "output_type": "stream",
     "text": [
      "20.900000000000013\n"
     ]
    },
    {
     "data": {
      "text/markdown": [
       "##### Accuracy : 0.6982"
      ],
      "text/plain": [
       "<IPython.core.display.Markdown object>"
      ]
     },
     "metadata": {},
     "output_type": "display_data"
    },
    {
     "name": "stdout",
     "output_type": "stream",
     "text": [
      "20.950000000000014\n"
     ]
    },
    {
     "data": {
      "text/markdown": [
       "##### Accuracy : 0.6982"
      ],
      "text/plain": [
       "<IPython.core.display.Markdown object>"
      ]
     },
     "metadata": {},
     "output_type": "display_data"
    },
    {
     "name": "stdout",
     "output_type": "stream",
     "text": [
      "21.000000000000014\n"
     ]
    },
    {
     "data": {
      "text/markdown": [
       "##### Accuracy : 0.6982"
      ],
      "text/plain": [
       "<IPython.core.display.Markdown object>"
      ]
     },
     "metadata": {},
     "output_type": "display_data"
    },
    {
     "name": "stdout",
     "output_type": "stream",
     "text": [
      "21.050000000000015\n"
     ]
    },
    {
     "data": {
      "text/markdown": [
       "##### Accuracy : 0.6981"
      ],
      "text/plain": [
       "<IPython.core.display.Markdown object>"
      ]
     },
     "metadata": {},
     "output_type": "display_data"
    },
    {
     "name": "stdout",
     "output_type": "stream",
     "text": [
      "21.100000000000016\n"
     ]
    },
    {
     "data": {
      "text/markdown": [
       "##### Accuracy : 0.6982"
      ],
      "text/plain": [
       "<IPython.core.display.Markdown object>"
      ]
     },
     "metadata": {},
     "output_type": "display_data"
    },
    {
     "name": "stdout",
     "output_type": "stream",
     "text": [
      "21.150000000000016\n"
     ]
    },
    {
     "data": {
      "text/markdown": [
       "##### Accuracy : 0.6982"
      ],
      "text/plain": [
       "<IPython.core.display.Markdown object>"
      ]
     },
     "metadata": {},
     "output_type": "display_data"
    },
    {
     "name": "stdout",
     "output_type": "stream",
     "text": [
      "21.200000000000017\n"
     ]
    },
    {
     "data": {
      "text/markdown": [
       "##### Accuracy : 0.698"
      ],
      "text/plain": [
       "<IPython.core.display.Markdown object>"
      ]
     },
     "metadata": {},
     "output_type": "display_data"
    },
    {
     "name": "stdout",
     "output_type": "stream",
     "text": [
      "21.250000000000018\n"
     ]
    },
    {
     "data": {
      "text/markdown": [
       "##### Accuracy : 0.698"
      ],
      "text/plain": [
       "<IPython.core.display.Markdown object>"
      ]
     },
     "metadata": {},
     "output_type": "display_data"
    },
    {
     "name": "stdout",
     "output_type": "stream",
     "text": [
      "21.30000000000002\n"
     ]
    },
    {
     "data": {
      "text/markdown": [
       "##### Accuracy : 0.6979"
      ],
      "text/plain": [
       "<IPython.core.display.Markdown object>"
      ]
     },
     "metadata": {},
     "output_type": "display_data"
    },
    {
     "name": "stdout",
     "output_type": "stream",
     "text": [
      "21.35000000000002\n"
     ]
    },
    {
     "data": {
      "text/markdown": [
       "##### Accuracy : 0.6979"
      ],
      "text/plain": [
       "<IPython.core.display.Markdown object>"
      ]
     },
     "metadata": {},
     "output_type": "display_data"
    },
    {
     "name": "stdout",
     "output_type": "stream",
     "text": [
      "21.40000000000002\n"
     ]
    },
    {
     "data": {
      "text/markdown": [
       "##### Accuracy : 0.6979"
      ],
      "text/plain": [
       "<IPython.core.display.Markdown object>"
      ]
     },
     "metadata": {},
     "output_type": "display_data"
    },
    {
     "name": "stdout",
     "output_type": "stream",
     "text": [
      "21.45000000000002\n"
     ]
    },
    {
     "data": {
      "text/markdown": [
       "##### Accuracy : 0.698"
      ],
      "text/plain": [
       "<IPython.core.display.Markdown object>"
      ]
     },
     "metadata": {},
     "output_type": "display_data"
    },
    {
     "name": "stdout",
     "output_type": "stream",
     "text": [
      "21.50000000000002\n"
     ]
    },
    {
     "data": {
      "text/markdown": [
       "##### Accuracy : 0.698"
      ],
      "text/plain": [
       "<IPython.core.display.Markdown object>"
      ]
     },
     "metadata": {},
     "output_type": "display_data"
    },
    {
     "name": "stdout",
     "output_type": "stream",
     "text": [
      "21.550000000000022\n"
     ]
    },
    {
     "data": {
      "text/markdown": [
       "##### Accuracy : 0.698"
      ],
      "text/plain": [
       "<IPython.core.display.Markdown object>"
      ]
     },
     "metadata": {},
     "output_type": "display_data"
    },
    {
     "name": "stdout",
     "output_type": "stream",
     "text": [
      "21.600000000000023\n"
     ]
    },
    {
     "data": {
      "text/markdown": [
       "##### Accuracy : 0.698"
      ],
      "text/plain": [
       "<IPython.core.display.Markdown object>"
      ]
     },
     "metadata": {},
     "output_type": "display_data"
    },
    {
     "name": "stdout",
     "output_type": "stream",
     "text": [
      "21.650000000000023\n"
     ]
    },
    {
     "data": {
      "text/markdown": [
       "##### Accuracy : 0.6979"
      ],
      "text/plain": [
       "<IPython.core.display.Markdown object>"
      ]
     },
     "metadata": {},
     "output_type": "display_data"
    },
    {
     "name": "stdout",
     "output_type": "stream",
     "text": [
      "21.700000000000024\n"
     ]
    },
    {
     "data": {
      "text/markdown": [
       "##### Accuracy : 0.698"
      ],
      "text/plain": [
       "<IPython.core.display.Markdown object>"
      ]
     },
     "metadata": {},
     "output_type": "display_data"
    },
    {
     "name": "stdout",
     "output_type": "stream",
     "text": [
      "21.750000000000025\n"
     ]
    },
    {
     "data": {
      "text/markdown": [
       "##### Accuracy : 0.698"
      ],
      "text/plain": [
       "<IPython.core.display.Markdown object>"
      ]
     },
     "metadata": {},
     "output_type": "display_data"
    },
    {
     "name": "stdout",
     "output_type": "stream",
     "text": [
      "21.800000000000026\n"
     ]
    },
    {
     "data": {
      "text/markdown": [
       "##### Accuracy : 0.698"
      ],
      "text/plain": [
       "<IPython.core.display.Markdown object>"
      ]
     },
     "metadata": {},
     "output_type": "display_data"
    },
    {
     "name": "stdout",
     "output_type": "stream",
     "text": [
      "21.850000000000026\n"
     ]
    },
    {
     "data": {
      "text/markdown": [
       "##### Accuracy : 0.698"
      ],
      "text/plain": [
       "<IPython.core.display.Markdown object>"
      ]
     },
     "metadata": {},
     "output_type": "display_data"
    },
    {
     "name": "stdout",
     "output_type": "stream",
     "text": [
      "21.900000000000027\n"
     ]
    },
    {
     "data": {
      "text/markdown": [
       "##### Accuracy : 0.6981"
      ],
      "text/plain": [
       "<IPython.core.display.Markdown object>"
      ]
     },
     "metadata": {},
     "output_type": "display_data"
    },
    {
     "name": "stdout",
     "output_type": "stream",
     "text": [
      "21.950000000000028\n"
     ]
    },
    {
     "data": {
      "text/markdown": [
       "##### Accuracy : 0.6981"
      ],
      "text/plain": [
       "<IPython.core.display.Markdown object>"
      ]
     },
     "metadata": {},
     "output_type": "display_data"
    },
    {
     "name": "stdout",
     "output_type": "stream",
     "text": [
      "22.00000000000003\n"
     ]
    },
    {
     "data": {
      "text/markdown": [
       "##### Accuracy : 0.698"
      ],
      "text/plain": [
       "<IPython.core.display.Markdown object>"
      ]
     },
     "metadata": {},
     "output_type": "display_data"
    },
    {
     "name": "stdout",
     "output_type": "stream",
     "text": [
      "22.05000000000003\n"
     ]
    },
    {
     "data": {
      "text/markdown": [
       "##### Accuracy : 0.6981"
      ],
      "text/plain": [
       "<IPython.core.display.Markdown object>"
      ]
     },
     "metadata": {},
     "output_type": "display_data"
    },
    {
     "name": "stdout",
     "output_type": "stream",
     "text": [
      "22.10000000000003\n"
     ]
    },
    {
     "data": {
      "text/markdown": [
       "##### Accuracy : 0.6981"
      ],
      "text/plain": [
       "<IPython.core.display.Markdown object>"
      ]
     },
     "metadata": {},
     "output_type": "display_data"
    },
    {
     "name": "stdout",
     "output_type": "stream",
     "text": [
      "22.15000000000003\n"
     ]
    },
    {
     "data": {
      "text/markdown": [
       "##### Accuracy : 0.6982"
      ],
      "text/plain": [
       "<IPython.core.display.Markdown object>"
      ]
     },
     "metadata": {},
     "output_type": "display_data"
    },
    {
     "name": "stdout",
     "output_type": "stream",
     "text": [
      "22.20000000000003\n"
     ]
    },
    {
     "data": {
      "text/markdown": [
       "##### Accuracy : 0.6982"
      ],
      "text/plain": [
       "<IPython.core.display.Markdown object>"
      ]
     },
     "metadata": {},
     "output_type": "display_data"
    },
    {
     "name": "stdout",
     "output_type": "stream",
     "text": [
      "22.250000000000032\n"
     ]
    },
    {
     "data": {
      "text/markdown": [
       "##### Accuracy : 0.6983"
      ],
      "text/plain": [
       "<IPython.core.display.Markdown object>"
      ]
     },
     "metadata": {},
     "output_type": "display_data"
    },
    {
     "name": "stdout",
     "output_type": "stream",
     "text": [
      "22.300000000000033\n"
     ]
    },
    {
     "data": {
      "text/markdown": [
       "##### Accuracy : 0.6979"
      ],
      "text/plain": [
       "<IPython.core.display.Markdown object>"
      ]
     },
     "metadata": {},
     "output_type": "display_data"
    },
    {
     "name": "stdout",
     "output_type": "stream",
     "text": [
      "22.350000000000033\n"
     ]
    },
    {
     "data": {
      "text/markdown": [
       "##### Accuracy : 0.6979"
      ],
      "text/plain": [
       "<IPython.core.display.Markdown object>"
      ]
     },
     "metadata": {},
     "output_type": "display_data"
    },
    {
     "name": "stdout",
     "output_type": "stream",
     "text": [
      "22.400000000000034\n"
     ]
    },
    {
     "data": {
      "text/markdown": [
       "##### Accuracy : 0.6979"
      ],
      "text/plain": [
       "<IPython.core.display.Markdown object>"
      ]
     },
     "metadata": {},
     "output_type": "display_data"
    },
    {
     "name": "stdout",
     "output_type": "stream",
     "text": [
      "22.450000000000035\n"
     ]
    },
    {
     "data": {
      "text/markdown": [
       "##### Accuracy : 0.6978"
      ],
      "text/plain": [
       "<IPython.core.display.Markdown object>"
      ]
     },
     "metadata": {},
     "output_type": "display_data"
    },
    {
     "name": "stdout",
     "output_type": "stream",
     "text": [
      "22.500000000000036\n"
     ]
    },
    {
     "data": {
      "text/markdown": [
       "##### Accuracy : 0.6978"
      ],
      "text/plain": [
       "<IPython.core.display.Markdown object>"
      ]
     },
     "metadata": {},
     "output_type": "display_data"
    },
    {
     "name": "stdout",
     "output_type": "stream",
     "text": [
      "22.550000000000036\n"
     ]
    },
    {
     "data": {
      "text/markdown": [
       "##### Accuracy : 0.6978"
      ],
      "text/plain": [
       "<IPython.core.display.Markdown object>"
      ]
     },
     "metadata": {},
     "output_type": "display_data"
    },
    {
     "name": "stdout",
     "output_type": "stream",
     "text": [
      "22.600000000000037\n"
     ]
    },
    {
     "data": {
      "text/markdown": [
       "##### Accuracy : 0.6978"
      ],
      "text/plain": [
       "<IPython.core.display.Markdown object>"
      ]
     },
     "metadata": {},
     "output_type": "display_data"
    },
    {
     "name": "stdout",
     "output_type": "stream",
     "text": [
      "22.650000000000038\n"
     ]
    },
    {
     "data": {
      "text/markdown": [
       "##### Accuracy : 0.698"
      ],
      "text/plain": [
       "<IPython.core.display.Markdown object>"
      ]
     },
     "metadata": {},
     "output_type": "display_data"
    },
    {
     "name": "stdout",
     "output_type": "stream",
     "text": [
      "22.70000000000004\n"
     ]
    },
    {
     "data": {
      "text/markdown": [
       "##### Accuracy : 0.698"
      ],
      "text/plain": [
       "<IPython.core.display.Markdown object>"
      ]
     },
     "metadata": {},
     "output_type": "display_data"
    },
    {
     "name": "stdout",
     "output_type": "stream",
     "text": [
      "22.75000000000004\n"
     ]
    },
    {
     "data": {
      "text/markdown": [
       "##### Accuracy : 0.698"
      ],
      "text/plain": [
       "<IPython.core.display.Markdown object>"
      ]
     },
     "metadata": {},
     "output_type": "display_data"
    },
    {
     "name": "stdout",
     "output_type": "stream",
     "text": [
      "22.80000000000004\n"
     ]
    },
    {
     "data": {
      "text/markdown": [
       "##### Accuracy : 0.698"
      ],
      "text/plain": [
       "<IPython.core.display.Markdown object>"
      ]
     },
     "metadata": {},
     "output_type": "display_data"
    },
    {
     "name": "stdout",
     "output_type": "stream",
     "text": [
      "22.85000000000004\n"
     ]
    },
    {
     "data": {
      "text/markdown": [
       "##### Accuracy : 0.6981"
      ],
      "text/plain": [
       "<IPython.core.display.Markdown object>"
      ]
     },
     "metadata": {},
     "output_type": "display_data"
    },
    {
     "name": "stdout",
     "output_type": "stream",
     "text": [
      "22.90000000000004\n"
     ]
    },
    {
     "data": {
      "text/markdown": [
       "##### Accuracy : 0.6982"
      ],
      "text/plain": [
       "<IPython.core.display.Markdown object>"
      ]
     },
     "metadata": {},
     "output_type": "display_data"
    },
    {
     "name": "stdout",
     "output_type": "stream",
     "text": [
      "22.950000000000042\n"
     ]
    },
    {
     "data": {
      "text/markdown": [
       "##### Accuracy : 0.6982"
      ],
      "text/plain": [
       "<IPython.core.display.Markdown object>"
      ]
     },
     "metadata": {},
     "output_type": "display_data"
    },
    {
     "name": "stdout",
     "output_type": "stream",
     "text": [
      "23.000000000000043\n"
     ]
    },
    {
     "data": {
      "text/markdown": [
       "##### Accuracy : 0.6982"
      ],
      "text/plain": [
       "<IPython.core.display.Markdown object>"
      ]
     },
     "metadata": {},
     "output_type": "display_data"
    },
    {
     "name": "stdout",
     "output_type": "stream",
     "text": [
      "23.050000000000043\n"
     ]
    },
    {
     "data": {
      "text/markdown": [
       "##### Accuracy : 0.6982"
      ],
      "text/plain": [
       "<IPython.core.display.Markdown object>"
      ]
     },
     "metadata": {},
     "output_type": "display_data"
    },
    {
     "name": "stdout",
     "output_type": "stream",
     "text": [
      "23.100000000000044\n"
     ]
    },
    {
     "data": {
      "text/markdown": [
       "##### Accuracy : 0.698"
      ],
      "text/plain": [
       "<IPython.core.display.Markdown object>"
      ]
     },
     "metadata": {},
     "output_type": "display_data"
    },
    {
     "name": "stdout",
     "output_type": "stream",
     "text": [
      "23.150000000000045\n"
     ]
    },
    {
     "data": {
      "text/markdown": [
       "##### Accuracy : 0.6981"
      ],
      "text/plain": [
       "<IPython.core.display.Markdown object>"
      ]
     },
     "metadata": {},
     "output_type": "display_data"
    },
    {
     "name": "stdout",
     "output_type": "stream",
     "text": [
      "23.200000000000045\n"
     ]
    },
    {
     "data": {
      "text/markdown": [
       "##### Accuracy : 0.6981"
      ],
      "text/plain": [
       "<IPython.core.display.Markdown object>"
      ]
     },
     "metadata": {},
     "output_type": "display_data"
    },
    {
     "name": "stdout",
     "output_type": "stream",
     "text": [
      "23.250000000000046\n"
     ]
    },
    {
     "data": {
      "text/markdown": [
       "##### Accuracy : 0.6981"
      ],
      "text/plain": [
       "<IPython.core.display.Markdown object>"
      ]
     },
     "metadata": {},
     "output_type": "display_data"
    },
    {
     "name": "stdout",
     "output_type": "stream",
     "text": [
      "23.300000000000047\n"
     ]
    },
    {
     "data": {
      "text/markdown": [
       "##### Accuracy : 0.6981"
      ],
      "text/plain": [
       "<IPython.core.display.Markdown object>"
      ]
     },
     "metadata": {},
     "output_type": "display_data"
    },
    {
     "name": "stdout",
     "output_type": "stream",
     "text": [
      "23.350000000000048\n"
     ]
    },
    {
     "data": {
      "text/markdown": [
       "##### Accuracy : 0.6982"
      ],
      "text/plain": [
       "<IPython.core.display.Markdown object>"
      ]
     },
     "metadata": {},
     "output_type": "display_data"
    },
    {
     "name": "stdout",
     "output_type": "stream",
     "text": [
      "23.40000000000005\n"
     ]
    },
    {
     "data": {
      "text/markdown": [
       "##### Accuracy : 0.6982"
      ],
      "text/plain": [
       "<IPython.core.display.Markdown object>"
      ]
     },
     "metadata": {},
     "output_type": "display_data"
    },
    {
     "name": "stdout",
     "output_type": "stream",
     "text": [
      "23.45000000000005\n"
     ]
    },
    {
     "data": {
      "text/markdown": [
       "##### Accuracy : 0.6983"
      ],
      "text/plain": [
       "<IPython.core.display.Markdown object>"
      ]
     },
     "metadata": {},
     "output_type": "display_data"
    },
    {
     "name": "stdout",
     "output_type": "stream",
     "text": [
      "23.50000000000005\n"
     ]
    },
    {
     "data": {
      "text/markdown": [
       "##### Accuracy : 0.6984"
      ],
      "text/plain": [
       "<IPython.core.display.Markdown object>"
      ]
     },
     "metadata": {},
     "output_type": "display_data"
    },
    {
     "name": "stdout",
     "output_type": "stream",
     "text": [
      "23.55000000000005\n"
     ]
    },
    {
     "data": {
      "text/markdown": [
       "##### Accuracy : 0.6984"
      ],
      "text/plain": [
       "<IPython.core.display.Markdown object>"
      ]
     },
     "metadata": {},
     "output_type": "display_data"
    },
    {
     "name": "stdout",
     "output_type": "stream",
     "text": [
      "23.60000000000005\n"
     ]
    },
    {
     "data": {
      "text/markdown": [
       "##### Accuracy : 0.6984"
      ],
      "text/plain": [
       "<IPython.core.display.Markdown object>"
      ]
     },
     "metadata": {},
     "output_type": "display_data"
    },
    {
     "name": "stdout",
     "output_type": "stream",
     "text": [
      "23.650000000000052\n"
     ]
    },
    {
     "data": {
      "text/markdown": [
       "##### Accuracy : 0.6983"
      ],
      "text/plain": [
       "<IPython.core.display.Markdown object>"
      ]
     },
     "metadata": {},
     "output_type": "display_data"
    },
    {
     "name": "stdout",
     "output_type": "stream",
     "text": [
      "23.700000000000053\n"
     ]
    },
    {
     "data": {
      "text/markdown": [
       "##### Accuracy : 0.6983"
      ],
      "text/plain": [
       "<IPython.core.display.Markdown object>"
      ]
     },
     "metadata": {},
     "output_type": "display_data"
    },
    {
     "name": "stdout",
     "output_type": "stream",
     "text": [
      "23.750000000000053\n"
     ]
    },
    {
     "data": {
      "text/markdown": [
       "##### Accuracy : 0.6983"
      ],
      "text/plain": [
       "<IPython.core.display.Markdown object>"
      ]
     },
     "metadata": {},
     "output_type": "display_data"
    },
    {
     "name": "stdout",
     "output_type": "stream",
     "text": [
      "23.800000000000054\n"
     ]
    },
    {
     "data": {
      "text/markdown": [
       "##### Accuracy : 0.6983"
      ],
      "text/plain": [
       "<IPython.core.display.Markdown object>"
      ]
     },
     "metadata": {},
     "output_type": "display_data"
    },
    {
     "name": "stdout",
     "output_type": "stream",
     "text": [
      "23.850000000000055\n"
     ]
    },
    {
     "data": {
      "text/markdown": [
       "##### Accuracy : 0.6983"
      ],
      "text/plain": [
       "<IPython.core.display.Markdown object>"
      ]
     },
     "metadata": {},
     "output_type": "display_data"
    },
    {
     "name": "stdout",
     "output_type": "stream",
     "text": [
      "23.900000000000055\n"
     ]
    },
    {
     "data": {
      "text/markdown": [
       "##### Accuracy : 0.6982"
      ],
      "text/plain": [
       "<IPython.core.display.Markdown object>"
      ]
     },
     "metadata": {},
     "output_type": "display_data"
    },
    {
     "name": "stdout",
     "output_type": "stream",
     "text": [
      "23.950000000000056\n"
     ]
    },
    {
     "data": {
      "text/markdown": [
       "##### Accuracy : 0.6983"
      ],
      "text/plain": [
       "<IPython.core.display.Markdown object>"
      ]
     },
     "metadata": {},
     "output_type": "display_data"
    },
    {
     "name": "stdout",
     "output_type": "stream",
     "text": [
      "24.000000000000057\n"
     ]
    },
    {
     "data": {
      "text/markdown": [
       "##### Accuracy : 0.6983"
      ],
      "text/plain": [
       "<IPython.core.display.Markdown object>"
      ]
     },
     "metadata": {},
     "output_type": "display_data"
    },
    {
     "name": "stdout",
     "output_type": "stream",
     "text": [
      "24.050000000000058\n"
     ]
    },
    {
     "data": {
      "text/markdown": [
       "##### Accuracy : 0.698"
      ],
      "text/plain": [
       "<IPython.core.display.Markdown object>"
      ]
     },
     "metadata": {},
     "output_type": "display_data"
    },
    {
     "name": "stdout",
     "output_type": "stream",
     "text": [
      "24.10000000000006\n"
     ]
    },
    {
     "data": {
      "text/markdown": [
       "##### Accuracy : 0.6979"
      ],
      "text/plain": [
       "<IPython.core.display.Markdown object>"
      ]
     },
     "metadata": {},
     "output_type": "display_data"
    },
    {
     "name": "stdout",
     "output_type": "stream",
     "text": [
      "24.15000000000006\n"
     ]
    },
    {
     "data": {
      "text/markdown": [
       "##### Accuracy : 0.6979"
      ],
      "text/plain": [
       "<IPython.core.display.Markdown object>"
      ]
     },
     "metadata": {},
     "output_type": "display_data"
    },
    {
     "name": "stdout",
     "output_type": "stream",
     "text": [
      "24.20000000000006\n"
     ]
    },
    {
     "data": {
      "text/markdown": [
       "##### Accuracy : 0.698"
      ],
      "text/plain": [
       "<IPython.core.display.Markdown object>"
      ]
     },
     "metadata": {},
     "output_type": "display_data"
    },
    {
     "name": "stdout",
     "output_type": "stream",
     "text": [
      "24.25000000000006\n"
     ]
    },
    {
     "data": {
      "text/markdown": [
       "##### Accuracy : 0.698"
      ],
      "text/plain": [
       "<IPython.core.display.Markdown object>"
      ]
     },
     "metadata": {},
     "output_type": "display_data"
    },
    {
     "name": "stdout",
     "output_type": "stream",
     "text": [
      "24.30000000000006\n"
     ]
    },
    {
     "data": {
      "text/markdown": [
       "##### Accuracy : 0.6979"
      ],
      "text/plain": [
       "<IPython.core.display.Markdown object>"
      ]
     },
     "metadata": {},
     "output_type": "display_data"
    },
    {
     "name": "stdout",
     "output_type": "stream",
     "text": [
      "24.350000000000062\n"
     ]
    },
    {
     "data": {
      "text/markdown": [
       "##### Accuracy : 0.698"
      ],
      "text/plain": [
       "<IPython.core.display.Markdown object>"
      ]
     },
     "metadata": {},
     "output_type": "display_data"
    },
    {
     "name": "stdout",
     "output_type": "stream",
     "text": [
      "24.400000000000063\n"
     ]
    },
    {
     "data": {
      "text/markdown": [
       "##### Accuracy : 0.6979"
      ],
      "text/plain": [
       "<IPython.core.display.Markdown object>"
      ]
     },
     "metadata": {},
     "output_type": "display_data"
    },
    {
     "name": "stdout",
     "output_type": "stream",
     "text": [
      "24.450000000000063\n"
     ]
    },
    {
     "data": {
      "text/markdown": [
       "##### Accuracy : 0.6979"
      ],
      "text/plain": [
       "<IPython.core.display.Markdown object>"
      ]
     },
     "metadata": {},
     "output_type": "display_data"
    },
    {
     "name": "stdout",
     "output_type": "stream",
     "text": [
      "24.500000000000064\n"
     ]
    },
    {
     "data": {
      "text/markdown": [
       "##### Accuracy : 0.6976"
      ],
      "text/plain": [
       "<IPython.core.display.Markdown object>"
      ]
     },
     "metadata": {},
     "output_type": "display_data"
    },
    {
     "name": "stdout",
     "output_type": "stream",
     "text": [
      "24.550000000000065\n"
     ]
    },
    {
     "data": {
      "text/markdown": [
       "##### Accuracy : 0.6976"
      ],
      "text/plain": [
       "<IPython.core.display.Markdown object>"
      ]
     },
     "metadata": {},
     "output_type": "display_data"
    },
    {
     "name": "stdout",
     "output_type": "stream",
     "text": [
      "24.600000000000065\n"
     ]
    },
    {
     "data": {
      "text/markdown": [
       "##### Accuracy : 0.6976"
      ],
      "text/plain": [
       "<IPython.core.display.Markdown object>"
      ]
     },
     "metadata": {},
     "output_type": "display_data"
    },
    {
     "name": "stdout",
     "output_type": "stream",
     "text": [
      "24.650000000000066\n"
     ]
    },
    {
     "data": {
      "text/markdown": [
       "##### Accuracy : 0.6974"
      ],
      "text/plain": [
       "<IPython.core.display.Markdown object>"
      ]
     },
     "metadata": {},
     "output_type": "display_data"
    },
    {
     "name": "stdout",
     "output_type": "stream",
     "text": [
      "24.700000000000067\n"
     ]
    },
    {
     "data": {
      "text/markdown": [
       "##### Accuracy : 0.6976"
      ],
      "text/plain": [
       "<IPython.core.display.Markdown object>"
      ]
     },
     "metadata": {},
     "output_type": "display_data"
    },
    {
     "name": "stdout",
     "output_type": "stream",
     "text": [
      "24.750000000000068\n"
     ]
    },
    {
     "data": {
      "text/markdown": [
       "##### Accuracy : 0.6972"
      ],
      "text/plain": [
       "<IPython.core.display.Markdown object>"
      ]
     },
     "metadata": {},
     "output_type": "display_data"
    },
    {
     "name": "stdout",
     "output_type": "stream",
     "text": [
      "24.800000000000068\n"
     ]
    },
    {
     "data": {
      "text/markdown": [
       "##### Accuracy : 0.6972"
      ],
      "text/plain": [
       "<IPython.core.display.Markdown object>"
      ]
     },
     "metadata": {},
     "output_type": "display_data"
    },
    {
     "name": "stdout",
     "output_type": "stream",
     "text": [
      "24.85000000000007\n"
     ]
    },
    {
     "data": {
      "text/markdown": [
       "##### Accuracy : 0.6972"
      ],
      "text/plain": [
       "<IPython.core.display.Markdown object>"
      ]
     },
     "metadata": {},
     "output_type": "display_data"
    },
    {
     "name": "stdout",
     "output_type": "stream",
     "text": [
      "24.90000000000007\n"
     ]
    },
    {
     "data": {
      "text/markdown": [
       "##### Accuracy : 0.6972"
      ],
      "text/plain": [
       "<IPython.core.display.Markdown object>"
      ]
     },
     "metadata": {},
     "output_type": "display_data"
    },
    {
     "name": "stdout",
     "output_type": "stream",
     "text": [
      "24.95000000000007\n"
     ]
    }
   ],
   "source": [
    "for i in alpha:\n",
    "    model_nb_dd_one_01 = fitNaiveBayesModel_smoothing(X, y, i)\n",
    "    y_pred_dd_one = model_nb_dd_one_01.predict(X)\n",
    "    af.getAccuracy(y, y_pred_dd_one, len(X))\n",
    "    print(i)"
   ]
  },
  {
   "cell_type": "code",
   "execution_count": 440,
   "metadata": {},
   "outputs": [
    {
     "name": "stdout",
     "output_type": "stream",
     "text": [
      "0.6928343322219231\n"
     ]
    },
    {
     "data": {
      "text/plain": [
       "0.6928343322219231"
      ]
     },
     "execution_count": 440,
     "metadata": {},
     "output_type": "execute_result"
    }
   ],
   "source": [
    "cal_average_of_accuracy(vn_dd_one, vn_dd_more_than_one, [0.7335, 0.5813, 0.6984])"
   ]
  },
  {
   "cell_type": "code",
   "execution_count": null,
   "metadata": {},
   "outputs": [],
   "source": []
  },
  {
   "cell_type": "markdown",
   "metadata": {},
   "source": [
    "# dd feature 1 fl만 사용"
   ]
  },
  {
   "cell_type": "code",
   "execution_count": 441,
   "metadata": {},
   "outputs": [],
   "source": [
    "df_to_test = get_df_has_specified_vn_list(vn_dd_one, df=df_train_fl)"
   ]
  },
  {
   "cell_type": "code",
   "execution_count": 442,
   "metadata": {
    "scrolled": true
   },
   "outputs": [
    {
     "data": {
      "text/markdown": [
       "##### Accuracy : 0.8307, smoothing : 0.0"
      ],
      "text/plain": [
       "<IPython.core.display.Markdown object>"
      ]
     },
     "metadata": {},
     "output_type": "display_data"
    },
    {
     "data": {
      "text/markdown": [
       "##### Accuracy : 0.8334, smoothing : 0.01"
      ],
      "text/plain": [
       "<IPython.core.display.Markdown object>"
      ]
     },
     "metadata": {},
     "output_type": "display_data"
    },
    {
     "data": {
      "text/markdown": [
       "##### Accuracy : 0.8349, smoothing : 0.02"
      ],
      "text/plain": [
       "<IPython.core.display.Markdown object>"
      ]
     },
     "metadata": {},
     "output_type": "display_data"
    },
    {
     "data": {
      "text/markdown": [
       "##### Accuracy : 0.8366, smoothing : 0.03"
      ],
      "text/plain": [
       "<IPython.core.display.Markdown object>"
      ]
     },
     "metadata": {},
     "output_type": "display_data"
    },
    {
     "data": {
      "text/markdown": [
       "##### Accuracy : 0.8377, smoothing : 0.04"
      ],
      "text/plain": [
       "<IPython.core.display.Markdown object>"
      ]
     },
     "metadata": {},
     "output_type": "display_data"
    },
    {
     "data": {
      "text/markdown": [
       "##### Accuracy : 0.8391, smoothing : 0.05"
      ],
      "text/plain": [
       "<IPython.core.display.Markdown object>"
      ]
     },
     "metadata": {},
     "output_type": "display_data"
    },
    {
     "data": {
      "text/markdown": [
       "##### Accuracy : 0.8404, smoothing : 0.06"
      ],
      "text/plain": [
       "<IPython.core.display.Markdown object>"
      ]
     },
     "metadata": {},
     "output_type": "display_data"
    },
    {
     "data": {
      "text/markdown": [
       "##### Accuracy : 0.8414, smoothing : 0.07"
      ],
      "text/plain": [
       "<IPython.core.display.Markdown object>"
      ]
     },
     "metadata": {},
     "output_type": "display_data"
    },
    {
     "data": {
      "text/markdown": [
       "##### Accuracy : 0.8418, smoothing : 0.08"
      ],
      "text/plain": [
       "<IPython.core.display.Markdown object>"
      ]
     },
     "metadata": {},
     "output_type": "display_data"
    },
    {
     "data": {
      "text/markdown": [
       "##### Accuracy : 0.842, smoothing : 0.09"
      ],
      "text/plain": [
       "<IPython.core.display.Markdown object>"
      ]
     },
     "metadata": {},
     "output_type": "display_data"
    },
    {
     "data": {
      "text/markdown": [
       "##### Accuracy : 0.8421, smoothing : 0.1"
      ],
      "text/plain": [
       "<IPython.core.display.Markdown object>"
      ]
     },
     "metadata": {},
     "output_type": "display_data"
    },
    {
     "data": {
      "text/markdown": [
       "##### Accuracy : 0.8427, smoothing : 0.11"
      ],
      "text/plain": [
       "<IPython.core.display.Markdown object>"
      ]
     },
     "metadata": {},
     "output_type": "display_data"
    },
    {
     "data": {
      "text/markdown": [
       "##### Accuracy : 0.8428, smoothing : 0.12"
      ],
      "text/plain": [
       "<IPython.core.display.Markdown object>"
      ]
     },
     "metadata": {},
     "output_type": "display_data"
    },
    {
     "data": {
      "text/markdown": [
       "##### Accuracy : 0.8427, smoothing : 0.13"
      ],
      "text/plain": [
       "<IPython.core.display.Markdown object>"
      ]
     },
     "metadata": {},
     "output_type": "display_data"
    },
    {
     "data": {
      "text/markdown": [
       "##### Accuracy : 0.8425, smoothing : 0.14"
      ],
      "text/plain": [
       "<IPython.core.display.Markdown object>"
      ]
     },
     "metadata": {},
     "output_type": "display_data"
    },
    {
     "data": {
      "text/markdown": [
       "##### Accuracy : 0.8426, smoothing : 0.15"
      ],
      "text/plain": [
       "<IPython.core.display.Markdown object>"
      ]
     },
     "metadata": {},
     "output_type": "display_data"
    },
    {
     "data": {
      "text/markdown": [
       "## Best_score : 0.8428, Alpha : 0.12"
      ],
      "text/plain": [
       "<IPython.core.display.Markdown object>"
      ]
     },
     "metadata": {},
     "output_type": "display_data"
    }
   ],
   "source": [
    "test_multinomial(df_to_test)"
   ]
  },
  {
   "cell_type": "markdown",
   "metadata": {},
   "source": [
    "# dd feature 2 fl만 사용"
   ]
  },
  {
   "cell_type": "code",
   "execution_count": 443,
   "metadata": {},
   "outputs": [],
   "source": [
    "df_to_test = get_df_has_specified_vn_list(vn_dd_more_than_one, df=df_train_fl)"
   ]
  },
  {
   "cell_type": "code",
   "execution_count": 444,
   "metadata": {
    "scrolled": true
   },
   "outputs": [
    {
     "data": {
      "text/markdown": [
       "##### Accuracy : 0.8243, smoothing : 0.0"
      ],
      "text/plain": [
       "<IPython.core.display.Markdown object>"
      ]
     },
     "metadata": {},
     "output_type": "display_data"
    },
    {
     "data": {
      "text/markdown": [
       "##### Accuracy : 0.8257, smoothing : 0.01"
      ],
      "text/plain": [
       "<IPython.core.display.Markdown object>"
      ]
     },
     "metadata": {},
     "output_type": "display_data"
    },
    {
     "data": {
      "text/markdown": [
       "##### Accuracy : 0.8254, smoothing : 0.02"
      ],
      "text/plain": [
       "<IPython.core.display.Markdown object>"
      ]
     },
     "metadata": {},
     "output_type": "display_data"
    },
    {
     "data": {
      "text/markdown": [
       "##### Accuracy : 0.822, smoothing : 0.03"
      ],
      "text/plain": [
       "<IPython.core.display.Markdown object>"
      ]
     },
     "metadata": {},
     "output_type": "display_data"
    },
    {
     "data": {
      "text/markdown": [
       "##### Accuracy : 0.8186, smoothing : 0.04"
      ],
      "text/plain": [
       "<IPython.core.display.Markdown object>"
      ]
     },
     "metadata": {},
     "output_type": "display_data"
    },
    {
     "data": {
      "text/markdown": [
       "##### Accuracy : 0.8136, smoothing : 0.05"
      ],
      "text/plain": [
       "<IPython.core.display.Markdown object>"
      ]
     },
     "metadata": {},
     "output_type": "display_data"
    },
    {
     "data": {
      "text/markdown": [
       "##### Accuracy : 0.8092, smoothing : 0.06"
      ],
      "text/plain": [
       "<IPython.core.display.Markdown object>"
      ]
     },
     "metadata": {},
     "output_type": "display_data"
    },
    {
     "data": {
      "text/markdown": [
       "## Best_score : 0.8257, Alpha : 0.01"
      ],
      "text/plain": [
       "<IPython.core.display.Markdown object>"
      ]
     },
     "metadata": {},
     "output_type": "display_data"
    }
   ],
   "source": [
    "test_multinomial(df_to_test)"
   ]
  },
  {
   "cell_type": "markdown",
   "metadata": {},
   "source": [
    "# dd feature 3 fl만 사용"
   ]
  },
  {
   "cell_type": "code",
   "execution_count": 446,
   "metadata": {},
   "outputs": [],
   "source": [
    "df_to_test = get_df_has_specified_vn_list(vn_dd_3, is_in = False, df=df_train_fl)"
   ]
  },
  {
   "cell_type": "code",
   "execution_count": 447,
   "metadata": {},
   "outputs": [
    {
     "data": {
      "text/markdown": [
       "##### Accuracy : 0.7123, smoothing : 0.0"
      ],
      "text/plain": [
       "<IPython.core.display.Markdown object>"
      ]
     },
     "metadata": {},
     "output_type": "display_data"
    },
    {
     "data": {
      "text/markdown": [
       "##### Accuracy : 0.6932, smoothing : 0.01"
      ],
      "text/plain": [
       "<IPython.core.display.Markdown object>"
      ]
     },
     "metadata": {},
     "output_type": "display_data"
    },
    {
     "data": {
      "text/markdown": [
       "##### Accuracy : 0.6876, smoothing : 0.02"
      ],
      "text/plain": [
       "<IPython.core.display.Markdown object>"
      ]
     },
     "metadata": {},
     "output_type": "display_data"
    },
    {
     "data": {
      "text/markdown": [
       "##### Accuracy : 0.6838, smoothing : 0.03"
      ],
      "text/plain": [
       "<IPython.core.display.Markdown object>"
      ]
     },
     "metadata": {},
     "output_type": "display_data"
    },
    {
     "data": {
      "text/markdown": [
       "##### Accuracy : 0.6808, smoothing : 0.04"
      ],
      "text/plain": [
       "<IPython.core.display.Markdown object>"
      ]
     },
     "metadata": {},
     "output_type": "display_data"
    },
    {
     "data": {
      "text/markdown": [
       "##### Accuracy : 0.6781, smoothing : 0.05"
      ],
      "text/plain": [
       "<IPython.core.display.Markdown object>"
      ]
     },
     "metadata": {},
     "output_type": "display_data"
    },
    {
     "data": {
      "text/markdown": [
       "## Best_score : 0.7123, Alpha : 0.0"
      ],
      "text/plain": [
       "<IPython.core.display.Markdown object>"
      ]
     },
     "metadata": {},
     "output_type": "display_data"
    }
   ],
   "source": [
    "test_multinomial(df_to_test)"
   ]
  },
  {
   "cell_type": "code",
   "execution_count": 448,
   "metadata": {},
   "outputs": [
    {
     "name": "stdout",
     "output_type": "stream",
     "text": [
      "0.7647850394516121\n"
     ]
    },
    {
     "data": {
      "text/plain": [
       "0.7647850394516121"
      ]
     },
     "execution_count": 448,
     "metadata": {},
     "output_type": "execute_result"
    }
   ],
   "source": [
    "cal_average_of_accuracy(vn_dd_one, vn_dd_more_than_one, [0.8428, 0.8257, 0.7123])"
   ]
  },
  {
   "cell_type": "code",
   "execution_count": null,
   "metadata": {},
   "outputs": [],
   "source": []
  },
  {
   "cell_type": "code",
   "execution_count": null,
   "metadata": {},
   "outputs": [],
   "source": []
  },
  {
   "cell_type": "markdown",
   "metadata": {},
   "source": [
    "# feature fl 1"
   ]
  },
  {
   "cell_type": "code",
   "execution_count": 316,
   "metadata": {},
   "outputs": [
    {
     "name": "stdout",
     "output_type": "stream",
     "text": [
      "Concat 완료.\n"
     ]
    }
   ],
   "source": [
    "df_to_test = get_df_has_specified_vn_list(vn_fl_one, df_dd=df_train_dd, df_fl=df_train_fl, is_need_to_make_df=True)"
   ]
  },
  {
   "cell_type": "code",
   "execution_count": 317,
   "metadata": {
    "scrolled": true
   },
   "outputs": [
    {
     "data": {
      "text/markdown": [
       "##### Accuracy : 0.8923, smoothing : 0.0"
      ],
      "text/plain": [
       "<IPython.core.display.Markdown object>"
      ]
     },
     "metadata": {},
     "output_type": "display_data"
    },
    {
     "data": {
      "text/markdown": [
       "##### Accuracy : 0.9014, smoothing : 0.01"
      ],
      "text/plain": [
       "<IPython.core.display.Markdown object>"
      ]
     },
     "metadata": {},
     "output_type": "display_data"
    },
    {
     "data": {
      "text/markdown": [
       "##### Accuracy : 0.9043, smoothing : 0.02"
      ],
      "text/plain": [
       "<IPython.core.display.Markdown object>"
      ]
     },
     "metadata": {},
     "output_type": "display_data"
    },
    {
     "data": {
      "text/markdown": [
       "##### Accuracy : 0.9069, smoothing : 0.03"
      ],
      "text/plain": [
       "<IPython.core.display.Markdown object>"
      ]
     },
     "metadata": {},
     "output_type": "display_data"
    },
    {
     "data": {
      "text/markdown": [
       "##### Accuracy : 0.9095, smoothing : 0.04"
      ],
      "text/plain": [
       "<IPython.core.display.Markdown object>"
      ]
     },
     "metadata": {},
     "output_type": "display_data"
    },
    {
     "data": {
      "text/markdown": [
       "##### Accuracy : 0.9119, smoothing : 0.05"
      ],
      "text/plain": [
       "<IPython.core.display.Markdown object>"
      ]
     },
     "metadata": {},
     "output_type": "display_data"
    },
    {
     "data": {
      "text/markdown": [
       "##### Accuracy : 0.9131, smoothing : 0.06"
      ],
      "text/plain": [
       "<IPython.core.display.Markdown object>"
      ]
     },
     "metadata": {},
     "output_type": "display_data"
    },
    {
     "data": {
      "text/markdown": [
       "##### Accuracy : 0.9146, smoothing : 0.07"
      ],
      "text/plain": [
       "<IPython.core.display.Markdown object>"
      ]
     },
     "metadata": {},
     "output_type": "display_data"
    },
    {
     "data": {
      "text/markdown": [
       "##### Accuracy : 0.9164, smoothing : 0.08"
      ],
      "text/plain": [
       "<IPython.core.display.Markdown object>"
      ]
     },
     "metadata": {},
     "output_type": "display_data"
    },
    {
     "data": {
      "text/markdown": [
       "##### Accuracy : 0.9178, smoothing : 0.09"
      ],
      "text/plain": [
       "<IPython.core.display.Markdown object>"
      ]
     },
     "metadata": {},
     "output_type": "display_data"
    },
    {
     "data": {
      "text/markdown": [
       "##### Accuracy : 0.9188, smoothing : 0.1"
      ],
      "text/plain": [
       "<IPython.core.display.Markdown object>"
      ]
     },
     "metadata": {},
     "output_type": "display_data"
    },
    {
     "data": {
      "text/markdown": [
       "##### Accuracy : 0.9202, smoothing : 0.11"
      ],
      "text/plain": [
       "<IPython.core.display.Markdown object>"
      ]
     },
     "metadata": {},
     "output_type": "display_data"
    },
    {
     "data": {
      "text/markdown": [
       "##### Accuracy : 0.9206, smoothing : 0.12"
      ],
      "text/plain": [
       "<IPython.core.display.Markdown object>"
      ]
     },
     "metadata": {},
     "output_type": "display_data"
    },
    {
     "data": {
      "text/markdown": [
       "##### Accuracy : 0.9208, smoothing : 0.13"
      ],
      "text/plain": [
       "<IPython.core.display.Markdown object>"
      ]
     },
     "metadata": {},
     "output_type": "display_data"
    },
    {
     "data": {
      "text/markdown": [
       "##### Accuracy : 0.9212, smoothing : 0.14"
      ],
      "text/plain": [
       "<IPython.core.display.Markdown object>"
      ]
     },
     "metadata": {},
     "output_type": "display_data"
    },
    {
     "data": {
      "text/markdown": [
       "##### Accuracy : 0.9212, smoothing : 0.15"
      ],
      "text/plain": [
       "<IPython.core.display.Markdown object>"
      ]
     },
     "metadata": {},
     "output_type": "display_data"
    },
    {
     "data": {
      "text/markdown": [
       "## Best_score : 0.9212, Alpha : 0.14"
      ],
      "text/plain": [
       "<IPython.core.display.Markdown object>"
      ]
     },
     "metadata": {},
     "output_type": "display_data"
    }
   ],
   "source": [
    "test_multinomial(df_to_test)"
   ]
  },
  {
   "cell_type": "code",
   "execution_count": 318,
   "metadata": {},
   "outputs": [],
   "source": [
    "alpha = np.arange(0.15, 1, 0.05)\n",
    "X, y = af.get_df_to_fit(df_to_test)"
   ]
  },
  {
   "cell_type": "code",
   "execution_count": 319,
   "metadata": {
    "scrolled": true
   },
   "outputs": [
    {
     "data": {
      "text/markdown": [
       "##### Accuracy : 0.9212"
      ],
      "text/plain": [
       "<IPython.core.display.Markdown object>"
      ]
     },
     "metadata": {},
     "output_type": "display_data"
    },
    {
     "name": "stdout",
     "output_type": "stream",
     "text": [
      "0.15\n"
     ]
    },
    {
     "data": {
      "text/markdown": [
       "##### Accuracy : 0.9205"
      ],
      "text/plain": [
       "<IPython.core.display.Markdown object>"
      ]
     },
     "metadata": {},
     "output_type": "display_data"
    },
    {
     "name": "stdout",
     "output_type": "stream",
     "text": [
      "0.2\n"
     ]
    },
    {
     "data": {
      "text/markdown": [
       "##### Accuracy : 0.9171"
      ],
      "text/plain": [
       "<IPython.core.display.Markdown object>"
      ]
     },
     "metadata": {},
     "output_type": "display_data"
    },
    {
     "name": "stdout",
     "output_type": "stream",
     "text": [
      "0.25\n"
     ]
    },
    {
     "data": {
      "text/markdown": [
       "##### Accuracy : 0.9129"
      ],
      "text/plain": [
       "<IPython.core.display.Markdown object>"
      ]
     },
     "metadata": {},
     "output_type": "display_data"
    },
    {
     "name": "stdout",
     "output_type": "stream",
     "text": [
      "0.30000000000000004\n"
     ]
    },
    {
     "data": {
      "text/markdown": [
       "##### Accuracy : 0.91"
      ],
      "text/plain": [
       "<IPython.core.display.Markdown object>"
      ]
     },
     "metadata": {},
     "output_type": "display_data"
    },
    {
     "name": "stdout",
     "output_type": "stream",
     "text": [
      "0.3500000000000001\n"
     ]
    },
    {
     "data": {
      "text/markdown": [
       "##### Accuracy : 0.907"
      ],
      "text/plain": [
       "<IPython.core.display.Markdown object>"
      ]
     },
     "metadata": {},
     "output_type": "display_data"
    },
    {
     "name": "stdout",
     "output_type": "stream",
     "text": [
      "0.40000000000000013\n"
     ]
    },
    {
     "data": {
      "text/markdown": [
       "##### Accuracy : 0.902"
      ],
      "text/plain": [
       "<IPython.core.display.Markdown object>"
      ]
     },
     "metadata": {},
     "output_type": "display_data"
    },
    {
     "name": "stdout",
     "output_type": "stream",
     "text": [
      "0.45000000000000007\n"
     ]
    },
    {
     "data": {
      "text/markdown": [
       "##### Accuracy : 0.8984"
      ],
      "text/plain": [
       "<IPython.core.display.Markdown object>"
      ]
     },
     "metadata": {},
     "output_type": "display_data"
    },
    {
     "name": "stdout",
     "output_type": "stream",
     "text": [
      "0.5000000000000001\n"
     ]
    },
    {
     "data": {
      "text/markdown": [
       "##### Accuracy : 0.8931"
      ],
      "text/plain": [
       "<IPython.core.display.Markdown object>"
      ]
     },
     "metadata": {},
     "output_type": "display_data"
    },
    {
     "name": "stdout",
     "output_type": "stream",
     "text": [
      "0.5500000000000002\n"
     ]
    },
    {
     "data": {
      "text/markdown": [
       "##### Accuracy : 0.8897"
      ],
      "text/plain": [
       "<IPython.core.display.Markdown object>"
      ]
     },
     "metadata": {},
     "output_type": "display_data"
    },
    {
     "name": "stdout",
     "output_type": "stream",
     "text": [
      "0.6000000000000002\n"
     ]
    },
    {
     "data": {
      "text/markdown": [
       "##### Accuracy : 0.8871"
      ],
      "text/plain": [
       "<IPython.core.display.Markdown object>"
      ]
     },
     "metadata": {},
     "output_type": "display_data"
    },
    {
     "name": "stdout",
     "output_type": "stream",
     "text": [
      "0.6500000000000002\n"
     ]
    },
    {
     "data": {
      "text/markdown": [
       "##### Accuracy : 0.8843"
      ],
      "text/plain": [
       "<IPython.core.display.Markdown object>"
      ]
     },
     "metadata": {},
     "output_type": "display_data"
    },
    {
     "name": "stdout",
     "output_type": "stream",
     "text": [
      "0.7000000000000002\n"
     ]
    },
    {
     "data": {
      "text/markdown": [
       "##### Accuracy : 0.8817"
      ],
      "text/plain": [
       "<IPython.core.display.Markdown object>"
      ]
     },
     "metadata": {},
     "output_type": "display_data"
    },
    {
     "name": "stdout",
     "output_type": "stream",
     "text": [
      "0.7500000000000002\n"
     ]
    },
    {
     "data": {
      "text/markdown": [
       "##### Accuracy : 0.8781"
      ],
      "text/plain": [
       "<IPython.core.display.Markdown object>"
      ]
     },
     "metadata": {},
     "output_type": "display_data"
    },
    {
     "name": "stdout",
     "output_type": "stream",
     "text": [
      "0.8000000000000003\n"
     ]
    },
    {
     "data": {
      "text/markdown": [
       "##### Accuracy : 0.8737"
      ],
      "text/plain": [
       "<IPython.core.display.Markdown object>"
      ]
     },
     "metadata": {},
     "output_type": "display_data"
    },
    {
     "name": "stdout",
     "output_type": "stream",
     "text": [
      "0.8500000000000002\n"
     ]
    },
    {
     "data": {
      "text/markdown": [
       "##### Accuracy : 0.8721"
      ],
      "text/plain": [
       "<IPython.core.display.Markdown object>"
      ]
     },
     "metadata": {},
     "output_type": "display_data"
    },
    {
     "name": "stdout",
     "output_type": "stream",
     "text": [
      "0.9000000000000002\n"
     ]
    },
    {
     "data": {
      "text/markdown": [
       "##### Accuracy : 0.8705"
      ],
      "text/plain": [
       "<IPython.core.display.Markdown object>"
      ]
     },
     "metadata": {},
     "output_type": "display_data"
    },
    {
     "name": "stdout",
     "output_type": "stream",
     "text": [
      "0.9500000000000003\n"
     ]
    }
   ],
   "source": [
    "for i in alpha:\n",
    "    model_nb_dd_one_01 = fitNaiveBayesModel_smoothing(X, y, i)\n",
    "    y_pred_dd_one = model_nb_dd_one_01.predict(X)\n",
    "    af.getAccuracy(y, y_pred_dd_one, len(X))\n",
    "    print(i)"
   ]
  },
  {
   "cell_type": "markdown",
   "metadata": {},
   "source": [
    "# feature fl 2"
   ]
  },
  {
   "cell_type": "code",
   "execution_count": 320,
   "metadata": {},
   "outputs": [
    {
     "name": "stdout",
     "output_type": "stream",
     "text": [
      "Concat 완료.\n"
     ]
    }
   ],
   "source": [
    "df_to_test = get_df_has_specified_vn_list(vn_fl_more_than_one, df_dd=df_train_dd, df_fl=df_train_fl, is_need_to_make_df=True)"
   ]
  },
  {
   "cell_type": "code",
   "execution_count": 321,
   "metadata": {},
   "outputs": [
    {
     "data": {
      "text/markdown": [
       "##### Accuracy : 0.7325, smoothing : 0.0"
      ],
      "text/plain": [
       "<IPython.core.display.Markdown object>"
      ]
     },
     "metadata": {},
     "output_type": "display_data"
    },
    {
     "data": {
      "text/markdown": [
       "##### Accuracy : 0.7117, smoothing : 0.01"
      ],
      "text/plain": [
       "<IPython.core.display.Markdown object>"
      ]
     },
     "metadata": {},
     "output_type": "display_data"
    },
    {
     "data": {
      "text/markdown": [
       "##### Accuracy : 0.7048, smoothing : 0.02"
      ],
      "text/plain": [
       "<IPython.core.display.Markdown object>"
      ]
     },
     "metadata": {},
     "output_type": "display_data"
    },
    {
     "data": {
      "text/markdown": [
       "##### Accuracy : 0.7009, smoothing : 0.03"
      ],
      "text/plain": [
       "<IPython.core.display.Markdown object>"
      ]
     },
     "metadata": {},
     "output_type": "display_data"
    },
    {
     "data": {
      "text/markdown": [
       "##### Accuracy : 0.6981, smoothing : 0.04"
      ],
      "text/plain": [
       "<IPython.core.display.Markdown object>"
      ]
     },
     "metadata": {},
     "output_type": "display_data"
    },
    {
     "data": {
      "text/markdown": [
       "##### Accuracy : 0.6957, smoothing : 0.05"
      ],
      "text/plain": [
       "<IPython.core.display.Markdown object>"
      ]
     },
     "metadata": {},
     "output_type": "display_data"
    },
    {
     "data": {
      "text/markdown": [
       "## Best_score : 0.7325, Alpha : 0.0"
      ],
      "text/plain": [
       "<IPython.core.display.Markdown object>"
      ]
     },
     "metadata": {},
     "output_type": "display_data"
    }
   ],
   "source": [
    "test_multinomial(df_to_test)"
   ]
  },
  {
   "cell_type": "markdown",
   "metadata": {},
   "source": [
    "# feature fl 3"
   ]
  },
  {
   "cell_type": "code",
   "execution_count": 334,
   "metadata": {},
   "outputs": [],
   "source": [
    "vn_fl_3 = vn_fl_one + vn_fl_more_than_one"
   ]
  },
  {
   "cell_type": "code",
   "execution_count": 335,
   "metadata": {},
   "outputs": [
    {
     "name": "stdout",
     "output_type": "stream",
     "text": [
      "Concat 완료.\n"
     ]
    }
   ],
   "source": [
    "df_to_test = get_df_has_specified_vn_list(vn_fl_3, is_in=False, df_dd=df_train_dd, df_fl=df_train_fl, is_need_to_make_df=True)"
   ]
  },
  {
   "cell_type": "code",
   "execution_count": 336,
   "metadata": {},
   "outputs": [
    {
     "data": {
      "text/markdown": [
       "##### Accuracy : 0.7369, smoothing : 0.0"
      ],
      "text/plain": [
       "<IPython.core.display.Markdown object>"
      ]
     },
     "metadata": {},
     "output_type": "display_data"
    },
    {
     "data": {
      "text/markdown": [
       "##### Accuracy : 0.6908, smoothing : 0.01"
      ],
      "text/plain": [
       "<IPython.core.display.Markdown object>"
      ]
     },
     "metadata": {},
     "output_type": "display_data"
    },
    {
     "data": {
      "text/markdown": [
       "##### Accuracy : 0.6833, smoothing : 0.02"
      ],
      "text/plain": [
       "<IPython.core.display.Markdown object>"
      ]
     },
     "metadata": {},
     "output_type": "display_data"
    },
    {
     "data": {
      "text/markdown": [
       "##### Accuracy : 0.678, smoothing : 0.03"
      ],
      "text/plain": [
       "<IPython.core.display.Markdown object>"
      ]
     },
     "metadata": {},
     "output_type": "display_data"
    },
    {
     "data": {
      "text/markdown": [
       "##### Accuracy : 0.6738, smoothing : 0.04"
      ],
      "text/plain": [
       "<IPython.core.display.Markdown object>"
      ]
     },
     "metadata": {},
     "output_type": "display_data"
    },
    {
     "data": {
      "text/markdown": [
       "##### Accuracy : 0.6701, smoothing : 0.05"
      ],
      "text/plain": [
       "<IPython.core.display.Markdown object>"
      ]
     },
     "metadata": {},
     "output_type": "display_data"
    },
    {
     "data": {
      "text/markdown": [
       "## Best_score : 0.7369, Alpha : 0.0"
      ],
      "text/plain": [
       "<IPython.core.display.Markdown object>"
      ]
     },
     "metadata": {},
     "output_type": "display_data"
    }
   ],
   "source": [
    "test_multinomial(df_to_test)"
   ]
  },
  {
   "cell_type": "code",
   "execution_count": 337,
   "metadata": {},
   "outputs": [
    {
     "name": "stdout",
     "output_type": "stream",
     "text": [
      "0.7727481754923685\n"
     ]
    },
    {
     "data": {
      "text/plain": [
       "0.7727481754923685"
      ]
     },
     "execution_count": 337,
     "metadata": {},
     "output_type": "execute_result"
    }
   ],
   "source": [
    "cal_average_of_accuracy(vn_fl_one, vn_fl_more_than_one, [0.9212, 0.7325, 0.7369])"
   ]
  },
  {
   "cell_type": "code",
   "execution_count": null,
   "metadata": {},
   "outputs": [],
   "source": []
  },
  {
   "cell_type": "markdown",
   "metadata": {},
   "source": [
    "# feature fl 오직 fl만 써서 모델 만들기."
   ]
  },
  {
   "cell_type": "code",
   "execution_count": 389,
   "metadata": {},
   "outputs": [],
   "source": [
    "df_to_test = get_df_has_specified_vn_list(vn_fl_one, df=df_train_fl)"
   ]
  },
  {
   "cell_type": "code",
   "execution_count": 390,
   "metadata": {
    "scrolled": true
   },
   "outputs": [
    {
     "data": {
      "text/markdown": [
       "##### Accuracy : 0.8388, smoothing : 0.0"
      ],
      "text/plain": [
       "<IPython.core.display.Markdown object>"
      ]
     },
     "metadata": {},
     "output_type": "display_data"
    },
    {
     "data": {
      "text/markdown": [
       "##### Accuracy : 0.8417, smoothing : 0.01"
      ],
      "text/plain": [
       "<IPython.core.display.Markdown object>"
      ]
     },
     "metadata": {},
     "output_type": "display_data"
    },
    {
     "data": {
      "text/markdown": [
       "##### Accuracy : 0.8442, smoothing : 0.02"
      ],
      "text/plain": [
       "<IPython.core.display.Markdown object>"
      ]
     },
     "metadata": {},
     "output_type": "display_data"
    },
    {
     "data": {
      "text/markdown": [
       "##### Accuracy : 0.8452, smoothing : 0.03"
      ],
      "text/plain": [
       "<IPython.core.display.Markdown object>"
      ]
     },
     "metadata": {},
     "output_type": "display_data"
    },
    {
     "data": {
      "text/markdown": [
       "##### Accuracy : 0.8456, smoothing : 0.04"
      ],
      "text/plain": [
       "<IPython.core.display.Markdown object>"
      ]
     },
     "metadata": {},
     "output_type": "display_data"
    },
    {
     "data": {
      "text/markdown": [
       "##### Accuracy : 0.8456, smoothing : 0.05"
      ],
      "text/plain": [
       "<IPython.core.display.Markdown object>"
      ]
     },
     "metadata": {},
     "output_type": "display_data"
    },
    {
     "data": {
      "text/markdown": [
       "##### Accuracy : 0.8467, smoothing : 0.06"
      ],
      "text/plain": [
       "<IPython.core.display.Markdown object>"
      ]
     },
     "metadata": {},
     "output_type": "display_data"
    },
    {
     "data": {
      "text/markdown": [
       "##### Accuracy : 0.8454, smoothing : 0.07"
      ],
      "text/plain": [
       "<IPython.core.display.Markdown object>"
      ]
     },
     "metadata": {},
     "output_type": "display_data"
    },
    {
     "data": {
      "text/markdown": [
       "##### Accuracy : 0.8451, smoothing : 0.08"
      ],
      "text/plain": [
       "<IPython.core.display.Markdown object>"
      ]
     },
     "metadata": {},
     "output_type": "display_data"
    },
    {
     "data": {
      "text/markdown": [
       "##### Accuracy : 0.8439, smoothing : 0.09"
      ],
      "text/plain": [
       "<IPython.core.display.Markdown object>"
      ]
     },
     "metadata": {},
     "output_type": "display_data"
    },
    {
     "data": {
      "text/markdown": [
       "##### Accuracy : 0.8425, smoothing : 0.1"
      ],
      "text/plain": [
       "<IPython.core.display.Markdown object>"
      ]
     },
     "metadata": {},
     "output_type": "display_data"
    },
    {
     "data": {
      "text/markdown": [
       "##### Accuracy : 0.8414, smoothing : 0.11"
      ],
      "text/plain": [
       "<IPython.core.display.Markdown object>"
      ]
     },
     "metadata": {},
     "output_type": "display_data"
    },
    {
     "data": {
      "text/markdown": [
       "## Best_score : 0.8467, Alpha : 0.06"
      ],
      "text/plain": [
       "<IPython.core.display.Markdown object>"
      ]
     },
     "metadata": {},
     "output_type": "display_data"
    }
   ],
   "source": [
    "test_multinomial(df_to_test)"
   ]
  },
  {
   "cell_type": "markdown",
   "metadata": {},
   "source": [
    "# feature 2 fl 오직 fl만 써서 모델 만들기."
   ]
  },
  {
   "cell_type": "code",
   "execution_count": 400,
   "metadata": {},
   "outputs": [],
   "source": [
    "df_to_test = get_df_has_specified_vn_list(vn_fl_more_than_one, df=df_train_fl)"
   ]
  },
  {
   "cell_type": "code",
   "execution_count": 401,
   "metadata": {},
   "outputs": [
    {
     "data": {
      "text/markdown": [
       "##### Accuracy : 0.7649, smoothing : 0.0"
      ],
      "text/plain": [
       "<IPython.core.display.Markdown object>"
      ]
     },
     "metadata": {},
     "output_type": "display_data"
    },
    {
     "data": {
      "text/markdown": [
       "##### Accuracy : 0.7623, smoothing : 0.01"
      ],
      "text/plain": [
       "<IPython.core.display.Markdown object>"
      ]
     },
     "metadata": {},
     "output_type": "display_data"
    },
    {
     "data": {
      "text/markdown": [
       "##### Accuracy : 0.7602, smoothing : 0.02"
      ],
      "text/plain": [
       "<IPython.core.display.Markdown object>"
      ]
     },
     "metadata": {},
     "output_type": "display_data"
    },
    {
     "data": {
      "text/markdown": [
       "##### Accuracy : 0.7593, smoothing : 0.03"
      ],
      "text/plain": [
       "<IPython.core.display.Markdown object>"
      ]
     },
     "metadata": {},
     "output_type": "display_data"
    },
    {
     "data": {
      "text/markdown": [
       "##### Accuracy : 0.7575, smoothing : 0.04"
      ],
      "text/plain": [
       "<IPython.core.display.Markdown object>"
      ]
     },
     "metadata": {},
     "output_type": "display_data"
    },
    {
     "data": {
      "text/markdown": [
       "##### Accuracy : 0.7568, smoothing : 0.05"
      ],
      "text/plain": [
       "<IPython.core.display.Markdown object>"
      ]
     },
     "metadata": {},
     "output_type": "display_data"
    },
    {
     "data": {
      "text/markdown": [
       "## Best_score : 0.7649, Alpha : 0.0"
      ],
      "text/plain": [
       "<IPython.core.display.Markdown object>"
      ]
     },
     "metadata": {},
     "output_type": "display_data"
    }
   ],
   "source": [
    "test_multinomial(df_to_test)"
   ]
  },
  {
   "cell_type": "markdown",
   "metadata": {},
   "source": [
    "# feature 3 fl 오직 fl만 써서 모델 만들기."
   ]
  },
  {
   "cell_type": "code",
   "execution_count": 411,
   "metadata": {},
   "outputs": [],
   "source": [
    "df_to_test = get_df_has_specified_vn_list(vn_fl_3, is_in=False, df=df_train_fl)"
   ]
  },
  {
   "cell_type": "code",
   "execution_count": 412,
   "metadata": {},
   "outputs": [
    {
     "data": {
      "text/markdown": [
       "##### Accuracy : 0.7488, smoothing : 0.0"
      ],
      "text/plain": [
       "<IPython.core.display.Markdown object>"
      ]
     },
     "metadata": {},
     "output_type": "display_data"
    },
    {
     "data": {
      "text/markdown": [
       "##### Accuracy : 0.7247, smoothing : 0.01"
      ],
      "text/plain": [
       "<IPython.core.display.Markdown object>"
      ]
     },
     "metadata": {},
     "output_type": "display_data"
    },
    {
     "data": {
      "text/markdown": [
       "##### Accuracy : 0.7186, smoothing : 0.02"
      ],
      "text/plain": [
       "<IPython.core.display.Markdown object>"
      ]
     },
     "metadata": {},
     "output_type": "display_data"
    },
    {
     "data": {
      "text/markdown": [
       "##### Accuracy : 0.7142, smoothing : 0.03"
      ],
      "text/plain": [
       "<IPython.core.display.Markdown object>"
      ]
     },
     "metadata": {},
     "output_type": "display_data"
    },
    {
     "data": {
      "text/markdown": [
       "##### Accuracy : 0.7108, smoothing : 0.04"
      ],
      "text/plain": [
       "<IPython.core.display.Markdown object>"
      ]
     },
     "metadata": {},
     "output_type": "display_data"
    },
    {
     "data": {
      "text/markdown": [
       "##### Accuracy : 0.7071, smoothing : 0.05"
      ],
      "text/plain": [
       "<IPython.core.display.Markdown object>"
      ]
     },
     "metadata": {},
     "output_type": "display_data"
    },
    {
     "data": {
      "text/markdown": [
       "## Best_score : 0.7488, Alpha : 0.0"
      ],
      "text/plain": [
       "<IPython.core.display.Markdown object>"
      ]
     },
     "metadata": {},
     "output_type": "display_data"
    }
   ],
   "source": [
    "test_multinomial(df_to_test)"
   ]
  },
  {
   "cell_type": "code",
   "execution_count": 414,
   "metadata": {},
   "outputs": [
    {
     "name": "stdout",
     "output_type": "stream",
     "text": [
      "0.7738112380143723\n"
     ]
    },
    {
     "data": {
      "text/plain": [
       "0.7738112380143723"
      ]
     },
     "execution_count": 414,
     "metadata": {},
     "output_type": "execute_result"
    }
   ],
   "source": [
    "cal_average_of_accuracy(vn_fl_one, vn_fl_more_than_one, [0.8467, 0.7649, 0.7488])"
   ]
  },
  {
   "cell_type": "markdown",
   "metadata": {},
   "source": [
    "# fl기준으로 나눈 vn경우에 1은 dd, fl로 같이 돌리고, 2, 3은 fl만 두고 돌리면 최고 점수로 0.7889이다."
   ]
  },
  {
   "cell_type": "code",
   "execution_count": 415,
   "metadata": {},
   "outputs": [
    {
     "name": "stdout",
     "output_type": "stream",
     "text": [
      "0.7888780209994408\n"
     ]
    },
    {
     "data": {
      "text/plain": [
       "0.7888780209994408"
      ]
     },
     "execution_count": 415,
     "metadata": {},
     "output_type": "execute_result"
    }
   ],
   "source": [
    "cal_average_of_accuracy(vn_fl_one, vn_fl_more_than_one, [0.9212, 0.7649, 0.7488])"
   ]
  },
  {
   "cell_type": "code",
   "execution_count": null,
   "metadata": {},
   "outputs": [],
   "source": []
  },
  {
   "cell_type": "code",
   "execution_count": null,
   "metadata": {},
   "outputs": [],
   "source": []
  },
  {
   "cell_type": "code",
   "execution_count": null,
   "metadata": {},
   "outputs": [],
   "source": []
  },
  {
   "cell_type": "code",
   "execution_count": null,
   "metadata": {},
   "outputs": [],
   "source": []
  },
  {
   "cell_type": "code",
   "execution_count": 28,
   "metadata": {},
   "outputs": [
    {
     "name": "stdout",
     "output_type": "stream",
     "text": [
      "Concat 완료.\n"
     ]
    }
   ],
   "source": [
    "df_to_test = get_df_has_specified_vn_list(vn_fl_one, df_dd=df_train_dd, df_fl=df_train_fl, is_need_to_make_df=True)"
   ]
  },
  {
   "cell_type": "code",
   "execution_count": 34,
   "metadata": {
    "scrolled": true
   },
   "outputs": [
    {
     "data": {
      "text/markdown": [
       "##### Accuracy : 0.9331, smoothing : 0.0"
      ],
      "text/plain": [
       "<IPython.core.display.Markdown object>"
      ]
     },
     "metadata": {},
     "output_type": "display_data"
    },
    {
     "data": {
      "text/markdown": [
       "##### Accuracy : 0.9372, smoothing : 0.01"
      ],
      "text/plain": [
       "<IPython.core.display.Markdown object>"
      ]
     },
     "metadata": {},
     "output_type": "display_data"
    },
    {
     "data": {
      "text/markdown": [
       "##### Accuracy : 0.9387, smoothing : 0.02"
      ],
      "text/plain": [
       "<IPython.core.display.Markdown object>"
      ]
     },
     "metadata": {},
     "output_type": "display_data"
    },
    {
     "data": {
      "text/markdown": [
       "##### Accuracy : 0.9383, smoothing : 0.03"
      ],
      "text/plain": [
       "<IPython.core.display.Markdown object>"
      ]
     },
     "metadata": {},
     "output_type": "display_data"
    },
    {
     "data": {
      "text/markdown": [
       "##### Accuracy : 0.9385, smoothing : 0.04"
      ],
      "text/plain": [
       "<IPython.core.display.Markdown object>"
      ]
     },
     "metadata": {},
     "output_type": "display_data"
    },
    {
     "data": {
      "text/markdown": [
       "##### Accuracy : 0.9374, smoothing : 0.05"
      ],
      "text/plain": [
       "<IPython.core.display.Markdown object>"
      ]
     },
     "metadata": {},
     "output_type": "display_data"
    },
    {
     "data": {
      "text/markdown": [
       "##### Accuracy : 0.9365, smoothing : 0.06"
      ],
      "text/plain": [
       "<IPython.core.display.Markdown object>"
      ]
     },
     "metadata": {},
     "output_type": "display_data"
    },
    {
     "data": {
      "text/markdown": [
       "##### Accuracy : 0.9355, smoothing : 0.07"
      ],
      "text/plain": [
       "<IPython.core.display.Markdown object>"
      ]
     },
     "metadata": {},
     "output_type": "display_data"
    },
    {
     "data": {
      "text/markdown": [
       "##### Accuracy : 0.9351, smoothing : 0.08"
      ],
      "text/plain": [
       "<IPython.core.display.Markdown object>"
      ]
     },
     "metadata": {},
     "output_type": "display_data"
    },
    {
     "data": {
      "text/markdown": [
       "## Best_score : 0.9387, Alpha : 0.02"
      ],
      "text/plain": [
       "<IPython.core.display.Markdown object>"
      ]
     },
     "metadata": {},
     "output_type": "display_data"
    }
   ],
   "source": [
    "test_multinomial(df_to_test)"
   ]
  },
  {
   "cell_type": "code",
   "execution_count": 35,
   "metadata": {},
   "outputs": [
    {
     "name": "stdout",
     "output_type": "stream",
     "text": [
      "Concat 완료.\n"
     ]
    }
   ],
   "source": [
    "df_to_test = get_df_has_specified_vn_list(vn_dd_one, df_dd=df_train_dd, df_fl=df_train_fl, is_need_to_make_df=True)"
   ]
  },
  {
   "cell_type": "code",
   "execution_count": 36,
   "metadata": {
    "scrolled": true
   },
   "outputs": [
    {
     "data": {
      "text/markdown": [
       "##### Accuracy : 0.9336, smoothing : 0.0"
      ],
      "text/plain": [
       "<IPython.core.display.Markdown object>"
      ]
     },
     "metadata": {},
     "output_type": "display_data"
    },
    {
     "data": {
      "text/markdown": [
       "##### Accuracy : 0.9377, smoothing : 0.01"
      ],
      "text/plain": [
       "<IPython.core.display.Markdown object>"
      ]
     },
     "metadata": {},
     "output_type": "display_data"
    },
    {
     "data": {
      "text/markdown": [
       "##### Accuracy : 0.9395, smoothing : 0.02"
      ],
      "text/plain": [
       "<IPython.core.display.Markdown object>"
      ]
     },
     "metadata": {},
     "output_type": "display_data"
    },
    {
     "data": {
      "text/markdown": [
       "##### Accuracy : 0.939, smoothing : 0.03"
      ],
      "text/plain": [
       "<IPython.core.display.Markdown object>"
      ]
     },
     "metadata": {},
     "output_type": "display_data"
    },
    {
     "data": {
      "text/markdown": [
       "##### Accuracy : 0.9388, smoothing : 0.04"
      ],
      "text/plain": [
       "<IPython.core.display.Markdown object>"
      ]
     },
     "metadata": {},
     "output_type": "display_data"
    },
    {
     "data": {
      "text/markdown": [
       "##### Accuracy : 0.9377, smoothing : 0.05"
      ],
      "text/plain": [
       "<IPython.core.display.Markdown object>"
      ]
     },
     "metadata": {},
     "output_type": "display_data"
    },
    {
     "data": {
      "text/markdown": [
       "##### Accuracy : 0.9367, smoothing : 0.06"
      ],
      "text/plain": [
       "<IPython.core.display.Markdown object>"
      ]
     },
     "metadata": {},
     "output_type": "display_data"
    },
    {
     "data": {
      "text/markdown": [
       "##### Accuracy : 0.9357, smoothing : 0.07"
      ],
      "text/plain": [
       "<IPython.core.display.Markdown object>"
      ]
     },
     "metadata": {},
     "output_type": "display_data"
    },
    {
     "data": {
      "text/markdown": [
       "## Best_score : 0.9395, Alpha : 0.02"
      ],
      "text/plain": [
       "<IPython.core.display.Markdown object>"
      ]
     },
     "metadata": {},
     "output_type": "display_data"
    }
   ],
   "source": [
    "test_multinomial(df_to_test)"
   ]
  },
  {
   "cell_type": "code",
   "execution_count": 142,
   "metadata": {},
   "outputs": [
    {
     "data": {
      "text/plain": [
       "(24922, 15597, 40519)"
      ]
     },
     "execution_count": 142,
     "metadata": {},
     "output_type": "execute_result"
    }
   ],
   "source": [
    "len(more_than_one_vn_count), len(vn_dd_one), len(more_than_one_vn_count) + len(vn_dd_one)"
   ]
  },
  {
   "cell_type": "code",
   "execution_count": 197,
   "metadata": {},
   "outputs": [],
   "source": [
    "for vn in vn_fl_one:\n",
    "    if vn in more_than_one_fl_vn_count:\n",
    "        print(vn)"
   ]
  },
  {
   "cell_type": "code",
   "execution_count": 143,
   "metadata": {},
   "outputs": [
    {
     "data": {
      "text/plain": [
       "0"
      ]
     },
     "execution_count": 143,
     "metadata": {},
     "output_type": "execute_result"
    }
   ],
   "source": [
    "for vn in vn_dd_one:\n",
    "    if vn in more_than_one_vn_count:\n",
    "        print(vn)"
   ]
  },
  {
   "cell_type": "code",
   "execution_count": null,
   "metadata": {},
   "outputs": [],
   "source": []
  },
  {
   "cell_type": "code",
   "execution_count": 128,
   "metadata": {},
   "outputs": [
    {
     "data": {
      "text/html": [
       "<div>\n",
       "<style scoped>\n",
       "    .dataframe tbody tr th:only-of-type {\n",
       "        vertical-align: middle;\n",
       "    }\n",
       "\n",
       "    .dataframe tbody tr th {\n",
       "        vertical-align: top;\n",
       "    }\n",
       "\n",
       "    .dataframe thead th {\n",
       "        text-align: right;\n",
       "    }\n",
       "</style>\n",
       "<table border=\"1\" class=\"dataframe\">\n",
       "  <thead>\n",
       "    <tr style=\"text-align: right;\">\n",
       "      <th></th>\n",
       "      <th>VisitNumber</th>\n",
       "      <th>DepartmentDescription</th>\n",
       "      <th>Sc_sum</th>\n",
       "    </tr>\n",
       "  </thead>\n",
       "  <tbody>\n",
       "    <tr>\n",
       "      <th>172684</th>\n",
       "      <td>103089</td>\n",
       "      <td>MENS WEAR</td>\n",
       "      <td>0.0</td>\n",
       "    </tr>\n",
       "    <tr>\n",
       "      <th>172685</th>\n",
       "      <td>103089</td>\n",
       "      <td>NULL</td>\n",
       "      <td>1.0</td>\n",
       "    </tr>\n",
       "  </tbody>\n",
       "</table>\n",
       "</div>"
      ],
      "text/plain": [
       "        VisitNumber DepartmentDescription  Sc_sum\n",
       "172684       103089             MENS WEAR     0.0\n",
       "172685       103089                  NULL     1.0"
      ]
     },
     "metadata": {},
     "output_type": "display_data"
    }
   ],
   "source": [
    "getSpecifiedVisitNumberData(df_count, 103089)"
   ]
  },
  {
   "cell_type": "code",
   "execution_count": 126,
   "metadata": {},
   "outputs": [
    {
     "data": {
      "text/html": [
       "<div>\n",
       "<style scoped>\n",
       "    .dataframe tbody tr th:only-of-type {\n",
       "        vertical-align: middle;\n",
       "    }\n",
       "\n",
       "    .dataframe tbody tr th {\n",
       "        vertical-align: top;\n",
       "    }\n",
       "\n",
       "    .dataframe thead th {\n",
       "        text-align: right;\n",
       "    }\n",
       "</style>\n",
       "<table border=\"1\" class=\"dataframe\">\n",
       "  <thead>\n",
       "    <tr style=\"text-align: right;\">\n",
       "      <th></th>\n",
       "      <th>TripType</th>\n",
       "      <th>VisitNumber</th>\n",
       "      <th>Weekday</th>\n",
       "      <th>Upc</th>\n",
       "      <th>ScanCount</th>\n",
       "      <th>DepartmentDescription</th>\n",
       "      <th>FinelineNumber</th>\n",
       "      <th>Company</th>\n",
       "    </tr>\n",
       "  </thead>\n",
       "  <tbody>\n",
       "    <tr>\n",
       "      <th>347786</th>\n",
       "      <td>999</td>\n",
       "      <td>103089</td>\n",
       "      <td>Sunday</td>\n",
       "      <td>000828313269</td>\n",
       "      <td>-1</td>\n",
       "      <td>MENS WEAR</td>\n",
       "      <td>1544</td>\n",
       "      <td>000828</td>\n",
       "    </tr>\n",
       "    <tr>\n",
       "      <th>347787</th>\n",
       "      <td>999</td>\n",
       "      <td>103089</td>\n",
       "      <td>Sunday</td>\n",
       "      <td>000000-99990</td>\n",
       "      <td>1</td>\n",
       "      <td>NULL</td>\n",
       "      <td>1.1</td>\n",
       "      <td>000000</td>\n",
       "    </tr>\n",
       "    <tr>\n",
       "      <th>347788</th>\n",
       "      <td>999</td>\n",
       "      <td>103089</td>\n",
       "      <td>Sunday</td>\n",
       "      <td>000828313252</td>\n",
       "      <td>1</td>\n",
       "      <td>MENS WEAR</td>\n",
       "      <td>1544</td>\n",
       "      <td>000828</td>\n",
       "    </tr>\n",
       "  </tbody>\n",
       "</table>\n",
       "</div>"
      ],
      "text/plain": [
       "        TripType  VisitNumber Weekday           Upc  ScanCount  \\\n",
       "347786       999       103089  Sunday  000828313269         -1   \n",
       "347787       999       103089  Sunday  000000-99990          1   \n",
       "347788       999       103089  Sunday  000828313252          1   \n",
       "\n",
       "       DepartmentDescription FinelineNumber Company  \n",
       "347786             MENS WEAR           1544  000828  \n",
       "347787                  NULL            1.1  000000  \n",
       "347788             MENS WEAR           1544  000828  "
      ]
     },
     "metadata": {},
     "output_type": "display_data"
    }
   ],
   "source": [
    "getSpecifiedVisitNumberData(df_decoded, 103089)"
   ]
  },
  {
   "cell_type": "code",
   "execution_count": 125,
   "metadata": {},
   "outputs": [
    {
     "data": {
      "text/html": [
       "<div>\n",
       "<style scoped>\n",
       "    .dataframe tbody tr th:only-of-type {\n",
       "        vertical-align: middle;\n",
       "    }\n",
       "\n",
       "    .dataframe tbody tr th {\n",
       "        vertical-align: top;\n",
       "    }\n",
       "\n",
       "    .dataframe thead th {\n",
       "        text-align: right;\n",
       "    }\n",
       "</style>\n",
       "<table border=\"1\" class=\"dataframe\">\n",
       "  <thead>\n",
       "    <tr style=\"text-align: right;\">\n",
       "      <th></th>\n",
       "      <th>TripType</th>\n",
       "      <th>VisitNumber</th>\n",
       "      <th>Weekday</th>\n",
       "      <th>Upc</th>\n",
       "      <th>ScanCount</th>\n",
       "      <th>DepartmentDescription</th>\n",
       "      <th>FinelineNumber</th>\n",
       "      <th>Company</th>\n",
       "    </tr>\n",
       "  </thead>\n",
       "  <tbody>\n",
       "    <tr>\n",
       "      <th>256570</th>\n",
       "      <td>999</td>\n",
       "      <td>76155</td>\n",
       "      <td>Wednesday</td>\n",
       "      <td>036000318616</td>\n",
       "      <td>1</td>\n",
       "      <td>INFANT CONSUMABLE HARDLINES</td>\n",
       "      <td>9007</td>\n",
       "      <td>036000</td>\n",
       "    </tr>\n",
       "    <tr>\n",
       "      <th>256571</th>\n",
       "      <td>999</td>\n",
       "      <td>76155</td>\n",
       "      <td>Wednesday</td>\n",
       "      <td>036000318616</td>\n",
       "      <td>-1</td>\n",
       "      <td>INFANT CONSUMABLE HARDLINES</td>\n",
       "      <td>9007</td>\n",
       "      <td>036000</td>\n",
       "    </tr>\n",
       "    <tr>\n",
       "      <th>256572</th>\n",
       "      <td>999</td>\n",
       "      <td>76155</td>\n",
       "      <td>Wednesday</td>\n",
       "      <td>000000-99990</td>\n",
       "      <td>1</td>\n",
       "      <td>NULL</td>\n",
       "      <td>1.1</td>\n",
       "      <td>000000</td>\n",
       "    </tr>\n",
       "  </tbody>\n",
       "</table>\n",
       "</div>"
      ],
      "text/plain": [
       "        TripType  VisitNumber    Weekday           Upc  ScanCount  \\\n",
       "256570       999        76155  Wednesday  036000318616          1   \n",
       "256571       999        76155  Wednesday  036000318616         -1   \n",
       "256572       999        76155  Wednesday  000000-99990          1   \n",
       "\n",
       "              DepartmentDescription FinelineNumber Company  \n",
       "256570  INFANT CONSUMABLE HARDLINES           9007  036000  \n",
       "256571  INFANT CONSUMABLE HARDLINES           9007  036000  \n",
       "256572                         NULL            1.1  000000  "
      ]
     },
     "metadata": {},
     "output_type": "display_data"
    }
   ],
   "source": [
    "getSpecifiedVisitNumberData(df_decoded, 76155)"
   ]
  },
  {
   "cell_type": "markdown",
   "metadata": {},
   "source": [
    "# feature 2"
   ]
  },
  {
   "cell_type": "code",
   "execution_count": 144,
   "metadata": {},
   "outputs": [
    {
     "name": "stdout",
     "output_type": "stream",
     "text": [
      "Concat 완료.\n"
     ]
    }
   ],
   "source": [
    "df_to_test = get_df_has_specified_vn_list(more_than_one_vn_count, df_dd=df_train_dd, df_fl=df_train_fl, is_need_to_make_df=True)"
   ]
  },
  {
   "cell_type": "code",
   "execution_count": 145,
   "metadata": {
    "scrolled": true
   },
   "outputs": [
    {
     "data": {
      "text/markdown": [
       "##### Accuracy : 0.7609, smoothing : 0.0"
      ],
      "text/plain": [
       "<IPython.core.display.Markdown object>"
      ]
     },
     "metadata": {},
     "output_type": "display_data"
    },
    {
     "data": {
      "text/markdown": [
       "##### Accuracy : 0.7424, smoothing : 0.01"
      ],
      "text/plain": [
       "<IPython.core.display.Markdown object>"
      ]
     },
     "metadata": {},
     "output_type": "display_data"
    },
    {
     "data": {
      "text/markdown": [
       "##### Accuracy : 0.7364, smoothing : 0.02"
      ],
      "text/plain": [
       "<IPython.core.display.Markdown object>"
      ]
     },
     "metadata": {},
     "output_type": "display_data"
    },
    {
     "data": {
      "text/markdown": [
       "##### Accuracy : 0.7322, smoothing : 0.03"
      ],
      "text/plain": [
       "<IPython.core.display.Markdown object>"
      ]
     },
     "metadata": {},
     "output_type": "display_data"
    },
    {
     "data": {
      "text/markdown": [
       "##### Accuracy : 0.73, smoothing : 0.04"
      ],
      "text/plain": [
       "<IPython.core.display.Markdown object>"
      ]
     },
     "metadata": {},
     "output_type": "display_data"
    },
    {
     "data": {
      "text/markdown": [
       "##### Accuracy : 0.7276, smoothing : 0.05"
      ],
      "text/plain": [
       "<IPython.core.display.Markdown object>"
      ]
     },
     "metadata": {},
     "output_type": "display_data"
    },
    {
     "data": {
      "text/markdown": [
       "## Best_score : 0.7609, Alpha : 0.0"
      ],
      "text/plain": [
       "<IPython.core.display.Markdown object>"
      ]
     },
     "metadata": {},
     "output_type": "display_data"
    }
   ],
   "source": [
    "test_multinomial(df_to_test)"
   ]
  },
  {
   "cell_type": "markdown",
   "metadata": {},
   "source": [
    "# feature 3"
   ]
  },
  {
   "cell_type": "code",
   "execution_count": 217,
   "metadata": {},
   "outputs": [
    {
     "name": "stdout",
     "output_type": "stream",
     "text": [
      "Concat 완료.\n"
     ]
    }
   ],
   "source": [
    "df_to_test = get_df_has_specified_vn_list(new_dd_li_to_test, is_in = False,\n",
    "                                          df_dd=df_train_dd, df_fl=df_train_fl, is_need_to_make_df=True)"
   ]
  },
  {
   "cell_type": "code",
   "execution_count": 218,
   "metadata": {},
   "outputs": [
    {
     "data": {
      "text/markdown": [
       "##### Accuracy : 0.7022, smoothing : 0.0"
      ],
      "text/plain": [
       "<IPython.core.display.Markdown object>"
      ]
     },
     "metadata": {},
     "output_type": "display_data"
    },
    {
     "data": {
      "text/markdown": [
       "##### Accuracy : 0.6608, smoothing : 0.01"
      ],
      "text/plain": [
       "<IPython.core.display.Markdown object>"
      ]
     },
     "metadata": {},
     "output_type": "display_data"
    },
    {
     "data": {
      "text/markdown": [
       "##### Accuracy : 0.6537, smoothing : 0.02"
      ],
      "text/plain": [
       "<IPython.core.display.Markdown object>"
      ]
     },
     "metadata": {},
     "output_type": "display_data"
    },
    {
     "data": {
      "text/markdown": [
       "##### Accuracy : 0.6485, smoothing : 0.03"
      ],
      "text/plain": [
       "<IPython.core.display.Markdown object>"
      ]
     },
     "metadata": {},
     "output_type": "display_data"
    },
    {
     "data": {
      "text/markdown": [
       "##### Accuracy : 0.6449, smoothing : 0.04"
      ],
      "text/plain": [
       "<IPython.core.display.Markdown object>"
      ]
     },
     "metadata": {},
     "output_type": "display_data"
    },
    {
     "data": {
      "text/markdown": [
       "##### Accuracy : 0.6419, smoothing : 0.05"
      ],
      "text/plain": [
       "<IPython.core.display.Markdown object>"
      ]
     },
     "metadata": {},
     "output_type": "display_data"
    },
    {
     "data": {
      "text/markdown": [
       "## Best_score : 0.7022, Alpha : 0.0"
      ],
      "text/plain": [
       "<IPython.core.display.Markdown object>"
      ]
     },
     "metadata": {},
     "output_type": "display_data"
    }
   ],
   "source": [
    "test_multinomial(df_to_test)"
   ]
  },
  {
   "cell_type": "code",
   "execution_count": null,
   "metadata": {},
   "outputs": [],
   "source": []
  },
  {
   "cell_type": "code",
   "execution_count": null,
   "metadata": {},
   "outputs": [],
   "source": []
  },
  {
   "cell_type": "code",
   "execution_count": null,
   "metadata": {},
   "outputs": [],
   "source": []
  },
  {
   "cell_type": "code",
   "execution_count": 183,
   "metadata": {},
   "outputs": [
    {
     "name": "stdout",
     "output_type": "stream",
     "text": [
      "Concat 완료.\n"
     ]
    }
   ],
   "source": [
    "df_to_test = get_df_has_specified_vn_list(more_than_one_fl_vn_count, df_dd=df_train_dd, df_fl=df_train_fl, is_need_to_make_df=True)"
   ]
  },
  {
   "cell_type": "markdown",
   "metadata": {},
   "source": [
    "# feature 2"
   ]
  },
  {
   "cell_type": "code",
   "execution_count": 177,
   "metadata": {},
   "outputs": [
    {
     "data": {
      "text/markdown": [
       "##### Accuracy : 0.72, smoothing : 0.0"
      ],
      "text/plain": [
       "<IPython.core.display.Markdown object>"
      ]
     },
     "metadata": {},
     "output_type": "display_data"
    },
    {
     "data": {
      "text/markdown": [
       "##### Accuracy : 0.7011, smoothing : 0.01"
      ],
      "text/plain": [
       "<IPython.core.display.Markdown object>"
      ]
     },
     "metadata": {},
     "output_type": "display_data"
    },
    {
     "data": {
      "text/markdown": [
       "##### Accuracy : 0.6959, smoothing : 0.02"
      ],
      "text/plain": [
       "<IPython.core.display.Markdown object>"
      ]
     },
     "metadata": {},
     "output_type": "display_data"
    },
    {
     "data": {
      "text/markdown": [
       "##### Accuracy : 0.6932, smoothing : 0.03"
      ],
      "text/plain": [
       "<IPython.core.display.Markdown object>"
      ]
     },
     "metadata": {},
     "output_type": "display_data"
    },
    {
     "data": {
      "text/markdown": [
       "##### Accuracy : 0.6898, smoothing : 0.04"
      ],
      "text/plain": [
       "<IPython.core.display.Markdown object>"
      ]
     },
     "metadata": {},
     "output_type": "display_data"
    },
    {
     "data": {
      "text/markdown": [
       "##### Accuracy : 0.6877, smoothing : 0.05"
      ],
      "text/plain": [
       "<IPython.core.display.Markdown object>"
      ]
     },
     "metadata": {},
     "output_type": "display_data"
    },
    {
     "data": {
      "text/markdown": [
       "## Best_score : 0.72, Alpha : 0.0"
      ],
      "text/plain": [
       "<IPython.core.display.Markdown object>"
      ]
     },
     "metadata": {},
     "output_type": "display_data"
    }
   ],
   "source": [
    "test_multinomial(df_to_test)"
   ]
  },
  {
   "cell_type": "code",
   "execution_count": 209,
   "metadata": {},
   "outputs": [
    {
     "name": "stdout",
     "output_type": "stream",
     "text": [
      "Concat 완료.\n"
     ]
    }
   ],
   "source": [
    "df_to_test = get_df_has_specified_vn_list(new_li_to_test, is_in=False,\n",
    "                                          df_dd=df_train_dd, df_fl=df_train_fl, is_need_to_make_df=True)"
   ]
  },
  {
   "cell_type": "markdown",
   "metadata": {},
   "source": [
    "# feature 3"
   ]
  },
  {
   "cell_type": "code",
   "execution_count": 210,
   "metadata": {},
   "outputs": [
    {
     "data": {
      "text/markdown": [
       "##### Accuracy : 0.7369, smoothing : 0.0"
      ],
      "text/plain": [
       "<IPython.core.display.Markdown object>"
      ]
     },
     "metadata": {},
     "output_type": "display_data"
    },
    {
     "data": {
      "text/markdown": [
       "##### Accuracy : 0.6908, smoothing : 0.01"
      ],
      "text/plain": [
       "<IPython.core.display.Markdown object>"
      ]
     },
     "metadata": {},
     "output_type": "display_data"
    },
    {
     "data": {
      "text/markdown": [
       "##### Accuracy : 0.6833, smoothing : 0.02"
      ],
      "text/plain": [
       "<IPython.core.display.Markdown object>"
      ]
     },
     "metadata": {},
     "output_type": "display_data"
    },
    {
     "data": {
      "text/markdown": [
       "##### Accuracy : 0.678, smoothing : 0.03"
      ],
      "text/plain": [
       "<IPython.core.display.Markdown object>"
      ]
     },
     "metadata": {},
     "output_type": "display_data"
    },
    {
     "data": {
      "text/markdown": [
       "##### Accuracy : 0.6738, smoothing : 0.04"
      ],
      "text/plain": [
       "<IPython.core.display.Markdown object>"
      ]
     },
     "metadata": {},
     "output_type": "display_data"
    },
    {
     "data": {
      "text/markdown": [
       "##### Accuracy : 0.6701, smoothing : 0.05"
      ],
      "text/plain": [
       "<IPython.core.display.Markdown object>"
      ]
     },
     "metadata": {},
     "output_type": "display_data"
    },
    {
     "data": {
      "text/markdown": [
       "## Best_score : 0.7369, Alpha : 0.0"
      ],
      "text/plain": [
       "<IPython.core.display.Markdown object>"
      ]
     },
     "metadata": {},
     "output_type": "display_data"
    }
   ],
   "source": [
    "test_multinomial(df_to_test)"
   ]
  },
  {
   "cell_type": "code",
   "execution_count": null,
   "metadata": {},
   "outputs": [],
   "source": []
  },
  {
   "cell_type": "code",
   "execution_count": null,
   "metadata": {},
   "outputs": [],
   "source": []
  },
  {
   "cell_type": "code",
   "execution_count": null,
   "metadata": {},
   "outputs": [],
   "source": []
  },
  {
   "cell_type": "markdown",
   "metadata": {},
   "source": [
    "# feature 1 + 2"
   ]
  },
  {
   "cell_type": "code",
   "execution_count": 202,
   "metadata": {},
   "outputs": [
    {
     "name": "stdout",
     "output_type": "stream",
     "text": [
      "Concat 완료.\n"
     ]
    }
   ],
   "source": [
    "df_to_test = get_df_has_specified_vn_list(new_li_to_test, is_in=True,\n",
    "                                          df_dd=df_train_dd, df_fl=df_train_fl, is_need_to_make_df=True)"
   ]
  },
  {
   "cell_type": "code",
   "execution_count": 203,
   "metadata": {},
   "outputs": [
    {
     "data": {
      "text/markdown": [
       "##### Accuracy : 0.7498, smoothing : 0.0"
      ],
      "text/plain": [
       "<IPython.core.display.Markdown object>"
      ]
     },
     "metadata": {},
     "output_type": "display_data"
    },
    {
     "data": {
      "text/markdown": [
       "##### Accuracy : 0.7377, smoothing : 0.01"
      ],
      "text/plain": [
       "<IPython.core.display.Markdown object>"
      ]
     },
     "metadata": {},
     "output_type": "display_data"
    },
    {
     "data": {
      "text/markdown": [
       "##### Accuracy : 0.7349, smoothing : 0.02"
      ],
      "text/plain": [
       "<IPython.core.display.Markdown object>"
      ]
     },
     "metadata": {},
     "output_type": "display_data"
    },
    {
     "data": {
      "text/markdown": [
       "##### Accuracy : 0.7337, smoothing : 0.03"
      ],
      "text/plain": [
       "<IPython.core.display.Markdown object>"
      ]
     },
     "metadata": {},
     "output_type": "display_data"
    },
    {
     "data": {
      "text/markdown": [
       "##### Accuracy : 0.7325, smoothing : 0.04"
      ],
      "text/plain": [
       "<IPython.core.display.Markdown object>"
      ]
     },
     "metadata": {},
     "output_type": "display_data"
    },
    {
     "data": {
      "text/markdown": [
       "##### Accuracy : 0.7314, smoothing : 0.05"
      ],
      "text/plain": [
       "<IPython.core.display.Markdown object>"
      ]
     },
     "metadata": {},
     "output_type": "display_data"
    },
    {
     "data": {
      "text/markdown": [
       "## Best_score : 0.7498, Alpha : 0.0"
      ],
      "text/plain": [
       "<IPython.core.display.Markdown object>"
      ]
     },
     "metadata": {},
     "output_type": "display_data"
    }
   ],
   "source": [
    "test_multinomial(df_to_test)"
   ]
  },
  {
   "cell_type": "markdown",
   "metadata": {},
   "source": [
    "# feature 2 + 3"
   ]
  },
  {
   "cell_type": "code",
   "execution_count": 204,
   "metadata": {},
   "outputs": [
    {
     "name": "stdout",
     "output_type": "stream",
     "text": [
      "Concat 완료.\n"
     ]
    }
   ],
   "source": [
    "df_to_test = get_df_has_specified_vn_list(vn_fl_one, is_in=False,\n",
    "                                          df_dd=df_train_dd, df_fl=df_train_fl, is_need_to_make_df=True)"
   ]
  },
  {
   "cell_type": "code",
   "execution_count": 205,
   "metadata": {},
   "outputs": [
    {
     "data": {
      "text/markdown": [
       "##### Accuracy : 0.6692, smoothing : 0.0"
      ],
      "text/plain": [
       "<IPython.core.display.Markdown object>"
      ]
     },
     "metadata": {},
     "output_type": "display_data"
    },
    {
     "data": {
      "text/markdown": [
       "##### Accuracy : 0.6429, smoothing : 0.01"
      ],
      "text/plain": [
       "<IPython.core.display.Markdown object>"
      ]
     },
     "metadata": {},
     "output_type": "display_data"
    },
    {
     "data": {
      "text/markdown": [
       "##### Accuracy : 0.6385, smoothing : 0.02"
      ],
      "text/plain": [
       "<IPython.core.display.Markdown object>"
      ]
     },
     "metadata": {},
     "output_type": "display_data"
    },
    {
     "data": {
      "text/markdown": [
       "##### Accuracy : 0.635, smoothing : 0.03"
      ],
      "text/plain": [
       "<IPython.core.display.Markdown object>"
      ]
     },
     "metadata": {},
     "output_type": "display_data"
    },
    {
     "data": {
      "text/markdown": [
       "##### Accuracy : 0.6325, smoothing : 0.04"
      ],
      "text/plain": [
       "<IPython.core.display.Markdown object>"
      ]
     },
     "metadata": {},
     "output_type": "display_data"
    },
    {
     "data": {
      "text/markdown": [
       "##### Accuracy : 0.6306, smoothing : 0.05"
      ],
      "text/plain": [
       "<IPython.core.display.Markdown object>"
      ]
     },
     "metadata": {},
     "output_type": "display_data"
    },
    {
     "data": {
      "text/markdown": [
       "## Best_score : 0.6692, Alpha : 0.0"
      ],
      "text/plain": [
       "<IPython.core.display.Markdown object>"
      ]
     },
     "metadata": {},
     "output_type": "display_data"
    }
   ],
   "source": [
    "test_multinomial(df_to_test)"
   ]
  },
  {
   "cell_type": "code",
   "execution_count": null,
   "metadata": {},
   "outputs": [],
   "source": []
  },
  {
   "cell_type": "code",
   "execution_count": null,
   "metadata": {},
   "outputs": [],
   "source": []
  },
  {
   "cell_type": "markdown",
   "metadata": {},
   "source": [
    "# Company feature 1"
   ]
  },
  {
   "cell_type": "code",
   "execution_count": 378,
   "metadata": {},
   "outputs": [],
   "source": [
    "df_to_test = get_df_has_specified_vn_list(vn_company_one, df=df_train_dd, is_need_to_make_df=False)"
   ]
  },
  {
   "cell_type": "code",
   "execution_count": 379,
   "metadata": {
    "scrolled": true
   },
   "outputs": [
    {
     "data": {
      "text/markdown": [
       "##### Accuracy : 0.7974, smoothing : 0.0"
      ],
      "text/plain": [
       "<IPython.core.display.Markdown object>"
      ]
     },
     "metadata": {},
     "output_type": "display_data"
    },
    {
     "data": {
      "text/markdown": [
       "##### Accuracy : 0.8111, smoothing : 0.01"
      ],
      "text/plain": [
       "<IPython.core.display.Markdown object>"
      ]
     },
     "metadata": {},
     "output_type": "display_data"
    },
    {
     "data": {
      "text/markdown": [
       "##### Accuracy : 0.8213, smoothing : 0.02"
      ],
      "text/plain": [
       "<IPython.core.display.Markdown object>"
      ]
     },
     "metadata": {},
     "output_type": "display_data"
    },
    {
     "data": {
      "text/markdown": [
       "##### Accuracy : 0.829, smoothing : 0.03"
      ],
      "text/plain": [
       "<IPython.core.display.Markdown object>"
      ]
     },
     "metadata": {},
     "output_type": "display_data"
    },
    {
     "data": {
      "text/markdown": [
       "##### Accuracy : 0.8357, smoothing : 0.04"
      ],
      "text/plain": [
       "<IPython.core.display.Markdown object>"
      ]
     },
     "metadata": {},
     "output_type": "display_data"
    },
    {
     "data": {
      "text/markdown": [
       "##### Accuracy : 0.8394, smoothing : 0.05"
      ],
      "text/plain": [
       "<IPython.core.display.Markdown object>"
      ]
     },
     "metadata": {},
     "output_type": "display_data"
    },
    {
     "data": {
      "text/markdown": [
       "##### Accuracy : 0.845, smoothing : 0.06"
      ],
      "text/plain": [
       "<IPython.core.display.Markdown object>"
      ]
     },
     "metadata": {},
     "output_type": "display_data"
    },
    {
     "data": {
      "text/markdown": [
       "##### Accuracy : 0.85, smoothing : 0.07"
      ],
      "text/plain": [
       "<IPython.core.display.Markdown object>"
      ]
     },
     "metadata": {},
     "output_type": "display_data"
    },
    {
     "data": {
      "text/markdown": [
       "##### Accuracy : 0.8521, smoothing : 0.08"
      ],
      "text/plain": [
       "<IPython.core.display.Markdown object>"
      ]
     },
     "metadata": {},
     "output_type": "display_data"
    },
    {
     "data": {
      "text/markdown": [
       "##### Accuracy : 0.8546, smoothing : 0.09"
      ],
      "text/plain": [
       "<IPython.core.display.Markdown object>"
      ]
     },
     "metadata": {},
     "output_type": "display_data"
    },
    {
     "data": {
      "text/markdown": [
       "##### Accuracy : 0.8576, smoothing : 0.1"
      ],
      "text/plain": [
       "<IPython.core.display.Markdown object>"
      ]
     },
     "metadata": {},
     "output_type": "display_data"
    },
    {
     "data": {
      "text/markdown": [
       "##### Accuracy : 0.8585, smoothing : 0.11"
      ],
      "text/plain": [
       "<IPython.core.display.Markdown object>"
      ]
     },
     "metadata": {},
     "output_type": "display_data"
    },
    {
     "data": {
      "text/markdown": [
       "##### Accuracy : 0.8601, smoothing : 0.12"
      ],
      "text/plain": [
       "<IPython.core.display.Markdown object>"
      ]
     },
     "metadata": {},
     "output_type": "display_data"
    },
    {
     "data": {
      "text/markdown": [
       "##### Accuracy : 0.8596, smoothing : 0.13"
      ],
      "text/plain": [
       "<IPython.core.display.Markdown object>"
      ]
     },
     "metadata": {},
     "output_type": "display_data"
    },
    {
     "data": {
      "text/markdown": [
       "##### Accuracy : 0.8601, smoothing : 0.14"
      ],
      "text/plain": [
       "<IPython.core.display.Markdown object>"
      ]
     },
     "metadata": {},
     "output_type": "display_data"
    },
    {
     "data": {
      "text/markdown": [
       "##### Accuracy : 0.8617, smoothing : 0.15"
      ],
      "text/plain": [
       "<IPython.core.display.Markdown object>"
      ]
     },
     "metadata": {},
     "output_type": "display_data"
    },
    {
     "data": {
      "text/markdown": [
       "## Best_score : 0.8617, Alpha : 0.15"
      ],
      "text/plain": [
       "<IPython.core.display.Markdown object>"
      ]
     },
     "metadata": {},
     "output_type": "display_data"
    }
   ],
   "source": [
    "test_multinomial(df_to_test)"
   ]
  },
  {
   "cell_type": "code",
   "execution_count": 380,
   "metadata": {},
   "outputs": [],
   "source": [
    "alpha = np.arange(0.15, 1, 0.05)"
   ]
  },
  {
   "cell_type": "code",
   "execution_count": 381,
   "metadata": {
    "scrolled": true
   },
   "outputs": [
    {
     "data": {
      "text/markdown": [
       "##### Accuracy : 0.8617"
      ],
      "text/plain": [
       "<IPython.core.display.Markdown object>"
      ]
     },
     "metadata": {},
     "output_type": "display_data"
    },
    {
     "name": "stdout",
     "output_type": "stream",
     "text": [
      "0.15\n"
     ]
    },
    {
     "data": {
      "text/markdown": [
       "##### Accuracy : 0.8661"
      ],
      "text/plain": [
       "<IPython.core.display.Markdown object>"
      ]
     },
     "metadata": {},
     "output_type": "display_data"
    },
    {
     "name": "stdout",
     "output_type": "stream",
     "text": [
      "0.2\n"
     ]
    },
    {
     "data": {
      "text/markdown": [
       "##### Accuracy : 0.8669"
      ],
      "text/plain": [
       "<IPython.core.display.Markdown object>"
      ]
     },
     "metadata": {},
     "output_type": "display_data"
    },
    {
     "name": "stdout",
     "output_type": "stream",
     "text": [
      "0.25\n"
     ]
    },
    {
     "data": {
      "text/markdown": [
       "##### Accuracy : 0.8662"
      ],
      "text/plain": [
       "<IPython.core.display.Markdown object>"
      ]
     },
     "metadata": {},
     "output_type": "display_data"
    },
    {
     "name": "stdout",
     "output_type": "stream",
     "text": [
      "0.30000000000000004\n"
     ]
    },
    {
     "data": {
      "text/markdown": [
       "##### Accuracy : 0.8634"
      ],
      "text/plain": [
       "<IPython.core.display.Markdown object>"
      ]
     },
     "metadata": {},
     "output_type": "display_data"
    },
    {
     "name": "stdout",
     "output_type": "stream",
     "text": [
      "0.3500000000000001\n"
     ]
    },
    {
     "data": {
      "text/markdown": [
       "##### Accuracy : 0.8624"
      ],
      "text/plain": [
       "<IPython.core.display.Markdown object>"
      ]
     },
     "metadata": {},
     "output_type": "display_data"
    },
    {
     "name": "stdout",
     "output_type": "stream",
     "text": [
      "0.40000000000000013\n"
     ]
    },
    {
     "data": {
      "text/markdown": [
       "##### Accuracy : 0.8605"
      ],
      "text/plain": [
       "<IPython.core.display.Markdown object>"
      ]
     },
     "metadata": {},
     "output_type": "display_data"
    },
    {
     "name": "stdout",
     "output_type": "stream",
     "text": [
      "0.45000000000000007\n"
     ]
    },
    {
     "data": {
      "text/markdown": [
       "##### Accuracy : 0.8579"
      ],
      "text/plain": [
       "<IPython.core.display.Markdown object>"
      ]
     },
     "metadata": {},
     "output_type": "display_data"
    },
    {
     "name": "stdout",
     "output_type": "stream",
     "text": [
      "0.5000000000000001\n"
     ]
    },
    {
     "data": {
      "text/markdown": [
       "##### Accuracy : 0.8543"
      ],
      "text/plain": [
       "<IPython.core.display.Markdown object>"
      ]
     },
     "metadata": {},
     "output_type": "display_data"
    },
    {
     "name": "stdout",
     "output_type": "stream",
     "text": [
      "0.5500000000000002\n"
     ]
    },
    {
     "data": {
      "text/markdown": [
       "##### Accuracy : 0.8506"
      ],
      "text/plain": [
       "<IPython.core.display.Markdown object>"
      ]
     },
     "metadata": {},
     "output_type": "display_data"
    },
    {
     "name": "stdout",
     "output_type": "stream",
     "text": [
      "0.6000000000000002\n"
     ]
    },
    {
     "data": {
      "text/markdown": [
       "##### Accuracy : 0.8477"
      ],
      "text/plain": [
       "<IPython.core.display.Markdown object>"
      ]
     },
     "metadata": {},
     "output_type": "display_data"
    },
    {
     "name": "stdout",
     "output_type": "stream",
     "text": [
      "0.6500000000000002\n"
     ]
    },
    {
     "data": {
      "text/markdown": [
       "##### Accuracy : 0.845"
      ],
      "text/plain": [
       "<IPython.core.display.Markdown object>"
      ]
     },
     "metadata": {},
     "output_type": "display_data"
    },
    {
     "name": "stdout",
     "output_type": "stream",
     "text": [
      "0.7000000000000002\n"
     ]
    },
    {
     "data": {
      "text/markdown": [
       "##### Accuracy : 0.8432"
      ],
      "text/plain": [
       "<IPython.core.display.Markdown object>"
      ]
     },
     "metadata": {},
     "output_type": "display_data"
    },
    {
     "name": "stdout",
     "output_type": "stream",
     "text": [
      "0.7500000000000002\n"
     ]
    },
    {
     "data": {
      "text/markdown": [
       "##### Accuracy : 0.8413"
      ],
      "text/plain": [
       "<IPython.core.display.Markdown object>"
      ]
     },
     "metadata": {},
     "output_type": "display_data"
    },
    {
     "name": "stdout",
     "output_type": "stream",
     "text": [
      "0.8000000000000003\n"
     ]
    },
    {
     "data": {
      "text/markdown": [
       "##### Accuracy : 0.8394"
      ],
      "text/plain": [
       "<IPython.core.display.Markdown object>"
      ]
     },
     "metadata": {},
     "output_type": "display_data"
    },
    {
     "name": "stdout",
     "output_type": "stream",
     "text": [
      "0.8500000000000002\n"
     ]
    },
    {
     "data": {
      "text/markdown": [
       "##### Accuracy : 0.8377"
      ],
      "text/plain": [
       "<IPython.core.display.Markdown object>"
      ]
     },
     "metadata": {},
     "output_type": "display_data"
    },
    {
     "name": "stdout",
     "output_type": "stream",
     "text": [
      "0.9000000000000002\n"
     ]
    },
    {
     "data": {
      "text/markdown": [
       "##### Accuracy : 0.8361"
      ],
      "text/plain": [
       "<IPython.core.display.Markdown object>"
      ]
     },
     "metadata": {},
     "output_type": "display_data"
    },
    {
     "name": "stdout",
     "output_type": "stream",
     "text": [
      "0.9500000000000003\n"
     ]
    }
   ],
   "source": [
    "X, y = af.get_df_to_fit(df_to_test)\n",
    "for i in alpha:\n",
    "    model_nb_dd_one_01 = fitNaiveBayesModel_smoothing(X, y, i)\n",
    "    y_pred_dd_one = model_nb_dd_one_01.predict(X)\n",
    "    af.getAccuracy(y, y_pred_dd_one, len(X))\n",
    "    print(i)"
   ]
  },
  {
   "cell_type": "markdown",
   "metadata": {},
   "source": [
    "# Company feature 2"
   ]
  },
  {
   "cell_type": "code",
   "execution_count": 382,
   "metadata": {},
   "outputs": [],
   "source": [
    "df_to_test = get_df_has_specified_vn_list(vn_company_more_than_one, df=df_train_dd, is_need_to_make_df=False)"
   ]
  },
  {
   "cell_type": "code",
   "execution_count": 383,
   "metadata": {},
   "outputs": [
    {
     "data": {
      "text/markdown": [
       "##### Accuracy : 0.6859, smoothing : 0.0"
      ],
      "text/plain": [
       "<IPython.core.display.Markdown object>"
      ]
     },
     "metadata": {},
     "output_type": "display_data"
    },
    {
     "data": {
      "text/markdown": [
       "##### Accuracy : 0.6649, smoothing : 0.01"
      ],
      "text/plain": [
       "<IPython.core.display.Markdown object>"
      ]
     },
     "metadata": {},
     "output_type": "display_data"
    },
    {
     "data": {
      "text/markdown": [
       "##### Accuracy : 0.6597, smoothing : 0.02"
      ],
      "text/plain": [
       "<IPython.core.display.Markdown object>"
      ]
     },
     "metadata": {},
     "output_type": "display_data"
    },
    {
     "data": {
      "text/markdown": [
       "##### Accuracy : 0.6569, smoothing : 0.03"
      ],
      "text/plain": [
       "<IPython.core.display.Markdown object>"
      ]
     },
     "metadata": {},
     "output_type": "display_data"
    },
    {
     "data": {
      "text/markdown": [
       "##### Accuracy : 0.6559, smoothing : 0.04"
      ],
      "text/plain": [
       "<IPython.core.display.Markdown object>"
      ]
     },
     "metadata": {},
     "output_type": "display_data"
    },
    {
     "data": {
      "text/markdown": [
       "##### Accuracy : 0.6544, smoothing : 0.05"
      ],
      "text/plain": [
       "<IPython.core.display.Markdown object>"
      ]
     },
     "metadata": {},
     "output_type": "display_data"
    },
    {
     "data": {
      "text/markdown": [
       "## Best_score : 0.6859, Alpha : 0.0"
      ],
      "text/plain": [
       "<IPython.core.display.Markdown object>"
      ]
     },
     "metadata": {},
     "output_type": "display_data"
    }
   ],
   "source": [
    "test_multinomial(df_to_test)"
   ]
  },
  {
   "cell_type": "markdown",
   "metadata": {},
   "source": [
    "# Company feature 3"
   ]
  },
  {
   "cell_type": "code",
   "execution_count": 384,
   "metadata": {},
   "outputs": [],
   "source": [
    "vn_company_3 = vn_company_one + vn_company_more_than_one"
   ]
  },
  {
   "cell_type": "code",
   "execution_count": 385,
   "metadata": {},
   "outputs": [],
   "source": [
    "df_to_test = get_df_has_specified_vn_list(vn_company_3, is_in=False, df=df_train_dd, is_need_to_make_df=False)"
   ]
  },
  {
   "cell_type": "code",
   "execution_count": 386,
   "metadata": {},
   "outputs": [
    {
     "data": {
      "text/markdown": [
       "##### Accuracy : 0.7006, smoothing : 0.0"
      ],
      "text/plain": [
       "<IPython.core.display.Markdown object>"
      ]
     },
     "metadata": {},
     "output_type": "display_data"
    },
    {
     "data": {
      "text/markdown": [
       "##### Accuracy : 0.6518, smoothing : 0.01"
      ],
      "text/plain": [
       "<IPython.core.display.Markdown object>"
      ]
     },
     "metadata": {},
     "output_type": "display_data"
    },
    {
     "data": {
      "text/markdown": [
       "##### Accuracy : 0.6441, smoothing : 0.02"
      ],
      "text/plain": [
       "<IPython.core.display.Markdown object>"
      ]
     },
     "metadata": {},
     "output_type": "display_data"
    },
    {
     "data": {
      "text/markdown": [
       "##### Accuracy : 0.6394, smoothing : 0.03"
      ],
      "text/plain": [
       "<IPython.core.display.Markdown object>"
      ]
     },
     "metadata": {},
     "output_type": "display_data"
    },
    {
     "data": {
      "text/markdown": [
       "##### Accuracy : 0.6361, smoothing : 0.04"
      ],
      "text/plain": [
       "<IPython.core.display.Markdown object>"
      ]
     },
     "metadata": {},
     "output_type": "display_data"
    },
    {
     "data": {
      "text/markdown": [
       "##### Accuracy : 0.633, smoothing : 0.05"
      ],
      "text/plain": [
       "<IPython.core.display.Markdown object>"
      ]
     },
     "metadata": {},
     "output_type": "display_data"
    },
    {
     "data": {
      "text/markdown": [
       "## Best_score : 0.7006, Alpha : 0.0"
      ],
      "text/plain": [
       "<IPython.core.display.Markdown object>"
      ]
     },
     "metadata": {},
     "output_type": "display_data"
    }
   ],
   "source": [
    "test_multinomial(df_to_test)"
   ]
  },
  {
   "cell_type": "code",
   "execution_count": 387,
   "metadata": {},
   "outputs": [
    {
     "name": "stdout",
     "output_type": "stream",
     "text": [
      "0.7335877379004702\n"
     ]
    },
    {
     "data": {
      "text/plain": [
       "0.7335877379004702"
      ]
     },
     "execution_count": 387,
     "metadata": {},
     "output_type": "execute_result"
    }
   ],
   "source": [
    "cal_average_of_accuracy(vn_company_one, vn_company_more_than_one, [0.8669, 0.6859, 0.7006])"
   ]
  },
  {
   "cell_type": "code",
   "execution_count": null,
   "metadata": {},
   "outputs": [],
   "source": []
  },
  {
   "cell_type": "markdown",
   "metadata": {},
   "source": [
    "# Company feature는 dd_dummies, fl_dummies"
   ]
  },
  {
   "cell_type": "code",
   "execution_count": 392,
   "metadata": {},
   "outputs": [
    {
     "name": "stdout",
     "output_type": "stream",
     "text": [
      "Concat 완료.\n"
     ]
    }
   ],
   "source": [
    "df_to_test = get_df_has_specified_vn_list(vn_company_one, df_dd=df_dd, df_fl=df_train_fl, is_need_to_make_df=True)"
   ]
  },
  {
   "cell_type": "code",
   "execution_count": 393,
   "metadata": {
    "scrolled": true
   },
   "outputs": [
    {
     "data": {
      "text/markdown": [
       "##### Accuracy : 0.8809, smoothing : 0.0"
      ],
      "text/plain": [
       "<IPython.core.display.Markdown object>"
      ]
     },
     "metadata": {},
     "output_type": "display_data"
    },
    {
     "data": {
      "text/markdown": [
       "##### Accuracy : 0.8864, smoothing : 0.01"
      ],
      "text/plain": [
       "<IPython.core.display.Markdown object>"
      ]
     },
     "metadata": {},
     "output_type": "display_data"
    },
    {
     "data": {
      "text/markdown": [
       "##### Accuracy : 0.8925, smoothing : 0.02"
      ],
      "text/plain": [
       "<IPython.core.display.Markdown object>"
      ]
     },
     "metadata": {},
     "output_type": "display_data"
    },
    {
     "data": {
      "text/markdown": [
       "##### Accuracy : 0.8972, smoothing : 0.03"
      ],
      "text/plain": [
       "<IPython.core.display.Markdown object>"
      ]
     },
     "metadata": {},
     "output_type": "display_data"
    },
    {
     "data": {
      "text/markdown": [
       "##### Accuracy : 0.8995, smoothing : 0.04"
      ],
      "text/plain": [
       "<IPython.core.display.Markdown object>"
      ]
     },
     "metadata": {},
     "output_type": "display_data"
    },
    {
     "data": {
      "text/markdown": [
       "##### Accuracy : 0.9018, smoothing : 0.05"
      ],
      "text/plain": [
       "<IPython.core.display.Markdown object>"
      ]
     },
     "metadata": {},
     "output_type": "display_data"
    },
    {
     "data": {
      "text/markdown": [
       "##### Accuracy : 0.904, smoothing : 0.06"
      ],
      "text/plain": [
       "<IPython.core.display.Markdown object>"
      ]
     },
     "metadata": {},
     "output_type": "display_data"
    },
    {
     "data": {
      "text/markdown": [
       "##### Accuracy : 0.9051, smoothing : 0.07"
      ],
      "text/plain": [
       "<IPython.core.display.Markdown object>"
      ]
     },
     "metadata": {},
     "output_type": "display_data"
    },
    {
     "data": {
      "text/markdown": [
       "##### Accuracy : 0.9074, smoothing : 0.08"
      ],
      "text/plain": [
       "<IPython.core.display.Markdown object>"
      ]
     },
     "metadata": {},
     "output_type": "display_data"
    },
    {
     "data": {
      "text/markdown": [
       "##### Accuracy : 0.9089, smoothing : 0.09"
      ],
      "text/plain": [
       "<IPython.core.display.Markdown object>"
      ]
     },
     "metadata": {},
     "output_type": "display_data"
    },
    {
     "data": {
      "text/markdown": [
       "##### Accuracy : 0.9099, smoothing : 0.1"
      ],
      "text/plain": [
       "<IPython.core.display.Markdown object>"
      ]
     },
     "metadata": {},
     "output_type": "display_data"
    },
    {
     "data": {
      "text/markdown": [
       "##### Accuracy : 0.9108, smoothing : 0.11"
      ],
      "text/plain": [
       "<IPython.core.display.Markdown object>"
      ]
     },
     "metadata": {},
     "output_type": "display_data"
    },
    {
     "data": {
      "text/markdown": [
       "##### Accuracy : 0.9121, smoothing : 0.12"
      ],
      "text/plain": [
       "<IPython.core.display.Markdown object>"
      ]
     },
     "metadata": {},
     "output_type": "display_data"
    },
    {
     "data": {
      "text/markdown": [
       "##### Accuracy : 0.9132, smoothing : 0.13"
      ],
      "text/plain": [
       "<IPython.core.display.Markdown object>"
      ]
     },
     "metadata": {},
     "output_type": "display_data"
    },
    {
     "data": {
      "text/markdown": [
       "##### Accuracy : 0.9133, smoothing : 0.14"
      ],
      "text/plain": [
       "<IPython.core.display.Markdown object>"
      ]
     },
     "metadata": {},
     "output_type": "display_data"
    },
    {
     "data": {
      "text/markdown": [
       "##### Accuracy : 0.9139, smoothing : 0.15"
      ],
      "text/plain": [
       "<IPython.core.display.Markdown object>"
      ]
     },
     "metadata": {},
     "output_type": "display_data"
    },
    {
     "data": {
      "text/markdown": [
       "## Best_score : 0.9139, Alpha : 0.15"
      ],
      "text/plain": [
       "<IPython.core.display.Markdown object>"
      ]
     },
     "metadata": {},
     "output_type": "display_data"
    }
   ],
   "source": [
    "test_multinomial(df_to_test)"
   ]
  },
  {
   "cell_type": "code",
   "execution_count": 394,
   "metadata": {
    "scrolled": true
   },
   "outputs": [
    {
     "data": {
      "text/markdown": [
       "##### Accuracy : 0.9139"
      ],
      "text/plain": [
       "<IPython.core.display.Markdown object>"
      ]
     },
     "metadata": {},
     "output_type": "display_data"
    },
    {
     "name": "stdout",
     "output_type": "stream",
     "text": [
      "0.15\n"
     ]
    },
    {
     "data": {
      "text/markdown": [
       "##### Accuracy : 0.9157"
      ],
      "text/plain": [
       "<IPython.core.display.Markdown object>"
      ]
     },
     "metadata": {},
     "output_type": "display_data"
    },
    {
     "name": "stdout",
     "output_type": "stream",
     "text": [
      "0.2\n"
     ]
    },
    {
     "data": {
      "text/markdown": [
       "##### Accuracy : 0.915"
      ],
      "text/plain": [
       "<IPython.core.display.Markdown object>"
      ]
     },
     "metadata": {},
     "output_type": "display_data"
    },
    {
     "name": "stdout",
     "output_type": "stream",
     "text": [
      "0.25\n"
     ]
    },
    {
     "data": {
      "text/markdown": [
       "##### Accuracy : 0.9118"
      ],
      "text/plain": [
       "<IPython.core.display.Markdown object>"
      ]
     },
     "metadata": {},
     "output_type": "display_data"
    },
    {
     "name": "stdout",
     "output_type": "stream",
     "text": [
      "0.30000000000000004\n"
     ]
    },
    {
     "data": {
      "text/markdown": [
       "##### Accuracy : 0.9069"
      ],
      "text/plain": [
       "<IPython.core.display.Markdown object>"
      ]
     },
     "metadata": {},
     "output_type": "display_data"
    },
    {
     "name": "stdout",
     "output_type": "stream",
     "text": [
      "0.3500000000000001\n"
     ]
    },
    {
     "data": {
      "text/markdown": [
       "##### Accuracy : 0.9053"
      ],
      "text/plain": [
       "<IPython.core.display.Markdown object>"
      ]
     },
     "metadata": {},
     "output_type": "display_data"
    },
    {
     "name": "stdout",
     "output_type": "stream",
     "text": [
      "0.40000000000000013\n"
     ]
    },
    {
     "data": {
      "text/markdown": [
       "##### Accuracy : 0.9015"
      ],
      "text/plain": [
       "<IPython.core.display.Markdown object>"
      ]
     },
     "metadata": {},
     "output_type": "display_data"
    },
    {
     "name": "stdout",
     "output_type": "stream",
     "text": [
      "0.45000000000000007\n"
     ]
    },
    {
     "data": {
      "text/markdown": [
       "##### Accuracy : 0.8973"
      ],
      "text/plain": [
       "<IPython.core.display.Markdown object>"
      ]
     },
     "metadata": {},
     "output_type": "display_data"
    },
    {
     "name": "stdout",
     "output_type": "stream",
     "text": [
      "0.5000000000000001\n"
     ]
    },
    {
     "data": {
      "text/markdown": [
       "##### Accuracy : 0.8932"
      ],
      "text/plain": [
       "<IPython.core.display.Markdown object>"
      ]
     },
     "metadata": {},
     "output_type": "display_data"
    },
    {
     "name": "stdout",
     "output_type": "stream",
     "text": [
      "0.5500000000000002\n"
     ]
    },
    {
     "data": {
      "text/markdown": [
       "##### Accuracy : 0.8891"
      ],
      "text/plain": [
       "<IPython.core.display.Markdown object>"
      ]
     },
     "metadata": {},
     "output_type": "display_data"
    },
    {
     "name": "stdout",
     "output_type": "stream",
     "text": [
      "0.6000000000000002\n"
     ]
    },
    {
     "data": {
      "text/markdown": [
       "##### Accuracy : 0.886"
      ],
      "text/plain": [
       "<IPython.core.display.Markdown object>"
      ]
     },
     "metadata": {},
     "output_type": "display_data"
    },
    {
     "name": "stdout",
     "output_type": "stream",
     "text": [
      "0.6500000000000002\n"
     ]
    },
    {
     "data": {
      "text/markdown": [
       "##### Accuracy : 0.8846"
      ],
      "text/plain": [
       "<IPython.core.display.Markdown object>"
      ]
     },
     "metadata": {},
     "output_type": "display_data"
    },
    {
     "name": "stdout",
     "output_type": "stream",
     "text": [
      "0.7000000000000002\n"
     ]
    },
    {
     "data": {
      "text/markdown": [
       "##### Accuracy : 0.881"
      ],
      "text/plain": [
       "<IPython.core.display.Markdown object>"
      ]
     },
     "metadata": {},
     "output_type": "display_data"
    },
    {
     "name": "stdout",
     "output_type": "stream",
     "text": [
      "0.7500000000000002\n"
     ]
    },
    {
     "data": {
      "text/markdown": [
       "##### Accuracy : 0.8783"
      ],
      "text/plain": [
       "<IPython.core.display.Markdown object>"
      ]
     },
     "metadata": {},
     "output_type": "display_data"
    },
    {
     "name": "stdout",
     "output_type": "stream",
     "text": [
      "0.8000000000000003\n"
     ]
    },
    {
     "data": {
      "text/markdown": [
       "##### Accuracy : 0.8768"
      ],
      "text/plain": [
       "<IPython.core.display.Markdown object>"
      ]
     },
     "metadata": {},
     "output_type": "display_data"
    },
    {
     "name": "stdout",
     "output_type": "stream",
     "text": [
      "0.8500000000000002\n"
     ]
    },
    {
     "data": {
      "text/markdown": [
       "##### Accuracy : 0.8742"
      ],
      "text/plain": [
       "<IPython.core.display.Markdown object>"
      ]
     },
     "metadata": {},
     "output_type": "display_data"
    },
    {
     "name": "stdout",
     "output_type": "stream",
     "text": [
      "0.9000000000000002\n"
     ]
    },
    {
     "data": {
      "text/markdown": [
       "##### Accuracy : 0.8726"
      ],
      "text/plain": [
       "<IPython.core.display.Markdown object>"
      ]
     },
     "metadata": {},
     "output_type": "display_data"
    },
    {
     "name": "stdout",
     "output_type": "stream",
     "text": [
      "0.9500000000000003\n"
     ]
    }
   ],
   "source": [
    "X, y = af.get_df_to_fit(df_to_test)\n",
    "for i in alpha:\n",
    "    model_nb_dd_one_01 = fitNaiveBayesModel_smoothing(X, y, i)\n",
    "    y_pred_dd_one = model_nb_dd_one_01.predict(X)\n",
    "    af.getAccuracy(y, y_pred_dd_one, len(X))\n",
    "    print(i)"
   ]
  },
  {
   "cell_type": "markdown",
   "metadata": {},
   "source": [
    "# Company feature 2 dd_dummies, fl_dummies"
   ]
  },
  {
   "cell_type": "code",
   "execution_count": 395,
   "metadata": {},
   "outputs": [
    {
     "name": "stdout",
     "output_type": "stream",
     "text": [
      "Concat 완료.\n"
     ]
    }
   ],
   "source": [
    "df_to_test = get_df_has_specified_vn_list(vn_company_more_than_one, df_dd=df_dd, df_fl=df_train_fl, is_need_to_make_df=True)"
   ]
  },
  {
   "cell_type": "code",
   "execution_count": 396,
   "metadata": {},
   "outputs": [
    {
     "data": {
      "text/markdown": [
       "##### Accuracy : 0.7494, smoothing : 0.0"
      ],
      "text/plain": [
       "<IPython.core.display.Markdown object>"
      ]
     },
     "metadata": {},
     "output_type": "display_data"
    },
    {
     "data": {
      "text/markdown": [
       "##### Accuracy : 0.731, smoothing : 0.01"
      ],
      "text/plain": [
       "<IPython.core.display.Markdown object>"
      ]
     },
     "metadata": {},
     "output_type": "display_data"
    },
    {
     "data": {
      "text/markdown": [
       "##### Accuracy : 0.7258, smoothing : 0.02"
      ],
      "text/plain": [
       "<IPython.core.display.Markdown object>"
      ]
     },
     "metadata": {},
     "output_type": "display_data"
    },
    {
     "data": {
      "text/markdown": [
       "##### Accuracy : 0.7215, smoothing : 0.03"
      ],
      "text/plain": [
       "<IPython.core.display.Markdown object>"
      ]
     },
     "metadata": {},
     "output_type": "display_data"
    },
    {
     "data": {
      "text/markdown": [
       "##### Accuracy : 0.7187, smoothing : 0.04"
      ],
      "text/plain": [
       "<IPython.core.display.Markdown object>"
      ]
     },
     "metadata": {},
     "output_type": "display_data"
    },
    {
     "data": {
      "text/markdown": [
       "##### Accuracy : 0.7172, smoothing : 0.05"
      ],
      "text/plain": [
       "<IPython.core.display.Markdown object>"
      ]
     },
     "metadata": {},
     "output_type": "display_data"
    },
    {
     "data": {
      "text/markdown": [
       "## Best_score : 0.7494, Alpha : 0.0"
      ],
      "text/plain": [
       "<IPython.core.display.Markdown object>"
      ]
     },
     "metadata": {},
     "output_type": "display_data"
    }
   ],
   "source": [
    "test_multinomial(df_to_test)"
   ]
  },
  {
   "cell_type": "markdown",
   "metadata": {},
   "source": [
    "# Company feature 3 dd_dummies, fl_dummies"
   ]
  },
  {
   "cell_type": "code",
   "execution_count": 397,
   "metadata": {},
   "outputs": [
    {
     "name": "stdout",
     "output_type": "stream",
     "text": [
      "Concat 완료.\n"
     ]
    }
   ],
   "source": [
    "df_to_test = get_df_has_specified_vn_list(vn_company_3, is_in=False, df_dd=df_dd, df_fl=df_train_fl, is_need_to_make_df=True)"
   ]
  },
  {
   "cell_type": "code",
   "execution_count": 398,
   "metadata": {},
   "outputs": [
    {
     "data": {
      "text/markdown": [
       "##### Accuracy : 0.7242, smoothing : 0.0"
      ],
      "text/plain": [
       "<IPython.core.display.Markdown object>"
      ]
     },
     "metadata": {},
     "output_type": "display_data"
    },
    {
     "data": {
      "text/markdown": [
       "##### Accuracy : 0.6809, smoothing : 0.01"
      ],
      "text/plain": [
       "<IPython.core.display.Markdown object>"
      ]
     },
     "metadata": {},
     "output_type": "display_data"
    },
    {
     "data": {
      "text/markdown": [
       "##### Accuracy : 0.6737, smoothing : 0.02"
      ],
      "text/plain": [
       "<IPython.core.display.Markdown object>"
      ]
     },
     "metadata": {},
     "output_type": "display_data"
    },
    {
     "data": {
      "text/markdown": [
       "##### Accuracy : 0.6682, smoothing : 0.03"
      ],
      "text/plain": [
       "<IPython.core.display.Markdown object>"
      ]
     },
     "metadata": {},
     "output_type": "display_data"
    },
    {
     "data": {
      "text/markdown": [
       "##### Accuracy : 0.6648, smoothing : 0.04"
      ],
      "text/plain": [
       "<IPython.core.display.Markdown object>"
      ]
     },
     "metadata": {},
     "output_type": "display_data"
    },
    {
     "data": {
      "text/markdown": [
       "##### Accuracy : 0.6621, smoothing : 0.05"
      ],
      "text/plain": [
       "<IPython.core.display.Markdown object>"
      ]
     },
     "metadata": {},
     "output_type": "display_data"
    },
    {
     "data": {
      "text/markdown": [
       "## Best_score : 0.7242, Alpha : 0.0"
      ],
      "text/plain": [
       "<IPython.core.display.Markdown object>"
      ]
     },
     "metadata": {},
     "output_type": "display_data"
    }
   ],
   "source": [
    "test_multinomial(df_to_test)"
   ]
  },
  {
   "cell_type": "code",
   "execution_count": 399,
   "metadata": {},
   "outputs": [
    {
     "name": "stdout",
     "output_type": "stream",
     "text": [
      "0.773187957421252\n"
     ]
    },
    {
     "data": {
      "text/plain": [
       "0.773187957421252"
      ]
     },
     "execution_count": 399,
     "metadata": {},
     "output_type": "execute_result"
    }
   ],
   "source": [
    "cal_average_of_accuracy(vn_company_one, vn_company_more_than_one, [0.9157, 0.7494, 0.7242])"
   ]
  },
  {
   "cell_type": "code",
   "execution_count": null,
   "metadata": {},
   "outputs": [],
   "source": []
  },
  {
   "cell_type": "code",
   "execution_count": null,
   "metadata": {},
   "outputs": [],
   "source": []
  },
  {
   "cell_type": "markdown",
   "metadata": {},
   "source": [
    "# Company feature 1 fl_dummies"
   ]
  },
  {
   "cell_type": "code",
   "execution_count": 407,
   "metadata": {},
   "outputs": [],
   "source": [
    "df_to_test = get_df_has_specified_vn_list(vn_company_one, df=df_train_fl)"
   ]
  },
  {
   "cell_type": "code",
   "execution_count": 408,
   "metadata": {
    "scrolled": true
   },
   "outputs": [
    {
     "data": {
      "text/markdown": [
       "##### Accuracy : 0.8435, smoothing : 0.0"
      ],
      "text/plain": [
       "<IPython.core.display.Markdown object>"
      ]
     },
     "metadata": {},
     "output_type": "display_data"
    },
    {
     "data": {
      "text/markdown": [
       "##### Accuracy : 0.8468, smoothing : 0.01"
      ],
      "text/plain": [
       "<IPython.core.display.Markdown object>"
      ]
     },
     "metadata": {},
     "output_type": "display_data"
    },
    {
     "data": {
      "text/markdown": [
       "##### Accuracy : 0.8485, smoothing : 0.02"
      ],
      "text/plain": [
       "<IPython.core.display.Markdown object>"
      ]
     },
     "metadata": {},
     "output_type": "display_data"
    },
    {
     "data": {
      "text/markdown": [
       "##### Accuracy : 0.8491, smoothing : 0.03"
      ],
      "text/plain": [
       "<IPython.core.display.Markdown object>"
      ]
     },
     "metadata": {},
     "output_type": "display_data"
    },
    {
     "data": {
      "text/markdown": [
       "##### Accuracy : 0.8496, smoothing : 0.04"
      ],
      "text/plain": [
       "<IPython.core.display.Markdown object>"
      ]
     },
     "metadata": {},
     "output_type": "display_data"
    },
    {
     "data": {
      "text/markdown": [
       "##### Accuracy : 0.8496, smoothing : 0.05"
      ],
      "text/plain": [
       "<IPython.core.display.Markdown object>"
      ]
     },
     "metadata": {},
     "output_type": "display_data"
    },
    {
     "data": {
      "text/markdown": [
       "##### Accuracy : 0.8501, smoothing : 0.06"
      ],
      "text/plain": [
       "<IPython.core.display.Markdown object>"
      ]
     },
     "metadata": {},
     "output_type": "display_data"
    },
    {
     "data": {
      "text/markdown": [
       "##### Accuracy : 0.8492, smoothing : 0.07"
      ],
      "text/plain": [
       "<IPython.core.display.Markdown object>"
      ]
     },
     "metadata": {},
     "output_type": "display_data"
    },
    {
     "data": {
      "text/markdown": [
       "##### Accuracy : 0.8488, smoothing : 0.08"
      ],
      "text/plain": [
       "<IPython.core.display.Markdown object>"
      ]
     },
     "metadata": {},
     "output_type": "display_data"
    },
    {
     "data": {
      "text/markdown": [
       "##### Accuracy : 0.8481, smoothing : 0.09"
      ],
      "text/plain": [
       "<IPython.core.display.Markdown object>"
      ]
     },
     "metadata": {},
     "output_type": "display_data"
    },
    {
     "data": {
      "text/markdown": [
       "##### Accuracy : 0.8473, smoothing : 0.1"
      ],
      "text/plain": [
       "<IPython.core.display.Markdown object>"
      ]
     },
     "metadata": {},
     "output_type": "display_data"
    },
    {
     "data": {
      "text/markdown": [
       "##### Accuracy : 0.8474, smoothing : 0.11"
      ],
      "text/plain": [
       "<IPython.core.display.Markdown object>"
      ]
     },
     "metadata": {},
     "output_type": "display_data"
    },
    {
     "data": {
      "text/markdown": [
       "##### Accuracy : 0.8471, smoothing : 0.12"
      ],
      "text/plain": [
       "<IPython.core.display.Markdown object>"
      ]
     },
     "metadata": {},
     "output_type": "display_data"
    },
    {
     "data": {
      "text/markdown": [
       "## Best_score : 0.8501, Alpha : 0.06"
      ],
      "text/plain": [
       "<IPython.core.display.Markdown object>"
      ]
     },
     "metadata": {},
     "output_type": "display_data"
    }
   ],
   "source": [
    "test_multinomial(df_to_test)"
   ]
  },
  {
   "cell_type": "markdown",
   "metadata": {},
   "source": [
    "# Company feature 2 fl_dummies"
   ]
  },
  {
   "cell_type": "code",
   "execution_count": 409,
   "metadata": {},
   "outputs": [],
   "source": [
    "df_to_test = get_df_has_specified_vn_list(vn_company_more_than_one, df=df_train_fl)"
   ]
  },
  {
   "cell_type": "code",
   "execution_count": 410,
   "metadata": {},
   "outputs": [
    {
     "data": {
      "text/markdown": [
       "##### Accuracy : 0.7818, smoothing : 0.0"
      ],
      "text/plain": [
       "<IPython.core.display.Markdown object>"
      ]
     },
     "metadata": {},
     "output_type": "display_data"
    },
    {
     "data": {
      "text/markdown": [
       "##### Accuracy : 0.7801, smoothing : 0.01"
      ],
      "text/plain": [
       "<IPython.core.display.Markdown object>"
      ]
     },
     "metadata": {},
     "output_type": "display_data"
    },
    {
     "data": {
      "text/markdown": [
       "##### Accuracy : 0.7801, smoothing : 0.02"
      ],
      "text/plain": [
       "<IPython.core.display.Markdown object>"
      ]
     },
     "metadata": {},
     "output_type": "display_data"
    },
    {
     "data": {
      "text/markdown": [
       "##### Accuracy : 0.7787, smoothing : 0.03"
      ],
      "text/plain": [
       "<IPython.core.display.Markdown object>"
      ]
     },
     "metadata": {},
     "output_type": "display_data"
    },
    {
     "data": {
      "text/markdown": [
       "##### Accuracy : 0.7775, smoothing : 0.04"
      ],
      "text/plain": [
       "<IPython.core.display.Markdown object>"
      ]
     },
     "metadata": {},
     "output_type": "display_data"
    },
    {
     "data": {
      "text/markdown": [
       "##### Accuracy : 0.7754, smoothing : 0.05"
      ],
      "text/plain": [
       "<IPython.core.display.Markdown object>"
      ]
     },
     "metadata": {},
     "output_type": "display_data"
    },
    {
     "data": {
      "text/markdown": [
       "##### Accuracy : 0.7738, smoothing : 0.06"
      ],
      "text/plain": [
       "<IPython.core.display.Markdown object>"
      ]
     },
     "metadata": {},
     "output_type": "display_data"
    },
    {
     "data": {
      "text/markdown": [
       "## Best_score : 0.7818, Alpha : 0.0"
      ],
      "text/plain": [
       "<IPython.core.display.Markdown object>"
      ]
     },
     "metadata": {},
     "output_type": "display_data"
    }
   ],
   "source": [
    "test_multinomial(df_to_test)"
   ]
  },
  {
   "cell_type": "markdown",
   "metadata": {},
   "source": [
    "# Company feature 3 fl_dummies"
   ]
  },
  {
   "cell_type": "code",
   "execution_count": 416,
   "metadata": {},
   "outputs": [],
   "source": [
    "df_to_test = get_df_has_specified_vn_list(vn_company_3, is_in=False, df=df_train_fl)"
   ]
  },
  {
   "cell_type": "code",
   "execution_count": 417,
   "metadata": {},
   "outputs": [
    {
     "data": {
      "text/markdown": [
       "##### Accuracy : 0.7345, smoothing : 0.0"
      ],
      "text/plain": [
       "<IPython.core.display.Markdown object>"
      ]
     },
     "metadata": {},
     "output_type": "display_data"
    },
    {
     "data": {
      "text/markdown": [
       "##### Accuracy : 0.7128, smoothing : 0.01"
      ],
      "text/plain": [
       "<IPython.core.display.Markdown object>"
      ]
     },
     "metadata": {},
     "output_type": "display_data"
    },
    {
     "data": {
      "text/markdown": [
       "##### Accuracy : 0.7067, smoothing : 0.02"
      ],
      "text/plain": [
       "<IPython.core.display.Markdown object>"
      ]
     },
     "metadata": {},
     "output_type": "display_data"
    },
    {
     "data": {
      "text/markdown": [
       "##### Accuracy : 0.7025, smoothing : 0.03"
      ],
      "text/plain": [
       "<IPython.core.display.Markdown object>"
      ]
     },
     "metadata": {},
     "output_type": "display_data"
    },
    {
     "data": {
      "text/markdown": [
       "##### Accuracy : 0.6985, smoothing : 0.04"
      ],
      "text/plain": [
       "<IPython.core.display.Markdown object>"
      ]
     },
     "metadata": {},
     "output_type": "display_data"
    },
    {
     "data": {
      "text/markdown": [
       "##### Accuracy : 0.6954, smoothing : 0.05"
      ],
      "text/plain": [
       "<IPython.core.display.Markdown object>"
      ]
     },
     "metadata": {},
     "output_type": "display_data"
    },
    {
     "data": {
      "text/markdown": [
       "## Best_score : 0.7345, Alpha : 0.0"
      ],
      "text/plain": [
       "<IPython.core.display.Markdown object>"
      ]
     },
     "metadata": {},
     "output_type": "display_data"
    }
   ],
   "source": [
    "test_multinomial(df_to_test)"
   ]
  },
  {
   "cell_type": "code",
   "execution_count": 418,
   "metadata": {},
   "outputs": [
    {
     "name": "stdout",
     "output_type": "stream",
     "text": [
      "0.7724514941909831\n"
     ]
    },
    {
     "data": {
      "text/plain": [
       "0.7724514941909831"
      ]
     },
     "execution_count": 418,
     "metadata": {},
     "output_type": "execute_result"
    }
   ],
   "source": [
    "cal_average_of_accuracy(vn_company_one, vn_company_more_than_one, [0.8501, 0.7818, 0.7345])"
   ]
  },
  {
   "cell_type": "code",
   "execution_count": 13,
   "metadata": {},
   "outputs": [
    {
     "name": "stdout",
     "output_type": "stream",
     "text": [
      "0.7865797978752045\n"
     ]
    },
    {
     "data": {
      "text/plain": [
       "0.7865797978752045"
      ]
     },
     "execution_count": 13,
     "metadata": {},
     "output_type": "execute_result"
    }
   ],
   "source": [
    "cal_average_of_accuracy(vn_company_one, vn_company_more_than_one, [0.9139, 0.7818, 0.7345])"
   ]
  },
  {
   "cell_type": "markdown",
   "metadata": {},
   "source": [
    "# Upc feature 1 dd+fl"
   ]
  },
  {
   "cell_type": "code",
   "execution_count": 611,
   "metadata": {},
   "outputs": [
    {
     "name": "stdout",
     "output_type": "stream",
     "text": [
      "Concat 완료.\n"
     ]
    }
   ],
   "source": [
    "df_to_test = get_df_has_specified_vn_list(vn_upc_one, df_dd=df_dd, df_fl=df_train_fl, is_need_to_make_df=True)"
   ]
  },
  {
   "cell_type": "code",
   "execution_count": 612,
   "metadata": {
    "scrolled": true
   },
   "outputs": [
    {
     "data": {
      "text/markdown": [
       "##### Accuracy : 0.8973, smoothing : 0.0"
      ],
      "text/plain": [
       "<IPython.core.display.Markdown object>"
      ]
     },
     "metadata": {},
     "output_type": "display_data"
    },
    {
     "data": {
      "text/markdown": [
       "##### Accuracy : 0.9033, smoothing : 0.01"
      ],
      "text/plain": [
       "<IPython.core.display.Markdown object>"
      ]
     },
     "metadata": {},
     "output_type": "display_data"
    },
    {
     "data": {
      "text/markdown": [
       "##### Accuracy : 0.9071, smoothing : 0.02"
      ],
      "text/plain": [
       "<IPython.core.display.Markdown object>"
      ]
     },
     "metadata": {},
     "output_type": "display_data"
    },
    {
     "data": {
      "text/markdown": [
       "##### Accuracy : 0.909, smoothing : 0.03"
      ],
      "text/plain": [
       "<IPython.core.display.Markdown object>"
      ]
     },
     "metadata": {},
     "output_type": "display_data"
    },
    {
     "data": {
      "text/markdown": [
       "##### Accuracy : 0.9126, smoothing : 0.04"
      ],
      "text/plain": [
       "<IPython.core.display.Markdown object>"
      ]
     },
     "metadata": {},
     "output_type": "display_data"
    },
    {
     "data": {
      "text/markdown": [
       "##### Accuracy : 0.9147, smoothing : 0.05"
      ],
      "text/plain": [
       "<IPython.core.display.Markdown object>"
      ]
     },
     "metadata": {},
     "output_type": "display_data"
    },
    {
     "data": {
      "text/markdown": [
       "##### Accuracy : 0.9152, smoothing : 0.06"
      ],
      "text/plain": [
       "<IPython.core.display.Markdown object>"
      ]
     },
     "metadata": {},
     "output_type": "display_data"
    },
    {
     "data": {
      "text/markdown": [
       "##### Accuracy : 0.9165, smoothing : 0.07"
      ],
      "text/plain": [
       "<IPython.core.display.Markdown object>"
      ]
     },
     "metadata": {},
     "output_type": "display_data"
    },
    {
     "data": {
      "text/markdown": [
       "##### Accuracy : 0.9179, smoothing : 0.08"
      ],
      "text/plain": [
       "<IPython.core.display.Markdown object>"
      ]
     },
     "metadata": {},
     "output_type": "display_data"
    },
    {
     "data": {
      "text/markdown": [
       "##### Accuracy : 0.9178, smoothing : 0.09"
      ],
      "text/plain": [
       "<IPython.core.display.Markdown object>"
      ]
     },
     "metadata": {},
     "output_type": "display_data"
    },
    {
     "data": {
      "text/markdown": [
       "##### Accuracy : 0.9187, smoothing : 0.1"
      ],
      "text/plain": [
       "<IPython.core.display.Markdown object>"
      ]
     },
     "metadata": {},
     "output_type": "display_data"
    },
    {
     "data": {
      "text/markdown": [
       "##### Accuracy : 0.9184, smoothing : 0.11"
      ],
      "text/plain": [
       "<IPython.core.display.Markdown object>"
      ]
     },
     "metadata": {},
     "output_type": "display_data"
    },
    {
     "data": {
      "text/markdown": [
       "##### Accuracy : 0.9189, smoothing : 0.12"
      ],
      "text/plain": [
       "<IPython.core.display.Markdown object>"
      ]
     },
     "metadata": {},
     "output_type": "display_data"
    },
    {
     "data": {
      "text/markdown": [
       "##### Accuracy : 0.9186, smoothing : 0.13"
      ],
      "text/plain": [
       "<IPython.core.display.Markdown object>"
      ]
     },
     "metadata": {},
     "output_type": "display_data"
    },
    {
     "data": {
      "text/markdown": [
       "##### Accuracy : 0.9179, smoothing : 0.14"
      ],
      "text/plain": [
       "<IPython.core.display.Markdown object>"
      ]
     },
     "metadata": {},
     "output_type": "display_data"
    },
    {
     "data": {
      "text/markdown": [
       "##### Accuracy : 0.9172, smoothing : 0.15"
      ],
      "text/plain": [
       "<IPython.core.display.Markdown object>"
      ]
     },
     "metadata": {},
     "output_type": "display_data"
    },
    {
     "data": {
      "text/markdown": [
       "## Best_score : 0.9189, Alpha : 0.12"
      ],
      "text/plain": [
       "<IPython.core.display.Markdown object>"
      ]
     },
     "metadata": {},
     "output_type": "display_data"
    }
   ],
   "source": [
    "test_multinomial(df_to_test)"
   ]
  },
  {
   "cell_type": "code",
   "execution_count": 614,
   "metadata": {},
   "outputs": [],
   "source": [
    "alpha = np.arange(0.15, 1, 0.05)"
   ]
  },
  {
   "cell_type": "code",
   "execution_count": 615,
   "metadata": {
    "scrolled": true
   },
   "outputs": [
    {
     "data": {
      "text/markdown": [
       "##### Accuracy : 0.9172"
      ],
      "text/plain": [
       "<IPython.core.display.Markdown object>"
      ]
     },
     "metadata": {},
     "output_type": "display_data"
    },
    {
     "name": "stdout",
     "output_type": "stream",
     "text": [
      "0.15\n"
     ]
    },
    {
     "data": {
      "text/markdown": [
       "##### Accuracy : 0.9134"
      ],
      "text/plain": [
       "<IPython.core.display.Markdown object>"
      ]
     },
     "metadata": {},
     "output_type": "display_data"
    },
    {
     "name": "stdout",
     "output_type": "stream",
     "text": [
      "0.2\n"
     ]
    },
    {
     "data": {
      "text/markdown": [
       "##### Accuracy : 0.9102"
      ],
      "text/plain": [
       "<IPython.core.display.Markdown object>"
      ]
     },
     "metadata": {},
     "output_type": "display_data"
    },
    {
     "name": "stdout",
     "output_type": "stream",
     "text": [
      "0.25\n"
     ]
    },
    {
     "data": {
      "text/markdown": [
       "##### Accuracy : 0.9063"
      ],
      "text/plain": [
       "<IPython.core.display.Markdown object>"
      ]
     },
     "metadata": {},
     "output_type": "display_data"
    },
    {
     "name": "stdout",
     "output_type": "stream",
     "text": [
      "0.30000000000000004\n"
     ]
    },
    {
     "data": {
      "text/markdown": [
       "##### Accuracy : 0.9031"
      ],
      "text/plain": [
       "<IPython.core.display.Markdown object>"
      ]
     },
     "metadata": {},
     "output_type": "display_data"
    },
    {
     "name": "stdout",
     "output_type": "stream",
     "text": [
      "0.3500000000000001\n"
     ]
    },
    {
     "data": {
      "text/markdown": [
       "##### Accuracy : 0.8983"
      ],
      "text/plain": [
       "<IPython.core.display.Markdown object>"
      ]
     },
     "metadata": {},
     "output_type": "display_data"
    },
    {
     "name": "stdout",
     "output_type": "stream",
     "text": [
      "0.40000000000000013\n"
     ]
    },
    {
     "data": {
      "text/markdown": [
       "##### Accuracy : 0.8939"
      ],
      "text/plain": [
       "<IPython.core.display.Markdown object>"
      ]
     },
     "metadata": {},
     "output_type": "display_data"
    },
    {
     "name": "stdout",
     "output_type": "stream",
     "text": [
      "0.45000000000000007\n"
     ]
    },
    {
     "data": {
      "text/markdown": [
       "##### Accuracy : 0.8875"
      ],
      "text/plain": [
       "<IPython.core.display.Markdown object>"
      ]
     },
     "metadata": {},
     "output_type": "display_data"
    },
    {
     "name": "stdout",
     "output_type": "stream",
     "text": [
      "0.5000000000000001\n"
     ]
    },
    {
     "data": {
      "text/markdown": [
       "##### Accuracy : 0.8824"
      ],
      "text/plain": [
       "<IPython.core.display.Markdown object>"
      ]
     },
     "metadata": {},
     "output_type": "display_data"
    },
    {
     "name": "stdout",
     "output_type": "stream",
     "text": [
      "0.5500000000000002\n"
     ]
    },
    {
     "data": {
      "text/markdown": [
       "##### Accuracy : 0.879"
      ],
      "text/plain": [
       "<IPython.core.display.Markdown object>"
      ]
     },
     "metadata": {},
     "output_type": "display_data"
    },
    {
     "name": "stdout",
     "output_type": "stream",
     "text": [
      "0.6000000000000002\n"
     ]
    },
    {
     "data": {
      "text/markdown": [
       "##### Accuracy : 0.875"
      ],
      "text/plain": [
       "<IPython.core.display.Markdown object>"
      ]
     },
     "metadata": {},
     "output_type": "display_data"
    },
    {
     "name": "stdout",
     "output_type": "stream",
     "text": [
      "0.6500000000000002\n"
     ]
    },
    {
     "data": {
      "text/markdown": [
       "##### Accuracy : 0.8715"
      ],
      "text/plain": [
       "<IPython.core.display.Markdown object>"
      ]
     },
     "metadata": {},
     "output_type": "display_data"
    },
    {
     "name": "stdout",
     "output_type": "stream",
     "text": [
      "0.7000000000000002\n"
     ]
    },
    {
     "data": {
      "text/markdown": [
       "##### Accuracy : 0.8689"
      ],
      "text/plain": [
       "<IPython.core.display.Markdown object>"
      ]
     },
     "metadata": {},
     "output_type": "display_data"
    },
    {
     "name": "stdout",
     "output_type": "stream",
     "text": [
      "0.7500000000000002\n"
     ]
    },
    {
     "data": {
      "text/markdown": [
       "##### Accuracy : 0.8662"
      ],
      "text/plain": [
       "<IPython.core.display.Markdown object>"
      ]
     },
     "metadata": {},
     "output_type": "display_data"
    },
    {
     "name": "stdout",
     "output_type": "stream",
     "text": [
      "0.8000000000000003\n"
     ]
    },
    {
     "data": {
      "text/markdown": [
       "##### Accuracy : 0.8642"
      ],
      "text/plain": [
       "<IPython.core.display.Markdown object>"
      ]
     },
     "metadata": {},
     "output_type": "display_data"
    },
    {
     "name": "stdout",
     "output_type": "stream",
     "text": [
      "0.8500000000000002\n"
     ]
    },
    {
     "data": {
      "text/markdown": [
       "##### Accuracy : 0.862"
      ],
      "text/plain": [
       "<IPython.core.display.Markdown object>"
      ]
     },
     "metadata": {},
     "output_type": "display_data"
    },
    {
     "name": "stdout",
     "output_type": "stream",
     "text": [
      "0.9000000000000002\n"
     ]
    },
    {
     "data": {
      "text/markdown": [
       "##### Accuracy : 0.8604"
      ],
      "text/plain": [
       "<IPython.core.display.Markdown object>"
      ]
     },
     "metadata": {},
     "output_type": "display_data"
    },
    {
     "name": "stdout",
     "output_type": "stream",
     "text": [
      "0.9500000000000003\n"
     ]
    }
   ],
   "source": [
    "X, y = af.get_df_to_fit(df_to_test)\n",
    "for i in alpha:\n",
    "    model_nb_dd_one_01 = fitNaiveBayesModel_smoothing(X, y, i)\n",
    "    y_pred_dd_one = model_nb_dd_one_01.predict(X)\n",
    "    af.getAccuracy(y, y_pred_dd_one, len(X))\n",
    "    print(i)"
   ]
  },
  {
   "cell_type": "markdown",
   "metadata": {},
   "source": [
    "# Upc feature 2 dd+fl"
   ]
  },
  {
   "cell_type": "code",
   "execution_count": 616,
   "metadata": {},
   "outputs": [
    {
     "name": "stdout",
     "output_type": "stream",
     "text": [
      "Concat 완료.\n"
     ]
    }
   ],
   "source": [
    "df_to_test = get_df_has_specified_vn_list(vn_upc_more_than_one, df_dd=df_dd, df_fl=df_train_fl, is_need_to_make_df=True)"
   ]
  },
  {
   "cell_type": "code",
   "execution_count": 617,
   "metadata": {},
   "outputs": [
    {
     "data": {
      "text/markdown": [
       "##### Accuracy : 0.6985, smoothing : 0.0"
      ],
      "text/plain": [
       "<IPython.core.display.Markdown object>"
      ]
     },
     "metadata": {},
     "output_type": "display_data"
    },
    {
     "data": {
      "text/markdown": [
       "##### Accuracy : 0.6728, smoothing : 0.01"
      ],
      "text/plain": [
       "<IPython.core.display.Markdown object>"
      ]
     },
     "metadata": {},
     "output_type": "display_data"
    },
    {
     "data": {
      "text/markdown": [
       "##### Accuracy : 0.6661, smoothing : 0.02"
      ],
      "text/plain": [
       "<IPython.core.display.Markdown object>"
      ]
     },
     "metadata": {},
     "output_type": "display_data"
    },
    {
     "data": {
      "text/markdown": [
       "##### Accuracy : 0.6622, smoothing : 0.03"
      ],
      "text/plain": [
       "<IPython.core.display.Markdown object>"
      ]
     },
     "metadata": {},
     "output_type": "display_data"
    },
    {
     "data": {
      "text/markdown": [
       "##### Accuracy : 0.6598, smoothing : 0.04"
      ],
      "text/plain": [
       "<IPython.core.display.Markdown object>"
      ]
     },
     "metadata": {},
     "output_type": "display_data"
    },
    {
     "data": {
      "text/markdown": [
       "##### Accuracy : 0.6574, smoothing : 0.05"
      ],
      "text/plain": [
       "<IPython.core.display.Markdown object>"
      ]
     },
     "metadata": {},
     "output_type": "display_data"
    },
    {
     "data": {
      "text/markdown": [
       "## Best_score : 0.6985, Alpha : 0.0"
      ],
      "text/plain": [
       "<IPython.core.display.Markdown object>"
      ]
     },
     "metadata": {},
     "output_type": "display_data"
    }
   ],
   "source": [
    "test_multinomial(df_to_test)"
   ]
  },
  {
   "cell_type": "markdown",
   "metadata": {},
   "source": [
    "# Upc feature 3 dd+fl"
   ]
  },
  {
   "cell_type": "code",
   "execution_count": 618,
   "metadata": {},
   "outputs": [],
   "source": [
    "vn_upc_3 = vn_upc_one + vn_upc_more_than_one"
   ]
  },
  {
   "cell_type": "code",
   "execution_count": 619,
   "metadata": {},
   "outputs": [
    {
     "name": "stdout",
     "output_type": "stream",
     "text": [
      "Concat 완료.\n"
     ]
    }
   ],
   "source": [
    "df_to_test = get_df_has_specified_vn_list(vn_upc_3, is_in=False, df_dd=df_dd, df_fl=df_train_fl, is_need_to_make_df=True)"
   ]
  },
  {
   "cell_type": "code",
   "execution_count": 620,
   "metadata": {},
   "outputs": [
    {
     "data": {
      "text/markdown": [
       "##### Accuracy : 0.7615, smoothing : 0.0"
      ],
      "text/plain": [
       "<IPython.core.display.Markdown object>"
      ]
     },
     "metadata": {},
     "output_type": "display_data"
    },
    {
     "data": {
      "text/markdown": [
       "##### Accuracy : 0.7113, smoothing : 0.01"
      ],
      "text/plain": [
       "<IPython.core.display.Markdown object>"
      ]
     },
     "metadata": {},
     "output_type": "display_data"
    },
    {
     "data": {
      "text/markdown": [
       "##### Accuracy : 0.7034, smoothing : 0.02"
      ],
      "text/plain": [
       "<IPython.core.display.Markdown object>"
      ]
     },
     "metadata": {},
     "output_type": "display_data"
    },
    {
     "data": {
      "text/markdown": [
       "##### Accuracy : 0.6978, smoothing : 0.03"
      ],
      "text/plain": [
       "<IPython.core.display.Markdown object>"
      ]
     },
     "metadata": {},
     "output_type": "display_data"
    },
    {
     "data": {
      "text/markdown": [
       "##### Accuracy : 0.6934, smoothing : 0.04"
      ],
      "text/plain": [
       "<IPython.core.display.Markdown object>"
      ]
     },
     "metadata": {},
     "output_type": "display_data"
    },
    {
     "data": {
      "text/markdown": [
       "##### Accuracy : 0.6897, smoothing : 0.05"
      ],
      "text/plain": [
       "<IPython.core.display.Markdown object>"
      ]
     },
     "metadata": {},
     "output_type": "display_data"
    },
    {
     "data": {
      "text/markdown": [
       "## Best_score : 0.7615, Alpha : 0.0"
      ],
      "text/plain": [
       "<IPython.core.display.Markdown object>"
      ]
     },
     "metadata": {},
     "output_type": "display_data"
    }
   ],
   "source": [
    "test_multinomial(df_to_test)"
   ]
  },
  {
   "cell_type": "code",
   "execution_count": 621,
   "metadata": {},
   "outputs": [
    {
     "name": "stdout",
     "output_type": "stream",
     "text": [
      "0.7651755834903804\n"
     ]
    },
    {
     "data": {
      "text/plain": [
       "0.7651755834903804"
      ]
     },
     "execution_count": 621,
     "metadata": {},
     "output_type": "execute_result"
    }
   ],
   "source": [
    "cal_average_of_accuracy(vn_upc_one, vn_upc_more_than_one, [0.9189, 0.6985, 0.7615])"
   ]
  },
  {
   "cell_type": "markdown",
   "metadata": {},
   "source": [
    "# Upc feature 1 fl"
   ]
  },
  {
   "cell_type": "code",
   "execution_count": 622,
   "metadata": {},
   "outputs": [],
   "source": [
    "df_to_test = get_df_has_specified_vn_list(vn_upc_one, df=df_train_fl)"
   ]
  },
  {
   "cell_type": "code",
   "execution_count": 623,
   "metadata": {},
   "outputs": [
    {
     "data": {
      "text/markdown": [
       "##### Accuracy : 0.8413, smoothing : 0.0"
      ],
      "text/plain": [
       "<IPython.core.display.Markdown object>"
      ]
     },
     "metadata": {},
     "output_type": "display_data"
    },
    {
     "data": {
      "text/markdown": [
       "##### Accuracy : 0.8428, smoothing : 0.01"
      ],
      "text/plain": [
       "<IPython.core.display.Markdown object>"
      ]
     },
     "metadata": {},
     "output_type": "display_data"
    },
    {
     "data": {
      "text/markdown": [
       "##### Accuracy : 0.8451, smoothing : 0.02"
      ],
      "text/plain": [
       "<IPython.core.display.Markdown object>"
      ]
     },
     "metadata": {},
     "output_type": "display_data"
    },
    {
     "data": {
      "text/markdown": [
       "##### Accuracy : 0.8457, smoothing : 0.03"
      ],
      "text/plain": [
       "<IPython.core.display.Markdown object>"
      ]
     },
     "metadata": {},
     "output_type": "display_data"
    },
    {
     "data": {
      "text/markdown": [
       "##### Accuracy : 0.8444, smoothing : 0.04"
      ],
      "text/plain": [
       "<IPython.core.display.Markdown object>"
      ]
     },
     "metadata": {},
     "output_type": "display_data"
    },
    {
     "data": {
      "text/markdown": [
       "##### Accuracy : 0.8439, smoothing : 0.05"
      ],
      "text/plain": [
       "<IPython.core.display.Markdown object>"
      ]
     },
     "metadata": {},
     "output_type": "display_data"
    },
    {
     "data": {
      "text/markdown": [
       "##### Accuracy : 0.8433, smoothing : 0.06"
      ],
      "text/plain": [
       "<IPython.core.display.Markdown object>"
      ]
     },
     "metadata": {},
     "output_type": "display_data"
    },
    {
     "data": {
      "text/markdown": [
       "##### Accuracy : 0.8415, smoothing : 0.07"
      ],
      "text/plain": [
       "<IPython.core.display.Markdown object>"
      ]
     },
     "metadata": {},
     "output_type": "display_data"
    },
    {
     "data": {
      "text/markdown": [
       "##### Accuracy : 0.8403, smoothing : 0.08"
      ],
      "text/plain": [
       "<IPython.core.display.Markdown object>"
      ]
     },
     "metadata": {},
     "output_type": "display_data"
    },
    {
     "data": {
      "text/markdown": [
       "## Best_score : 0.8457, Alpha : 0.03"
      ],
      "text/plain": [
       "<IPython.core.display.Markdown object>"
      ]
     },
     "metadata": {},
     "output_type": "display_data"
    }
   ],
   "source": [
    "test_multinomial(df_to_test)"
   ]
  },
  {
   "cell_type": "code",
   "execution_count": 624,
   "metadata": {
    "scrolled": true
   },
   "outputs": [
    {
     "data": {
      "text/markdown": [
       "##### Accuracy : 0.832"
      ],
      "text/plain": [
       "<IPython.core.display.Markdown object>"
      ]
     },
     "metadata": {},
     "output_type": "display_data"
    },
    {
     "name": "stdout",
     "output_type": "stream",
     "text": [
      "0.15\n"
     ]
    },
    {
     "data": {
      "text/markdown": [
       "##### Accuracy : 0.8235"
      ],
      "text/plain": [
       "<IPython.core.display.Markdown object>"
      ]
     },
     "metadata": {},
     "output_type": "display_data"
    },
    {
     "name": "stdout",
     "output_type": "stream",
     "text": [
      "0.2\n"
     ]
    },
    {
     "data": {
      "text/markdown": [
       "##### Accuracy : 0.8179"
      ],
      "text/plain": [
       "<IPython.core.display.Markdown object>"
      ]
     },
     "metadata": {},
     "output_type": "display_data"
    },
    {
     "name": "stdout",
     "output_type": "stream",
     "text": [
      "0.25\n"
     ]
    },
    {
     "data": {
      "text/markdown": [
       "##### Accuracy : 0.8132"
      ],
      "text/plain": [
       "<IPython.core.display.Markdown object>"
      ]
     },
     "metadata": {},
     "output_type": "display_data"
    },
    {
     "name": "stdout",
     "output_type": "stream",
     "text": [
      "0.30000000000000004\n"
     ]
    },
    {
     "data": {
      "text/markdown": [
       "##### Accuracy : 0.8098"
      ],
      "text/plain": [
       "<IPython.core.display.Markdown object>"
      ]
     },
     "metadata": {},
     "output_type": "display_data"
    },
    {
     "name": "stdout",
     "output_type": "stream",
     "text": [
      "0.3500000000000001\n"
     ]
    },
    {
     "data": {
      "text/markdown": [
       "##### Accuracy : 0.8059"
      ],
      "text/plain": [
       "<IPython.core.display.Markdown object>"
      ]
     },
     "metadata": {},
     "output_type": "display_data"
    },
    {
     "name": "stdout",
     "output_type": "stream",
     "text": [
      "0.40000000000000013\n"
     ]
    },
    {
     "data": {
      "text/markdown": [
       "##### Accuracy : 0.8019"
      ],
      "text/plain": [
       "<IPython.core.display.Markdown object>"
      ]
     },
     "metadata": {},
     "output_type": "display_data"
    },
    {
     "name": "stdout",
     "output_type": "stream",
     "text": [
      "0.45000000000000007\n"
     ]
    },
    {
     "data": {
      "text/markdown": [
       "##### Accuracy : 0.7977"
      ],
      "text/plain": [
       "<IPython.core.display.Markdown object>"
      ]
     },
     "metadata": {},
     "output_type": "display_data"
    },
    {
     "name": "stdout",
     "output_type": "stream",
     "text": [
      "0.5000000000000001\n"
     ]
    },
    {
     "data": {
      "text/markdown": [
       "##### Accuracy : 0.794"
      ],
      "text/plain": [
       "<IPython.core.display.Markdown object>"
      ]
     },
     "metadata": {},
     "output_type": "display_data"
    },
    {
     "name": "stdout",
     "output_type": "stream",
     "text": [
      "0.5500000000000002\n"
     ]
    },
    {
     "data": {
      "text/markdown": [
       "##### Accuracy : 0.791"
      ],
      "text/plain": [
       "<IPython.core.display.Markdown object>"
      ]
     },
     "metadata": {},
     "output_type": "display_data"
    },
    {
     "name": "stdout",
     "output_type": "stream",
     "text": [
      "0.6000000000000002\n"
     ]
    },
    {
     "data": {
      "text/markdown": [
       "##### Accuracy : 0.786"
      ],
      "text/plain": [
       "<IPython.core.display.Markdown object>"
      ]
     },
     "metadata": {},
     "output_type": "display_data"
    },
    {
     "name": "stdout",
     "output_type": "stream",
     "text": [
      "0.6500000000000002\n"
     ]
    },
    {
     "data": {
      "text/markdown": [
       "##### Accuracy : 0.784"
      ],
      "text/plain": [
       "<IPython.core.display.Markdown object>"
      ]
     },
     "metadata": {},
     "output_type": "display_data"
    },
    {
     "name": "stdout",
     "output_type": "stream",
     "text": [
      "0.7000000000000002\n"
     ]
    },
    {
     "data": {
      "text/markdown": [
       "##### Accuracy : 0.7822"
      ],
      "text/plain": [
       "<IPython.core.display.Markdown object>"
      ]
     },
     "metadata": {},
     "output_type": "display_data"
    },
    {
     "name": "stdout",
     "output_type": "stream",
     "text": [
      "0.7500000000000002\n"
     ]
    },
    {
     "data": {
      "text/markdown": [
       "##### Accuracy : 0.7792"
      ],
      "text/plain": [
       "<IPython.core.display.Markdown object>"
      ]
     },
     "metadata": {},
     "output_type": "display_data"
    },
    {
     "name": "stdout",
     "output_type": "stream",
     "text": [
      "0.8000000000000003\n"
     ]
    },
    {
     "data": {
      "text/markdown": [
       "##### Accuracy : 0.7772"
      ],
      "text/plain": [
       "<IPython.core.display.Markdown object>"
      ]
     },
     "metadata": {},
     "output_type": "display_data"
    },
    {
     "name": "stdout",
     "output_type": "stream",
     "text": [
      "0.8500000000000002\n"
     ]
    },
    {
     "data": {
      "text/markdown": [
       "##### Accuracy : 0.7763"
      ],
      "text/plain": [
       "<IPython.core.display.Markdown object>"
      ]
     },
     "metadata": {},
     "output_type": "display_data"
    },
    {
     "name": "stdout",
     "output_type": "stream",
     "text": [
      "0.9000000000000002\n"
     ]
    },
    {
     "data": {
      "text/markdown": [
       "##### Accuracy : 0.7735"
      ],
      "text/plain": [
       "<IPython.core.display.Markdown object>"
      ]
     },
     "metadata": {},
     "output_type": "display_data"
    },
    {
     "name": "stdout",
     "output_type": "stream",
     "text": [
      "0.9500000000000003\n"
     ]
    }
   ],
   "source": [
    "X, y = af.get_df_to_fit(df_to_test)\n",
    "for i in alpha:\n",
    "    model_nb_dd_one_01 = fitNaiveBayesModel_smoothing(X, y, i)\n",
    "    y_pred_dd_one = model_nb_dd_one_01.predict(X)\n",
    "    af.getAccuracy(y, y_pred_dd_one, len(X))\n",
    "    print(i)"
   ]
  },
  {
   "cell_type": "markdown",
   "metadata": {},
   "source": [
    "# Upc feature 2 fl"
   ]
  },
  {
   "cell_type": "code",
   "execution_count": 625,
   "metadata": {},
   "outputs": [],
   "source": [
    "df_to_test = get_df_has_specified_vn_list(vn_upc_more_than_one, df=df_train_fl)"
   ]
  },
  {
   "cell_type": "code",
   "execution_count": 626,
   "metadata": {},
   "outputs": [
    {
     "data": {
      "text/markdown": [
       "##### Accuracy : 0.7329, smoothing : 0.0"
      ],
      "text/plain": [
       "<IPython.core.display.Markdown object>"
      ]
     },
     "metadata": {},
     "output_type": "display_data"
    },
    {
     "data": {
      "text/markdown": [
       "##### Accuracy : 0.7257, smoothing : 0.01"
      ],
      "text/plain": [
       "<IPython.core.display.Markdown object>"
      ]
     },
     "metadata": {},
     "output_type": "display_data"
    },
    {
     "data": {
      "text/markdown": [
       "##### Accuracy : 0.7228, smoothing : 0.02"
      ],
      "text/plain": [
       "<IPython.core.display.Markdown object>"
      ]
     },
     "metadata": {},
     "output_type": "display_data"
    },
    {
     "data": {
      "text/markdown": [
       "##### Accuracy : 0.7204, smoothing : 0.03"
      ],
      "text/plain": [
       "<IPython.core.display.Markdown object>"
      ]
     },
     "metadata": {},
     "output_type": "display_data"
    },
    {
     "data": {
      "text/markdown": [
       "##### Accuracy : 0.7189, smoothing : 0.04"
      ],
      "text/plain": [
       "<IPython.core.display.Markdown object>"
      ]
     },
     "metadata": {},
     "output_type": "display_data"
    },
    {
     "data": {
      "text/markdown": [
       "##### Accuracy : 0.7177, smoothing : 0.05"
      ],
      "text/plain": [
       "<IPython.core.display.Markdown object>"
      ]
     },
     "metadata": {},
     "output_type": "display_data"
    },
    {
     "data": {
      "text/markdown": [
       "## Best_score : 0.7329, Alpha : 0.0"
      ],
      "text/plain": [
       "<IPython.core.display.Markdown object>"
      ]
     },
     "metadata": {},
     "output_type": "display_data"
    }
   ],
   "source": [
    "test_multinomial(df_to_test)"
   ]
  },
  {
   "cell_type": "markdown",
   "metadata": {},
   "source": [
    "# Upc feature 3 fl"
   ]
  },
  {
   "cell_type": "code",
   "execution_count": 627,
   "metadata": {},
   "outputs": [],
   "source": [
    "df_to_test = get_df_has_specified_vn_list(vn_upc_3, is_in=False, df=df_train_fl)"
   ]
  },
  {
   "cell_type": "code",
   "execution_count": 628,
   "metadata": {},
   "outputs": [
    {
     "data": {
      "text/markdown": [
       "##### Accuracy : 0.7731, smoothing : 0.0"
      ],
      "text/plain": [
       "<IPython.core.display.Markdown object>"
      ]
     },
     "metadata": {},
     "output_type": "display_data"
    },
    {
     "data": {
      "text/markdown": [
       "##### Accuracy : 0.7463, smoothing : 0.01"
      ],
      "text/plain": [
       "<IPython.core.display.Markdown object>"
      ]
     },
     "metadata": {},
     "output_type": "display_data"
    },
    {
     "data": {
      "text/markdown": [
       "##### Accuracy : 0.7396, smoothing : 0.02"
      ],
      "text/plain": [
       "<IPython.core.display.Markdown object>"
      ]
     },
     "metadata": {},
     "output_type": "display_data"
    },
    {
     "data": {
      "text/markdown": [
       "##### Accuracy : 0.7344, smoothing : 0.03"
      ],
      "text/plain": [
       "<IPython.core.display.Markdown object>"
      ]
     },
     "metadata": {},
     "output_type": "display_data"
    },
    {
     "data": {
      "text/markdown": [
       "##### Accuracy : 0.7299, smoothing : 0.04"
      ],
      "text/plain": [
       "<IPython.core.display.Markdown object>"
      ]
     },
     "metadata": {},
     "output_type": "display_data"
    },
    {
     "data": {
      "text/markdown": [
       "##### Accuracy : 0.7262, smoothing : 0.05"
      ],
      "text/plain": [
       "<IPython.core.display.Markdown object>"
      ]
     },
     "metadata": {},
     "output_type": "display_data"
    },
    {
     "data": {
      "text/markdown": [
       "## Best_score : 0.7731, Alpha : 0.0"
      ],
      "text/plain": [
       "<IPython.core.display.Markdown object>"
      ]
     },
     "metadata": {},
     "output_type": "display_data"
    }
   ],
   "source": [
    "test_multinomial(df_to_test)"
   ]
  },
  {
   "cell_type": "code",
   "execution_count": 629,
   "metadata": {},
   "outputs": [
    {
     "name": "stdout",
     "output_type": "stream",
     "text": [
      "0.7700662952761613\n"
     ]
    },
    {
     "data": {
      "text/plain": [
       "0.7700662952761613"
      ]
     },
     "execution_count": 629,
     "metadata": {},
     "output_type": "execute_result"
    }
   ],
   "source": [
    "cal_average_of_accuracy(vn_upc_one, vn_upc_more_than_one, [0.8457, 0.7329, 0.7731])"
   ]
  },
  {
   "cell_type": "code",
   "execution_count": 630,
   "metadata": {},
   "outputs": [
    {
     "name": "stdout",
     "output_type": "stream",
     "text": [
      "0.7842114937767929\n"
     ]
    },
    {
     "data": {
      "text/plain": [
       "0.7842114937767929"
      ]
     },
     "execution_count": 630,
     "metadata": {},
     "output_type": "execute_result"
    }
   ],
   "source": [
    "cal_average_of_accuracy(vn_upc_one, vn_upc_more_than_one, [0.9189, 0.7329, 0.7731])"
   ]
  },
  {
   "cell_type": "markdown",
   "metadata": {},
   "source": [
    "# Upc feature 1 dd+company"
   ]
  },
  {
   "cell_type": "code",
   "execution_count": 632,
   "metadata": {
    "scrolled": true
   },
   "outputs": [],
   "source": [
    "df_to_test = get_df_has_specified_vn_list(vn_upc_one, df=df_train_dd)"
   ]
  },
  {
   "cell_type": "code",
   "execution_count": 633,
   "metadata": {
    "scrolled": true
   },
   "outputs": [
    {
     "data": {
      "text/markdown": [
       "##### Accuracy : 0.8365, smoothing : 0.0"
      ],
      "text/plain": [
       "<IPython.core.display.Markdown object>"
      ]
     },
     "metadata": {},
     "output_type": "display_data"
    },
    {
     "data": {
      "text/markdown": [
       "##### Accuracy : 0.8472, smoothing : 0.01"
      ],
      "text/plain": [
       "<IPython.core.display.Markdown object>"
      ]
     },
     "metadata": {},
     "output_type": "display_data"
    },
    {
     "data": {
      "text/markdown": [
       "##### Accuracy : 0.8568, smoothing : 0.02"
      ],
      "text/plain": [
       "<IPython.core.display.Markdown object>"
      ]
     },
     "metadata": {},
     "output_type": "display_data"
    },
    {
     "data": {
      "text/markdown": [
       "##### Accuracy : 0.8628, smoothing : 0.03"
      ],
      "text/plain": [
       "<IPython.core.display.Markdown object>"
      ]
     },
     "metadata": {},
     "output_type": "display_data"
    },
    {
     "data": {
      "text/markdown": [
       "##### Accuracy : 0.869, smoothing : 0.04"
      ],
      "text/plain": [
       "<IPython.core.display.Markdown object>"
      ]
     },
     "metadata": {},
     "output_type": "display_data"
    },
    {
     "data": {
      "text/markdown": [
       "##### Accuracy : 0.8731, smoothing : 0.05"
      ],
      "text/plain": [
       "<IPython.core.display.Markdown object>"
      ]
     },
     "metadata": {},
     "output_type": "display_data"
    },
    {
     "data": {
      "text/markdown": [
       "##### Accuracy : 0.8755, smoothing : 0.06"
      ],
      "text/plain": [
       "<IPython.core.display.Markdown object>"
      ]
     },
     "metadata": {},
     "output_type": "display_data"
    },
    {
     "data": {
      "text/markdown": [
       "##### Accuracy : 0.8771, smoothing : 0.07"
      ],
      "text/plain": [
       "<IPython.core.display.Markdown object>"
      ]
     },
     "metadata": {},
     "output_type": "display_data"
    },
    {
     "data": {
      "text/markdown": [
       "##### Accuracy : 0.8793, smoothing : 0.08"
      ],
      "text/plain": [
       "<IPython.core.display.Markdown object>"
      ]
     },
     "metadata": {},
     "output_type": "display_data"
    },
    {
     "data": {
      "text/markdown": [
       "##### Accuracy : 0.8815, smoothing : 0.09"
      ],
      "text/plain": [
       "<IPython.core.display.Markdown object>"
      ]
     },
     "metadata": {},
     "output_type": "display_data"
    },
    {
     "data": {
      "text/markdown": [
       "##### Accuracy : 0.8831, smoothing : 0.1"
      ],
      "text/plain": [
       "<IPython.core.display.Markdown object>"
      ]
     },
     "metadata": {},
     "output_type": "display_data"
    },
    {
     "data": {
      "text/markdown": [
       "##### Accuracy : 0.8845, smoothing : 0.11"
      ],
      "text/plain": [
       "<IPython.core.display.Markdown object>"
      ]
     },
     "metadata": {},
     "output_type": "display_data"
    },
    {
     "data": {
      "text/markdown": [
       "##### Accuracy : 0.8856, smoothing : 0.12"
      ],
      "text/plain": [
       "<IPython.core.display.Markdown object>"
      ]
     },
     "metadata": {},
     "output_type": "display_data"
    },
    {
     "data": {
      "text/markdown": [
       "##### Accuracy : 0.8855, smoothing : 0.13"
      ],
      "text/plain": [
       "<IPython.core.display.Markdown object>"
      ]
     },
     "metadata": {},
     "output_type": "display_data"
    },
    {
     "data": {
      "text/markdown": [
       "##### Accuracy : 0.8854, smoothing : 0.14"
      ],
      "text/plain": [
       "<IPython.core.display.Markdown object>"
      ]
     },
     "metadata": {},
     "output_type": "display_data"
    },
    {
     "data": {
      "text/markdown": [
       "##### Accuracy : 0.8848, smoothing : 0.15"
      ],
      "text/plain": [
       "<IPython.core.display.Markdown object>"
      ]
     },
     "metadata": {},
     "output_type": "display_data"
    },
    {
     "data": {
      "text/markdown": [
       "## Best_score : 0.8856, Alpha : 0.12"
      ],
      "text/plain": [
       "<IPython.core.display.Markdown object>"
      ]
     },
     "metadata": {},
     "output_type": "display_data"
    }
   ],
   "source": [
    "test_multinomial(df_to_test)"
   ]
  },
  {
   "cell_type": "markdown",
   "metadata": {},
   "source": [
    "# Upc feature 2 dd+company"
   ]
  },
  {
   "cell_type": "code",
   "execution_count": 634,
   "metadata": {},
   "outputs": [],
   "source": [
    "df_to_test = get_df_has_specified_vn_list(vn_upc_more_than_one, df=df_train_dd)"
   ]
  },
  {
   "cell_type": "code",
   "execution_count": 635,
   "metadata": {},
   "outputs": [
    {
     "data": {
      "text/markdown": [
       "##### Accuracy : 0.645, smoothing : 0.0"
      ],
      "text/plain": [
       "<IPython.core.display.Markdown object>"
      ]
     },
     "metadata": {},
     "output_type": "display_data"
    },
    {
     "data": {
      "text/markdown": [
       "##### Accuracy : 0.6162, smoothing : 0.01"
      ],
      "text/plain": [
       "<IPython.core.display.Markdown object>"
      ]
     },
     "metadata": {},
     "output_type": "display_data"
    },
    {
     "data": {
      "text/markdown": [
       "##### Accuracy : 0.6101, smoothing : 0.02"
      ],
      "text/plain": [
       "<IPython.core.display.Markdown object>"
      ]
     },
     "metadata": {},
     "output_type": "display_data"
    },
    {
     "data": {
      "text/markdown": [
       "##### Accuracy : 0.6056, smoothing : 0.03"
      ],
      "text/plain": [
       "<IPython.core.display.Markdown object>"
      ]
     },
     "metadata": {},
     "output_type": "display_data"
    },
    {
     "data": {
      "text/markdown": [
       "##### Accuracy : 0.6026, smoothing : 0.04"
      ],
      "text/plain": [
       "<IPython.core.display.Markdown object>"
      ]
     },
     "metadata": {},
     "output_type": "display_data"
    },
    {
     "data": {
      "text/markdown": [
       "##### Accuracy : 0.5994, smoothing : 0.05"
      ],
      "text/plain": [
       "<IPython.core.display.Markdown object>"
      ]
     },
     "metadata": {},
     "output_type": "display_data"
    },
    {
     "data": {
      "text/markdown": [
       "## Best_score : 0.645, Alpha : 0.0"
      ],
      "text/plain": [
       "<IPython.core.display.Markdown object>"
      ]
     },
     "metadata": {},
     "output_type": "display_data"
    }
   ],
   "source": [
    "test_multinomial(df_to_test)"
   ]
  },
  {
   "cell_type": "markdown",
   "metadata": {},
   "source": [
    "# Upc feature 3 dd+company"
   ]
  },
  {
   "cell_type": "code",
   "execution_count": 636,
   "metadata": {},
   "outputs": [],
   "source": [
    "df_to_test = get_df_has_specified_vn_list(vn_upc_3, is_in=False, df=df_train_dd)"
   ]
  },
  {
   "cell_type": "code",
   "execution_count": 637,
   "metadata": {},
   "outputs": [
    {
     "data": {
      "text/markdown": [
       "##### Accuracy : 0.7378, smoothing : 0.0"
      ],
      "text/plain": [
       "<IPython.core.display.Markdown object>"
      ]
     },
     "metadata": {},
     "output_type": "display_data"
    },
    {
     "data": {
      "text/markdown": [
       "##### Accuracy : 0.681, smoothing : 0.01"
      ],
      "text/plain": [
       "<IPython.core.display.Markdown object>"
      ]
     },
     "metadata": {},
     "output_type": "display_data"
    },
    {
     "data": {
      "text/markdown": [
       "##### Accuracy : 0.6726, smoothing : 0.02"
      ],
      "text/plain": [
       "<IPython.core.display.Markdown object>"
      ]
     },
     "metadata": {},
     "output_type": "display_data"
    },
    {
     "data": {
      "text/markdown": [
       "##### Accuracy : 0.6672, smoothing : 0.03"
      ],
      "text/plain": [
       "<IPython.core.display.Markdown object>"
      ]
     },
     "metadata": {},
     "output_type": "display_data"
    },
    {
     "data": {
      "text/markdown": [
       "##### Accuracy : 0.6635, smoothing : 0.04"
      ],
      "text/plain": [
       "<IPython.core.display.Markdown object>"
      ]
     },
     "metadata": {},
     "output_type": "display_data"
    },
    {
     "data": {
      "text/markdown": [
       "##### Accuracy : 0.6598, smoothing : 0.05"
      ],
      "text/plain": [
       "<IPython.core.display.Markdown object>"
      ]
     },
     "metadata": {},
     "output_type": "display_data"
    },
    {
     "data": {
      "text/markdown": [
       "## Best_score : 0.7378, Alpha : 0.0"
      ],
      "text/plain": [
       "<IPython.core.display.Markdown object>"
      ]
     },
     "metadata": {},
     "output_type": "display_data"
    }
   ],
   "source": [
    "test_multinomial(df_to_test)"
   ]
  },
  {
   "cell_type": "code",
   "execution_count": 638,
   "metadata": {},
   "outputs": [
    {
     "name": "stdout",
     "output_type": "stream",
     "text": [
      "0.7269718143599727\n"
     ]
    },
    {
     "data": {
      "text/plain": [
       "0.7269718143599727"
      ]
     },
     "execution_count": 638,
     "metadata": {},
     "output_type": "execute_result"
    }
   ],
   "source": [
    "cal_average_of_accuracy(vn_upc_one, vn_upc_more_than_one, [0.8856, 0.645, 0.7378])"
   ]
  },
  {
   "cell_type": "code",
   "execution_count": 641,
   "metadata": {},
   "outputs": [],
   "source": [
    "dd_cols = [col for col in df_dd.columns if col not in vn_and_weekdays_cols]"
   ]
  },
  {
   "cell_type": "code",
   "execution_count": 643,
   "metadata": {},
   "outputs": [],
   "source": [
    "cp_cols = [col for col in df_train_dd.columns if col not in dd_cols]"
   ]
  },
  {
   "cell_type": "code",
   "execution_count": 646,
   "metadata": {},
   "outputs": [
    {
     "data": {
      "text/plain": [
       "69"
      ]
     },
     "execution_count": 646,
     "metadata": {},
     "output_type": "execute_result"
    }
   ],
   "source": [
    "len(df_train_dd.columns) - len(cp_cols)"
   ]
  },
  {
   "cell_type": "code",
   "execution_count": 647,
   "metadata": {},
   "outputs": [],
   "source": [
    "df_train_cp = df_train_dd[cp_cols]"
   ]
  },
  {
   "cell_type": "markdown",
   "metadata": {},
   "source": [
    "# Upc feature 1 company"
   ]
  },
  {
   "cell_type": "code",
   "execution_count": 648,
   "metadata": {},
   "outputs": [],
   "source": [
    "df_to_test = get_df_has_specified_vn_list(vn_upc_one, df=df_train_cp)"
   ]
  },
  {
   "cell_type": "code",
   "execution_count": 649,
   "metadata": {},
   "outputs": [
    {
     "data": {
      "text/markdown": [
       "##### Accuracy : 0.8283, smoothing : 0.0"
      ],
      "text/plain": [
       "<IPython.core.display.Markdown object>"
      ]
     },
     "metadata": {},
     "output_type": "display_data"
    },
    {
     "data": {
      "text/markdown": [
       "##### Accuracy : 0.8312, smoothing : 0.01"
      ],
      "text/plain": [
       "<IPython.core.display.Markdown object>"
      ]
     },
     "metadata": {},
     "output_type": "display_data"
    },
    {
     "data": {
      "text/markdown": [
       "##### Accuracy : 0.8309, smoothing : 0.02"
      ],
      "text/plain": [
       "<IPython.core.display.Markdown object>"
      ]
     },
     "metadata": {},
     "output_type": "display_data"
    },
    {
     "data": {
      "text/markdown": [
       "##### Accuracy : 0.8301, smoothing : 0.03"
      ],
      "text/plain": [
       "<IPython.core.display.Markdown object>"
      ]
     },
     "metadata": {},
     "output_type": "display_data"
    },
    {
     "data": {
      "text/markdown": [
       "##### Accuracy : 0.8287, smoothing : 0.04"
      ],
      "text/plain": [
       "<IPython.core.display.Markdown object>"
      ]
     },
     "metadata": {},
     "output_type": "display_data"
    },
    {
     "data": {
      "text/markdown": [
       "##### Accuracy : 0.8267, smoothing : 0.05"
      ],
      "text/plain": [
       "<IPython.core.display.Markdown object>"
      ]
     },
     "metadata": {},
     "output_type": "display_data"
    },
    {
     "data": {
      "text/markdown": [
       "##### Accuracy : 0.8245, smoothing : 0.06"
      ],
      "text/plain": [
       "<IPython.core.display.Markdown object>"
      ]
     },
     "metadata": {},
     "output_type": "display_data"
    },
    {
     "data": {
      "text/markdown": [
       "## Best_score : 0.8312, Alpha : 0.01"
      ],
      "text/plain": [
       "<IPython.core.display.Markdown object>"
      ]
     },
     "metadata": {},
     "output_type": "display_data"
    }
   ],
   "source": [
    "test_multinomial(df_to_test)"
   ]
  },
  {
   "cell_type": "markdown",
   "metadata": {},
   "source": [
    "# Upc feature 2 company"
   ]
  },
  {
   "cell_type": "code",
   "execution_count": 650,
   "metadata": {},
   "outputs": [],
   "source": [
    "df_to_test = get_df_has_specified_vn_list(vn_upc_more_than_one, df=df_train_cp)"
   ]
  },
  {
   "cell_type": "code",
   "execution_count": 651,
   "metadata": {},
   "outputs": [
    {
     "data": {
      "text/markdown": [
       "##### Accuracy : 0.6879, smoothing : 0.0"
      ],
      "text/plain": [
       "<IPython.core.display.Markdown object>"
      ]
     },
     "metadata": {},
     "output_type": "display_data"
    },
    {
     "data": {
      "text/markdown": [
       "##### Accuracy : 0.6793, smoothing : 0.01"
      ],
      "text/plain": [
       "<IPython.core.display.Markdown object>"
      ]
     },
     "metadata": {},
     "output_type": "display_data"
    },
    {
     "data": {
      "text/markdown": [
       "##### Accuracy : 0.6764, smoothing : 0.02"
      ],
      "text/plain": [
       "<IPython.core.display.Markdown object>"
      ]
     },
     "metadata": {},
     "output_type": "display_data"
    },
    {
     "data": {
      "text/markdown": [
       "##### Accuracy : 0.6732, smoothing : 0.03"
      ],
      "text/plain": [
       "<IPython.core.display.Markdown object>"
      ]
     },
     "metadata": {},
     "output_type": "display_data"
    },
    {
     "data": {
      "text/markdown": [
       "##### Accuracy : 0.6715, smoothing : 0.04"
      ],
      "text/plain": [
       "<IPython.core.display.Markdown object>"
      ]
     },
     "metadata": {},
     "output_type": "display_data"
    },
    {
     "data": {
      "text/markdown": [
       "##### Accuracy : 0.6697, smoothing : 0.05"
      ],
      "text/plain": [
       "<IPython.core.display.Markdown object>"
      ]
     },
     "metadata": {},
     "output_type": "display_data"
    },
    {
     "data": {
      "text/markdown": [
       "## Best_score : 0.6879, Alpha : 0.0"
      ],
      "text/plain": [
       "<IPython.core.display.Markdown object>"
      ]
     },
     "metadata": {},
     "output_type": "display_data"
    }
   ],
   "source": [
    "test_multinomial(df_to_test)"
   ]
  },
  {
   "cell_type": "markdown",
   "metadata": {},
   "source": [
    "# Upc feature 3 company"
   ]
  },
  {
   "cell_type": "code",
   "execution_count": 653,
   "metadata": {},
   "outputs": [],
   "source": [
    "df_to_test = get_df_has_specified_vn_list(vn_upc_3, is_in=False, df=df_train_cp)"
   ]
  },
  {
   "cell_type": "code",
   "execution_count": 654,
   "metadata": {},
   "outputs": [
    {
     "data": {
      "text/markdown": [
       "##### Accuracy : 0.7459, smoothing : 0.0"
      ],
      "text/plain": [
       "<IPython.core.display.Markdown object>"
      ]
     },
     "metadata": {},
     "output_type": "display_data"
    },
    {
     "data": {
      "text/markdown": [
       "##### Accuracy : 0.7139, smoothing : 0.01"
      ],
      "text/plain": [
       "<IPython.core.display.Markdown object>"
      ]
     },
     "metadata": {},
     "output_type": "display_data"
    },
    {
     "data": {
      "text/markdown": [
       "##### Accuracy : 0.7067, smoothing : 0.02"
      ],
      "text/plain": [
       "<IPython.core.display.Markdown object>"
      ]
     },
     "metadata": {},
     "output_type": "display_data"
    },
    {
     "data": {
      "text/markdown": [
       "##### Accuracy : 0.7009, smoothing : 0.03"
      ],
      "text/plain": [
       "<IPython.core.display.Markdown object>"
      ]
     },
     "metadata": {},
     "output_type": "display_data"
    },
    {
     "data": {
      "text/markdown": [
       "##### Accuracy : 0.6973, smoothing : 0.04"
      ],
      "text/plain": [
       "<IPython.core.display.Markdown object>"
      ]
     },
     "metadata": {},
     "output_type": "display_data"
    },
    {
     "data": {
      "text/markdown": [
       "##### Accuracy : 0.6938, smoothing : 0.05"
      ],
      "text/plain": [
       "<IPython.core.display.Markdown object>"
      ]
     },
     "metadata": {},
     "output_type": "display_data"
    },
    {
     "data": {
      "text/markdown": [
       "## Best_score : 0.7459, Alpha : 0.0"
      ],
      "text/plain": [
       "<IPython.core.display.Markdown object>"
      ]
     },
     "metadata": {},
     "output_type": "display_data"
    }
   ],
   "source": [
    "test_multinomial(df_to_test)"
   ]
  },
  {
   "cell_type": "code",
   "execution_count": 655,
   "metadata": {},
   "outputs": [
    {
     "name": "stdout",
     "output_type": "stream",
     "text": [
      "0.7377652080270051\n"
     ]
    },
    {
     "data": {
      "text/plain": [
       "0.7377652080270051"
      ]
     },
     "execution_count": 655,
     "metadata": {},
     "output_type": "execute_result"
    }
   ],
   "source": [
    "cal_average_of_accuracy(vn_upc_one, vn_upc_more_than_one, [0.8312, 0.6879, 0.7459])"
   ]
  },
  {
   "cell_type": "markdown",
   "metadata": {},
   "source": [
    "# 현 최고모델 Classification report를 통해 Insight를 얻자"
   ]
  },
  {
   "cell_type": "code",
   "execution_count": 35,
   "metadata": {},
   "outputs": [],
   "source": [
    "# X_1 = pd.read_csv(\"Feature_matrix/X_1_201808071357.csv\")\n",
    "# y_1 = pd.read_csv(\"Feature_matrix/y_1_201808071359.csv\")\n",
    "# X_2 = pd.read_csv(\"Feature_matrix/X_2_201808071359.csv\")\n",
    "# y_2 = pd.read_csv(\"Feature_matrix/y_2_201808071402.csv\")\n",
    "# X_3 = pd.read_csv(\"Feature_matrix/X_3_201808071402.csv\")\n",
    "# y_3 = pd.read_csv(\"Feature_matrix/y_3_201808071407.csv\")"
   ]
  },
  {
   "cell_type": "code",
   "execution_count": 55,
   "metadata": {},
   "outputs": [
    {
     "name": "stdout",
     "output_type": "stream",
     "text": [
      "Concat 완료.\n"
     ]
    }
   ],
   "source": [
    "df_to_test = get_df_has_specified_vn_list(vn_test_fl_one, df_dd = df_test_dd, df_fl = df_test_fl, is_need_to_make_df = True)"
   ]
  },
  {
   "cell_type": "code",
   "execution_count": 56,
   "metadata": {},
   "outputs": [],
   "source": [
    "X_1_test = af.get_df_to_fit(df_to_test, is_test_df=True)"
   ]
  },
  {
   "cell_type": "code",
   "execution_count": 57,
   "metadata": {},
   "outputs": [],
   "source": [
    "X_1_test.drop(\"index\", axis=1, inplace = True)"
   ]
  },
  {
   "cell_type": "code",
   "execution_count": null,
   "metadata": {},
   "outputs": [],
   "source": []
  },
  {
   "cell_type": "code",
   "execution_count": 197,
   "metadata": {},
   "outputs": [],
   "source": [
    "vn_test_fl_1_2 = vn_test_fl_one + vn_test_fl_more_than_one"
   ]
  },
  {
   "cell_type": "code",
   "execution_count": 224,
   "metadata": {},
   "outputs": [
    {
     "name": "stdout",
     "output_type": "stream",
     "text": [
      "Concat 완료.\n"
     ]
    }
   ],
   "source": [
    "df_to_test = get_df_has_specified_vn_list(vn_test_fl_1_2, df_dd=df_test_dd, df_fl=df_test_fl, is_need_to_make_df=True)"
   ]
  },
  {
   "cell_type": "code",
   "execution_count": 225,
   "metadata": {},
   "outputs": [],
   "source": [
    "X_1_2_test = af.get_df_to_fit(df_to_test, True)"
   ]
  },
  {
   "cell_type": "code",
   "execution_count": 226,
   "metadata": {},
   "outputs": [],
   "source": [
    "X_1_2_test.drop(\"index\", axis=1, inplace = True)"
   ]
  },
  {
   "cell_type": "code",
   "execution_count": 168,
   "metadata": {},
   "outputs": [],
   "source": [
    "vn_test_fl_2_3 = vn_test_fl_more_than_one + vn_test_fl_dice"
   ]
  },
  {
   "cell_type": "code",
   "execution_count": 170,
   "metadata": {},
   "outputs": [],
   "source": [
    "df_to_test = get_df_has_specified_vn_list(vn_test_fl_2_3, df = df_test_fl)"
   ]
  },
  {
   "cell_type": "code",
   "execution_count": 171,
   "metadata": {},
   "outputs": [],
   "source": [
    "X_2_3_test = af.get_df_to_fit(df_to_test, True)"
   ]
  },
  {
   "cell_type": "code",
   "execution_count": 172,
   "metadata": {},
   "outputs": [],
   "source": [
    "X_2_3_test.drop(\"index\", axis=1, inplace = True)"
   ]
  },
  {
   "cell_type": "code",
   "execution_count": 119,
   "metadata": {},
   "outputs": [
    {
     "name": "stdout",
     "output_type": "stream",
     "text": [
      "Concat 완료.\n"
     ]
    }
   ],
   "source": [
    "df_to_test = get_df_has_specified_vn_list(vn_test_fl_more_than_one, df_dd = df_test_dd, df_fl = df_test_fl, is_need_to_make_df = True)"
   ]
  },
  {
   "cell_type": "code",
   "execution_count": 120,
   "metadata": {},
   "outputs": [],
   "source": [
    "X_2_test = af.get_df_to_fit(df_to_test, is_test_df=True)"
   ]
  },
  {
   "cell_type": "code",
   "execution_count": 103,
   "metadata": {},
   "outputs": [
    {
     "data": {
      "text/plain": [
       "array([ True,  True,  True, ...,  True,  True,  True])"
      ]
     },
     "execution_count": 103,
     "metadata": {},
     "output_type": "execute_result"
    }
   ],
   "source": [
    "X_2_test.columns == X_2.columns"
   ]
  },
  {
   "cell_type": "code",
   "execution_count": 121,
   "metadata": {},
   "outputs": [],
   "source": [
    "X_2_test.drop(\"index\", axis=1, inplace = True)"
   ]
  },
  {
   "cell_type": "code",
   "execution_count": 65,
   "metadata": {},
   "outputs": [],
   "source": [
    "vn_test_fl_3 = vn_test_fl_one + vn_test_fl_more_than_one"
   ]
  },
  {
   "cell_type": "code",
   "execution_count": 122,
   "metadata": {},
   "outputs": [
    {
     "name": "stdout",
     "output_type": "stream",
     "text": [
      "Concat 완료.\n"
     ]
    }
   ],
   "source": [
    "df_to_test = get_df_has_specified_vn_list(vn_test_fl_3, is_in=False, df_dd = df_test_dd, df_fl = df_test_fl, is_need_to_make_df = True)"
   ]
  },
  {
   "cell_type": "code",
   "execution_count": 123,
   "metadata": {},
   "outputs": [],
   "source": [
    "X_3_test = af.get_df_to_fit(df_to_test, is_test_df=True)"
   ]
  },
  {
   "cell_type": "code",
   "execution_count": 124,
   "metadata": {},
   "outputs": [],
   "source": [
    "X_3_test.drop(\"index\", axis=1, inplace = True)"
   ]
  },
  {
   "cell_type": "code",
   "execution_count": 125,
   "metadata": {},
   "outputs": [
    {
     "data": {
      "text/plain": [
       "(19313, 31216, 45145)"
      ]
     },
     "execution_count": 125,
     "metadata": {},
     "output_type": "execute_result"
    }
   ],
   "source": [
    "len(X_1_test), len(X_2_test), len(X_3_test)"
   ]
  },
  {
   "cell_type": "code",
   "execution_count": 126,
   "metadata": {},
   "outputs": [
    {
     "data": {
      "text/plain": [
       "95674"
      ]
     },
     "execution_count": 126,
     "metadata": {},
     "output_type": "execute_result"
    }
   ],
   "source": [
    "len(X_1_test) + len(X_2_test) + len(X_3_test)"
   ]
  },
  {
   "cell_type": "markdown",
   "metadata": {},
   "source": [
    "## feature 1 "
   ]
  },
  {
   "cell_type": "code",
   "execution_count": 29,
   "metadata": {},
   "outputs": [
    {
     "name": "stdout",
     "output_type": "stream",
     "text": [
      "Concat 완료.\n"
     ]
    }
   ],
   "source": [
    "df_to_test = get_df_has_specified_vn_list(vn_fl_one, df_dd = df_train_dd, df_fl = df_train_fl, is_need_to_make_df = True)"
   ]
  },
  {
   "cell_type": "code",
   "execution_count": 30,
   "metadata": {},
   "outputs": [],
   "source": [
    "X_1, y_1 = af.get_df_to_fit(df_to_test)"
   ]
  },
  {
   "cell_type": "code",
   "execution_count": 208,
   "metadata": {},
   "outputs": [],
   "source": [
    "model_feature_1 = fitNaiveBayesModel_smoothing(X_1, y_1, 0.14)"
   ]
  },
  {
   "cell_type": "code",
   "execution_count": 209,
   "metadata": {},
   "outputs": [],
   "source": [
    "y_pred_1 = model_feature_1.predict(X_1)"
   ]
  },
  {
   "cell_type": "code",
   "execution_count": 210,
   "metadata": {},
   "outputs": [],
   "source": [
    "y_pred_proba_1 = model_feature_1.predict_proba(X_1)"
   ]
  },
  {
   "cell_type": "code",
   "execution_count": 211,
   "metadata": {},
   "outputs": [
    {
     "data": {
      "text/plain": [
       "0.27655662462465813"
      ]
     },
     "execution_count": 211,
     "metadata": {},
     "output_type": "execute_result"
    }
   ],
   "source": [
    "log_loss(y_1, y_pred_proba_1)"
   ]
  },
  {
   "cell_type": "code",
   "execution_count": 212,
   "metadata": {},
   "outputs": [
    {
     "data": {
      "text/markdown": [
       "##### Accuracy : 0.9212"
      ],
      "text/plain": [
       "<IPython.core.display.Markdown object>"
      ]
     },
     "metadata": {},
     "output_type": "display_data"
    }
   ],
   "source": [
    "af.getAccuracy(y_1, y_pred_1, len(X_1))"
   ]
  },
  {
   "cell_type": "code",
   "execution_count": 36,
   "metadata": {
    "scrolled": true
   },
   "outputs": [
    {
     "name": "stdout",
     "output_type": "stream",
     "text": [
      "             precision    recall  f1-score   support\n",
      "\n",
      "          3       0.84      1.00      0.91       855\n",
      "          4       0.97      1.00      0.98       151\n",
      "          5       0.98      1.00      0.99      2225\n",
      "          6       0.99      0.95      0.97       565\n",
      "          7       0.95      0.98      0.97      1253\n",
      "          8       0.96      0.96      0.96      5560\n",
      "          9       0.92      0.93      0.92      4969\n",
      "         12       0.00      0.00      0.00         7\n",
      "         15       0.55      0.54      0.54        69\n",
      "         18       0.79      0.63      0.70        54\n",
      "         19       0.91      0.84      0.87       135\n",
      "         20       0.81      0.46      0.59        48\n",
      "         21       0.82      0.72      0.77        39\n",
      "         22       0.75      0.91      0.82       287\n",
      "         23       0.88      0.83      0.85        69\n",
      "         24       0.69      0.92      0.79       270\n",
      "         25       0.89      0.86      0.88        73\n",
      "         26       0.77      0.58      0.66        59\n",
      "         27       0.67      0.72      0.69        97\n",
      "         28       0.84      0.49      0.62        63\n",
      "         29       0.97      0.65      0.78        52\n",
      "         30       0.87      0.85      0.86       154\n",
      "         31       0.82      0.96      0.88       159\n",
      "         32       0.84      0.97      0.90       367\n",
      "         33       0.61      0.70      0.66        27\n",
      "         34       0.79      0.79      0.79        43\n",
      "         35       0.60      0.53      0.56       108\n",
      "         36       0.78      0.45      0.57        47\n",
      "         37       1.00      0.22      0.36        18\n",
      "         38       0.88      0.75      0.81        28\n",
      "         39       0.48      0.89      0.62        57\n",
      "         40       0.50      0.50      0.50         2\n",
      "         41       0.00      0.00      0.00         1\n",
      "         42       0.83      0.29      0.43        17\n",
      "        999       0.96      0.73      0.83      1603\n",
      "\n",
      "avg / total       0.92      0.92      0.92     19531\n",
      "\n"
     ]
    }
   ],
   "source": [
    "print(classification_report(y_1, y_pred_1))"
   ]
  },
  {
   "cell_type": "markdown",
   "metadata": {},
   "source": [
    "# feature 1 + 2"
   ]
  },
  {
   "cell_type": "code",
   "execution_count": 202,
   "metadata": {},
   "outputs": [],
   "source": [
    "vn_fl_1_2 = vn_fl_one + vn_fl_more_than_one"
   ]
  },
  {
   "cell_type": "code",
   "execution_count": 203,
   "metadata": {},
   "outputs": [
    {
     "name": "stdout",
     "output_type": "stream",
     "text": [
      "Concat 완료.\n"
     ]
    }
   ],
   "source": [
    "df_to_test = get_df_has_specified_vn_list(vn_fl_1_2, df_dd = df_train_dd, df_fl = df_train_fl, is_need_to_make_df = True)"
   ]
  },
  {
   "cell_type": "code",
   "execution_count": 204,
   "metadata": {},
   "outputs": [
    {
     "data": {
      "text/markdown": [
       "##### Accuracy : 0.7498, smoothing : 0.0"
      ],
      "text/plain": [
       "<IPython.core.display.Markdown object>"
      ]
     },
     "metadata": {},
     "output_type": "display_data"
    },
    {
     "data": {
      "text/markdown": [
       "##### Accuracy : 0.7377, smoothing : 0.01"
      ],
      "text/plain": [
       "<IPython.core.display.Markdown object>"
      ]
     },
     "metadata": {},
     "output_type": "display_data"
    },
    {
     "data": {
      "text/markdown": [
       "##### Accuracy : 0.7349, smoothing : 0.02"
      ],
      "text/plain": [
       "<IPython.core.display.Markdown object>"
      ]
     },
     "metadata": {},
     "output_type": "display_data"
    },
    {
     "data": {
      "text/markdown": [
       "##### Accuracy : 0.7337, smoothing : 0.03"
      ],
      "text/plain": [
       "<IPython.core.display.Markdown object>"
      ]
     },
     "metadata": {},
     "output_type": "display_data"
    },
    {
     "data": {
      "text/markdown": [
       "##### Accuracy : 0.7325, smoothing : 0.04"
      ],
      "text/plain": [
       "<IPython.core.display.Markdown object>"
      ]
     },
     "metadata": {},
     "output_type": "display_data"
    },
    {
     "data": {
      "text/markdown": [
       "##### Accuracy : 0.7314, smoothing : 0.05"
      ],
      "text/plain": [
       "<IPython.core.display.Markdown object>"
      ]
     },
     "metadata": {},
     "output_type": "display_data"
    },
    {
     "data": {
      "text/markdown": [
       "## Best_score : 0.7498, Alpha : 0.0"
      ],
      "text/plain": [
       "<IPython.core.display.Markdown object>"
      ]
     },
     "metadata": {},
     "output_type": "display_data"
    }
   ],
   "source": [
    "test_multinomial(df_to_test)"
   ]
  },
  {
   "cell_type": "code",
   "execution_count": 205,
   "metadata": {},
   "outputs": [],
   "source": [
    "X_1_2, y_1_2 = af.get_df_to_fit(df_to_test)"
   ]
  },
  {
   "cell_type": "code",
   "execution_count": 207,
   "metadata": {},
   "outputs": [],
   "source": [
    "model_feature_1_2 = fitNaiveBayesModel_smoothing(X_1_2, y_1_2, 0.0)"
   ]
  },
  {
   "cell_type": "code",
   "execution_count": null,
   "metadata": {},
   "outputs": [],
   "source": []
  },
  {
   "cell_type": "code",
   "execution_count": null,
   "metadata": {},
   "outputs": [],
   "source": []
  },
  {
   "cell_type": "code",
   "execution_count": null,
   "metadata": {},
   "outputs": [],
   "source": []
  },
  {
   "cell_type": "code",
   "execution_count": null,
   "metadata": {},
   "outputs": [],
   "source": []
  },
  {
   "cell_type": "code",
   "execution_count": null,
   "metadata": {},
   "outputs": [],
   "source": []
  },
  {
   "cell_type": "markdown",
   "metadata": {},
   "source": [
    "# feature 2 + 3"
   ]
  },
  {
   "cell_type": "code",
   "execution_count": 159,
   "metadata": {},
   "outputs": [],
   "source": [
    "vn_fl_2_3 = vn_fl_more_than_one + vn_fl_dice"
   ]
  },
  {
   "cell_type": "code",
   "execution_count": 160,
   "metadata": {},
   "outputs": [
    {
     "data": {
      "text/plain": [
       "76143"
      ]
     },
     "execution_count": 160,
     "metadata": {},
     "output_type": "execute_result"
    }
   ],
   "source": [
    "len(vn_fl_2_3)"
   ]
  },
  {
   "cell_type": "code",
   "execution_count": 161,
   "metadata": {},
   "outputs": [],
   "source": [
    "df_to_test = get_df_has_specified_vn_list(vn_fl_2_3, df = df_train_fl)"
   ]
  },
  {
   "cell_type": "code",
   "execution_count": 162,
   "metadata": {},
   "outputs": [],
   "source": [
    "X_2_3, y_2_3 = af.get_df_to_fit(df_to_test)"
   ]
  },
  {
   "cell_type": "code",
   "execution_count": 163,
   "metadata": {},
   "outputs": [
    {
     "data": {
      "text/markdown": [
       "##### Accuracy : 0.6882, smoothing : 0.0"
      ],
      "text/plain": [
       "<IPython.core.display.Markdown object>"
      ]
     },
     "metadata": {},
     "output_type": "display_data"
    },
    {
     "data": {
      "text/markdown": [
       "##### Accuracy : 0.6748, smoothing : 0.01"
      ],
      "text/plain": [
       "<IPython.core.display.Markdown object>"
      ]
     },
     "metadata": {},
     "output_type": "display_data"
    },
    {
     "data": {
      "text/markdown": [
       "##### Accuracy : 0.6711, smoothing : 0.02"
      ],
      "text/plain": [
       "<IPython.core.display.Markdown object>"
      ]
     },
     "metadata": {},
     "output_type": "display_data"
    },
    {
     "data": {
      "text/markdown": [
       "##### Accuracy : 0.6685, smoothing : 0.03"
      ],
      "text/plain": [
       "<IPython.core.display.Markdown object>"
      ]
     },
     "metadata": {},
     "output_type": "display_data"
    },
    {
     "data": {
      "text/markdown": [
       "##### Accuracy : 0.6663, smoothing : 0.04"
      ],
      "text/plain": [
       "<IPython.core.display.Markdown object>"
      ]
     },
     "metadata": {},
     "output_type": "display_data"
    },
    {
     "data": {
      "text/markdown": [
       "##### Accuracy : 0.6642, smoothing : 0.05"
      ],
      "text/plain": [
       "<IPython.core.display.Markdown object>"
      ]
     },
     "metadata": {},
     "output_type": "display_data"
    },
    {
     "data": {
      "text/markdown": [
       "## Best_score : 0.6882, Alpha : 0.0"
      ],
      "text/plain": [
       "<IPython.core.display.Markdown object>"
      ]
     },
     "metadata": {},
     "output_type": "display_data"
    }
   ],
   "source": [
    "test_multinomial(df_to_test)"
   ]
  },
  {
   "cell_type": "code",
   "execution_count": 164,
   "metadata": {},
   "outputs": [],
   "source": [
    "model_feature_2_3 = fitNaiveBayesModel_smoothing(X_2_3, y_2_3, 0.0)"
   ]
  },
  {
   "cell_type": "code",
   "execution_count": null,
   "metadata": {},
   "outputs": [],
   "source": []
  },
  {
   "cell_type": "markdown",
   "metadata": {},
   "source": [
    "# feature 2"
   ]
  },
  {
   "cell_type": "code",
   "execution_count": 107,
   "metadata": {},
   "outputs": [
    {
     "name": "stdout",
     "output_type": "stream",
     "text": [
      "Concat 완료.\n"
     ]
    }
   ],
   "source": [
    "df_to_test = get_df_has_specified_vn_list(vn_fl_more_than_one, df_dd = df_train_dd, df_fl = df_train_fl, is_need_to_make_df = True)"
   ]
  },
  {
   "cell_type": "code",
   "execution_count": 37,
   "metadata": {},
   "outputs": [],
   "source": [
    "# df_to_test = get_df_has_specified_vn_list(vn_fl_more_than_one, df = df_train_fl)"
   ]
  },
  {
   "cell_type": "code",
   "execution_count": 108,
   "metadata": {},
   "outputs": [],
   "source": [
    "X_2, y_2 = af.get_df_to_fit(df_to_test)"
   ]
  },
  {
   "cell_type": "code",
   "execution_count": 109,
   "metadata": {},
   "outputs": [],
   "source": [
    "model_feature_2 = fitNaiveBayesModel_smoothing(X_2, y_2, 0.0)"
   ]
  },
  {
   "cell_type": "code",
   "execution_count": 110,
   "metadata": {},
   "outputs": [],
   "source": [
    "y_pred_2 = model_feature_2.predict(X_2)"
   ]
  },
  {
   "cell_type": "code",
   "execution_count": 111,
   "metadata": {
    "scrolled": true
   },
   "outputs": [
    {
     "data": {
      "text/markdown": [
       "##### Accuracy : 0.7325"
      ],
      "text/plain": [
       "<IPython.core.display.Markdown object>"
      ]
     },
     "metadata": {},
     "output_type": "display_data"
    }
   ],
   "source": [
    "af.getAccuracy(y_2, y_pred_2, len(X_2))"
   ]
  },
  {
   "cell_type": "code",
   "execution_count": 112,
   "metadata": {
    "scrolled": true
   },
   "outputs": [
    {
     "name": "stdout",
     "output_type": "stream",
     "text": [
      "             precision    recall  f1-score   support\n",
      "\n",
      "          3       0.93      0.94      0.93      2746\n",
      "          4       0.84      0.97      0.90       123\n",
      "          5       0.81      0.88      0.85      1336\n",
      "          6       0.88      0.94      0.91       440\n",
      "          7       0.80      0.85      0.82      2385\n",
      "          8       0.74      0.45      0.56      5629\n",
      "          9       0.81      0.49      0.61      3839\n",
      "         12       0.71      0.89      0.79        90\n",
      "         15       0.54      0.86      0.66       208\n",
      "         18       0.71      0.95      0.82       198\n",
      "         19       0.81      0.99      0.89       161\n",
      "         20       0.66      0.93      0.77       312\n",
      "         21       0.64      0.95      0.77       163\n",
      "         22       0.71      0.94      0.81       343\n",
      "         23       0.92      1.00      0.96        58\n",
      "         24       0.73      0.91      0.81       817\n",
      "         25       0.67      0.90      0.77      1351\n",
      "         26       0.76      0.96      0.85       180\n",
      "         27       0.74      0.97      0.84       151\n",
      "         28       0.76      0.96      0.85       198\n",
      "         29       0.76      0.97      0.85       197\n",
      "         30       0.77      0.93      0.84       536\n",
      "         31       0.87      0.99      0.93       359\n",
      "         32       0.72      0.92      0.81       542\n",
      "         33       0.58      0.88      0.70       499\n",
      "         34       0.68      0.93      0.79       226\n",
      "         35       0.43      0.82      0.57       392\n",
      "         36       0.51      0.83      0.63      1262\n",
      "         37       0.54      0.87      0.67       860\n",
      "         38       0.48      0.83      0.61       688\n",
      "         39       0.78      0.67      0.72      2757\n",
      "         40       0.85      0.89      0.87        82\n",
      "         41       0.84      0.87      0.85       204\n",
      "         42       0.86      0.77      0.81       486\n",
      "         43       0.75      0.82      0.79       320\n",
      "         44       0.89      0.96      0.92       133\n",
      "        999       0.96      0.58      0.73       993\n",
      "\n",
      "avg / total       0.76      0.73      0.72     31264\n",
      "\n"
     ]
    }
   ],
   "source": [
    "print(classification_report(y_2, y_pred_2))"
   ]
  },
  {
   "cell_type": "markdown",
   "metadata": {},
   "source": [
    "# feature 3"
   ]
  },
  {
   "cell_type": "code",
   "execution_count": 44,
   "metadata": {},
   "outputs": [],
   "source": [
    "vn_fl_3 = vn_fl_one + vn_fl_more_than_one"
   ]
  },
  {
   "cell_type": "code",
   "execution_count": 113,
   "metadata": {},
   "outputs": [
    {
     "name": "stdout",
     "output_type": "stream",
     "text": [
      "Concat 완료.\n"
     ]
    }
   ],
   "source": [
    "df_to_test = get_df_has_specified_vn_list(vn_fl_3, is_in=False, df_dd = df_train_dd, df_fl = df_train_fl, is_need_to_make_df = True)"
   ]
  },
  {
   "cell_type": "code",
   "execution_count": 45,
   "metadata": {},
   "outputs": [],
   "source": [
    "# df_to_test = get_df_has_specified_vn_list(vn_fl_3, df = df_train_fl, is_in=False)"
   ]
  },
  {
   "cell_type": "code",
   "execution_count": 114,
   "metadata": {},
   "outputs": [],
   "source": [
    "X_3, y_3 = af.get_df_to_fit(df_to_test)"
   ]
  },
  {
   "cell_type": "code",
   "execution_count": 115,
   "metadata": {},
   "outputs": [],
   "source": [
    "model_feature_3 = fitNaiveBayesModel_smoothing(X_3, y_3, 0.0)"
   ]
  },
  {
   "cell_type": "code",
   "execution_count": 116,
   "metadata": {},
   "outputs": [],
   "source": [
    "y_pred_3 = model_feature_3.predict(X_3)"
   ]
  },
  {
   "cell_type": "code",
   "execution_count": 117,
   "metadata": {},
   "outputs": [
    {
     "data": {
      "text/markdown": [
       "##### Accuracy : 0.7369"
      ],
      "text/plain": [
       "<IPython.core.display.Markdown object>"
      ]
     },
     "metadata": {},
     "output_type": "display_data"
    }
   ],
   "source": [
    "af.getAccuracy(y_3, y_pred_3, len(X_3))"
   ]
  },
  {
   "cell_type": "code",
   "execution_count": 118,
   "metadata": {
    "scrolled": true
   },
   "outputs": [
    {
     "name": "stdout",
     "output_type": "stream",
     "text": [
      "             precision    recall  f1-score   support\n",
      "\n",
      "          3       0.93      0.88      0.90        42\n",
      "          4       0.83      0.97      0.90        72\n",
      "          5       0.82      0.81      0.82      1032\n",
      "          6       0.87      0.89      0.88       272\n",
      "          7       0.65      0.71      0.68      2114\n",
      "          8       0.58      0.31      0.40       972\n",
      "          9       0.68      0.33      0.45       656\n",
      "         12       0.69      0.75      0.72       172\n",
      "         14       1.00      1.00      1.00         4\n",
      "         15       0.76      0.78      0.77       701\n",
      "         18       0.77      0.90      0.83       297\n",
      "         19       0.91      0.95      0.93        79\n",
      "         20       0.85      0.94      0.89       277\n",
      "         21       0.82      0.94      0.88       439\n",
      "         22       0.89      0.89      0.89       298\n",
      "         23       0.80      1.00      0.89        12\n",
      "         24       0.77      0.82      0.79      1522\n",
      "         25       0.83      0.88      0.85      2274\n",
      "         26       0.83      0.89      0.86       264\n",
      "         27       0.86      0.89      0.87       537\n",
      "         28       0.87      0.92      0.89       231\n",
      "         29       0.88      0.97      0.92       184\n",
      "         30       0.83      0.86      0.84       391\n",
      "         31       0.94      1.00      0.97        76\n",
      "         32       0.80      0.84      0.82      1075\n",
      "         33       0.74      0.80      0.77       789\n",
      "         34       0.79      0.89      0.84       450\n",
      "         35       0.63      0.84      0.72      1530\n",
      "         36       0.71      0.81      0.76      1696\n",
      "         37       0.60      0.81      0.69      1910\n",
      "         38       0.58      0.77      0.66      2196\n",
      "         39       0.64      0.48      0.55      7082\n",
      "         40       0.70      0.63      0.66      6046\n",
      "         41       0.74      0.81      0.77       378\n",
      "         42       0.77      0.75      0.76      1355\n",
      "         43       0.69      0.68      0.68       552\n",
      "         44       0.56      0.79      0.66      1054\n",
      "        999       1.00      0.96      0.98      5848\n",
      "\n",
      "avg / total       0.74      0.74      0.73     44879\n",
      "\n"
     ]
    }
   ],
   "source": [
    "print(classification_report(y_3, y_pred_3))"
   ]
  },
  {
   "cell_type": "code",
   "execution_count": null,
   "metadata": {},
   "outputs": [],
   "source": []
  },
  {
   "cell_type": "code",
   "execution_count": 52,
   "metadata": {},
   "outputs": [],
   "source": [
    "vn_fl_dice = list(df_to_test[\"VisitNumber\"].unique())"
   ]
  },
  {
   "cell_type": "code",
   "execution_count": 53,
   "metadata": {},
   "outputs": [
    {
     "data": {
      "text/plain": [
       "44879"
      ]
     },
     "execution_count": 53,
     "metadata": {},
     "output_type": "execute_result"
    }
   ],
   "source": [
    "len(vn_fl_dice)"
   ]
  },
  {
   "cell_type": "code",
   "execution_count": null,
   "metadata": {},
   "outputs": [],
   "source": []
  },
  {
   "cell_type": "code",
   "execution_count": 174,
   "metadata": {},
   "outputs": [],
   "source": [
    "y_pred_test_proba_1 = model_feature_1.predict_proba(X_1_test)\n",
    "y_pred_test_proba_2_3 = model_feature_2_3.predict_proba(X_2_3_test)"
   ]
  },
  {
   "cell_type": "code",
   "execution_count": null,
   "metadata": {},
   "outputs": [],
   "source": []
  },
  {
   "cell_type": "code",
   "execution_count": 227,
   "metadata": {},
   "outputs": [],
   "source": [
    "y_pred_test_proba_1_2 = model_feature_1_2.predict_proba(X_1_2_test)"
   ]
  },
  {
   "cell_type": "code",
   "execution_count": null,
   "metadata": {},
   "outputs": [],
   "source": []
  },
  {
   "cell_type": "code",
   "execution_count": 127,
   "metadata": {},
   "outputs": [],
   "source": [
    "y_pred_test_proba_1 = model_feature_1.predict_proba(X_1_test)\n",
    "y_pred_test_proba_2 = model_feature_2.predict_proba(X_2_test)\n",
    "y_pred_test_proba_3 = model_feature_3.predict_proba(X_3_test)"
   ]
  },
  {
   "cell_type": "code",
   "execution_count": null,
   "metadata": {},
   "outputs": [],
   "source": []
  },
  {
   "cell_type": "code",
   "execution_count": 303,
   "metadata": {},
   "outputs": [],
   "source": [
    "y_pred_proba_1 = model_feature_1.predict_proba(X_1)\n",
    "y_pred_proba_2 = model_feature_2.predict_proba(X_2)\n",
    "y_pred_proba_3 = model_feature_3.predict_proba(X_3)"
   ]
  },
  {
   "cell_type": "code",
   "execution_count": null,
   "metadata": {},
   "outputs": [],
   "source": []
  },
  {
   "cell_type": "code",
   "execution_count": 169,
   "metadata": {},
   "outputs": [],
   "source": [
    "sub_test.set_index(\"VisitNumber\", inplace=True)"
   ]
  },
  {
   "cell_type": "code",
   "execution_count": 130,
   "metadata": {},
   "outputs": [],
   "source": [
    "def get_proba_and_set_submission(models, features, targets, vns, submission):\n",
    "    sub = submission.copy()\n",
    "    sub.set_index(\"VisitNumber\", inplace=True)\n",
    "    for idx, model in enumerate(models):\n",
    "        y_pred = model.predict(features[idx])\n",
    "        y_proba = model.predict_proba(features[idx])\n",
    "        tt_li = []\n",
    "        vn_li = vns[idx]\n",
    "        y_pred_unique = targets[idx].unique()\n",
    "        for i in range(len(y_pred_unique)):\n",
    "            tmp = \"TripType_\" + str(sorted(y_pred_unique)[i])\n",
    "            tt_li.append(tmp)\n",
    "        sub.at[vn_li, tt_li] = y_proba\n",
    "        print(str(idx + 1) + \" feature 완료.\")\n",
    "    return sub"
   ]
  },
  {
   "cell_type": "code",
   "execution_count": 263,
   "metadata": {},
   "outputs": [],
   "source": [
    "sub_test.set_index(\"VisitNumber\", inplace=True)"
   ]
  },
  {
   "cell_type": "code",
   "execution_count": 228,
   "metadata": {},
   "outputs": [],
   "source": [
    "vn_test_fl_dice = list(df_to_test.VisitNumber.unique())"
   ]
  },
  {
   "cell_type": "code",
   "execution_count": 229,
   "metadata": {},
   "outputs": [],
   "source": [
    "vns_test = [vn_test_fl_one, vn_test_fl_more_than_one, vn_test_fl_dice]"
   ]
  },
  {
   "cell_type": "code",
   "execution_count": 257,
   "metadata": {
    "scrolled": true
   },
   "outputs": [
    {
     "name": "stdout",
     "output_type": "stream",
     "text": [
      "1 feature 완료.\n",
      "2 feature 완료.\n",
      "3 feature 완료.\n"
     ]
    }
   ],
   "source": [
    "sub_test = get_proba_and_set_submission(models, features, targets, vns, sub_test)"
   ]
  },
  {
   "cell_type": "code",
   "execution_count": 215,
   "metadata": {},
   "outputs": [
    {
     "data": {
      "text/plain": [
       "37"
      ]
     },
     "execution_count": 215,
     "metadata": {},
     "output_type": "execute_result"
    }
   ],
   "source": [
    "tt_li = []\n",
    "for i in range(len(y_1_2.unique())):\n",
    "    tmp = \"TripType_\" + str(sorted(y_1_2.unique())[i])\n",
    "    tt_li.append(tmp)\n",
    "len(tt_li)"
   ]
  },
  {
   "cell_type": "code",
   "execution_count": 175,
   "metadata": {},
   "outputs": [],
   "source": [
    "submit = submission.copy()"
   ]
  },
  {
   "cell_type": "code",
   "execution_count": 177,
   "metadata": {},
   "outputs": [],
   "source": [
    "submit_1_test = pd.DataFrame(y_pred_test_proba_1, columns = tt_li)"
   ]
  },
  {
   "cell_type": "code",
   "execution_count": 178,
   "metadata": {},
   "outputs": [],
   "source": [
    "submit_1_test[\"VisitNumber\"] = vn_test_fl_one"
   ]
  },
  {
   "cell_type": "code",
   "execution_count": 179,
   "metadata": {},
   "outputs": [],
   "source": [
    "submit_1_test[\"TripType_14\"] = 0\n",
    "submit_1_test[\"TripType_43\"] = 0\n",
    "submit_1_test[\"TripType_44\"] = 0"
   ]
  },
  {
   "cell_type": "code",
   "execution_count": 180,
   "metadata": {},
   "outputs": [],
   "source": [
    "submit_1_test = submit_1_test[submit.columns]"
   ]
  },
  {
   "cell_type": "code",
   "execution_count": null,
   "metadata": {},
   "outputs": [],
   "source": []
  },
  {
   "cell_type": "code",
   "execution_count": 228,
   "metadata": {},
   "outputs": [],
   "source": [
    "submit_1_2_test = pd.DataFrame(y_pred_test_proba_1_2, columns = tt_li)"
   ]
  },
  {
   "cell_type": "code",
   "execution_count": 229,
   "metadata": {},
   "outputs": [],
   "source": [
    "submit_1_2_test[\"TripType_14\"] = 0"
   ]
  },
  {
   "cell_type": "code",
   "execution_count": 230,
   "metadata": {},
   "outputs": [
    {
     "data": {
      "text/plain": [
       "(50529, 50529)"
      ]
     },
     "execution_count": 230,
     "metadata": {},
     "output_type": "execute_result"
    }
   ],
   "source": [
    "len(vn_test_fl_1_2), len(submit_1_2_test)"
   ]
  },
  {
   "cell_type": "code",
   "execution_count": 231,
   "metadata": {},
   "outputs": [],
   "source": [
    "submit_1_2_test[\"VisitNumber\"] = vn_test_fl_1_2"
   ]
  },
  {
   "cell_type": "code",
   "execution_count": 232,
   "metadata": {},
   "outputs": [],
   "source": [
    "submit_1_2_test = submit_1_2_test[submit.columns]"
   ]
  },
  {
   "cell_type": "code",
   "execution_count": null,
   "metadata": {},
   "outputs": [],
   "source": []
  },
  {
   "cell_type": "code",
   "execution_count": 182,
   "metadata": {},
   "outputs": [],
   "source": [
    "submit_2_3_test = pd.DataFrame(y_pred_test_proba_2_3, columns = tt_li)"
   ]
  },
  {
   "cell_type": "code",
   "execution_count": 183,
   "metadata": {},
   "outputs": [],
   "source": [
    "submit_2_3_test[\"VisitNumber\"] = vn_test_fl_2_3"
   ]
  },
  {
   "cell_type": "code",
   "execution_count": 184,
   "metadata": {},
   "outputs": [],
   "source": [
    "submit_2_3_test = submit_2_3_test[submit.columns]"
   ]
  },
  {
   "cell_type": "code",
   "execution_count": null,
   "metadata": {},
   "outputs": [],
   "source": []
  },
  {
   "cell_type": "code",
   "execution_count": 185,
   "metadata": {},
   "outputs": [],
   "source": [
    "submit_test_all_2_3 = pd.concat([submit_1_test, submit_2_3_test])"
   ]
  },
  {
   "cell_type": "code",
   "execution_count": 186,
   "metadata": {},
   "outputs": [],
   "source": [
    "submit_test_all_2_3 = submit_test_all_2_3.sort_values(\"VisitNumber\")\n",
    "submit_test_all_2_3.reset_index(drop=True, inplace=True)"
   ]
  },
  {
   "cell_type": "code",
   "execution_count": 189,
   "metadata": {},
   "outputs": [],
   "source": [
    "af.saveDataFrameToCsv(submit_test_all_2_3, \"last_try\")"
   ]
  },
  {
   "cell_type": "code",
   "execution_count": null,
   "metadata": {},
   "outputs": [],
   "source": []
  },
  {
   "cell_type": "code",
   "execution_count": 233,
   "metadata": {},
   "outputs": [],
   "source": [
    "submit_test_all_1_2 = pd.concat([submit_1_2_test, submit_3_test])"
   ]
  },
  {
   "cell_type": "code",
   "execution_count": 234,
   "metadata": {},
   "outputs": [],
   "source": [
    "submit_test_all_1_2 = submit_test_all_1_2.sort_values(\"VisitNumber\")\n",
    "submit_test_all_1_2.reset_index(drop=True, inplace=True)"
   ]
  },
  {
   "cell_type": "code",
   "execution_count": 236,
   "metadata": {},
   "outputs": [],
   "source": [
    "af.saveDataFrameToCsv(submit_test_all_1_2, \"get_insight\")"
   ]
  },
  {
   "cell_type": "code",
   "execution_count": null,
   "metadata": {},
   "outputs": [],
   "source": []
  },
  {
   "cell_type": "code",
   "execution_count": 190,
   "metadata": {},
   "outputs": [],
   "source": [
    "df_to_test = get_concat_df_for_test_df(df_train_dd, df_train_fl)"
   ]
  },
  {
   "cell_type": "code",
   "execution_count": 192,
   "metadata": {},
   "outputs": [
    {
     "data": {
      "text/html": [
       "<div>\n",
       "<style scoped>\n",
       "    .dataframe tbody tr th:only-of-type {\n",
       "        vertical-align: middle;\n",
       "    }\n",
       "\n",
       "    .dataframe tbody tr th {\n",
       "        vertical-align: top;\n",
       "    }\n",
       "\n",
       "    .dataframe thead th {\n",
       "        text-align: right;\n",
       "    }\n",
       "</style>\n",
       "<table border=\"1\" class=\"dataframe\">\n",
       "  <thead>\n",
       "    <tr style=\"text-align: right;\">\n",
       "      <th></th>\n",
       "      <th>1-HR PHOTO</th>\n",
       "      <th>ACCESSORIES</th>\n",
       "      <th>AUTOMOTIVE</th>\n",
       "      <th>BAKERY</th>\n",
       "      <th>BATH AND SHOWER</th>\n",
       "      <th>BEAUTY</th>\n",
       "      <th>BEDDING</th>\n",
       "      <th>BOOKS AND MAGAZINES</th>\n",
       "      <th>BOYS WEAR</th>\n",
       "      <th>BRAS &amp; SHAPEWEAR</th>\n",
       "      <th>...</th>\n",
       "      <th>1627.0</th>\n",
       "      <th>-1</th>\n",
       "      <th>8191.0</th>\n",
       "      <th>Monday</th>\n",
       "      <th>Tuesday</th>\n",
       "      <th>Wednesday</th>\n",
       "      <th>Thursday</th>\n",
       "      <th>Friday</th>\n",
       "      <th>Saturday</th>\n",
       "      <th>Sunday</th>\n",
       "    </tr>\n",
       "  </thead>\n",
       "  <tbody>\n",
       "    <tr>\n",
       "      <th>15</th>\n",
       "      <td>0</td>\n",
       "      <td>0</td>\n",
       "      <td>0</td>\n",
       "      <td>0</td>\n",
       "      <td>0</td>\n",
       "      <td>0</td>\n",
       "      <td>0</td>\n",
       "      <td>0</td>\n",
       "      <td>0</td>\n",
       "      <td>0</td>\n",
       "      <td>...</td>\n",
       "      <td>0</td>\n",
       "      <td>0</td>\n",
       "      <td>0</td>\n",
       "      <td>0</td>\n",
       "      <td>0</td>\n",
       "      <td>0</td>\n",
       "      <td>0</td>\n",
       "      <td>1</td>\n",
       "      <td>0</td>\n",
       "      <td>0</td>\n",
       "    </tr>\n",
       "    <tr>\n",
       "      <th>16</th>\n",
       "      <td>0</td>\n",
       "      <td>0</td>\n",
       "      <td>0</td>\n",
       "      <td>0</td>\n",
       "      <td>0</td>\n",
       "      <td>0</td>\n",
       "      <td>0</td>\n",
       "      <td>0</td>\n",
       "      <td>0</td>\n",
       "      <td>0</td>\n",
       "      <td>...</td>\n",
       "      <td>0</td>\n",
       "      <td>0</td>\n",
       "      <td>0</td>\n",
       "      <td>0</td>\n",
       "      <td>0</td>\n",
       "      <td>0</td>\n",
       "      <td>0</td>\n",
       "      <td>1</td>\n",
       "      <td>0</td>\n",
       "      <td>0</td>\n",
       "    </tr>\n",
       "    <tr>\n",
       "      <th>18</th>\n",
       "      <td>0</td>\n",
       "      <td>0</td>\n",
       "      <td>0</td>\n",
       "      <td>0</td>\n",
       "      <td>0</td>\n",
       "      <td>0</td>\n",
       "      <td>0</td>\n",
       "      <td>0</td>\n",
       "      <td>0</td>\n",
       "      <td>0</td>\n",
       "      <td>...</td>\n",
       "      <td>0</td>\n",
       "      <td>0</td>\n",
       "      <td>0</td>\n",
       "      <td>0</td>\n",
       "      <td>0</td>\n",
       "      <td>0</td>\n",
       "      <td>0</td>\n",
       "      <td>1</td>\n",
       "      <td>0</td>\n",
       "      <td>0</td>\n",
       "    </tr>\n",
       "    <tr>\n",
       "      <th>22</th>\n",
       "      <td>0</td>\n",
       "      <td>0</td>\n",
       "      <td>0</td>\n",
       "      <td>0</td>\n",
       "      <td>0</td>\n",
       "      <td>0</td>\n",
       "      <td>0</td>\n",
       "      <td>0</td>\n",
       "      <td>0</td>\n",
       "      <td>0</td>\n",
       "      <td>...</td>\n",
       "      <td>0</td>\n",
       "      <td>0</td>\n",
       "      <td>0</td>\n",
       "      <td>0</td>\n",
       "      <td>0</td>\n",
       "      <td>0</td>\n",
       "      <td>0</td>\n",
       "      <td>1</td>\n",
       "      <td>0</td>\n",
       "      <td>0</td>\n",
       "    </tr>\n",
       "    <tr>\n",
       "      <th>27</th>\n",
       "      <td>0</td>\n",
       "      <td>0</td>\n",
       "      <td>0</td>\n",
       "      <td>0</td>\n",
       "      <td>0</td>\n",
       "      <td>0</td>\n",
       "      <td>0</td>\n",
       "      <td>0</td>\n",
       "      <td>0</td>\n",
       "      <td>0</td>\n",
       "      <td>...</td>\n",
       "      <td>0</td>\n",
       "      <td>0</td>\n",
       "      <td>0</td>\n",
       "      <td>0</td>\n",
       "      <td>0</td>\n",
       "      <td>0</td>\n",
       "      <td>0</td>\n",
       "      <td>1</td>\n",
       "      <td>0</td>\n",
       "      <td>0</td>\n",
       "    </tr>\n",
       "  </tbody>\n",
       "</table>\n",
       "<p>5 rows × 5430 columns</p>\n",
       "</div>"
      ],
      "text/plain": [
       "    1-HR PHOTO  ACCESSORIES  AUTOMOTIVE  BAKERY  BATH AND SHOWER  BEAUTY  \\\n",
       "15           0            0           0       0                0       0   \n",
       "16           0            0           0       0                0       0   \n",
       "18           0            0           0       0                0       0   \n",
       "22           0            0           0       0                0       0   \n",
       "27           0            0           0       0                0       0   \n",
       "\n",
       "    BEDDING  BOOKS AND MAGAZINES  BOYS WEAR  BRAS & SHAPEWEAR   ...    1627.0  \\\n",
       "15        0                    0          0                 0   ...         0   \n",
       "16        0                    0          0                 0   ...         0   \n",
       "18        0                    0          0                 0   ...         0   \n",
       "22        0                    0          0                 0   ...         0   \n",
       "27        0                    0          0                 0   ...         0   \n",
       "\n",
       "    -1  8191.0  Monday  Tuesday  Wednesday  Thursday  Friday  Saturday  Sunday  \n",
       "15   0       0       0        0          0         0       1         0       0  \n",
       "16   0       0       0        0          0         0       1         0       0  \n",
       "18   0       0       0        0          0         0       1         0       0  \n",
       "22   0       0       0        0          0         0       1         0       0  \n",
       "27   0       0       0        0          0         0       1         0       0  \n",
       "\n",
       "[5 rows x 5430 columns]"
      ]
     },
     "execution_count": 192,
     "metadata": {},
     "output_type": "execute_result"
    }
   ],
   "source": [
    "X_1.head()"
   ]
  },
  {
   "cell_type": "code",
   "execution_count": 193,
   "metadata": {},
   "outputs": [],
   "source": [
    "X_test, y_test = af.get_df_to_fit(df_to_test)"
   ]
  },
  {
   "cell_type": "code",
   "execution_count": 194,
   "metadata": {},
   "outputs": [
    {
     "data": {
      "text/html": [
       "<div>\n",
       "<style scoped>\n",
       "    .dataframe tbody tr th:only-of-type {\n",
       "        vertical-align: middle;\n",
       "    }\n",
       "\n",
       "    .dataframe tbody tr th {\n",
       "        vertical-align: top;\n",
       "    }\n",
       "\n",
       "    .dataframe thead th {\n",
       "        text-align: right;\n",
       "    }\n",
       "</style>\n",
       "<table border=\"1\" class=\"dataframe\">\n",
       "  <thead>\n",
       "    <tr style=\"text-align: right;\">\n",
       "      <th></th>\n",
       "      <th>1-HR PHOTO</th>\n",
       "      <th>ACCESSORIES</th>\n",
       "      <th>AUTOMOTIVE</th>\n",
       "      <th>BAKERY</th>\n",
       "      <th>BATH AND SHOWER</th>\n",
       "      <th>BEAUTY</th>\n",
       "      <th>BEDDING</th>\n",
       "      <th>BOOKS AND MAGAZINES</th>\n",
       "      <th>BOYS WEAR</th>\n",
       "      <th>BRAS &amp; SHAPEWEAR</th>\n",
       "      <th>...</th>\n",
       "      <th>1627.0</th>\n",
       "      <th>-1</th>\n",
       "      <th>8191.0</th>\n",
       "      <th>Monday</th>\n",
       "      <th>Tuesday</th>\n",
       "      <th>Wednesday</th>\n",
       "      <th>Thursday</th>\n",
       "      <th>Friday</th>\n",
       "      <th>Saturday</th>\n",
       "      <th>Sunday</th>\n",
       "    </tr>\n",
       "  </thead>\n",
       "  <tbody>\n",
       "    <tr>\n",
       "      <th>0</th>\n",
       "      <td>0</td>\n",
       "      <td>0</td>\n",
       "      <td>0</td>\n",
       "      <td>0</td>\n",
       "      <td>0</td>\n",
       "      <td>0</td>\n",
       "      <td>0</td>\n",
       "      <td>0</td>\n",
       "      <td>0</td>\n",
       "      <td>0</td>\n",
       "      <td>...</td>\n",
       "      <td>0</td>\n",
       "      <td>0</td>\n",
       "      <td>0</td>\n",
       "      <td>0</td>\n",
       "      <td>0</td>\n",
       "      <td>0</td>\n",
       "      <td>0</td>\n",
       "      <td>1</td>\n",
       "      <td>0</td>\n",
       "      <td>0</td>\n",
       "    </tr>\n",
       "    <tr>\n",
       "      <th>1</th>\n",
       "      <td>0</td>\n",
       "      <td>0</td>\n",
       "      <td>0</td>\n",
       "      <td>0</td>\n",
       "      <td>0</td>\n",
       "      <td>0</td>\n",
       "      <td>0</td>\n",
       "      <td>0</td>\n",
       "      <td>0</td>\n",
       "      <td>0</td>\n",
       "      <td>...</td>\n",
       "      <td>0</td>\n",
       "      <td>0</td>\n",
       "      <td>0</td>\n",
       "      <td>0</td>\n",
       "      <td>0</td>\n",
       "      <td>0</td>\n",
       "      <td>0</td>\n",
       "      <td>1</td>\n",
       "      <td>0</td>\n",
       "      <td>0</td>\n",
       "    </tr>\n",
       "    <tr>\n",
       "      <th>2</th>\n",
       "      <td>0</td>\n",
       "      <td>0</td>\n",
       "      <td>0</td>\n",
       "      <td>0</td>\n",
       "      <td>0</td>\n",
       "      <td>0</td>\n",
       "      <td>0</td>\n",
       "      <td>0</td>\n",
       "      <td>0</td>\n",
       "      <td>0</td>\n",
       "      <td>...</td>\n",
       "      <td>0</td>\n",
       "      <td>1</td>\n",
       "      <td>0</td>\n",
       "      <td>0</td>\n",
       "      <td>0</td>\n",
       "      <td>0</td>\n",
       "      <td>0</td>\n",
       "      <td>1</td>\n",
       "      <td>0</td>\n",
       "      <td>0</td>\n",
       "    </tr>\n",
       "    <tr>\n",
       "      <th>3</th>\n",
       "      <td>0</td>\n",
       "      <td>0</td>\n",
       "      <td>0</td>\n",
       "      <td>0</td>\n",
       "      <td>0</td>\n",
       "      <td>0</td>\n",
       "      <td>0</td>\n",
       "      <td>0</td>\n",
       "      <td>0</td>\n",
       "      <td>0</td>\n",
       "      <td>...</td>\n",
       "      <td>0</td>\n",
       "      <td>0</td>\n",
       "      <td>0</td>\n",
       "      <td>0</td>\n",
       "      <td>0</td>\n",
       "      <td>0</td>\n",
       "      <td>0</td>\n",
       "      <td>1</td>\n",
       "      <td>0</td>\n",
       "      <td>0</td>\n",
       "    </tr>\n",
       "    <tr>\n",
       "      <th>4</th>\n",
       "      <td>0</td>\n",
       "      <td>0</td>\n",
       "      <td>0</td>\n",
       "      <td>0</td>\n",
       "      <td>0</td>\n",
       "      <td>0</td>\n",
       "      <td>0</td>\n",
       "      <td>0</td>\n",
       "      <td>0</td>\n",
       "      <td>0</td>\n",
       "      <td>...</td>\n",
       "      <td>0</td>\n",
       "      <td>0</td>\n",
       "      <td>0</td>\n",
       "      <td>0</td>\n",
       "      <td>0</td>\n",
       "      <td>0</td>\n",
       "      <td>0</td>\n",
       "      <td>1</td>\n",
       "      <td>0</td>\n",
       "      <td>0</td>\n",
       "    </tr>\n",
       "  </tbody>\n",
       "</table>\n",
       "<p>5 rows × 5430 columns</p>\n",
       "</div>"
      ],
      "text/plain": [
       "   1-HR PHOTO  ACCESSORIES  AUTOMOTIVE  BAKERY  BATH AND SHOWER  BEAUTY  \\\n",
       "0           0            0           0       0                0       0   \n",
       "1           0            0           0       0                0       0   \n",
       "2           0            0           0       0                0       0   \n",
       "3           0            0           0       0                0       0   \n",
       "4           0            0           0       0                0       0   \n",
       "\n",
       "   BEDDING  BOOKS AND MAGAZINES  BOYS WEAR  BRAS & SHAPEWEAR   ...    1627.0  \\\n",
       "0        0                    0          0                 0   ...         0   \n",
       "1        0                    0          0                 0   ...         0   \n",
       "2        0                    0          0                 0   ...         0   \n",
       "3        0                    0          0                 0   ...         0   \n",
       "4        0                    0          0                 0   ...         0   \n",
       "\n",
       "   -1  8191.0  Monday  Tuesday  Wednesday  Thursday  Friday  Saturday  Sunday  \n",
       "0   0       0       0        0          0         0       1         0       0  \n",
       "1   0       0       0        0          0         0       1         0       0  \n",
       "2   1       0       0        0          0         0       1         0       0  \n",
       "3   0       0       0        0          0         0       1         0       0  \n",
       "4   0       0       0        0          0         0       1         0       0  \n",
       "\n",
       "[5 rows x 5430 columns]"
      ]
     },
     "execution_count": 194,
     "metadata": {},
     "output_type": "execute_result"
    }
   ],
   "source": [
    "X_test.head()"
   ]
  },
  {
   "cell_type": "code",
   "execution_count": 195,
   "metadata": {},
   "outputs": [],
   "source": [
    "y_pred = model_feature_1.predict(X_test)"
   ]
  },
  {
   "cell_type": "code",
   "execution_count": 196,
   "metadata": {},
   "outputs": [
    {
     "data": {
      "text/markdown": [
       "##### Accuracy : 0.4634"
      ],
      "text/plain": [
       "<IPython.core.display.Markdown object>"
      ]
     },
     "metadata": {},
     "output_type": "display_data"
    }
   ],
   "source": [
    "af.getAccuracy(y_test, y_pred, len(X_test))"
   ]
  },
  {
   "cell_type": "code",
   "execution_count": null,
   "metadata": {},
   "outputs": [],
   "source": []
  },
  {
   "cell_type": "code",
   "execution_count": 136,
   "metadata": {},
   "outputs": [],
   "source": [
    "submit_2_test = pd.DataFrame(y_pred_test_proba_2, columns = tt_li)"
   ]
  },
  {
   "cell_type": "code",
   "execution_count": 137,
   "metadata": {},
   "outputs": [],
   "source": [
    "submit_2_test[\"VisitNumber\"] = vn_test_fl_more_than_one"
   ]
  },
  {
   "cell_type": "code",
   "execution_count": 138,
   "metadata": {},
   "outputs": [],
   "source": [
    "submit_2_test[\"TripType_14\"] = 0"
   ]
  },
  {
   "cell_type": "code",
   "execution_count": 139,
   "metadata": {},
   "outputs": [],
   "source": [
    "submit_2_test = submit_2_test[submit.columns]"
   ]
  },
  {
   "cell_type": "code",
   "execution_count": null,
   "metadata": {},
   "outputs": [],
   "source": []
  },
  {
   "cell_type": "code",
   "execution_count": 140,
   "metadata": {
    "scrolled": true
   },
   "outputs": [],
   "source": [
    "vn_test_fl_dice = list(df_to_test.VisitNumber.unique())"
   ]
  },
  {
   "cell_type": "code",
   "execution_count": 141,
   "metadata": {},
   "outputs": [
    {
     "data": {
      "text/plain": [
       "45145"
      ]
     },
     "execution_count": 141,
     "metadata": {},
     "output_type": "execute_result"
    }
   ],
   "source": [
    "len(vn_test_fl_dice)"
   ]
  },
  {
   "cell_type": "code",
   "execution_count": null,
   "metadata": {},
   "outputs": [],
   "source": []
  },
  {
   "cell_type": "code",
   "execution_count": 143,
   "metadata": {},
   "outputs": [],
   "source": [
    "submit_3_test = pd.DataFrame(y_pred_test_proba_3, columns = tt_li)"
   ]
  },
  {
   "cell_type": "code",
   "execution_count": 144,
   "metadata": {},
   "outputs": [],
   "source": [
    "submit_3_test[\"VisitNumber\"] = vn_test_fl_dice"
   ]
  },
  {
   "cell_type": "code",
   "execution_count": 145,
   "metadata": {},
   "outputs": [],
   "source": [
    "submit_3_test = submit_3_test[submit.columns]"
   ]
  },
  {
   "cell_type": "code",
   "execution_count": null,
   "metadata": {},
   "outputs": [],
   "source": []
  },
  {
   "cell_type": "code",
   "execution_count": 147,
   "metadata": {},
   "outputs": [],
   "source": [
    "submit_test_all = pd.concat([submit_1_test, submit_2_test, submit_3_test])"
   ]
  },
  {
   "cell_type": "code",
   "execution_count": 148,
   "metadata": {},
   "outputs": [],
   "source": [
    "submit_test_all = submit_test_all.sort_values(\"VisitNumber\")\n",
    "submit_test_all.reset_index(drop=True, inplace=True)"
   ]
  },
  {
   "cell_type": "code",
   "execution_count": 152,
   "metadata": {},
   "outputs": [
    {
     "data": {
      "text/html": [
       "<div>\n",
       "<style scoped>\n",
       "    .dataframe tbody tr th:only-of-type {\n",
       "        vertical-align: middle;\n",
       "    }\n",
       "\n",
       "    .dataframe tbody tr th {\n",
       "        vertical-align: top;\n",
       "    }\n",
       "\n",
       "    .dataframe thead th {\n",
       "        text-align: right;\n",
       "    }\n",
       "</style>\n",
       "<table border=\"1\" class=\"dataframe\">\n",
       "  <thead>\n",
       "    <tr style=\"text-align: right;\">\n",
       "      <th></th>\n",
       "      <th>VisitNumber</th>\n",
       "      <th>TripType_3</th>\n",
       "      <th>TripType_4</th>\n",
       "      <th>TripType_5</th>\n",
       "      <th>TripType_6</th>\n",
       "      <th>TripType_7</th>\n",
       "      <th>TripType_8</th>\n",
       "      <th>TripType_9</th>\n",
       "      <th>TripType_12</th>\n",
       "      <th>TripType_14</th>\n",
       "      <th>...</th>\n",
       "      <th>TripType_36</th>\n",
       "      <th>TripType_37</th>\n",
       "      <th>TripType_38</th>\n",
       "      <th>TripType_39</th>\n",
       "      <th>TripType_40</th>\n",
       "      <th>TripType_41</th>\n",
       "      <th>TripType_42</th>\n",
       "      <th>TripType_43</th>\n",
       "      <th>TripType_44</th>\n",
       "      <th>TripType_999</th>\n",
       "    </tr>\n",
       "  </thead>\n",
       "  <tbody>\n",
       "    <tr>\n",
       "      <th>0</th>\n",
       "      <td>1</td>\n",
       "      <td>1.106492e-50</td>\n",
       "      <td>9.653557e-54</td>\n",
       "      <td>5.636323e-16</td>\n",
       "      <td>9.078964e-24</td>\n",
       "      <td>2.812958e-04</td>\n",
       "      <td>1.979547e-02</td>\n",
       "      <td>1.340561e-15</td>\n",
       "      <td>6.397182e-43</td>\n",
       "      <td>0.000000e+00</td>\n",
       "      <td>...</td>\n",
       "      <td>1.127518e-16</td>\n",
       "      <td>2.911286e-13</td>\n",
       "      <td>0.968618</td>\n",
       "      <td>0.011305</td>\n",
       "      <td>4.639459e-13</td>\n",
       "      <td>7.853481e-35</td>\n",
       "      <td>2.124187e-25</td>\n",
       "      <td>6.522341e-25</td>\n",
       "      <td>2.901157e-23</td>\n",
       "      <td>2.432760e-23</td>\n",
       "    </tr>\n",
       "    <tr>\n",
       "      <th>1</th>\n",
       "      <td>2</td>\n",
       "      <td>3.650732e-48</td>\n",
       "      <td>9.982242e-07</td>\n",
       "      <td>1.871108e-11</td>\n",
       "      <td>2.094947e-29</td>\n",
       "      <td>1.702872e-31</td>\n",
       "      <td>3.806059e-28</td>\n",
       "      <td>2.689917e-18</td>\n",
       "      <td>4.188307e-30</td>\n",
       "      <td>8.873491e-57</td>\n",
       "      <td>...</td>\n",
       "      <td>2.052912e-22</td>\n",
       "      <td>2.514577e-03</td>\n",
       "      <td>0.473402</td>\n",
       "      <td>0.143742</td>\n",
       "      <td>8.879635e-03</td>\n",
       "      <td>1.624739e-19</td>\n",
       "      <td>2.273621e-11</td>\n",
       "      <td>3.045582e-08</td>\n",
       "      <td>3.913261e-13</td>\n",
       "      <td>1.550635e-31</td>\n",
       "    </tr>\n",
       "    <tr>\n",
       "      <th>2</th>\n",
       "      <td>3</td>\n",
       "      <td>1.210754e-03</td>\n",
       "      <td>1.512679e-03</td>\n",
       "      <td>1.532167e-02</td>\n",
       "      <td>5.597487e-03</td>\n",
       "      <td>2.832801e-02</td>\n",
       "      <td>3.347708e-02</td>\n",
       "      <td>2.256775e-02</td>\n",
       "      <td>1.899446e-03</td>\n",
       "      <td>3.817823e-05</td>\n",
       "      <td>...</td>\n",
       "      <td>2.203266e-02</td>\n",
       "      <td>1.146737e-02</td>\n",
       "      <td>0.018215</td>\n",
       "      <td>0.070369</td>\n",
       "      <td>1.989943e-02</td>\n",
       "      <td>3.978709e-03</td>\n",
       "      <td>1.161236e-02</td>\n",
       "      <td>7.972996e-03</td>\n",
       "      <td>6.121550e-03</td>\n",
       "      <td>5.751394e-01</td>\n",
       "    </tr>\n",
       "    <tr>\n",
       "      <th>3</th>\n",
       "      <td>4</td>\n",
       "      <td>1.785875e-04</td>\n",
       "      <td>7.326824e-05</td>\n",
       "      <td>3.609887e-05</td>\n",
       "      <td>1.085832e-04</td>\n",
       "      <td>6.762326e-05</td>\n",
       "      <td>2.699233e-05</td>\n",
       "      <td>7.892577e-01</td>\n",
       "      <td>7.691106e-08</td>\n",
       "      <td>0.000000e+00</td>\n",
       "      <td>...</td>\n",
       "      <td>1.774390e-05</td>\n",
       "      <td>6.892610e-06</td>\n",
       "      <td>0.000006</td>\n",
       "      <td>0.000012</td>\n",
       "      <td>2.456320e-07</td>\n",
       "      <td>9.968076e-08</td>\n",
       "      <td>4.435841e-06</td>\n",
       "      <td>0.000000e+00</td>\n",
       "      <td>0.000000e+00</td>\n",
       "      <td>1.955480e-03</td>\n",
       "    </tr>\n",
       "    <tr>\n",
       "      <th>4</th>\n",
       "      <td>6</td>\n",
       "      <td>1.210754e-03</td>\n",
       "      <td>1.512679e-03</td>\n",
       "      <td>1.532167e-02</td>\n",
       "      <td>5.597487e-03</td>\n",
       "      <td>2.832801e-02</td>\n",
       "      <td>3.347708e-02</td>\n",
       "      <td>2.256775e-02</td>\n",
       "      <td>1.899446e-03</td>\n",
       "      <td>3.817823e-05</td>\n",
       "      <td>...</td>\n",
       "      <td>2.203266e-02</td>\n",
       "      <td>1.146737e-02</td>\n",
       "      <td>0.018215</td>\n",
       "      <td>0.070369</td>\n",
       "      <td>1.989943e-02</td>\n",
       "      <td>3.978709e-03</td>\n",
       "      <td>1.161236e-02</td>\n",
       "      <td>7.972996e-03</td>\n",
       "      <td>6.121550e-03</td>\n",
       "      <td>5.751394e-01</td>\n",
       "    </tr>\n",
       "  </tbody>\n",
       "</table>\n",
       "<p>5 rows × 39 columns</p>\n",
       "</div>"
      ],
      "text/plain": [
       "   VisitNumber    TripType_3    TripType_4    TripType_5    TripType_6  \\\n",
       "0            1  1.106492e-50  9.653557e-54  5.636323e-16  9.078964e-24   \n",
       "1            2  3.650732e-48  9.982242e-07  1.871108e-11  2.094947e-29   \n",
       "2            3  1.210754e-03  1.512679e-03  1.532167e-02  5.597487e-03   \n",
       "3            4  1.785875e-04  7.326824e-05  3.609887e-05  1.085832e-04   \n",
       "4            6  1.210754e-03  1.512679e-03  1.532167e-02  5.597487e-03   \n",
       "\n",
       "     TripType_7    TripType_8    TripType_9   TripType_12   TripType_14  \\\n",
       "0  2.812958e-04  1.979547e-02  1.340561e-15  6.397182e-43  0.000000e+00   \n",
       "1  1.702872e-31  3.806059e-28  2.689917e-18  4.188307e-30  8.873491e-57   \n",
       "2  2.832801e-02  3.347708e-02  2.256775e-02  1.899446e-03  3.817823e-05   \n",
       "3  6.762326e-05  2.699233e-05  7.892577e-01  7.691106e-08  0.000000e+00   \n",
       "4  2.832801e-02  3.347708e-02  2.256775e-02  1.899446e-03  3.817823e-05   \n",
       "\n",
       "       ...        TripType_36   TripType_37  TripType_38  TripType_39  \\\n",
       "0      ...       1.127518e-16  2.911286e-13     0.968618     0.011305   \n",
       "1      ...       2.052912e-22  2.514577e-03     0.473402     0.143742   \n",
       "2      ...       2.203266e-02  1.146737e-02     0.018215     0.070369   \n",
       "3      ...       1.774390e-05  6.892610e-06     0.000006     0.000012   \n",
       "4      ...       2.203266e-02  1.146737e-02     0.018215     0.070369   \n",
       "\n",
       "    TripType_40   TripType_41   TripType_42   TripType_43   TripType_44  \\\n",
       "0  4.639459e-13  7.853481e-35  2.124187e-25  6.522341e-25  2.901157e-23   \n",
       "1  8.879635e-03  1.624739e-19  2.273621e-11  3.045582e-08  3.913261e-13   \n",
       "2  1.989943e-02  3.978709e-03  1.161236e-02  7.972996e-03  6.121550e-03   \n",
       "3  2.456320e-07  9.968076e-08  4.435841e-06  0.000000e+00  0.000000e+00   \n",
       "4  1.989943e-02  3.978709e-03  1.161236e-02  7.972996e-03  6.121550e-03   \n",
       "\n",
       "   TripType_999  \n",
       "0  2.432760e-23  \n",
       "1  1.550635e-31  \n",
       "2  5.751394e-01  \n",
       "3  1.955480e-03  \n",
       "4  5.751394e-01  \n",
       "\n",
       "[5 rows x 39 columns]"
      ]
     },
     "execution_count": 152,
     "metadata": {},
     "output_type": "execute_result"
    }
   ],
   "source": [
    "submit_test_all.head()"
   ]
  },
  {
   "cell_type": "code",
   "execution_count": 153,
   "metadata": {},
   "outputs": [
    {
     "data": {
      "text/html": [
       "<div>\n",
       "<style scoped>\n",
       "    .dataframe tbody tr th:only-of-type {\n",
       "        vertical-align: middle;\n",
       "    }\n",
       "\n",
       "    .dataframe tbody tr th {\n",
       "        vertical-align: top;\n",
       "    }\n",
       "\n",
       "    .dataframe thead th {\n",
       "        text-align: right;\n",
       "    }\n",
       "</style>\n",
       "<table border=\"1\" class=\"dataframe\">\n",
       "  <thead>\n",
       "    <tr style=\"text-align: right;\">\n",
       "      <th></th>\n",
       "      <th>VisitNumber</th>\n",
       "      <th>TripType_3</th>\n",
       "      <th>TripType_4</th>\n",
       "      <th>TripType_5</th>\n",
       "      <th>TripType_6</th>\n",
       "      <th>TripType_7</th>\n",
       "      <th>TripType_8</th>\n",
       "      <th>TripType_9</th>\n",
       "      <th>TripType_12</th>\n",
       "      <th>TripType_14</th>\n",
       "      <th>...</th>\n",
       "      <th>TripType_36</th>\n",
       "      <th>TripType_37</th>\n",
       "      <th>TripType_38</th>\n",
       "      <th>TripType_39</th>\n",
       "      <th>TripType_40</th>\n",
       "      <th>TripType_41</th>\n",
       "      <th>TripType_42</th>\n",
       "      <th>TripType_43</th>\n",
       "      <th>TripType_44</th>\n",
       "      <th>TripType_999</th>\n",
       "    </tr>\n",
       "  </thead>\n",
       "  <tbody>\n",
       "    <tr>\n",
       "      <th>0</th>\n",
       "      <td>1</td>\n",
       "      <td>3.175828e-44</td>\n",
       "      <td>1.002715e-40</td>\n",
       "      <td>2.166095e-13</td>\n",
       "      <td>4.179372e-22</td>\n",
       "      <td>6.724353e-03</td>\n",
       "      <td>1.363274e-01</td>\n",
       "      <td>2.948011e-13</td>\n",
       "      <td>1.035182e-41</td>\n",
       "      <td>0.000000e+00</td>\n",
       "      <td>...</td>\n",
       "      <td>1.666031e-13</td>\n",
       "      <td>2.328031e-12</td>\n",
       "      <td>0.826118</td>\n",
       "      <td>0.030830</td>\n",
       "      <td>1.237613e-12</td>\n",
       "      <td>7.923613e-33</td>\n",
       "      <td>1.815581e-23</td>\n",
       "      <td>3.778327e-23</td>\n",
       "      <td>2.590057e-22</td>\n",
       "      <td>5.927163e-22</td>\n",
       "    </tr>\n",
       "    <tr>\n",
       "      <th>1</th>\n",
       "      <td>2</td>\n",
       "      <td>9.340914e-37</td>\n",
       "      <td>6.497091e-08</td>\n",
       "      <td>1.836845e-11</td>\n",
       "      <td>4.432472e-30</td>\n",
       "      <td>5.931267e-32</td>\n",
       "      <td>8.130657e-30</td>\n",
       "      <td>1.061700e-18</td>\n",
       "      <td>1.666864e-30</td>\n",
       "      <td>1.255418e-36</td>\n",
       "      <td>...</td>\n",
       "      <td>2.480656e-22</td>\n",
       "      <td>3.706382e-03</td>\n",
       "      <td>0.202063</td>\n",
       "      <td>0.026589</td>\n",
       "      <td>9.295111e-03</td>\n",
       "      <td>6.476055e-20</td>\n",
       "      <td>2.154178e-11</td>\n",
       "      <td>5.776768e-09</td>\n",
       "      <td>3.698196e-13</td>\n",
       "      <td>2.854383e-31</td>\n",
       "    </tr>\n",
       "    <tr>\n",
       "      <th>2</th>\n",
       "      <td>3</td>\n",
       "      <td>1.477099e-03</td>\n",
       "      <td>1.905515e-03</td>\n",
       "      <td>1.947489e-02</td>\n",
       "      <td>7.086649e-03</td>\n",
       "      <td>3.607914e-02</td>\n",
       "      <td>3.982477e-02</td>\n",
       "      <td>2.684251e-02</td>\n",
       "      <td>2.461405e-03</td>\n",
       "      <td>5.035697e-05</td>\n",
       "      <td>...</td>\n",
       "      <td>2.841871e-02</td>\n",
       "      <td>1.510282e-02</td>\n",
       "      <td>0.023757</td>\n",
       "      <td>0.091342</td>\n",
       "      <td>2.647738e-02</td>\n",
       "      <td>5.176118e-03</td>\n",
       "      <td>1.514823e-02</td>\n",
       "      <td>1.023443e-02</td>\n",
       "      <td>8.074890e-03</td>\n",
       "      <td>4.568377e-01</td>\n",
       "    </tr>\n",
       "    <tr>\n",
       "      <th>3</th>\n",
       "      <td>4</td>\n",
       "      <td>1.785875e-04</td>\n",
       "      <td>7.326824e-05</td>\n",
       "      <td>3.609887e-05</td>\n",
       "      <td>1.085832e-04</td>\n",
       "      <td>6.762326e-05</td>\n",
       "      <td>2.699233e-05</td>\n",
       "      <td>7.892577e-01</td>\n",
       "      <td>7.691106e-08</td>\n",
       "      <td>0.000000e+00</td>\n",
       "      <td>...</td>\n",
       "      <td>1.774390e-05</td>\n",
       "      <td>6.892610e-06</td>\n",
       "      <td>0.000006</td>\n",
       "      <td>0.000012</td>\n",
       "      <td>2.456320e-07</td>\n",
       "      <td>9.968076e-08</td>\n",
       "      <td>4.435841e-06</td>\n",
       "      <td>0.000000e+00</td>\n",
       "      <td>0.000000e+00</td>\n",
       "      <td>1.955480e-03</td>\n",
       "    </tr>\n",
       "    <tr>\n",
       "      <th>4</th>\n",
       "      <td>6</td>\n",
       "      <td>1.477099e-03</td>\n",
       "      <td>1.905515e-03</td>\n",
       "      <td>1.947489e-02</td>\n",
       "      <td>7.086649e-03</td>\n",
       "      <td>3.607914e-02</td>\n",
       "      <td>3.982477e-02</td>\n",
       "      <td>2.684251e-02</td>\n",
       "      <td>2.461405e-03</td>\n",
       "      <td>5.035697e-05</td>\n",
       "      <td>...</td>\n",
       "      <td>2.841871e-02</td>\n",
       "      <td>1.510282e-02</td>\n",
       "      <td>0.023757</td>\n",
       "      <td>0.091342</td>\n",
       "      <td>2.647738e-02</td>\n",
       "      <td>5.176118e-03</td>\n",
       "      <td>1.514823e-02</td>\n",
       "      <td>1.023443e-02</td>\n",
       "      <td>8.074890e-03</td>\n",
       "      <td>4.568377e-01</td>\n",
       "    </tr>\n",
       "  </tbody>\n",
       "</table>\n",
       "<p>5 rows × 39 columns</p>\n",
       "</div>"
      ],
      "text/plain": [
       "   VisitNumber    TripType_3    TripType_4    TripType_5    TripType_6  \\\n",
       "0            1  3.175828e-44  1.002715e-40  2.166095e-13  4.179372e-22   \n",
       "1            2  9.340914e-37  6.497091e-08  1.836845e-11  4.432472e-30   \n",
       "2            3  1.477099e-03  1.905515e-03  1.947489e-02  7.086649e-03   \n",
       "3            4  1.785875e-04  7.326824e-05  3.609887e-05  1.085832e-04   \n",
       "4            6  1.477099e-03  1.905515e-03  1.947489e-02  7.086649e-03   \n",
       "\n",
       "     TripType_7    TripType_8    TripType_9   TripType_12   TripType_14  \\\n",
       "0  6.724353e-03  1.363274e-01  2.948011e-13  1.035182e-41  0.000000e+00   \n",
       "1  5.931267e-32  8.130657e-30  1.061700e-18  1.666864e-30  1.255418e-36   \n",
       "2  3.607914e-02  3.982477e-02  2.684251e-02  2.461405e-03  5.035697e-05   \n",
       "3  6.762326e-05  2.699233e-05  7.892577e-01  7.691106e-08  0.000000e+00   \n",
       "4  3.607914e-02  3.982477e-02  2.684251e-02  2.461405e-03  5.035697e-05   \n",
       "\n",
       "       ...        TripType_36   TripType_37  TripType_38  TripType_39  \\\n",
       "0      ...       1.666031e-13  2.328031e-12     0.826118     0.030830   \n",
       "1      ...       2.480656e-22  3.706382e-03     0.202063     0.026589   \n",
       "2      ...       2.841871e-02  1.510282e-02     0.023757     0.091342   \n",
       "3      ...       1.774390e-05  6.892610e-06     0.000006     0.000012   \n",
       "4      ...       2.841871e-02  1.510282e-02     0.023757     0.091342   \n",
       "\n",
       "    TripType_40   TripType_41   TripType_42   TripType_43   TripType_44  \\\n",
       "0  1.237613e-12  7.923613e-33  1.815581e-23  3.778327e-23  2.590057e-22   \n",
       "1  9.295111e-03  6.476055e-20  2.154178e-11  5.776768e-09  3.698196e-13   \n",
       "2  2.647738e-02  5.176118e-03  1.514823e-02  1.023443e-02  8.074890e-03   \n",
       "3  2.456320e-07  9.968076e-08  4.435841e-06  0.000000e+00  0.000000e+00   \n",
       "4  2.647738e-02  5.176118e-03  1.514823e-02  1.023443e-02  8.074890e-03   \n",
       "\n",
       "   TripType_999  \n",
       "0  5.927163e-22  \n",
       "1  2.854383e-31  \n",
       "2  4.568377e-01  \n",
       "3  1.955480e-03  \n",
       "4  4.568377e-01  \n",
       "\n",
       "[5 rows x 39 columns]"
      ]
     },
     "execution_count": 153,
     "metadata": {},
     "output_type": "execute_result"
    }
   ],
   "source": [
    "submit_to_check.head()"
   ]
  },
  {
   "cell_type": "code",
   "execution_count": null,
   "metadata": {},
   "outputs": [],
   "source": []
  },
  {
   "cell_type": "code",
   "execution_count": 151,
   "metadata": {},
   "outputs": [],
   "source": [
    "af.saveDataFrameToCsv(submit_test_all, \"submit_test_all_2\")"
   ]
  },
  {
   "cell_type": "code",
   "execution_count": 97,
   "metadata": {},
   "outputs": [],
   "source": [
    "submit_to_check = pd.read_csv(\"Feature_matrix/submit_please_get_great_score_201808080131.csv\")"
   ]
  },
  {
   "cell_type": "code",
   "execution_count": null,
   "metadata": {},
   "outputs": [],
   "source": []
  },
  {
   "cell_type": "code",
   "execution_count": 434,
   "metadata": {},
   "outputs": [],
   "source": [
    "X, y = af.get_df_to_fit(df_train_fl)"
   ]
  },
  {
   "cell_type": "code",
   "execution_count": 436,
   "metadata": {},
   "outputs": [],
   "source": [
    "model_test = fitNaiveBayesModel_smoothing(X, y, 0.0)"
   ]
  },
  {
   "cell_type": "code",
   "execution_count": 437,
   "metadata": {},
   "outputs": [],
   "source": [
    "y_pred = model_test.predict(X)"
   ]
  },
  {
   "cell_type": "code",
   "execution_count": 438,
   "metadata": {},
   "outputs": [
    {
     "data": {
      "text/markdown": [
       "##### Accuracy : 0.6993"
      ],
      "text/plain": [
       "<IPython.core.display.Markdown object>"
      ]
     },
     "metadata": {},
     "output_type": "display_data"
    }
   ],
   "source": [
    "af.getAccuracy(y, y_pred, len(X))"
   ]
  },
  {
   "cell_type": "code",
   "execution_count": 439,
   "metadata": {},
   "outputs": [
    {
     "data": {
      "text/plain": [
       "1.0689111273514562"
      ]
     },
     "execution_count": 439,
     "metadata": {},
     "output_type": "execute_result"
    }
   ],
   "source": [
    "log_loss(y, model_test.predict_proba(X))"
   ]
  },
  {
   "cell_type": "code",
   "execution_count": null,
   "metadata": {},
   "outputs": [],
   "source": []
  },
  {
   "cell_type": "code",
   "execution_count": 429,
   "metadata": {},
   "outputs": [],
   "source": [
    "af.saveDataFrameToCsv(submit_test_all, \"submit_please_get_great_score\")"
   ]
  },
  {
   "cell_type": "code",
   "execution_count": null,
   "metadata": {},
   "outputs": [],
   "source": []
  },
  {
   "cell_type": "code",
   "execution_count": 337,
   "metadata": {},
   "outputs": [],
   "source": [
    "submit_1 = pd.DataFrame(y_pred_proba_1, columns = tt_li)"
   ]
  },
  {
   "cell_type": "code",
   "execution_count": 338,
   "metadata": {},
   "outputs": [],
   "source": [
    "submit_1[\"VisitNumber\"] = vn_fl_one"
   ]
  },
  {
   "cell_type": "code",
   "execution_count": 339,
   "metadata": {},
   "outputs": [],
   "source": [
    "submit_1[\"TripType_14\"] = 0"
   ]
  },
  {
   "cell_type": "code",
   "execution_count": 340,
   "metadata": {},
   "outputs": [],
   "source": [
    "submit_1[\"TripType_43\"] = 0"
   ]
  },
  {
   "cell_type": "code",
   "execution_count": 341,
   "metadata": {},
   "outputs": [],
   "source": [
    "submit_1[\"TripType_44\"] = 0"
   ]
  },
  {
   "cell_type": "code",
   "execution_count": 331,
   "metadata": {},
   "outputs": [],
   "source": [
    "sub_test.drop(\"TripType\", axis =1 , inplace=True)"
   ]
  },
  {
   "cell_type": "code",
   "execution_count": 333,
   "metadata": {},
   "outputs": [],
   "source": [
    "sub_test=sub_test.reset_index()"
   ]
  },
  {
   "cell_type": "code",
   "execution_count": 344,
   "metadata": {},
   "outputs": [],
   "source": [
    "submit_1 = submit_1[sub_test.columns]"
   ]
  },
  {
   "cell_type": "code",
   "execution_count": 347,
   "metadata": {},
   "outputs": [],
   "source": [
    "submit_2 = pd.DataFrame(y_pred_proba_2, columns = tt_li)"
   ]
  },
  {
   "cell_type": "code",
   "execution_count": 348,
   "metadata": {},
   "outputs": [],
   "source": [
    "submit_2[\"TripType_14\"] = 0"
   ]
  },
  {
   "cell_type": "code",
   "execution_count": 349,
   "metadata": {},
   "outputs": [],
   "source": [
    "submit_2[\"VisitNumber\"] = vn_fl_more_than_one"
   ]
  },
  {
   "cell_type": "code",
   "execution_count": 352,
   "metadata": {},
   "outputs": [],
   "source": [
    "submit_2 = submit_2[sub_test.columns]"
   ]
  },
  {
   "cell_type": "code",
   "execution_count": 354,
   "metadata": {},
   "outputs": [],
   "source": [
    "submit_3 = pd.DataFrame(y_pred_proba_3, columns = tt_li)"
   ]
  },
  {
   "cell_type": "code",
   "execution_count": 364,
   "metadata": {},
   "outputs": [],
   "source": [
    "vn_fl_dice = list(df_to_test.VisitNumber.unique())"
   ]
  },
  {
   "cell_type": "code",
   "execution_count": 365,
   "metadata": {},
   "outputs": [],
   "source": [
    "submit_3[\"VisitNumber\"] = vn_fl_dice"
   ]
  },
  {
   "cell_type": "code",
   "execution_count": 367,
   "metadata": {},
   "outputs": [],
   "source": [
    "submit_3 = submit_3[sub_test.columns]"
   ]
  },
  {
   "cell_type": "code",
   "execution_count": 371,
   "metadata": {},
   "outputs": [],
   "source": [
    "submit_all = pd.concat([submit_1, submit_2, submit_3])"
   ]
  },
  {
   "cell_type": "code",
   "execution_count": 373,
   "metadata": {},
   "outputs": [],
   "source": [
    "submit_all = submit_all.sort_values(\"VisitNumber\")"
   ]
  },
  {
   "cell_type": "code",
   "execution_count": 377,
   "metadata": {},
   "outputs": [],
   "source": [
    "submit_all.reset_index(drop=True, inplace=True)"
   ]
  },
  {
   "cell_type": "code",
   "execution_count": 379,
   "metadata": {},
   "outputs": [],
   "source": [
    "submit_all.set_index(\"VisitNumber\", inplace=True)"
   ]
  },
  {
   "cell_type": "code",
   "execution_count": 279,
   "metadata": {},
   "outputs": [
    {
     "data": {
      "text/plain": [
       "array([1.41254359e-06, 5.79517666e-07, 2.85525253e-07, 6.99342921e-06,\n",
       "       5.34868521e-07, 9.51288050e-01, 2.52301732e-07, 6.08330653e-10,\n",
       "       7.52377882e-10, 9.56470393e-08, 1.09051498e-07, 5.89798632e-07,\n",
       "       1.14668745e-07, 9.76530584e-08, 6.54228115e-07, 3.42084355e-07,\n",
       "       3.67567079e-07, 1.02254938e-07, 1.43131129e-07, 1.08304044e-07,\n",
       "       1.80553735e-07, 6.11786011e-08, 5.39045447e-07, 5.89872472e-07,\n",
       "       7.51374501e-08, 5.87045639e-08, 6.14542455e-08, 4.84732605e-02,\n",
       "       1.40345978e-07, 5.45173372e-08, 5.03687637e-08, 9.36357698e-08,\n",
       "       1.94283506e-09, 7.88428341e-10, 3.50854360e-08, 5.71881452e-09,\n",
       "       7.52377882e-10, 2.23956759e-04])"
      ]
     },
     "execution_count": 279,
     "metadata": {},
     "output_type": "execute_result"
    }
   ],
   "source": [
    "sub_test[sub_test.index.isin(vn_fl_one)].values[0]"
   ]
  },
  {
   "cell_type": "code",
   "execution_count": 446,
   "metadata": {},
   "outputs": [],
   "source": [
    "submit_test_all.set_index(\"VisitNumber\", inplace=True)"
   ]
  },
  {
   "cell_type": "code",
   "execution_count": null,
   "metadata": {},
   "outputs": [],
   "source": []
  },
  {
   "cell_type": "code",
   "execution_count": null,
   "metadata": {},
   "outputs": [],
   "source": []
  },
  {
   "cell_type": "code",
   "execution_count": 230,
   "metadata": {},
   "outputs": [
    {
     "name": "stdout",
     "output_type": "stream",
     "text": [
      "1 feature 완료.\n",
      "2 feature 완료.\n",
      "3 feature 완료.\n"
     ]
    }
   ],
   "source": [
    "submit_fl = get_proba_and_set_submission(models, features_test, targets, vns_test, submission)"
   ]
  },
  {
   "cell_type": "code",
   "execution_count": 234,
   "metadata": {},
   "outputs": [],
   "source": [
    "submit_fl = submit_fl.reset_index()"
   ]
  },
  {
   "cell_type": "code",
   "execution_count": 236,
   "metadata": {},
   "outputs": [],
   "source": [
    "af.saveDataFrameToCsv(submit_fl, \"submit_nb_tried_three_features\")"
   ]
  },
  {
   "cell_type": "code",
   "execution_count": 574,
   "metadata": {},
   "outputs": [],
   "source": [
    "import xgboost as xgb\n",
    "from sklearn.model_selection import train_test_split\n",
    "from sklearn.preprocessing import LabelEncoder\n",
    "label_enc = LabelEncoder().fit(y_1)\n",
    "y_labeled = label_enc.transform(y_1)"
   ]
  },
  {
   "cell_type": "code",
   "execution_count": 575,
   "metadata": {},
   "outputs": [],
   "source": [
    "X_train, X_test, y_train, y_test = train_test_split(X_1, y_labeled, random_state=0)"
   ]
  },
  {
   "cell_type": "code",
   "execution_count": 576,
   "metadata": {},
   "outputs": [],
   "source": [
    "dtrain = xgb.DMatrix(X_train.values, label=y_train)\n",
    "dtest = xgb.DMatrix(X_test.values, label=y_test)"
   ]
  },
  {
   "cell_type": "code",
   "execution_count": 578,
   "metadata": {
    "scrolled": true
   },
   "outputs": [
    {
     "name": "stdout",
     "output_type": "stream",
     "text": [
      "[0]\ttrain-mlogloss:2.9518\teval-mlogloss:2.95404\n",
      "Multiple eval metrics have been passed: 'eval-mlogloss' will be used for early stopping.\n",
      "\n",
      "Will train until eval-mlogloss hasn't improved in 10 rounds.\n",
      "[1]\ttrain-mlogloss:2.41875\teval-mlogloss:2.4239\n",
      "[2]\ttrain-mlogloss:1.98923\teval-mlogloss:1.99831\n",
      "[3]\ttrain-mlogloss:1.66572\teval-mlogloss:1.67476\n",
      "[4]\ttrain-mlogloss:1.44663\teval-mlogloss:1.45736\n",
      "[5]\ttrain-mlogloss:1.28503\teval-mlogloss:1.30006\n",
      "[6]\ttrain-mlogloss:1.15639\teval-mlogloss:1.1728\n",
      "[7]\ttrain-mlogloss:1.05341\teval-mlogloss:1.07154\n",
      "[8]\ttrain-mlogloss:0.969075\teval-mlogloss:0.989787\n",
      "[9]\ttrain-mlogloss:0.898572\teval-mlogloss:0.921121\n",
      "[10]\ttrain-mlogloss:0.837392\teval-mlogloss:0.860966\n",
      "[11]\ttrain-mlogloss:0.786237\teval-mlogloss:0.811636\n",
      "[12]\ttrain-mlogloss:0.742256\teval-mlogloss:0.770075\n",
      "[13]\ttrain-mlogloss:0.70336\teval-mlogloss:0.731789\n",
      "[14]\ttrain-mlogloss:0.669246\teval-mlogloss:0.698751\n",
      "[15]\ttrain-mlogloss:0.640082\teval-mlogloss:0.670561\n",
      "[16]\ttrain-mlogloss:0.614212\teval-mlogloss:0.646146\n",
      "[17]\ttrain-mlogloss:0.591239\teval-mlogloss:0.624041\n",
      "[18]\ttrain-mlogloss:0.571267\teval-mlogloss:0.604923\n",
      "[19]\ttrain-mlogloss:0.553593\teval-mlogloss:0.588434\n",
      "[20]\ttrain-mlogloss:0.537525\teval-mlogloss:0.573655\n",
      "[21]\ttrain-mlogloss:0.522723\teval-mlogloss:0.560025\n",
      "[22]\ttrain-mlogloss:0.509676\teval-mlogloss:0.547874\n",
      "[23]\ttrain-mlogloss:0.497836\teval-mlogloss:0.536884\n",
      "[24]\ttrain-mlogloss:0.487092\teval-mlogloss:0.527361\n",
      "[25]\ttrain-mlogloss:0.477106\teval-mlogloss:0.518575\n",
      "[26]\ttrain-mlogloss:0.468192\teval-mlogloss:0.510365\n",
      "[27]\ttrain-mlogloss:0.459905\teval-mlogloss:0.502864\n",
      "[28]\ttrain-mlogloss:0.452138\teval-mlogloss:0.496172\n",
      "[29]\ttrain-mlogloss:0.445165\teval-mlogloss:0.490249\n",
      "[30]\ttrain-mlogloss:0.43885\teval-mlogloss:0.485009\n",
      "[31]\ttrain-mlogloss:0.43296\teval-mlogloss:0.480141\n",
      "[32]\ttrain-mlogloss:0.427477\teval-mlogloss:0.475475\n",
      "[33]\ttrain-mlogloss:0.422408\teval-mlogloss:0.471349\n",
      "[34]\ttrain-mlogloss:0.417722\teval-mlogloss:0.467508\n",
      "[35]\ttrain-mlogloss:0.413166\teval-mlogloss:0.463317\n",
      "[36]\ttrain-mlogloss:0.408886\teval-mlogloss:0.460035\n",
      "[37]\ttrain-mlogloss:0.404968\teval-mlogloss:0.456722\n",
      "[38]\ttrain-mlogloss:0.401069\teval-mlogloss:0.454106\n",
      "[39]\ttrain-mlogloss:0.397364\teval-mlogloss:0.451267\n",
      "[40]\ttrain-mlogloss:0.393921\teval-mlogloss:0.448418\n",
      "[41]\ttrain-mlogloss:0.390645\teval-mlogloss:0.446121\n",
      "[42]\ttrain-mlogloss:0.387473\teval-mlogloss:0.443759\n",
      "[43]\ttrain-mlogloss:0.384214\teval-mlogloss:0.440418\n",
      "[44]\ttrain-mlogloss:0.381328\teval-mlogloss:0.438124\n",
      "[45]\ttrain-mlogloss:0.378519\teval-mlogloss:0.435716\n",
      "[46]\ttrain-mlogloss:0.375979\teval-mlogloss:0.433862\n",
      "[47]\ttrain-mlogloss:0.373578\teval-mlogloss:0.431963\n",
      "[48]\ttrain-mlogloss:0.371227\teval-mlogloss:0.430208\n",
      "[49]\ttrain-mlogloss:0.368903\teval-mlogloss:0.428424\n",
      "[50]\ttrain-mlogloss:0.366637\teval-mlogloss:0.42671\n",
      "[51]\ttrain-mlogloss:0.364595\teval-mlogloss:0.425121\n",
      "[52]\ttrain-mlogloss:0.362595\teval-mlogloss:0.423767\n",
      "[53]\ttrain-mlogloss:0.36071\teval-mlogloss:0.422354\n",
      "[54]\ttrain-mlogloss:0.358817\teval-mlogloss:0.421068\n",
      "[55]\ttrain-mlogloss:0.357065\teval-mlogloss:0.419834\n",
      "[56]\ttrain-mlogloss:0.355237\teval-mlogloss:0.418738\n",
      "[57]\ttrain-mlogloss:0.353634\teval-mlogloss:0.417531\n",
      "[58]\ttrain-mlogloss:0.351811\teval-mlogloss:0.416228\n",
      "[59]\ttrain-mlogloss:0.350239\teval-mlogloss:0.41504\n",
      "[60]\ttrain-mlogloss:0.348601\teval-mlogloss:0.414132\n",
      "[61]\ttrain-mlogloss:0.347105\teval-mlogloss:0.413017\n",
      "[62]\ttrain-mlogloss:0.345609\teval-mlogloss:0.412125\n",
      "[63]\ttrain-mlogloss:0.344173\teval-mlogloss:0.411\n",
      "[64]\ttrain-mlogloss:0.342518\teval-mlogloss:0.410015\n",
      "[65]\ttrain-mlogloss:0.341086\teval-mlogloss:0.409069\n",
      "[66]\ttrain-mlogloss:0.339677\teval-mlogloss:0.408147\n",
      "[67]\ttrain-mlogloss:0.338404\teval-mlogloss:0.407432\n",
      "[68]\ttrain-mlogloss:0.337048\teval-mlogloss:0.406713\n",
      "[69]\ttrain-mlogloss:0.335807\teval-mlogloss:0.405951\n",
      "[70]\ttrain-mlogloss:0.334605\teval-mlogloss:0.405287\n",
      "[71]\ttrain-mlogloss:0.333465\teval-mlogloss:0.404355\n",
      "[72]\ttrain-mlogloss:0.332039\teval-mlogloss:0.403581\n",
      "[73]\ttrain-mlogloss:0.330736\teval-mlogloss:0.402824\n",
      "[74]\ttrain-mlogloss:0.329501\teval-mlogloss:0.401963\n",
      "[75]\ttrain-mlogloss:0.328284\teval-mlogloss:0.40128\n",
      "[76]\ttrain-mlogloss:0.327151\teval-mlogloss:0.400454\n",
      "[77]\ttrain-mlogloss:0.326009\teval-mlogloss:0.399615\n",
      "[78]\ttrain-mlogloss:0.324936\teval-mlogloss:0.398726\n",
      "[79]\ttrain-mlogloss:0.323835\teval-mlogloss:0.39803\n",
      "[80]\ttrain-mlogloss:0.322834\teval-mlogloss:0.397319\n",
      "[81]\ttrain-mlogloss:0.321818\teval-mlogloss:0.396605\n",
      "[82]\ttrain-mlogloss:0.320721\teval-mlogloss:0.395931\n",
      "[83]\ttrain-mlogloss:0.319541\teval-mlogloss:0.39508\n",
      "[84]\ttrain-mlogloss:0.318439\teval-mlogloss:0.394359\n",
      "[85]\ttrain-mlogloss:0.316706\teval-mlogloss:0.393017\n",
      "[86]\ttrain-mlogloss:0.315118\teval-mlogloss:0.391633\n",
      "[87]\ttrain-mlogloss:0.313571\teval-mlogloss:0.390411\n",
      "[88]\ttrain-mlogloss:0.312222\teval-mlogloss:0.389477\n",
      "[89]\ttrain-mlogloss:0.310967\teval-mlogloss:0.388608\n",
      "[90]\ttrain-mlogloss:0.309797\teval-mlogloss:0.387913\n",
      "[91]\ttrain-mlogloss:0.308607\teval-mlogloss:0.387201\n",
      "[92]\ttrain-mlogloss:0.307577\teval-mlogloss:0.386603\n",
      "[93]\ttrain-mlogloss:0.306604\teval-mlogloss:0.386157\n",
      "[94]\ttrain-mlogloss:0.30511\teval-mlogloss:0.385107\n",
      "[95]\ttrain-mlogloss:0.303768\teval-mlogloss:0.3842\n",
      "[96]\ttrain-mlogloss:0.30261\teval-mlogloss:0.383415\n",
      "[97]\ttrain-mlogloss:0.301513\teval-mlogloss:0.382769\n",
      "[98]\ttrain-mlogloss:0.300459\teval-mlogloss:0.382204\n",
      "[99]\ttrain-mlogloss:0.299505\teval-mlogloss:0.381491\n",
      "[100]\ttrain-mlogloss:0.29866\teval-mlogloss:0.380976\n",
      "[101]\ttrain-mlogloss:0.297757\teval-mlogloss:0.380484\n",
      "[102]\ttrain-mlogloss:0.296911\teval-mlogloss:0.379996\n",
      "[103]\ttrain-mlogloss:0.296034\teval-mlogloss:0.379577\n",
      "[104]\ttrain-mlogloss:0.295113\teval-mlogloss:0.378988\n",
      "[105]\ttrain-mlogloss:0.294058\teval-mlogloss:0.378465\n",
      "[106]\ttrain-mlogloss:0.29312\teval-mlogloss:0.377926\n",
      "[107]\ttrain-mlogloss:0.292299\teval-mlogloss:0.377707\n",
      "[108]\ttrain-mlogloss:0.29151\teval-mlogloss:0.377448\n",
      "[109]\ttrain-mlogloss:0.290732\teval-mlogloss:0.377048\n",
      "[110]\ttrain-mlogloss:0.289996\teval-mlogloss:0.376714\n",
      "[111]\ttrain-mlogloss:0.289276\teval-mlogloss:0.376321\n",
      "[112]\ttrain-mlogloss:0.28856\teval-mlogloss:0.375897\n",
      "[113]\ttrain-mlogloss:0.287838\teval-mlogloss:0.3756\n",
      "[114]\ttrain-mlogloss:0.287228\teval-mlogloss:0.375383\n",
      "[115]\ttrain-mlogloss:0.286578\teval-mlogloss:0.374901\n",
      "[116]\ttrain-mlogloss:0.285906\teval-mlogloss:0.37458\n",
      "[117]\ttrain-mlogloss:0.285195\teval-mlogloss:0.374192\n",
      "[118]\ttrain-mlogloss:0.284515\teval-mlogloss:0.373852\n",
      "[119]\ttrain-mlogloss:0.283919\teval-mlogloss:0.373474\n",
      "[120]\ttrain-mlogloss:0.283326\teval-mlogloss:0.373243\n",
      "[121]\ttrain-mlogloss:0.282755\teval-mlogloss:0.373032\n",
      "[122]\ttrain-mlogloss:0.282222\teval-mlogloss:0.372754\n",
      "[123]\ttrain-mlogloss:0.281594\teval-mlogloss:0.372436\n",
      "[124]\ttrain-mlogloss:0.281025\teval-mlogloss:0.372262\n",
      "[125]\ttrain-mlogloss:0.280471\teval-mlogloss:0.371993\n",
      "[126]\ttrain-mlogloss:0.279918\teval-mlogloss:0.371905\n",
      "[127]\ttrain-mlogloss:0.279389\teval-mlogloss:0.371608\n",
      "[128]\ttrain-mlogloss:0.278834\teval-mlogloss:0.371415\n",
      "[129]\ttrain-mlogloss:0.278348\teval-mlogloss:0.371227\n",
      "[130]\ttrain-mlogloss:0.27787\teval-mlogloss:0.370955\n",
      "[131]\ttrain-mlogloss:0.277418\teval-mlogloss:0.370713\n",
      "[132]\ttrain-mlogloss:0.276979\teval-mlogloss:0.370511\n",
      "[133]\ttrain-mlogloss:0.276488\teval-mlogloss:0.370223\n",
      "[134]\ttrain-mlogloss:0.275962\teval-mlogloss:0.369915\n",
      "[135]\ttrain-mlogloss:0.27541\teval-mlogloss:0.369598\n",
      "[136]\ttrain-mlogloss:0.2749\teval-mlogloss:0.369528\n",
      "[137]\ttrain-mlogloss:0.274416\teval-mlogloss:0.369396\n",
      "[138]\ttrain-mlogloss:0.27394\teval-mlogloss:0.369268\n",
      "[139]\ttrain-mlogloss:0.273488\teval-mlogloss:0.369155\n",
      "[140]\ttrain-mlogloss:0.27306\teval-mlogloss:0.368921\n",
      "[141]\ttrain-mlogloss:0.272557\teval-mlogloss:0.368804\n",
      "[142]\ttrain-mlogloss:0.272145\teval-mlogloss:0.368613\n",
      "[143]\ttrain-mlogloss:0.271663\teval-mlogloss:0.368547\n",
      "[144]\ttrain-mlogloss:0.271249\teval-mlogloss:0.368378\n",
      "[145]\ttrain-mlogloss:0.270822\teval-mlogloss:0.368227\n",
      "[146]\ttrain-mlogloss:0.270455\teval-mlogloss:0.368186\n",
      "[147]\ttrain-mlogloss:0.270064\teval-mlogloss:0.368016\n",
      "[148]\ttrain-mlogloss:0.269672\teval-mlogloss:0.368015\n",
      "[149]\ttrain-mlogloss:0.269303\teval-mlogloss:0.367968\n",
      "[150]\ttrain-mlogloss:0.268938\teval-mlogloss:0.367803\n",
      "[151]\ttrain-mlogloss:0.268539\teval-mlogloss:0.367698\n",
      "[152]\ttrain-mlogloss:0.268104\teval-mlogloss:0.367756\n",
      "[153]\ttrain-mlogloss:0.267776\teval-mlogloss:0.367582\n",
      "[154]\ttrain-mlogloss:0.267301\teval-mlogloss:0.367535\n"
     ]
    },
    {
     "name": "stdout",
     "output_type": "stream",
     "text": [
      "[155]\ttrain-mlogloss:0.266862\teval-mlogloss:0.367576\n",
      "[156]\ttrain-mlogloss:0.266475\teval-mlogloss:0.367413\n",
      "[157]\ttrain-mlogloss:0.266077\teval-mlogloss:0.367257\n",
      "[158]\ttrain-mlogloss:0.265656\teval-mlogloss:0.367059\n",
      "[159]\ttrain-mlogloss:0.265275\teval-mlogloss:0.366842\n",
      "[160]\ttrain-mlogloss:0.26489\teval-mlogloss:0.366648\n",
      "[161]\ttrain-mlogloss:0.26444\teval-mlogloss:0.366539\n",
      "[162]\ttrain-mlogloss:0.264052\teval-mlogloss:0.366425\n",
      "[163]\ttrain-mlogloss:0.263638\teval-mlogloss:0.366241\n",
      "[164]\ttrain-mlogloss:0.263185\teval-mlogloss:0.366225\n",
      "[165]\ttrain-mlogloss:0.262759\teval-mlogloss:0.366192\n",
      "[166]\ttrain-mlogloss:0.262383\teval-mlogloss:0.366134\n",
      "[167]\ttrain-mlogloss:0.262007\teval-mlogloss:0.365964\n",
      "[168]\ttrain-mlogloss:0.261601\teval-mlogloss:0.365746\n",
      "[169]\ttrain-mlogloss:0.26112\teval-mlogloss:0.365508\n",
      "[170]\ttrain-mlogloss:0.260762\teval-mlogloss:0.365492\n",
      "[171]\ttrain-mlogloss:0.260425\teval-mlogloss:0.365353\n",
      "[172]\ttrain-mlogloss:0.260108\teval-mlogloss:0.365299\n",
      "[173]\ttrain-mlogloss:0.259741\teval-mlogloss:0.365246\n",
      "[174]\ttrain-mlogloss:0.25942\teval-mlogloss:0.365106\n",
      "[175]\ttrain-mlogloss:0.259037\teval-mlogloss:0.364864\n",
      "[176]\ttrain-mlogloss:0.258655\teval-mlogloss:0.364636\n",
      "[177]\ttrain-mlogloss:0.258271\teval-mlogloss:0.364443\n",
      "[178]\ttrain-mlogloss:0.257832\teval-mlogloss:0.364361\n",
      "[179]\ttrain-mlogloss:0.257508\teval-mlogloss:0.364153\n",
      "[180]\ttrain-mlogloss:0.257197\teval-mlogloss:0.364116\n",
      "[181]\ttrain-mlogloss:0.256887\teval-mlogloss:0.364016\n",
      "[182]\ttrain-mlogloss:0.256517\teval-mlogloss:0.363909\n",
      "[183]\ttrain-mlogloss:0.25619\teval-mlogloss:0.36388\n",
      "[184]\ttrain-mlogloss:0.255847\teval-mlogloss:0.363804\n",
      "[185]\ttrain-mlogloss:0.25549\teval-mlogloss:0.363683\n",
      "[186]\ttrain-mlogloss:0.255178\teval-mlogloss:0.363535\n",
      "[187]\ttrain-mlogloss:0.254881\teval-mlogloss:0.363467\n",
      "[188]\ttrain-mlogloss:0.254563\teval-mlogloss:0.363378\n",
      "[189]\ttrain-mlogloss:0.254212\teval-mlogloss:0.363294\n",
      "[190]\ttrain-mlogloss:0.253769\teval-mlogloss:0.363293\n",
      "[191]\ttrain-mlogloss:0.253465\teval-mlogloss:0.363242\n",
      "[192]\ttrain-mlogloss:0.253041\teval-mlogloss:0.363256\n",
      "[193]\ttrain-mlogloss:0.252773\teval-mlogloss:0.363187\n",
      "[194]\ttrain-mlogloss:0.252502\teval-mlogloss:0.363159\n",
      "[195]\ttrain-mlogloss:0.252205\teval-mlogloss:0.363104\n",
      "[196]\ttrain-mlogloss:0.25196\teval-mlogloss:0.363142\n",
      "[197]\ttrain-mlogloss:0.251695\teval-mlogloss:0.363031\n",
      "[198]\ttrain-mlogloss:0.251445\teval-mlogloss:0.362935\n",
      "[199]\ttrain-mlogloss:0.251207\teval-mlogloss:0.362942\n",
      "[200]\ttrain-mlogloss:0.250965\teval-mlogloss:0.362915\n",
      "[201]\ttrain-mlogloss:0.250701\teval-mlogloss:0.362886\n",
      "[202]\ttrain-mlogloss:0.250422\teval-mlogloss:0.362853\n",
      "[203]\ttrain-mlogloss:0.250187\teval-mlogloss:0.362707\n",
      "[204]\ttrain-mlogloss:0.249956\teval-mlogloss:0.362681\n",
      "[205]\ttrain-mlogloss:0.249693\teval-mlogloss:0.362702\n",
      "[206]\ttrain-mlogloss:0.249412\teval-mlogloss:0.362562\n",
      "[207]\ttrain-mlogloss:0.24914\teval-mlogloss:0.362541\n",
      "[208]\ttrain-mlogloss:0.248886\teval-mlogloss:0.362477\n",
      "[209]\ttrain-mlogloss:0.248634\teval-mlogloss:0.362379\n",
      "[210]\ttrain-mlogloss:0.248401\teval-mlogloss:0.362265\n",
      "[211]\ttrain-mlogloss:0.24814\teval-mlogloss:0.362239\n",
      "[212]\ttrain-mlogloss:0.247864\teval-mlogloss:0.362133\n",
      "[213]\ttrain-mlogloss:0.247582\teval-mlogloss:0.362003\n",
      "[214]\ttrain-mlogloss:0.247297\teval-mlogloss:0.36201\n",
      "[215]\ttrain-mlogloss:0.247056\teval-mlogloss:0.362005\n",
      "[216]\ttrain-mlogloss:0.246834\teval-mlogloss:0.361919\n",
      "[217]\ttrain-mlogloss:0.246603\teval-mlogloss:0.361834\n",
      "[218]\ttrain-mlogloss:0.246371\teval-mlogloss:0.361864\n",
      "[219]\ttrain-mlogloss:0.246165\teval-mlogloss:0.361893\n",
      "[220]\ttrain-mlogloss:0.245847\teval-mlogloss:0.361785\n",
      "[221]\ttrain-mlogloss:0.245544\teval-mlogloss:0.361767\n",
      "[222]\ttrain-mlogloss:0.245299\teval-mlogloss:0.36176\n",
      "[223]\ttrain-mlogloss:0.245075\teval-mlogloss:0.361637\n",
      "[224]\ttrain-mlogloss:0.244833\teval-mlogloss:0.361617\n",
      "[225]\ttrain-mlogloss:0.244595\teval-mlogloss:0.361589\n",
      "[226]\ttrain-mlogloss:0.244389\teval-mlogloss:0.361564\n",
      "[227]\ttrain-mlogloss:0.244115\teval-mlogloss:0.361311\n",
      "[228]\ttrain-mlogloss:0.24387\teval-mlogloss:0.361159\n",
      "[229]\ttrain-mlogloss:0.243628\teval-mlogloss:0.361066\n",
      "[230]\ttrain-mlogloss:0.243393\teval-mlogloss:0.36092\n",
      "[231]\ttrain-mlogloss:0.243133\teval-mlogloss:0.360791\n",
      "[232]\ttrain-mlogloss:0.242928\teval-mlogloss:0.360734\n",
      "[233]\ttrain-mlogloss:0.242722\teval-mlogloss:0.360723\n",
      "[234]\ttrain-mlogloss:0.242479\teval-mlogloss:0.360736\n",
      "[235]\ttrain-mlogloss:0.242225\teval-mlogloss:0.360759\n",
      "[236]\ttrain-mlogloss:0.242\teval-mlogloss:0.360778\n",
      "[237]\ttrain-mlogloss:0.241806\teval-mlogloss:0.360769\n",
      "[238]\ttrain-mlogloss:0.241624\teval-mlogloss:0.360724\n",
      "[239]\ttrain-mlogloss:0.24144\teval-mlogloss:0.360665\n",
      "[240]\ttrain-mlogloss:0.241235\teval-mlogloss:0.360671\n",
      "[241]\ttrain-mlogloss:0.241027\teval-mlogloss:0.360587\n",
      "[242]\ttrain-mlogloss:0.240812\teval-mlogloss:0.360539\n",
      "[243]\ttrain-mlogloss:0.240633\teval-mlogloss:0.360574\n",
      "[244]\ttrain-mlogloss:0.240453\teval-mlogloss:0.360497\n",
      "[245]\ttrain-mlogloss:0.240259\teval-mlogloss:0.360505\n",
      "[246]\ttrain-mlogloss:0.240029\teval-mlogloss:0.360537\n",
      "[247]\ttrain-mlogloss:0.239789\teval-mlogloss:0.360579\n",
      "[248]\ttrain-mlogloss:0.239615\teval-mlogloss:0.360632\n",
      "[249]\ttrain-mlogloss:0.239443\teval-mlogloss:0.360596\n",
      "[250]\ttrain-mlogloss:0.239294\teval-mlogloss:0.360536\n",
      "[251]\ttrain-mlogloss:0.239125\teval-mlogloss:0.36054\n",
      "[252]\ttrain-mlogloss:0.238939\teval-mlogloss:0.360611\n",
      "[253]\ttrain-mlogloss:0.238769\teval-mlogloss:0.360516\n",
      "[254]\ttrain-mlogloss:0.238621\teval-mlogloss:0.360552\n",
      "Stopping. Best iteration:\n",
      "[244]\ttrain-mlogloss:0.240453\teval-mlogloss:0.360497\n",
      "\n"
     ]
    }
   ],
   "source": [
    "num_boost_round = 300\n",
    "params = {'objective': 'multi:softprob', \n",
    "          'eval_metric': 'mlogloss',\n",
    "          'num_class': 35, \n",
    "          'max_delta_step': 3, \n",
    "          'eta': 0.2}\n",
    "\n",
    "evals = [(dtrain, 'train'), (dtest, 'eval')]\n",
    "\n",
    "bst = xgb.train(params=params,  \n",
    "                dtrain=dtrain, \n",
    "                num_boost_round=num_boost_round, \n",
    "                evals=evals,\n",
    "                early_stopping_rounds=10,)"
   ]
  },
  {
   "cell_type": "code",
   "execution_count": null,
   "metadata": {},
   "outputs": [],
   "source": []
  },
  {
   "cell_type": "code",
   "execution_count": 600,
   "metadata": {},
   "outputs": [],
   "source": [
    "af.saveDataFrameToCsv(X_1, \"X_1\")\n",
    "af.saveDataFrameToCsv(y_1, \"y_1\")\n",
    "af.saveDataFrameToCsv(X_2, \"X_2\")\n",
    "af.saveDataFrameToCsv(y_2, \"y_2\")\n",
    "af.saveDataFrameToCsv(X_3, \"X_3\")\n",
    "af.saveDataFrameToCsv(y_3, \"y_3\")"
   ]
  },
  {
   "cell_type": "code",
   "execution_count": 579,
   "metadata": {},
   "outputs": [],
   "source": [
    "label_enc_2 = LabelEncoder().fit(y_2)\n",
    "y_labeled = label_enc_2.transform(y_2)"
   ]
  },
  {
   "cell_type": "code",
   "execution_count": 580,
   "metadata": {},
   "outputs": [],
   "source": [
    "X_train, X_test, y_train, y_test = train_test_split(X_2, y_labeled, random_state=0)"
   ]
  },
  {
   "cell_type": "code",
   "execution_count": 581,
   "metadata": {},
   "outputs": [],
   "source": [
    "dtrain = xgb.DMatrix(X_train.values, label=y_train)\n",
    "dtest = xgb.DMatrix(X_test.values, label=y_test)"
   ]
  },
  {
   "cell_type": "code",
   "execution_count": null,
   "metadata": {},
   "outputs": [],
   "source": [
    "num_boost_round = 50\n",
    "params = {'objective': 'multi:softprob', \n",
    "          'eval_metric': 'mlogloss',\n",
    "          'num_class': 37, \n",
    "          'max_delta_step': 3, \n",
    "          'eta': 0.2}\n",
    "\n",
    "evals = [(dtrain, 'train'), (dtest, 'eval')]\n",
    "\n",
    "bst_2 = xgb.train(params=params,  \n",
    "                dtrain=dtrain, \n",
    "                num_boost_round=num_boost_round, \n",
    "                evals=evals,\n",
    "                early_stopping_rounds=10,)"
   ]
  },
  {
   "cell_type": "code",
   "execution_count": null,
   "metadata": {},
   "outputs": [],
   "source": [
    "label_enc_3 = LabelEncoder().fit(y_3)\n",
    "y_labeled = label_enc_3.transform(y_3)"
   ]
  },
  {
   "cell_type": "code",
   "execution_count": null,
   "metadata": {},
   "outputs": [],
   "source": [
    "X_train, X_test, y_train, y_test = train_test_split(X_3, y_labeled, random_state=0)"
   ]
  },
  {
   "cell_type": "code",
   "execution_count": null,
   "metadata": {},
   "outputs": [],
   "source": [
    "dtrain = xgb.DMatrix(X_train.values, label=y_train)\n",
    "dtest = xgb.DMatrix(X_test.values, label=y_test)"
   ]
  },
  {
   "cell_type": "code",
   "execution_count": null,
   "metadata": {},
   "outputs": [],
   "source": [
    "num_boost_round = 50\n",
    "params = {'objective': 'multi:softprob', \n",
    "          'eval_metric': 'mlogloss',\n",
    "          'num_class': 38, \n",
    "          'max_delta_step': 3, \n",
    "          'eta': 0.2}\n",
    "\n",
    "evals = [(dtrain, 'train'), (dtest, 'eval')]\n",
    "\n",
    "bst_3 = xgb.train(params=params,  \n",
    "                dtrain=dtrain, \n",
    "                num_boost_round=num_boost_round, \n",
    "                evals=evals,\n",
    "                early_stopping_rounds=10,)"
   ]
  },
  {
   "cell_type": "code",
   "execution_count": null,
   "metadata": {},
   "outputs": [],
   "source": []
  },
  {
   "cell_type": "code",
   "execution_count": null,
   "metadata": {},
   "outputs": [],
   "source": []
  },
  {
   "cell_type": "code",
   "execution_count": null,
   "metadata": {},
   "outputs": [],
   "source": []
  },
  {
   "cell_type": "code",
   "execution_count": null,
   "metadata": {},
   "outputs": [],
   "source": []
  },
  {
   "cell_type": "code",
   "execution_count": null,
   "metadata": {},
   "outputs": [],
   "source": []
  }
 ],
 "metadata": {
  "kernelspec": {
   "display_name": "Python 3",
   "language": "python",
   "name": "python3"
  },
  "language_info": {
   "codemirror_mode": {
    "name": "ipython",
    "version": 3
   },
   "file_extension": ".py",
   "mimetype": "text/x-python",
   "name": "python",
   "nbconvert_exporter": "python",
   "pygments_lexer": "ipython3",
   "version": "3.6.5"
  }
 },
 "nbformat": 4,
 "nbformat_minor": 2
}
